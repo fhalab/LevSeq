{
 "cells": [
  {
   "cell_type": "markdown",
   "id": "df343e46-06a3-4a19-987a-46957f0f8bf8",
   "metadata": {},
   "source": [
    "## 1. Load Required Libraries\n",
    "\n",
    "## Ensure the required dependencies are installed\n",
    "\n",
    "1. You need to have samtools installed\n",
    "2. You also need minimap2 installed\n",
    "\n",
    "\n",
    "## Download the test data or use your own\n",
    "\n",
    "We recomend trying this by first using the data that we make available via zenodo (https://zenodo.org/records/13694463). You want to download the fastq.zip file, along with the reference file for that. Put that in a data folder so that the contents are:\n",
    "\n",
    "```\n",
    "20240421-YL-ParLQ-ep1.csv\n",
    "20240422-YL-ParLQ-ep1.fastq\n",
    "```\n"
   ]
  },
  {
   "cell_type": "code",
   "execution_count": 1,
   "id": "9893e36a-f19b-4eaf-a256-2098b66fdf80",
   "metadata": {},
   "source": [
    "! samtools  # This will tell you whether you have samtools installed "
   ],
   "outputs": []
  },
  {
   "cell_type": "code",
   "execution_count": 2,
   "id": "d0500ada-3945-4d8b-86a7-4af909d4203f",
   "metadata": {},
   "source": [
    "! minimap2"
   ],
   "outputs": []
  },
  {
   "cell_type": "code",
   "execution_count": 1,
   "id": "54336455-6adb-4265-b82d-c9db272eb98e",
   "metadata": {},
   "source": [
    "# Load necessary libraries\n",
    "import os\n",
    "import sys\n",
    "import matplotlib.pyplot as plt\n",
    "from pathlib import Path\n",
    "import numpy as np\n",
    "import pandas as pd\n",
    "from importlib import resources\n",
    "import subprocess\n",
    "from Bio import SeqIO\n",
    "import tqdm\n",
    "import re\n",
    "import gzip\n",
    "import shutil\n",
    "\n",
    "# Add the path to the levseq directory to the system path\n",
    "sys.path.append('../levseq')\n",
    "\n",
    "# Import custom functions from the provided script\n",
    "from run_levseq import *\n",
    "result_folder = os.getcwd()"
   ],
   "outputs": []
  },
  {
   "cell_type": "markdown",
   "id": "2b7884ec-a696-49d7-a679-9d69d17ef510",
   "metadata": {},
   "source": [
    "## 2. Define Run Location\n",
    "We'll specify the location of the sequencing run data. This is also within the same directory structure.\n"
   ]
  },
  {
   "cell_type": "code",
   "execution_count": 2,
   "id": "4209f47a-7fd8-44b2-8830-2fc10ff58b75",
   "metadata": {},
   "source": [
    "os.getcwd()"
   ],
   "outputs": []
  },
  {
   "cell_type": "code",
   "execution_count": 3,
   "id": "56933987-025c-422b-94e8-351160becd22",
   "metadata": {},
   "source": [
    "# Define the path to the run data\n",
    "# This is where you downloaded that data to (i.e. where you put the concatenated fastq files)\n",
    "run_location = '../zenodo_download/'\n",
    "\n",
    "# This is the full path to the reference file.\n",
    "ref_df = pd.read_csv('../zenodo_download/20240421-YL-ParLQ-ep1.csv')\n",
    "variant_csv_path = 'OutputExample.csv'\n",
    "name = 'Test-ep1'"
   ],
   "outputs": []
  },
  {
   "cell_type": "markdown",
   "id": "cf314147-9da0-4370-b144-40a4231c60be",
   "metadata": {},
   "source": [
    "## 3. Demultiplexing and variant calling\n",
    "Demultiplexing is the process of separating out individual samples from a multiplexed sequencing run. We'll use the `demux_fastq` function from the custom script to perform this step.\n"
   ]
  },
  {
   "cell_type": "code",
   "execution_count": 4,
   "id": "9a746d61-945a-49f3-b7d1-076adfd19916",
   "metadata": {
    "scrolled": true
   },
   "source": [
    "# Create empty variant df\n",
    "result_folder = os.path.join(result_folder, name)\n",
    "variant_df = pd.DataFrame(columns=[\"barcode_plate\", \"name\", \"refseq\", \"variant\"])\n",
    "\n",
    "for i, row in ref_df.iterrows():\n",
    "    barcode_plate = row[\"barcode_plate\"]\n",
    "    name = row[\"name\"]\n",
    "    refseq = row[\"refseq\"].upper()\n",
    "\n",
    "    # Create a subfolder for the current iteration using the name value\n",
    "    name_folder = os.path.join(result_folder, name)\n",
    "    os.makedirs(name_folder, exist_ok=True)\n",
    "\n",
    "    # Write the refseq to a temporary fasta file\n",
    "    temp_fasta_path = os.path.join(name_folder, f\"temp_{name}.fasta\")\n",
    "    with open(temp_fasta_path, \"w\") as f:\n",
    "        f.write(f\">{name}\\n{refseq}\\n\")\n",
    "    # Create filtered barcode path\n",
    "    f_min = 1\n",
    "    f_max = 96\n",
    "    rbc = i+1\n",
    "    front_prefix = \"NB\"\n",
    "    back_prefix = \"RB\"\n",
    "    barcode_path = \"../levseq/barcoding/minion_barcodes.fasta\"\n",
    "    barcode_path_filter = os.path.join(name_folder, \"minion_barcodes_filtered.fasta\")\n",
    "    filter_barcodes(\n",
    "        barcode_path,\n",
    "        barcode_path_filter,\n",
    "        (f_min, f_max),\n",
    "        rbc,\n",
    "        front_prefix,\n",
    "        back_prefix,)\n",
    "    \n",
    "    # Perform demultiplexing\n",
    "    demux_fastq(run_location, name_folder, barcode_path_filter)\n",
    "    \n",
    "    variant_result = call_variant(f\"{name}\", name_folder, temp_fasta_path, barcode_path_filter)\n",
    "    variant_result[\"barcode_plate\"] = barcode_plate\n",
    "    variant_result[\"name\"] = name\n",
    "    variant_result[\"refseq\"] = refseq\n",
    "    variant_df = pd.concat([variant_df, variant_result])\n",
    "variant_df.to_csv(variant_csv_path, index=False)"
   ],
   "outputs": []
  },
  {
   "cell_type": "markdown",
   "id": "6fcffbfd-9019-4c20-8dcd-5a5685a8d0bb",
   "metadata": {},
   "source": [
    "## 4. Create variant and visualization csv files"
   ]
  },
  {
   "cell_type": "code",
   "execution_count": 13,
   "id": "5075bcb6-f2bd-4fa2-a4fe-04474e0ad688",
   "metadata": {},
   "source": [
    "variant_df"
   ],
   "outputs": []
  },
  {
   "cell_type": "markdown",
   "id": "8cd47f02-182f-4861-b40e-1756a2eb97e3",
   "metadata": {},
   "source": [
    "## 5. Visualization\n",
    "Finally, we'll visualize the results using appropriate visualization functions. This step helps in understanding the distribution and impact of the identified variants."
   ]
  },
  {
   "cell_type": "code",
   "execution_count": 16,
   "id": "8c5a369f-140f-4f00-9ee7-d572be059a5d",
   "metadata": {},
   "source": [
    "df_variants, df_vis = create_df_v(variant_df)\n",
    "layout = generate_platemaps(\n",
    "            max_combo_data=df_vis,\n",
    "            result_folder=result_folder,)   \n",
    "layout"
   ],
   "outputs": []
  },
  {
   "cell_type": "code",
   "execution_count": 19,
   "id": "adf72f25-c623-4d8d-9097-f57b2c37ff51",
   "metadata": {},
   "source": [
    "layout"
   ],
   "outputs": []
  },
  {
   "cell_type": "markdown",
   "id": "6d8050b5-66fb-4c8a-b5d2-3b8eb6fc8355",
   "metadata": {},
   "source": [
    "## 6. Upload to LevSeq website\n",
    "\n",
    "Hold tight, this will be deployed in 1 day :D \n"
   ]
  }
 ],
 "metadata": {
  "kernelspec": {
   "display_name": "Python 3 (ipykernel)",
   "language": "python",
   "name": "python3"
  },
  "language_info": {
   "codemirror_mode": {
    "name": "ipython",
    "version": 3
   },
   "file_extension": ".py",
   "mimetype": "text/x-python",
   "name": "python",
   "nbconvert_exporter": "python",
   "pygments_lexer": "ipython3",
   "version": "3.8.19"
  }
 },
 "nbformat": 4,
 "nbformat_minor": 5
}
