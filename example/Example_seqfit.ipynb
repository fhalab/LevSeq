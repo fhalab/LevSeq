{
 "cells": [
  {
   "cell_type": "code",
   "execution_count": null,
   "metadata": {},
   "outputs": [],
   "source": [
    "%cd ~/LevSeq"
   ]
  },
  {
   "cell_type": "code",
   "execution_count": null,
   "metadata": {},
   "outputs": [],
   "source": [
    "%load_ext autoreload\n",
    "%autoreload 2\n",
    "%load_ext blackcellmagic"
   ]
  },
  {
   "cell_type": "code",
   "execution_count": null,
   "metadata": {},
   "outputs": [],
   "source": [
    "import sys\n",
    "sys.version"
   ]
  },
  {
   "cell_type": "markdown",
   "metadata": {},
   "source": [
    "## Preprocess data"
   ]
  },
  {
   "cell_type": "code",
   "execution_count": null,
   "metadata": {},
   "outputs": [],
   "source": [
    "from levseq.seqfit import process_plate_files, gen_seqfitvis"
   ]
  },
  {
   "cell_type": "code",
   "execution_count": null,
   "metadata": {},
   "outputs": [],
   "source": [
    "# process the seq and fit to merge the two files\n",
    "processed_plate_df, seqfit_path = process_plate_files(\n",
    "    products=[\"pdt\"], seq_csv=\"tests/seqfit/HMC0225_HMC0226.csv\"\n",
    ")"
   ]
  },
  {
   "cell_type": "markdown",
   "metadata": {},
   "source": [
    "## Perform statistical analysis"
   ]
  },
  {
   "cell_type": "code",
   "execution_count": null,
   "metadata": {},
   "outputs": [],
   "source": [
    "from levseq.seqfit import normalise_calculate_stats, calculate_mutation_combinations\n",
    "\n",
    "parent = \"#PARENT#\"\n",
    "value_columns = [\"pdt\"]\n",
    "normalise = \"standard\"  # one of parent, standard, minmax, none\n",
    "stats_method = \"mannwhitneyu\"\n",
    "\n",
    "stats_df = normalise_calculate_stats(\n",
    "    processed_plate_df,\n",
    "    value_columns,\n",
    "    normalise=\"standard\",\n",
    "    stats_method=\"mannwhitneyu\",\n",
    "    parent_label=\"#PARENT#\",\n",
    ")\n",
    "stats_df = stats_df.sort_values(by=\"amount greater than parent mean\", ascending=False)\n",
    "stats_df.to_csv(\"stats.csv\", index=False)"
   ]
  },
  {
   "cell_type": "code",
   "execution_count": null,
   "metadata": {},
   "outputs": [],
   "source": [
    "stats_df"
   ]
  },
  {
   "cell_type": "code",
   "execution_count": null,
   "metadata": {},
   "outputs": [],
   "source": [
    "mutation_df = calculate_mutation_combinations(stats_df)"
   ]
  },
  {
   "cell_type": "code",
   "execution_count": null,
   "metadata": {},
   "outputs": [],
   "source": [
    "mutation_df"
   ]
  },
  {
   "cell_type": "markdown",
   "metadata": {},
   "source": [
    "## Calculate the embeddings space of the variants"
   ]
  },
  {
   "cell_type": "code",
   "execution_count": null,
   "metadata": {},
   "outputs": [],
   "source": [
    "from levseq.seqfit import append_xy\n",
    "\n",
    "append_xy(products=[\"pdt\"], input_file=seqfit_path, batch_size=32)"
   ]
  },
  {
   "cell_type": "markdown",
   "metadata": {},
   "source": [
    "## Visualize "
   ]
  },
  {
   "cell_type": "code",
   "execution_count": null,
   "metadata": {},
   "outputs": [],
   "source": [
    "gen_seqfitvis(seqfit_path=seqfit_path, products=[\"pdt\"])"
   ]
  },
  {
   "cell_type": "markdown",
   "metadata": {},
   "source": [
    "## Perform variant analysis"
   ]
  },
  {
   "cell_type": "code",
   "execution_count": null,
   "metadata": {},
   "outputs": [],
   "source": [
    "amino_acid_to_codon = {\n",
    "    \"A\": \"GCT\",\n",
    "    \"R\": \"CGT\",\n",
    "    \"N\": \"AAT\",\n",
    "    \"D\": \"GAT\",\n",
    "    \"C\": \"TGT\",\n",
    "    \"Q\": \"CAA\",\n",
    "    \"E\": \"GAA\",\n",
    "    \"G\": \"GGT\",\n",
    "    \"H\": \"CAT\",\n",
    "    \"I\": \"ATT\",\n",
    "    \"L\": \"CTT\",\n",
    "    \"K\": \"AAA\",\n",
    "    \"M\": \"ATG\",\n",
    "    \"F\": \"TTT\",\n",
    "    \"P\": \"CCT\",\n",
    "    \"S\": \"TCT\",\n",
    "    \"T\": \"ACT\",\n",
    "    \"W\": \"TGG\",\n",
    "    \"Y\": \"TAT\",\n",
    "    \"V\": \"GTT\",\n",
    "    \"*\": \"TAA\",\n",
    "}\n",
    "\n",
    "aas = list(amino_acid_to_codon.keys())\n",
    "from levseq.utils import *\n",
    "from sklearn.preprocessing import OneHotEncoder\n",
    "\n",
    "\n",
    "seqs = []\n",
    "one_hots_nc = []\n",
    "one_hots_aa = []\n",
    "# Initialize OneHotEncoder\n",
    "encoder = OneHotEncoder()\n",
    "encoder.fit(np.array([\"A\", \"T\", \"G\", \"C\", \"-\", \"*\"]).reshape(-1, 1))\n",
    "\n",
    "encoder_aa = OneHotEncoder()\n",
    "encoder_aa.fit(np.array(aas).reshape(-1, 1))\n",
    "\n",
    "for nc in processed_plate_df[\"nt_sequence\"].values:\n",
    "    if nc != \"Deletion\":\n",
    "        seq = translate(nc)\n",
    "        one_hot_encoded = encoder.transform(np.array(list(nc)).reshape(-1, 1))\n",
    "        one_hot_encoded_array = one_hot_encoded.toarray().flatten()\n",
    "        one_hots_nc.append(one_hot_encoded_array)\n",
    "\n",
    "        one_hot_encoded = encoder_aa.transform(np.array(list(seq)).reshape(-1, 1))\n",
    "        one_hot_encoded_array = one_hot_encoded.toarray().flatten()\n",
    "        one_hots_aa.append(one_hot_encoded_array)\n",
    "    else:\n",
    "        print(\"Deletion\")"
   ]
  },
  {
   "cell_type": "code",
   "execution_count": null,
   "metadata": {},
   "outputs": [],
   "source": [
    "from sklearn.decomposition import PCA\n",
    "import matplotlib.pyplot as plt\n",
    "import seaborn as sns\n",
    "\n",
    "pca = PCA(n_components=20)\n",
    "X = np.array(one_hots_nc)\n",
    "pca = pca.fit(X)\n",
    "pcs = pca.transform(X)\n",
    "\n",
    "non_deletions_df = processed_plate_df[processed_plate_df[\"nt_sequence\"] != \"Deletion\"]\n",
    "non_deletions_df[\"PC 1\"] = pcs[:, 0]\n",
    "non_deletions_df[\"PC 2\"] = pcs[:, 1]\n",
    "\n",
    "sns.scatterplot(non_deletions_df, x=\"PC 1\", y=\"PC 2\", hue=\"pdt\")"
   ]
  },
  {
   "cell_type": "code",
   "execution_count": null,
   "metadata": {},
   "outputs": [],
   "source": [
    "PC_values = np.arange(pca.n_components_) + 1\n",
    "plt.plot(\n",
    "    PC_values, (pca.explained_variance_ratio_ * 100), \"o-\", linewidth=2, color=\"blue\"\n",
    ")\n",
    "plt.title(\"Scree Plot\")\n",
    "plt.xlabel(\"Principal Component\")\n",
    "plt.ylabel(\"Variance Explained\")\n",
    "plt.show()"
   ]
  },
  {
   "cell_type": "code",
   "execution_count": null,
   "metadata": {},
   "outputs": [],
   "source": []
  },
  {
   "cell_type": "code",
   "execution_count": null,
   "metadata": {},
   "outputs": [],
   "source": []
  }
 ],
 "metadata": {
  "kernelspec": {
   "display_name": "LevSeq",
   "language": "python",
   "name": "python3"
  },
  "language_info": {
   "codemirror_mode": {
    "name": "ipython",
    "version": 3
   },
   "file_extension": ".py",
   "mimetype": "text/x-python",
   "name": "python",
   "nbconvert_exporter": "python",
   "pygments_lexer": "ipython3",
   "version": "3.10.15"
  }
 },
 "nbformat": 4,
 "nbformat_minor": 4
}
