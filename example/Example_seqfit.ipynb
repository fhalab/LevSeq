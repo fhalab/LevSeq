{
 "cells": [
  {
   "cell_type": "code",
   "execution_count": null,
   "metadata": {},
   "source": [
    "%cd ~/LevSeq"
   ],
   "outputs": []
  },
  {
   "cell_type": "code",
   "execution_count": null,
   "metadata": {},
   "source": [
    "! pwd"
   ],
   "outputs": []
  },
  {
   "cell_type": "code",
   "execution_count": null,
   "metadata": {},
   "source": [
    "%load_ext autoreload\n",
    "%autoreload 2"
   ],
   "outputs": []
  },
  {
   "cell_type": "code",
   "execution_count": null,
   "metadata": {},
   "source": [
    "import sys\n",
    "sys.version"
   ],
   "outputs": []
  },
  {
   "cell_type": "code",
   "execution_count": null,
   "metadata": {},
   "source": [
    "! pip install biopandas"
   ],
   "outputs": []
  },
  {
   "cell_type": "code",
   "execution_count": null,
   "metadata": {},
   "source": [
    "from levseq.seqfit import process_plate_files, gen_seqfitvis\n"
   ],
   "outputs": []
  },
  {
   "cell_type": "code",
   "execution_count": null,
   "metadata": {},
   "source": [
    "# process the seq and fit to merge the two files\n",
    "processed_plate_df, seqfit_path = process_plate_files(product=[\"pdt\"], input_csv=\"/Users/arianemora/Documents/code/MinION/example/HMC0225_HMC0226.csv\")"
   ],
   "outputs": []
  },
  {
   "cell_type": "code",
   "execution_count": null,
   "metadata": {},
   "source": [
    "gen_seqfitvis(seqfit_path=seqfit_path)"
   ],
   "outputs": []
  },
  {
   "cell_type": "code",
   "execution_count": null,
   "metadata": {},
   "source": [
    "processed_plate_df"
   ],
   "outputs": []
  },
  {
   "cell_type": "code",
   "execution_count": null,
   "metadata": {},
   "source": [
    "from levseq.seqfit import normalise_calculate_stats, calculate_mutation_combinations\n",
    "\n",
    "parent = '#PARENT#'\n",
    "value_columns = ['pdt']\n",
    "normalise = 'standard' # one of parent, standard, minmax, none\n",
    "stats_method = 'mannwhitneyu'\n",
    "\n",
    "stats_df = normalise_calculate_stats(processed_plate_df, value_columns, normalise='standard', stats_method='mannwhitneyu', parent_label='#PARENT#')\n",
    "stats_df = stats_df.sort_values(by='amount greater than parent mean', ascending=False)\n",
    "stats_df.to_csv('stats.csv', index=False)"
   ],
   "outputs": []
  },
  {
   "cell_type": "code",
   "execution_count": null,
   "metadata": {},
   "source": [
    "stats_df"
   ],
   "outputs": []
  },
  {
   "cell_type": "code",
   "execution_count": null,
   "metadata": {},
   "source": [
    "! pip install xlsxwriter"
   ],
   "outputs": []
  },
  {
   "cell_type": "code",
   "execution_count": null,
   "metadata": {},
   "source": [
    "mutation_df = calculate_mutation_combinations(stats_df)"
   ],
   "outputs": []
  },
  {
   "cell_type": "code",
   "execution_count": null,
   "metadata": {},
   "source": [
    "mutation_df"
   ],
   "outputs": []
  },
  {
   "cell_type": "code",
   "execution_count": null,
   "metadata": {},
   "source": [
    "amino_acid_to_codon = {\n",
    "    'A': 'GCT', 'R': 'CGT', 'N': 'AAT', 'D': 'GAT', 'C': 'TGT',\n",
    "    'Q': 'CAA', 'E': 'GAA', 'G': 'GGT', 'H': 'CAT', 'I': 'ATT',\n",
    "    'L': 'CTT', 'K': 'AAA', 'M': 'ATG', 'F': 'TTT', 'P': 'CCT',\n",
    "    'S': 'TCT', 'T': 'ACT', 'W': 'TGG', 'Y': 'TAT', 'V': 'GTT',\n",
    "    '*': 'TAA'\n",
    "}\n",
    "\n",
    "aas = list(amino_acid_to_codon.keys())\n",
    "from levseq.utils import *\n",
    "from sklearn.preprocessing import OneHotEncoder\n",
    "\n",
    "\n",
    "seqs = []\n",
    "one_hots_nc = []\n",
    "one_hots_aa = []\n",
    "# Initialize OneHotEncoder\n",
    "encoder = OneHotEncoder()\n",
    "encoder.fit(np.array(['A', 'T', 'G', 'C', '-', '*']).reshape(-1, 1))\n",
    "\n",
    "encoder_aa = OneHotEncoder()\n",
    "encoder_aa.fit(np.array(aas).reshape(-1, 1))\n",
    "\n",
    "for nc in processed_plate_df['nc_variant'].values:\n",
    "    if nc  != 'Deletion':\n",
    "        seq = translate(nc)\n",
    "        one_hot_encoded = encoder.transform(np.array(list(nc)).reshape(-1, 1))\n",
    "        one_hot_encoded_array = one_hot_encoded.toarray().flatten()\n",
    "        one_hots_nc.append(one_hot_encoded_array)\n",
    "    \n",
    "        one_hot_encoded = encoder_aa.transform(np.array(list(seq)).reshape(-1, 1))\n",
    "        one_hot_encoded_array = one_hot_encoded.toarray().flatten()\n",
    "        one_hots_aa.append(one_hot_encoded_array)\n",
    "    else:\n",
    "        print('Deletion')\n"
   ],
   "outputs": []
  },
  {
   "cell_type": "code",
   "execution_count": null,
   "metadata": {},
   "source": [
    "processed_plate_df"
   ],
   "outputs": []
  },
  {
   "cell_type": "code",
   "execution_count": null,
   "metadata": {},
   "source": [
    "from sklearn.decomposition import PCA\n",
    "import matplotlib.pyplot as plt\n",
    "import seaborn as sns\n",
    "pca = PCA(n_components=20)\n",
    "X = np.array(one_hots_nc)\n",
    "pca = pca.fit(X)\n",
    "pcs = pca.transform(X)\n",
    "\n",
    "non_deletions_df = processed_plate_df[processed_plate_df['nc_variant'] != 'Deletion']\n",
    "non_deletions_df['PC 1'] = pcs[:, 0]\n",
    "non_deletions_df['PC 2'] = pcs[:, 1]\n",
    "\n",
    "sns.scatterplot(non_deletions_df, x='PC 1', y='PC 2', hue='pdt')"
   ],
   "outputs": []
  },
  {
   "cell_type": "code",
   "execution_count": null,
   "metadata": {},
   "source": [
    "PC_values = np.arange(pca.n_components_) + 1\n",
    "plt.plot(PC_values, (pca.explained_variance_ratio_*100), 'o-', linewidth=2, color='blue')\n",
    "plt.title('Scree Plot')\n",
    "plt.xlabel('Principal Component')\n",
    "plt.ylabel('Variance Explained')\n",
    "plt.show()"
   ],
   "outputs": []
  },
  {
   "cell_type": "code",
   "execution_count": null,
   "metadata": {},
   "source": [],
   "outputs": []
  },
  {
   "cell_type": "code",
   "execution_count": null,
   "metadata": {},
   "source": [],
   "outputs": []
  },
  {
   "cell_type": "code",
   "execution_count": null,
   "metadata": {},
   "source": [],
   "outputs": []
  }
 ],
 "metadata": {
  "kernelspec": {
   "display_name": "Python 3 (ipykernel)",
   "language": "python",
   "name": "python3"
  },
  "language_info": {
   "codemirror_mode": {
    "name": "ipython",
    "version": 3
   },
   "file_extension": ".py",
   "mimetype": "text/x-python",
   "name": "python",
   "nbconvert_exporter": "python",
   "pygments_lexer": "ipython3",
   "version": "3.10.15"
  }
 },
 "nbformat": 4,
 "nbformat_minor": 4
}
