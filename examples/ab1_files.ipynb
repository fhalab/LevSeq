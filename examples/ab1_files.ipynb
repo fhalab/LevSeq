{
 "cells": [
  {
   "cell_type": "code",
   "execution_count": 5,
   "metadata": {},
   "outputs": [
    {
     "ename": "ImportError",
     "evalue": "cannot import name 'pairwise2' from 'Bio.Align' (/home/emre/miniconda3/envs/minion/lib/python3.9/site-packages/Bio/Align/__init__.py)",
     "output_type": "error",
     "traceback": [
      "\u001b[0;31m---------------------------------------------------------------------------\u001b[0m",
      "\u001b[0;31mImportError\u001b[0m                               Traceback (most recent call last)",
      "\u001b[1;32m/home/emre/github_repo/MinION/examples/ab1_files.ipynb Cell 1\u001b[0m line \u001b[0;36m2\n\u001b[1;32m      <a href='vscode-notebook-cell://ssh-remote%2B131.215.228.108/home/emre/github_repo/MinION/examples/ab1_files.ipynb#W0sdnNjb2RlLXJlbW90ZQ%3D%3D?line=0'>1</a>\u001b[0m \u001b[39mfrom\u001b[39;00m \u001b[39mBio\u001b[39;00m \u001b[39mimport\u001b[39;00m SeqIO\n\u001b[0;32m----> <a href='vscode-notebook-cell://ssh-remote%2B131.215.228.108/home/emre/github_repo/MinION/examples/ab1_files.ipynb#W0sdnNjb2RlLXJlbW90ZQ%3D%3D?line=1'>2</a>\u001b[0m \u001b[39mfrom\u001b[39;00m \u001b[39mBio\u001b[39;00m\u001b[39m.\u001b[39;00m\u001b[39mAlign\u001b[39;00m \u001b[39mimport\u001b[39;00m pairwise2\n\u001b[1;32m      <a href='vscode-notebook-cell://ssh-remote%2B131.215.228.108/home/emre/github_repo/MinION/examples/ab1_files.ipynb#W0sdnNjb2RlLXJlbW90ZQ%3D%3D?line=2'>3</a>\u001b[0m \u001b[39mimport\u001b[39;00m \u001b[39mnumpy\u001b[39;00m \u001b[39mas\u001b[39;00m \u001b[39mnp\u001b[39;00m\n\u001b[1;32m      <a href='vscode-notebook-cell://ssh-remote%2B131.215.228.108/home/emre/github_repo/MinION/examples/ab1_files.ipynb#W0sdnNjb2RlLXJlbW90ZQ%3D%3D?line=4'>5</a>\u001b[0m \u001b[39mdef\u001b[39;00m \u001b[39malign_ab1\u001b[39m(input_file, reference_file):\n",
      "\u001b[0;31mImportError\u001b[0m: cannot import name 'pairwise2' from 'Bio.Align' (/home/emre/miniconda3/envs/minion/lib/python3.9/site-packages/Bio/Align/__init__.py)"
     ]
    }
   ],
   "source": [
    "from Bio import SeqIO\n",
    "from Bio.Align import pairwise\n",
    "import numpy as np\n",
    "\n",
    "def align_ab1(input_file, reference_file):\n",
    "    \"\"\"\n",
    "    Aligns the sequence from an AB1 file (from position 0 to 750) to a reference sequence,\n",
    "    and calls the variants based on the positions from the reference.\n",
    "\n",
    "    :param input_file: Path to the input AB1 file\n",
    "    :param reference_file: Path to the reference sequence file in FASTA format\n",
    "    \"\"\"\n",
    "    try:\n",
    "        # Read the AB1 file\n",
    "        record = SeqIO.read(input_file, \"abi\")\n",
    "        ab1_seq = record.seq[:750]\n",
    "\n",
    "        # Read the reference file\n",
    "        reference = SeqIO.read(reference_file, \"fasta\")\n",
    "        ref_seq = reference.seq\n",
    "\n",
    "        # Align the AB1 sequence to the reference\n",
    "        alignments = pairwise2.align.globalms(ab1_seq, ref_seq, 2, -1, -0.5, -0.1)\n",
    "        if not alignments:\n",
    "            print(\"No alignment found.\")\n",
    "            return\n",
    "        \n",
    "        # Take the best alignment\n",
    "        alignment = alignments[0]\n",
    "        aligned_seq, aligned_ref, start, end = alignment[0], alignment[1], alignment[3], alignment[4]\n",
    "\n",
    "        # Find the variants\n",
    "        variants = []\n",
    "        ref_pos = start\n",
    "        for seq_char, ref_char in zip(aligned_seq, aligned_ref):\n",
    "            if seq_char != ref_char:\n",
    "                variant = f\"{ref_char}{ref_pos + 1}{seq_char}\"\n",
    "                variants.append(variant)\n",
    "            if ref_char != '-':\n",
    "                ref_pos += 1\n",
    "\n",
    "        # Format and print the result\n",
    "        result = \"_\".join(variants)\n",
    "        print(result if result else \"No variants found.\")\n",
    "\n",
    "    except Exception as e:\n",
    "        print(f\"An error occurred: {str(e)}\")\n",
    "\n",
    "if __name__ == \"__main__\":\n",
    "    align_ab1(\"input.ab1\", \"reference.fasta\")\n"
   ]
  },
  {
   "cell_type": "code",
   "execution_count": 4,
   "metadata": {},
   "outputs": [
    {
     "name": "stdout",
     "output_type": "stream",
     "text": [
      "An error occurred: Reading format 'abi' is supported, but not writing\n"
     ]
    }
   ],
   "source": [
    "trim_ab1(\"/home/emre/Sanger_sequences/Row_A_trace-Oct24-11-23-39/A10_T7.ab1\", output_file=\"/home/emre/trimmed.ab1\", n_positions=250)\n"
   ]
  },
  {
   "cell_type": "code",
   "execution_count": null,
   "metadata": {},
   "outputs": [],
   "source": []
  },
  {
   "cell_type": "code",
   "execution_count": null,
   "metadata": {},
   "outputs": [],
   "source": []
  }
 ],
 "metadata": {
  "kernelspec": {
   "display_name": "minion",
   "language": "python",
   "name": "python3"
  },
  "language_info": {
   "codemirror_mode": {
    "name": "ipython",
    "version": 3
   },
   "file_extension": ".py",
   "mimetype": "text/x-python",
   "name": "python",
   "nbconvert_exporter": "python",
   "pygments_lexer": "ipython3",
   "version": "3.9.18"
  }
 },
 "nbformat": 4,
 "nbformat_minor": 2
}
