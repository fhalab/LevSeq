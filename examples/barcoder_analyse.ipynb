{
 "cells": [
  {
   "cell_type": "code",
   "execution_count": 11,
   "metadata": {},
   "outputs": [
    {
     "data": {
      "text/plain": [
       "<module 'minION.util.IO_processor' from '/home/emre/github_repo/MinION/minION/util/IO_processor.py'>"
      ]
     },
     "execution_count": 11,
     "metadata": {},
     "output_type": "execute_result"
    }
   ],
   "source": [
    "# Analyze barcoder\n",
    "\n",
    "import pandas as pd\n",
    "import numpy as np\n",
    "from matplotlib import pyplot as plt\n",
    "from Bio import SeqIO\n",
    "import gzip\n",
    "import os\n",
    "import time\n",
    "import glob\n",
    "from concurrent.futures import ProcessPoolExecutor\n",
    "import pickle\n",
    "import sys\n",
    "sys.path.append('/home/emre/github_repo/MinION')\n",
    "from minION.util import IO_processor\n",
    "from minION.util.globals import DEFAULT_TARGETS\n",
    "from pathlib import Path\n",
    "import concurrent.futures\n",
    "\n",
    "import importlib as imp \n",
    "imp.reload(IO_processor)\n"
   ]
  },
  {
   "cell_type": "code",
   "execution_count": 12,
   "metadata": {},
   "outputs": [],
   "source": [
    "result_folder = \"/home/emre/minION_results/MinION_RBC_0902723_sup\"\n",
    "\n",
    "experiment_folder = IO_processor.find_experiment_folder(\"Masked_3RBC-Minion\")\n",
    "\n",
    "file_path = IO_processor.find_experiment_files(experiment_folder, [\"fastq_pass\"])\n",
    "\n",
    "files = IO_processor.extract_files_from_folder(Path(file_path))"
   ]
  },
  {
   "cell_type": "code",
   "execution_count": null,
   "metadata": {},
   "outputs": [],
   "source": [
    "# for i,file in enumerate(files):\n",
    "#     IO_processor.filter_fastq_by_length(result_folder, input_fastq=file, min_length=850, max_length=950, ind=i)\n",
    "\n",
    "# Make it parallel with ThreadPoolExecutor\n",
    "\n",
    "# with concurrent.futures.ThreadPoolExecutor(max_workers=16) as executor:\n",
    "#     executor.map(IO_processor.filter_fastq_by_length, [result_folder]*len(files), files, [850]*len(files), [950]*len(files), range(len(files)))"
   ]
  },
  {
   "cell_type": "code",
   "execution_count": null,
   "metadata": {},
   "outputs": [],
   "source": [
    "# for key, value in DEFAULT_TARGETS.items():\n",
    "#     file_path = IO_processor.find_experiment_files(experiment_folder, value)\n"
   ]
  },
  {
   "cell_type": "code",
   "execution_count": 13,
   "metadata": {},
   "outputs": [],
   "source": [
    "def process_gzip_files(filename):\n",
    "    \n",
    "    # Open the gzip-compressed FASTQ file for reading\n",
    "    with gzip.open(filename, 'rt') as handle:\n",
    "        for record in SeqIO.parse(handle, \"fastq\"):\n",
    "            # Access various attributes of the FASTQ record\n",
    "            print(\"ID:\", record.id)\n",
    "            print(\"Sequence:\", record.seq)\n",
    "            print(\"Quality Scores:\", record.letter_annotations[\"phred_quality\"])\n",
    "            print(\"\\n-----\\n\")\n",
    "\n",
    "\n",
    "def filter_single_chunk(records, min_length, max_length):\n",
    "    \"\"\"Filter a chunk of FASTQ records based on length.\"\"\"\n",
    "    return [record for record in records if min_length <= len(record.seq) <= max_length]\n",
    "\n",
    "def filter_sequences(filename, min_length=650, max_length=1000, output_file=\"filtered_sequences.fastq.gz\", n_workers=4):\n",
    "    \"\"\"Filter basecalled sequences based on length in parallel.\n",
    "    \n",
    "    Args:\n",
    "        filename (str): .fastq.gz file name\n",
    "        min_length (int): minimum length of sequence\n",
    "        max_length (int): maximum length of sequence\n",
    "        output_file (str): output file name for filtered sequences\n",
    "        n_workers (int): number of processes for parallel processing\n",
    "\n",
    "    Returns:\n",
    "        str: Fastq file name with filtered sequences\n",
    "    \"\"\"\n",
    "    \n",
    "    # Break records into chunks for parallel processing\n",
    "    chunk_size = 1000  # You can adjust this value based on your requirements\n",
    "    all_records = []\n",
    "    with gzip.open(filename, 'rt') as handle:\n",
    "        all_records = list(SeqIO.parse(handle, \"fastq\"))\n",
    "    chunks = [all_records[i:i + chunk_size] for i in range(0, len(all_records), chunk_size)]\n",
    "    \n",
    "    filtered_records = []\n",
    "    \n",
    "    # Parallel processing of chunks\n",
    "    with ProcessPoolExecutor(max_workers=n_workers) as executor:\n",
    "        futures = [executor.submit(filter_single_chunk, chunk, min_length, max_length) for chunk in chunks]\n",
    "        for future in futures:\n",
    "            filtered_records.extend(future.result())\n",
    "\n",
    "    # Write filtered sequences to the output file\n",
    "    with open(output_file, 'wt') as output_handle:\n",
    "        SeqIO.write(filtered_records, output_handle, \"fastq\")\n",
    "\n",
    "    return output_file\n",
    "\n",
    "def get_seq_dist(filename):\n",
    "    \"\"\"\n",
    "    Get Sequence distribution of .fastq files of the experiment\n",
    "\n",
    "    Args:\n",
    "        filename (str): .fastq file name\n",
    "    \n",
    "    Returns:\n",
    "        seq_dist (list): list of length of each sequence\n",
    "    \"\"\"\n",
    "    \n",
    "    seq_dist = []\n",
    "    with gzip.open(filename, 'rt') as handle:\n",
    "        for record in SeqIO.parse(handle, \"fastq\"):\n",
    "            seq_dist.append(len(record.seq))\n",
    "    return seq_dist\n"
   ]
  },
  {
   "cell_type": "code",
   "execution_count": null,
   "metadata": {},
   "outputs": [],
   "source": [
    "files[0]"
   ]
  },
  {
   "cell_type": "code",
   "execution_count": 14,
   "metadata": {},
   "outputs": [],
   "source": [
    "result_folder = \"/home/emre/minION_results\"\n",
    "experiment_folder = \"MinION_RBC_0902723_sup\""
   ]
  },
  {
   "cell_type": "code",
   "execution_count": 16,
   "metadata": {},
   "outputs": [
    {
     "ename": "FileNotFoundError",
     "evalue": "[Errno 2] No such file or directory: '/home/emre/minION_results/MinION_RBC_0902723_sup/basecalled.fastq.gz'",
     "output_type": "error",
     "traceback": [
      "\u001b[0;31m---------------------------------------------------------------------------\u001b[0m",
      "\u001b[0;31mFileNotFoundError\u001b[0m                         Traceback (most recent call last)",
      "\u001b[1;32m/home/emre/github_repo/MinION/examples/barcoder_analyse.ipynb Cell 8\u001b[0m line \u001b[0;36m5\n\u001b[1;32m      <a href='vscode-notebook-cell://ssh-remote%2B131.215.228.108/home/emre/github_repo/MinION/examples/barcoder_analyse.ipynb#X11sdnNjb2RlLXJlbW90ZQ%3D%3D?line=1'>2</a>\u001b[0m filename \u001b[39m=\u001b[39m os\u001b[39m.\u001b[39mpath\u001b[39m.\u001b[39mjoin(result_folder, experiment_folder, \u001b[39m\"\u001b[39m\u001b[39mbasecalled.fastq.gz\u001b[39m\u001b[39m\"\u001b[39m)\n\u001b[1;32m      <a href='vscode-notebook-cell://ssh-remote%2B131.215.228.108/home/emre/github_repo/MinION/examples/barcoder_analyse.ipynb#X11sdnNjb2RlLXJlbW90ZQ%3D%3D?line=2'>3</a>\u001b[0m output_file \u001b[39m=\u001b[39m os\u001b[39m.\u001b[39mpath\u001b[39m.\u001b[39mjoin(result_folder, experiment_folder, \u001b[39m\"\u001b[39m\u001b[39mbasecalled.fastq\u001b[39m\u001b[39m\"\u001b[39m)\n\u001b[0;32m----> <a href='vscode-notebook-cell://ssh-remote%2B131.215.228.108/home/emre/github_repo/MinION/examples/barcoder_analyse.ipynb#X11sdnNjb2RlLXJlbW90ZQ%3D%3D?line=4'>5</a>\u001b[0m filtered_sequences \u001b[39m=\u001b[39m filter_sequences(filename\u001b[39m=\u001b[39;49mfilename, min_length\u001b[39m=\u001b[39;49m\u001b[39m650\u001b[39;49m, max_length\u001b[39m=\u001b[39;49m\u001b[39m1000\u001b[39;49m, output_file\u001b[39m=\u001b[39;49moutput_file, n_workers\u001b[39m=\u001b[39;49m\u001b[39m8\u001b[39;49m)\n",
      "\u001b[1;32m/home/emre/github_repo/MinION/examples/barcoder_analyse.ipynb Cell 8\u001b[0m line \u001b[0;36m3\n\u001b[1;32m     <a href='vscode-notebook-cell://ssh-remote%2B131.215.228.108/home/emre/github_repo/MinION/examples/barcoder_analyse.ipynb#X11sdnNjb2RlLXJlbW90ZQ%3D%3D?line=31'>32</a>\u001b[0m chunk_size \u001b[39m=\u001b[39m \u001b[39m1000\u001b[39m  \u001b[39m# You can adjust this value based on your requirements\u001b[39;00m\n\u001b[1;32m     <a href='vscode-notebook-cell://ssh-remote%2B131.215.228.108/home/emre/github_repo/MinION/examples/barcoder_analyse.ipynb#X11sdnNjb2RlLXJlbW90ZQ%3D%3D?line=32'>33</a>\u001b[0m all_records \u001b[39m=\u001b[39m []\n\u001b[0;32m---> <a href='vscode-notebook-cell://ssh-remote%2B131.215.228.108/home/emre/github_repo/MinION/examples/barcoder_analyse.ipynb#X11sdnNjb2RlLXJlbW90ZQ%3D%3D?line=33'>34</a>\u001b[0m \u001b[39mwith\u001b[39;00m gzip\u001b[39m.\u001b[39;49mopen(filename, \u001b[39m'\u001b[39;49m\u001b[39mrt\u001b[39;49m\u001b[39m'\u001b[39;49m) \u001b[39mas\u001b[39;00m handle:\n\u001b[1;32m     <a href='vscode-notebook-cell://ssh-remote%2B131.215.228.108/home/emre/github_repo/MinION/examples/barcoder_analyse.ipynb#X11sdnNjb2RlLXJlbW90ZQ%3D%3D?line=34'>35</a>\u001b[0m     all_records \u001b[39m=\u001b[39m \u001b[39mlist\u001b[39m(SeqIO\u001b[39m.\u001b[39mparse(handle, \u001b[39m\"\u001b[39m\u001b[39mfastq\u001b[39m\u001b[39m\"\u001b[39m))\n\u001b[1;32m     <a href='vscode-notebook-cell://ssh-remote%2B131.215.228.108/home/emre/github_repo/MinION/examples/barcoder_analyse.ipynb#X11sdnNjb2RlLXJlbW90ZQ%3D%3D?line=35'>36</a>\u001b[0m chunks \u001b[39m=\u001b[39m [all_records[i:i \u001b[39m+\u001b[39m chunk_size] \u001b[39mfor\u001b[39;00m i \u001b[39min\u001b[39;00m \u001b[39mrange\u001b[39m(\u001b[39m0\u001b[39m, \u001b[39mlen\u001b[39m(all_records), chunk_size)]\n",
      "File \u001b[0;32m~/miniconda3/envs/minion/lib/python3.9/gzip.py:58\u001b[0m, in \u001b[0;36mopen\u001b[0;34m(filename, mode, compresslevel, encoding, errors, newline)\u001b[0m\n\u001b[1;32m     56\u001b[0m gz_mode \u001b[39m=\u001b[39m mode\u001b[39m.\u001b[39mreplace(\u001b[39m\"\u001b[39m\u001b[39mt\u001b[39m\u001b[39m\"\u001b[39m, \u001b[39m\"\u001b[39m\u001b[39m\"\u001b[39m)\n\u001b[1;32m     57\u001b[0m \u001b[39mif\u001b[39;00m \u001b[39misinstance\u001b[39m(filename, (\u001b[39mstr\u001b[39m, \u001b[39mbytes\u001b[39m, os\u001b[39m.\u001b[39mPathLike)):\n\u001b[0;32m---> 58\u001b[0m     binary_file \u001b[39m=\u001b[39m GzipFile(filename, gz_mode, compresslevel)\n\u001b[1;32m     59\u001b[0m \u001b[39melif\u001b[39;00m \u001b[39mhasattr\u001b[39m(filename, \u001b[39m\"\u001b[39m\u001b[39mread\u001b[39m\u001b[39m\"\u001b[39m) \u001b[39mor\u001b[39;00m \u001b[39mhasattr\u001b[39m(filename, \u001b[39m\"\u001b[39m\u001b[39mwrite\u001b[39m\u001b[39m\"\u001b[39m):\n\u001b[1;32m     60\u001b[0m     binary_file \u001b[39m=\u001b[39m GzipFile(\u001b[39mNone\u001b[39;00m, gz_mode, compresslevel, filename)\n",
      "File \u001b[0;32m~/miniconda3/envs/minion/lib/python3.9/gzip.py:173\u001b[0m, in \u001b[0;36mGzipFile.__init__\u001b[0;34m(self, filename, mode, compresslevel, fileobj, mtime)\u001b[0m\n\u001b[1;32m    171\u001b[0m     mode \u001b[39m+\u001b[39m\u001b[39m=\u001b[39m \u001b[39m'\u001b[39m\u001b[39mb\u001b[39m\u001b[39m'\u001b[39m\n\u001b[1;32m    172\u001b[0m \u001b[39mif\u001b[39;00m fileobj \u001b[39mis\u001b[39;00m \u001b[39mNone\u001b[39;00m:\n\u001b[0;32m--> 173\u001b[0m     fileobj \u001b[39m=\u001b[39m \u001b[39mself\u001b[39m\u001b[39m.\u001b[39mmyfileobj \u001b[39m=\u001b[39m builtins\u001b[39m.\u001b[39;49mopen(filename, mode \u001b[39mor\u001b[39;49;00m \u001b[39m'\u001b[39;49m\u001b[39mrb\u001b[39;49m\u001b[39m'\u001b[39;49m)\n\u001b[1;32m    174\u001b[0m \u001b[39mif\u001b[39;00m filename \u001b[39mis\u001b[39;00m \u001b[39mNone\u001b[39;00m:\n\u001b[1;32m    175\u001b[0m     filename \u001b[39m=\u001b[39m \u001b[39mgetattr\u001b[39m(fileobj, \u001b[39m'\u001b[39m\u001b[39mname\u001b[39m\u001b[39m'\u001b[39m, \u001b[39m'\u001b[39m\u001b[39m'\u001b[39m)\n",
      "\u001b[0;31mFileNotFoundError\u001b[0m: [Errno 2] No such file or directory: '/home/emre/minION_results/MinION_RBC_0902723_sup/basecalled.fastq.gz'"
     ]
    }
   ],
   "source": [
    "# Filter sequences based on length\n",
    "filename = os.path.join(result_folder, experiment_folder, \"basecalled.fastq.gz\")\n",
    "output_file = os.path.join(result_folder, experiment_folder, \"basecalled.fastq\")\n",
    "\n",
    "filtered_sequences = filter_sequences(filename=filename, min_length=650, max_length=1000, output_file=output_file, n_workers=8)"
   ]
  },
  {
   "cell_type": "code",
   "execution_count": null,
   "metadata": {},
   "outputs": [],
   "source": [
    "path = \"/var/lib/minknow/data/Masked_3RBC-Minion/1/20230926_1648_MN41105_FAX47927_8a712363/fastq_pass/\"\n",
    "\n",
    "files = glob.glob(path + '*.fastq.gz')\n",
    "\n",
    "# filename = os.path.join(path, 'FAX47927_pass_8a712363_32e989f2_1347.fastq.gz')"
   ]
  },
  {
   "cell_type": "code",
   "execution_count": null,
   "metadata": {},
   "outputs": [],
   "source": [
    "print(\"\\\"Barcode\\\"\")"
   ]
  },
  {
   "cell_type": "code",
   "execution_count": 15,
   "metadata": {},
   "outputs": [
    {
     "ename": "FileNotFoundError",
     "evalue": "[Errno 2] No such file or directory: '/home/emre/minION_results/MinION_RBC_0902723_sup/basecalled/basecalled.fastq'",
     "output_type": "error",
     "traceback": [
      "\u001b[0;31m---------------------------------------------------------------------------\u001b[0m",
      "\u001b[0;31mFileNotFoundError\u001b[0m                         Traceback (most recent call last)",
      "\u001b[1;32m/home/emre/github_repo/MinION/examples/barcoder_analyse.ipynb Cell 11\u001b[0m line \u001b[0;36m2\n\u001b[1;32m      <a href='vscode-notebook-cell://ssh-remote%2B131.215.228.108/home/emre/github_repo/MinION/examples/barcoder_analyse.ipynb#X14sdnNjb2RlLXJlbW90ZQ%3D%3D?line=0'>1</a>\u001b[0m \u001b[39m# Open fastq\u001b[39;00m\n\u001b[0;32m----> <a href='vscode-notebook-cell://ssh-remote%2B131.215.228.108/home/emre/github_repo/MinION/examples/barcoder_analyse.ipynb#X14sdnNjb2RlLXJlbW90ZQ%3D%3D?line=1'>2</a>\u001b[0m \u001b[39mwith\u001b[39;00m \u001b[39mopen\u001b[39;49m(\u001b[39m\"\u001b[39;49m\u001b[39m/home/emre/minION_results/MinION_RBC_0902723_sup/basecalled/basecalled.fastq\u001b[39;49m\u001b[39m\"\u001b[39;49m) \u001b[39mas\u001b[39;00m fastq_file:\n\u001b[1;32m      <a href='vscode-notebook-cell://ssh-remote%2B131.215.228.108/home/emre/github_repo/MinION/examples/barcoder_analyse.ipynb#X14sdnNjb2RlLXJlbW90ZQ%3D%3D?line=2'>3</a>\u001b[0m     fastq \u001b[39m=\u001b[39m SeqIO\u001b[39m.\u001b[39mparse(fastq_file, \u001b[39m\"\u001b[39m\u001b[39mfastq\u001b[39m\u001b[39m\"\u001b[39m)\n\u001b[1;32m      <a href='vscode-notebook-cell://ssh-remote%2B131.215.228.108/home/emre/github_repo/MinION/examples/barcoder_analyse.ipynb#X14sdnNjb2RlLXJlbW90ZQ%3D%3D?line=3'>4</a>\u001b[0m     fastq_list \u001b[39m=\u001b[39m \u001b[39mlist\u001b[39m(fastq)\n",
      "File \u001b[0;32m~/miniconda3/envs/minion/lib/python3.9/site-packages/IPython/core/interactiveshell.py:286\u001b[0m, in \u001b[0;36m_modified_open\u001b[0;34m(file, *args, **kwargs)\u001b[0m\n\u001b[1;32m    279\u001b[0m \u001b[39mif\u001b[39;00m file \u001b[39min\u001b[39;00m {\u001b[39m0\u001b[39m, \u001b[39m1\u001b[39m, \u001b[39m2\u001b[39m}:\n\u001b[1;32m    280\u001b[0m     \u001b[39mraise\u001b[39;00m \u001b[39mValueError\u001b[39;00m(\n\u001b[1;32m    281\u001b[0m         \u001b[39mf\u001b[39m\u001b[39m\"\u001b[39m\u001b[39mIPython won\u001b[39m\u001b[39m'\u001b[39m\u001b[39mt let you open fd=\u001b[39m\u001b[39m{\u001b[39;00mfile\u001b[39m}\u001b[39;00m\u001b[39m by default \u001b[39m\u001b[39m\"\u001b[39m\n\u001b[1;32m    282\u001b[0m         \u001b[39m\"\u001b[39m\u001b[39mas it is likely to crash IPython. If you know what you are doing, \u001b[39m\u001b[39m\"\u001b[39m\n\u001b[1;32m    283\u001b[0m         \u001b[39m\"\u001b[39m\u001b[39myou can use builtins\u001b[39m\u001b[39m'\u001b[39m\u001b[39m open.\u001b[39m\u001b[39m\"\u001b[39m\n\u001b[1;32m    284\u001b[0m     )\n\u001b[0;32m--> 286\u001b[0m \u001b[39mreturn\u001b[39;00m io_open(file, \u001b[39m*\u001b[39;49margs, \u001b[39m*\u001b[39;49m\u001b[39m*\u001b[39;49mkwargs)\n",
      "\u001b[0;31mFileNotFoundError\u001b[0m: [Errno 2] No such file or directory: '/home/emre/minION_results/MinION_RBC_0902723_sup/basecalled/basecalled.fastq'"
     ]
    }
   ],
   "source": [
    "# Open fastq\n",
    "with open(\"/home/emre/minION_results/MinION_RBC_0902723_sup/basecalled/basecalled.fastq\") as fastq_file:\n",
    "    fastq = SeqIO.parse(fastq_file, \"fastq\")\n",
    "    fastq_list = list(fastq)\n",
    "\n",
    "# with open(\"/home/emre/minION_results/20230905_errorprone-3_test_sup/basecalled/basecalled.fastq\") as fastq_file:\n",
    "#     fastq = SeqIO.parse(fastq_file, \"fastq\")\n",
    "#     fastq_list2 = list(fastq)"
   ]
  },
  {
   "cell_type": "code",
   "execution_count": 8,
   "metadata": {},
   "outputs": [
    {
     "ename": "NameError",
     "evalue": "name 'fastq_list' is not defined",
     "output_type": "error",
     "traceback": [
      "\u001b[0;31m---------------------------------------------------------------------------\u001b[0m",
      "\u001b[0;31mNameError\u001b[0m                                 Traceback (most recent call last)",
      "\u001b[1;32m/home/emre/github_repo/MinION/examples/barcoder_analyse.ipynb Cell 13\u001b[0m line \u001b[0;36m3\n\u001b[1;32m      <a href='vscode-notebook-cell://ssh-remote%2B131.215.228.108/home/emre/github_repo/MinION/examples/barcoder_analyse.ipynb#X15sdnNjb2RlLXJlbW90ZQ%3D%3D?line=0'>1</a>\u001b[0m \u001b[39m# Get Sequence length of each read\u001b[39;00m\n\u001b[1;32m      <a href='vscode-notebook-cell://ssh-remote%2B131.215.228.108/home/emre/github_repo/MinION/examples/barcoder_analyse.ipynb#X15sdnNjb2RlLXJlbW90ZQ%3D%3D?line=1'>2</a>\u001b[0m seq_len \u001b[39m=\u001b[39m []\n\u001b[0;32m----> <a href='vscode-notebook-cell://ssh-remote%2B131.215.228.108/home/emre/github_repo/MinION/examples/barcoder_analyse.ipynb#X15sdnNjb2RlLXJlbW90ZQ%3D%3D?line=2'>3</a>\u001b[0m \u001b[39mfor\u001b[39;00m i \u001b[39min\u001b[39;00m \u001b[39mrange\u001b[39m(\u001b[39mlen\u001b[39m(fastq_list)):\n\u001b[1;32m      <a href='vscode-notebook-cell://ssh-remote%2B131.215.228.108/home/emre/github_repo/MinION/examples/barcoder_analyse.ipynb#X15sdnNjb2RlLXJlbW90ZQ%3D%3D?line=3'>4</a>\u001b[0m     seq_len\u001b[39m.\u001b[39mappend(\u001b[39mlen\u001b[39m(fastq_list[i]\u001b[39m.\u001b[39mseq))\n\u001b[1;32m      <a href='vscode-notebook-cell://ssh-remote%2B131.215.228.108/home/emre/github_repo/MinION/examples/barcoder_analyse.ipynb#X15sdnNjb2RlLXJlbW90ZQ%3D%3D?line=5'>6</a>\u001b[0m \u001b[39m# seq_len2 = []\u001b[39;00m\n\u001b[1;32m      <a href='vscode-notebook-cell://ssh-remote%2B131.215.228.108/home/emre/github_repo/MinION/examples/barcoder_analyse.ipynb#X15sdnNjb2RlLXJlbW90ZQ%3D%3D?line=6'>7</a>\u001b[0m \u001b[39m# for i in range(len(fastq_list2)):\u001b[39;00m\n\u001b[1;32m      <a href='vscode-notebook-cell://ssh-remote%2B131.215.228.108/home/emre/github_repo/MinION/examples/barcoder_analyse.ipynb#X15sdnNjb2RlLXJlbW90ZQ%3D%3D?line=7'>8</a>\u001b[0m \u001b[39m#     seq_len2.append(len(fastq_list2[i].seq))\u001b[39;00m\n",
      "\u001b[0;31mNameError\u001b[0m: name 'fastq_list' is not defined"
     ]
    }
   ],
   "source": [
    "# Get Sequence length of each read\n",
    "seq_len = []\n",
    "for i in range(len(fastq_list)):\n",
    "    seq_len.append(len(fastq_list[i].seq))\n",
    "\n",
    "# seq_len2 = []\n",
    "# for i in range(len(fastq_list2)):\n",
    "#     seq_len2.append(len(fastq_list2[i].seq))\n",
    "\n"
   ]
  },
  {
   "cell_type": "code",
   "execution_count": null,
   "metadata": {},
   "outputs": [],
   "source": [
    "# Plot histogram of sequence length side by side\n",
    "\n",
    "plt.figure(figsize=(20,10))\n",
    "plt.subplot(1,2,1)\n",
    "\n",
    "plt.hist(seq_length, bins=500, range=(0,4000))\n",
    "plt.title(\"Masked_3RBC_sup\")\n",
    "plt.xlabel(\"Sequence length\")\n",
    "plt.ylabel(\"Frequency\")\n",
    "\n",
    "\n",
    "# plt.subplot(1,2,2)\n",
    "# plt.hist(seq_len2, bins=100, range=(0,1000))\n",
    "# plt.title(\"20230905_errorprone-3_test_sup\")\n",
    "# plt.xlabel(\"Sequence length\")\n",
    "# plt.ylabel(\"Frequency\")\n",
    "\n",
    "plt.show()\n",
    "\n",
    "\n",
    "\n"
   ]
  },
  {
   "cell_type": "code",
   "execution_count": null,
   "metadata": {},
   "outputs": [],
   "source": [
    "fastq_list[0]"
   ]
  },
  {
   "cell_type": "code",
   "execution_count": 9,
   "metadata": {},
   "outputs": [],
   "source": [
    "def filter_fastq_by_length(input_fastq : Path, output_fastq : Path, min_length : int , max_length : int):\n",
    "    \"\"\"\n",
    "    Filter a FASTQ file based on read length and write to a new FASTQ file.\n",
    "\n",
    "    Args:\n",
    "        - input_fastq: Path to the input FASTQ file.\n",
    "        - output_fastq: Path to the output FASTQ file.\n",
    "        - min_length: Minimum length of reads to retain.\n",
    "        - max_length: Maximum length of reads to retain.\n",
    "    Returns:\n",
    "        - Fastq file with reads between min_length and max_length.\n",
    "        - N_reads\n",
    "    \"\"\"\n",
    "    with open(input_fastq, 'r') as infile, open(output_fastq, 'w') as outfile:\n",
    "        while True:\n",
    "            \n",
    "\n",
    "            header = infile.readline().strip()\n",
    "            sequence = infile.readline().strip()\n",
    "            plus_sign = infile.readline().strip()\n",
    "            quality_scores = infile.readline().strip()\n",
    "\n",
    "            if not header:\n",
    "                break\n",
    "            N_reads = 0\n",
    "            if min_length <= len(sequence) <= max_length:\n",
    "                outfile.write(f\"{header}\\n\")\n",
    "                outfile.write(f\"{sequence}\\n\")\n",
    "                outfile.write(f\"{plus_sign}\\n\")\n",
    "                outfile.write(f\"{quality_scores}\\n\")\n",
    "                N_reads += 1\n",
    "    \n",
    "    return N_reads"
   ]
  },
  {
   "cell_type": "code",
   "execution_count": 10,
   "metadata": {},
   "outputs": [
    {
     "ename": "FileNotFoundError",
     "evalue": "[Errno 2] No such file or directory: '/home/emre/minION_results/Masked_3RBC_sup/basecalled/basecalled.fastq'",
     "output_type": "error",
     "traceback": [
      "\u001b[0;31m---------------------------------------------------------------------------\u001b[0m",
      "\u001b[0;31mFileNotFoundError\u001b[0m                         Traceback (most recent call last)",
      "\u001b[1;32m/home/emre/github_repo/MinION/examples/barcoder_analyse.ipynb Cell 17\u001b[0m line \u001b[0;36m1\n\u001b[0;32m----> <a href='vscode-notebook-cell://ssh-remote%2B131.215.228.108/home/emre/github_repo/MinION/examples/barcoder_analyse.ipynb#X22sdnNjb2RlLXJlbW90ZQ%3D%3D?line=0'>1</a>\u001b[0m filter_fastq_by_length(\u001b[39m\"\u001b[39;49m\u001b[39m/home/emre/minION_results/Masked_3RBC_sup/basecalled/basecalled.fastq\u001b[39;49m\u001b[39m\"\u001b[39;49m, \u001b[39m\"\u001b[39;49m\u001b[39m/home/emre/minION_results/Masked_3RBC_sup/basecalled/basecalled_filtered.fastq\u001b[39;49m\u001b[39m\"\u001b[39;49m, \u001b[39m680\u001b[39;49m, \u001b[39m1100\u001b[39;49m)\n",
      "\u001b[1;32m/home/emre/github_repo/MinION/examples/barcoder_analyse.ipynb Cell 17\u001b[0m line \u001b[0;36m1\n\u001b[1;32m      <a href='vscode-notebook-cell://ssh-remote%2B131.215.228.108/home/emre/github_repo/MinION/examples/barcoder_analyse.ipynb#X22sdnNjb2RlLXJlbW90ZQ%3D%3D?line=0'>1</a>\u001b[0m \u001b[39mdef\u001b[39;00m \u001b[39mfilter_fastq_by_length\u001b[39m(input_fastq : Path, output_fastq : Path, min_length : \u001b[39mint\u001b[39m , max_length : \u001b[39mint\u001b[39m):\n\u001b[1;32m      <a href='vscode-notebook-cell://ssh-remote%2B131.215.228.108/home/emre/github_repo/MinION/examples/barcoder_analyse.ipynb#X22sdnNjb2RlLXJlbW90ZQ%3D%3D?line=1'>2</a>\u001b[0m \u001b[39m    \u001b[39m\u001b[39m\"\"\"\u001b[39;00m\n\u001b[1;32m      <a href='vscode-notebook-cell://ssh-remote%2B131.215.228.108/home/emre/github_repo/MinION/examples/barcoder_analyse.ipynb#X22sdnNjb2RlLXJlbW90ZQ%3D%3D?line=2'>3</a>\u001b[0m \u001b[39m    Filter a FASTQ file based on read length and write to a new FASTQ file.\u001b[39;00m\n\u001b[1;32m      <a href='vscode-notebook-cell://ssh-remote%2B131.215.228.108/home/emre/github_repo/MinION/examples/barcoder_analyse.ipynb#X22sdnNjb2RlLXJlbW90ZQ%3D%3D?line=3'>4</a>\u001b[0m \n\u001b[0;32m   (...)\u001b[0m\n\u001b[1;32m     <a href='vscode-notebook-cell://ssh-remote%2B131.215.228.108/home/emre/github_repo/MinION/examples/barcoder_analyse.ipynb#X22sdnNjb2RlLXJlbW90ZQ%3D%3D?line=11'>12</a>\u001b[0m \u001b[39m        - N_reads\u001b[39;00m\n\u001b[1;32m     <a href='vscode-notebook-cell://ssh-remote%2B131.215.228.108/home/emre/github_repo/MinION/examples/barcoder_analyse.ipynb#X22sdnNjb2RlLXJlbW90ZQ%3D%3D?line=12'>13</a>\u001b[0m \u001b[39m    \"\"\"\u001b[39;00m\n\u001b[0;32m---> <a href='vscode-notebook-cell://ssh-remote%2B131.215.228.108/home/emre/github_repo/MinION/examples/barcoder_analyse.ipynb#X22sdnNjb2RlLXJlbW90ZQ%3D%3D?line=13'>14</a>\u001b[0m     \u001b[39mwith\u001b[39;00m \u001b[39mopen\u001b[39;49m(input_fastq, \u001b[39m'\u001b[39;49m\u001b[39mr\u001b[39;49m\u001b[39m'\u001b[39;49m) \u001b[39mas\u001b[39;00m infile, \u001b[39mopen\u001b[39m(output_fastq, \u001b[39m'\u001b[39m\u001b[39mw\u001b[39m\u001b[39m'\u001b[39m) \u001b[39mas\u001b[39;00m outfile:\n\u001b[1;32m     <a href='vscode-notebook-cell://ssh-remote%2B131.215.228.108/home/emre/github_repo/MinION/examples/barcoder_analyse.ipynb#X22sdnNjb2RlLXJlbW90ZQ%3D%3D?line=14'>15</a>\u001b[0m         \u001b[39mwhile\u001b[39;00m \u001b[39mTrue\u001b[39;00m:\n\u001b[1;32m     <a href='vscode-notebook-cell://ssh-remote%2B131.215.228.108/home/emre/github_repo/MinION/examples/barcoder_analyse.ipynb#X22sdnNjb2RlLXJlbW90ZQ%3D%3D?line=17'>18</a>\u001b[0m             header \u001b[39m=\u001b[39m infile\u001b[39m.\u001b[39mreadline()\u001b[39m.\u001b[39mstrip()\n",
      "File \u001b[0;32m~/miniconda3/envs/minion/lib/python3.9/site-packages/IPython/core/interactiveshell.py:286\u001b[0m, in \u001b[0;36m_modified_open\u001b[0;34m(file, *args, **kwargs)\u001b[0m\n\u001b[1;32m    279\u001b[0m \u001b[39mif\u001b[39;00m file \u001b[39min\u001b[39;00m {\u001b[39m0\u001b[39m, \u001b[39m1\u001b[39m, \u001b[39m2\u001b[39m}:\n\u001b[1;32m    280\u001b[0m     \u001b[39mraise\u001b[39;00m \u001b[39mValueError\u001b[39;00m(\n\u001b[1;32m    281\u001b[0m         \u001b[39mf\u001b[39m\u001b[39m\"\u001b[39m\u001b[39mIPython won\u001b[39m\u001b[39m'\u001b[39m\u001b[39mt let you open fd=\u001b[39m\u001b[39m{\u001b[39;00mfile\u001b[39m}\u001b[39;00m\u001b[39m by default \u001b[39m\u001b[39m\"\u001b[39m\n\u001b[1;32m    282\u001b[0m         \u001b[39m\"\u001b[39m\u001b[39mas it is likely to crash IPython. If you know what you are doing, \u001b[39m\u001b[39m\"\u001b[39m\n\u001b[1;32m    283\u001b[0m         \u001b[39m\"\u001b[39m\u001b[39myou can use builtins\u001b[39m\u001b[39m'\u001b[39m\u001b[39m open.\u001b[39m\u001b[39m\"\u001b[39m\n\u001b[1;32m    284\u001b[0m     )\n\u001b[0;32m--> 286\u001b[0m \u001b[39mreturn\u001b[39;00m io_open(file, \u001b[39m*\u001b[39;49margs, \u001b[39m*\u001b[39;49m\u001b[39m*\u001b[39;49mkwargs)\n",
      "\u001b[0;31mFileNotFoundError\u001b[0m: [Errno 2] No such file or directory: '/home/emre/minION_results/Masked_3RBC_sup/basecalled/basecalled.fastq'"
     ]
    }
   ],
   "source": [
    "filter_fastq_by_length(\"/home/emre/minION_results/Masked_3RBC_sup/basecalled/basecalled.fastq\", \"/home/emre/minION_results/Masked_3RBC_sup/basecalled/basecalled_filtered.fastq\", 680, 1100)"
   ]
  },
  {
   "cell_type": "code",
   "execution_count": null,
   "metadata": {},
   "outputs": [],
   "source": [
    "with open(\"/home/emre/minION_results/Masked_3RBC_sup/basecalled/basecalled_filtered.fastq\") as file:\n",
    "    file = SeqIO.parse(file, \"fastq\")\n",
    "    file_list = list(file)"
   ]
  },
  {
   "cell_type": "code",
   "execution_count": null,
   "metadata": {},
   "outputs": [],
   "source": [
    "# Get Sequence length of each read\n",
    "seq_len = []\n",
    "for i in range(len(file_list)):\n",
    "    seq_len.append(len(file_list[i].seq))\n",
    "\n",
    "plt.hist(seq_len, bins=100, range=(0,1500))\n",
    "plt.title(\"Masked_3RBC_sup\")\n",
    "plt.xlabel(\"Sequence length\")\n",
    "plt.ylabel(\"Frequency\")"
   ]
  },
  {
   "cell_type": "code",
   "execution_count": null,
   "metadata": {},
   "outputs": [],
   "source": [
    "def find_anchors_with_mismatches(read, front_anchor, back_anchor, max_mismatches=1):\n",
    "    read_len = len(read)\n",
    "    front_len = len(front_anchor)\n",
    "    back_len = len(back_anchor)\n",
    "    \n",
    "    potential_matches = []\n",
    "\n",
    "    # Sliding window for front anchor\n",
    "    for i in range(read_len - front_len + 1):\n",
    "        window = read[i:i+front_len]\n",
    "        if hamming_distance(window, front_anchor) <= max_mismatches:\n",
    "            \n",
    "            # Check for the back anchor, considering the barcode length and back anchor length\n",
    "            for j in range(i + front_len + 24, read_len - back_len + 1):\n",
    "                window_back = read[j:j+back_len]\n",
    "                if hamming_distance(window_back, back_anchor) <= max_mismatches:\n",
    "                    potential_matches.append((i, j))\n",
    "\n",
    "    return potential_matches\n",
    "\n",
    "def hamming_distance(str1, str2):\n",
    "    \"\"\"Compute the Hamming distance between two strings\"\"\"\n",
    "    if len(str1) != len(str2):\n",
    "        raise ValueError(\"Strings must be of the same length\")\n",
    "    return sum(c1 != c2 for c1, c2 in zip(str1, str2))\n",
    "\n",
    "# Test\n",
    "read = \"GCTTAGGHYHZTAAACGTAGCTAGNNNNNNNNNNNNNNNNNNNNNNNNNNGTAGCATGCGTACGT\"\n",
    "front_anchor = \"ATTGCTAAGGTT\"\n",
    "back_anchor = \"CAGCACC\"\n",
    "matches = find_anchors_with_mismatches(read, front_anchor, back_anchor, max_mismatches=2)\n",
    "print(matches)"
   ]
  },
  {
   "cell_type": "code",
   "execution_count": null,
   "metadata": {},
   "outputs": [],
   "source": [
    "with open(\"/home/emre/minION_results/MinION_RBC_0902723_sup/qc/quality_summary.pkl\", \"rb\") as file:\n",
    "    quality_dist = pickle.load(file)"
   ]
  },
  {
   "cell_type": "code",
   "execution_count": null,
   "metadata": {},
   "outputs": [],
   "source": [
    "os.path.basename(\"/home/emre/minION_results/MinION_RBC_0902723_sup/basecalled_filtered/basecalled_filtered.fastq.gz\")"
   ]
  },
  {
   "cell_type": "code",
   "execution_count": null,
   "metadata": {},
   "outputs": [],
   "source": [
    "from pathlib import Path\n",
    "\n",
    "Path(Path(\"/home/emre/minION_results/MinION_RBC_0902723_sup/basecalled_filtered/basecalled_filtered.fastq.gz\").stem).stem"
   ]
  },
  {
   "cell_type": "code",
   "execution_count": null,
   "metadata": {},
   "outputs": [],
   "source": [
    "seq = \"ATGTGCCTGTACTTCGTTCAGTTACGTATTGCTGGACGAAGAACTCAAGTCAAAGGCATCTCGATCCCGCGAAATTAATACGACTCACTATAGGGGAATTGTAAGCGGTTAACAATTCCCCCTCTAGAAATAATTTTGTTTAACTTTAGAGGAGATATACATATGACTCCCTCGGACATCCCGGGATATGATTATGGGCGTGTCGAGAAGTCACCCATCACGGACCTTGAGTTTGACCTTCTGAAGAAGACTGTCATGTTAGGTGAAAAGGACGTAATGTACTTGAAAAAGGCGCGTGACGTTCTGAAAGATCAAGTTGATGAGATCCTTGACTTGTGGGATGGTTGGGCGGCATCAAATGAGCATTTGATTTATTACTTCTCCAATCCGGATACAGGAGAGCCTATTAAGGAATACCTGGAACGTGTACGCGCTCGCTTTGAAGCCTGGATTCTGGACACTACCTGGCGCGACTATAACCGTGAATGGTTAGACTACCAGTACGAAGTTGGGCTTCGTCATCACCGTTCAAAGAAAGGGGTCACAGACGGAGTACGCACCGTGCCCCATATCCCACTTCGTTATCTTATCGCAAATATCTATCCTATCACCGCCACTATCAAGCCATTTTTGGCTAAGAAAGGTGGCTCTCCGGAAGACATCGAAGGGATGTACAACGCTTGGTTCAAGTCTGTAGTTTTACAAGTTGCCATCTGGTCACACCCTTATACTAAGGGGAATGACTGGCTCGAGCACCACCACCACCACCACTGAGATCCGGCTGCTAACAAAGCCCGAAAGGAAGCTGAGTTGGCTGCTGCCACCGCTGAGCAATAACTAGCATAACCCCTTGGGGCGGTGCTGCCTGGTAACTGGGACACAAGACTCTTAACCTTAGCAATAGCAATACGTGG\"\n",
    "seq2 = \"ATGACTCCCTCGGACATCCCGGGATATGATTATGGGCGTGTCGAGAAGTCACCCATCACGGACCTTGAGTTTGACCTTCTGAAGAAGACTGTCATGTTAGGTGAAAAGGACGTAATGTACTTGAAAAAGGCGCGTGACGTTCTGAAAGATCAAGTTGATGAGATCCTTGACTTGTGGGATGGTTGGGCGGCATCAAATGAGCATTTGATTTATTACTTCTCCAATCCGGATACAGGAGAGCCTATTAAGGAATACCTGGAACGTGTACGCGCTCGCTTTGGAGCCTGGATTCTGGACACTACCTGGCGCGACTATAACCGTGAATGGTTAGACTACCAGTACGAAGTTGGGCTTCGTCATCACCGTTCAAAGAAAGGGGTCACAGACGGAGTACGCACCGTGCCCCATATCCCACTTCGTTATCTTATCGCAAATATCTATCCTATCACCGCCACTATCAAGCCATTTTTGGCTAAGAAAGGTGGCTCTCCGGAAGACATCGAAGGGATGTACAACGCTTGGTTCAAGTCTGTAGTTTTACAAGTTGCCATCTGGTCACACCCTTATACTAAGGAGAATGACTGGCTCGAGCACCACCACCACCACCACTGA\""
   ]
  },
  {
   "cell_type": "code",
   "execution_count": null,
   "metadata": {},
   "outputs": [],
   "source": [
    "print(len(seq), len(seq2))"
   ]
  },
  {
   "cell_type": "code",
   "execution_count": null,
   "metadata": {},
   "outputs": [],
   "source": []
  }
 ],
 "metadata": {
  "kernelspec": {
   "display_name": "medaka",
   "language": "python",
   "name": "python3"
  },
  "language_info": {
   "codemirror_mode": {
    "name": "ipython",
    "version": 3
   },
   "file_extension": ".py",
   "mimetype": "text/x-python",
   "name": "python",
   "nbconvert_exporter": "python",
   "pygments_lexer": "ipython3",
   "version": "3.9.18"
  },
  "orig_nbformat": 4
 },
 "nbformat": 4,
 "nbformat_minor": 2
}
