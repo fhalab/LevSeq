{
 "cells": [
  {
   "cell_type": "code",
   "execution_count": 1,
   "metadata": {},
   "outputs": [
    {
     "data": {
      "text/plain": [
       "<module 'minION.util.IO_processor' from '/home/emre/github_repo/MinION/minION/util/IO_processor.py'>"
      ]
     },
     "execution_count": 1,
     "metadata": {},
     "output_type": "execute_result"
    }
   ],
   "source": [
    "# Analyze barcoder\n",
    "\n",
    "import pandas as pd\n",
    "import numpy as np\n",
    "from matplotlib import pyplot as plt\n",
    "from Bio import SeqIO\n",
    "import gzip\n",
    "import os\n",
    "import time\n",
    "import glob\n",
    "from concurrent.futures import ProcessPoolExecutor\n",
    "import pickle\n",
    "import sys\n",
    "sys.path.append('/home/emre/github_repo/MinION')\n",
    "from minION.util import IO_processor\n",
    "from minION.util.globals import DEFAULT_TARGETS\n",
    "from pathlib import Path\n",
    "import concurrent.futures\n",
    "\n",
    "import importlib as imp \n",
    "imp.reload(IO_processor)\n"
   ]
  },
  {
   "cell_type": "code",
   "execution_count": 2,
   "metadata": {},
   "outputs": [],
   "source": [
    "result_folder = \"/home/emre/minION_results/MinION_RBC_0902723_sup\"\n",
    "\n",
    "experiment_folder = IO_processor.find_experiment_folder(\"Masked_3RBC-Minion\")\n",
    "\n",
    "file_path = IO_processor.find_experiment_files(experiment_folder, [\"fastq_pass\"])\n",
    "\n",
    "files = IO_processor.extract_files_from_folder(Path(file_path))"
   ]
  },
  {
   "cell_type": "code",
   "execution_count": null,
   "metadata": {},
   "outputs": [],
   "source": []
  },
  {
   "cell_type": "code",
   "execution_count": 14,
   "metadata": {},
   "outputs": [],
   "source": [
    "# for i,file in enumerate(files):\n",
    "#     IO_processor.filter_fastq_by_length(result_folder, input_fastq=file, min_length=850, max_length=950, ind=i)\n",
    "\n",
    "# Make it parallel with ThreadPoolExecutor\n",
    "\n",
    "# with concurrent.futures.ThreadPoolExecutor(max_workers=16) as executor:\n",
    "#     executor.map(IO_processor.filter_fastq_by_length, [result_folder]*len(files), files, [850]*len(files), [950]*len(files), range(len(files)))"
   ]
  },
  {
   "cell_type": "code",
   "execution_count": 25,
   "metadata": {},
   "outputs": [
    {
     "name": "stdout",
     "output_type": "stream",
     "text": [
      "None\n",
      "/var/lib/minknow/data/Masked_3RBC-Minion/1/20230926_1648_MN41105_FAX47927_8a712363/fastq_pass\n"
     ]
    }
   ],
   "source": [
    "# for key, value in DEFAULT_TARGETS.items():\n",
    "#     file_path = IO_processor.find_experiment_files(experiment_folder, value)\n"
   ]
  },
  {
   "cell_type": "code",
   "execution_count": 2,
   "metadata": {},
   "outputs": [],
   "source": [
    "def process_gzip_files(filename):\n",
    "    \n",
    "    # Open the gzip-compressed FASTQ file for reading\n",
    "    with gzip.open(filename, 'rt') as handle:\n",
    "        for record in SeqIO.parse(handle, \"fastq\"):\n",
    "            # Access various attributes of the FASTQ record\n",
    "            print(\"ID:\", record.id)\n",
    "            print(\"Sequence:\", record.seq)\n",
    "            print(\"Quality Scores:\", record.letter_annotations[\"phred_quality\"])\n",
    "            print(\"\\n-----\\n\")\n",
    "\n",
    "\n",
    "def filter_single_chunk(records, min_length, max_length):\n",
    "    \"\"\"Filter a chunk of FASTQ records based on length.\"\"\"\n",
    "    return [record for record in records if min_length <= len(record.seq) <= max_length]\n",
    "\n",
    "def filter_sequences(filename, min_length=650, max_length=1000, output_file=\"filtered_sequences.fastq.gz\", n_workers=4):\n",
    "    \"\"\"Filter basecalled sequences based on length in parallel.\n",
    "    \n",
    "    Args:\n",
    "        filename (str): .fastq.gz file name\n",
    "        min_length (int): minimum length of sequence\n",
    "        max_length (int): maximum length of sequence\n",
    "        output_file (str): output file name for filtered sequences\n",
    "        n_workers (int): number of processes for parallel processing\n",
    "\n",
    "    Returns:\n",
    "        str: Fastq file name with filtered sequences\n",
    "    \"\"\"\n",
    "    \n",
    "    # Break records into chunks for parallel processing\n",
    "    chunk_size = 1000  # You can adjust this value based on your requirements\n",
    "    all_records = []\n",
    "    with gzip.open(filename, 'rt') as handle:\n",
    "        all_records = list(SeqIO.parse(handle, \"fastq\"))\n",
    "    chunks = [all_records[i:i + chunk_size] for i in range(0, len(all_records), chunk_size)]\n",
    "    \n",
    "    filtered_records = []\n",
    "    \n",
    "    # Parallel processing of chunks\n",
    "    with ProcessPoolExecutor(max_workers=n_workers) as executor:\n",
    "        futures = [executor.submit(filter_single_chunk, chunk, min_length, max_length) for chunk in chunks]\n",
    "        for future in futures:\n",
    "            filtered_records.extend(future.result())\n",
    "\n",
    "    # Write filtered sequences to the output file\n",
    "    with open(output_file, 'wt') as output_handle:\n",
    "        SeqIO.write(filtered_records, output_handle, \"fastq\")\n",
    "\n",
    "    return output_file\n",
    "\n",
    "def get_seq_dist(filename):\n",
    "    \"\"\"\n",
    "    Get Sequence distribution of .fastq files of the experiment\n",
    "\n",
    "    Args:\n",
    "        filename (str): .fastq file name\n",
    "    \n",
    "    Returns:\n",
    "        seq_dist (list): list of length of each sequence\n",
    "    \"\"\"\n",
    "    \n",
    "    seq_dist = []\n",
    "    with gzip.open(filename, 'rt') as handle:\n",
    "        for record in SeqIO.parse(handle, \"fastq\"):\n",
    "            seq_dist.append(len(record.seq))\n",
    "    return seq_dist\n"
   ]
  },
  {
   "cell_type": "code",
   "execution_count": 4,
   "metadata": {},
   "outputs": [
    {
     "data": {
      "text/plain": [
       "PosixPath('/var/lib/minknow/data/Masked_3RBC-Minion/1/20230926_1648_MN41105_FAX47927_8a712363/fastq_pass/FAX47927_pass_8a712363_32e989f2_954.fastq.gz')"
      ]
     },
     "execution_count": 4,
     "metadata": {},
     "output_type": "execute_result"
    }
   ],
   "source": [
    "files[0]"
   ]
  },
  {
   "cell_type": "code",
   "execution_count": 4,
   "metadata": {},
   "outputs": [],
   "source": [
    "result_folder = \"/home/emre/minION_results\"\n",
    "experiment_folder = \"MinION_RBC_0902723_sup\""
   ]
  },
  {
   "cell_type": "code",
   "execution_count": 5,
   "metadata": {},
   "outputs": [
    {
     "ename": "KeyboardInterrupt",
     "evalue": "",
     "output_type": "error",
     "traceback": [
      "\u001b[0;31m---------------------------------------------------------------------------\u001b[0m",
      "\u001b[0;31mKeyboardInterrupt\u001b[0m                         Traceback (most recent call last)",
      "\u001b[1;32m/home/emre/github_repo/MinION/examples/barcoder_analyse.ipynb Cell 4\u001b[0m line \u001b[0;36m5\n\u001b[1;32m      <a href='vscode-notebook-cell://ssh-remote%2B131.215.228.108/home/emre/github_repo/MinION/examples/barcoder_analyse.ipynb#W3sdnNjb2RlLXJlbW90ZQ%3D%3D?line=1'>2</a>\u001b[0m filename \u001b[39m=\u001b[39m os\u001b[39m.\u001b[39mpath\u001b[39m.\u001b[39mjoin(result_folder, experiment_folder, \u001b[39m\"\u001b[39m\u001b[39mbasecalled.fastq.gz\u001b[39m\u001b[39m\"\u001b[39m)\n\u001b[1;32m      <a href='vscode-notebook-cell://ssh-remote%2B131.215.228.108/home/emre/github_repo/MinION/examples/barcoder_analyse.ipynb#W3sdnNjb2RlLXJlbW90ZQ%3D%3D?line=2'>3</a>\u001b[0m output_file \u001b[39m=\u001b[39m os\u001b[39m.\u001b[39mpath\u001b[39m.\u001b[39mjoin(result_folder, experiment_folder, \u001b[39m\"\u001b[39m\u001b[39mbasecalled.fastq\u001b[39m\u001b[39m\"\u001b[39m)\n\u001b[0;32m----> <a href='vscode-notebook-cell://ssh-remote%2B131.215.228.108/home/emre/github_repo/MinION/examples/barcoder_analyse.ipynb#W3sdnNjb2RlLXJlbW90ZQ%3D%3D?line=4'>5</a>\u001b[0m filtered_sequences \u001b[39m=\u001b[39m filter_sequences(filename\u001b[39m=\u001b[39;49mfilename, min_length\u001b[39m=\u001b[39;49m\u001b[39m650\u001b[39;49m, max_length\u001b[39m=\u001b[39;49m\u001b[39m1000\u001b[39;49m, output_file\u001b[39m=\u001b[39;49moutput_file, n_workers\u001b[39m=\u001b[39;49m\u001b[39m32\u001b[39;49m)\n",
      "\u001b[1;32m/home/emre/github_repo/MinION/examples/barcoder_analyse.ipynb Cell 4\u001b[0m line \u001b[0;36m3\n\u001b[1;32m     <a href='vscode-notebook-cell://ssh-remote%2B131.215.228.108/home/emre/github_repo/MinION/examples/barcoder_analyse.ipynb#W3sdnNjb2RlLXJlbW90ZQ%3D%3D?line=32'>33</a>\u001b[0m all_records \u001b[39m=\u001b[39m []\n\u001b[1;32m     <a href='vscode-notebook-cell://ssh-remote%2B131.215.228.108/home/emre/github_repo/MinION/examples/barcoder_analyse.ipynb#W3sdnNjb2RlLXJlbW90ZQ%3D%3D?line=33'>34</a>\u001b[0m \u001b[39mwith\u001b[39;00m gzip\u001b[39m.\u001b[39mopen(filename, \u001b[39m'\u001b[39m\u001b[39mrt\u001b[39m\u001b[39m'\u001b[39m) \u001b[39mas\u001b[39;00m handle:\n\u001b[0;32m---> <a href='vscode-notebook-cell://ssh-remote%2B131.215.228.108/home/emre/github_repo/MinION/examples/barcoder_analyse.ipynb#W3sdnNjb2RlLXJlbW90ZQ%3D%3D?line=34'>35</a>\u001b[0m     all_records \u001b[39m=\u001b[39m \u001b[39mlist\u001b[39;49m(SeqIO\u001b[39m.\u001b[39;49mparse(handle, \u001b[39m\"\u001b[39;49m\u001b[39mfastq\u001b[39;49m\u001b[39m\"\u001b[39;49m))\n\u001b[1;32m     <a href='vscode-notebook-cell://ssh-remote%2B131.215.228.108/home/emre/github_repo/MinION/examples/barcoder_analyse.ipynb#W3sdnNjb2RlLXJlbW90ZQ%3D%3D?line=35'>36</a>\u001b[0m chunks \u001b[39m=\u001b[39m [all_records[i:i \u001b[39m+\u001b[39m chunk_size] \u001b[39mfor\u001b[39;00m i \u001b[39min\u001b[39;00m \u001b[39mrange\u001b[39m(\u001b[39m0\u001b[39m, \u001b[39mlen\u001b[39m(all_records), chunk_size)]\n\u001b[1;32m     <a href='vscode-notebook-cell://ssh-remote%2B131.215.228.108/home/emre/github_repo/MinION/examples/barcoder_analyse.ipynb#W3sdnNjb2RlLXJlbW90ZQ%3D%3D?line=37'>38</a>\u001b[0m filtered_records \u001b[39m=\u001b[39m []\n",
      "File \u001b[0;32m~/miniconda3/envs/minion/lib/python3.9/site-packages/Bio/SeqIO/Interfaces.py:74\u001b[0m, in \u001b[0;36mSequenceIterator.__next__\u001b[0;34m(self)\u001b[0m\n\u001b[1;32m     72\u001b[0m \u001b[39mdef\u001b[39;00m \u001b[39m__next__\u001b[39m(\u001b[39mself\u001b[39m):\n\u001b[1;32m     73\u001b[0m     \u001b[39mtry\u001b[39;00m:\n\u001b[0;32m---> 74\u001b[0m         \u001b[39mreturn\u001b[39;00m \u001b[39mnext\u001b[39;49m(\u001b[39mself\u001b[39;49m\u001b[39m.\u001b[39;49mrecords)\n\u001b[1;32m     75\u001b[0m     \u001b[39mexcept\u001b[39;00m \u001b[39mException\u001b[39;00m:\n\u001b[1;32m     76\u001b[0m         \u001b[39mif\u001b[39;00m \u001b[39mself\u001b[39m\u001b[39m.\u001b[39mshould_close_stream:\n",
      "File \u001b[0;32m~/miniconda3/envs/minion/lib/python3.9/site-packages/Bio/SeqIO/QualityIO.py:1085\u001b[0m, in \u001b[0;36mFastqPhredIterator.iterate\u001b[0;34m(self, handle)\u001b[0m\n\u001b[1;32m   1075\u001b[0m \u001b[39m# Originally, I used a list expression for each record:\u001b[39;00m\n\u001b[1;32m   1076\u001b[0m \u001b[39m#\u001b[39;00m\n\u001b[1;32m   1077\u001b[0m \u001b[39m# qualities = [ord(letter)-SANGER_SCORE_OFFSET for letter in quality_string]\u001b[39;00m\n\u001b[1;32m   1078\u001b[0m \u001b[39m#\u001b[39;00m\n\u001b[1;32m   1079\u001b[0m \u001b[39m# Precomputing is faster, perhaps partly by avoiding the subtractions.\u001b[39;00m\n\u001b[1;32m   1080\u001b[0m q_mapping \u001b[39m=\u001b[39m {\n\u001b[1;32m   1081\u001b[0m     \u001b[39mchr\u001b[39m(letter): letter \u001b[39m-\u001b[39m SANGER_SCORE_OFFSET\n\u001b[1;32m   1082\u001b[0m     \u001b[39mfor\u001b[39;00m letter \u001b[39min\u001b[39;00m \u001b[39mrange\u001b[39m(SANGER_SCORE_OFFSET, \u001b[39m94\u001b[39m \u001b[39m+\u001b[39m SANGER_SCORE_OFFSET)\n\u001b[1;32m   1083\u001b[0m }\n\u001b[0;32m-> 1085\u001b[0m \u001b[39mfor\u001b[39;00m title_line, seq_string, quality_string \u001b[39min\u001b[39;00m FastqGeneralIterator(handle):\n\u001b[1;32m   1086\u001b[0m     \u001b[39mif\u001b[39;00m title2ids:\n\u001b[1;32m   1087\u001b[0m         \u001b[39mid\u001b[39m, name, descr \u001b[39m=\u001b[39m title2ids(title_line)\n",
      "File \u001b[0;32m~/miniconda3/envs/minion/lib/python3.9/site-packages/Bio/SeqIO/QualityIO.py:961\u001b[0m, in \u001b[0;36mFastqGeneralIterator\u001b[0;34m(source)\u001b[0m\n\u001b[1;32m    959\u001b[0m line \u001b[39m=\u001b[39m \u001b[39mNone\u001b[39;00m\n\u001b[1;32m    960\u001b[0m quality_string \u001b[39m=\u001b[39m \u001b[39m\"\u001b[39m\u001b[39m\"\u001b[39m\n\u001b[0;32m--> 961\u001b[0m \u001b[39mfor\u001b[39;00m line \u001b[39min\u001b[39;00m handle:\n\u001b[1;32m    962\u001b[0m     \u001b[39mif\u001b[39;00m line[\u001b[39m0\u001b[39m] \u001b[39m==\u001b[39m \u001b[39m\"\u001b[39m\u001b[39m@\u001b[39m\u001b[39m\"\u001b[39m:\n\u001b[1;32m    963\u001b[0m         \u001b[39m# This COULD be the start of a new sequence. However, it MAY just\u001b[39;00m\n\u001b[1;32m    964\u001b[0m         \u001b[39m# be a line of quality data which starts with a \"@\" character.  We\u001b[39;00m\n\u001b[1;32m    965\u001b[0m         \u001b[39m# should be able to check this by looking at the sequence length\u001b[39;00m\n\u001b[1;32m    966\u001b[0m         \u001b[39m# and the amount of quality data found so far.\u001b[39;00m\n\u001b[1;32m    967\u001b[0m         \u001b[39mif\u001b[39;00m \u001b[39mlen\u001b[39m(quality_string) \u001b[39m>\u001b[39m\u001b[39m=\u001b[39m seq_len:\n\u001b[1;32m    968\u001b[0m             \u001b[39m# We expect it to be equal if this is the start of a new record.\u001b[39;00m\n\u001b[1;32m    969\u001b[0m             \u001b[39m# If the quality data is longer, we'll raise an error below.\u001b[39;00m\n",
      "File \u001b[0;32m~/miniconda3/envs/minion/lib/python3.9/gzip.py:313\u001b[0m, in \u001b[0;36mGzipFile.read1\u001b[0;34m(self, size)\u001b[0m\n\u001b[1;32m    311\u001b[0m \u001b[39mif\u001b[39;00m size \u001b[39m<\u001b[39m \u001b[39m0\u001b[39m:\n\u001b[1;32m    312\u001b[0m     size \u001b[39m=\u001b[39m io\u001b[39m.\u001b[39mDEFAULT_BUFFER_SIZE\n\u001b[0;32m--> 313\u001b[0m \u001b[39mreturn\u001b[39;00m \u001b[39mself\u001b[39;49m\u001b[39m.\u001b[39;49m_buffer\u001b[39m.\u001b[39;49mread1(size)\n",
      "File \u001b[0;32m~/miniconda3/envs/minion/lib/python3.9/_compression.py:68\u001b[0m, in \u001b[0;36mDecompressReader.readinto\u001b[0;34m(self, b)\u001b[0m\n\u001b[1;32m     66\u001b[0m \u001b[39mdef\u001b[39;00m \u001b[39mreadinto\u001b[39m(\u001b[39mself\u001b[39m, b):\n\u001b[1;32m     67\u001b[0m     \u001b[39mwith\u001b[39;00m \u001b[39mmemoryview\u001b[39m(b) \u001b[39mas\u001b[39;00m view, view\u001b[39m.\u001b[39mcast(\u001b[39m\"\u001b[39m\u001b[39mB\u001b[39m\u001b[39m\"\u001b[39m) \u001b[39mas\u001b[39;00m byte_view:\n\u001b[0;32m---> 68\u001b[0m         data \u001b[39m=\u001b[39m \u001b[39mself\u001b[39;49m\u001b[39m.\u001b[39;49mread(\u001b[39mlen\u001b[39;49m(byte_view))\n\u001b[1;32m     69\u001b[0m         byte_view[:\u001b[39mlen\u001b[39m(data)] \u001b[39m=\u001b[39m data\n\u001b[1;32m     70\u001b[0m     \u001b[39mreturn\u001b[39;00m \u001b[39mlen\u001b[39m(data)\n",
      "File \u001b[0;32m~/miniconda3/envs/minion/lib/python3.9/gzip.py:493\u001b[0m, in \u001b[0;36m_GzipReader.read\u001b[0;34m(self, size)\u001b[0m\n\u001b[1;32m    490\u001b[0m     \u001b[39mself\u001b[39m\u001b[39m.\u001b[39m_new_member \u001b[39m=\u001b[39m \u001b[39mFalse\u001b[39;00m\n\u001b[1;32m    492\u001b[0m \u001b[39m# Read a chunk of data from the file\u001b[39;00m\n\u001b[0;32m--> 493\u001b[0m buf \u001b[39m=\u001b[39m \u001b[39mself\u001b[39;49m\u001b[39m.\u001b[39;49m_fp\u001b[39m.\u001b[39;49mread(io\u001b[39m.\u001b[39;49mDEFAULT_BUFFER_SIZE)\n\u001b[1;32m    495\u001b[0m uncompress \u001b[39m=\u001b[39m \u001b[39mself\u001b[39m\u001b[39m.\u001b[39m_decompressor\u001b[39m.\u001b[39mdecompress(buf, size)\n\u001b[1;32m    496\u001b[0m \u001b[39mif\u001b[39;00m \u001b[39mself\u001b[39m\u001b[39m.\u001b[39m_decompressor\u001b[39m.\u001b[39munconsumed_tail \u001b[39m!=\u001b[39m \u001b[39mb\u001b[39m\u001b[39m\"\u001b[39m\u001b[39m\"\u001b[39m:\n",
      "File \u001b[0;32m~/miniconda3/envs/minion/lib/python3.9/gzip.py:96\u001b[0m, in \u001b[0;36m_PaddedFile.read\u001b[0;34m(self, size)\u001b[0m\n\u001b[1;32m     93\u001b[0m read \u001b[39m=\u001b[39m \u001b[39mself\u001b[39m\u001b[39m.\u001b[39m_read\n\u001b[1;32m     94\u001b[0m \u001b[39mself\u001b[39m\u001b[39m.\u001b[39m_read \u001b[39m=\u001b[39m \u001b[39mNone\u001b[39;00m\n\u001b[1;32m     95\u001b[0m \u001b[39mreturn\u001b[39;00m \u001b[39mself\u001b[39m\u001b[39m.\u001b[39m_buffer[read:] \u001b[39m+\u001b[39m \\\n\u001b[0;32m---> 96\u001b[0m        \u001b[39mself\u001b[39;49m\u001b[39m.\u001b[39;49mfile\u001b[39m.\u001b[39;49mread(size\u001b[39m-\u001b[39;49m\u001b[39mself\u001b[39;49m\u001b[39m.\u001b[39;49m_length\u001b[39m+\u001b[39;49mread)\n",
      "\u001b[0;31mKeyboardInterrupt\u001b[0m: "
     ]
    }
   ],
   "source": [
    "# Filter sequences based on length\n",
    "filename = os.path.join(result_folder, experiment_folder, \"basecalled.fastq.gz\")\n",
    "output_file = os.path.join(result_folder, experiment_folder, \"basecalled.fastq\")\n",
    "\n",
    "filtered_sequences = filter_sequences(filename=filename, min_length=650, max_length=1000, output_file=output_file, n_workers=8)"
   ]
  },
  {
   "cell_type": "code",
   "execution_count": 16,
   "metadata": {},
   "outputs": [],
   "source": [
    "path = \"/var/lib/minknow/data/Masked_3RBC-Minion/1/20230926_1648_MN41105_FAX47927_8a712363/fastq_pass/\"\n",
    "\n",
    "files = glob.glob(path + '*.fastq.gz')\n",
    "\n",
    "# filename = os.path.join(path, 'FAX47927_pass_8a712363_32e989f2_1347.fastq.gz')"
   ]
  },
  {
   "cell_type": "code",
   "execution_count": 1,
   "metadata": {},
   "outputs": [
    {
     "name": "stdout",
     "output_type": "stream",
     "text": [
      "\"Barcode\"\n"
     ]
    }
   ],
   "source": [
    "print(\"\\\"Barcode\\\"\")"
   ]
  },
  {
   "cell_type": "code",
   "execution_count": 6,
   "metadata": {},
   "outputs": [],
   "source": [
    "# Open fastq\n",
    "with open(\"/home/emre/minION_results/MinION_RBC_0902723_sup/basecalled/basecalled.fastq\") as fastq_file:\n",
    "    fastq = SeqIO.parse(fastq_file, \"fastq\")\n",
    "    fastq_list = list(fastq)\n",
    "\n",
    "# with open(\"/home/emre/minION_results/20230905_errorprone-3_test_sup/basecalled/basecalled.fastq\") as fastq_file:\n",
    "#     fastq = SeqIO.parse(fastq_file, \"fastq\")\n",
    "#     fastq_list2 = list(fastq)"
   ]
  },
  {
   "cell_type": "code",
   "execution_count": 28,
   "metadata": {},
   "outputs": [],
   "source": [
    "# Get Sequence length of each read\n",
    "seq_len = []\n",
    "for i in range(len(fastq_list)):\n",
    "    seq_len.append(len(fastq_list[i].seq))\n",
    "\n",
    "# seq_len2 = []\n",
    "# for i in range(len(fastq_list2)):\n",
    "#     seq_len2.append(len(fastq_list2[i].seq))\n",
    "\n"
   ]
  },
  {
   "cell_type": "code",
   "execution_count": 24,
   "metadata": {},
   "outputs": [
    {
     "data": {
      "image/png": "[encoded data removed]",
      "text/plain": [
       "<Figure size 2000x1000 with 1 Axes>"
      ]
     },
     "metadata": {},
     "output_type": "display_data"
    }
   ],
   "source": [
    "# Plot histogram of sequence length side by side\n",
    "\n",
    "plt.figure(figsize=(20,10))\n",
    "plt.subplot(1,2,1)\n",
    "\n",
    "plt.hist(seq_length, bins=500, range=(0,4000))\n",
    "plt.title(\"Masked_3RBC_sup\")\n",
    "plt.xlabel(\"Sequence length\")\n",
    "plt.ylabel(\"Frequency\")\n",
    "\n",
    "\n",
    "# plt.subplot(1,2,2)\n",
    "# plt.hist(seq_len2, bins=100, range=(0,1000))\n",
    "# plt.title(\"20230905_errorprone-3_test_sup\")\n",
    "# plt.xlabel(\"Sequence length\")\n",
    "# plt.ylabel(\"Frequency\")\n",
    "\n",
    "plt.show()\n",
    "\n",
    "\n",
    "\n"
   ]
  },
  {
   "cell_type": "code",
   "execution_count": 21,
   "metadata": {},
   "outputs": [
    {
     "data": {
      "text/plain": [
       "SeqRecord(seq=Seq('ACTGTTATAGTCTTCCTCGACGTTACGTATTGCTGGACCTCTTTCTCAGGGATA...TTG'), id='9c9f4dd1-0966-4dff-a094-c0efe5be3091', name='9c9f4dd1-0966-4dff-a094-c0efe5be3091', description='9c9f4dd1-0966-4dff-a094-c0efe5be3091', dbxrefs=[])"
      ]
     },
     "execution_count": 21,
     "metadata": {},
     "output_type": "execute_result"
    }
   ],
   "source": [
    "fastq_list[0]"
   ]
  },
  {
   "cell_type": "code",
   "execution_count": 31,
   "metadata": {},
   "outputs": [],
   "source": [
    "def filter_fastq_by_length(input_fastq : Path, output_fastq : Path, min_length : int , max_length : int):\n",
    "    \"\"\"\n",
    "    Filter a FASTQ file based on read length and write to a new FASTQ file.\n",
    "\n",
    "    Args:\n",
    "        - input_fastq: Path to the input FASTQ file.\n",
    "        - output_fastq: Path to the output FASTQ file.\n",
    "        - min_length: Minimum length of reads to retain.\n",
    "        - max_length: Maximum length of reads to retain.\n",
    "    Returns:\n",
    "        - Fastq file with reads between min_length and max_length.\n",
    "        - N_reads\n",
    "    \"\"\"\n",
    "    with open(input_fastq, 'r') as infile, open(output_fastq, 'w') as outfile:\n",
    "        while True:\n",
    "            \n",
    "\n",
    "            header = infile.readline().strip()\n",
    "            sequence = infile.readline().strip()\n",
    "            plus_sign = infile.readline().strip()\n",
    "            quality_scores = infile.readline().strip()\n",
    "\n",
    "            if not header:\n",
    "                break\n",
    "            N_reads = 0\n",
    "            if min_length <= len(sequence) <= max_length:\n",
    "                outfile.write(f\"{header}\\n\")\n",
    "                outfile.write(f\"{sequence}\\n\")\n",
    "                outfile.write(f\"{plus_sign}\\n\")\n",
    "                outfile.write(f\"{quality_scores}\\n\")\n",
    "                N_reads += 1\n",
    "    \n",
    "    return N_reads"
   ]
  },
  {
   "cell_type": "code",
   "execution_count": 36,
   "metadata": {},
   "outputs": [],
   "source": [
    "filter_fastq_by_length(\"/home/emre/minION_results/Masked_3RBC_sup/basecalled/basecalled.fastq\", \"/home/emre/minION_results/Masked_3RBC_sup/basecalled/basecalled_filtered.fastq\", 680, 1100)"
   ]
  },
  {
   "cell_type": "code",
   "execution_count": 37,
   "metadata": {},
   "outputs": [],
   "source": [
    "with open(\"/home/emre/minION_results/Masked_3RBC_sup/basecalled/basecalled_filtered.fastq\") as file:\n",
    "    file = SeqIO.parse(file, \"fastq\")\n",
    "    file_list = list(file)"
   ]
  },
  {
   "cell_type": "code",
   "execution_count": 38,
   "metadata": {},
   "outputs": [
    {
     "data": {
      "text/plain": [
       "Text(0, 0.5, 'Frequency')"
      ]
     },
     "execution_count": 38,
     "metadata": {},
     "output_type": "execute_result"
    },
    {
     "data": {
      "image/png": "[encoded data removed]",
      "text/plain": [
       "<Figure size 640x480 with 1 Axes>"
      ]
     },
     "metadata": {},
     "output_type": "display_data"
    }
   ],
   "source": [
    "# Get Sequence length of each read\n",
    "seq_len = []\n",
    "for i in range(len(file_list)):\n",
    "    seq_len.append(len(file_list[i].seq))\n",
    "\n",
    "plt.hist(seq_len, bins=100, range=(0,1500))\n",
    "plt.title(\"Masked_3RBC_sup\")\n",
    "plt.xlabel(\"Sequence length\")\n",
    "plt.ylabel(\"Frequency\")"
   ]
  },
  {
   "cell_type": "code",
   "execution_count": 12,
   "metadata": {},
   "outputs": [
    {
     "name": "stdout",
     "output_type": "stream",
     "text": [
      "[]\n"
     ]
    }
   ],
   "source": [
    "def find_anchors_with_mismatches(read, front_anchor, back_anchor, max_mismatches=1):\n",
    "    read_len = len(read)\n",
    "    front_len = len(front_anchor)\n",
    "    back_len = len(back_anchor)\n",
    "    \n",
    "    potential_matches = []\n",
    "\n",
    "    # Sliding window for front anchor\n",
    "    for i in range(read_len - front_len + 1):\n",
    "        window = read[i:i+front_len]\n",
    "        if hamming_distance(window, front_anchor) <= max_mismatches:\n",
    "            \n",
    "            # Check for the back anchor, considering the barcode length and back anchor length\n",
    "            for j in range(i + front_len + 24, read_len - back_len + 1):\n",
    "                window_back = read[j:j+back_len]\n",
    "                if hamming_distance(window_back, back_anchor) <= max_mismatches:\n",
    "                    potential_matches.append((i, j))\n",
    "\n",
    "    return potential_matches\n",
    "\n",
    "def hamming_distance(str1, str2):\n",
    "    \"\"\"Compute the Hamming distance between two strings\"\"\"\n",
    "    if len(str1) != len(str2):\n",
    "        raise ValueError(\"Strings must be of the same length\")\n",
    "    return sum(c1 != c2 for c1, c2 in zip(str1, str2))\n",
    "\n",
    "# Test\n",
    "read = \"GCTTAGGHYHZTAAACGTAGCTAGNNNNNNNNNNNNNNNNNNNNNNNNNNGTAGCATGCGTACGT\"\n",
    "front_anchor = \"ATTGCTAAGGTT\"\n",
    "back_anchor = \"CAGCACC\"\n",
    "matches = find_anchors_with_mismatches(read, front_anchor, back_anchor, max_mismatches=2)\n",
    "print(matches)"
   ]
  },
  {
   "cell_type": "code",
   "execution_count": 2,
   "metadata": {},
   "outputs": [],
   "source": [
    "with open(\"/home/emre/minION_results/MinION_RBC_0902723_sup/qc/quality_summary.pkl\", \"rb\") as file:\n",
    "    quality_dist = pickle.load(file)"
   ]
  },
  {
   "cell_type": "code",
   "execution_count": 6,
   "metadata": {},
   "outputs": [
    {
     "data": {
      "text/plain": [
       "'basecalled_filtered.fastq.gz'"
      ]
     },
     "execution_count": 6,
     "metadata": {},
     "output_type": "execute_result"
    }
   ],
   "source": [
    "os.path.basename(\"/home/emre/minION_results/MinION_RBC_0902723_sup/basecalled_filtered/basecalled_filtered.fastq.gz\")"
   ]
  },
  {
   "cell_type": "code",
   "execution_count": 10,
   "metadata": {},
   "outputs": [
    {
     "data": {
      "text/plain": [
       "'basecalled_filtered'"
      ]
     },
     "execution_count": 10,
     "metadata": {},
     "output_type": "execute_result"
    }
   ],
   "source": [
    "from pathlib import Path\n",
    "\n",
    "Path(Path(\"/home/emre/minION_results/MinION_RBC_0902723_sup/basecalled_filtered/basecalled_filtered.fastq.gz\").stem).stem"
   ]
  },
  {
   "cell_type": "code",
   "execution_count": 3,
   "metadata": {},
   "outputs": [],
   "source": [
    "seq = \"ATGTGCCTGTACTTCGTTCAGTTACGTATTGCTGGACGAAGAACTCAAGTCAAAGGCATCTCGATCCCGCGAAATTAATACGACTCACTATAGGGGAATTGTAAGCGGTTAACAATTCCCCCTCTAGAAATAATTTTGTTTAACTTTAGAGGAGATATACATATGACTCCCTCGGACATCCCGGGATATGATTATGGGCGTGTCGAGAAGTCACCCATCACGGACCTTGAGTTTGACCTTCTGAAGAAGACTGTCATGTTAGGTGAAAAGGACGTAATGTACTTGAAAAAGGCGCGTGACGTTCTGAAAGATCAAGTTGATGAGATCCTTGACTTGTGGGATGGTTGGGCGGCATCAAATGAGCATTTGATTTATTACTTCTCCAATCCGGATACAGGAGAGCCTATTAAGGAATACCTGGAACGTGTACGCGCTCGCTTTGAAGCCTGGATTCTGGACACTACCTGGCGCGACTATAACCGTGAATGGTTAGACTACCAGTACGAAGTTGGGCTTCGTCATCACCGTTCAAAGAAAGGGGTCACAGACGGAGTACGCACCGTGCCCCATATCCCACTTCGTTATCTTATCGCAAATATCTATCCTATCACCGCCACTATCAAGCCATTTTTGGCTAAGAAAGGTGGCTCTCCGGAAGACATCGAAGGGATGTACAACGCTTGGTTCAAGTCTGTAGTTTTACAAGTTGCCATCTGGTCACACCCTTATACTAAGGGGAATGACTGGCTCGAGCACCACCACCACCACCACTGAGATCCGGCTGCTAACAAAGCCCGAAAGGAAGCTGAGTTGGCTGCTGCCACCGCTGAGCAATAACTAGCATAACCCCTTGGGGCGGTGCTGCCTGGTAACTGGGACACAAGACTCTTAACCTTAGCAATAGCAATACGTGG\"\n",
    "seq2 = \"ATGACTCCCTCGGACATCCCGGGATATGATTATGGGCGTGTCGAGAAGTCACCCATCACGGACCTTGAGTTTGACCTTCTGAAGAAGACTGTCATGTTAGGTGAAAAGGACGTAATGTACTTGAAAAAGGCGCGTGACGTTCTGAAAGATCAAGTTGATGAGATCCTTGACTTGTGGGATGGTTGGGCGGCATCAAATGAGCATTTGATTTATTACTTCTCCAATCCGGATACAGGAGAGCCTATTAAGGAATACCTGGAACGTGTACGCGCTCGCTTTGGAGCCTGGATTCTGGACACTACCTGGCGCGACTATAACCGTGAATGGTTAGACTACCAGTACGAAGTTGGGCTTCGTCATCACCGTTCAAAGAAAGGGGTCACAGACGGAGTACGCACCGTGCCCCATATCCCACTTCGTTATCTTATCGCAAATATCTATCCTATCACCGCCACTATCAAGCCATTTTTGGCTAAGAAAGGTGGCTCTCCGGAAGACATCGAAGGGATGTACAACGCTTGGTTCAAGTCTGTAGTTTTACAAGTTGCCATCTGGTCACACCCTTATACTAAGGAGAATGACTGGCTCGAGCACCACCACCACCACCACTGA\""
   ]
  },
  {
   "cell_type": "code",
   "execution_count": 4,
   "metadata": {},
   "outputs": [
    {
     "name": "stdout",
     "output_type": "stream",
     "text": [
      "914 612\n"
     ]
    }
   ],
   "source": [
    "print(len(seq), len(seq2))"
   ]
  },
  {
   "cell_type": "code",
   "execution_count": null,
   "metadata": {},
   "outputs": [],
   "source": []
  }
 ],
 "metadata": {
  "kernelspec": {
   "display_name": "medaka",
   "language": "python",
   "name": "python3"
  },
  "language_info": {
   "codemirror_mode": {
    "name": "ipython",
    "version": 3
   },
   "file_extension": ".py",
   "mimetype": "text/x-python",
   "name": "python",
   "nbconvert_exporter": "python",
   "pygments_lexer": "ipython3",
   "version": "3.9.18"
  },
  "orig_nbformat": 4
 },
 "nbformat": 4,
 "nbformat_minor": 2
}
