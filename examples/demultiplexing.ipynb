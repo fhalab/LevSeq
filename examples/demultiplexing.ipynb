{
 "cells": [
  {
   "cell_type": "code",
   "execution_count": null,
   "metadata": {},
   "outputs": [],
   "source": [
    "import numpy as np\n",
    "from Bio import SeqIO\n",
    "import gzip\n",
    "import concurrent.futures\n",
    "import glob\n",
    "import seaborn as sns\n",
    "import matplotlib.pyplot as plt"
   ]
  },
  {
   "cell_type": "code",
   "execution_count": null,
   "metadata": {},
   "outputs": [],
   "source": [
    "qual_0 = \"%%%'(-+%%%%%++/1BDEDEEDCCFC79<565448''''''%%$&((&&'&&*448;=@@@AAAA9<?>?EEESHGGIEEEISKHSGS?<<<4=3/,*)&&&%&'(*,,,'%%%%&',+*+*&$%%%%*+*+-)**'(4322/(1201,,676611//))))((((GSIJMDSLFHS:::9<GSSSGSEJIHEIEOKLISHSMGSGKNSHSFHRFHGKEJHSFHHG@>;;;;1:AAAA99:9:?DGAA@66656>=HECCCHSFECDIGF>;331210,)'$$$$%&.:=D<<888JIDFFDD955436765666AFEFA@@@D>@KJNELHHLFJFLF@<///('(()<;=CDHD=:4444485422336222&&''((''(.//3???CAABBCHH@>>>A744.''''(13301132../-**++=>@;:::>E9;:;>AA<<<?B89889>(((')+(''')0*&&&%%&&'''((('((''11&&&&'&&)('&&&'/3/0AEKGKIJGHSHDI@???@EFJFSSIFGISSKSJSCDCIHLKJSHBBAA???==?=?=@<;:8+((DHABBSMEGSGHGBCBBCFKFGDDECEEHDC@ABCBCNKFJGIOSFHQHSGGMS:7767D=;::;:>AA@ACNK=====FH:1112??CCDRECB<111116776.----82----0/-)))*1413,)))*-3---,,111?9999:B<B<=0//&&&(,+&%$$%%()*&&%%&**0132272///.0-(()32224;::9;?ACH@????IJMJSFJSSGDBD??@@@GGBDBBC@>?444))))*?>>@??BBBACJKKSFPJC>>>CAMSJFHKIJHJEDD33336===@8AEBAF00001<=::<<+,512311100*&%%$$%%\"\n",
    "\n",
    "# Add plus 9 ascII value to get phred 42\n",
    "\n",
    "def coonvert_to_phred42(qual):\n",
    "    return ''.join([chr(ord(c) + 9) for c in qual])\n",
    "\n",
    "# Get phred 33 quality score\n",
    "def get_phred33_quality_score(qual):\n",
    "    return [ord(c) - 33 for c in qual]\n",
    "\n",
    "def get_phred42_quality_score(qual):\n",
    "    return [ord(c) - 42 for c in qual]\n",
    "\n",
    "qual = add_phred33_quality_score(qual_0)\n",
    "\n",
    "get_phred42_quality_score(qual) == get_phred33_quality_score(qual_0)"
   ]
  },
  {
   "cell_type": "code",
   "execution_count": null,
   "metadata": {},
   "outputs": [],
   "source": [
    "\n",
    "score = \"#$%%%%''(($$%$*-&%$%)%*'%(+($)(%$,.)##$&$$#$$&('(%&%%%%#$$%(&*('('+18/(6?65510+))'--*&&$$$,*+;/+%%&&''13&%&%(133<;9=/.2*$*657,0*&(237'85;A1/$$%'7:;;:<2:..%$)0,*.)(1)1&&1+-$$,-&(-&&####%%98:AHFEB4(%,\"\n",
    "\n",
    "\n",
    "get_phred33_quality_score(score)"
   ]
  },
  {
   "cell_type": "code",
   "execution_count": null,
   "metadata": {},
   "outputs": [],
   "source": [
    "def read_fastq(file_path):\n",
    "    sequences = []\n",
    "    \n",
    "    # Handling gzipped files\n",
    "    with gzip.open(file_path, \"rt\") as handle:\n",
    "        for record in SeqIO.parse(handle, \"fastq\"):\n",
    "            sequences.append(str(record.seq))\n",
    "    \n",
    "    return sequences\n",
    "\n",
    "\n",
    "def align_and_score(sequence, barcode, end_length):\n",
    "    \"\"\"\n",
    "    Implement your alignment algorithm here. \n",
    "    - `sequence`: the protein sequence to be aligned.\n",
    "    - `barcode`: the barcode sequence to align to the protein sequence.\n",
    "    - `end_length`: the length of sequence ends to consider for alignment.\n",
    "    \n",
    "    You might:\n",
    "    - Slice the ends of the protein sequence based on `end_length`.\n",
    "    - Perform alignment with the barcode.\n",
    "    - Compute and return the alignment score.\n",
    "    \"\"\"\n",
    "    # Example: If considering the end of the sequence\n",
    "    sequence_end = sequence[-end_length:]\n",
    "    \n",
    "    # TODO, alignment score\n",
    "    \n",
    "    score = None\n",
    "    return score"
   ]
  },
  {
   "cell_type": "code",
   "execution_count": null,
   "metadata": {},
   "outputs": [],
   "source": [
    "from Bio import pairwise2\n",
    "from Bio.SubsMat import MatrixInfo"
   ]
  },
  {
   "cell_type": "code",
   "execution_count": null,
   "metadata": {},
   "outputs": [],
   "source": [
    "def reverse_complement(seq):\n",
    "    \"\"\"Return the reverse complement of a DNA sequence.\"\"\"\n",
    "    complement_dict = {'A': 'T', 'T': 'A', 'C': 'G', 'G': 'C'}\n",
    "    complement = [complement_dict[base] for base in seq]\n",
    "    return ''.join(complement)[::-1]"
   ]
  },
  {
   "cell_type": "code",
   "execution_count": null,
   "metadata": {},
   "outputs": [],
   "source": [
    "fastqfiles = glob.glob(\"/home/emre/minION_results/MinION_RBC_0902723_sup/basecalled_filtered/*\")\n",
    "\n",
    "# Choose randomly 20\n",
    "fastqfiles = np.random.choice(fastqfiles, 10).tolist()"
   ]
  },
  {
   "cell_type": "code",
   "execution_count": null,
   "metadata": {},
   "outputs": [],
   "source": [
    "sequences = read_fastq(fastqfiles[0])"
   ]
  },
  {
   "cell_type": "code",
   "execution_count": null,
   "metadata": {},
   "outputs": [],
   "source": [
    "sequences = []\n",
    "\n",
    "for fastqfile in fastqfiles:\n",
    "    sequences.extend(read_fastq(fastqfile))"
   ]
  },
  {
   "cell_type": "code",
   "execution_count": null,
   "metadata": {},
   "outputs": [],
   "source": [
    "len(sequences)"
   ]
  },
  {
   "cell_type": "code",
   "execution_count": null,
   "metadata": {},
   "outputs": [],
   "source": [
    "barcode_dict = {\"Reverse\": {\n",
    "            \"Barcode01\" : \"AAGAAAGTTGTCGGTGTCTTTGTG\",\n",
    "            \"Barcode02\" : \"TCGATTCCGTTTGTAGTCGTCTGT\",\n",
    "            \"Barcode03\" : \"GAGTCTTGTGTCCCAGTTACCAGG\"\n",
    "            },\n",
    "            \"Reverse-Complement\": {\n",
    "            \"Barcode01\" : \"CACAAAGACACCGACAACTTTCTT\",\n",
    "            \"Barcode02\" : \"ACAGACGACTACAAACGGAATCGA\",\n",
    "            \"Barcode03\" : \"CCTGGTAACTGGGACACAAGACTC\"\n",
    "            }\n",
    "}\n",
    "\n",
    "config = {\n",
    "    \"start_gap1\": 40,\n",
    "    \"end_gap1\": 40,\n",
    "    \"open_gap1\": 0,\n",
    "    \"extend_gap1\": -40,\n",
    "    \"start_gap2\": 40,\n",
    "    \"end_gap2\": 40,\n",
    "    \"open_gap2\": -160,\n",
    "    \"extend_gap2\": -160,\n",
    "    \"min_score_barcode_front\": 60.0,\n",
    "    \"front_window_size\": 150,\n",
    "    \"rear_window_size\": 150,\n",
    "}"
   ]
  },
  {
   "cell_type": "code",
   "execution_count": null,
   "metadata": {},
   "outputs": [],
   "source": []
  },
  {
   "cell_type": "code",
   "execution_count": null,
   "metadata": {},
   "outputs": [],
   "source": [
    "def scoring_matrix():\n",
    "    return {\n",
    "        ('A', 'A'): 96,  ('A', 'C'): -316, ('A', 'G'): -192, ('A', 'T'): -369, ('A', 'N'): 0,\n",
    "        ('C', 'A'): -316,('C', 'C'): 100,  ('C', 'G'): -352, ('C', 'T'): -295, ('C', 'N'): 0,\n",
    "        ('G', 'A'): -192,('G', 'C'): -352, ('G', 'G'): 98,   ('G', 'T'): -329, ('G', 'N'): 0,\n",
    "        ('T', 'A'): -369,('T', 'C'): -295, ('T', 'G'): -329, ('T', 'T'): 100,  ('T', 'N'): 0,\n",
    "        ('N', 'A'): 0,   ('N', 'C'): 0,    ('N', 'G'): 0,    ('N', 'T'): 0,    ('N', 'N'): 0,\n",
    "    }"
   ]
  },
  {
   "cell_type": "code",
   "execution_count": null,
   "metadata": {},
   "outputs": [],
   "source": [
    "def get_theoretical_max_score(barcode, scoring_matrix):\n",
    "    # Get the match score for a matching pair of nucleotides\n",
    "    match_score = 0\n",
    "    for i in range(len(barcode)):\n",
    "        if barcode[i] != 'N':\n",
    "            match_score += scoring_matrix[(barcode[i], barcode[i])]\n",
    "    \n",
    "    \n",
    "    # The theoretical max score is N * match score\n",
    "    return match_score\n",
    "\n",
    "def get_best_scored_segment(seq1, seq2, config, complement = False, top_k=3):\n",
    "    # Only consider the first 100bp of seq2 for alignment\n",
    "\n",
    "    if complement:\n",
    "        seq1 = seq1[-100:] #Get rear 100bp of seq1\n",
    "\n",
    "    seq1 = seq1[:100]\n",
    "    sm = scoring_matrix()\n",
    "    # Perform local alignment using Smith-Waterman algorithm\n",
    "    alignments = pairwise2.align.localds(seq1, seq2, sm, -40, -40)\n",
    "    # Get top-k alignments\n",
    "    top_alignments = alignments[:top_k]\n",
    "    \n",
    "    best_score = 0\n",
    "    best_alignment = None\n",
    "    \n",
    "    for alignment in top_alignments:\n",
    "        # Unpack alignment data\n",
    "        aligned_seq1, aligned_seq2, score, begin, end = alignment\n",
    "        \n",
    "        # Recalculate score from 'begin' to 'end'\n",
    "        segment_score = 0\n",
    "        for i in range(begin, end):\n",
    "\n",
    "            # Use the scoring matrix to calculate the score\n",
    "            segment_score += sm.get((aligned_seq1[i], aligned_seq2[i]), 0)\n",
    "        \n",
    "        # Update if the score of this segment is the best so far\n",
    "        if segment_score > best_score:\n",
    "            best_score = segment_score\n",
    "            best_alignment = alignment\n",
    "    \n",
    "    # Return the best-scoring alignment segment\n",
    "    return best_alignment\n"
   ]
  },
  {
   "cell_type": "code",
   "execution_count": null,
   "metadata": {},
   "outputs": [],
   "source": [
    "def demultiplex_template(args):\n",
    "    i, sequence, barcode_dict, sm, config = args\n",
    "\n",
    "    barcodes = barcode_dict[\"Reverse\"]\n",
    "    \n",
    "    result = {\"Sequence_ind\": i,\n",
    "              \"Barcode_Scores\": {},\n",
    "              \"Best_Barcode\" : {\"RBC\": None, \"Score\": None}}\n",
    "\n",
    "    barcode_scores = np.zeros(len(barcodes))\n",
    "\n",
    "    for barcode_name, barcode_seq in barcodes.items():\n",
    "        theoretical_max_score = get_theoretical_max_score(barcode_seq, sm)\n",
    "        alignment = get_best_scored_segment(sequence, barcode_seq, config)\n",
    "\n",
    "        if alignment:\n",
    "            aligned_seq1, aligned_seq2, score, begin, end = alignment\n",
    "            norm_score = (score / theoretical_max_score) * 100\n",
    "            \n",
    "            result[\"Barcode_Scores\"][barcode_name] = norm_score\n",
    "            \n",
    "        else:\n",
    "            result[\"Barcode_Scores\"][barcode_name] = 0\n",
    "\n",
    "        barcode_scores[list(barcodes.keys()).index(barcode_name)] = norm_score\n",
    "    \n",
    "    if barcode_scores.max() > config[\"min_score_barcode_front\"]:\n",
    "        result[\"Best_Barcode\"][\"RBC\"] = list(barcodes.keys())[np.argmax(barcode_scores)]\n",
    "        result[\"Best_Barcode\"][\"Score\"] = np.max(barcode_scores)\n",
    "    else:\n",
    "        result[\"Best_Barcode\"][\"RBC\"] = \"Unclassified\"\n",
    "        result[\"Best_Barcode\"][\"Score\"] = np.max(barcode_scores)\n",
    "    \n",
    "    return result\n",
    "\n",
    "def demultiplex_complement(args):\n",
    "    i, sequence, barcode_dict, sm, config = args\n",
    "\n",
    "    barcodes = barcode_dict[\"Reverse-Complement\"]\n",
    "\n",
    "    result = {\"Sequence_ind\": i,\n",
    "              \"Barcode_Scores\": {},\n",
    "              \"Best_Barcode\" : {\"RBC\": None, \"Score\": None}}\n",
    "\n",
    "    barcode_scores = np.zeros(len(barcodes))\n",
    "\n",
    "    for barcode_name, barcode_seq in barcodes.items():\n",
    "        theoretical_max_score = get_theoretical_max_score(barcode_seq, sm)\n",
    "        alignment = get_best_scored_segment(sequence, barcode_seq,config, complement = True)\n",
    "\n",
    "        if alignment:\n",
    "            aligned_seq1, aligned_seq2, score, begin, end = alignment\n",
    "            norm_score = (score / theoretical_max_score) * 100\n",
    "            \n",
    "            result[\"Barcode_Scores\"][barcode_name] = norm_score\n",
    "            \n",
    "        else:\n",
    "            result[\"Barcode_Scores\"][barcode_name] = 0\n",
    "\n",
    "        barcode_scores[list(barcodes.keys()).index(barcode_name)] = norm_score\n",
    "    \n",
    "    if barcode_scores.max() > config[\"min_score_barcode_front\"]:\n",
    "        result[\"Best_Barcode\"][\"RBC\"] = list(barcodes.keys())[np.argmax(barcode_scores)]\n",
    "        result[\"Best_Barcode\"][\"Score\"] = np.max(barcode_scores)\n",
    "    else:\n",
    "        result[\"Best_Barcode\"][\"RBC\"] = \"Unclassified\"\n",
    "        result[\"Best_Barcode\"][\"Score\"] = np.max(barcode_scores)\n",
    "    \n",
    "    return result\n",
    "\n",
    "\n",
    "def demultiplex_sequence(args):\n",
    "    i, sequence, barcode_dict, sm, config = args\n",
    "    \n",
    "    # First, try to demultiplex using the template strand\n",
    "    result_template = demultiplex_template(args)\n",
    "    \n",
    "    # If the best barcode from the template strand is not \"Unclassified\", return the result\n",
    "    if result_template[\"Best_Barcode\"][\"RBC\"] != \"Unclassified\":\n",
    "        return result_template\n",
    "    \n",
    "    # Otherwise, try to demultiplex using the complement\n",
    "    result_complement = demultiplex_complement(args)\n",
    "    \n",
    "    # Return the result from the complement strand, regardless of whether it is \"Unclassified\" or not\n",
    "    return result_complement\n",
    "\n"
   ]
  },
  {
   "cell_type": "code",
   "execution_count": null,
   "metadata": {},
   "outputs": [],
   "source": [
    "def process_file(file):\n",
    "    sm = scoring_matrix()\n",
    "    final_scores = {\"Sequence_ind\": [], \n",
    "                    \"Barcode_Scores\" : {\"Barcode01\" : [], \"Barcode02\" : [], \"Barcode03\" : []},\n",
    "                    \"Best_Barcode\" : {\"RBC\": [], \"Score\": []},\n",
    "                    }\n",
    "    \n",
    "    sequences = read_fastq(file)\n",
    "    \n",
    "    with concurrent.futures.ProcessPoolExecutor(max_workers=4) as executor:  # Adjust max_workers as per your system\n",
    "        args = [(i, seq, barcode_dict, sm, config) for i, seq in enumerate(sequences)]\n",
    "        results = list(executor.map(demultiplex_sequence, args))\n",
    "    \n",
    "    for result in results:\n",
    "        final_scores[\"Sequence_ind\"].append(result[\"Sequence_ind\"])\n",
    "        for barcode_name, score in result[\"Barcode_Scores\"].items():\n",
    "            final_scores[\"Barcode_Scores\"][barcode_name].append(score)\n",
    "        final_scores[\"Best_Barcode\"][\"RBC\"].append(result[\"Best_Barcode\"][\"RBC\"])\n",
    "        final_scores[\"Best_Barcode\"][\"Score\"].append(result[\"Best_Barcode\"][\"Score\"])\n",
    "    \n",
    "    return final_scores\n",
    "\n",
    "def process_sequences(sequences):\n",
    "    sm = scoring_matrix()\n",
    "    final_scores = {\"Sequence_ind\": [], \n",
    "                    \"Barcode_Scores\" : {\"Barcode01\" : [], \"Barcode02\" : [], \"Barcode03\" : []},\n",
    "                    \"Best_Barcode\" : {\"RBC\": [], \"Score\": []},\n",
    "                    }\n",
    "    \n",
    "    with concurrent.futures.ProcessPoolExecutor(max_workers=4) as executor:  # Adjust max_workers as per your system\n",
    "        args = [(i, seq, barcode_dict, sm, config) for i, seq in enumerate(sequences)]\n",
    "        results = list(executor.map(demultiplex_sequence, args))\n",
    "    \n",
    "    for result in results:\n",
    "        final_scores[\"Sequence_ind\"].append(result[\"Sequence_ind\"])\n",
    "        for barcode_name, score in result[\"Barcode_Scores\"].items():\n",
    "            final_scores[\"Barcode_Scores\"][barcode_name].append(score)\n",
    "        final_scores[\"Best_Barcode\"][\"RBC\"].append(result[\"Best_Barcode\"][\"RBC\"])\n",
    "        final_scores[\"Best_Barcode\"][\"Score\"].append(result[\"Best_Barcode\"][\"Score\"])\n",
    "    \n",
    "    return final_scores\n",
    "\n"
   ]
  },
  {
   "cell_type": "code",
   "execution_count": null,
   "metadata": {},
   "outputs": [],
   "source": [
    "import hashlib\n",
    "\n",
    "def generate_sha1_hash(input_string):\n",
    "    sha1 = hashlib.sha1()\n",
    "    sha1.update(input_string.encode('utf-8'))\n",
    "    return sha1.hexdigest()\n",
    "\n",
    "# Example usage:\n",
    "input_string = \"ExampleString\"\n",
    "hash_output = generate_sha1_hash(input_string)\n",
    "\n",
    "print(f\"Input: {input_string}\")\n",
    "print(f\"SHA-1 Hash: {hash_output}\")"
   ]
  },
  {
   "cell_type": "code",
   "execution_count": null,
   "metadata": {},
   "outputs": [],
   "source": [
    "final_score  = process_sequences(sequences)"
   ]
  },
  {
   "cell_type": "code",
   "execution_count": null,
   "metadata": {},
   "outputs": [],
   "source": [
    "# Barcode score dist\n",
    "import pandas as pd\n",
    "\n",
    "file = \"/home/emre/minION_results/MinION_RBC_0902723_sup/Demultiplex_cpp_70/barcode_summary.txt\"\n",
    "\n",
    "df = pd.read_csv(file, sep=\"\\t\")"
   ]
  },
  {
   "cell_type": "code",
   "execution_count": null,
   "metadata": {},
   "outputs": [],
   "source": [
    "# Get FBC that are not NaN and unclassified\n",
    "df = df[~df[\"FBC\"].isna()]\n",
    "df = df[df[\"FBC\"] != \"unclassified\"]"
   ]
  },
  {
   "cell_type": "code",
   "execution_count": null,
   "metadata": {},
   "outputs": [],
   "source": [
    "df"
   ]
  },
  {
   "cell_type": "code",
   "execution_count": null,
   "metadata": {},
   "outputs": [],
   "source": [
    "import pandas as pd\n",
    "#pd.DataFrame(final_scores[\"Best_Barcode\"])\n",
    "\n",
    "#Change type of the scores\n",
    "df[\"RBC_Score\"] = df[\"RBC_Score\"].astype(float)\n",
    "\n",
    "# Plotting the scores\n",
    "sns.set_style(\"whitegrid\")\n",
    "sns.histplot(data=df, x=\"RBC_Score\", hue=\"RBC\", multiple=\"stack\", kde=False)\n",
    "plt.xlabel(\"Score\")\n",
    "plt.ylabel(\"Count\")\n",
    "plt.title(\"Barcode Scores\")\n",
    "plt.show()"
   ]
  },
  {
   "cell_type": "code",
   "execution_count": null,
   "metadata": {},
   "outputs": [],
   "source": [
    "df[\"RBC_Score\"].describe().reset_index()"
   ]
  },
  {
   "cell_type": "code",
   "execution_count": null,
   "metadata": {},
   "outputs": [],
   "source": [
    "# Count each barcode group\n",
    "df[\"RBC\"].value_counts().plot(kind=\"bar\")\n"
   ]
  },
  {
   "cell_type": "code",
   "execution_count": null,
   "metadata": {},
   "outputs": [],
   "source": [
    "df_02 = df[df[\"RBC\"] == \"RB02\"]"
   ]
  },
  {
   "cell_type": "code",
   "execution_count": null,
   "metadata": {},
   "outputs": [],
   "source": [
    "df_02[\"FBC\"].value_counts().reset_index()"
   ]
  },
  {
   "cell_type": "code",
   "execution_count": null,
   "metadata": {},
   "outputs": [],
   "source": [
    "def get_best_scored_segment_global(seq1, seq2, config, top_k=5):\n",
    "    # Perform global alignment using Needleman-Wunsch algorithm\n",
    "    sm = scoring_matrix()\n",
    "    alignments = pairwise2.align.globalds(seq1, seq2, sm, \n",
    "                                          config[\"open_gap1\"], \n",
    "                                          config[\"extend_gap1\"])\n",
    "    \n",
    "    # Get top-k alignments\n",
    "    top_alignments = alignments[:top_k]\n",
    "\n",
    "    best_score = 0\n",
    "    best_alignment = None\n",
    "    \n",
    "  \n",
    "    \n",
    "    for alignment in top_alignments:\n",
    "        # Unpack alignment data\n",
    "        aligned_seq1, aligned_seq2, score, begin, end = alignment\n",
    "        \n",
    "        # Recalculate score for the entire aligned segment\n",
    "        segment_score = 0\n",
    "        for i in range(len(aligned_seq1)):\n",
    "            # Use the scoring matrix to calculate the score\n",
    "            segment_score += sm.get((aligned_seq1[i], aligned_seq2[i]), 0)\n",
    "        \n",
    "        # Update if the score of this segment is the best so far\n",
    "        if segment_score > best_score:\n",
    "            best_score = segment_score\n",
    "            best_alignment = alignment\n",
    "    \n",
    "    # Return the best-scoring alignment segment\n",
    "    return best_alignment\n",
    "\n",
    "\n",
    "for barcode_name, barcode_seq in barcodes.items():\n",
    "    alignment = get_best_scored_segment_global(sequence, barcode_seq, config)\n",
    "    \n",
    "    if alignment:\n",
    "        aligned_seq1, aligned_seq2, score, begin, end = alignment\n",
    "        print(\"Aligned Sequences:\")\n",
    "        print(aligned_seq1)\n",
    "        print(aligned_seq2)\n",
    "        print(\"Alignment Score:\", score)\n",
    "        print(\"Alignment starts at position\", begin, \"and ends at position\", end)\n"
   ]
  },
  {
   "cell_type": "code",
   "execution_count": 12,
   "metadata": {},
   "outputs": [
    {
     "name": "stdout",
     "output_type": "stream",
     "text": [
      "Done! Modified reads are saved to /home/emre/minION_results/MinION_RBC_0902723_sup/Demultiplex_cpp_70/RB03/NB76/demultiplexed_RB03_NB76_005_cpp.fastq\n"
     ]
    }
   ],
   "source": [
    "from Bio import SeqIO\n",
    "\n",
    "\n",
    "input_file = \"/home/emre/minION_results/MinION_RBC_0902723_sup/Demultiplex_cpp_70/RB03/NB76/demultiplexed_RB03_NB76_005.fastq\"\n",
    "\n",
    "# Open the FASTQ file and create an output file for modified reads\n",
    "output_file = \"/home/emre/minION_results/MinION_RBC_0902723_sup/Demultiplex_cpp_70/RB03/NB76/demultiplexed_RB03_NB76_005_cpp.fastq\"\n",
    "\n",
    "# Iterate through the FASTQ file, remove the \"@\" character, and write modified reads to the output file\n",
    "with open(input_file, \"r\") as input_handle, open(output_file, \"w\") as output_handle:\n",
    "    for record in SeqIO.parse(input_handle, \"fastq\"):\n",
    "        # Remove \"@\" from the beginning of the read name\n",
    "        record.id = record.id.lstrip('@')\n",
    "        SeqIO.write(record, output_handle, \"fastq\")\n",
    "\n",
    "print(\"Done! Modified reads are saved to\", output_file)"
   ]
  },
  {
   "cell_type": "code",
   "execution_count": null,
   "metadata": {},
   "outputs": [],
   "source": []
  }
 ],
 "metadata": {
  "kernelspec": {
   "display_name": "minion",
   "language": "python",
   "name": "python3"
  },
  "language_info": {
   "codemirror_mode": {
    "name": "ipython",
    "version": 3
   },
   "file_extension": ".py",
   "mimetype": "text/x-python",
   "name": "python",
   "nbconvert_exporter": "python",
   "pygments_lexer": "ipython3",
   "version": "3.9.18"
  },
  "orig_nbformat": 4
 },
 "nbformat": 4,
 "nbformat_minor": 2
}
