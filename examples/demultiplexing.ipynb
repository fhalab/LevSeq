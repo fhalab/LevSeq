{
 "cells": [
  {
   "cell_type": "code",
   "execution_count": 1,
   "metadata": {},
   "outputs": [],
   "source": [
    "import numpy \n",
    "from Bio import SeqIO\n",
    "import gzip"
   ]
  },
  {
   "cell_type": "code",
   "execution_count": 2,
   "metadata": {},
   "outputs": [],
   "source": [
    "def read_fastq(file_path):\n",
    "    sequences = []\n",
    "    \n",
    "    # Handling gzipped files\n",
    "    with gzip.open(file_path, \"rt\") as handle:\n",
    "        for record in SeqIO.parse(handle, \"fastq\"):\n",
    "            sequences.append(str(record.seq))\n",
    "    \n",
    "    return sequences\n",
    "\n",
    "\n",
    "def align_and_score(sequence, barcode, end_length):\n",
    "    \"\"\"\n",
    "    Implement your alignment algorithm here. \n",
    "    - `sequence`: the protein sequence to be aligned.\n",
    "    - `barcode`: the barcode sequence to align to the protein sequence.\n",
    "    - `end_length`: the length of sequence ends to consider for alignment.\n",
    "    \n",
    "    You might:\n",
    "    - Slice the ends of the protein sequence based on `end_length`.\n",
    "    - Perform alignment with the barcode.\n",
    "    - Compute and return the alignment score.\n",
    "    \"\"\"\n",
    "    # Example: If considering the end of the sequence\n",
    "    sequence_end = sequence[-end_length:]\n",
    "    \n",
    "    # TODO, alignment score\n",
    "    \n",
    "    score = None\n",
    "    return score"
   ]
  },
  {
   "cell_type": "code",
   "execution_count": 3,
   "metadata": {},
   "outputs": [
    {
     "name": "stderr",
     "output_type": "stream",
     "text": [
      "/home/emre/miniconda3/envs/minion/lib/python3.9/site-packages/Bio/SubsMat/__init__.py:126: BiopythonDeprecationWarning: Bio.SubsMat has been deprecated, and we intend to remove it in a future release of Biopython. As an alternative, please consider using Bio.Align.substitution_matrices as a replacement, and contact the Biopython developers if you still need the Bio.SubsMat module.\n",
      "  warnings.warn(\n"
     ]
    }
   ],
   "source": [
    "from Bio import pairwise2\n",
    "from Bio.SubsMat import MatrixInfo"
   ]
  },
  {
   "cell_type": "code",
   "execution_count": 4,
   "metadata": {},
   "outputs": [],
   "source": [
    "# Example sequence and barcode\n",
    "sequence = \"TGTTGTGTAAGGTGTACCTCGTTCAGTTACGTATTGCTGGTTAAGAGTCTTGTGTCCCAGTTACCAGGCAGCACCACCCCCAAGGGGTTATGCTAGTTATTGCTCAGCGGTGGCAGCAGCCAACTCAGCTTCCTTTCGGGCTTTGTTCGCGGCCGGATCTCAGTGGTGGTGGTGGTGGTGCTCGAGCCAGTCATTCTCCTTAGTATAAGGGTGTGACCAGATGGCAACTACTGAAGCACGACTTGAGCCAAGCGTTGTACATCCCTTCGATGTCTTCCGGAGAGCCACCTTTCTTAGCCAAAAATGGCTTGATAGTGGCGGTGATAGGATAGATATTTGCGATAAGATAACGAAGTGGGATATGGGGCACGGTGCGTACTCCGTCGACCCCTTTCTTTGAACGGTGATGACGAAGCCCAACTTCGTACTGGTAGTCTAACCATTCACGGTTATAGTCGCGCCAGGTAGTGTCCAGAATCCAGGCTCCAAAGCGAGCGCGTACACGTTCCAGGTATTCCTTAATAGGCTCTCCTGTATCCGGATTGGAGAAGTAATAAATCAAATGCTCATTAAATGTTAGCAACCATCCCACAAGTCAAGGATCTCATCAACTTGATCTTTCAGAACGTCACGCGCCTTTTTCAAGTACATTACGTCCTTTTCACCTAACATGGCAGTCTTCTTCAGAAGGTCAAACTCAAGGTCCGTGATGGGTGACTTCTGAGCACGCCCATAATCATCTCCGGGATGTCCGAGGGAGTCATCTATATCTCCTTCTTAAAGTTAAACAAAATTATTTCTAGAGGGGAATTGTTATCCGCTCACAATTCCCCTATAGTGAGTCGTATTAATTTCGGGATGGAATTTCTAGAGTCCTGAAGTAAGTGTGGGTGAGCAATACATAG\"  # Example with barcode at the end\n",
    "\n",
    "barcodes = {\"Barcode01\" : \"AAGAAAGTTGTCGGTGTCTTTGTG\",\n",
    "            \"Barcode02\" : \"TCGATTCCGTTTGTAGTCGTCTGT\",\n",
    "            \"Barcode03\" : \"GAGTCTTGTGTCCCAGTTACCAGG\"\n",
    "            }\n",
    "\n",
    "config = {\n",
    "    \"start_gap1\": 40,\n",
    "    \"end_gap1\": 40,\n",
    "    \"open_gap1\": 0,\n",
    "    \"extend_gap1\": -40,\n",
    "    \"start_gap2\": 40,\n",
    "    \"end_gap2\": 40,\n",
    "    \"open_gap2\": -160,\n",
    "    \"extend_gap2\": -160,\n",
    "    \"min_score_barcode_front\": 60.0,\n",
    "    \"front_window_size\": 150,\n",
    "    \"rear_window_size\": 150,\n",
    "}"
   ]
  },
  {
   "cell_type": "code",
   "execution_count": 5,
   "metadata": {},
   "outputs": [],
   "source": [
    "def scoring_matrix():\n",
    "    return {\n",
    "        ('A', 'A'): 96,  ('A', 'C'): -316, ('A', 'G'): -192, ('A', 'T'): -369, ('A', 'N'): 0,\n",
    "        ('C', 'A'): -316,('C', 'C'): 100,  ('C', 'G'): -352, ('C', 'T'): -295, ('C', 'N'): 0,\n",
    "        ('G', 'A'): -192,('G', 'C'): -352, ('G', 'G'): 98,   ('G', 'T'): -329, ('G', 'N'): 0,\n",
    "        ('T', 'A'): -369,('T', 'C'): -295, ('T', 'G'): -329, ('T', 'T'): 100,  ('T', 'N'): 0,\n",
    "        ('N', 'A'): 0,   ('N', 'C'): 0,    ('N', 'G'): 0,    ('N', 'T'): 0,    ('N', 'N'): 0,\n",
    "    }"
   ]
  },
  {
   "cell_type": "code",
   "execution_count": 8,
   "metadata": {},
   "outputs": [
    {
     "name": "stdout",
     "output_type": "stream",
     "text": [
      "2364\n",
      "Aligned Sequences:\n",
      "TGTTGTGTAAGGTGTACCTCGTTCAGTTAC--GTAT-TGCTGGTTAAGAGTCTTGTGTCCCAGTTACCAGGCAGCACCACCCCCAAGGGGTTATGCTAGTTAT\n",
      "-----------------------AAG--A-AAGT-TGT-C-GG-T----GTCTT-TGTG--------------------------------------------\n",
      "Alignment Score: 54.145516074450086\n",
      "Alignment starts at position 24 and ends at position 58\n",
      "2380\n",
      "Aligned Sequences:\n",
      "TGTTGTGTAAGGTGTACCTCG-TTCAGTTACGTATTGCTG-GTTAAGA-GTCTTGTGTCCCAGTTACCAGGCAGCACCACCCCCAAGGGGTTATGCTAGTTAT\n",
      "------------------TCGATTC-----CGT-TTG-T-AG-T----CGTC-TGT-----------------------------------------------\n",
      "Alignment Score: 59.15966386554622\n",
      "Alignment starts at position 18 and ends at position 56\n",
      "2370\n",
      "Aligned Sequences:\n",
      "TGTTGTGTAAGGTGTACCTCGTTCAGTTACGTATTGCTGGTTAAGAGTCTTGTGTCCCAGTTACCAGGCAGCACCACCCCCAAGGGGTTATGCTAGTTAT\n",
      "--------------------------------------------GAGTCTTGTGTCCCAGTTACCAGG--------------------------------\n",
      "Alignment Score: 100.0\n",
      "Alignment starts at position 44 and ends at position 68\n"
     ]
    }
   ],
   "source": [
    "def get_theoretical_max_score(barcode, scoring_matrix):\n",
    "    # Get the match score for a matching pair of nucleotides\n",
    "    match_score = 0\n",
    "    for i in range(len(barcode)):\n",
    "        if barcode[i] != 'N':\n",
    "            match_score += scoring_matrix[(barcode[i], barcode[i])]\n",
    "    \n",
    "    \n",
    "    # The theoretical max score is N * match score\n",
    "    return match_score\n",
    "\n",
    "def get_best_scored_segment(seq1, seq2, config, top_k=20):\n",
    "    # Only consider the first 100bp of seq2 for alignment\n",
    "    seq1 = seq1[:100]\n",
    "    sm = scoring_matrix()\n",
    "    # Perform local alignment using Smith-Waterman algorithm\n",
    "    alignments = pairwise2.align.localds(seq1, seq2, sm, -40, -40)\n",
    "    # Get top-k alignments\n",
    "    top_alignments = alignments[:top_k]\n",
    "    \n",
    "    best_score = 0\n",
    "    best_alignment = None\n",
    "    \n",
    "    for alignment in top_alignments:\n",
    "        # Unpack alignment data\n",
    "        aligned_seq1, aligned_seq2, score, begin, end = alignment\n",
    "        \n",
    "        # Recalculate score from 'begin' to 'end'\n",
    "        segment_score = 0\n",
    "        for i in range(begin, end):\n",
    "\n",
    "            # Use the scoring matrix to calculate the score\n",
    "            segment_score += sm.get((aligned_seq1[i], aligned_seq2[i]), 0)\n",
    "        \n",
    "        # Update if the score of this segment is the best so far\n",
    "        if segment_score > best_score:\n",
    "            best_score = segment_score\n",
    "            best_alignment = alignment\n",
    "    \n",
    "    # Return the best-scoring alignment segment\n",
    "    return best_alignment\n",
    "\n",
    "for barcode_name, barcode_seq in barcodes.items():\n",
    "\n",
    "    sm  = scoring_matrix()\n",
    "\n",
    "    theoretical_max_score = get_theoretical_max_score(barcode_seq, sm)\n",
    "\n",
    "    print(theoretical_max_score)\n",
    "\n",
    "    alignment = get_best_scored_segment(sequence, barcode_seq, config)\n",
    "    \n",
    "    if alignment:\n",
    "        aligned_seq1, aligned_seq2, score, begin, end = alignment\n",
    "        norm_score = (score / theoretical_max_score) * 100\n",
    "        print(\"Aligned Sequences:\")\n",
    "        print(aligned_seq1)\n",
    "        print(aligned_seq2)\n",
    "        print(\"Alignment Score:\", norm_score)\n",
    "        print(\"Alignment starts at position\", begin, \"and ends at position\", end)\n"
   ]
  },
  {
   "cell_type": "code",
   "execution_count": 82,
   "metadata": {},
   "outputs": [
    {
     "name": "stdout",
     "output_type": "stream",
     "text": [
      "Aligned Sequences:\n",
      "TGTGTGCATGTACTCGTTCAGTTACGTATTGCTGGACGAAGAACTCAAGTCAAAGGCATCTCAATCCCGCGAAATTAATACGACTCACTATAGGGGAATTGTCAGCGGATAACAATTCCCCTCTAAATAATTTTGTTTAACTTT\n",
      "-----------------------A---A------GA--AAG---T----T-----G--------T--CG-G-------T--G--T--C----------TT-T-----G-------------------------TG---------\n",
      "Alignment Score: -2436.0\n",
      "Alignment starts at position 0 and ends at position 144\n",
      "Aligned Sequences:\n",
      "TGTGTGCATGTACTCGTTCAGTTACGTATTGCTGGACGAAGAACTCAAGTCAAAGGCATCTCAATCCCGCGAAATTAATACGACTCACTATAGGGGAATTGTCAGCGGATAACAATTCCCCTCTAAATAATTTTGTTTAACTTT\n",
      "-------------------------------------------------TC----G-A--T---T--C-CG---TT--T--G--------T------A--GT---C-G-------------TC----------TG--------T\n",
      "Alignment Score: -2420.0\n",
      "Alignment starts at position 0 and ends at position 144\n",
      "Aligned Sequences:\n",
      "TGTGTGCATGTACTCGTTCAGTTACGTATTGCTGGACGAAGAACTCAAGTCAAAGGCATCTCAATCCCGCGAAATTAATACGACTCACTATAGGGGAATTGTCAGCGGATAACAATTCCCCTCTAAATAATTTTGTTTAACTTT\n",
      "---------------G---AG-T-C----T--T-------G---T---GT------C--C-C-A------G-------T-----T-AC--------------CA---G--------------------------G---------\n",
      "Alignment Score: -2430.0\n",
      "Alignment starts at position 0 and ends at position 144\n"
     ]
    }
   ],
   "source": [
    "def get_best_scored_segment_global(seq1, seq2, config, top_k=5):\n",
    "    # Perform global alignment using Needleman-Wunsch algorithm\n",
    "    sm = scoring_matrix()\n",
    "    alignments = pairwise2.align.globalds(seq1, seq2, sm, \n",
    "                                          config[\"open_gap1\"], \n",
    "                                          config[\"extend_gap1\"])\n",
    "    \n",
    "    # Get top-k alignments\n",
    "    top_alignments = alignments[:top_k]\n",
    "\n",
    "    best_score = 0\n",
    "    best_alignment = None\n",
    "    \n",
    "  \n",
    "    \n",
    "    for alignment in top_alignments:\n",
    "        # Unpack alignment data\n",
    "        aligned_seq1, aligned_seq2, score, begin, end = alignment\n",
    "        \n",
    "        # Recalculate score for the entire aligned segment\n",
    "        segment_score = 0\n",
    "        for i in range(len(aligned_seq1)):\n",
    "            # Use the scoring matrix to calculate the score\n",
    "            segment_score += sm.get((aligned_seq1[i], aligned_seq2[i]), 0)\n",
    "        \n",
    "        # Update if the score of this segment is the best so far\n",
    "        if segment_score > best_score:\n",
    "            best_score = segment_score\n",
    "            best_alignment = alignment\n",
    "    \n",
    "    # Return the best-scoring alignment segment\n",
    "    return best_alignment\n",
    "\n",
    "\n",
    "for barcode_name, barcode_seq in barcodes.items():\n",
    "    alignment = get_best_scored_segment_global(sequence, barcode_seq, config)\n",
    "    \n",
    "    if alignment:\n",
    "        aligned_seq1, aligned_seq2, score, begin, end = alignment\n",
    "        print(\"Aligned Sequences:\")\n",
    "        print(aligned_seq1)\n",
    "        print(aligned_seq2)\n",
    "        print(\"Alignment Score:\", score)\n",
    "        print(\"Alignment starts at position\", begin, \"and ends at position\", end)\n"
   ]
  },
  {
   "cell_type": "code",
   "execution_count": 53,
   "metadata": {},
   "outputs": [
    {
     "data": {
      "text/plain": [
       "{'start_gap1': 40,\n",
       " 'end_gap1': 40,\n",
       " 'open_gap1': 40,\n",
       " 'extend_gap1': 40,\n",
       " 'start_gap2': 40,\n",
       " 'end_gap2': 40,\n",
       " 'open_gap2': 160,\n",
       " 'extend_gap2': 160,\n",
       " 'min_score_barcode_front': 60.0,\n",
       " 'front_window_size': 150,\n",
       " 'rear_window_size': 150}"
      ]
     },
     "execution_count": 53,
     "metadata": {},
     "output_type": "execute_result"
    }
   ],
   "source": [
    "config"
   ]
  },
  {
   "cell_type": "code",
   "execution_count": null,
   "metadata": {},
   "outputs": [],
   "source": []
  }
 ],
 "metadata": {
  "kernelspec": {
   "display_name": "minion",
   "language": "python",
   "name": "python3"
  },
  "language_info": {
   "codemirror_mode": {
    "name": "ipython",
    "version": 3
   },
   "file_extension": ".py",
   "mimetype": "text/x-python",
   "name": "python",
   "nbconvert_exporter": "python",
   "pygments_lexer": "ipython3",
   "version": "3.9.18"
  },
  "orig_nbformat": 4
 },
 "nbformat": 4,
 "nbformat_minor": 2
}
