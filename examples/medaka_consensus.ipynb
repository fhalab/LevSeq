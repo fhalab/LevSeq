{
 "cells": [
  {
   "cell_type": "code",
   "execution_count": 2,
   "metadata": {},
   "outputs": [],
   "source": [
    "from medaka.features import pileup_counts\n",
    "\n",
    "\n",
    "import sys\n",
    "sys.path.append(\"/home/emre/github_repo/MinION\")\n",
    "from minION.util.IO_processor import get_barcode_dict\n",
    "from minION import analyser\n",
    "from minION import consensus\n",
    "import importlib\n",
    "importlib.reload(analyser)\n",
    "importlib.reload(consensus)\n",
    "from uncertainties import ufloat \n",
    "from pathlib import Path\n"
   ]
  },
  {
   "cell_type": "code",
   "execution_count": 4,
   "metadata": {},
   "outputs": [],
   "source": [
    "template_fasta = Path(\"/home/emre/github_repo/MinION/minION/refseq/hetcpiii.fasta\")\n",
    "d_path = \"/home/emre/minION_results/MinION_RBC_0902723_sup/Demultiplex_cpp_70_short\"\n",
    "summary = analyser.read_summary_file(d_path)"
   ]
  },
  {
   "cell_type": "code",
   "execution_count": 5,
   "metadata": {},
   "outputs": [
    {
     "name": "stdout",
     "output_type": "stream",
     "text": [
      "Help on function pileup_counts in module medaka.features:\n",
      "\n",
      "pileup_counts(region, bam, dtype_prefixes=None, region_split=100000, workers=8, tag_name=None, tag_value=None, keep_missing=False, num_qstrat=1, weibull_summation=False, read_group=None)\n",
      "    Create pileup counts feature array for region.\n",
      "    \n",
      "    :param region: `medaka.common.Region` object\n",
      "    :param bam: .bam file with alignments.\n",
      "    :param dtype_prefixes: prefixes for query names which to separate counts.\n",
      "        If `None` (or of length 1), counts are not split.\n",
      "    :param region_split: largest region to process in single thread.\n",
      "        Regions are processed in parallel and stitched before being returned.\n",
      "    :param workers: worker threads for calculating pileup.\n",
      "    :param tag_name: two letter tag name by which to filter reads.\n",
      "    :param tag_value: integer value of tag for reads to keep.\n",
      "    :param keep_missing: whether to keep reads when tag is missing.\n",
      "    :param num_qstrat: number of layers for qscore stratification.\n",
      "    :param weibull_summation: use a Weibull partial-counts approach,\n",
      "        requires 'WL' and 'WK' float-array tags.\n",
      "    \n",
      "    :returns: iterator of tuples\n",
      "        (pileup counts array, reference positions, insertion positions)\n",
      "        Multiple chunks are returned if there are discontinuities in\n",
      "        positions caused e.g. by gaps in coverage.\n",
      "\n"
     ]
    }
   ],
   "source": [
    "help(pileup_counts)"
   ]
  },
  {
   "cell_type": "code",
   "execution_count": 6,
   "metadata": {},
   "outputs": [],
   "source": [
    "from medaka.common import Region\n"
   ]
  },
  {
   "cell_type": "code",
   "execution_count": null,
   "metadata": {},
   "outputs": [],
   "source": [
    "from timeit import default_timer as now\n",
    "\n",
    "\n",
    "t0 = now()\n",
    "region = Region.from_string(\"hetcpiii:1-612\")\n",
    "bam_file = 'saureus.bam'\n",
    "pileup_data = pileup_counts(region, bam_file)\n",
    "pileup_data = pileup_data[0]  # implementation detail that need not trouble us\n",
    "counts, positions = pileup_data\n",
    "t1 = now()\n",
    "print(\"{:.2f}s to form pileup counts.\".format(t1 - t0))"
   ]
  },
  {
   "cell_type": "code",
   "execution_count": 12,
   "metadata": {},
   "outputs": [
    {
     "name": "stdout",
     "output_type": "stream",
     "text": [
      "[E::hts_open_format] Failed to open file \"/home/emre/minION_results/MinION_RBC_0902723_sup/Demultiplex_cpp_70_short/RB01/NB03/alignment.bam\" : No such file or directory\n",
      "samtools flagstat: Cannot open input file \"/home/emre/minION_results/MinION_RBC_0902723_sup/Demultiplex_cpp_70_short/RB01/NB03/alignment.bam\": No such file or directory\n"
     ]
    }
   ],
   "source": [
    "!samtools flagstat /home/emre/minION_results/MinION_RBC_0902723_sup/Demultiplex_cpp_70_short/RB01/NB03/alignment.bam"
   ]
  },
  {
   "cell_type": "code",
   "execution_count": null,
   "metadata": {},
   "outputs": [],
   "source": []
  }
 ],
 "metadata": {
  "kernelspec": {
   "display_name": "medaka",
   "language": "python",
   "name": "python3"
  },
  "language_info": {
   "codemirror_mode": {
    "name": "ipython",
    "version": 3
   },
   "file_extension": ".py",
   "mimetype": "text/x-python",
   "name": "python",
   "nbconvert_exporter": "python",
   "pygments_lexer": "ipython3",
   "version": "3.10.8"
  }
 },
 "nbformat": 4,
 "nbformat_minor": 2
}
