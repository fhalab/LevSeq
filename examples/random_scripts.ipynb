{
 "cells": [
  {
   "cell_type": "code",
   "execution_count": null,
   "metadata": {},
   "outputs": [],
   "source": [
    "variant_df = variant_df.dropna(subset=[\"Variant_Combo_Ref\"])\n",
    "\n",
    "df_all = variant_df.copy()\n",
    "df_mut = variant_df.copy()\n",
    "df_parent = variant_df.copy()\n",
    "\n",
    "#Remove References\n",
    "df_all = df_all[~df_all[\"Well\"].isin([\"A1\", \"A12\", \"H1\", \"H12\"])]\n",
    "df_mut = df_mut[~df_mut[\"Well\"].isin([\"A1\", \"A12\", \"H1\", \"H12\"])]\n",
    "df_parent = df_parent[~df_parent[\"Well\"].isin([\"A1\", \"A12\", \"H1\", \"H12\"])]\n",
    "\n",
    "df_all.dropna(subset=[\"Variant_Combo_Ref\"], inplace=True)\n",
    "df_mut.dropna(subset=[\"Variant_Combo_Ref\"], inplace=True)\n",
    "df_parent.dropna(subset=[\"Variant_Combo_Ref\"], inplace=True)\n",
    "\n",
    "df_all[['Correct', 'Missed', 'CorrectMutations', 'MissedMutations']] = df_all.apply(compare_mutations, args=[False],axis=1)\n",
    "df_mut[['Correct', 'Missed', 'CorrectMutations', 'MissedMutations']] = df_mut.apply(compare_mutations, args=[True],axis=1)\n",
    "df_parent[['Correct', 'Missed', 'CorrectMutations', 'MissedMutations']] = df_parent.apply(compare_only_Parent, axis=1)\n",
    "#Remove Well A1, A12, H1, H12\n",
    "accuracy_parent = df_parent[\"Correct\"].sum() / df_parent.apply(count_parent, axis=1).sum()\n",
    "accuracy_all = df_all[\"Correct\"].sum() / (df_parent.apply(count_parent, axis=1).sum() + df_mut.apply(count_mutations, axis=1).sum())\n",
    "accuracy_mut_only  = df_mut[\"Correct\"].sum() / df_mut.apply(count_mutations, axis=1).sum()\n",
    "\n",
    "Accuracy = {\"Accuracy\" : [accuracy_parent, accuracy_all, accuracy_mut_only], \"Type\" : [\"Parent\", \"All\", \"Mutations Only\"]}\n",
    "pd.DataFrame(Accuracy).to_csv(\"/home/emre/github_repo/MinION/results/1_hetcpiii_flongle_errorprone/guppy/accuracy.csv\")"
   ]
  }
 ],
 "metadata": {
  "language_info": {
   "name": "python"
  }
 },
 "nbformat": 4,
 "nbformat_minor": 2
}
