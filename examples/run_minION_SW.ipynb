{
 "cells": [
  {
   "cell_type": "markdown",
   "metadata": {},
   "source": [
    "# Every Variant Sequencing with Oxford Nanopore Technologies\n",
    "\n",
    "This script is being used after sequencing. The raw pod5 files can be basecalled or the already basecalled files can be used directly (fastq.gz)\n",
    "\n",
    "## Workflow\n",
    "\n",
    "### 1. Basecalling (Optional)\n",
    "\n",
    "- The raw reads are stored in the main folder of ONT (e.g /var/lib/minknow/data). Enter the experiment name as input. \n",
    "- Sequences are basecalled based on the model of choice. If enough computational power is available, we recommend \"sup\" method\n",
    "\n",
    "### 2. Demultiplexing \n",
    "- Each reead is assigned to a well/plate combination. \n",
    "\n",
    "### 3. Variant Calling\n",
    "- Minimap2 for creating Multiple Sequence Alignment (MSA)\n",
    "- Base Frequency Caller is being used for variant calling\n",
    "\n"
   ]
  },
  {
   "cell_type": "markdown",
   "metadata": {},
   "source": [
    "### Packages "
   ]
  },
  {
   "cell_type": "code",
   "execution_count": 1,
   "metadata": {
    "tags": []
   },
   "outputs": [
    {
     "ename": "ModuleNotFoundError",
     "evalue": "No module named 'minION'",
     "output_type": "error",
     "traceback": [
      "\u001b[0;31m---------------------------------------------------------------------------\u001b[0m",
      "\u001b[0;31mModuleNotFoundError\u001b[0m                       Traceback (most recent call last)",
      "\u001b[0;32m<ipython-input-1-9131f9b26e52>\u001b[0m in \u001b[0;36m<module>\u001b[0;34m\u001b[0m\n\u001b[1;32m      4\u001b[0m \u001b[0msys\u001b[0m\u001b[0;34m.\u001b[0m\u001b[0mpath\u001b[0m\u001b[0;34m.\u001b[0m\u001b[0mappend\u001b[0m\u001b[0;34m(\u001b[0m\u001b[0;34m\"/home/emre/github_repo/MinION\"\u001b[0m\u001b[0;34m)\u001b[0m\u001b[0;34m\u001b[0m\u001b[0;34m\u001b[0m\u001b[0m\n\u001b[1;32m      5\u001b[0m \u001b[0;34m\u001b[0m\u001b[0m\n\u001b[0;32m----> 6\u001b[0;31m \u001b[0;32mfrom\u001b[0m \u001b[0mminION\u001b[0m\u001b[0;34m.\u001b[0m\u001b[0mutil\u001b[0m \u001b[0;32mimport\u001b[0m \u001b[0mIO_processor\u001b[0m\u001b[0;34m\u001b[0m\u001b[0;34m\u001b[0m\u001b[0m\n\u001b[0m\u001b[1;32m      7\u001b[0m \u001b[0;32mfrom\u001b[0m \u001b[0mminION\u001b[0m\u001b[0;34m.\u001b[0m\u001b[0mbasecaller\u001b[0m \u001b[0;32mimport\u001b[0m \u001b[0mBasecaller\u001b[0m\u001b[0;34m\u001b[0m\u001b[0;34m\u001b[0m\u001b[0m\n\u001b[1;32m      8\u001b[0m \u001b[0;34m\u001b[0m\u001b[0m\n",
      "\u001b[0;31mModuleNotFoundError\u001b[0m: No module named 'minION'"
     ]
    }
   ],
   "source": [
    "# Import all packages\n",
    "\n",
    "import sys\n",
    "sys.path.append(\"/home/emre/github_repo/MinION\")\n",
    "\n",
    "from minION.util import IO_processor\n",
    "from minION.basecaller import Basecaller\n",
    "\n",
    "from minION.variantcaller import *\n",
    "\n",
    "from pathlib import Path\n",
    "import pandas as pd\n",
    "import matplotlib.pyplot as plt\n",
    "import subprocess\n",
    "import importlib\n",
    "importlib.reload(IO_processor)\n",
    "\n",
    "import pickle\n",
    "from Bio import SeqIO\n",
    "import gzip\n",
    "import subprocess\n",
    "import mappy as mp\n",
    "import holoviews as hv\n",
    "import re\n",
    "\n",
    "import ninetysix as ns\n",
    "import colorcet as cc\n",
    "import warnings\n",
    "\n",
    "import bokeh.io\n",
    "import holoviews as hv\n",
    "from holoviews import opts\n",
    "\n",
    "hv.extension('bokeh')\n",
    "bokeh.io.output_notebook()"
   ]
  },
  {
   "cell_type": "code",
   "execution_count": 54,
   "metadata": {
    "tags": []
   },
   "outputs": [],
   "source": [
    "def translate(seq):\n",
    "      \n",
    "    table = {\n",
    "        'ATA':'I', 'ATC':'I', 'ATT':'I', 'ATG':'M',\n",
    "        'ACA':'T', 'ACC':'T', 'ACG':'T', 'ACT':'T',\n",
    "        'AAC':'N', 'AAT':'N', 'AAA':'K', 'AAG':'K',\n",
    "        'AGC':'S', 'AGT':'S', 'AGA':'R', 'AGG':'R',                 \n",
    "        'CTA':'L', 'CTC':'L', 'CTG':'L', 'CTT':'L',\n",
    "        'CCA':'P', 'CCC':'P', 'CCG':'P', 'CCT':'P',\n",
    "        'CAC':'H', 'CAT':'H', 'CAA':'Q', 'CAG':'Q',\n",
    "        'CGA':'R', 'CGC':'R', 'CGG':'R', 'CGT':'R',\n",
    "        'GTA':'V', 'GTC':'V', 'GTG':'V', 'GTT':'V',\n",
    "        'GCA':'A', 'GCC':'A', 'GCG':'A', 'GCT':'A',\n",
    "        'GAC':'D', 'GAT':'D', 'GAA':'E', 'GAG':'E',\n",
    "        'GGA':'G', 'GGC':'G', 'GGG':'G', 'GGT':'G',\n",
    "        'TCA':'S', 'TCC':'S', 'TCG':'S', 'TCT':'S',\n",
    "        'TTC':'F', 'TTT':'F', 'TTA':'L', 'TTG':'L',\n",
    "        'TAC':'Y', 'TAT':'Y', 'TAA':'-', 'TAG':'-',\n",
    "        'TGC':'C', 'TGT':'C', 'TGA':'-', 'TGG':'W',\n",
    "    }\n",
    "    protein =\"\"\n",
    "    if len(seq)%3 == 0:\n",
    "        for i in range(0, len(seq), 3):\n",
    "            codon = seq[i:i + 3]\n",
    "            protein+= table[codon]\n",
    "    return protein"
   ]
  },
  {
   "cell_type": "code",
   "execution_count": 55,
   "metadata": {
    "tags": []
   },
   "outputs": [],
   "source": [
    "def get_mut(temp_seq, aa_seq):\n",
    "    i = 0\n",
    "    mut_ls = []\n",
    "    for i in range(len(list(zip(temp_seq, aa_seq)))):\n",
    "        if temp_seq[i] != aa_seq[i]:\n",
    "            mut_ls.append(temp_seq[i]+str(i+1)+aa_seq[i])\n",
    "        i = i + 1\n",
    "    return mut_ls"
   ]
  },
  {
   "cell_type": "code",
   "execution_count": 56,
   "metadata": {
    "tags": []
   },
   "outputs": [],
   "source": [
    "def _make_platemap(df, title, cmap=None):\n",
    "    \"\"\"Generates a plate heatmap from evSeq data using Holoviews with\n",
    "    bokeh backend.\n",
    "\n",
    "    Called via `generate_platemaps`; see docs there.\n",
    "    \"\"\"\n",
    "    # Convert SeqDepth to log for easier visualization.\n",
    "    df['logseqdepth'] = np.log(\n",
    "        df['Alignment Count'],\n",
    "        out=np.zeros_like(df['Alignment Count'], dtype=float),\n",
    "        where=(df['Alignment Count'] != 0)\n",
    "    )\n",
    "    \n",
    "    # Create necessary Row and Column values and sort\n",
    "    df = df.sort_values(['Column', 'Row'])\n",
    "    df['Column'] = df['Column'].astype('str')\n",
    "\n",
    "    # Set some base opts\n",
    "    opts = dict(invert_yaxis=True, title=title, show_legend=True)\n",
    "    \n",
    "    # logseqdepth heatmap\n",
    "    seq_depth_cmap = list(reversed(cc.CET_D9))\n",
    "    \n",
    "    # Set the center\n",
    "    center = np.log(10)\n",
    "\n",
    "    add_min = False\n",
    "    if df['logseqdepth'].min() >= center:\n",
    "        add_min = True\n",
    "\n",
    "    # Adjust if it is greater than max of data (avoids ValueError)\n",
    "    if df['logseqdepth'].max() <= center:\n",
    "        # Adjust the center\n",
    "        center = df['logseqdepth'].median()\n",
    "\n",
    "    # center colormap\n",
    "    if not add_min:\n",
    "        color_levels = ns.viz._center_colormap(df['logseqdepth'], center)\n",
    "    else:\n",
    "        color_levels = ns.viz._center_colormap(\n",
    "            list(df['logseqdepth']) + [np.log(1)],\n",
    "            center\n",
    "        )\n",
    "\n",
    "    \n",
    "    # Get heights\n",
    "    n_rows = len(df['Row'].unique())\n",
    "    n_cols = len(df['Column'].unique())\n",
    "    height = int(50* n_rows)\n",
    "    width = height * n_cols // n_rows\n",
    "\n",
    "    # add tooltips\n",
    "    tooltips = [\n",
    "        ('Mutations', '@Mutations'),\n",
    "        ('Alignment Count', '@Alignment Count'),\n",
    "        ('Alignment Probability', '@Alignment Probability')\n",
    "    ]\n",
    "\n",
    "    def hook(plot, element):\n",
    "        plot.handles['y_range'].factors = list('HGFEDCBA')\n",
    "        plot.handles['x_range'].factors = [str(value) for value in range(1,13)]\n",
    "\n",
    "    # generate the heatmap\n",
    "    hm = hv.HeatMap(\n",
    "        df,\n",
    "        kdims=['Column', 'Row'],\n",
    "        vdims=[\n",
    "            'logseqdepth',\n",
    "            'Mutations',\n",
    "            'Alignment Count',\n",
    "            'Alignment Probability',\n",
    "        ],\n",
    "    ).redim.values(\n",
    "        row=np.unique(df[\"Row\"]),\n",
    "        Column=np.unique(df[\"Column\"])\n",
    "    ).opts(\n",
    "        **opts,\n",
    "        colorbar=True,\n",
    "        cmap=seq_depth_cmap,\n",
    "        height=height,\n",
    "        width=width,\n",
    "        line_width=4,\n",
    "        clipping_colors={'NaN': '#DCDCDC'},\n",
    "        color_levels=color_levels,\n",
    "        tools=['hover'],\n",
    "        colorbar_opts=dict(\n",
    "            title='LogSeqDepth',\n",
    "            background_fill_alpha=0\n",
    "        ),\n",
    "        hooks=[hook]\n",
    "    )\n",
    " # function to bin the alignment frequencies into more relevant groupings\n",
    "    def bin_align_freq(value):\n",
    "        if value > 0.95:\n",
    "            bin_vals = '0.95+'\n",
    "        if value <= 0.95 and value > 0.9:\n",
    "            bin_vals = '0.90-0.95'\n",
    "        if value <= 0.9 and value > 0.8:\n",
    "            bin_vals = '0.80-0.90'\n",
    "        # anything below 0.8 should really be discarded\n",
    "        if value < 0.8:\n",
    "            bin_vals = '<0.80'\n",
    "        if value == 0.0:\n",
    "            bin_vals = '<0.80'\n",
    "        return bin_vals\n",
    "    \n",
    "    # Bin alignment frequencies for easier viz\n",
    "    bins = ['0.95+', '0.90-0.95', '0.80-0.90','<0.80']\n",
    "    if cmap is None:\n",
    "        cmap = [cc.bmy[int((1.1-i)*len(cc.bmy))]\n",
    "                for i in [0.95, 0.9, 0.8, 0.4]]\n",
    "    if 'stoplight' in cmap:\n",
    "        cmap = ['#337D1F', '#94CD35', '#FFC300', '#C62C20']\n",
    "    else:\n",
    "        # Validate colormap\n",
    "        if not isinstance(cmap, (list, tuple)):\n",
    "            raise ValueError('cmap argument must be a list or tuple')\n",
    "        if len(cmap) > 4:\n",
    "            raise ValueError(\n",
    "                'cmap argument has too many entries; only 4 should be passed'\n",
    "            )\n",
    "    cmap = {bin: color for bin, color in zip(bins, cmap)}\n",
    "\n",
    "    # apply binning function to the AlignmentFrequency\n",
    "    df['AlignmentProbabilityBinned'] = df['Alignment Probability'].apply(\n",
    "        bin_align_freq)\n",
    "\n",
    "    # Set up size of the outline boxes\n",
    "    box_size = height // n_rows*1.2\n",
    "\n",
    "    # alignment frequency heatmap for edges around wells\n",
    "    boxes = hv.Points(\n",
    "        df.sort_values(['Alignment Probability'], ascending=False),\n",
    "        ['Column', 'Row'],\n",
    "        'AlignmentProbabilityBinned'\n",
    "    ).opts(\n",
    "        **opts,\n",
    "        marker='square',\n",
    "        line_color='AlignmentProbabilityBinned',\n",
    "        line_join='miter',\n",
    "        cmap=cmap,\n",
    "        line_width=6,\n",
    "        fill_alpha=0,\n",
    "        line_alpha=1,\n",
    "        legend_position='top',\n",
    "        size=box_size,\n",
    "    )\n",
    "    \n",
    "    # Use in apply statement for residue labels\n",
    "    def split_variant_labels(mutation_string):\n",
    "        \n",
    "        num_mutations = len(mutation_string.split('_'))\n",
    "\n",
    "        if  num_mutations > 4:\n",
    "            return str(num_mutations)+' muts'\n",
    "\n",
    "        mutation_string = mutation_string.replace('?','')\n",
    "        new_line_mutations = mutation_string.replace('_','\\n')\n",
    "        \n",
    "        return new_line_mutations\n",
    "    \n",
    "    _df = df.copy()\n",
    "    _df['Labels'] = _df['Mutations'].apply(split_variant_labels)\n",
    "\n",
    "    # Set the font size based on if #PARENT# is in a well and num of mutations\n",
    "    max_num_mutations = _df['Labels'].apply(lambda x: len(x.split('\\n'))).max()\n",
    "    has_parent = ('#PARENT#' in _df['Labels'])\n",
    "    \n",
    "    if max_num_mutations > 3 or has_parent:\n",
    "        label_fontsize = '8pt'\n",
    "    else:\n",
    "        label_fontsize = '8pt'\n",
    "\n",
    "    labels = hv.Labels(\n",
    "        _df,\n",
    "        ['Column', 'Row'],\n",
    "        'Labels',\n",
    "    ).opts(\n",
    "        text_font_size=label_fontsize,\n",
    "        **opts,\n",
    "        text_color = '#000000'\n",
    "    )\n",
    "    # return formatted final plot\n",
    "    return (hm*boxes*labels).opts(frame_height=550,\n",
    "                                  frame_width=550 * 3 // 2,\n",
    "                                  border=50,\n",
    "                                  show_legend=True)\n"
   ]
  },
  {
   "cell_type": "code",
   "execution_count": 85,
   "metadata": {
    "tags": []
   },
   "outputs": [],
   "source": [
    "#### Heatmap ####\n",
    "def generate_platemaps(\n",
    "    max_combo_data,\n",
    "    cmap=None,\n",
    "    widget_location='top_left',\n",
    "):\n",
    "    \"\"\"Saves a plate heatmap html generated from from evSeq data.\n",
    "    \n",
    "    Input:\n",
    "    ------\n",
    "    max_combo_data: path (str) or DartaFrame\n",
    "        Path to 'Combos_Coupled_Max.csv' from an evSeq experiment or\n",
    "        a pandas DataFrame of that file.\n",
    "    cmap: list-like or str, default None\n",
    "        The colormap to use for the well outline indicating alignment\n",
    "        frequency. If None, defaults to a Plasma-like (colorcet.bmy)\n",
    "        colormap. If 'stoplight', uses a green-yellow-red colormap (not \n",
    "        the most colorblind friendly, but highly intuitive). Otherwise\n",
    "        you may pass any list -like object containing four colors (e.g.,\n",
    "        ['#337D1F', '#94CD35', '#FFC300', '#C62C20'] for 'stoplight').\n",
    "    widget_location: string, default 'top_left'\n",
    "        Location of the widget for navigating plots. Must be one of:\n",
    "        ['left', 'bottom', 'right', 'top', 'top_left', 'top_right',\n",
    "        'bottom_left', 'bottom_right', 'left_top', 'left_bottom', \n",
    "        'right_top', 'right_bottom'].\n",
    "    \n",
    "    Returns:\n",
    "    --------\n",
    "    hm_holomap: an interactive Platemap\n",
    "    \"\"\"\n",
    "\n",
    "    # Convert to dataframe if necessary\n",
    "    if isinstance(max_combo_data, str):\n",
    "        max_combo_df = pd.read_csv(max_combo_data)\n",
    "    else:\n",
    "        max_combo_df = max_combo_data.copy()\n",
    "    \n",
    "    # Identify unique plates\n",
    "    unique_plates = max_combo_df.Plate.unique()\n",
    "    \n",
    "    # dictionary for storing plots\n",
    "    hm_dict = {}\n",
    "   \n",
    "    # make logseqdepth column\n",
    "    max_combo_df['logseqdepth'] = np.log(\n",
    "        max_combo_df['Alignment Count'], \n",
    "        out=np.zeros_like(\n",
    "            max_combo_df['Alignment Count'], \n",
    "            dtype=float\n",
    "        ),\n",
    "        where=max_combo_df['Alignment Count'] != 0\n",
    "    )\n",
    "\n",
    "    # Set the center\n",
    "    center = np.log(10)\n",
    "\n",
    "    add_min = False\n",
    "    if max_combo_df['logseqdepth'].min() >= center:\n",
    "        add_min = True\n",
    "\n",
    "    # Adjust if it is greater than max of data (avoids ValueError)\n",
    "    if max_combo_df['logseqdepth'].max() <= center:\n",
    "        # Adjust the center\n",
    "        center = max_combo_df['logseqdepth'].median()\n",
    "\n",
    "    # center colormap\n",
    "    if not add_min:\n",
    "        color_levels = ns.viz._center_colormap(\n",
    "            max_combo_df['logseqdepth'], center\n",
    "        )\n",
    "    else:\n",
    "        color_levels = ns.viz._center_colormap(\n",
    "            list(max_combo_df['logseqdepth']) + [np.log(1)],\n",
    "            center\n",
    "        )\n",
    "\n",
    "    # Uniform color levels\n",
    "    for _hm in hm_dict.values():\n",
    "        _hm.opts({'HeatMap': {'color_levels': color_levels}})\n",
    "    \n",
    "    # Generate plots for each plate\n",
    "    for plate in unique_plates:\n",
    "        \n",
    "        # Split to just the information of interest\n",
    "        df = max_combo_df.loc[max_combo_df.Plate == plate].copy()\n",
    "    \n",
    "        # generate a holoviews plot\n",
    "        hm_dict[plate] = _make_platemap(df, title=plate, cmap=cmap)  \n",
    " \n",
    "    # plot from the dictionary\n",
    "    hm_holomap = hv.HoloMap(\n",
    "        hm_dict, \n",
    "        kdims=['Plate']\n",
    "    )\n",
    "\n",
    "    # Update widget location\n",
    "    hv.output(widget_location=widget_location)\n",
    "\n",
    "    return hm_holomap"
   ]
  },
  {
   "cell_type": "code",
   "execution_count": 86,
   "metadata": {
    "tags": []
   },
   "outputs": [],
   "source": [
    "def save_platemap_to_file(heatmaps, outputdir, name):\n",
    "    if not os.path.exists(os.path.join(outputdir, \"Platemaps\")):\n",
    "        os.makedirs(os.path.join(outputdir, \"Platemaps\"))\n",
    "    file_path = os.path.join(outputdir, \"Platemaps\", name)\n",
    "    hv.renderer('bokeh').save(heatmaps, file_path)\n",
    "\n",
    "def save_csv(df,outputdir,name):\n",
    "    if not os.path.exists(os.path.join(outputdir, \"Results\")):\n",
    "        os.makedirs(os.path.join(outputdir, \"Results\"))\n",
    "    file_path = os.path.join(outputdir, \"Results\", name + \".csv\")\n",
    "    df.to_csv(file_path)"
   ]
  },
  {
   "cell_type": "markdown",
   "metadata": {},
   "source": [
    "### Meta Data \n",
    "\n",
    "- Provide the following arguments:\n",
    "\n",
    "- Result Path: Path where the minion result folder will be created. All experiment results are then stored within the folder\n",
    "- Experiment Name: The experiment name is assigned when running the sequencer. Use the same name for identification\n"
   ]
  },
  {
   "cell_type": "code",
   "execution_count": 150,
   "metadata": {
    "tags": []
   },
   "outputs": [],
   "source": [
    "result_path = Path(\"/home/longy/\")\n",
    "experiment_name = \"20220216-ZZ\"\n",
    "basecall_model_type = \"sup\"\n",
    "result_folder = IO_processor.create_folder( experiment_name,\n",
    "                                            basecall_model_type, \n",
    "                                            target_path=result_path)\n",
    "\n",
    "\n",
    "\n",
    "\n",
    "# Create Barcode fasta file \n",
    "barcode_path = \"../minION/barcoding/minion_barcodes.fasta\" # Path to standard barcode file\n",
    "front_prefix = \"NB\"\n",
    "back_prefix = \"RB\"\n",
    "bp = IO_processor.BarcodeProcessor(barcode_path, front_prefix, back_prefix)\n",
    "barcode_path = result_folder / \"minion_barcodes_filtered.fasta\"\n",
    "\n",
    "# Barcode indexes\n",
    "front_min = 1\n",
    "front_max = 96\n",
    "back_min = 9\n",
    "back_max = 12\n",
    "\n",
    "# Expected fragment sizes\n",
    "min_size = 800\n",
    "max_size = 5000\n",
    "\n",
    "bp.filter_barcodes(barcode_path, (front_min,front_max), (back_min,back_max))\n",
    "\n",
    "\n",
    "file_to_experiment= f\"/var/lib/minknow/data/{experiment_name}\"\n",
    "template_fasta = \"/home/longy/zz_parent.fasta\"\n",
    "\n",
    "# Basecalling\n",
    "basecall_folder = result_folder / \"basecalled\"\n",
    "basecall_folder.mkdir(parents=True, exist_ok=True)\n",
    "experiment_folder = IO_processor.find_experiment_folder(experiment_name, '/var/lib/minknow/data') # Folder where pod5 files are located\n",
    "\n",
    "# Demultiplexing\n",
    "experiment_name = experiment_name + \"_\" + basecall_model_type\n",
    "result_folder_path = IO_processor.find_folder(result_path, experiment_name)\n"
   ]
  },
  {
   "cell_type": "code",
   "execution_count": 167,
   "metadata": {
    "tags": []
   },
   "outputs": [],
   "source": [
    "# Add conditions to avoid running the script accidentally\n",
    "skip_basecalling = True\n",
    "skip_demultiplex = False\n",
    "skip_variant_calling = False"
   ]
  },
  {
   "cell_type": "markdown",
   "metadata": {},
   "source": [
    "### Step 1 (Optional): Basecall reads\n",
    "\n",
    "- Basecall can usually be done while sequencing (if GPU available?)\n",
    "- Otherwise, basecall afterwards"
   ]
  },
  {
   "cell_type": "code",
   "execution_count": 168,
   "metadata": {
    "tags": []
   },
   "outputs": [],
   "source": [
    "if not skip_basecalling:\n",
    "\n",
    "\n",
    "    pod5_files = IO_processor.find_folder(experiment_folder, \"pod5\")\n",
    "    bc = Basecaller(basecall_model_type, pod5_files, basecall_folder, fastq = True)\n",
    "    bc.run_basecaller()\n"
   ]
  },
  {
   "cell_type": "code",
   "execution_count": 169,
   "metadata": {
    "tags": []
   },
   "outputs": [
    {
     "name": "stdout",
     "output_type": "stream",
     "text": [
      "/var/lib/minknow/data/20220216-ZZ/no_sample/20240216_1445_MN41105_flg114_f839dd7e/fastq_pass\n"
     ]
    }
   ],
   "source": [
    "# Find fastq files\n",
    "file_to_fastq = IO_processor.find_folder(experiment_folder, \"fastq_pass\")\n",
    "print(file_to_fastq)"
   ]
  },
  {
   "cell_type": "markdown",
   "metadata": {},
   "source": [
    "### Step 2: Demultiplex with SW\n",
    "- Demultiplex with SW "
   ]
  },
  {
   "cell_type": "code",
   "execution_count": 170,
   "metadata": {
    "tags": []
   },
   "outputs": [
    {
     "name": "stdout",
     "output_type": "stream",
     "text": [
      "Processed argument: -f with value: /var/lib/minknow/data/20220216-ZZ/no_sample/20240216_1445_MN41105_flg114_f839dd7e/fastq_pass\n",
      "Processed argument: -d with value: /home/longy/minION_results/20220216-ZZ_sup\n",
      "Processed argument: -b with value: /home/longy/minION_results/20220216-ZZ_sup/minion_barcodes_filtered-test.fasta\n",
      "Processed argument: -w with value: 100\n",
      "Processed argument: -r with value: 100\n",
      "Processed argument: -m with value: 800\n",
      "Processed argument: -x with value: 5000\n",
      "Number of files: 44\n",
      "Processing files: [##################################################] 100%\n"
     ]
    }
   ],
   "source": [
    "if not skip_demultiplex:\n",
    "    path_to_code = \"/home/emre/github_repo/MinION/source/source/demultiplex\"\n",
    "    prompt = f\"{path_to_code} -f {file_to_fastq} -d {result_folder} -b {barcode_path} -w {100} -r {100} -m {min_size} -x {max_size}\"\n",
    "    subprocess.run(prompt, shell=True)"
   ]
  },
  {
   "cell_type": "code",
   "execution_count": 94,
   "metadata": {
    "tags": []
   },
   "outputs": [
    {
     "name": "stdout",
     "output_type": "stream",
     "text": [
      "/home/longy/minION_results/20220216-ZZ_sup\n"
     ]
    }
   ],
   "source": [
    "demultiplex_folder = result_folder \n",
    "print(demultiplex_folder)"
   ]
  },
  {
   "cell_type": "markdown",
   "metadata": {},
   "source": [
    "### Step 3: Call Variant with PileUP Analysis\n",
    "\n",
    "- Call Variant with min freq of 0.4 & depth min 15"
   ]
  },
  {
   "cell_type": "markdown",
   "metadata": {},
   "source": [
    "Read Summary file (Optional):\n"
   ]
  },
  {
   "cell_type": "code",
   "execution_count": 95,
   "metadata": {
    "tags": []
   },
   "outputs": [],
   "source": [
    "\n",
    "demultiplex_folder_name = result_folder"
   ]
  },
  {
   "cell_type": "code",
   "execution_count": 171,
   "metadata": {
    "tags": []
   },
   "outputs": [
    {
     "data": {
      "text/plain": [
       "'/var/lib/minknow/data/20220216-ZZ'"
      ]
     },
     "execution_count": 171,
     "metadata": {},
     "output_type": "execute_result"
    }
   ],
   "source": [
    "experiment_folder"
   ]
  },
  {
   "cell_type": "code",
   "execution_count": 98,
   "metadata": {
    "tags": []
   },
   "outputs": [
    {
     "name": "stderr",
     "output_type": "stream",
     "text": [
      "0it [00:00, ?it/s]"
     ]
    },
    {
     "name": "stdout",
     "output_type": "stream",
     "text": [
      "unsupported operand type(s) for /: 'float' and 'str'\n"
     ]
    },
    {
     "name": "stderr",
     "output_type": "stream",
     "text": [
      "/home/emre/github_repo/MinION/minION/variantcaller.py:262: FutureWarning: Setting an item of incompatible dtype is deprecated and will raise an error in a future version of pandas. Value '#PARENT#' has dtype incompatible with float64, please explicitly cast to a compatible dtype first.\n",
      "  self.variant_df.at[i, \"Variant\"] = variant[\"Variant\"].values\n",
      "15it [00:44,  3.03s/it]"
     ]
    },
    {
     "name": "stdout",
     "output_type": "stream",
     "text": [
      "unsupported operand type(s) for /: 'float' and 'str'\n"
     ]
    },
    {
     "name": "stderr",
     "output_type": "stream",
     "text": [
      "63it [03:14,  2.77s/it]"
     ]
    },
    {
     "name": "stdout",
     "output_type": "stream",
     "text": [
      "Too many positions: 13, Skipping...\n"
     ]
    },
    {
     "name": "stderr",
     "output_type": "stream",
     "text": [
      "74it [03:48,  3.11s/it]"
     ]
    },
    {
     "name": "stdout",
     "output_type": "stream",
     "text": [
      "unsupported operand type(s) for /: 'float' and 'str'\n"
     ]
    },
    {
     "name": "stderr",
     "output_type": "stream",
     "text": [
      "84it [04:16,  2.86s/it]"
     ]
    },
    {
     "name": "stdout",
     "output_type": "stream",
     "text": [
      "unsupported operand type(s) for /: 'float' and 'str'\n"
     ]
    },
    {
     "name": "stderr",
     "output_type": "stream",
     "text": [
      "96it [04:50,  3.02s/it]"
     ]
    },
    {
     "name": "stdout",
     "output_type": "stream",
     "text": [
      "unsupported operand type(s) for /: 'float' and 'str'\n"
     ]
    },
    {
     "name": "stderr",
     "output_type": "stream",
     "text": [
      "111it [05:35,  3.16s/it]"
     ]
    },
    {
     "name": "stdout",
     "output_type": "stream",
     "text": [
      "unsupported operand type(s) for /: 'float' and 'str'\n"
     ]
    },
    {
     "name": "stderr",
     "output_type": "stream",
     "text": [
      "114it [05:41,  2.55s/it]"
     ]
    },
    {
     "name": "stdout",
     "output_type": "stream",
     "text": [
      "unsupported operand type(s) for /: 'float' and 'str'\n"
     ]
    },
    {
     "name": "stderr",
     "output_type": "stream",
     "text": [
      "180it [09:12,  3.33s/it]"
     ]
    },
    {
     "name": "stdout",
     "output_type": "stream",
     "text": [
      "unsupported operand type(s) for /: 'float' and 'str'\n"
     ]
    },
    {
     "name": "stderr",
     "output_type": "stream",
     "text": [
      "192it [09:47,  3.03s/it]"
     ]
    },
    {
     "name": "stdout",
     "output_type": "stream",
     "text": [
      "unsupported operand type(s) for /: 'float' and 'str'\n"
     ]
    },
    {
     "name": "stderr",
     "output_type": "stream",
     "text": [
      "207it [10:31,  3.10s/it]"
     ]
    },
    {
     "name": "stdout",
     "output_type": "stream",
     "text": [
      "unsupported operand type(s) for /: 'float' and 'str'\n"
     ]
    },
    {
     "name": "stderr",
     "output_type": "stream",
     "text": [
      "212it [10:43,  2.67s/it]"
     ]
    },
    {
     "name": "stdout",
     "output_type": "stream",
     "text": [
      "Too many positions: 16, Skipping...\n"
     ]
    },
    {
     "name": "stderr",
     "output_type": "stream",
     "text": [
      "226it [11:28,  3.09s/it]"
     ]
    },
    {
     "name": "stdout",
     "output_type": "stream",
     "text": [
      "Too many positions: 14, Skipping...\n"
     ]
    },
    {
     "name": "stderr",
     "output_type": "stream",
     "text": [
      "244it [12:25,  3.26s/it]"
     ]
    },
    {
     "name": "stdout",
     "output_type": "stream",
     "text": [
      "Too many positions: 11, Skipping...\n"
     ]
    },
    {
     "name": "stderr",
     "output_type": "stream",
     "text": [
      "257it [13:09,  3.53s/it]"
     ]
    },
    {
     "name": "stdout",
     "output_type": "stream",
     "text": [
      "Too many positions: 14, Skipping...\n"
     ]
    },
    {
     "name": "stderr",
     "output_type": "stream",
     "text": [
      "266it [13:39,  3.11s/it]"
     ]
    },
    {
     "name": "stdout",
     "output_type": "stream",
     "text": [
      "Too many positions: 11, Skipping...\n"
     ]
    },
    {
     "name": "stderr",
     "output_type": "stream",
     "text": [
      "276it [14:10,  2.99s/it]"
     ]
    },
    {
     "name": "stdout",
     "output_type": "stream",
     "text": [
      "unsupported operand type(s) for /: 'float' and 'str'\n"
     ]
    },
    {
     "name": "stderr",
     "output_type": "stream",
     "text": [
      "280it [14:18,  2.58s/it]"
     ]
    },
    {
     "name": "stdout",
     "output_type": "stream",
     "text": [
      "Too many positions: 13, Skipping...\n"
     ]
    },
    {
     "name": "stderr",
     "output_type": "stream",
     "text": [
      "288it [14:46,  3.37s/it]"
     ]
    },
    {
     "name": "stdout",
     "output_type": "stream",
     "text": [
      "unsupported operand type(s) for /: 'float' and 'str'\n"
     ]
    },
    {
     "name": "stderr",
     "output_type": "stream",
     "text": [
      "290it [14:49,  2.53s/it]"
     ]
    },
    {
     "name": "stdout",
     "output_type": "stream",
     "text": [
      "Too many positions: 28, Skipping...\n"
     ]
    },
    {
     "name": "stderr",
     "output_type": "stream",
     "text": [
      "294it [15:02,  3.10s/it]"
     ]
    },
    {
     "name": "stdout",
     "output_type": "stream",
     "text": [
      "Too many positions: 13, Skipping...\n"
     ]
    },
    {
     "name": "stderr",
     "output_type": "stream",
     "text": [
      "300it [15:19,  3.05s/it]"
     ]
    },
    {
     "name": "stdout",
     "output_type": "stream",
     "text": [
      "Too many positions: 21, Skipping...\n",
      "unsupported operand type(s) for /: 'float' and 'str'\n"
     ]
    },
    {
     "name": "stderr",
     "output_type": "stream",
     "text": [
      "312it [15:53,  3.11s/it]"
     ]
    },
    {
     "name": "stdout",
     "output_type": "stream",
     "text": [
      "unsupported operand type(s) for /: 'float' and 'str'\n"
     ]
    },
    {
     "name": "stderr",
     "output_type": "stream",
     "text": [
      "324it [16:29,  3.29s/it]"
     ]
    },
    {
     "name": "stdout",
     "output_type": "stream",
     "text": [
      "unsupported operand type(s) for /: 'float' and 'str'\n"
     ]
    },
    {
     "name": "stderr",
     "output_type": "stream",
     "text": [
      "336it [17:02,  3.03s/it]"
     ]
    },
    {
     "name": "stdout",
     "output_type": "stream",
     "text": [
      "unsupported operand type(s) for /: 'float' and 'str'\n"
     ]
    },
    {
     "name": "stderr",
     "output_type": "stream",
     "text": [
      "344it [17:24,  3.00s/it]"
     ]
    },
    {
     "name": "stdout",
     "output_type": "stream",
     "text": [
      "Too many positions: 21, Skipping...\n"
     ]
    },
    {
     "name": "stderr",
     "output_type": "stream",
     "text": [
      "346it [17:30,  3.06s/it]"
     ]
    },
    {
     "name": "stdout",
     "output_type": "stream",
     "text": [
      "Too many positions: 28, Skipping...\n"
     ]
    },
    {
     "name": "stderr",
     "output_type": "stream",
     "text": [
      "347it [17:33,  3.04s/it]"
     ]
    },
    {
     "name": "stdout",
     "output_type": "stream",
     "text": [
      "Too many positions: 13, Skipping...\n"
     ]
    },
    {
     "name": "stderr",
     "output_type": "stream",
     "text": [
      "362it [18:21,  3.24s/it]"
     ]
    },
    {
     "name": "stdout",
     "output_type": "stream",
     "text": [
      "Too many positions: 16, Skipping...\n"
     ]
    },
    {
     "name": "stderr",
     "output_type": "stream",
     "text": [
      "368it [18:40,  3.23s/it]"
     ]
    },
    {
     "name": "stdout",
     "output_type": "stream",
     "text": [
      "unsupported operand type(s) for /: 'float' and 'str'\n"
     ]
    },
    {
     "name": "stderr",
     "output_type": "stream",
     "text": [
      "372it [18:50,  2.86s/it]"
     ]
    },
    {
     "name": "stdout",
     "output_type": "stream",
     "text": [
      "unsupported operand type(s) for /: 'float' and 'str'\n"
     ]
    },
    {
     "name": "stderr",
     "output_type": "stream",
     "text": [
      "383it [19:20,  3.01s/it]"
     ]
    },
    {
     "name": "stdout",
     "output_type": "stream",
     "text": [
      "Too many positions: 12, Skipping...\n"
     ]
    },
    {
     "name": "stderr",
     "output_type": "stream",
     "text": [
      "384it [19:23,  3.03s/it]\n"
     ]
    }
   ],
   "source": [
    "if not skip_variant_calling:\n",
    "    vc = VariantCaller(experiment_folder, \n",
    "                   template_fasta, \n",
    "                   demultiplex_folder_name=demultiplex_folder_name, \n",
    "                   padding_start=0, \n",
    "                   padding_end=0)\n",
    "    \n",
    "    variant_df = vc.get_variant_df(qualities=True, \n",
    "                                threshold=0.2,\n",
    "                                min_depth=5)\n",
    "    seq_gen = IO_processor.SequenceGenerator(variant_df, template_fasta)\n",
    "    variant_df = seq_gen.get_sequences()\n",
    "    #TODO: Save the variant_df to a file after running. Currently it is not saved."
   ]
  },
  {
   "cell_type": "code",
   "execution_count": null,
   "metadata": {},
   "outputs": [],
   "source": [
    "#20 - 30\n",
    "variant_df.to_csv(result_folder / \"variant_df.csv\", index=False)  "
   ]
  },
  {
   "cell_type": "code",
   "execution_count": 99,
   "metadata": {
    "tags": []
   },
   "outputs": [
    {
     "data": {
      "text/plain": [
       "PosixPath('/home/longy/minION_results/20220216-ZZ_sup/RB09/NB02')"
      ]
     },
     "execution_count": 99,
     "metadata": {},
     "output_type": "execute_result"
    }
   ],
   "source": [
    "variant_df.iloc[1,2]"
   ]
  },
  {
   "cell_type": "code",
   "execution_count": 100,
   "metadata": {
    "tags": []
   },
   "outputs": [
    {
     "data": {
      "text/html": [
       "<div>\n",
       "<style scoped>\n",
       "    .dataframe tbody tr th:only-of-type {\n",
       "        vertical-align: middle;\n",
       "    }\n",
       "\n",
       "    .dataframe tbody tr th {\n",
       "        vertical-align: top;\n",
       "    }\n",
       "\n",
       "    .dataframe thead th {\n",
       "        text-align: right;\n",
       "    }\n",
       "</style>\n",
       "<table border=\"1\" class=\"dataframe\">\n",
       "  <thead>\n",
       "    <tr style=\"text-align: right;\">\n",
       "      <th></th>\n",
       "      <th>Plate</th>\n",
       "      <th>Well</th>\n",
       "      <th>Path</th>\n",
       "      <th>Alignment_count</th>\n",
       "      <th>Variant</th>\n",
       "      <th>Probability</th>\n",
       "      <th>Sequence</th>\n",
       "    </tr>\n",
       "  </thead>\n",
       "  <tbody>\n",
       "    <tr>\n",
       "      <th>0</th>\n",
       "      <td>9</td>\n",
       "      <td>A1</td>\n",
       "      <td>NaN</td>\n",
       "      <td>0</td>\n",
       "      <td>NaN</td>\n",
       "      <td>NaN</td>\n",
       "      <td>NaN</td>\n",
       "    </tr>\n",
       "    <tr>\n",
       "      <th>1</th>\n",
       "      <td>9</td>\n",
       "      <td>A2</td>\n",
       "      <td>/home/longy/minION_results/20220216-ZZ_sup/RB0...</td>\n",
       "      <td>36</td>\n",
       "      <td>#PARENT#</td>\n",
       "      <td>0.432121</td>\n",
       "      <td>TCCCGTTTCTTTAGAGGAATTGGAGCGTCTGAAGGCTCGCTTGCTG...</td>\n",
       "    </tr>\n",
       "    <tr>\n",
       "      <th>2</th>\n",
       "      <td>9</td>\n",
       "      <td>A3</td>\n",
       "      <td>/home/longy/minION_results/20220216-ZZ_sup/RB0...</td>\n",
       "      <td>39</td>\n",
       "      <td>T97C_T294A</td>\n",
       "      <td>0.334040</td>\n",
       "      <td>TCCCGTTTCTTTAGAGGAATTGGAGCGTCTGAAGGCTCGCTTGCTG...</td>\n",
       "    </tr>\n",
       "    <tr>\n",
       "      <th>3</th>\n",
       "      <td>9</td>\n",
       "      <td>A4</td>\n",
       "      <td>/home/longy/minION_results/20220216-ZZ_sup/RB0...</td>\n",
       "      <td>33</td>\n",
       "      <td>#PARENT#</td>\n",
       "      <td>0.944679</td>\n",
       "      <td>TCCCGTTTCTTTAGAGGAATTGGAGCGTCTGAAGGCTCGCTTGCTG...</td>\n",
       "    </tr>\n",
       "    <tr>\n",
       "      <th>4</th>\n",
       "      <td>9</td>\n",
       "      <td>A5</td>\n",
       "      <td>/home/longy/minION_results/20220216-ZZ_sup/RB0...</td>\n",
       "      <td>46</td>\n",
       "      <td>#PARENT#</td>\n",
       "      <td>0.743086</td>\n",
       "      <td>TCCCGTTTCTTTAGAGGAATTGGAGCGTCTGAAGGCTCGCTTGCTG...</td>\n",
       "    </tr>\n",
       "    <tr>\n",
       "      <th>...</th>\n",
       "      <td>...</td>\n",
       "      <td>...</td>\n",
       "      <td>...</td>\n",
       "      <td>...</td>\n",
       "      <td>...</td>\n",
       "      <td>...</td>\n",
       "      <td>...</td>\n",
       "    </tr>\n",
       "    <tr>\n",
       "      <th>379</th>\n",
       "      <td>12</td>\n",
       "      <td>H8</td>\n",
       "      <td>/home/longy/minION_results/20220216-ZZ_sup/RB1...</td>\n",
       "      <td>18</td>\n",
       "      <td>#PARENT#</td>\n",
       "      <td>0.599736</td>\n",
       "      <td>TCCCGTTTCTTTAGAGGAATTGGAGCGTCTGAAGGCTCGCTTGCTG...</td>\n",
       "    </tr>\n",
       "    <tr>\n",
       "      <th>380</th>\n",
       "      <td>12</td>\n",
       "      <td>H9</td>\n",
       "      <td>/home/longy/minION_results/20220216-ZZ_sup/RB1...</td>\n",
       "      <td>91</td>\n",
       "      <td>A149G</td>\n",
       "      <td>0.682348</td>\n",
       "      <td>TCCCGTTTCTTTAGAGGAATTGGAGCGTCTGAAGGCTCGCTTGCTG...</td>\n",
       "    </tr>\n",
       "    <tr>\n",
       "      <th>381</th>\n",
       "      <td>12</td>\n",
       "      <td>H10</td>\n",
       "      <td>/home/longy/minION_results/20220216-ZZ_sup/RB1...</td>\n",
       "      <td>37</td>\n",
       "      <td>G386C_T436C_C452G</td>\n",
       "      <td>0.185625</td>\n",
       "      <td>TCCCGTTTCTTTAGAGGAATTGGAGCGTCTGAAGGCTCGCTTGCTG...</td>\n",
       "    </tr>\n",
       "    <tr>\n",
       "      <th>382</th>\n",
       "      <td>12</td>\n",
       "      <td>H11</td>\n",
       "      <td>/home/longy/minION_results/20220216-ZZ_sup/RB1...</td>\n",
       "      <td>24</td>\n",
       "      <td>nan</td>\n",
       "      <td>NaN</td>\n",
       "      <td>NaN</td>\n",
       "    </tr>\n",
       "    <tr>\n",
       "      <th>383</th>\n",
       "      <td>12</td>\n",
       "      <td>H12</td>\n",
       "      <td>/home/longy/minION_results/20220216-ZZ_sup/RB1...</td>\n",
       "      <td>26</td>\n",
       "      <td>T438C</td>\n",
       "      <td>0.655386</td>\n",
       "      <td>TCCCGTTTCTTTAGAGGAATTGGAGCGTCTGAAGGCTCGCTTGCTG...</td>\n",
       "    </tr>\n",
       "  </tbody>\n",
       "</table>\n",
       "<p>384 rows × 7 columns</p>\n",
       "</div>"
      ],
      "text/plain": [
       "     Plate Well                                               Path  \\\n",
       "0        9   A1                                                NaN   \n",
       "1        9   A2  /home/longy/minION_results/20220216-ZZ_sup/RB0...   \n",
       "2        9   A3  /home/longy/minION_results/20220216-ZZ_sup/RB0...   \n",
       "3        9   A4  /home/longy/minION_results/20220216-ZZ_sup/RB0...   \n",
       "4        9   A5  /home/longy/minION_results/20220216-ZZ_sup/RB0...   \n",
       "..     ...  ...                                                ...   \n",
       "379     12   H8  /home/longy/minION_results/20220216-ZZ_sup/RB1...   \n",
       "380     12   H9  /home/longy/minION_results/20220216-ZZ_sup/RB1...   \n",
       "381     12  H10  /home/longy/minION_results/20220216-ZZ_sup/RB1...   \n",
       "382     12  H11  /home/longy/minION_results/20220216-ZZ_sup/RB1...   \n",
       "383     12  H12  /home/longy/minION_results/20220216-ZZ_sup/RB1...   \n",
       "\n",
       "     Alignment_count            Variant  Probability  \\\n",
       "0                  0                NaN          NaN   \n",
       "1                 36           #PARENT#     0.432121   \n",
       "2                 39         T97C_T294A     0.334040   \n",
       "3                 33           #PARENT#     0.944679   \n",
       "4                 46           #PARENT#     0.743086   \n",
       "..               ...                ...          ...   \n",
       "379               18           #PARENT#     0.599736   \n",
       "380               91              A149G     0.682348   \n",
       "381               37  G386C_T436C_C452G     0.185625   \n",
       "382               24                nan          NaN   \n",
       "383               26              T438C     0.655386   \n",
       "\n",
       "                                              Sequence  \n",
       "0                                                  NaN  \n",
       "1    TCCCGTTTCTTTAGAGGAATTGGAGCGTCTGAAGGCTCGCTTGCTG...  \n",
       "2    TCCCGTTTCTTTAGAGGAATTGGAGCGTCTGAAGGCTCGCTTGCTG...  \n",
       "3    TCCCGTTTCTTTAGAGGAATTGGAGCGTCTGAAGGCTCGCTTGCTG...  \n",
       "4    TCCCGTTTCTTTAGAGGAATTGGAGCGTCTGAAGGCTCGCTTGCTG...  \n",
       "..                                                 ...  \n",
       "379  TCCCGTTTCTTTAGAGGAATTGGAGCGTCTGAAGGCTCGCTTGCTG...  \n",
       "380  TCCCGTTTCTTTAGAGGAATTGGAGCGTCTGAAGGCTCGCTTGCTG...  \n",
       "381  TCCCGTTTCTTTAGAGGAATTGGAGCGTCTGAAGGCTCGCTTGCTG...  \n",
       "382                                                NaN  \n",
       "383  TCCCGTTTCTTTAGAGGAATTGGAGCGTCTGAAGGCTCGCTTGCTG...  \n",
       "\n",
       "[384 rows x 7 columns]"
      ]
     },
     "execution_count": 100,
     "metadata": {},
     "output_type": "execute_result"
    }
   ],
   "source": [
    "variant_df"
   ]
  },
  {
   "cell_type": "code",
   "execution_count": 101,
   "metadata": {
    "tags": []
   },
   "outputs": [],
   "source": [
    "df_variants_ = variant_df.copy()"
   ]
  },
  {
   "cell_type": "code",
   "execution_count": 102,
   "metadata": {
    "tags": []
   },
   "outputs": [
    {
     "data": {
      "text/html": [
       "<div>\n",
       "<style scoped>\n",
       "    .dataframe tbody tr th:only-of-type {\n",
       "        vertical-align: middle;\n",
       "    }\n",
       "\n",
       "    .dataframe tbody tr th {\n",
       "        vertical-align: top;\n",
       "    }\n",
       "\n",
       "    .dataframe thead th {\n",
       "        text-align: right;\n",
       "    }\n",
       "</style>\n",
       "<table border=\"1\" class=\"dataframe\">\n",
       "  <thead>\n",
       "    <tr style=\"text-align: right;\">\n",
       "      <th></th>\n",
       "      <th>template</th>\n",
       "      <th>Plate</th>\n",
       "      <th>Well</th>\n",
       "      <th>Path</th>\n",
       "      <th>Alignment_count</th>\n",
       "      <th>Variant</th>\n",
       "      <th>Probability</th>\n",
       "      <th>Sequence</th>\n",
       "    </tr>\n",
       "  </thead>\n",
       "  <tbody>\n",
       "    <tr>\n",
       "      <th>0</th>\n",
       "      <td>ATGCCGCAAATTCCCGGTTACACTTATGGAGATCCCGCCTTACCTC...</td>\n",
       "      <td>9</td>\n",
       "      <td>A1</td>\n",
       "      <td>NaN</td>\n",
       "      <td>0</td>\n",
       "      <td>NaN</td>\n",
       "      <td>NaN</td>\n",
       "      <td>NaN</td>\n",
       "    </tr>\n",
       "    <tr>\n",
       "      <th>1</th>\n",
       "      <td>ATGCCGCAAATTCCCGGTTACACTTATGGAGATCCCGCCTTACCTC...</td>\n",
       "      <td>9</td>\n",
       "      <td>A2</td>\n",
       "      <td>/home/longy/minION_results/20220216-ZZ_sup/RB0...</td>\n",
       "      <td>36</td>\n",
       "      <td>#PARENT#</td>\n",
       "      <td>0.432121</td>\n",
       "      <td>TCCCGTTTCTTTAGAGGAATTGGAGCGTCTGAAGGCTCGCTTGCTG...</td>\n",
       "    </tr>\n",
       "    <tr>\n",
       "      <th>2</th>\n",
       "      <td>ATGCCGCAAATTCCCGGTTACACTTATGGAGATCCCGCCTTACCTC...</td>\n",
       "      <td>9</td>\n",
       "      <td>A3</td>\n",
       "      <td>/home/longy/minION_results/20220216-ZZ_sup/RB0...</td>\n",
       "      <td>39</td>\n",
       "      <td>T97C_T294A</td>\n",
       "      <td>0.334040</td>\n",
       "      <td>TCCCGTTTCTTTAGAGGAATTGGAGCGTCTGAAGGCTCGCTTGCTG...</td>\n",
       "    </tr>\n",
       "    <tr>\n",
       "      <th>3</th>\n",
       "      <td>ATGCCGCAAATTCCCGGTTACACTTATGGAGATCCCGCCTTACCTC...</td>\n",
       "      <td>9</td>\n",
       "      <td>A4</td>\n",
       "      <td>/home/longy/minION_results/20220216-ZZ_sup/RB0...</td>\n",
       "      <td>33</td>\n",
       "      <td>#PARENT#</td>\n",
       "      <td>0.944679</td>\n",
       "      <td>TCCCGTTTCTTTAGAGGAATTGGAGCGTCTGAAGGCTCGCTTGCTG...</td>\n",
       "    </tr>\n",
       "    <tr>\n",
       "      <th>4</th>\n",
       "      <td>ATGCCGCAAATTCCCGGTTACACTTATGGAGATCCCGCCTTACCTC...</td>\n",
       "      <td>9</td>\n",
       "      <td>A5</td>\n",
       "      <td>/home/longy/minION_results/20220216-ZZ_sup/RB0...</td>\n",
       "      <td>46</td>\n",
       "      <td>#PARENT#</td>\n",
       "      <td>0.743086</td>\n",
       "      <td>TCCCGTTTCTTTAGAGGAATTGGAGCGTCTGAAGGCTCGCTTGCTG...</td>\n",
       "    </tr>\n",
       "    <tr>\n",
       "      <th>...</th>\n",
       "      <td>...</td>\n",
       "      <td>...</td>\n",
       "      <td>...</td>\n",
       "      <td>...</td>\n",
       "      <td>...</td>\n",
       "      <td>...</td>\n",
       "      <td>...</td>\n",
       "      <td>...</td>\n",
       "    </tr>\n",
       "    <tr>\n",
       "      <th>379</th>\n",
       "      <td>ATGCCGCAAATTCCCGGTTACACTTATGGAGATCCCGCCTTACCTC...</td>\n",
       "      <td>12</td>\n",
       "      <td>H8</td>\n",
       "      <td>/home/longy/minION_results/20220216-ZZ_sup/RB1...</td>\n",
       "      <td>18</td>\n",
       "      <td>#PARENT#</td>\n",
       "      <td>0.599736</td>\n",
       "      <td>TCCCGTTTCTTTAGAGGAATTGGAGCGTCTGAAGGCTCGCTTGCTG...</td>\n",
       "    </tr>\n",
       "    <tr>\n",
       "      <th>380</th>\n",
       "      <td>ATGCCGCAAATTCCCGGTTACACTTATGGAGATCCCGCCTTACCTC...</td>\n",
       "      <td>12</td>\n",
       "      <td>H9</td>\n",
       "      <td>/home/longy/minION_results/20220216-ZZ_sup/RB1...</td>\n",
       "      <td>91</td>\n",
       "      <td>A149G</td>\n",
       "      <td>0.682348</td>\n",
       "      <td>TCCCGTTTCTTTAGAGGAATTGGAGCGTCTGAAGGCTCGCTTGCTG...</td>\n",
       "    </tr>\n",
       "    <tr>\n",
       "      <th>381</th>\n",
       "      <td>ATGCCGCAAATTCCCGGTTACACTTATGGAGATCCCGCCTTACCTC...</td>\n",
       "      <td>12</td>\n",
       "      <td>H10</td>\n",
       "      <td>/home/longy/minION_results/20220216-ZZ_sup/RB1...</td>\n",
       "      <td>37</td>\n",
       "      <td>G386C_T436C_C452G</td>\n",
       "      <td>0.185625</td>\n",
       "      <td>TCCCGTTTCTTTAGAGGAATTGGAGCGTCTGAAGGCTCGCTTGCTG...</td>\n",
       "    </tr>\n",
       "    <tr>\n",
       "      <th>382</th>\n",
       "      <td>ATGCCGCAAATTCCCGGTTACACTTATGGAGATCCCGCCTTACCTC...</td>\n",
       "      <td>12</td>\n",
       "      <td>H11</td>\n",
       "      <td>/home/longy/minION_results/20220216-ZZ_sup/RB1...</td>\n",
       "      <td>24</td>\n",
       "      <td>nan</td>\n",
       "      <td>NaN</td>\n",
       "      <td>NaN</td>\n",
       "    </tr>\n",
       "    <tr>\n",
       "      <th>383</th>\n",
       "      <td>ATGCCGCAAATTCCCGGTTACACTTATGGAGATCCCGCCTTACCTC...</td>\n",
       "      <td>12</td>\n",
       "      <td>H12</td>\n",
       "      <td>/home/longy/minION_results/20220216-ZZ_sup/RB1...</td>\n",
       "      <td>26</td>\n",
       "      <td>T438C</td>\n",
       "      <td>0.655386</td>\n",
       "      <td>TCCCGTTTCTTTAGAGGAATTGGAGCGTCTGAAGGCTCGCTTGCTG...</td>\n",
       "    </tr>\n",
       "  </tbody>\n",
       "</table>\n",
       "<p>384 rows × 8 columns</p>\n",
       "</div>"
      ],
      "text/plain": [
       "                                              template  Plate Well  \\\n",
       "0    ATGCCGCAAATTCCCGGTTACACTTATGGAGATCCCGCCTTACCTC...      9   A1   \n",
       "1    ATGCCGCAAATTCCCGGTTACACTTATGGAGATCCCGCCTTACCTC...      9   A2   \n",
       "2    ATGCCGCAAATTCCCGGTTACACTTATGGAGATCCCGCCTTACCTC...      9   A3   \n",
       "3    ATGCCGCAAATTCCCGGTTACACTTATGGAGATCCCGCCTTACCTC...      9   A4   \n",
       "4    ATGCCGCAAATTCCCGGTTACACTTATGGAGATCCCGCCTTACCTC...      9   A5   \n",
       "..                                                 ...    ...  ...   \n",
       "379  ATGCCGCAAATTCCCGGTTACACTTATGGAGATCCCGCCTTACCTC...     12   H8   \n",
       "380  ATGCCGCAAATTCCCGGTTACACTTATGGAGATCCCGCCTTACCTC...     12   H9   \n",
       "381  ATGCCGCAAATTCCCGGTTACACTTATGGAGATCCCGCCTTACCTC...     12  H10   \n",
       "382  ATGCCGCAAATTCCCGGTTACACTTATGGAGATCCCGCCTTACCTC...     12  H11   \n",
       "383  ATGCCGCAAATTCCCGGTTACACTTATGGAGATCCCGCCTTACCTC...     12  H12   \n",
       "\n",
       "                                                  Path  Alignment_count  \\\n",
       "0                                                  NaN                0   \n",
       "1    /home/longy/minION_results/20220216-ZZ_sup/RB0...               36   \n",
       "2    /home/longy/minION_results/20220216-ZZ_sup/RB0...               39   \n",
       "3    /home/longy/minION_results/20220216-ZZ_sup/RB0...               33   \n",
       "4    /home/longy/minION_results/20220216-ZZ_sup/RB0...               46   \n",
       "..                                                 ...              ...   \n",
       "379  /home/longy/minION_results/20220216-ZZ_sup/RB1...               18   \n",
       "380  /home/longy/minION_results/20220216-ZZ_sup/RB1...               91   \n",
       "381  /home/longy/minION_results/20220216-ZZ_sup/RB1...               37   \n",
       "382  /home/longy/minION_results/20220216-ZZ_sup/RB1...               24   \n",
       "383  /home/longy/minION_results/20220216-ZZ_sup/RB1...               26   \n",
       "\n",
       "               Variant  Probability  \\\n",
       "0                  NaN          NaN   \n",
       "1             #PARENT#     0.432121   \n",
       "2           T97C_T294A     0.334040   \n",
       "3             #PARENT#     0.944679   \n",
       "4             #PARENT#     0.743086   \n",
       "..                 ...          ...   \n",
       "379           #PARENT#     0.599736   \n",
       "380              A149G     0.682348   \n",
       "381  G386C_T436C_C452G     0.185625   \n",
       "382                nan          NaN   \n",
       "383              T438C     0.655386   \n",
       "\n",
       "                                              Sequence  \n",
       "0                                                  NaN  \n",
       "1    TCCCGTTTCTTTAGAGGAATTGGAGCGTCTGAAGGCTCGCTTGCTG...  \n",
       "2    TCCCGTTTCTTTAGAGGAATTGGAGCGTCTGAAGGCTCGCTTGCTG...  \n",
       "3    TCCCGTTTCTTTAGAGGAATTGGAGCGTCTGAAGGCTCGCTTGCTG...  \n",
       "4    TCCCGTTTCTTTAGAGGAATTGGAGCGTCTGAAGGCTCGCTTGCTG...  \n",
       "..                                                 ...  \n",
       "379  TCCCGTTTCTTTAGAGGAATTGGAGCGTCTGAAGGCTCGCTTGCTG...  \n",
       "380  TCCCGTTTCTTTAGAGGAATTGGAGCGTCTGAAGGCTCGCTTGCTG...  \n",
       "381  TCCCGTTTCTTTAGAGGAATTGGAGCGTCTGAAGGCTCGCTTGCTG...  \n",
       "382                                                NaN  \n",
       "383  TCCCGTTTCTTTAGAGGAATTGGAGCGTCTGAAGGCTCGCTTGCTG...  \n",
       "\n",
       "[384 rows x 8 columns]"
      ]
     },
     "execution_count": 102,
     "metadata": {},
     "output_type": "execute_result"
    }
   ],
   "source": [
    "for seq_record in SeqIO.parse(open(template_fasta),'fasta'):\n",
    "    temp_seq = str(seq_record.seq).upper()\n",
    "df_variants_.insert(0, 'template', temp_seq)\n",
    "df_variants_"
   ]
  },
  {
   "cell_type": "code",
   "execution_count": 103,
   "metadata": {
    "tags": []
   },
   "outputs": [
    {
     "name": "stderr",
     "output_type": "stream",
     "text": [
      "/tmp/ipykernel_20790/3020737653.py:2: FutureWarning: A value is trying to be set on a copy of a DataFrame or Series through chained assignment using an inplace method.\n",
      "The behavior will change in pandas 3.0. This inplace method will never work because the intermediate object on which we are setting values always behaves as a copy.\n",
      "\n",
      "For example, when doing 'df[col].method(value, inplace=True)', try using 'df.method({col: value}, inplace=True)' or df[col] = df[col].method(value) instead, to perform the operation inplace on the original object.\n",
      "\n",
      "\n",
      "  df_variants_['Variant'].fillna('',inplace = True)\n"
     ]
    }
   ],
   "source": [
    "df_variants_['Variant'].tolist()\n",
    "df_variants_['Variant'].fillna('',inplace = True)"
   ]
  },
  {
   "cell_type": "code",
   "execution_count": 104,
   "metadata": {
    "tags": []
   },
   "outputs": [],
   "source": [
    "# Loop through dataframe and replace mutations\n",
    "mut_ls = []\n",
    "for i in df_variants_.index:\n",
    "    if isinstance(df_variants_['Variant'][i], np.ndarray):\n",
    "        df_variants_['Variant'][i] =  df_variants_['Variant'][i].tolist()\n",
    "        \n",
    "    if df_variants_['Variant'][i] == '':\n",
    "        mut_ls.append('NA')\n",
    "    elif pd.isnull(df_variants_['Variant'][i]):\n",
    "        mut_ls.append('NA')\n",
    "    elif df_variants_['Variant'][i] == '#PARENT#':\n",
    "        mut_ls.append(df_variants_['template'][i])\n",
    "    elif 'DEL' in df_variants_['Variant'][i]:\n",
    "        mut_ls.append('Deletion')\n",
    "    \n",
    "    else:\n",
    "        val_new = [x[-1] for x in df_variants_['Variant'][i].split('_')]\n",
    "        index = [int(s) for s in re.findall(r'\\d+', df_variants_['Variant'][i])]\n",
    "        index_bp = []\n",
    "        var_seq = temp_seq\n",
    "        for m in range(len(index)):\n",
    "            index_bp.append(index[m]-1)\n",
    "            var_seq = var_seq[:index_bp[m]] + val_new[m]+ var_seq[index_bp[m] + 1:]\n",
    "        mut_ls.append(var_seq)"
   ]
  },
  {
   "cell_type": "code",
   "execution_count": 105,
   "metadata": {
    "tags": []
   },
   "outputs": [],
   "source": [
    "# Translate mutated sequence to protein\n",
    "aa_ls = []\n",
    "for i in range(len(mut_ls)):\n",
    "    if str(mut_ls[i]).upper() != 'NA':\n",
    "        aa_ls.append(translate(str(mut_ls[i]).upper()))\n",
    "    else:\n",
    "        aa_ls.append('NAN')\n",
    "df_variants_['Template Sequence'] = aa_ls"
   ]
  },
  {
   "cell_type": "code",
   "execution_count": 106,
   "metadata": {
    "tags": []
   },
   "outputs": [
    {
     "data": {
      "text/html": [
       "<div>\n",
       "<style scoped>\n",
       "    .dataframe tbody tr th:only-of-type {\n",
       "        vertical-align: middle;\n",
       "    }\n",
       "\n",
       "    .dataframe tbody tr th {\n",
       "        vertical-align: top;\n",
       "    }\n",
       "\n",
       "    .dataframe thead th {\n",
       "        text-align: right;\n",
       "    }\n",
       "</style>\n",
       "<table border=\"1\" class=\"dataframe\">\n",
       "  <thead>\n",
       "    <tr style=\"text-align: right;\">\n",
       "      <th></th>\n",
       "      <th>template</th>\n",
       "      <th>Plate</th>\n",
       "      <th>Well</th>\n",
       "      <th>Path</th>\n",
       "      <th>Alignment_count</th>\n",
       "      <th>Variant</th>\n",
       "      <th>Probability</th>\n",
       "      <th>Sequence</th>\n",
       "      <th>Template Sequence</th>\n",
       "      <th>Mutations</th>\n",
       "      <th>Alignment Probability</th>\n",
       "      <th>Alignment Count</th>\n",
       "    </tr>\n",
       "  </thead>\n",
       "  <tbody>\n",
       "    <tr>\n",
       "      <th>0</th>\n",
       "      <td>ATGCCGCAAATTCCCGGTTACACTTATGGAGATCCCGCCTTACCTC...</td>\n",
       "      <td>9</td>\n",
       "      <td>A1</td>\n",
       "      <td>NaN</td>\n",
       "      <td>0</td>\n",
       "      <td></td>\n",
       "      <td>NaN</td>\n",
       "      <td>NaN</td>\n",
       "      <td>NAN</td>\n",
       "      <td>M1N_P2A_Q3N</td>\n",
       "      <td>0.000000</td>\n",
       "      <td>0</td>\n",
       "    </tr>\n",
       "    <tr>\n",
       "      <th>1</th>\n",
       "      <td>ATGCCGCAAATTCCCGGTTACACTTATGGAGATCCCGCCTTACCTC...</td>\n",
       "      <td>9</td>\n",
       "      <td>A2</td>\n",
       "      <td>/home/longy/minION_results/20220216-ZZ_sup/RB0...</td>\n",
       "      <td>36</td>\n",
       "      <td>#PARENT#</td>\n",
       "      <td>0.432121</td>\n",
       "      <td>TCCCGTTTCTTTAGAGGAATTGGAGCGTCTGAAGGCTCGCTTGCTG...</td>\n",
       "      <td>MPQIPGYTYGDPALPPSPVSLEELERLKARLLWTEADDKALEQAGK...</td>\n",
       "      <td></td>\n",
       "      <td>0.432121</td>\n",
       "      <td>36</td>\n",
       "    </tr>\n",
       "    <tr>\n",
       "      <th>2</th>\n",
       "      <td>ATGCCGCAAATTCCCGGTTACACTTATGGAGATCCCGCCTTACCTC...</td>\n",
       "      <td>9</td>\n",
       "      <td>A3</td>\n",
       "      <td>/home/longy/minION_results/20220216-ZZ_sup/RB0...</td>\n",
       "      <td>39</td>\n",
       "      <td>T97C_T294A</td>\n",
       "      <td>0.334040</td>\n",
       "      <td>TCCCGTTTCTTTAGAGGAATTGGAGCGTCTGAAGGCTCGCTTGCTG...</td>\n",
       "      <td>MPQIPGYTYGDPALPPSPVSLEELERLKARLLRTEADDKALEQAGK...</td>\n",
       "      <td>W33R_D98E</td>\n",
       "      <td>0.334040</td>\n",
       "      <td>39</td>\n",
       "    </tr>\n",
       "    <tr>\n",
       "      <th>3</th>\n",
       "      <td>ATGCCGCAAATTCCCGGTTACACTTATGGAGATCCCGCCTTACCTC...</td>\n",
       "      <td>9</td>\n",
       "      <td>A4</td>\n",
       "      <td>/home/longy/minION_results/20220216-ZZ_sup/RB0...</td>\n",
       "      <td>33</td>\n",
       "      <td>#PARENT#</td>\n",
       "      <td>0.944679</td>\n",
       "      <td>TCCCGTTTCTTTAGAGGAATTGGAGCGTCTGAAGGCTCGCTTGCTG...</td>\n",
       "      <td>MPQIPGYTYGDPALPPSPVSLEELERLKARLLWTEADDKALEQAGK...</td>\n",
       "      <td></td>\n",
       "      <td>0.944679</td>\n",
       "      <td>33</td>\n",
       "    </tr>\n",
       "    <tr>\n",
       "      <th>4</th>\n",
       "      <td>ATGCCGCAAATTCCCGGTTACACTTATGGAGATCCCGCCTTACCTC...</td>\n",
       "      <td>9</td>\n",
       "      <td>A5</td>\n",
       "      <td>/home/longy/minION_results/20220216-ZZ_sup/RB0...</td>\n",
       "      <td>46</td>\n",
       "      <td>#PARENT#</td>\n",
       "      <td>0.743086</td>\n",
       "      <td>TCCCGTTTCTTTAGAGGAATTGGAGCGTCTGAAGGCTCGCTTGCTG...</td>\n",
       "      <td>MPQIPGYTYGDPALPPSPVSLEELERLKARLLWTEADDKALEQAGK...</td>\n",
       "      <td></td>\n",
       "      <td>0.743086</td>\n",
       "      <td>46</td>\n",
       "    </tr>\n",
       "    <tr>\n",
       "      <th>...</th>\n",
       "      <td>...</td>\n",
       "      <td>...</td>\n",
       "      <td>...</td>\n",
       "      <td>...</td>\n",
       "      <td>...</td>\n",
       "      <td>...</td>\n",
       "      <td>...</td>\n",
       "      <td>...</td>\n",
       "      <td>...</td>\n",
       "      <td>...</td>\n",
       "      <td>...</td>\n",
       "      <td>...</td>\n",
       "    </tr>\n",
       "    <tr>\n",
       "      <th>379</th>\n",
       "      <td>ATGCCGCAAATTCCCGGTTACACTTATGGAGATCCCGCCTTACCTC...</td>\n",
       "      <td>12</td>\n",
       "      <td>H8</td>\n",
       "      <td>/home/longy/minION_results/20220216-ZZ_sup/RB1...</td>\n",
       "      <td>18</td>\n",
       "      <td>#PARENT#</td>\n",
       "      <td>0.599736</td>\n",
       "      <td>TCCCGTTTCTTTAGAGGAATTGGAGCGTCTGAAGGCTCGCTTGCTG...</td>\n",
       "      <td>MPQIPGYTYGDPALPPSPVSLEELERLKARLLWTEADDKALEQAGK...</td>\n",
       "      <td></td>\n",
       "      <td>0.599736</td>\n",
       "      <td>18</td>\n",
       "    </tr>\n",
       "    <tr>\n",
       "      <th>380</th>\n",
       "      <td>ATGCCGCAAATTCCCGGTTACACTTATGGAGATCCCGCCTTACCTC...</td>\n",
       "      <td>12</td>\n",
       "      <td>H9</td>\n",
       "      <td>/home/longy/minION_results/20220216-ZZ_sup/RB1...</td>\n",
       "      <td>91</td>\n",
       "      <td>A149G</td>\n",
       "      <td>0.682348</td>\n",
       "      <td>TCCCGTTTCTTTAGAGGAATTGGAGCGTCTGAAGGCTCGCTTGCTG...</td>\n",
       "      <td>MPQIPGYTYGDPALPPSPVSLEELERLKARLLWTEADDKALEQAGK...</td>\n",
       "      <td>D50G</td>\n",
       "      <td>0.682348</td>\n",
       "      <td>91</td>\n",
       "    </tr>\n",
       "    <tr>\n",
       "      <th>381</th>\n",
       "      <td>ATGCCGCAAATTCCCGGTTACACTTATGGAGATCCCGCCTTACCTC...</td>\n",
       "      <td>12</td>\n",
       "      <td>H10</td>\n",
       "      <td>/home/longy/minION_results/20220216-ZZ_sup/RB1...</td>\n",
       "      <td>37</td>\n",
       "      <td>G386C_T436C_C452G</td>\n",
       "      <td>0.185625</td>\n",
       "      <td>TCCCGTTTCTTTAGAGGAATTGGAGCGTCTGAAGGCTCGCTTGCTG...</td>\n",
       "      <td>MPQIPGYTYGDPALPPSPVSLEELERLKARLLWTEADDKALEQAGK...</td>\n",
       "      <td>G129A_Y146H_T151S</td>\n",
       "      <td>0.185625</td>\n",
       "      <td>37</td>\n",
       "    </tr>\n",
       "    <tr>\n",
       "      <th>382</th>\n",
       "      <td>ATGCCGCAAATTCCCGGTTACACTTATGGAGATCCCGCCTTACCTC...</td>\n",
       "      <td>12</td>\n",
       "      <td>H11</td>\n",
       "      <td>/home/longy/minION_results/20220216-ZZ_sup/RB1...</td>\n",
       "      <td>24</td>\n",
       "      <td>nan</td>\n",
       "      <td>NaN</td>\n",
       "      <td>NaN</td>\n",
       "      <td>NAN</td>\n",
       "      <td>M1N_P2A_Q3N</td>\n",
       "      <td>0.000000</td>\n",
       "      <td>24</td>\n",
       "    </tr>\n",
       "    <tr>\n",
       "      <th>383</th>\n",
       "      <td>ATGCCGCAAATTCCCGGTTACACTTATGGAGATCCCGCCTTACCTC...</td>\n",
       "      <td>12</td>\n",
       "      <td>H12</td>\n",
       "      <td>/home/longy/minION_results/20220216-ZZ_sup/RB1...</td>\n",
       "      <td>26</td>\n",
       "      <td>T438C</td>\n",
       "      <td>0.655386</td>\n",
       "      <td>TCCCGTTTCTTTAGAGGAATTGGAGCGTCTGAAGGCTCGCTTGCTG...</td>\n",
       "      <td>MPQIPGYTYGDPALPPSPVSLEELERLKARLLWTEADDKALEQAGK...</td>\n",
       "      <td></td>\n",
       "      <td>0.655386</td>\n",
       "      <td>26</td>\n",
       "    </tr>\n",
       "  </tbody>\n",
       "</table>\n",
       "<p>384 rows × 12 columns</p>\n",
       "</div>"
      ],
      "text/plain": [
       "                                              template  Plate Well  \\\n",
       "0    ATGCCGCAAATTCCCGGTTACACTTATGGAGATCCCGCCTTACCTC...      9   A1   \n",
       "1    ATGCCGCAAATTCCCGGTTACACTTATGGAGATCCCGCCTTACCTC...      9   A2   \n",
       "2    ATGCCGCAAATTCCCGGTTACACTTATGGAGATCCCGCCTTACCTC...      9   A3   \n",
       "3    ATGCCGCAAATTCCCGGTTACACTTATGGAGATCCCGCCTTACCTC...      9   A4   \n",
       "4    ATGCCGCAAATTCCCGGTTACACTTATGGAGATCCCGCCTTACCTC...      9   A5   \n",
       "..                                                 ...    ...  ...   \n",
       "379  ATGCCGCAAATTCCCGGTTACACTTATGGAGATCCCGCCTTACCTC...     12   H8   \n",
       "380  ATGCCGCAAATTCCCGGTTACACTTATGGAGATCCCGCCTTACCTC...     12   H9   \n",
       "381  ATGCCGCAAATTCCCGGTTACACTTATGGAGATCCCGCCTTACCTC...     12  H10   \n",
       "382  ATGCCGCAAATTCCCGGTTACACTTATGGAGATCCCGCCTTACCTC...     12  H11   \n",
       "383  ATGCCGCAAATTCCCGGTTACACTTATGGAGATCCCGCCTTACCTC...     12  H12   \n",
       "\n",
       "                                                  Path  Alignment_count  \\\n",
       "0                                                  NaN                0   \n",
       "1    /home/longy/minION_results/20220216-ZZ_sup/RB0...               36   \n",
       "2    /home/longy/minION_results/20220216-ZZ_sup/RB0...               39   \n",
       "3    /home/longy/minION_results/20220216-ZZ_sup/RB0...               33   \n",
       "4    /home/longy/minION_results/20220216-ZZ_sup/RB0...               46   \n",
       "..                                                 ...              ...   \n",
       "379  /home/longy/minION_results/20220216-ZZ_sup/RB1...               18   \n",
       "380  /home/longy/minION_results/20220216-ZZ_sup/RB1...               91   \n",
       "381  /home/longy/minION_results/20220216-ZZ_sup/RB1...               37   \n",
       "382  /home/longy/minION_results/20220216-ZZ_sup/RB1...               24   \n",
       "383  /home/longy/minION_results/20220216-ZZ_sup/RB1...               26   \n",
       "\n",
       "               Variant  Probability  \\\n",
       "0                               NaN   \n",
       "1             #PARENT#     0.432121   \n",
       "2           T97C_T294A     0.334040   \n",
       "3             #PARENT#     0.944679   \n",
       "4             #PARENT#     0.743086   \n",
       "..                 ...          ...   \n",
       "379           #PARENT#     0.599736   \n",
       "380              A149G     0.682348   \n",
       "381  G386C_T436C_C452G     0.185625   \n",
       "382                nan          NaN   \n",
       "383              T438C     0.655386   \n",
       "\n",
       "                                              Sequence  \\\n",
       "0                                                  NaN   \n",
       "1    TCCCGTTTCTTTAGAGGAATTGGAGCGTCTGAAGGCTCGCTTGCTG...   \n",
       "2    TCCCGTTTCTTTAGAGGAATTGGAGCGTCTGAAGGCTCGCTTGCTG...   \n",
       "3    TCCCGTTTCTTTAGAGGAATTGGAGCGTCTGAAGGCTCGCTTGCTG...   \n",
       "4    TCCCGTTTCTTTAGAGGAATTGGAGCGTCTGAAGGCTCGCTTGCTG...   \n",
       "..                                                 ...   \n",
       "379  TCCCGTTTCTTTAGAGGAATTGGAGCGTCTGAAGGCTCGCTTGCTG...   \n",
       "380  TCCCGTTTCTTTAGAGGAATTGGAGCGTCTGAAGGCTCGCTTGCTG...   \n",
       "381  TCCCGTTTCTTTAGAGGAATTGGAGCGTCTGAAGGCTCGCTTGCTG...   \n",
       "382                                                NaN   \n",
       "383  TCCCGTTTCTTTAGAGGAATTGGAGCGTCTGAAGGCTCGCTTGCTG...   \n",
       "\n",
       "                                     Template Sequence          Mutations  \\\n",
       "0                                                  NAN        M1N_P2A_Q3N   \n",
       "1    MPQIPGYTYGDPALPPSPVSLEELERLKARLLWTEADDKALEQAGK...                      \n",
       "2    MPQIPGYTYGDPALPPSPVSLEELERLKARLLRTEADDKALEQAGK...          W33R_D98E   \n",
       "3    MPQIPGYTYGDPALPPSPVSLEELERLKARLLWTEADDKALEQAGK...                      \n",
       "4    MPQIPGYTYGDPALPPSPVSLEELERLKARLLWTEADDKALEQAGK...                      \n",
       "..                                                 ...                ...   \n",
       "379  MPQIPGYTYGDPALPPSPVSLEELERLKARLLWTEADDKALEQAGK...                      \n",
       "380  MPQIPGYTYGDPALPPSPVSLEELERLKARLLWTEADDKALEQAGK...               D50G   \n",
       "381  MPQIPGYTYGDPALPPSPVSLEELERLKARLLWTEADDKALEQAGK...  G129A_Y146H_T151S   \n",
       "382                                                NAN        M1N_P2A_Q3N   \n",
       "383  MPQIPGYTYGDPALPPSPVSLEELERLKARLLWTEADDKALEQAGK...                      \n",
       "\n",
       "     Alignment Probability  Alignment Count  \n",
       "0                 0.000000                0  \n",
       "1                 0.432121               36  \n",
       "2                 0.334040               39  \n",
       "3                 0.944679               33  \n",
       "4                 0.743086               46  \n",
       "..                     ...              ...  \n",
       "379               0.599736               18  \n",
       "380               0.682348               91  \n",
       "381               0.185625               37  \n",
       "382               0.000000               24  \n",
       "383               0.655386               26  \n",
       "\n",
       "[384 rows x 12 columns]"
      ]
     },
     "execution_count": 106,
     "metadata": {},
     "output_type": "execute_result"
    }
   ],
   "source": [
    "# Compare to template sequence and get mutations\n",
    "mut = []\n",
    "temp_aa = translate(temp_seq)\n",
    "for i in range(len(aa_ls)):\n",
    "    mut.append('_'.join(get_mut(temp_aa, aa_ls[i])))\n",
    "df_variants_['Mutations'] = mut\n",
    "df_variants_['Alignment Probability'] = df_variants_['Probability'].fillna(0.0)\n",
    "df_variants_['Alignment Count'] = df_variants_['Alignment_count'].fillna(0.0)\n",
    "df_variants_"
   ]
  },
  {
   "cell_type": "code",
   "execution_count": 107,
   "metadata": {
    "tags": []
   },
   "outputs": [
    {
     "data": {
      "text/html": [
       "<div>\n",
       "<style scoped>\n",
       "    .dataframe tbody tr th:only-of-type {\n",
       "        vertical-align: middle;\n",
       "    }\n",
       "\n",
       "    .dataframe tbody tr th {\n",
       "        vertical-align: top;\n",
       "    }\n",
       "\n",
       "    .dataframe thead th {\n",
       "        text-align: right;\n",
       "    }\n",
       "</style>\n",
       "<table border=\"1\" class=\"dataframe\">\n",
       "  <thead>\n",
       "    <tr style=\"text-align: right;\">\n",
       "      <th></th>\n",
       "      <th>template</th>\n",
       "      <th>Plate</th>\n",
       "      <th>Well</th>\n",
       "      <th>Path</th>\n",
       "      <th>Alignment_count</th>\n",
       "      <th>Variant</th>\n",
       "      <th>Probability</th>\n",
       "      <th>Sequence</th>\n",
       "      <th>Template Sequence</th>\n",
       "      <th>Mutations</th>\n",
       "      <th>Alignment Probability</th>\n",
       "      <th>Alignment Count</th>\n",
       "    </tr>\n",
       "  </thead>\n",
       "  <tbody>\n",
       "    <tr>\n",
       "      <th>0</th>\n",
       "      <td>ATGCCGCAAATTCCCGGTTACACTTATGGAGATCCCGCCTTACCTC...</td>\n",
       "      <td>9</td>\n",
       "      <td>A1</td>\n",
       "      <td>NaN</td>\n",
       "      <td>0</td>\n",
       "      <td></td>\n",
       "      <td>NaN</td>\n",
       "      <td>NaN</td>\n",
       "      <td>NAN</td>\n",
       "      <td>M1N_P2A_Q3N</td>\n",
       "      <td>0.000000</td>\n",
       "      <td>0</td>\n",
       "    </tr>\n",
       "    <tr>\n",
       "      <th>1</th>\n",
       "      <td>ATGCCGCAAATTCCCGGTTACACTTATGGAGATCCCGCCTTACCTC...</td>\n",
       "      <td>9</td>\n",
       "      <td>A2</td>\n",
       "      <td>/home/longy/minION_results/20220216-ZZ_sup/RB0...</td>\n",
       "      <td>36</td>\n",
       "      <td>#PARENT#</td>\n",
       "      <td>0.432121</td>\n",
       "      <td>TCCCGTTTCTTTAGAGGAATTGGAGCGTCTGAAGGCTCGCTTGCTG...</td>\n",
       "      <td>MPQIPGYTYGDPALPPSPVSLEELERLKARLLWTEADDKALEQAGK...</td>\n",
       "      <td>#PARENT#</td>\n",
       "      <td>0.432121</td>\n",
       "      <td>36</td>\n",
       "    </tr>\n",
       "    <tr>\n",
       "      <th>2</th>\n",
       "      <td>ATGCCGCAAATTCCCGGTTACACTTATGGAGATCCCGCCTTACCTC...</td>\n",
       "      <td>9</td>\n",
       "      <td>A3</td>\n",
       "      <td>/home/longy/minION_results/20220216-ZZ_sup/RB0...</td>\n",
       "      <td>39</td>\n",
       "      <td>T97C_T294A</td>\n",
       "      <td>0.334040</td>\n",
       "      <td>TCCCGTTTCTTTAGAGGAATTGGAGCGTCTGAAGGCTCGCTTGCTG...</td>\n",
       "      <td>MPQIPGYTYGDPALPPSPVSLEELERLKARLLRTEADDKALEQAGK...</td>\n",
       "      <td>W33R_D98E</td>\n",
       "      <td>0.334040</td>\n",
       "      <td>39</td>\n",
       "    </tr>\n",
       "    <tr>\n",
       "      <th>3</th>\n",
       "      <td>ATGCCGCAAATTCCCGGTTACACTTATGGAGATCCCGCCTTACCTC...</td>\n",
       "      <td>9</td>\n",
       "      <td>A4</td>\n",
       "      <td>/home/longy/minION_results/20220216-ZZ_sup/RB0...</td>\n",
       "      <td>33</td>\n",
       "      <td>#PARENT#</td>\n",
       "      <td>0.944679</td>\n",
       "      <td>TCCCGTTTCTTTAGAGGAATTGGAGCGTCTGAAGGCTCGCTTGCTG...</td>\n",
       "      <td>MPQIPGYTYGDPALPPSPVSLEELERLKARLLWTEADDKALEQAGK...</td>\n",
       "      <td>#PARENT#</td>\n",
       "      <td>0.944679</td>\n",
       "      <td>33</td>\n",
       "    </tr>\n",
       "    <tr>\n",
       "      <th>4</th>\n",
       "      <td>ATGCCGCAAATTCCCGGTTACACTTATGGAGATCCCGCCTTACCTC...</td>\n",
       "      <td>9</td>\n",
       "      <td>A5</td>\n",
       "      <td>/home/longy/minION_results/20220216-ZZ_sup/RB0...</td>\n",
       "      <td>46</td>\n",
       "      <td>#PARENT#</td>\n",
       "      <td>0.743086</td>\n",
       "      <td>TCCCGTTTCTTTAGAGGAATTGGAGCGTCTGAAGGCTCGCTTGCTG...</td>\n",
       "      <td>MPQIPGYTYGDPALPPSPVSLEELERLKARLLWTEADDKALEQAGK...</td>\n",
       "      <td>#PARENT#</td>\n",
       "      <td>0.743086</td>\n",
       "      <td>46</td>\n",
       "    </tr>\n",
       "    <tr>\n",
       "      <th>...</th>\n",
       "      <td>...</td>\n",
       "      <td>...</td>\n",
       "      <td>...</td>\n",
       "      <td>...</td>\n",
       "      <td>...</td>\n",
       "      <td>...</td>\n",
       "      <td>...</td>\n",
       "      <td>...</td>\n",
       "      <td>...</td>\n",
       "      <td>...</td>\n",
       "      <td>...</td>\n",
       "      <td>...</td>\n",
       "    </tr>\n",
       "    <tr>\n",
       "      <th>379</th>\n",
       "      <td>ATGCCGCAAATTCCCGGTTACACTTATGGAGATCCCGCCTTACCTC...</td>\n",
       "      <td>12</td>\n",
       "      <td>H8</td>\n",
       "      <td>/home/longy/minION_results/20220216-ZZ_sup/RB1...</td>\n",
       "      <td>18</td>\n",
       "      <td>#PARENT#</td>\n",
       "      <td>0.599736</td>\n",
       "      <td>TCCCGTTTCTTTAGAGGAATTGGAGCGTCTGAAGGCTCGCTTGCTG...</td>\n",
       "      <td>MPQIPGYTYGDPALPPSPVSLEELERLKARLLWTEADDKALEQAGK...</td>\n",
       "      <td>#PARENT#</td>\n",
       "      <td>0.599736</td>\n",
       "      <td>18</td>\n",
       "    </tr>\n",
       "    <tr>\n",
       "      <th>380</th>\n",
       "      <td>ATGCCGCAAATTCCCGGTTACACTTATGGAGATCCCGCCTTACCTC...</td>\n",
       "      <td>12</td>\n",
       "      <td>H9</td>\n",
       "      <td>/home/longy/minION_results/20220216-ZZ_sup/RB1...</td>\n",
       "      <td>91</td>\n",
       "      <td>A149G</td>\n",
       "      <td>0.682348</td>\n",
       "      <td>TCCCGTTTCTTTAGAGGAATTGGAGCGTCTGAAGGCTCGCTTGCTG...</td>\n",
       "      <td>MPQIPGYTYGDPALPPSPVSLEELERLKARLLWTEADDKALEQAGK...</td>\n",
       "      <td>D50G</td>\n",
       "      <td>0.682348</td>\n",
       "      <td>91</td>\n",
       "    </tr>\n",
       "    <tr>\n",
       "      <th>381</th>\n",
       "      <td>ATGCCGCAAATTCCCGGTTACACTTATGGAGATCCCGCCTTACCTC...</td>\n",
       "      <td>12</td>\n",
       "      <td>H10</td>\n",
       "      <td>/home/longy/minION_results/20220216-ZZ_sup/RB1...</td>\n",
       "      <td>37</td>\n",
       "      <td>G386C_T436C_C452G</td>\n",
       "      <td>0.185625</td>\n",
       "      <td>TCCCGTTTCTTTAGAGGAATTGGAGCGTCTGAAGGCTCGCTTGCTG...</td>\n",
       "      <td>MPQIPGYTYGDPALPPSPVSLEELERLKARLLWTEADDKALEQAGK...</td>\n",
       "      <td>G129A_Y146H_T151S</td>\n",
       "      <td>0.185625</td>\n",
       "      <td>37</td>\n",
       "    </tr>\n",
       "    <tr>\n",
       "      <th>382</th>\n",
       "      <td>ATGCCGCAAATTCCCGGTTACACTTATGGAGATCCCGCCTTACCTC...</td>\n",
       "      <td>12</td>\n",
       "      <td>H11</td>\n",
       "      <td>/home/longy/minION_results/20220216-ZZ_sup/RB1...</td>\n",
       "      <td>24</td>\n",
       "      <td>nan</td>\n",
       "      <td>NaN</td>\n",
       "      <td>NaN</td>\n",
       "      <td>NAN</td>\n",
       "      <td>M1N_P2A_Q3N</td>\n",
       "      <td>0.000000</td>\n",
       "      <td>24</td>\n",
       "    </tr>\n",
       "    <tr>\n",
       "      <th>383</th>\n",
       "      <td>ATGCCGCAAATTCCCGGTTACACTTATGGAGATCCCGCCTTACCTC...</td>\n",
       "      <td>12</td>\n",
       "      <td>H12</td>\n",
       "      <td>/home/longy/minION_results/20220216-ZZ_sup/RB1...</td>\n",
       "      <td>26</td>\n",
       "      <td>T438C</td>\n",
       "      <td>0.655386</td>\n",
       "      <td>TCCCGTTTCTTTAGAGGAATTGGAGCGTCTGAAGGCTCGCTTGCTG...</td>\n",
       "      <td>MPQIPGYTYGDPALPPSPVSLEELERLKARLLWTEADDKALEQAGK...</td>\n",
       "      <td>#PARENT#</td>\n",
       "      <td>0.655386</td>\n",
       "      <td>26</td>\n",
       "    </tr>\n",
       "  </tbody>\n",
       "</table>\n",
       "<p>384 rows × 12 columns</p>\n",
       "</div>"
      ],
      "text/plain": [
       "                                              template  Plate Well  \\\n",
       "0    ATGCCGCAAATTCCCGGTTACACTTATGGAGATCCCGCCTTACCTC...      9   A1   \n",
       "1    ATGCCGCAAATTCCCGGTTACACTTATGGAGATCCCGCCTTACCTC...      9   A2   \n",
       "2    ATGCCGCAAATTCCCGGTTACACTTATGGAGATCCCGCCTTACCTC...      9   A3   \n",
       "3    ATGCCGCAAATTCCCGGTTACACTTATGGAGATCCCGCCTTACCTC...      9   A4   \n",
       "4    ATGCCGCAAATTCCCGGTTACACTTATGGAGATCCCGCCTTACCTC...      9   A5   \n",
       "..                                                 ...    ...  ...   \n",
       "379  ATGCCGCAAATTCCCGGTTACACTTATGGAGATCCCGCCTTACCTC...     12   H8   \n",
       "380  ATGCCGCAAATTCCCGGTTACACTTATGGAGATCCCGCCTTACCTC...     12   H9   \n",
       "381  ATGCCGCAAATTCCCGGTTACACTTATGGAGATCCCGCCTTACCTC...     12  H10   \n",
       "382  ATGCCGCAAATTCCCGGTTACACTTATGGAGATCCCGCCTTACCTC...     12  H11   \n",
       "383  ATGCCGCAAATTCCCGGTTACACTTATGGAGATCCCGCCTTACCTC...     12  H12   \n",
       "\n",
       "                                                  Path  Alignment_count  \\\n",
       "0                                                  NaN                0   \n",
       "1    /home/longy/minION_results/20220216-ZZ_sup/RB0...               36   \n",
       "2    /home/longy/minION_results/20220216-ZZ_sup/RB0...               39   \n",
       "3    /home/longy/minION_results/20220216-ZZ_sup/RB0...               33   \n",
       "4    /home/longy/minION_results/20220216-ZZ_sup/RB0...               46   \n",
       "..                                                 ...              ...   \n",
       "379  /home/longy/minION_results/20220216-ZZ_sup/RB1...               18   \n",
       "380  /home/longy/minION_results/20220216-ZZ_sup/RB1...               91   \n",
       "381  /home/longy/minION_results/20220216-ZZ_sup/RB1...               37   \n",
       "382  /home/longy/minION_results/20220216-ZZ_sup/RB1...               24   \n",
       "383  /home/longy/minION_results/20220216-ZZ_sup/RB1...               26   \n",
       "\n",
       "               Variant  Probability  \\\n",
       "0                               NaN   \n",
       "1             #PARENT#     0.432121   \n",
       "2           T97C_T294A     0.334040   \n",
       "3             #PARENT#     0.944679   \n",
       "4             #PARENT#     0.743086   \n",
       "..                 ...          ...   \n",
       "379           #PARENT#     0.599736   \n",
       "380              A149G     0.682348   \n",
       "381  G386C_T436C_C452G     0.185625   \n",
       "382                nan          NaN   \n",
       "383              T438C     0.655386   \n",
       "\n",
       "                                              Sequence  \\\n",
       "0                                                  NaN   \n",
       "1    TCCCGTTTCTTTAGAGGAATTGGAGCGTCTGAAGGCTCGCTTGCTG...   \n",
       "2    TCCCGTTTCTTTAGAGGAATTGGAGCGTCTGAAGGCTCGCTTGCTG...   \n",
       "3    TCCCGTTTCTTTAGAGGAATTGGAGCGTCTGAAGGCTCGCTTGCTG...   \n",
       "4    TCCCGTTTCTTTAGAGGAATTGGAGCGTCTGAAGGCTCGCTTGCTG...   \n",
       "..                                                 ...   \n",
       "379  TCCCGTTTCTTTAGAGGAATTGGAGCGTCTGAAGGCTCGCTTGCTG...   \n",
       "380  TCCCGTTTCTTTAGAGGAATTGGAGCGTCTGAAGGCTCGCTTGCTG...   \n",
       "381  TCCCGTTTCTTTAGAGGAATTGGAGCGTCTGAAGGCTCGCTTGCTG...   \n",
       "382                                                NaN   \n",
       "383  TCCCGTTTCTTTAGAGGAATTGGAGCGTCTGAAGGCTCGCTTGCTG...   \n",
       "\n",
       "                                     Template Sequence          Mutations  \\\n",
       "0                                                  NAN        M1N_P2A_Q3N   \n",
       "1    MPQIPGYTYGDPALPPSPVSLEELERLKARLLWTEADDKALEQAGK...           #PARENT#   \n",
       "2    MPQIPGYTYGDPALPPSPVSLEELERLKARLLRTEADDKALEQAGK...          W33R_D98E   \n",
       "3    MPQIPGYTYGDPALPPSPVSLEELERLKARLLWTEADDKALEQAGK...           #PARENT#   \n",
       "4    MPQIPGYTYGDPALPPSPVSLEELERLKARLLWTEADDKALEQAGK...           #PARENT#   \n",
       "..                                                 ...                ...   \n",
       "379  MPQIPGYTYGDPALPPSPVSLEELERLKARLLWTEADDKALEQAGK...           #PARENT#   \n",
       "380  MPQIPGYTYGDPALPPSPVSLEELERLKARLLWTEADDKALEQAGK...               D50G   \n",
       "381  MPQIPGYTYGDPALPPSPVSLEELERLKARLLWTEADDKALEQAGK...  G129A_Y146H_T151S   \n",
       "382                                                NAN        M1N_P2A_Q3N   \n",
       "383  MPQIPGYTYGDPALPPSPVSLEELERLKARLLWTEADDKALEQAGK...           #PARENT#   \n",
       "\n",
       "     Alignment Probability  Alignment Count  \n",
       "0                 0.000000                0  \n",
       "1                 0.432121               36  \n",
       "2                 0.334040               39  \n",
       "3                 0.944679               33  \n",
       "4                 0.743086               46  \n",
       "..                     ...              ...  \n",
       "379               0.599736               18  \n",
       "380               0.682348               91  \n",
       "381               0.185625               37  \n",
       "382               0.000000               24  \n",
       "383               0.655386               26  \n",
       "\n",
       "[384 rows x 12 columns]"
      ]
     },
     "execution_count": 107,
     "metadata": {},
     "output_type": "execute_result"
    }
   ],
   "source": [
    "# Fill in parents into mutations column\n",
    "for i in df_variants_.index:\n",
    "    if df_variants_['Alignment Probability'].iloc[i] == 0.0 and df_variants_['Mutations'].iloc[i] == '':\n",
    "        df_variants_.Mutations.iat[i] = df_variants_.Mutations.iat[i].replace('', '#N.A.#')\n",
    "    if df_variants_['Mutations'].iloc[i] == '':\n",
    "        df_variants_.Mutations.iat[i] = df_variants_.Mutations.iat[i].replace('', '#PARENT#') \n",
    "df_variants_"
   ]
  },
  {
   "cell_type": "code",
   "execution_count": 108,
   "metadata": {
    "tags": []
   },
   "outputs": [],
   "source": [
    "Well = df_variants_['Well'].tolist()\n",
    "column = [Well[i].strip('ABCDEFGH') for Well[i] in Well]\n",
    "row = [Well[i].rstrip('0123456789') for Well[i] in Well]"
   ]
  },
  {
   "cell_type": "code",
   "execution_count": 109,
   "metadata": {
    "tags": []
   },
   "outputs": [
    {
     "data": {
      "text/html": [
       "<div>\n",
       "<style scoped>\n",
       "    .dataframe tbody tr th:only-of-type {\n",
       "        vertical-align: middle;\n",
       "    }\n",
       "\n",
       "    .dataframe tbody tr th {\n",
       "        vertical-align: top;\n",
       "    }\n",
       "\n",
       "    .dataframe thead th {\n",
       "        text-align: right;\n",
       "    }\n",
       "</style>\n",
       "<table border=\"1\" class=\"dataframe\">\n",
       "  <thead>\n",
       "    <tr style=\"text-align: right;\">\n",
       "      <th></th>\n",
       "      <th>template</th>\n",
       "      <th>Plate</th>\n",
       "      <th>Well</th>\n",
       "      <th>Path</th>\n",
       "      <th>Alignment_count</th>\n",
       "      <th>Variant</th>\n",
       "      <th>Probability</th>\n",
       "      <th>Sequence</th>\n",
       "      <th>Template Sequence</th>\n",
       "      <th>Mutations</th>\n",
       "      <th>Alignment Probability</th>\n",
       "      <th>Alignment Count</th>\n",
       "      <th>Row</th>\n",
       "      <th>Column</th>\n",
       "    </tr>\n",
       "  </thead>\n",
       "  <tbody>\n",
       "    <tr>\n",
       "      <th>0</th>\n",
       "      <td>ATGCCGCAAATTCCCGGTTACACTTATGGAGATCCCGCCTTACCTC...</td>\n",
       "      <td>09</td>\n",
       "      <td>A1</td>\n",
       "      <td>NaN</td>\n",
       "      <td>0</td>\n",
       "      <td></td>\n",
       "      <td>NaN</td>\n",
       "      <td>NaN</td>\n",
       "      <td>NAN</td>\n",
       "      <td>M1N_P2A_Q3N</td>\n",
       "      <td>0.000000</td>\n",
       "      <td>0</td>\n",
       "      <td>A</td>\n",
       "      <td>1</td>\n",
       "    </tr>\n",
       "    <tr>\n",
       "      <th>1</th>\n",
       "      <td>ATGCCGCAAATTCCCGGTTACACTTATGGAGATCCCGCCTTACCTC...</td>\n",
       "      <td>09</td>\n",
       "      <td>A2</td>\n",
       "      <td>/home/longy/minION_results/20220216-ZZ_sup/RB0...</td>\n",
       "      <td>36</td>\n",
       "      <td>#PARENT#</td>\n",
       "      <td>0.432121</td>\n",
       "      <td>TCCCGTTTCTTTAGAGGAATTGGAGCGTCTGAAGGCTCGCTTGCTG...</td>\n",
       "      <td>MPQIPGYTYGDPALPPSPVSLEELERLKARLLWTEADDKALEQAGK...</td>\n",
       "      <td>#PARENT#</td>\n",
       "      <td>0.432121</td>\n",
       "      <td>36</td>\n",
       "      <td>A</td>\n",
       "      <td>2</td>\n",
       "    </tr>\n",
       "    <tr>\n",
       "      <th>2</th>\n",
       "      <td>ATGCCGCAAATTCCCGGTTACACTTATGGAGATCCCGCCTTACCTC...</td>\n",
       "      <td>09</td>\n",
       "      <td>A3</td>\n",
       "      <td>/home/longy/minION_results/20220216-ZZ_sup/RB0...</td>\n",
       "      <td>39</td>\n",
       "      <td>T97C_T294A</td>\n",
       "      <td>0.334040</td>\n",
       "      <td>TCCCGTTTCTTTAGAGGAATTGGAGCGTCTGAAGGCTCGCTTGCTG...</td>\n",
       "      <td>MPQIPGYTYGDPALPPSPVSLEELERLKARLLRTEADDKALEQAGK...</td>\n",
       "      <td>W33R_D98E</td>\n",
       "      <td>0.334040</td>\n",
       "      <td>39</td>\n",
       "      <td>A</td>\n",
       "      <td>3</td>\n",
       "    </tr>\n",
       "    <tr>\n",
       "      <th>3</th>\n",
       "      <td>ATGCCGCAAATTCCCGGTTACACTTATGGAGATCCCGCCTTACCTC...</td>\n",
       "      <td>09</td>\n",
       "      <td>A4</td>\n",
       "      <td>/home/longy/minION_results/20220216-ZZ_sup/RB0...</td>\n",
       "      <td>33</td>\n",
       "      <td>#PARENT#</td>\n",
       "      <td>0.944679</td>\n",
       "      <td>TCCCGTTTCTTTAGAGGAATTGGAGCGTCTGAAGGCTCGCTTGCTG...</td>\n",
       "      <td>MPQIPGYTYGDPALPPSPVSLEELERLKARLLWTEADDKALEQAGK...</td>\n",
       "      <td>#PARENT#</td>\n",
       "      <td>0.944679</td>\n",
       "      <td>33</td>\n",
       "      <td>A</td>\n",
       "      <td>4</td>\n",
       "    </tr>\n",
       "    <tr>\n",
       "      <th>4</th>\n",
       "      <td>ATGCCGCAAATTCCCGGTTACACTTATGGAGATCCCGCCTTACCTC...</td>\n",
       "      <td>09</td>\n",
       "      <td>A5</td>\n",
       "      <td>/home/longy/minION_results/20220216-ZZ_sup/RB0...</td>\n",
       "      <td>46</td>\n",
       "      <td>#PARENT#</td>\n",
       "      <td>0.743086</td>\n",
       "      <td>TCCCGTTTCTTTAGAGGAATTGGAGCGTCTGAAGGCTCGCTTGCTG...</td>\n",
       "      <td>MPQIPGYTYGDPALPPSPVSLEELERLKARLLWTEADDKALEQAGK...</td>\n",
       "      <td>#PARENT#</td>\n",
       "      <td>0.743086</td>\n",
       "      <td>46</td>\n",
       "      <td>A</td>\n",
       "      <td>5</td>\n",
       "    </tr>\n",
       "    <tr>\n",
       "      <th>...</th>\n",
       "      <td>...</td>\n",
       "      <td>...</td>\n",
       "      <td>...</td>\n",
       "      <td>...</td>\n",
       "      <td>...</td>\n",
       "      <td>...</td>\n",
       "      <td>...</td>\n",
       "      <td>...</td>\n",
       "      <td>...</td>\n",
       "      <td>...</td>\n",
       "      <td>...</td>\n",
       "      <td>...</td>\n",
       "      <td>...</td>\n",
       "      <td>...</td>\n",
       "    </tr>\n",
       "    <tr>\n",
       "      <th>379</th>\n",
       "      <td>ATGCCGCAAATTCCCGGTTACACTTATGGAGATCCCGCCTTACCTC...</td>\n",
       "      <td>12</td>\n",
       "      <td>H8</td>\n",
       "      <td>/home/longy/minION_results/20220216-ZZ_sup/RB1...</td>\n",
       "      <td>18</td>\n",
       "      <td>#PARENT#</td>\n",
       "      <td>0.599736</td>\n",
       "      <td>TCCCGTTTCTTTAGAGGAATTGGAGCGTCTGAAGGCTCGCTTGCTG...</td>\n",
       "      <td>MPQIPGYTYGDPALPPSPVSLEELERLKARLLWTEADDKALEQAGK...</td>\n",
       "      <td>#PARENT#</td>\n",
       "      <td>0.599736</td>\n",
       "      <td>18</td>\n",
       "      <td>H</td>\n",
       "      <td>8</td>\n",
       "    </tr>\n",
       "    <tr>\n",
       "      <th>380</th>\n",
       "      <td>ATGCCGCAAATTCCCGGTTACACTTATGGAGATCCCGCCTTACCTC...</td>\n",
       "      <td>12</td>\n",
       "      <td>H9</td>\n",
       "      <td>/home/longy/minION_results/20220216-ZZ_sup/RB1...</td>\n",
       "      <td>91</td>\n",
       "      <td>A149G</td>\n",
       "      <td>0.682348</td>\n",
       "      <td>TCCCGTTTCTTTAGAGGAATTGGAGCGTCTGAAGGCTCGCTTGCTG...</td>\n",
       "      <td>MPQIPGYTYGDPALPPSPVSLEELERLKARLLWTEADDKALEQAGK...</td>\n",
       "      <td>D50G</td>\n",
       "      <td>0.682348</td>\n",
       "      <td>91</td>\n",
       "      <td>H</td>\n",
       "      <td>9</td>\n",
       "    </tr>\n",
       "    <tr>\n",
       "      <th>381</th>\n",
       "      <td>ATGCCGCAAATTCCCGGTTACACTTATGGAGATCCCGCCTTACCTC...</td>\n",
       "      <td>12</td>\n",
       "      <td>H10</td>\n",
       "      <td>/home/longy/minION_results/20220216-ZZ_sup/RB1...</td>\n",
       "      <td>37</td>\n",
       "      <td>G386C_T436C_C452G</td>\n",
       "      <td>0.185625</td>\n",
       "      <td>TCCCGTTTCTTTAGAGGAATTGGAGCGTCTGAAGGCTCGCTTGCTG...</td>\n",
       "      <td>MPQIPGYTYGDPALPPSPVSLEELERLKARLLWTEADDKALEQAGK...</td>\n",
       "      <td>G129A_Y146H_T151S</td>\n",
       "      <td>0.185625</td>\n",
       "      <td>37</td>\n",
       "      <td>H</td>\n",
       "      <td>10</td>\n",
       "    </tr>\n",
       "    <tr>\n",
       "      <th>382</th>\n",
       "      <td>ATGCCGCAAATTCCCGGTTACACTTATGGAGATCCCGCCTTACCTC...</td>\n",
       "      <td>12</td>\n",
       "      <td>H11</td>\n",
       "      <td>/home/longy/minION_results/20220216-ZZ_sup/RB1...</td>\n",
       "      <td>24</td>\n",
       "      <td>nan</td>\n",
       "      <td>NaN</td>\n",
       "      <td>NaN</td>\n",
       "      <td>NAN</td>\n",
       "      <td>M1N_P2A_Q3N</td>\n",
       "      <td>0.000000</td>\n",
       "      <td>24</td>\n",
       "      <td>H</td>\n",
       "      <td>11</td>\n",
       "    </tr>\n",
       "    <tr>\n",
       "      <th>383</th>\n",
       "      <td>ATGCCGCAAATTCCCGGTTACACTTATGGAGATCCCGCCTTACCTC...</td>\n",
       "      <td>12</td>\n",
       "      <td>H12</td>\n",
       "      <td>/home/longy/minION_results/20220216-ZZ_sup/RB1...</td>\n",
       "      <td>26</td>\n",
       "      <td>T438C</td>\n",
       "      <td>0.655386</td>\n",
       "      <td>TCCCGTTTCTTTAGAGGAATTGGAGCGTCTGAAGGCTCGCTTGCTG...</td>\n",
       "      <td>MPQIPGYTYGDPALPPSPVSLEELERLKARLLWTEADDKALEQAGK...</td>\n",
       "      <td>#PARENT#</td>\n",
       "      <td>0.655386</td>\n",
       "      <td>26</td>\n",
       "      <td>H</td>\n",
       "      <td>11</td>\n",
       "    </tr>\n",
       "  </tbody>\n",
       "</table>\n",
       "<p>384 rows × 14 columns</p>\n",
       "</div>"
      ],
      "text/plain": [
       "                                              template Plate Well  \\\n",
       "0    ATGCCGCAAATTCCCGGTTACACTTATGGAGATCCCGCCTTACCTC...    09   A1   \n",
       "1    ATGCCGCAAATTCCCGGTTACACTTATGGAGATCCCGCCTTACCTC...    09   A2   \n",
       "2    ATGCCGCAAATTCCCGGTTACACTTATGGAGATCCCGCCTTACCTC...    09   A3   \n",
       "3    ATGCCGCAAATTCCCGGTTACACTTATGGAGATCCCGCCTTACCTC...    09   A4   \n",
       "4    ATGCCGCAAATTCCCGGTTACACTTATGGAGATCCCGCCTTACCTC...    09   A5   \n",
       "..                                                 ...   ...  ...   \n",
       "379  ATGCCGCAAATTCCCGGTTACACTTATGGAGATCCCGCCTTACCTC...    12   H8   \n",
       "380  ATGCCGCAAATTCCCGGTTACACTTATGGAGATCCCGCCTTACCTC...    12   H9   \n",
       "381  ATGCCGCAAATTCCCGGTTACACTTATGGAGATCCCGCCTTACCTC...    12  H10   \n",
       "382  ATGCCGCAAATTCCCGGTTACACTTATGGAGATCCCGCCTTACCTC...    12  H11   \n",
       "383  ATGCCGCAAATTCCCGGTTACACTTATGGAGATCCCGCCTTACCTC...    12  H12   \n",
       "\n",
       "                                                  Path  Alignment_count  \\\n",
       "0                                                  NaN                0   \n",
       "1    /home/longy/minION_results/20220216-ZZ_sup/RB0...               36   \n",
       "2    /home/longy/minION_results/20220216-ZZ_sup/RB0...               39   \n",
       "3    /home/longy/minION_results/20220216-ZZ_sup/RB0...               33   \n",
       "4    /home/longy/minION_results/20220216-ZZ_sup/RB0...               46   \n",
       "..                                                 ...              ...   \n",
       "379  /home/longy/minION_results/20220216-ZZ_sup/RB1...               18   \n",
       "380  /home/longy/minION_results/20220216-ZZ_sup/RB1...               91   \n",
       "381  /home/longy/minION_results/20220216-ZZ_sup/RB1...               37   \n",
       "382  /home/longy/minION_results/20220216-ZZ_sup/RB1...               24   \n",
       "383  /home/longy/minION_results/20220216-ZZ_sup/RB1...               26   \n",
       "\n",
       "               Variant  Probability  \\\n",
       "0                               NaN   \n",
       "1             #PARENT#     0.432121   \n",
       "2           T97C_T294A     0.334040   \n",
       "3             #PARENT#     0.944679   \n",
       "4             #PARENT#     0.743086   \n",
       "..                 ...          ...   \n",
       "379           #PARENT#     0.599736   \n",
       "380              A149G     0.682348   \n",
       "381  G386C_T436C_C452G     0.185625   \n",
       "382                nan          NaN   \n",
       "383              T438C     0.655386   \n",
       "\n",
       "                                              Sequence  \\\n",
       "0                                                  NaN   \n",
       "1    TCCCGTTTCTTTAGAGGAATTGGAGCGTCTGAAGGCTCGCTTGCTG...   \n",
       "2    TCCCGTTTCTTTAGAGGAATTGGAGCGTCTGAAGGCTCGCTTGCTG...   \n",
       "3    TCCCGTTTCTTTAGAGGAATTGGAGCGTCTGAAGGCTCGCTTGCTG...   \n",
       "4    TCCCGTTTCTTTAGAGGAATTGGAGCGTCTGAAGGCTCGCTTGCTG...   \n",
       "..                                                 ...   \n",
       "379  TCCCGTTTCTTTAGAGGAATTGGAGCGTCTGAAGGCTCGCTTGCTG...   \n",
       "380  TCCCGTTTCTTTAGAGGAATTGGAGCGTCTGAAGGCTCGCTTGCTG...   \n",
       "381  TCCCGTTTCTTTAGAGGAATTGGAGCGTCTGAAGGCTCGCTTGCTG...   \n",
       "382                                                NaN   \n",
       "383  TCCCGTTTCTTTAGAGGAATTGGAGCGTCTGAAGGCTCGCTTGCTG...   \n",
       "\n",
       "                                     Template Sequence          Mutations  \\\n",
       "0                                                  NAN        M1N_P2A_Q3N   \n",
       "1    MPQIPGYTYGDPALPPSPVSLEELERLKARLLWTEADDKALEQAGK...           #PARENT#   \n",
       "2    MPQIPGYTYGDPALPPSPVSLEELERLKARLLRTEADDKALEQAGK...          W33R_D98E   \n",
       "3    MPQIPGYTYGDPALPPSPVSLEELERLKARLLWTEADDKALEQAGK...           #PARENT#   \n",
       "4    MPQIPGYTYGDPALPPSPVSLEELERLKARLLWTEADDKALEQAGK...           #PARENT#   \n",
       "..                                                 ...                ...   \n",
       "379  MPQIPGYTYGDPALPPSPVSLEELERLKARLLWTEADDKALEQAGK...           #PARENT#   \n",
       "380  MPQIPGYTYGDPALPPSPVSLEELERLKARLLWTEADDKALEQAGK...               D50G   \n",
       "381  MPQIPGYTYGDPALPPSPVSLEELERLKARLLWTEADDKALEQAGK...  G129A_Y146H_T151S   \n",
       "382                                                NAN        M1N_P2A_Q3N   \n",
       "383  MPQIPGYTYGDPALPPSPVSLEELERLKARLLWTEADDKALEQAGK...           #PARENT#   \n",
       "\n",
       "     Alignment Probability  Alignment Count Row Column  \n",
       "0                 0.000000                0   A      1  \n",
       "1                 0.432121               36   A      2  \n",
       "2                 0.334040               39   A      3  \n",
       "3                 0.944679               33   A      4  \n",
       "4                 0.743086               46   A      5  \n",
       "..                     ...              ...  ..    ...  \n",
       "379               0.599736               18   H      8  \n",
       "380               0.682348               91   H      9  \n",
       "381               0.185625               37   H     10  \n",
       "382               0.000000               24   H     11  \n",
       "383               0.655386               26   H     11  \n",
       "\n",
       "[384 rows x 14 columns]"
      ]
     },
     "execution_count": 109,
     "metadata": {},
     "output_type": "execute_result"
    }
   ],
   "source": [
    "df_variants_['Row'] = row\n",
    "df_variants_['Column'] = column\n",
    "df_variants_['Plate'] = df_variants_['Plate'].astype(str)\n",
    "df_variants_.loc[df_variants_['Plate'] == '9', ['Plate']] = '09'\n",
    "df_variants_"
   ]
  },
  {
   "cell_type": "code",
   "execution_count": 110,
   "metadata": {
    "tags": []
   },
   "outputs": [
    {
     "name": "stderr",
     "output_type": "stream",
     "text": [
      "/home/longy/miniforge3/lib/python3.10/site-packages/pandas/core/arraylike.py:399: RuntimeWarning: divide by zero encountered in log\n",
      "  result = getattr(ufunc, method)(*inputs, **kwargs)\n",
      "/home/longy/miniforge3/lib/python3.10/site-packages/pandas/core/arraylike.py:399: RuntimeWarning: divide by zero encountered in log\n",
      "  result = getattr(ufunc, method)(*inputs, **kwargs)\n",
      "/home/longy/miniforge3/lib/python3.10/site-packages/pandas/core/arraylike.py:399: RuntimeWarning: divide by zero encountered in log\n",
      "  result = getattr(ufunc, method)(*inputs, **kwargs)\n",
      "/home/longy/miniforge3/lib/python3.10/site-packages/pandas/core/arraylike.py:399: RuntimeWarning: divide by zero encountered in log\n",
      "  result = getattr(ufunc, method)(*inputs, **kwargs)\n",
      "/home/longy/miniforge3/lib/python3.10/site-packages/pandas/core/arraylike.py:399: RuntimeWarning: divide by zero encountered in log\n",
      "  result = getattr(ufunc, method)(*inputs, **kwargs)\n",
      "WARNING:param.HeatMapPlot08946: HeatMap element index is not unique,  ensure you aggregate the data before displaying it, e.g. using heatmap.aggregate(function=np.mean). Duplicate index values have been dropped.\n"
     ]
    },
    {
     "data": {},
     "metadata": {},
     "output_type": "display_data"
    },
    {
     "name": "stderr",
     "output_type": "stream",
     "text": [
      "WARNING:param.HeatMapPlot08946: HeatMap element index is not unique,  ensure you aggregate the data before displaying it, e.g. using heatmap.aggregate(function=np.mean). Duplicate index values have been dropped.\n"
     ]
    },
    {
     "data": {
      "application/vnd.holoviews_exec.v0+json": "",
      "text/html": [
       "<div id='p1460'>\n",
       "  <div id=\"fd124096-78d4-4454-ab67-9649ac4b5509\" data-root-id=\"p1460\" style=\"display: contents;\"></div>\n",
       "</div>\n",
       "<script type=\"application/javascript\">(function(root) {\n",
       "  var docs_json = {\"417165d5-cda7-4df2-8b93-d74bdbd706e2\":{\"version\":\"3.2.2\",\"title\":\"Bokeh Application\",\"roots\":[{\"type\":\"object\",\"name\":\"Row\",\"id\":\"p1460\",\"attributes\":{\"name\":\"Row08119\",\"tags\":[\"embedded\"],\"stylesheets\":[\"\\n:host(.pn-loading.pn-arc):before, .pn-loading.pn-arc:before {\\n  background-image: url(\\\"data:image/svg+xml;base64,PHN2ZyB4bWxucz0iaHR0cDovL3d3dy53My5vcmcvMjAwMC9zdmciIHN0eWxlPSJtYXJnaW46IGF1dG87IGJhY2tncm91bmQ6IG5vbmU7IGRpc3BsYXk6IGJsb2NrOyBzaGFwZS1yZW5kZXJpbmc6IGF1dG87IiB2aWV3Qm94PSIwIDAgMTAwIDEwMCIgcHJlc2VydmVBc3BlY3RSYXRpbz0ieE1pZFlNaWQiPiAgPGNpcmNsZSBjeD0iNTAiIGN5PSI1MCIgZmlsbD0ibm9uZSIgc3Ryb2tlPSIjYzNjM2MzIiBzdHJva2Utd2lkdGg9IjEwIiByPSIzNSIgc3Ryb2tlLWRhc2hhcnJheT0iMTY0LjkzMzYxNDMxMzQ2NDE1IDU2Ljk3Nzg3MTQzNzgyMTM4Ij4gICAgPGFuaW1hdGVUcmFuc2Zvcm0gYXR0cmlidXRlTmFtZT0idHJhbnNmb3JtIiB0eXBlPSJyb3RhdGUiIHJlcGVhdENvdW50PSJpbmRlZmluaXRlIiBkdXI9IjFzIiB2YWx1ZXM9IjAgNTAgNTA7MzYwIDUwIDUwIiBrZXlUaW1lcz0iMDsxIj48L2FuaW1hdGVUcmFuc2Zvcm0+ICA8L2NpcmNsZT48L3N2Zz4=\\\");\\n  background-size: auto calc(min(50%, 400px));\\n}\",{\"type\":\"object\",\"name\":\"ImportedStyleSheet\",\"id\":\"p1463\",\"attributes\":{\"url\":\"https://cdn.holoviz.org/panel/1.2.3/dist/css/loading.css\"}},{\"type\":\"object\",\"name\":\"ImportedStyleSheet\",\"id\":\"p1472\",\"attributes\":{\"url\":\"https://cdn.holoviz.org/panel/1.2.3/dist/css/listpanel.css\"}},{\"type\":\"object\",\"name\":\"ImportedStyleSheet\",\"id\":\"p1461\",\"attributes\":{\"url\":\"https://cdn.holoviz.org/panel/1.2.3/dist/bundled/theme/default.css\"}},{\"type\":\"object\",\"name\":\"ImportedStyleSheet\",\"id\":\"p1462\",\"attributes\":{\"url\":\"https://cdn.holoviz.org/panel/1.2.3/dist/bundled/theme/native.css\"}}],\"margin\":0,\"sizing_mode\":\"stretch_width\",\"align\":\"start\",\"children\":[{\"type\":\"object\",\"name\":\"Spacer\",\"id\":\"p1464\",\"attributes\":{\"name\":\"HSpacer08136\",\"stylesheets\":[\"\\n:host(.pn-loading.pn-arc):before, .pn-loading.pn-arc:before {\\n  background-image: url(\\\"data:image/svg+xml;base64,PHN2ZyB4bWxucz0iaHR0cDovL3d3dy53My5vcmcvMjAwMC9zdmciIHN0eWxlPSJtYXJnaW46IGF1dG87IGJhY2tncm91bmQ6IG5vbmU7IGRpc3BsYXk6IGJsb2NrOyBzaGFwZS1yZW5kZXJpbmc6IGF1dG87IiB2aWV3Qm94PSIwIDAgMTAwIDEwMCIgcHJlc2VydmVBc3BlY3RSYXRpbz0ieE1pZFlNaWQiPiAgPGNpcmNsZSBjeD0iNTAiIGN5PSI1MCIgZmlsbD0ibm9uZSIgc3Ryb2tlPSIjYzNjM2MzIiBzdHJva2Utd2lkdGg9IjEwIiByPSIzNSIgc3Ryb2tlLWRhc2hhcnJheT0iMTY0LjkzMzYxNDMxMzQ2NDE1IDU2Ljk3Nzg3MTQzNzgyMTM4Ij4gICAgPGFuaW1hdGVUcmFuc2Zvcm0gYXR0cmlidXRlTmFtZT0idHJhbnNmb3JtIiB0eXBlPSJyb3RhdGUiIHJlcGVhdENvdW50PSJpbmRlZmluaXRlIiBkdXI9IjFzIiB2YWx1ZXM9IjAgNTAgNTA7MzYwIDUwIDUwIiBrZXlUaW1lcz0iMDsxIj48L2FuaW1hdGVUcmFuc2Zvcm0+ICA8L2NpcmNsZT48L3N2Zz4=\\\");\\n  background-size: auto calc(min(50%, 400px));\\n}\",{\"id\":\"p1463\"},{\"id\":\"p1461\"},{\"id\":\"p1462\"}],\"margin\":0,\"sizing_mode\":\"stretch_width\",\"align\":\"start\"}},{\"type\":\"object\",\"name\":\"panel.models.layout.Column\",\"id\":\"p1465\",\"attributes\":{\"name\":\"Column08139\",\"stylesheets\":[\"\\n:host(.pn-loading.pn-arc):before, .pn-loading.pn-arc:before {\\n  background-image: url(\\\"data:image/svg+xml;base64,PHN2ZyB4bWxucz0iaHR0cDovL3d3dy53My5vcmcvMjAwMC9zdmciIHN0eWxlPSJtYXJnaW46IGF1dG87IGJhY2tncm91bmQ6IG5vbmU7IGRpc3BsYXk6IGJsb2NrOyBzaGFwZS1yZW5kZXJpbmc6IGF1dG87IiB2aWV3Qm94PSIwIDAgMTAwIDEwMCIgcHJlc2VydmVBc3BlY3RSYXRpbz0ieE1pZFlNaWQiPiAgPGNpcmNsZSBjeD0iNTAiIGN5PSI1MCIgZmlsbD0ibm9uZSIgc3Ryb2tlPSIjYzNjM2MzIiBzdHJva2Utd2lkdGg9IjEwIiByPSIzNSIgc3Ryb2tlLWRhc2hhcnJheT0iMTY0LjkzMzYxNDMxMzQ2NDE1IDU2Ljk3Nzg3MTQzNzgyMTM4Ij4gICAgPGFuaW1hdGVUcmFuc2Zvcm0gYXR0cmlidXRlTmFtZT0idHJhbnNmb3JtIiB0eXBlPSJyb3RhdGUiIHJlcGVhdENvdW50PSJpbmRlZmluaXRlIiBkdXI9IjFzIiB2YWx1ZXM9IjAgNTAgNTA7MzYwIDUwIDUwIiBrZXlUaW1lcz0iMDsxIj48L2FuaW1hdGVUcmFuc2Zvcm0+ICA8L2NpcmNsZT48L3N2Zz4=\\\");\\n  background-size: auto calc(min(50%, 400px));\\n}\",{\"id\":\"p1463\"},{\"id\":\"p1472\"},{\"id\":\"p1461\"},{\"id\":\"p1462\"}],\"margin\":0,\"align\":\"start\",\"children\":[{\"type\":\"object\",\"name\":\"panel.models.layout.Column\",\"id\":\"p1466\",\"attributes\":{\"name\":\"WidgetBox08122\",\"css_classes\":[\"panel-widget-box\"],\"stylesheets\":[\"\\n:host(.pn-loading.pn-arc):before, .pn-loading.pn-arc:before {\\n  background-image: url(\\\"data:image/svg+xml;base64,PHN2ZyB4bWxucz0iaHR0cDovL3d3dy53My5vcmcvMjAwMC9zdmciIHN0eWxlPSJtYXJnaW46IGF1dG87IGJhY2tncm91bmQ6IG5vbmU7IGRpc3BsYXk6IGJsb2NrOyBzaGFwZS1yZW5kZXJpbmc6IGF1dG87IiB2aWV3Qm94PSIwIDAgMTAwIDEwMCIgcHJlc2VydmVBc3BlY3RSYXRpbz0ieE1pZFlNaWQiPiAgPGNpcmNsZSBjeD0iNTAiIGN5PSI1MCIgZmlsbD0ibm9uZSIgc3Ryb2tlPSIjYzNjM2MzIiBzdHJva2Utd2lkdGg9IjEwIiByPSIzNSIgc3Ryb2tlLWRhc2hhcnJheT0iMTY0LjkzMzYxNDMxMzQ2NDE1IDU2Ljk3Nzg3MTQzNzgyMTM4Ij4gICAgPGFuaW1hdGVUcmFuc2Zvcm0gYXR0cmlidXRlTmFtZT0idHJhbnNmb3JtIiB0eXBlPSJyb3RhdGUiIHJlcGVhdENvdW50PSJpbmRlZmluaXRlIiBkdXI9IjFzIiB2YWx1ZXM9IjAgNTAgNTA7MzYwIDUwIDUwIiBrZXlUaW1lcz0iMDsxIj48L2FuaW1hdGVUcmFuc2Zvcm0+ICA8L2NpcmNsZT48L3N2Zz4=\\\");\\n  background-size: auto calc(min(50%, 400px));\\n}\",{\"id\":\"p1463\"},{\"type\":\"object\",\"name\":\"ImportedStyleSheet\",\"id\":\"p1471\",\"attributes\":{\"url\":\"https://cdn.holoviz.org/panel/1.2.3/dist/css/widgetbox.css\"}},{\"id\":\"p1472\"},{\"id\":\"p1461\"},{\"id\":\"p1462\"}],\"margin\":0,\"align\":\"start\",\"children\":[{\"type\":\"object\",\"name\":\"panel.models.widgets.CustomSelect\",\"id\":\"p1469\",\"attributes\":{\"js_property_callbacks\":{\"type\":\"map\",\"entries\":[[\"change:value\",[{\"type\":\"object\",\"name\":\"CustomJS\",\"id\":\"p1564\",\"attributes\":{\"code\":\"\\nvar state = null\\nfor (var root of cb_obj.document.roots()) {\\n  if (root.id == 'p1563') {\\n    state = root;\\n    break;\\n  }\\n}\\nif (!state) { return; }\\nstate.set_state(cb_obj, cb_obj.value)\\n\"}}]]]},\"stylesheets\":[\"\\n:host(.pn-loading.pn-arc):before, .pn-loading.pn-arc:before {\\n  background-image: url(\\\"data:image/svg+xml;base64,PHN2ZyB4bWxucz0iaHR0cDovL3d3dy53My5vcmcvMjAwMC9zdmciIHN0eWxlPSJtYXJnaW46IGF1dG87IGJhY2tncm91bmQ6IG5vbmU7IGRpc3BsYXk6IGJsb2NrOyBzaGFwZS1yZW5kZXJpbmc6IGF1dG87IiB2aWV3Qm94PSIwIDAgMTAwIDEwMCIgcHJlc2VydmVBc3BlY3RSYXRpbz0ieE1pZFlNaWQiPiAgPGNpcmNsZSBjeD0iNTAiIGN5PSI1MCIgZmlsbD0ibm9uZSIgc3Ryb2tlPSIjYzNjM2MzIiBzdHJva2Utd2lkdGg9IjEwIiByPSIzNSIgc3Ryb2tlLWRhc2hhcnJheT0iMTY0LjkzMzYxNDMxMzQ2NDE1IDU2Ljk3Nzg3MTQzNzgyMTM4Ij4gICAgPGFuaW1hdGVUcmFuc2Zvcm0gYXR0cmlidXRlTmFtZT0idHJhbnNmb3JtIiB0eXBlPSJyb3RhdGUiIHJlcGVhdENvdW50PSJpbmRlZmluaXRlIiBkdXI9IjFzIiB2YWx1ZXM9IjAgNTAgNTA7MzYwIDUwIDUwIiBrZXlUaW1lcz0iMDsxIj48L2FuaW1hdGVUcmFuc2Zvcm0+ICA8L2NpcmNsZT48L3N2Zz4=\\\");\\n  background-size: auto calc(min(50%, 400px));\\n}\",{\"id\":\"p1463\"},{\"type\":\"object\",\"name\":\"ImportedStyleSheet\",\"id\":\"p1468\",\"attributes\":{\"url\":\"https://cdn.holoviz.org/panel/1.2.3/dist/css/select.css\"}},{\"id\":\"p1461\"},{\"id\":\"p1462\"}],\"width\":250,\"min_width\":250,\"margin\":[20,20,20,20],\"align\":\"start\",\"title\":\"Plate\",\"options\":[\"09\",\"10\",\"11\",\"12\"],\"value\":\"09\"}}]}},{\"type\":\"object\",\"name\":\"Figure\",\"id\":\"p1484\",\"attributes\":{\"width\":null,\"height\":null,\"margin\":[5,10],\"sizing_mode\":\"fixed\",\"align\":\"start\",\"x_range\":{\"type\":\"object\",\"name\":\"FactorRange\",\"id\":\"p1473\",\"attributes\":{\"tags\":[[[\"Column\",\"Column\",null]],[]],\"factors\":[\"1\",\"2\",\"3\",\"4\",\"5\",\"6\",\"7\",\"8\",\"9\",\"10\",\"11\",\"12\"]}},\"y_range\":{\"type\":\"object\",\"name\":\"FactorRange\",\"id\":\"p1474\",\"attributes\":{\"tags\":[[[\"Row\",\"Row\",null]],{\"type\":\"map\",\"entries\":[[\"invert_yaxis\",true],[\"autorange\",false]]}],\"factors\":[\"H\",\"G\",\"F\",\"E\",\"D\",\"C\",\"B\",\"A\"]}},\"x_scale\":{\"type\":\"object\",\"name\":\"CategoricalScale\",\"id\":\"p1494\"},\"y_scale\":{\"type\":\"object\",\"name\":\"CategoricalScale\",\"id\":\"p1495\"},\"title\":{\"type\":\"object\",\"name\":\"Title\",\"id\":\"p1487\",\"attributes\":{\"text\":\"09\",\"text_color\":\"black\",\"text_font_size\":\"12pt\"}},\"renderers\":[{\"type\":\"object\",\"name\":\"GlyphRenderer\",\"id\":\"p1521\",\"attributes\":{\"data_source\":{\"type\":\"object\",\"name\":\"ColumnDataSource\",\"id\":\"p1512\",\"attributes\":{\"selected\":{\"type\":\"object\",\"name\":\"Selection\",\"id\":\"p1513\",\"attributes\":{\"indices\":[],\"line_indices\":[]}},\"selection_policy\":{\"type\":\"object\",\"name\":\"UnionRenderers\",\"id\":\"p1514\"},\"data\":{\"type\":\"map\",\"entries\":[[\"Column\",[\"1\",\"1\",\"1\",\"1\",\"1\",\"1\",\"1\",\"1\",\"10\",\"10\",\"10\",\"10\",\"10\",\"10\",\"10\",\"10\",\"11\",\"11\",\"11\",\"11\",\"11\",\"11\",\"11\",\"11\",\"12\",\"12\",\"12\",\"12\",\"12\",\"12\",\"12\",\"12\",\"2\",\"2\",\"2\",\"2\",\"2\",\"2\",\"2\",\"2\",\"3\",\"3\",\"3\",\"3\",\"3\",\"3\",\"3\",\"3\",\"4\",\"4\",\"4\",\"4\",\"4\",\"4\",\"4\",\"4\",\"5\",\"5\",\"5\",\"5\",\"5\",\"5\",\"5\",\"5\",\"6\",\"6\",\"6\",\"6\",\"6\",\"6\",\"6\",\"6\",\"7\",\"7\",\"7\",\"7\",\"7\",\"7\",\"7\",\"7\",\"8\",\"8\",\"8\",\"8\",\"8\",\"8\",\"8\",\"8\",\"9\",\"9\",\"9\",\"9\",\"9\",\"9\",\"9\",\"9\"]],[\"Row\",[\"A\",\"B\",\"C\",\"D\",\"E\",\"F\",\"G\",\"H\",\"A\",\"B\",\"C\",\"D\",\"E\",\"F\",\"G\",\"H\",\"A\",\"B\",\"C\",\"D\",\"E\",\"F\",\"G\",\"H\",\"A\",\"B\",\"C\",\"D\",\"E\",\"F\",\"G\",\"H\",\"A\",\"B\",\"C\",\"D\",\"E\",\"F\",\"G\",\"H\",\"A\",\"B\",\"C\",\"D\",\"E\",\"F\",\"G\",\"H\",\"A\",\"B\",\"C\",\"D\",\"E\",\"F\",\"G\",\"H\",\"A\",\"B\",\"C\",\"D\",\"E\",\"F\",\"G\",\"H\",\"A\",\"B\",\"C\",\"D\",\"E\",\"F\",\"G\",\"H\",\"A\",\"B\",\"C\",\"D\",\"E\",\"F\",\"G\",\"H\",\"A\",\"B\",\"C\",\"D\",\"E\",\"F\",\"G\",\"H\",\"A\",\"B\",\"C\",\"D\",\"E\",\"F\",\"G\",\"H\"]],[\"zvalues\",{\"type\":\"ndarray\",\"array\":{\"type\":\"bytes\",\"data\":\"AAAAAAAAAAAzje33QcAJQAsDrXrqkxFAkeNze0L3B0DJeUQ8ZCYTQDON7fdBwPk//wBR/2B0D0AAAAAAAAAAAKhBw8XGGQ1A69wnhC+CEEBlnaYCe6ARQD9X9FxOGxFACwOteuqT8T8pTiMURW0RQGxCkL0OoQ5AhpFrOnsfB0BDVPw2BUYOQJHjc3tC9wdA9oquF130EUCkyaN2C3QOQLsalJ257xBAV1oyrnIiD0AWVbW7sWsSQKYjSto0whBAsa5vlC5bCEAWVbW7sWsCQAwTwndw6Q9AkeNze0L3B0CvG6y30ksPQH2e07wW4QNAXAeimhtFEUAbGOPokZIQQAIgKvoLqwxAzRrw6pQQCkB6f/rBa6oGQL3HOu4o4wxAKU4jFEVtEUBsQpC9DqEOQDON7fdBwAlAUGwqy/UZEEDWDYho+U4NQAwTwndw6Q9AWiuRSM54C0DUZfYJKLkRQLbwkC8azQ5AV1oyrnIi/z8AAAAAAAAAADwyTIcOYBFA0bjV9Nj4C0AAAAAAAAAAAForkUjOeAtA69wnhC+CEECLMmXcm2AQQP8AUf9gdA9AdSmUk5KyEEB6f/rBa6oGQGxCkL0OoQ5A0bjV9Nj4C0ANbBLriHEQQPikB37kQRJA9g25gfw1DEAhQWeJdf4QQC09LlS/5g1Ac6s7P7KiEEALA6166pMRQAIgKvoLqwxAcNbzwmEhEkCLMmXcm2AQQL3HOu4o4wxAqEHDxcYZDUBcB6KaG0URQL5cJcEeCxJAOc67oMbgEEDvOfr+Qi7mP73HOu4o4wxAqzwiaCjDD0C9xzruKOMMQFBsKsv1GRBAyMU9d3S6CEDz/rpZggcQQLGub5QuWwhAkeNze0L3B0BsQpC9DqEOQAZVAbPwwxJAqzwiaCjDD0AKo/heRsURQMu2talycBNA+SySfKdsCUBzsa+JUHoRQEmprqolnA9AbEKQvQ6hDkAR7BQW8BYOQLGub5QuWwhAXAeimhtFEUBqdPi2AVcSQB/+zcs48ApA\"},\"shape\":[96],\"dtype\":\"float64\",\"order\":\"little\"}],[\"logseqdepth\",[\"0\",\"3.2189\",\"4.3944\",\"2.9957\",\"4.7875\",\"1.6094\",\"3.9318\",\"0\",\"3.6376\",\"4.1271\",\"4.4067\",\"4.2767\",\"1.0986\",\"4.3567\",\"3.8286\",\"2.8904\",\"3.7842\",\"2.9957\",\"4.4886\",\"3.8067\",\"4.2341\",\"3.8918\",\"4.6052\",\"4.1897\",\"3.0445\",\"2.3026\",\"3.989\",\"2.9957\",\"3.912\",\"2.4849\",\"4.3175\",\"4.1431\",\"3.5835\",\"3.2581\",\"2.8332\",\"3.6109\",\"4.3567\",\"3.8286\",\"3.2189\",\"4.0254\",\"3.6636\",\"3.989\",\"3.434\",\"4.4308\",\"3.8501\",\"1.9459\",\"0\",\"4.3438\",\"3.4965\",\"0\",\"3.434\",\"4.1271\",\"4.0943\",\"3.9318\",\"4.1744\",\"2.8332\",\"3.8286\",\"3.4965\",\"4.1109\",\"4.5643\",\"3.5264\",\"4.2485\",\"3.7377\",\"4.1589\",\"4.3944\",\"3.5835\",\"4.5326\",\"4.0943\",\"3.6109\",\"3.6376\",\"4.3175\",\"4.5109\",\"4.2195\",\"0.69315\",\"3.6109\",\"3.9703\",\"3.6109\",\"4.0254\",\"3.091\",\"4.0073\",\"3.0445\",\"2.9957\",\"3.8286\",\"4.6913\",\"3.9703\",\"4.4427\",\"4.8598\",\"3.1781\",\"4.3694\",\"3.9512\",\"3.8286\",\"3.7612\",\"3.0445\",\"4.3175\",\"4.585\",\"3.3673\"]],[\"Mutations\",[\"M1N_P2A_Q3N\",\"T127A\",\"#PARENT#\",\"Q94R\",\"#PARENT#\",\"#PARENT#\",\"L24S\",\"M1N_P2A_Q3N\",\"G78R\",\"#PARENT#\",\"#PARENT#\",\"E42G\",\"M1N_P2A_Q3N\",\"Q94H\",\"#PARENT#\",\"#PARENT#\",\"#PARENT#\",\"#PARENT#\",\"T157A\",\"#PARENT#\",\"#PARENT#\",\"T122A\",\"D193G\",\"E167G\",\"#PARENT#\",\"#PARENT#\",\"W108C_E164G\",\"#PARENT#\",\"D193N\",\"#PARENT#\",\"#PARENT#\",\"#PARENT#\",\"#PARENT#\",\"#PARENT#\",\"#PARENT#\",\"#PARENT#\",\"#PARENT#\",\"#PARENT#\",\"T34R\",\"#PARENT#\",\"W33R_D98E\",\"#PARENT#\",\"#PARENT#\",\"T107I\",\"E86G_Y146C\",\"M1N_P2A_Q3N\",\"M1N_P2A_Q3N\",\"#PARENT#\",\"#PARENT#\",\"M1N_P2A_Q3N\",\"#PARENT#\",\"#PARENT#\",\"#PARENT#\",\"#PARENT#\",\"#PARENT#\",\"#PARENT#\",\"#PARENT#\",\"#PARENT#\",\"#PARENT#\",\"#PARENT#\",\"#PARENT#\",\"#PARENT#\",\"#PARENT#\",\"V130E_D193N\",\"H120R\",\"#PARENT#\",\"F92L\",\"K104R\",\"#PARENT#\",\"#PARENT#\",\"#PARENT#\",\"E164G\",\"#PARENT#\",\"M1N_P2A_Q3N\",\"V133I_W184R\",\"T131A\",\"#PARENT#\",\"#PARENT#\",\"#PARENT#\",\"Q180R\",\"#PARENT#\",\"#PARENT#\",\"#PARENT#\",\"#PARENT#\",\"#PARENT#\",\"R30C_A36E_H121R_S144F\",\"#PARENT#\",\"#PARENT#\",\"#PARENT#\",\"I152V\",\"#PARENT#\",\"#PARENT#\",\"#PARENT#\",\"#PARENT#\",\"#PARENT#\",\"#PARENT#\"]],[\"Alignment_Count\",[\"0\",\"25\",\"81\",\"20\",\"120\",\"5\",\"51\",\"0\",\"38\",\"62\",\"82\",\"72\",\"3\",\"78\",\"46\",\"18\",\"44\",\"20\",\"89\",\"45\",\"69\",\"49\",\"100\",\"66\",\"21\",\"10\",\"54\",\"20\",\"50\",\"12\",\"75\",\"63\",\"36\",\"26\",\"17\",\"37\",\"78\",\"46\",\"25\",\"56\",\"39\",\"54\",\"31\",\"84\",\"47\",\"7\",\"0\",\"77\",\"33\",\"0\",\"31\",\"62\",\"60\",\"51\",\"65\",\"17\",\"46\",\"33\",\"61\",\"96\",\"34\",\"70\",\"42\",\"64\",\"81\",\"36\",\"93\",\"60\",\"37\",\"38\",\"75\",\"91\",\"68\",\"2\",\"37\",\"53\",\"37\",\"56\",\"22\",\"55\",\"21\",\"20\",\"46\",\"109\",\"53\",\"85\",\"129\",\"24\",\"79\",\"52\",\"46\",\"43\",\"21\",\"75\",\"98\",\"29\"]],[\"Alignment_Probability\",[\"0\",\"0.96541\",\"0.92841\",\"0.82809\",\"0.97008\",\"0.011091\",\"0.74548\",\"0\",\"0.68729\",\"0.6128\",\"0.87793\",\"0.92031\",\"0\",\"0.97519\",\"0.76749\",\"0.70942\",\"0.8912\",\"0.56177\",\"0.90534\",\"0.75897\",\"0.92175\",\"0.79017\",\"0.9035\",\"0.94201\",\"0.52576\",\"0.22398\",\"0.43299\",\"0.89878\",\"1\",\"0.021213\",\"0.2555\",\"0.92976\",\"0.43212\",\"0.78949\",\"0.23542\",\"0.58316\",\"0.95934\",\"0.80972\",\"0.65246\",\"0.55555\",\"0.33404\",\"0.86319\",\"0.56369\",\"0.94296\",\"0.64673\",\"0\",\"0\",\"0.88815\",\"0.94468\",\"0\",\"0.45294\",\"0.94199\",\"0.81864\",\"0.56962\",\"0.76241\",\"0.17738\",\"0.74309\",\"0.50942\",\"0.74794\",\"0.48382\",\"0.9702\",\"0.74685\",\"0.45504\",\"0.55183\",\"0.94991\",\"0.1407\",\"0.8986\",\"0.90181\",\"0.75975\",\"0.68301\",\"0.44433\",\"0.58203\",\"0.44923\",\"0\",\"0.64734\",\"0.71083\",\"0.59456\",\"0.96842\",\"0.90089\",\"0.70154\",\"0.73162\",\"0.30963\",\"0.38646\",\"0.71543\",\"0.76558\",\"0.67685\",\"0.91222\",\"0.60561\",\"0.87094\",\"0.79337\",\"0.54772\",\"0.82579\",\"0.56366\",\"0.82853\",\"0.92781\",\"0.82227\"]]]}}},\"view\":{\"type\":\"object\",\"name\":\"CDSView\",\"id\":\"p1522\",\"attributes\":{\"filter\":{\"type\":\"object\",\"name\":\"AllIndices\",\"id\":\"p1523\"}}},\"glyph\":{\"type\":\"object\",\"name\":\"Rect\",\"id\":\"p1518\",\"attributes\":{\"tags\":[\"apply_ranges\"],\"x\":{\"type\":\"field\",\"field\":\"Column\"},\"y\":{\"type\":\"field\",\"field\":\"Row\"},\"width\":{\"type\":\"value\",\"value\":1},\"height\":{\"type\":\"value\",\"value\":1},\"line_color\":{\"type\":\"value\",\"value\":\"white\"},\"line_width\":{\"type\":\"value\",\"value\":4},\"fill_color\":{\"type\":\"field\",\"field\":\"zvalues\",\"transform\":{\"type\":\"object\",\"name\":\"LinearColorMapper\",\"id\":\"p1511\",\"attributes\":{\"palette\":[\"#ec654a\",\"#ec664b\",\"#ed684d\",\"#ed694e\",\"#ee6a50\",\"#ee6c51\",\"#ee6d52\",\"#ef6f54\",\"#ef7055\",\"#ef7157\",\"#f07358\",\"#f0745a\",\"#f1765b\",\"#f1775d\",\"#f1785e\",\"#f27a5f\",\"#f27b61\",\"#f27c62\",\"#f37e64\",\"#f37f65\",\"#f38067\",\"#f48268\",\"#f4836a\",\"#f4846b\",\"#f5866c\",\"#f5876e\",\"#f5886f\",\"#f58a71\",\"#f68b72\",\"#f68c74\",\"#f68d75\",\"#f78f77\",\"#f79078\",\"#f7917a\",\"#f7937b\",\"#f8947d\",\"#f8957e\",\"#f89780\",\"#f89881\",\"#f99983\",\"#f99a84\",\"#f99c86\",\"#f99d87\",\"#f99e89\",\"#faa08a\",\"#faa18c\",\"#faa28d\",\"#faa38f\",\"#faa590\",\"#fba692\",\"#fba793\",\"#fba995\",\"#fbaa96\",\"#fbab98\",\"#fbac99\",\"#fcae9b\",\"#fcaf9c\",\"#fcb09e\",\"#fcb19f\",\"#fcb3a1\",\"#fcb4a2\",\"#fcb5a4\",\"#fcb7a5\",\"#fdb8a7\",\"#fdb9a8\",\"#fdbaaa\",\"#fdbcac\",\"#fdbdad\",\"#fdbeaf\",\"#fdbfb0\",\"#fdc1b2\",\"#fdc2b3\",\"#fdc3b5\",\"#fdc4b6\",\"#fdc6b8\",\"#fdc7ba\",\"#fdc8bb\",\"#fdcabd\",\"#fdcbbe\",\"#fdccc0\",\"#fdcdc1\",\"#fdcfc3\",\"#fdd0c5\",\"#fdd1c6\",\"#fdd2c8\",\"#fdd4c9\",\"#fdd5cb\",\"#fdd6cc\",\"#fdd7ce\",\"#fdd9d0\",\"#fddad1\",\"#fddbd3\",\"#fddcd4\",\"#fdded6\",\"#fcdfd8\",\"#fce0d9\",\"#fce1db\",\"#fce3dc\",\"#fce4de\",\"#fce5e0\",\"#fce7e1\",\"#fce8e3\",\"#fbe9e5\",\"#fbeae6\",\"#fbece8\",\"#fbede9\",\"#fbeeeb\",\"#faefed\",\"#faf1ee\",\"#faf2f0\",\"#faf3f2\",\"#f9f4f3\",\"#f9f5f5\",\"#f8f6f6\",\"#f7f6f7\",\"#f6f6f8\",\"#f5f5f9\",\"#f4f4f9\",\"#f3f3f9\",\"#f1f2f9\",\"#f0f1f9\",\"#eff0f9\",\"#eeeffa\",\"#edeefa\",\"#ecedfa\",\"#eaecfa\",\"#e9ebfa\",\"#e8eafa\",\"#e7e9fa\",\"#e6e8fa\",\"#e5e7fa\",\"#e3e6fa\",\"#e2e5fa\",\"#e1e4fa\",\"#e0e3fa\",\"#dfe2fb\",\"#dde1fb\",\"#dce0fb\",\"#dbdffb\",\"#dadefb\",\"#d9ddfb\",\"#d7dcfb\",\"#d6dbfb\",\"#d5dafb\",\"#d4d9fb\",\"#d3d8fb\",\"#d1d7fb\",\"#d0d6fb\",\"#cfd5fb\",\"#ced4fb\",\"#cdd3fc\",\"#cbd2fc\",\"#cad1fc\",\"#c9d0fc\",\"#c8cffc\",\"#c6cefc\",\"#c5cdfc\",\"#c4ccfc\",\"#c3cbfc\",\"#c1cafc\",\"#c0c9fc\",\"#bfc8fc\",\"#bdc7fc\",\"#bcc7fc\",\"#bbc6fc\",\"#bac5fc\",\"#b8c4fc\",\"#b7c3fc\",\"#b6c2fc\",\"#b4c1fd\",\"#b3c0fd\",\"#b2bffd\",\"#b0befd\",\"#afbdfd\",\"#aebcfd\",\"#acbbfd\",\"#abbafd\",\"#aab9fd\",\"#a8b8fd\",\"#a7b7fd\",\"#a5b6fd\",\"#a4b5fd\",\"#a3b4fd\",\"#a1b3fd\",\"#a0b2fd\",\"#9eb2fd\",\"#9db1fd\",\"#9bb0fd\",\"#9aaffd\",\"#99aefd\",\"#97adfd\",\"#96acfd\",\"#94abfd\",\"#93aafd\",\"#91a9fd\",\"#90a8fd\",\"#8ea7fd\",\"#8ca6fd\",\"#8ba5fe\",\"#89a4fe\",\"#88a4fe\",\"#86a3fe\",\"#84a2fe\",\"#83a1fe\",\"#81a0fe\",\"#809ffe\",\"#7e9efe\",\"#7c9dfe\",\"#7a9cfe\",\"#799bfe\",\"#779afe\",\"#759afe\",\"#7399fe\",\"#7198fe\",\"#7097fe\",\"#6e96fe\",\"#6c95fe\",\"#6a94fe\",\"#6893fe\",\"#6692fe\",\"#6491fe\",\"#6291fe\",\"#5f90fe\",\"#5d8ffe\",\"#5b8efe\",\"#598dfe\",\"#568cfe\",\"#548bfe\",\"#518afe\",\"#4f8afe\",\"#4c89fe\",\"#4988fe\",\"#4787fe\",\"#4486fe\",\"#4085fe\",\"#3d84fe\",\"#3a83fe\",\"#3683fe\",\"#3282fe\",\"#2e81fe\",\"#2980fe\",\"#247ffe\"],\"nan_color\":\"#DCDCDC\",\"low\":0.0,\"high\":4.969813299576001}}}}},\"selection_glyph\":{\"type\":\"object\",\"name\":\"Rect\",\"id\":\"p1527\",\"attributes\":{\"tags\":[\"apply_ranges\"],\"x\":{\"type\":\"field\",\"field\":\"Column\"},\"y\":{\"type\":\"field\",\"field\":\"Row\"},\"width\":{\"type\":\"value\",\"value\":1},\"height\":{\"type\":\"value\",\"value\":1},\"angle\":{\"type\":\"value\",\"value\":0.0},\"line_color\":{\"type\":\"value\",\"value\":\"white\"},\"line_alpha\":{\"type\":\"value\",\"value\":1.0},\"line_width\":{\"type\":\"value\",\"value\":4},\"line_join\":{\"type\":\"value\",\"value\":\"bevel\"},\"line_cap\":{\"type\":\"value\",\"value\":\"butt\"},\"line_dash\":{\"type\":\"value\",\"value\":[]},\"line_dash_offset\":{\"type\":\"value\",\"value\":0},\"fill_color\":{\"type\":\"field\",\"field\":\"zvalues\",\"transform\":{\"id\":\"p1511\"}},\"fill_alpha\":{\"type\":\"value\",\"value\":1.0},\"hatch_color\":{\"type\":\"value\",\"value\":\"black\"},\"hatch_alpha\":{\"type\":\"value\",\"value\":1.0},\"hatch_scale\":{\"type\":\"value\",\"value\":12.0},\"hatch_pattern\":{\"type\":\"value\",\"value\":null},\"hatch_weight\":{\"type\":\"value\",\"value\":1.0}}},\"nonselection_glyph\":{\"type\":\"object\",\"name\":\"Rect\",\"id\":\"p1519\",\"attributes\":{\"tags\":[\"apply_ranges\"],\"x\":{\"type\":\"field\",\"field\":\"Column\"},\"y\":{\"type\":\"field\",\"field\":\"Row\"},\"width\":{\"type\":\"value\",\"value\":1},\"height\":{\"type\":\"value\",\"value\":1},\"line_color\":{\"type\":\"value\",\"value\":\"white\"},\"line_alpha\":{\"type\":\"value\",\"value\":0.1},\"line_width\":{\"type\":\"value\",\"value\":4},\"fill_color\":{\"type\":\"field\",\"field\":\"zvalues\",\"transform\":{\"id\":\"p1511\"}},\"fill_alpha\":{\"type\":\"value\",\"value\":0.1},\"hatch_alpha\":{\"type\":\"value\",\"value\":0.1}}},\"muted_glyph\":{\"type\":\"object\",\"name\":\"Rect\",\"id\":\"p1520\",\"attributes\":{\"tags\":[\"apply_ranges\"],\"x\":{\"type\":\"field\",\"field\":\"Column\"},\"y\":{\"type\":\"field\",\"field\":\"Row\"},\"width\":{\"type\":\"value\",\"value\":1},\"height\":{\"type\":\"value\",\"value\":1},\"line_color\":{\"type\":\"value\",\"value\":\"white\"},\"line_alpha\":{\"type\":\"value\",\"value\":0.2},\"line_width\":{\"type\":\"value\",\"value\":4},\"fill_color\":{\"type\":\"field\",\"field\":\"zvalues\",\"transform\":{\"id\":\"p1511\"}},\"fill_alpha\":{\"type\":\"value\",\"value\":0.2},\"hatch_alpha\":{\"type\":\"value\",\"value\":0.2}}}}},{\"type\":\"object\",\"name\":\"GlyphRenderer\",\"id\":\"p1538\",\"attributes\":{\"name\":\"line_color\",\"data_source\":{\"type\":\"object\",\"name\":\"ColumnDataSource\",\"id\":\"p1529\",\"attributes\":{\"selected\":{\"type\":\"object\",\"name\":\"Selection\",\"id\":\"p1530\",\"attributes\":{\"indices\":[],\"line_indices\":[]}},\"selection_policy\":{\"type\":\"object\",\"name\":\"UnionRenderers\",\"id\":\"p1531\"},\"data\":{\"type\":\"map\",\"entries\":[[\"Column\",[\"12\",\"10\",\"5\",\"1\",\"7\",\"1\",\"2\",\"6\",\"4\",\"3\",\"11\",\"4\",\"12\",\"1\",\"9\",\"11\",\"10\",\"8\",\"11\",\"11\",\"6\",\"7\",\"12\",\"6\",\"11\",\"3\",\"10\",\"9\",\"3\",\"9\",\"1\",\"9\",\"9\",\"4\",\"2\",\"9\",\"11\",\"2\",\"10\",\"8\",\"4\",\"6\",\"11\",\"5\",\"5\",\"1\",\"5\",\"8\",\"8\",\"7\",\"10\",\"7\",\"10\",\"6\",\"8\",\"2\",\"7\",\"3\",\"10\",\"8\",\"7\",\"2\",\"6\",\"4\",\"3\",\"9\",\"11\",\"2\",\"5\",\"9\",\"12\",\"5\",\"5\",\"5\",\"4\",\"7\",\"6\",\"12\",\"2\",\"8\",\"3\",\"8\",\"12\",\"2\",\"12\",\"4\",\"6\",\"12\",\"1\",\"10\",\"7\",\"4\",\"1\",\"3\",\"3\",\"1\"]],[\"Row\",[\"E\",\"F\",\"E\",\"E\",\"F\",\"B\",\"E\",\"A\",\"A\",\"D\",\"H\",\"D\",\"H\",\"C\",\"G\",\"E\",\"D\",\"G\",\"C\",\"G\",\"D\",\"G\",\"D\",\"C\",\"A\",\"H\",\"C\",\"A\",\"B\",\"F\",\"D\",\"D\",\"H\",\"E\",\"F\",\"B\",\"F\",\"B\",\"G\",\"E\",\"G\",\"E\",\"D\",\"C\",\"F\",\"G\",\"A\",\"A\",\"D\",\"D\",\"H\",\"H\",\"A\",\"F\",\"F\",\"G\",\"C\",\"E\",\"B\",\"H\",\"E\",\"D\",\"H\",\"F\",\"C\",\"E\",\"B\",\"H\",\"H\",\"C\",\"A\",\"B\",\"D\",\"G\",\"C\",\"A\",\"G\",\"C\",\"A\",\"C\",\"A\",\"B\",\"G\",\"C\",\"B\",\"H\",\"B\",\"F\",\"F\",\"E\",\"B\",\"B\",\"H\",\"G\",\"F\",\"A\"]],[\"line_color\",[\"0.95+\",\"0.95+\",\"0.95+\",\"0.95+\",\"0.95+\",\"0.95+\",\"0.95+\",\"0.90-0.95\",\"0.90-0.95\",\"0.90-0.95\",\"0.90-0.95\",\"0.90-0.95\",\"0.90-0.95\",\"0.90-0.95\",\"0.90-0.95\",\"0.90-0.95\",\"0.90-0.95\",\"0.90-0.95\",\"0.90-0.95\",\"0.90-0.95\",\"0.90-0.95\",\"0.90-0.95\",\"0.80-0.90\",\"0.80-0.90\",\"0.80-0.90\",\"0.80-0.90\",\"0.80-0.90\",\"0.80-0.90\",\"0.80-0.90\",\"0.80-0.90\",\"0.80-0.90\",\"0.80-0.90\",\"0.80-0.90\",\"0.80-0.90\",\"0.80-0.90\",\"<0.80\",\"<0.80\",\"<0.80\",\"<0.80\",\"<0.80\",\"<0.80\",\"<0.80\",\"<0.80\",\"<0.80\",\"<0.80\",\"<0.80\",\"<0.80\",\"<0.80\",\"<0.80\",\"<0.80\",\"<0.80\",\"<0.80\",\"<0.80\",\"<0.80\",\"<0.80\",\"<0.80\",\"<0.80\",\"<0.80\",\"<0.80\",\"<0.80\",\"<0.80\",\"<0.80\",\"<0.80\",\"<0.80\",\"<0.80\",\"<0.80\",\"<0.80\",\"<0.80\",\"<0.80\",\"<0.80\",\"<0.80\",\"<0.80\",\"<0.80\",\"<0.80\",\"<0.80\",\"<0.80\",\"<0.80\",\"<0.80\",\"<0.80\",\"<0.80\",\"<0.80\",\"<0.80\",\"<0.80\",\"<0.80\",\"<0.80\",\"<0.80\",\"<0.80\",\"<0.80\",\"<0.80\",\"<0.80\",\"<0.80\",\"<0.80\",\"<0.80\",\"<0.80\",\"<0.80\",\"<0.80\"]]]}}},\"view\":{\"type\":\"object\",\"name\":\"CDSView\",\"id\":\"p1539\",\"attributes\":{\"filter\":{\"type\":\"object\",\"name\":\"AllIndices\",\"id\":\"p1540\"}}},\"glyph\":{\"type\":\"object\",\"name\":\"Scatter\",\"id\":\"p1535\",\"attributes\":{\"tags\":[\"apply_ranges\"],\"x\":{\"type\":\"field\",\"field\":\"Column\"},\"y\":{\"type\":\"field\",\"field\":\"Row\"},\"size\":{\"type\":\"value\",\"value\":60.0},\"line_color\":{\"type\":\"field\",\"field\":\"line_color\",\"transform\":{\"type\":\"object\",\"name\":\"CategoricalColorMapper\",\"id\":\"p1528\",\"attributes\":{\"palette\":[\"#1c15a9\",\"#5a0fa0\",\"#97038f\",\"#ff8348\"],\"factors\":[\"0.95+\",\"0.90-0.95\",\"0.80-0.90\",\"<0.80\"]}}},\"line_width\":{\"type\":\"value\",\"value\":6},\"line_join\":{\"type\":\"value\",\"value\":\"miter\"},\"fill_color\":{\"type\":\"value\",\"value\":\"#30a2da\"},\"fill_alpha\":{\"type\":\"value\",\"value\":0},\"hatch_color\":{\"type\":\"value\",\"value\":\"#30a2da\"},\"marker\":{\"type\":\"value\",\"value\":\"square\"}}},\"selection_glyph\":{\"type\":\"object\",\"name\":\"Scatter\",\"id\":\"p1543\",\"attributes\":{\"tags\":[\"apply_ranges\"],\"x\":{\"type\":\"field\",\"field\":\"Column\"},\"y\":{\"type\":\"field\",\"field\":\"Row\"},\"size\":{\"type\":\"value\",\"value\":60.0},\"angle\":{\"type\":\"value\",\"value\":0.0},\"line_color\":{\"type\":\"field\",\"field\":\"line_color\",\"transform\":{\"id\":\"p1528\"}},\"line_alpha\":{\"type\":\"value\",\"value\":1},\"line_width\":{\"type\":\"value\",\"value\":6},\"line_join\":{\"type\":\"value\",\"value\":\"miter\"},\"line_cap\":{\"type\":\"value\",\"value\":\"butt\"},\"line_dash\":{\"type\":\"value\",\"value\":[]},\"line_dash_offset\":{\"type\":\"value\",\"value\":0},\"fill_color\":{\"type\":\"value\",\"value\":\"#30a2da\"},\"fill_alpha\":{\"type\":\"value\",\"value\":0},\"hatch_color\":{\"type\":\"value\",\"value\":\"#30a2da\"},\"hatch_alpha\":{\"type\":\"value\",\"value\":1.0},\"hatch_scale\":{\"type\":\"value\",\"value\":12.0},\"hatch_pattern\":{\"type\":\"value\",\"value\":null},\"hatch_weight\":{\"type\":\"value\",\"value\":1.0},\"marker\":{\"type\":\"value\",\"value\":\"square\"}}},\"nonselection_glyph\":{\"type\":\"object\",\"name\":\"Scatter\",\"id\":\"p1536\",\"attributes\":{\"tags\":[\"apply_ranges\"],\"x\":{\"type\":\"field\",\"field\":\"Column\"},\"y\":{\"type\":\"field\",\"field\":\"Row\"},\"size\":{\"type\":\"value\",\"value\":60.0},\"line_color\":{\"type\":\"field\",\"field\":\"line_color\",\"transform\":{\"id\":\"p1528\"}},\"line_alpha\":{\"type\":\"value\",\"value\":1},\"line_width\":{\"type\":\"value\",\"value\":6},\"line_join\":{\"type\":\"value\",\"value\":\"miter\"},\"fill_color\":{\"type\":\"value\",\"value\":\"#30a2da\"},\"fill_alpha\":{\"type\":\"value\",\"value\":0},\"hatch_color\":{\"type\":\"value\",\"value\":\"#30a2da\"},\"hatch_alpha\":{\"type\":\"value\",\"value\":0.1},\"marker\":{\"type\":\"value\",\"value\":\"square\"}}},\"muted_glyph\":{\"type\":\"object\",\"name\":\"Scatter\",\"id\":\"p1537\",\"attributes\":{\"tags\":[\"apply_ranges\"],\"x\":{\"type\":\"field\",\"field\":\"Column\"},\"y\":{\"type\":\"field\",\"field\":\"Row\"},\"size\":{\"type\":\"value\",\"value\":60.0},\"line_color\":{\"type\":\"field\",\"field\":\"line_color\",\"transform\":{\"id\":\"p1528\"}},\"line_alpha\":{\"type\":\"value\",\"value\":0.2},\"line_width\":{\"type\":\"value\",\"value\":6},\"line_join\":{\"type\":\"value\",\"value\":\"miter\"},\"fill_color\":{\"type\":\"value\",\"value\":\"#30a2da\"},\"fill_alpha\":{\"type\":\"value\",\"value\":0.2},\"hatch_color\":{\"type\":\"value\",\"value\":\"#30a2da\"},\"hatch_alpha\":{\"type\":\"value\",\"value\":0.2},\"marker\":{\"type\":\"value\",\"value\":\"square\"}}}}},{\"type\":\"object\",\"name\":\"GlyphRenderer\",\"id\":\"p1553\",\"attributes\":{\"data_source\":{\"type\":\"object\",\"name\":\"ColumnDataSource\",\"id\":\"p1544\",\"attributes\":{\"selected\":{\"type\":\"object\",\"name\":\"Selection\",\"id\":\"p1545\",\"attributes\":{\"indices\":[],\"line_indices\":[]}},\"selection_policy\":{\"type\":\"object\",\"name\":\"UnionRenderers\",\"id\":\"p1546\"},\"data\":{\"type\":\"map\",\"entries\":[[\"Column\",[\"1\",\"1\",\"1\",\"1\",\"1\",\"1\",\"1\",\"1\",\"10\",\"10\",\"10\",\"10\",\"10\",\"10\",\"10\",\"10\",\"11\",\"11\",\"11\",\"11\",\"11\",\"11\",\"11\",\"11\",\"12\",\"12\",\"12\",\"12\",\"12\",\"12\",\"12\",\"12\",\"2\",\"2\",\"2\",\"2\",\"2\",\"2\",\"2\",\"2\",\"3\",\"3\",\"3\",\"3\",\"3\",\"3\",\"3\",\"3\",\"4\",\"4\",\"4\",\"4\",\"4\",\"4\",\"4\",\"4\",\"5\",\"5\",\"5\",\"5\",\"5\",\"5\",\"5\",\"5\",\"6\",\"6\",\"6\",\"6\",\"6\",\"6\",\"6\",\"6\",\"7\",\"7\",\"7\",\"7\",\"7\",\"7\",\"7\",\"7\",\"8\",\"8\",\"8\",\"8\",\"8\",\"8\",\"8\",\"8\",\"9\",\"9\",\"9\",\"9\",\"9\",\"9\",\"9\",\"9\"]],[\"Row\",[\"A\",\"B\",\"C\",\"D\",\"E\",\"F\",\"G\",\"H\",\"A\",\"B\",\"C\",\"D\",\"E\",\"F\",\"G\",\"H\",\"A\",\"B\",\"C\",\"D\",\"E\",\"F\",\"G\",\"H\",\"A\",\"B\",\"C\",\"D\",\"E\",\"F\",\"G\",\"H\",\"A\",\"B\",\"C\",\"D\",\"E\",\"F\",\"G\",\"H\",\"A\",\"B\",\"C\",\"D\",\"E\",\"F\",\"G\",\"H\",\"A\",\"B\",\"C\",\"D\",\"E\",\"F\",\"G\",\"H\",\"A\",\"B\",\"C\",\"D\",\"E\",\"F\",\"G\",\"H\",\"A\",\"B\",\"C\",\"D\",\"E\",\"F\",\"G\",\"H\",\"A\",\"B\",\"C\",\"D\",\"E\",\"F\",\"G\",\"H\",\"A\",\"B\",\"C\",\"D\",\"E\",\"F\",\"G\",\"H\",\"A\",\"B\",\"C\",\"D\",\"E\",\"F\",\"G\",\"H\"]],[\"Labels\",[\"M1N\\nP2A\\nQ3N\",\"T127A\",\"#PARENT#\",\"Q94R\",\"#PARENT#\",\"#PARENT#\",\"L24S\",\"M1N\\nP2A\\nQ3N\",\"G78R\",\"#PARENT#\",\"#PARENT#\",\"E42G\",\"M1N\\nP2A\\nQ3N\",\"Q94H\",\"#PARENT#\",\"#PARENT#\",\"#PARENT#\",\"#PARENT#\",\"T157A\",\"#PARENT#\",\"#PARENT#\",\"T122A\",\"D193G\",\"E167G\",\"#PARENT#\",\"#PARENT#\",\"W108C\\nE164G\",\"#PARENT#\",\"D193N\",\"#PARENT#\",\"#PARENT#\",\"#PARENT#\",\"#PARENT#\",\"#PARENT#\",\"#PARENT#\",\"#PARENT#\",\"#PARENT#\",\"#PARENT#\",\"T34R\",\"#PARENT#\",\"W33R\\nD98E\",\"#PARENT#\",\"#PARENT#\",\"T107I\",\"E86G\\nY146C\",\"M1N\\nP2A\\nQ3N\",\"M1N\\nP2A\\nQ3N\",\"#PARENT#\",\"#PARENT#\",\"M1N\\nP2A\\nQ3N\",\"#PARENT#\",\"#PARENT#\",\"#PARENT#\",\"#PARENT#\",\"#PARENT#\",\"#PARENT#\",\"#PARENT#\",\"#PARENT#\",\"#PARENT#\",\"#PARENT#\",\"#PARENT#\",\"#PARENT#\",\"#PARENT#\",\"V130E\\nD193N\",\"H120R\",\"#PARENT#\",\"F92L\",\"K104R\",\"#PARENT#\",\"#PARENT#\",\"#PARENT#\",\"E164G\",\"#PARENT#\",\"M1N\\nP2A\\nQ3N\",\"V133I\\nW184R\",\"T131A\",\"#PARENT#\",\"#PARENT#\",\"#PARENT#\",\"Q180R\",\"#PARENT#\",\"#PARENT#\",\"#PARENT#\",\"#PARENT#\",\"#PARENT#\",\"R30C\\nA36E\\nH121R\\nS144F\",\"#PARENT#\",\"#PARENT#\",\"#PARENT#\",\"I152V\",\"#PARENT#\",\"#PARENT#\",\"#PARENT#\",\"#PARENT#\",\"#PARENT#\",\"#PARENT#\"]]]}}},\"view\":{\"type\":\"object\",\"name\":\"CDSView\",\"id\":\"p1554\",\"attributes\":{\"filter\":{\"type\":\"object\",\"name\":\"AllIndices\",\"id\":\"p1555\"}}},\"glyph\":{\"type\":\"object\",\"name\":\"Text\",\"id\":\"p1550\",\"attributes\":{\"tags\":[\"apply_ranges\"],\"x\":{\"type\":\"field\",\"field\":\"Column\"},\"y\":{\"type\":\"field\",\"field\":\"Row\"},\"text\":{\"type\":\"field\",\"field\":\"Labels\"},\"text_color\":{\"type\":\"value\",\"value\":\"#000000\"},\"text_font_size\":{\"type\":\"value\",\"value\":\"8pt\"},\"text_align\":{\"type\":\"value\",\"value\":\"center\"},\"text_baseline\":{\"type\":\"value\",\"value\":\"middle\"}}},\"selection_glyph\":{\"type\":\"object\",\"name\":\"Text\",\"id\":\"p1556\",\"attributes\":{\"tags\":[\"apply_ranges\"],\"x\":{\"type\":\"field\",\"field\":\"Column\"},\"y\":{\"type\":\"field\",\"field\":\"Row\"},\"text\":{\"type\":\"field\",\"field\":\"Labels\"},\"angle\":{\"type\":\"value\",\"value\":0},\"x_offset\":{\"type\":\"value\",\"value\":0},\"y_offset\":{\"type\":\"value\",\"value\":0},\"text_color\":{\"type\":\"value\",\"value\":\"#000000\"},\"text_outline_color\":{\"type\":\"value\",\"value\":null},\"text_alpha\":{\"type\":\"value\",\"value\":1.0},\"text_font_size\":{\"type\":\"value\",\"value\":\"8pt\"},\"text_font_style\":{\"type\":\"value\",\"value\":\"normal\"},\"text_align\":{\"type\":\"value\",\"value\":\"center\"},\"text_baseline\":{\"type\":\"value\",\"value\":\"middle\"},\"text_line_height\":{\"type\":\"value\",\"value\":1.2},\"background_fill_color\":{\"type\":\"value\",\"value\":null},\"background_fill_alpha\":{\"type\":\"value\",\"value\":1.0},\"background_hatch_color\":{\"type\":\"value\",\"value\":null},\"background_hatch_alpha\":{\"type\":\"value\",\"value\":1.0},\"background_hatch_scale\":{\"type\":\"value\",\"value\":12.0},\"background_hatch_pattern\":{\"type\":\"value\",\"value\":null},\"background_hatch_weight\":{\"type\":\"value\",\"value\":1.0},\"border_line_color\":{\"type\":\"value\",\"value\":null},\"border_line_alpha\":{\"type\":\"value\",\"value\":1.0},\"border_line_width\":{\"type\":\"value\",\"value\":1},\"border_line_join\":{\"type\":\"value\",\"value\":\"bevel\"},\"border_line_cap\":{\"type\":\"value\",\"value\":\"butt\"},\"border_line_dash\":{\"type\":\"value\",\"value\":[]},\"border_line_dash_offset\":{\"type\":\"value\",\"value\":0}}},\"nonselection_glyph\":{\"type\":\"object\",\"name\":\"Text\",\"id\":\"p1551\",\"attributes\":{\"tags\":[\"apply_ranges\"],\"x\":{\"type\":\"field\",\"field\":\"Column\"},\"y\":{\"type\":\"field\",\"field\":\"Row\"},\"text\":{\"type\":\"field\",\"field\":\"Labels\"},\"text_color\":{\"type\":\"value\",\"value\":\"#000000\"},\"text_alpha\":{\"type\":\"value\",\"value\":0.1},\"text_font_size\":{\"type\":\"value\",\"value\":\"8pt\"},\"text_align\":{\"type\":\"value\",\"value\":\"center\"},\"text_baseline\":{\"type\":\"value\",\"value\":\"middle\"}}},\"muted_glyph\":{\"type\":\"object\",\"name\":\"Text\",\"id\":\"p1552\",\"attributes\":{\"tags\":[\"apply_ranges\"],\"x\":{\"type\":\"field\",\"field\":\"Column\"},\"y\":{\"type\":\"field\",\"field\":\"Row\"},\"text\":{\"type\":\"field\",\"field\":\"Labels\"},\"text_color\":{\"type\":\"value\",\"value\":\"#000000\"},\"text_alpha\":{\"type\":\"value\",\"value\":0.2},\"text_font_size\":{\"type\":\"value\",\"value\":\"8pt\"},\"text_align\":{\"type\":\"value\",\"value\":\"center\"},\"text_baseline\":{\"type\":\"value\",\"value\":\"middle\"}}}}}],\"toolbar\":{\"type\":\"object\",\"name\":\"Toolbar\",\"id\":\"p1493\",\"attributes\":{\"tools\":[{\"type\":\"object\",\"name\":\"WheelZoomTool\",\"id\":\"p1478\",\"attributes\":{\"tags\":[\"hv_created\"],\"zoom_together\":\"none\"}},{\"type\":\"object\",\"name\":\"HoverTool\",\"id\":\"p1479\",\"attributes\":{\"tags\":[\"hv_created\"],\"renderers\":[{\"id\":\"p1521\"}],\"tooltips\":[[\"Column\",\"@{Column}\"],[\"Row\",\"@{Row}\"],[\"logseqdepth\",\"@{logseqdepth}\"],[\"Mutations\",\"@{Mutations}\"],[\"Alignment Count\",\"@{Alignment_Count}\"],[\"Alignment Probability\",\"@{Alignment_Probability}\"]]}},{\"type\":\"object\",\"name\":\"SaveTool\",\"id\":\"p1506\"},{\"type\":\"object\",\"name\":\"PanTool\",\"id\":\"p1507\"},{\"type\":\"object\",\"name\":\"BoxZoomTool\",\"id\":\"p1508\",\"attributes\":{\"overlay\":{\"type\":\"object\",\"name\":\"BoxAnnotation\",\"id\":\"p1509\",\"attributes\":{\"syncable\":false,\"level\":\"overlay\",\"visible\":false,\"left_units\":\"canvas\",\"right_units\":\"canvas\",\"bottom_units\":\"canvas\",\"top_units\":\"canvas\",\"line_color\":\"black\",\"line_alpha\":1.0,\"line_width\":2,\"line_dash\":[4,4],\"fill_color\":\"lightgrey\",\"fill_alpha\":0.5}}}},{\"type\":\"object\",\"name\":\"ResetTool\",\"id\":\"p1510\"}],\"active_drag\":{\"id\":\"p1507\"},\"active_scroll\":{\"id\":\"p1478\"}}},\"left\":[{\"type\":\"object\",\"name\":\"CategoricalAxis\",\"id\":\"p1501\",\"attributes\":{\"ticker\":{\"type\":\"object\",\"name\":\"CategoricalTicker\",\"id\":\"p1502\"},\"formatter\":{\"type\":\"object\",\"name\":\"CategoricalTickFormatter\",\"id\":\"p1503\"},\"axis_label\":\"Row\",\"major_label_policy\":{\"type\":\"object\",\"name\":\"AllLabels\",\"id\":\"p1504\"}}}],\"right\":[{\"type\":\"object\",\"name\":\"ColorBar\",\"id\":\"p1525\",\"attributes\":{\"location\":[0,0],\"title\":\"LogSeqDepth\",\"ticker\":{\"type\":\"object\",\"name\":\"BasicTicker\",\"id\":\"p1524\",\"attributes\":{\"mantissas\":[1,2,5]}},\"major_label_policy\":{\"type\":\"object\",\"name\":\"NoOverlap\",\"id\":\"p1526\"},\"label_standoff\":8,\"major_tick_line_color\":\"black\",\"bar_line_color\":\"black\",\"background_fill_alpha\":0,\"color_mapper\":{\"id\":\"p1511\"}}}],\"above\":[{\"type\":\"object\",\"name\":\"Legend\",\"id\":\"p1541\",\"attributes\":{\"location\":[0,0],\"orientation\":\"horizontal\",\"click_policy\":\"mute\",\"items\":[{\"type\":\"object\",\"name\":\"LegendItem\",\"id\":\"p1542\",\"attributes\":{\"label\":{\"type\":\"field\",\"field\":\"line_color\"},\"renderers\":[{\"id\":\"p1538\"}]}}]}}],\"below\":[{\"type\":\"object\",\"name\":\"CategoricalAxis\",\"id\":\"p1496\",\"attributes\":{\"ticker\":{\"type\":\"object\",\"name\":\"CategoricalTicker\",\"id\":\"p1497\"},\"formatter\":{\"type\":\"object\",\"name\":\"CategoricalTickFormatter\",\"id\":\"p1498\"},\"axis_label\":\"Column\",\"major_label_policy\":{\"type\":\"object\",\"name\":\"AllLabels\",\"id\":\"p1499\"}}}],\"center\":[{\"type\":\"object\",\"name\":\"Grid\",\"id\":\"p1500\",\"attributes\":{\"axis\":{\"id\":\"p1496\"},\"grid_line_color\":null}},{\"type\":\"object\",\"name\":\"Grid\",\"id\":\"p1505\",\"attributes\":{\"dimension\":1,\"axis\":{\"id\":\"p1501\"},\"grid_line_color\":null}}],\"frame_width\":825,\"frame_height\":550,\"min_border_top\":50,\"min_border_bottom\":50,\"min_border_left\":50,\"min_border_right\":50,\"output_backend\":\"webgl\"}}]}},{\"type\":\"object\",\"name\":\"Spacer\",\"id\":\"p1560\",\"attributes\":{\"name\":\"HSpacer08142\",\"stylesheets\":[\"\\n:host(.pn-loading.pn-arc):before, .pn-loading.pn-arc:before {\\n  background-image: url(\\\"data:image/svg+xml;base64,PHN2ZyB4bWxucz0iaHR0cDovL3d3dy53My5vcmcvMjAwMC9zdmciIHN0eWxlPSJtYXJnaW46IGF1dG87IGJhY2tncm91bmQ6IG5vbmU7IGRpc3BsYXk6IGJsb2NrOyBzaGFwZS1yZW5kZXJpbmc6IGF1dG87IiB2aWV3Qm94PSIwIDAgMTAwIDEwMCIgcHJlc2VydmVBc3BlY3RSYXRpbz0ieE1pZFlNaWQiPiAgPGNpcmNsZSBjeD0iNTAiIGN5PSI1MCIgZmlsbD0ibm9uZSIgc3Ryb2tlPSIjYzNjM2MzIiBzdHJva2Utd2lkdGg9IjEwIiByPSIzNSIgc3Ryb2tlLWRhc2hhcnJheT0iMTY0LjkzMzYxNDMxMzQ2NDE1IDU2Ljk3Nzg3MTQzNzgyMTM4Ij4gICAgPGFuaW1hdGVUcmFuc2Zvcm0gYXR0cmlidXRlTmFtZT0idHJhbnNmb3JtIiB0eXBlPSJyb3RhdGUiIHJlcGVhdENvdW50PSJpbmRlZmluaXRlIiBkdXI9IjFzIiB2YWx1ZXM9IjAgNTAgNTA7MzYwIDUwIDUwIiBrZXlUaW1lcz0iMDsxIj48L2FuaW1hdGVUcmFuc2Zvcm0+ICA8L2NpcmNsZT48L3N2Zz4=\\\");\\n  background-size: auto calc(min(50%, 400px));\\n}\",{\"id\":\"p1463\"},{\"id\":\"p1461\"},{\"id\":\"p1462\"}],\"margin\":0,\"sizing_mode\":\"stretch_width\",\"align\":\"start\"}}]}},{\"type\":\"object\",\"name\":\"panel.models.state.State\",\"id\":\"p1563\",\"attributes\":{\"state\":{\"type\":\"map\",\"entries\":[[\"12\",{\"type\":\"map\",\"entries\":[[\"header\",\"{\\\"msgid\\\": \\\"p1566\\\", \\\"msgtype\\\": \\\"PATCH-DOC\\\"}\"],[\"metadata\",\"{\\\"use_buffers\\\": false}\"],[\"content\",\"{\\\"events\\\":[{\\\"kind\\\":\\\"ModelChanged\\\",\\\"model\\\":{\\\"id\\\":\\\"p1473\\\"},\\\"attr\\\":\\\"factors\\\",\\\"new\\\":[\\\"1\\\",\\\"2\\\",\\\"3\\\",\\\"4\\\",\\\"5\\\",\\\"6\\\",\\\"7\\\",\\\"8\\\",\\\"9\\\",\\\"10\\\",\\\"11\\\",\\\"12\\\"]},{\\\"kind\\\":\\\"ModelChanged\\\",\\\"model\\\":{\\\"id\\\":\\\"p1511\\\"},\\\"attr\\\":\\\"palette\\\",\\\"new\\\":[\\\"#e65138\\\",\\\"#e75339\\\",\\\"#e7553a\\\",\\\"#e8563c\\\",\\\"#e8583d\\\",\\\"#e9593f\\\",\\\"#e95b40\\\",\\\"#e95c41\\\",\\\"#ea5e43\\\",\\\"#ea5f44\\\",\\\"#eb6046\\\",\\\"#eb6247\\\",\\\"#ec6349\\\",\\\"#ec654a\\\",\\\"#ec664b\\\",\\\"#ed684d\\\",\\\"#ed694e\\\",\\\"#ee6a50\\\",\\\"#ee6c51\\\",\\\"#ee6d52\\\",\\\"#ef6f54\\\",\\\"#ef7055\\\",\\\"#ef7157\\\",\\\"#f07358\\\",\\\"#f0745a\\\",\\\"#f1765b\\\",\\\"#f1775d\\\",\\\"#f1785e\\\",\\\"#f27a5f\\\",\\\"#f27b61\\\",\\\"#f27c62\\\",\\\"#f37e64\\\",\\\"#f37f65\\\",\\\"#f38067\\\",\\\"#f48268\\\",\\\"#f4836a\\\",\\\"#f4846b\\\",\\\"#f5866c\\\",\\\"#f5876e\\\",\\\"#f5886f\\\",\\\"#f58a71\\\",\\\"#f68b72\\\",\\\"#f68c74\\\",\\\"#f68d75\\\",\\\"#f78f77\\\",\\\"#f79078\\\",\\\"#f7917a\\\",\\\"#f7937b\\\",\\\"#f8947d\\\",\\\"#f8957e\\\",\\\"#f89780\\\",\\\"#f89881\\\",\\\"#f99983\\\",\\\"#f99a84\\\",\\\"#f99c86\\\",\\\"#f99d87\\\",\\\"#f99e89\\\",\\\"#faa08a\\\",\\\"#faa18c\\\",\\\"#faa28d\\\",\\\"#faa38f\\\",\\\"#faa590\\\",\\\"#fba692\\\",\\\"#fba793\\\",\\\"#fba995\\\",\\\"#fbaa96\\\",\\\"#fbab98\\\",\\\"#fbac99\\\",\\\"#fcae9b\\\",\\\"#fcaf9c\\\",\\\"#fcb09e\\\",\\\"#fcb19f\\\",\\\"#fcb3a1\\\",\\\"#fcb4a2\\\",\\\"#fcb5a4\\\",\\\"#fcb7a5\\\",\\\"#fdb8a7\\\",\\\"#fdb9a8\\\",\\\"#fdbaaa\\\",\\\"#fdbcac\\\",\\\"#fdbdad\\\",\\\"#fdbeaf\\\",\\\"#fdbfb0\\\",\\\"#fdc1b2\\\",\\\"#fdc2b3\\\",\\\"#fdc3b5\\\",\\\"#fdc4b6\\\",\\\"#fdc6b8\\\",\\\"#fdc7ba\\\",\\\"#fdc8bb\\\",\\\"#fdcabd\\\",\\\"#fdcbbe\\\",\\\"#fdccc0\\\",\\\"#fdcdc1\\\",\\\"#fdcfc3\\\",\\\"#fdd0c5\\\",\\\"#fdd1c6\\\",\\\"#fdd2c8\\\",\\\"#fdd4c9\\\",\\\"#fdd5cb\\\",\\\"#fdd6cc\\\",\\\"#fdd7ce\\\",\\\"#fdd9d0\\\",\\\"#fddad1\\\",\\\"#fddbd3\\\",\\\"#fddcd4\\\",\\\"#fdded6\\\",\\\"#fcdfd8\\\",\\\"#fce0d9\\\",\\\"#fce1db\\\",\\\"#fce3dc\\\",\\\"#fce4de\\\",\\\"#fce5e0\\\",\\\"#fce7e1\\\",\\\"#fce8e3\\\",\\\"#fbe9e5\\\",\\\"#fbeae6\\\",\\\"#fbece8\\\",\\\"#fbede9\\\",\\\"#fbeeeb\\\",\\\"#faefed\\\",\\\"#faf1ee\\\",\\\"#faf2f0\\\",\\\"#faf3f2\\\",\\\"#f9f4f3\\\",\\\"#f9f5f5\\\",\\\"#f8f6f6\\\",\\\"#f7f6f7\\\",\\\"#f6f6f8\\\",\\\"#f5f5f9\\\",\\\"#f4f4f9\\\",\\\"#f3f3f9\\\",\\\"#f1f2f9\\\",\\\"#f0f1f9\\\",\\\"#eff0f9\\\",\\\"#eeeffa\\\",\\\"#edeefa\\\",\\\"#ecedfa\\\",\\\"#eaecfa\\\",\\\"#e9ebfa\\\",\\\"#e8eafa\\\",\\\"#e7e9fa\\\",\\\"#e6e8fa\\\",\\\"#e5e7fa\\\",\\\"#e3e6fa\\\",\\\"#e2e5fa\\\",\\\"#e1e4fa\\\",\\\"#e0e3fa\\\",\\\"#dfe2fb\\\",\\\"#dde1fb\\\",\\\"#dce0fb\\\",\\\"#dbdffb\\\",\\\"#dadefb\\\",\\\"#d9ddfb\\\",\\\"#d7dcfb\\\",\\\"#d6dbfb\\\",\\\"#d5dafb\\\",\\\"#d4d9fb\\\",\\\"#d3d8fb\\\",\\\"#d1d7fb\\\",\\\"#d0d6fb\\\",\\\"#cfd5fb\\\",\\\"#ced4fb\\\",\\\"#cdd3fc\\\",\\\"#cbd2fc\\\",\\\"#cad1fc\\\",\\\"#c9d0fc\\\",\\\"#c8cffc\\\",\\\"#c6cefc\\\",\\\"#c5cdfc\\\",\\\"#c4ccfc\\\",\\\"#c3cbfc\\\",\\\"#c1cafc\\\",\\\"#c0c9fc\\\",\\\"#bfc8fc\\\",\\\"#bdc7fc\\\",\\\"#bcc7fc\\\",\\\"#bbc6fc\\\",\\\"#bac5fc\\\",\\\"#b8c4fc\\\",\\\"#b7c3fc\\\",\\\"#b6c2fc\\\",\\\"#b4c1fd\\\",\\\"#b3c0fd\\\",\\\"#b2bffd\\\",\\\"#b0befd\\\",\\\"#afbdfd\\\",\\\"#aebcfd\\\",\\\"#acbbfd\\\",\\\"#abbafd\\\",\\\"#aab9fd\\\",\\\"#a8b8fd\\\",\\\"#a7b7fd\\\",\\\"#a5b6fd\\\",\\\"#a4b5fd\\\",\\\"#a3b4fd\\\",\\\"#a1b3fd\\\",\\\"#a0b2fd\\\",\\\"#9eb2fd\\\",\\\"#9db1fd\\\",\\\"#9bb0fd\\\",\\\"#9aaffd\\\",\\\"#99aefd\\\",\\\"#97adfd\\\",\\\"#96acfd\\\",\\\"#94abfd\\\",\\\"#93aafd\\\",\\\"#91a9fd\\\",\\\"#90a8fd\\\",\\\"#8ea7fd\\\",\\\"#8ca6fd\\\",\\\"#8ba5fe\\\",\\\"#89a4fe\\\",\\\"#88a4fe\\\",\\\"#86a3fe\\\",\\\"#84a2fe\\\",\\\"#83a1fe\\\",\\\"#81a0fe\\\",\\\"#809ffe\\\",\\\"#7e9efe\\\",\\\"#7c9dfe\\\",\\\"#7a9cfe\\\",\\\"#799bfe\\\",\\\"#779afe\\\",\\\"#759afe\\\",\\\"#7399fe\\\",\\\"#7198fe\\\",\\\"#7097fe\\\",\\\"#6e96fe\\\",\\\"#6c95fe\\\",\\\"#6a94fe\\\",\\\"#6893fe\\\",\\\"#6692fe\\\",\\\"#6491fe\\\",\\\"#6291fe\\\",\\\"#5f90fe\\\",\\\"#5d8ffe\\\",\\\"#5b8efe\\\",\\\"#598dfe\\\",\\\"#568cfe\\\",\\\"#548bfe\\\",\\\"#518afe\\\",\\\"#4f8afe\\\",\\\"#4c89fe\\\",\\\"#4988fe\\\",\\\"#4787fe\\\",\\\"#4486fe\\\",\\\"#4085fe\\\",\\\"#3d84fe\\\",\\\"#3a83fe\\\",\\\"#3683fe\\\",\\\"#3282fe\\\",\\\"#2e81fe\\\",\\\"#2980fe\\\",\\\"#247ffe\\\"]},{\\\"kind\\\":\\\"ColumnDataChanged\\\",\\\"model\\\":{\\\"id\\\":\\\"p1512\\\"},\\\"attr\\\":\\\"data\\\",\\\"data\\\":{\\\"type\\\":\\\"map\\\",\\\"entries\\\":[[\\\"Mutations\\\",[\\\"M1N_P2A_Q3N\\\",\\\"M1N_P2A_Q3N\\\",\\\"M1N_P2A_Q3N\\\",\\\"M1N_P2A_Q3N\\\",\\\"M1N_P2A_Q3N\\\",\\\"L141S\\\",\\\"V133A\\\",\\\"M1N_P2A_Q3N\\\",\\\"#PARENT#\\\",\\\"#PARENT#\\\",\\\"#PARENT#\\\",\\\"R30C_A36E_H121R_S144F\\\",\\\"M1N_P2A_Q3N\\\",\\\"#PARENT#\\\",\\\"#PARENT#\\\",\\\"G129A_Y146H_T151S\\\",\\\"F62L_R118G\\\",\\\"F155S_M169L\\\",\\\"G192S\\\",\\\"A29S_F73I_R168C\\\",\\\"M1N_P2A_Q3N\\\",\\\"E106G\\\",\\\"E49G\\\",\\\"M1N_P2A_Q3N\\\",\\\"M1N_P2A_Q3N\\\",\\\"#PARENT#\\\",\\\"F174Y\\\",\\\"#PARENT#\\\",\\\"E23G\\\",\\\"#PARENT#\\\",\\\"T8A\\\",\\\"-\\\",\\\"M1N_P2A_Q3N\\\",\\\"#PARENT#\\\",\\\"#PARENT#\\\",\\\"#PARENT#\\\",\\\"M1N_P2A_Q3N\\\",\\\"#PARENT#\\\",\\\"M1N_P2A_Q3N\\\",\\\"Y188-\\\",\\\"A13T_D193G\\\",\\\"Y72F\\\",\\\"#PARENT#\\\",\\\"E25K_Q126R\\\",\\\"K46I_K153R_W173R\\\",\\\"T127S\\\",\\\"K46R_E196G\\\",\\\"#PARENT#\\\",\\\"#PARENT#\\\",\\\"#PARENT#\\\",\\\"#PARENT#\\\",\\\"#PARENT#\\\",\\\"#PARENT#\\\",\\\"D83G\\\",\\\"#PARENT#\\\",\\\"#PARENT#\\\",\\\"#PARENT#\\\",\\\"H66L_V130A\\\",\\\"N79D\\\",\\\"E165D_T189A\\\",\\\"#PARENT#\\\",\\\"Q171R\\\",\\\"H113R_D193G\\\",\\\"E165G\\\",\\\"M1N_P2A_Q3N\\\",\\\"#PARENT#\\\",\\\"D83G_W184-\\\",\\\"D98G\\\",\\\"K104-_H135Q_Q190R\\\",\\\"#PARENT#\\\",\\\"#PARENT#\\\",\\\"#PARENT#\\\",\\\"#PARENT#\\\",\\\"E49G\\\",\\\"#PARENT#\\\",\\\"L117S_I152T\\\",\\\"E42G\\\",\\\"P147H\\\",\\\"#PARENT#\\\",\\\"E49G_Q51-_V55E_Q112L_T122S_I152T\\\",\\\"#PARENT#\\\",\\\"H71L_N125S\\\",\\\"P2L_E49G\\\",\\\"G6C_D11G\\\",\\\"M1N_P2A_Q3N\\\",\\\"L24W\\\",\\\"#PARENT#\\\",\\\"#PARENT#\\\",\\\"#PARENT#\\\",\\\"#PARENT#\\\",\\\"L183P\\\",\\\"M1N_P2A_Q3N\\\",\\\"#PARENT#\\\",\\\"K104R_Y146H_K159R\\\",\\\"M1N_P2A_Q3N\\\",\\\"D50G\\\"]],[\\\"Row\\\",[\\\"A\\\",\\\"B\\\",\\\"C\\\",\\\"D\\\",\\\"E\\\",\\\"F\\\",\\\"G\\\",\\\"H\\\",\\\"A\\\",\\\"B\\\",\\\"C\\\",\\\"D\\\",\\\"E\\\",\\\"F\\\",\\\"G\\\",\\\"H\\\",\\\"A\\\",\\\"B\\\",\\\"C\\\",\\\"D\\\",\\\"E\\\",\\\"F\\\",\\\"G\\\",\\\"H\\\",\\\"A\\\",\\\"B\\\",\\\"C\\\",\\\"D\\\",\\\"E\\\",\\\"F\\\",\\\"G\\\",\\\"H\\\",\\\"A\\\",\\\"B\\\",\\\"C\\\",\\\"D\\\",\\\"E\\\",\\\"F\\\",\\\"G\\\",\\\"H\\\",\\\"A\\\",\\\"B\\\",\\\"C\\\",\\\"D\\\",\\\"E\\\",\\\"F\\\",\\\"G\\\",\\\"H\\\",\\\"A\\\",\\\"B\\\",\\\"C\\\",\\\"D\\\",\\\"E\\\",\\\"F\\\",\\\"G\\\",\\\"H\\\",\\\"A\\\",\\\"B\\\",\\\"C\\\",\\\"D\\\",\\\"E\\\",\\\"F\\\",\\\"G\\\",\\\"H\\\",\\\"A\\\",\\\"B\\\",\\\"C\\\",\\\"D\\\",\\\"E\\\",\\\"F\\\",\\\"G\\\",\\\"H\\\",\\\"A\\\",\\\"B\\\",\\\"C\\\",\\\"D\\\",\\\"E\\\",\\\"F\\\",\\\"G\\\",\\\"H\\\",\\\"A\\\",\\\"B\\\",\\\"C\\\",\\\"D\\\",\\\"E\\\",\\\"F\\\",\\\"G\\\",\\\"H\\\",\\\"A\\\",\\\"B\\\",\\\"C\\\",\\\"D\\\",\\\"E\\\",\\\"F\\\",\\\"G\\\",\\\"H\\\"]],[\\\"Column\\\",[\\\"1\\\",\\\"1\\\",\\\"1\\\",\\\"1\\\",\\\"1\\\",\\\"1\\\",\\\"1\\\",\\\"1\\\",\\\"10\\\",\\\"10\\\",\\\"10\\\",\\\"10\\\",\\\"10\\\",\\\"10\\\",\\\"10\\\",\\\"10\\\",\\\"11\\\",\\\"11\\\",\\\"11\\\",\\\"11\\\",\\\"11\\\",\\\"11\\\",\\\"11\\\",\\\"11\\\",\\\"12\\\",\\\"12\\\",\\\"12\\\",\\\"12\\\",\\\"12\\\",\\\"12\\\",\\\"12\\\",\\\"12\\\",\\\"2\\\",\\\"2\\\",\\\"2\\\",\\\"2\\\",\\\"2\\\",\\\"2\\\",\\\"2\\\",\\\"2\\\",\\\"3\\\",\\\"3\\\",\\\"3\\\",\\\"3\\\",\\\"3\\\",\\\"3\\\",\\\"3\\\",\\\"3\\\",\\\"4\\\",\\\"4\\\",\\\"4\\\",\\\"4\\\",\\\"4\\\",\\\"4\\\",\\\"4\\\",\\\"4\\\",\\\"5\\\",\\\"5\\\",\\\"5\\\",\\\"5\\\",\\\"5\\\",\\\"5\\\",\\\"5\\\",\\\"5\\\",\\\"6\\\",\\\"6\\\",\\\"6\\\",\\\"6\\\",\\\"6\\\",\\\"6\\\",\\\"6\\\",\\\"6\\\",\\\"7\\\",\\\"7\\\",\\\"7\\\",\\\"7\\\",\\\"7\\\",\\\"7\\\",\\\"7\\\",\\\"7\\\",\\\"8\\\",\\\"8\\\",\\\"8\\\",\\\"8\\\",\\\"8\\\",\\\"8\\\",\\\"8\\\",\\\"8\\\",\\\"9\\\",\\\"9\\\",\\\"9\\\",\\\"9\\\",\\\"9\\\",\\\"9\\\",\\\"9\\\",\\\"9\\\"]],[\\\"Alignment_Probability\\\",[\\\"0\\\",\\\"0\\\",\\\"0\\\",\\\"0\\\",\\\"0\\\",\\\"0.4823\\\",\\\"0.55035\\\",\\\"0\\\",\\\"0.81368\\\",\\\"0.78957\\\",\\\"0.78963\\\",\\\"0.46651\\\",\\\"0\\\",\\\"0.81379\\\",\\\"0.73157\\\",\\\"0.18562\\\",\\\"0.11193\\\",\\\"0.40497\\\",\\\"0.44772\\\",\\\"0.4901\\\",\\\"0\\\",\\\"0.22481\\\",\\\"0.91277\\\",\\\"0\\\",\\\"0\\\",\\\"0.60393\\\",\\\"0.92219\\\",\\\"0.26855\\\",\\\"0.64381\\\",\\\"0.12351\\\",\\\"0.87399\\\",\\\"-\\\",\\\"0\\\",\\\"0.73187\\\",\\\"0.52391\\\",\\\"0.54198\\\",\\\"0\\\",\\\"0.19991\\\",\\\"0\\\",\\\"0.67991\\\",\\\"0.3111\\\",\\\"0.18176\\\",\\\"0.050879\\\",\\\"0.018771\\\",\\\"0.16037\\\",\\\"0.28779\\\",\\\"0.75518\\\",\\\"0.75176\\\",\\\"0.72904\\\",\\\"0.025546\\\",\\\"0.095297\\\",\\\"0.47656\\\",\\\"0.57456\\\",\\\"0.97613\\\",\\\"0.35425\\\",\\\"0.72297\\\",\\\"0.70003\\\",\\\"0.82874\\\",\\\"0.094445\\\",\\\"0.76391\\\",\\\"0.56447\\\",\\\"0.66601\\\",\\\"0.71597\\\",\\\"0.57831\\\",\\\"0\\\",\\\"0.20628\\\",\\\"0.6401\\\",\\\"0.90226\\\",\\\"0.66011\\\",\\\"0.68014\\\",\\\"0.77009\\\",\\\"0.7141\\\",\\\"0.48449\\\",\\\"0.68882\\\",\\\"0.75186\\\",\\\"0.90972\\\",\\\"0.11721\\\",\\\"0.61476\\\",\\\"0.79197\\\",\\\"0.58075\\\",\\\"0.068594\\\",\\\"0.15396\\\",\\\"0.60216\\\",\\\"0.37714\\\",\\\"0\\\",\\\"0.12426\\\",\\\"0.91336\\\",\\\"0.59974\\\",\\\"0.69464\\\",\\\"0.27732\\\",\\\"0.10705\\\",\\\"0\\\",\\\"0.42421\\\",\\\"0.62148\\\",\\\"0\\\",\\\"0.68235\\\"]],[\\\"Alignment_Count\\\",[\\\"0\\\",\\\"0\\\",\\\"0\\\",\\\"0\\\",\\\"0\\\",\\\"67\\\",\\\"21\\\",\\\"0\\\",\\\"29\\\",\\\"38\\\",\\\"33\\\",\\\"63\\\",\\\"9\\\",\\\"32\\\",\\\"31\\\",\\\"37\\\",\\\"34\\\",\\\"41\\\",\\\"35\\\",\\\"18\\\",\\\"17\\\",\\\"22\\\",\\\"77\\\",\\\"24\\\",\\\"9\\\",\\\"36\\\",\\\"41\\\",\\\"35\\\",\\\"36\\\",\\\"14\\\",\\\"65\\\",\\\"-\\\",\\\"9\\\",\\\"31\\\",\\\"21\\\",\\\"33\\\",\\\"4\\\",\\\"38\\\",\\\"9\\\",\\\"63\\\",\\\"50\\\",\\\"19\\\",\\\"12\\\",\\\"5\\\",\\\"10\\\",\\\"18\\\",\\\"46\\\",\\\"49\\\",\\\"29\\\",\\\"5\\\",\\\"17\\\",\\\"22\\\",\\\"27\\\",\\\"37\\\",\\\"39\\\",\\\"21\\\",\\\"57\\\",\\\"33\\\",\\\"13\\\",\\\"37\\\",\\\"12\\\",\\\"24\\\",\\\"53\\\",\\\"30\\\",\\\"14\\\",\\\"29\\\",\\\"42\\\",\\\"42\\\",\\\"28\\\",\\\"26\\\",\\\"35\\\",\\\"40\\\",\\\"21\\\",\\\"16\\\",\\\"15\\\",\\\"30\\\",\\\"17\\\",\\\"34\\\",\\\"24\\\",\\\"39\\\",\\\"22\\\",\\\"14\\\",\\\"31\\\",\\\"66\\\",\\\"8\\\",\\\"29\\\",\\\"44\\\",\\\"18\\\",\\\"21\\\",\\\"34\\\",\\\"18\\\",\\\"4\\\",\\\"15\\\",\\\"41\\\",\\\"0\\\",\\\"91\\\"]],[\\\"zvalues\\\",{\\\"type\\\":\\\"ndarray\\\",\\\"array\\\":{\\\"type\\\":\\\"bytes\\\",\\\"data\\\":\\\"AAAAAAAAAAAAAAAAAAAAAAAAAAAAAAAAAAAAAAAAAAAAAAAAAAAAAC0RKPGa0RBAsa5vlC5bCEAAAAAAAAAAAB/+zcs48ApAqEHDxcYZDUDRuNX02PgLQBsY4+iRkhBACwOteuqTAUBryLi+07kLQForkUjOeAtAvcc67ijjDED2DbmB/DUMQE6sjkVltQ1AxfMPU1pxDECGkWs6ex8HQHp/+sFrqgZAyMU9d3S6CEA8MkyHDmARQPksknynbAlACwOteuqTAUACICr6C6sMQE6sjkVltQ1AxfMPU1pxDEACICr6C6sMQKe71xbKHAVAdSmUk5KyEEAAAAAAAAD4fwsDrXrqkwFAWiuRSM54C0Cxrm+ULlsIQNG41fTY+AtA7zn6/kIu9j+oQcPFxhkNQAsDrXrqkwFAGxjj6JGSEECvG6y30ksPQCyzBAY2jgdAfZ7TvBbhA0Azje33QcD5PxZVtbuxawJAhpFrOnsfB0BsQpC9DqEOQFdaMq5yIg9AH/7NyzjwCkAzje33QcD5P3p/+sFrqgZAyMU9d3S6CECQhAO4310KQL3HOu4o4wxA1g2IaPlODUCxrm+ULlsIQFmaraEVLBBA0bjV9Nj4C0BRjDErBIUEQL3HOu4o4wxAfZ7TvBbhA0D5LJJ8p2wJQKs8Imgoww9Am9YL+aY1C0Cnu9cWyhwFQB/+zcs48ApALT0uVL/mDUAtPS5Uv+YNQCNKltZaqApAzRrw6pQQCkDF8w9TWnEMQA1yMjvTgg1Asa5vlC5bCEDvOfr+Qi4GQB9ITTkWqgVAm9YL+aY1C0B6f/rBa6oGQPYNuYH8NQxA+SySfKdsCUDWDYho+U4NQMjFPXd0ughAp7vXFsocBUBaK5FIzngLQKYjSto0whBAc6s7P7KiAEAf/s3LOPAKQENU/DYFRg5AhpFrOnsfB0Cxrm+ULlsIQPYNuYH8NQxAhpFrOnsfB0DvOfr+Qi72Px9ITTkWqgVATqyORWW1DUAAAAAAAAAAAL5cJcEeCxJA\\\"},\\\"shape\\\":[96],\\\"dtype\\\":\\\"float64\\\",\\\"order\\\":\\\"little\\\"}],[\\\"logseqdepth\\\",[\\\"0\\\",\\\"0\\\",\\\"0\\\",\\\"0\\\",\\\"0\\\",\\\"4.2047\\\",\\\"3.0445\\\",\\\"0\\\",\\\"3.3673\\\",\\\"3.6376\\\",\\\"3.4965\\\",\\\"4.1431\\\",\\\"2.1972\\\",\\\"3.4657\\\",\\\"3.434\\\",\\\"3.6109\\\",\\\"3.5264\\\",\\\"3.7136\\\",\\\"3.5553\\\",\\\"2.8904\\\",\\\"2.8332\\\",\\\"3.091\\\",\\\"4.3438\\\",\\\"3.1781\\\",\\\"2.1972\\\",\\\"3.5835\\\",\\\"3.7136\\\",\\\"3.5553\\\",\\\"3.5835\\\",\\\"2.6391\\\",\\\"4.1744\\\",\\\"-\\\",\\\"2.1972\\\",\\\"3.434\\\",\\\"3.0445\\\",\\\"3.4965\\\",\\\"1.3863\\\",\\\"3.6376\\\",\\\"2.1972\\\",\\\"4.1431\\\",\\\"3.912\\\",\\\"2.9444\\\",\\\"2.4849\\\",\\\"1.6094\\\",\\\"2.3026\\\",\\\"2.8904\\\",\\\"3.8286\\\",\\\"3.8918\\\",\\\"3.3673\\\",\\\"1.6094\\\",\\\"2.8332\\\",\\\"3.091\\\",\\\"3.2958\\\",\\\"3.6109\\\",\\\"3.6636\\\",\\\"3.0445\\\",\\\"4.0431\\\",\\\"3.4965\\\",\\\"2.5649\\\",\\\"3.6109\\\",\\\"2.4849\\\",\\\"3.1781\\\",\\\"3.9703\\\",\\\"3.4012\\\",\\\"2.6391\\\",\\\"3.3673\\\",\\\"3.7377\\\",\\\"3.7377\\\",\\\"3.3322\\\",\\\"3.2581\\\",\\\"3.5553\\\",\\\"3.6889\\\",\\\"3.0445\\\",\\\"2.7726\\\",\\\"2.7081\\\",\\\"3.4012\\\",\\\"2.8332\\\",\\\"3.5264\\\",\\\"3.1781\\\",\\\"3.6636\\\",\\\"3.091\\\",\\\"2.6391\\\",\\\"3.434\\\",\\\"4.1897\\\",\\\"2.0794\\\",\\\"3.3673\\\",\\\"3.7842\\\",\\\"2.8904\\\",\\\"3.0445\\\",\\\"3.5264\\\",\\\"2.8904\\\",\\\"1.3863\\\",\\\"2.7081\\\",\\\"3.7136\\\",\\\"0\\\",\\\"4.5109\\\"]]]},\\\"cols\\\":[\\\"Mutations\\\",\\\"Row\\\",\\\"Column\\\",\\\"Alignment_Probability\\\",\\\"Alignment_Count\\\",\\\"zvalues\\\",\\\"logseqdepth\\\"]},{\\\"kind\\\":\\\"ColumnDataChanged\\\",\\\"model\\\":{\\\"id\\\":\\\"p1512\\\"},\\\"attr\\\":\\\"data\\\",\\\"data\\\":{\\\"type\\\":\\\"map\\\",\\\"entries\\\":[[\\\"Column\\\",[\\\"1\\\",\\\"1\\\",\\\"1\\\",\\\"1\\\",\\\"1\\\",\\\"1\\\",\\\"1\\\",\\\"1\\\",\\\"10\\\",\\\"10\\\",\\\"10\\\",\\\"10\\\",\\\"10\\\",\\\"10\\\",\\\"10\\\",\\\"10\\\",\\\"11\\\",\\\"11\\\",\\\"11\\\",\\\"11\\\",\\\"11\\\",\\\"11\\\",\\\"11\\\",\\\"11\\\",\\\"12\\\",\\\"12\\\",\\\"12\\\",\\\"12\\\",\\\"12\\\",\\\"12\\\",\\\"12\\\",\\\"12\\\",\\\"2\\\",\\\"2\\\",\\\"2\\\",\\\"2\\\",\\\"2\\\",\\\"2\\\",\\\"2\\\",\\\"2\\\",\\\"3\\\",\\\"3\\\",\\\"3\\\",\\\"3\\\",\\\"3\\\",\\\"3\\\",\\\"3\\\",\\\"3\\\",\\\"4\\\",\\\"4\\\",\\\"4\\\",\\\"4\\\",\\\"4\\\",\\\"4\\\",\\\"4\\\",\\\"4\\\",\\\"5\\\",\\\"5\\\",\\\"5\\\",\\\"5\\\",\\\"5\\\",\\\"5\\\",\\\"5\\\",\\\"5\\\",\\\"6\\\",\\\"6\\\",\\\"6\\\",\\\"6\\\",\\\"6\\\",\\\"6\\\",\\\"6\\\",\\\"6\\\",\\\"7\\\",\\\"7\\\",\\\"7\\\",\\\"7\\\",\\\"7\\\",\\\"7\\\",\\\"7\\\",\\\"7\\\",\\\"8\\\",\\\"8\\\",\\\"8\\\",\\\"8\\\",\\\"8\\\",\\\"8\\\",\\\"8\\\",\\\"8\\\",\\\"9\\\",\\\"9\\\",\\\"9\\\",\\\"9\\\",\\\"9\\\",\\\"9\\\",\\\"9\\\",\\\"9\\\"]]]},\\\"cols\\\":[\\\"Column\\\"]},{\\\"kind\\\":\\\"ColumnDataChanged\\\",\\\"model\\\":{\\\"id\\\":\\\"p1512\\\"},\\\"attr\\\":\\\"data\\\",\\\"data\\\":{\\\"type\\\":\\\"map\\\",\\\"entries\\\":[[\\\"Row\\\",[\\\"A\\\",\\\"B\\\",\\\"C\\\",\\\"D\\\",\\\"E\\\",\\\"F\\\",\\\"G\\\",\\\"H\\\",\\\"A\\\",\\\"B\\\",\\\"C\\\",\\\"D\\\",\\\"E\\\",\\\"F\\\",\\\"G\\\",\\\"H\\\",\\\"A\\\",\\\"B\\\",\\\"C\\\",\\\"D\\\",\\\"E\\\",\\\"F\\\",\\\"G\\\",\\\"H\\\",\\\"A\\\",\\\"B\\\",\\\"C\\\",\\\"D\\\",\\\"E\\\",\\\"F\\\",\\\"G\\\",\\\"H\\\",\\\"A\\\",\\\"B\\\",\\\"C\\\",\\\"D\\\",\\\"E\\\",\\\"F\\\",\\\"G\\\",\\\"H\\\",\\\"A\\\",\\\"B\\\",\\\"C\\\",\\\"D\\\",\\\"E\\\",\\\"F\\\",\\\"G\\\",\\\"H\\\",\\\"A\\\",\\\"B\\\",\\\"C\\\",\\\"D\\\",\\\"E\\\",\\\"F\\\",\\\"G\\\",\\\"H\\\",\\\"A\\\",\\\"B\\\",\\\"C\\\",\\\"D\\\",\\\"E\\\",\\\"F\\\",\\\"G\\\",\\\"H\\\",\\\"A\\\",\\\"B\\\",\\\"C\\\",\\\"D\\\",\\\"E\\\",\\\"F\\\",\\\"G\\\",\\\"H\\\",\\\"A\\\",\\\"B\\\",\\\"C\\\",\\\"D\\\",\\\"E\\\",\\\"F\\\",\\\"G\\\",\\\"H\\\",\\\"A\\\",\\\"B\\\",\\\"C\\\",\\\"D\\\",\\\"E\\\",\\\"F\\\",\\\"G\\\",\\\"H\\\",\\\"A\\\",\\\"B\\\",\\\"C\\\",\\\"D\\\",\\\"E\\\",\\\"F\\\",\\\"G\\\",\\\"H\\\"]]]},\\\"cols\\\":[\\\"Row\\\"]},{\\\"kind\\\":\\\"ColumnDataChanged\\\",\\\"model\\\":{\\\"id\\\":\\\"p1529\\\"},\\\"attr\\\":\\\"data\\\",\\\"data\\\":{\\\"type\\\":\\\"map\\\",\\\"entries\\\":[[\\\"line_color\\\",[\\\"0.95+\\\",\\\"0.90-0.95\\\",\\\"0.90-0.95\\\",\\\"0.90-0.95\\\",\\\"0.90-0.95\\\",\\\"0.90-0.95\\\",\\\"0.80-0.90\\\",\\\"0.80-0.90\\\",\\\"0.80-0.90\\\",\\\"0.80-0.90\\\",\\\"<0.80\\\",\\\"<0.80\\\",\\\"<0.80\\\",\\\"<0.80\\\",\\\"<0.80\\\",\\\"<0.80\\\",\\\"<0.80\\\",\\\"<0.80\\\",\\\"<0.80\\\",\\\"<0.80\\\",\\\"<0.80\\\",\\\"<0.80\\\",\\\"<0.80\\\",\\\"<0.80\\\",\\\"<0.80\\\",\\\"<0.80\\\",\\\"<0.80\\\",\\\"<0.80\\\",\\\"<0.80\\\",\\\"<0.80\\\",\\\"<0.80\\\",\\\"<0.80\\\",\\\"<0.80\\\",\\\"<0.80\\\",\\\"<0.80\\\",\\\"<0.80\\\",\\\"<0.80\\\",\\\"<0.80\\\",\\\"<0.80\\\",\\\"<0.80\\\",\\\"<0.80\\\",\\\"<0.80\\\",\\\"<0.80\\\",\\\"<0.80\\\",\\\"<0.80\\\",\\\"<0.80\\\",\\\"<0.80\\\",\\\"<0.80\\\",\\\"<0.80\\\",\\\"<0.80\\\",\\\"<0.80\\\",\\\"<0.80\\\",\\\"<0.80\\\",\\\"<0.80\\\",\\\"<0.80\\\",\\\"<0.80\\\",\\\"<0.80\\\",\\\"<0.80\\\",\\\"<0.80\\\",\\\"<0.80\\\",\\\"<0.80\\\",\\\"<0.80\\\",\\\"<0.80\\\",\\\"<0.80\\\",\\\"<0.80\\\",\\\"<0.80\\\",\\\"<0.80\\\",\\\"<0.80\\\",\\\"<0.80\\\",\\\"<0.80\\\",\\\"<0.80\\\",\\\"<0.80\\\",\\\"<0.80\\\",\\\"<0.80\\\",\\\"<0.80\\\",\\\"<0.80\\\",\\\"<0.80\\\",\\\"<0.80\\\",\\\"<0.80\\\",\\\"<0.80\\\",\\\"<0.80\\\",\\\"<0.80\\\",\\\"<0.80\\\",\\\"<0.80\\\",\\\"<0.80\\\",\\\"<0.80\\\",\\\"<0.80\\\",\\\"<0.80\\\",\\\"<0.80\\\",\\\"<0.80\\\",\\\"<0.80\\\",\\\"<0.80\\\",\\\"<0.80\\\",\\\"<0.80\\\",\\\"<0.80\\\",\\\"<0.80\\\"]],[\\\"Column\\\",[\\\"4\\\",\\\"12\\\",\\\"8\\\",\\\"11\\\",\\\"7\\\",\\\"6\\\",\\\"12\\\",\\\"5\\\",\\\"10\\\",\\\"10\\\",\\\"7\\\",\\\"10\\\",\\\"10\\\",\\\"6\\\",\\\"5\\\",\\\"3\\\",\\\"7\\\",\\\"3\\\",\\\"2\\\",\\\"10\\\",\\\"4\\\",\\\"4\\\",\\\"5\\\",\\\"6\\\",\\\"5\\\",\\\"9\\\",\\\"7\\\",\\\"9\\\",\\\"6\\\",\\\"2\\\",\\\"5\\\",\\\"6\\\",\\\"11\\\",\\\"12\\\",\\\"6\\\",\\\"9\\\",\\\"7\\\",\\\"12\\\",\\\"8\\\",\\\"8\\\",\\\"7\\\",\\\"5\\\",\\\"4\\\",\\\"5\\\",\\\"1\\\",\\\"2\\\",\\\"2\\\",\\\"11\\\",\\\"7\\\",\\\"1\\\",\\\"4\\\",\\\"10\\\",\\\"11\\\",\\\"9\\\",\\\"11\\\",\\\"8\\\",\\\"4\\\",\\\"3\\\",\\\"3\\\",\\\"9\\\",\\\"12\\\",\\\"11\\\",\\\"6\\\",\\\"2\\\",\\\"10\\\",\\\"3\\\",\\\"3\\\",\\\"8\\\",\\\"8\\\",\\\"12\\\",\\\"7\\\",\\\"11\\\",\\\"9\\\",\\\"4\\\",\\\"5\\\",\\\"8\\\",\\\"3\\\",\\\"4\\\",\\\"3\\\",\\\"10\\\",\\\"2\\\",\\\"9\\\",\\\"2\\\",\\\"12\\\",\\\"9\\\",\\\"2\\\",\\\"1\\\",\\\"8\\\",\\\"1\\\",\\\"1\\\",\\\"11\\\",\\\"1\\\",\\\"1\\\",\\\"11\\\",\\\"6\\\",\\\"1\\\"]],[\\\"Row\\\",[\\\"F\\\",\\\"C\\\",\\\"G\\\",\\\"G\\\",\\\"D\\\",\\\"D\\\",\\\"G\\\",\\\"B\\\",\\\"F\\\",\\\"A\\\",\\\"G\\\",\\\"C\\\",\\\"B\\\",\\\"G\\\",\\\"D\\\",\\\"G\\\",\\\"C\\\",\\\"H\\\",\\\"B\\\",\\\"G\\\",\\\"A\\\",\\\"H\\\",\\\"G\\\",\\\"H\\\",\\\"A\\\",\\\"A\\\",\\\"B\\\",\\\"H\\\",\\\"F\\\",\\\"H\\\",\\\"F\\\",\\\"E\\\",\\\"H\\\",\\\"E\\\",\\\"C\\\",\\\"F\\\",\\\"F\\\",\\\"B\\\",\\\"C\\\",\\\"H\\\",\\\"H\\\",\\\"H\\\",\\\"E\\\",\\\"E\\\",\\\"G\\\",\\\"D\\\",\\\"C\\\",\\\"D\\\",\\\"A\\\",\\\"F\\\",\\\"D\\\",\\\"D\\\",\\\"C\\\",\\\"E\\\",\\\"B\\\",\\\"D\\\",\\\"G\\\",\\\"A\\\",\\\"F\\\",\\\"B\\\",\\\"D\\\",\\\"F\\\",\\\"B\\\",\\\"F\\\",\\\"H\\\",\\\"B\\\",\\\"E\\\",\\\"B\\\",\\\"F\\\",\\\"F\\\",\\\"E\\\",\\\"A\\\",\\\"C\\\",\\\"C\\\",\\\"C\\\",\\\"A\\\",\\\"C\\\",\\\"B\\\",\\\"D\\\",\\\"E\\\",\\\"G\\\",\\\"G\\\",\\\"A\\\",\\\"A\\\",\\\"D\\\",\\\"E\\\",\\\"C\\\",\\\"E\\\",\\\"D\\\",\\\"H\\\",\\\"H\\\",\\\"B\\\",\\\"E\\\",\\\"E\\\",\\\"A\\\",\\\"A\\\"]]]},\\\"cols\\\":[\\\"line_color\\\",\\\"Column\\\",\\\"Row\\\"]},{\\\"kind\\\":\\\"ColumnDataChanged\\\",\\\"model\\\":{\\\"id\\\":\\\"p1529\\\"},\\\"attr\\\":\\\"data\\\",\\\"data\\\":{\\\"type\\\":\\\"map\\\",\\\"entries\\\":[[\\\"line_color\\\",[\\\"0.95+\\\",\\\"0.90-0.95\\\",\\\"0.90-0.95\\\",\\\"0.90-0.95\\\",\\\"0.90-0.95\\\",\\\"0.90-0.95\\\",\\\"0.80-0.90\\\",\\\"0.80-0.90\\\",\\\"0.80-0.90\\\",\\\"0.80-0.90\\\",\\\"<0.80\\\",\\\"<0.80\\\",\\\"<0.80\\\",\\\"<0.80\\\",\\\"<0.80\\\",\\\"<0.80\\\",\\\"<0.80\\\",\\\"<0.80\\\",\\\"<0.80\\\",\\\"<0.80\\\",\\\"<0.80\\\",\\\"<0.80\\\",\\\"<0.80\\\",\\\"<0.80\\\",\\\"<0.80\\\",\\\"<0.80\\\",\\\"<0.80\\\",\\\"<0.80\\\",\\\"<0.80\\\",\\\"<0.80\\\",\\\"<0.80\\\",\\\"<0.80\\\",\\\"<0.80\\\",\\\"<0.80\\\",\\\"<0.80\\\",\\\"<0.80\\\",\\\"<0.80\\\",\\\"<0.80\\\",\\\"<0.80\\\",\\\"<0.80\\\",\\\"<0.80\\\",\\\"<0.80\\\",\\\"<0.80\\\",\\\"<0.80\\\",\\\"<0.80\\\",\\\"<0.80\\\",\\\"<0.80\\\",\\\"<0.80\\\",\\\"<0.80\\\",\\\"<0.80\\\",\\\"<0.80\\\",\\\"<0.80\\\",\\\"<0.80\\\",\\\"<0.80\\\",\\\"<0.80\\\",\\\"<0.80\\\",\\\"<0.80\\\",\\\"<0.80\\\",\\\"<0.80\\\",\\\"<0.80\\\",\\\"<0.80\\\",\\\"<0.80\\\",\\\"<0.80\\\",\\\"<0.80\\\",\\\"<0.80\\\",\\\"<0.80\\\",\\\"<0.80\\\",\\\"<0.80\\\",\\\"<0.80\\\",\\\"<0.80\\\",\\\"<0.80\\\",\\\"<0.80\\\",\\\"<0.80\\\",\\\"<0.80\\\",\\\"<0.80\\\",\\\"<0.80\\\",\\\"<0.80\\\",\\\"<0.80\\\",\\\"<0.80\\\",\\\"<0.80\\\",\\\"<0.80\\\",\\\"<0.80\\\",\\\"<0.80\\\",\\\"<0.80\\\",\\\"<0.80\\\",\\\"<0.80\\\",\\\"<0.80\\\",\\\"<0.80\\\",\\\"<0.80\\\",\\\"<0.80\\\",\\\"<0.80\\\",\\\"<0.80\\\",\\\"<0.80\\\",\\\"<0.80\\\",\\\"<0.80\\\",\\\"<0.80\\\"]]]},\\\"cols\\\":[\\\"line_color\\\"]},{\\\"kind\\\":\\\"ColumnDataChanged\\\",\\\"model\\\":{\\\"id\\\":\\\"p1544\\\"},\\\"attr\\\":\\\"data\\\",\\\"data\\\":{\\\"type\\\":\\\"map\\\",\\\"entries\\\":[[\\\"Column\\\",[\\\"1\\\",\\\"1\\\",\\\"1\\\",\\\"1\\\",\\\"1\\\",\\\"1\\\",\\\"1\\\",\\\"1\\\",\\\"10\\\",\\\"10\\\",\\\"10\\\",\\\"10\\\",\\\"10\\\",\\\"10\\\",\\\"10\\\",\\\"10\\\",\\\"11\\\",\\\"11\\\",\\\"11\\\",\\\"11\\\",\\\"11\\\",\\\"11\\\",\\\"11\\\",\\\"11\\\",\\\"11\\\",\\\"12\\\",\\\"12\\\",\\\"12\\\",\\\"12\\\",\\\"12\\\",\\\"12\\\",\\\"12\\\",\\\"2\\\",\\\"2\\\",\\\"2\\\",\\\"2\\\",\\\"2\\\",\\\"2\\\",\\\"2\\\",\\\"2\\\",\\\"3\\\",\\\"3\\\",\\\"3\\\",\\\"3\\\",\\\"3\\\",\\\"3\\\",\\\"3\\\",\\\"3\\\",\\\"4\\\",\\\"4\\\",\\\"4\\\",\\\"4\\\",\\\"4\\\",\\\"4\\\",\\\"4\\\",\\\"4\\\",\\\"5\\\",\\\"5\\\",\\\"5\\\",\\\"5\\\",\\\"5\\\",\\\"5\\\",\\\"5\\\",\\\"5\\\",\\\"6\\\",\\\"6\\\",\\\"6\\\",\\\"6\\\",\\\"6\\\",\\\"6\\\",\\\"6\\\",\\\"6\\\",\\\"7\\\",\\\"7\\\",\\\"7\\\",\\\"7\\\",\\\"7\\\",\\\"7\\\",\\\"7\\\",\\\"7\\\",\\\"8\\\",\\\"8\\\",\\\"8\\\",\\\"8\\\",\\\"8\\\",\\\"8\\\",\\\"8\\\",\\\"8\\\",\\\"9\\\",\\\"9\\\",\\\"9\\\",\\\"9\\\",\\\"9\\\",\\\"9\\\",\\\"9\\\",\\\"9\\\"]],[\\\"Row\\\",[\\\"A\\\",\\\"B\\\",\\\"C\\\",\\\"D\\\",\\\"E\\\",\\\"F\\\",\\\"G\\\",\\\"H\\\",\\\"A\\\",\\\"B\\\",\\\"C\\\",\\\"D\\\",\\\"E\\\",\\\"F\\\",\\\"G\\\",\\\"H\\\",\\\"A\\\",\\\"B\\\",\\\"C\\\",\\\"D\\\",\\\"E\\\",\\\"F\\\",\\\"G\\\",\\\"H\\\",\\\"H\\\",\\\"A\\\",\\\"B\\\",\\\"C\\\",\\\"D\\\",\\\"E\\\",\\\"F\\\",\\\"G\\\",\\\"A\\\",\\\"B\\\",\\\"C\\\",\\\"D\\\",\\\"E\\\",\\\"F\\\",\\\"G\\\",\\\"H\\\",\\\"A\\\",\\\"B\\\",\\\"C\\\",\\\"D\\\",\\\"E\\\",\\\"F\\\",\\\"G\\\",\\\"H\\\",\\\"A\\\",\\\"B\\\",\\\"C\\\",\\\"D\\\",\\\"E\\\",\\\"F\\\",\\\"G\\\",\\\"H\\\",\\\"A\\\",\\\"B\\\",\\\"C\\\",\\\"D\\\",\\\"E\\\",\\\"F\\\",\\\"G\\\",\\\"H\\\",\\\"A\\\",\\\"B\\\",\\\"C\\\",\\\"D\\\",\\\"E\\\",\\\"F\\\",\\\"G\\\",\\\"H\\\",\\\"A\\\",\\\"B\\\",\\\"C\\\",\\\"D\\\",\\\"E\\\",\\\"F\\\",\\\"G\\\",\\\"H\\\",\\\"A\\\",\\\"B\\\",\\\"C\\\",\\\"D\\\",\\\"E\\\",\\\"F\\\",\\\"G\\\",\\\"H\\\",\\\"A\\\",\\\"B\\\",\\\"C\\\",\\\"D\\\",\\\"E\\\",\\\"F\\\",\\\"G\\\",\\\"H\\\"]],[\\\"Labels\\\",[\\\"M1N\\\\nP2A\\\\nQ3N\\\",\\\"M1N\\\\nP2A\\\\nQ3N\\\",\\\"M1N\\\\nP2A\\\\nQ3N\\\",\\\"M1N\\\\nP2A\\\\nQ3N\\\",\\\"M1N\\\\nP2A\\\\nQ3N\\\",\\\"L141S\\\",\\\"V133A\\\",\\\"M1N\\\\nP2A\\\\nQ3N\\\",\\\"#PARENT#\\\",\\\"#PARENT#\\\",\\\"#PARENT#\\\",\\\"R30C\\\\nA36E\\\\nH121R\\\\nS144F\\\",\\\"M1N\\\\nP2A\\\\nQ3N\\\",\\\"#PARENT#\\\",\\\"#PARENT#\\\",\\\"G129A\\\\nY146H\\\\nT151S\\\",\\\"F62L\\\\nR118G\\\",\\\"F155S\\\\nM169L\\\",\\\"G192S\\\",\\\"A29S\\\\nF73I\\\\nR168C\\\",\\\"M1N\\\\nP2A\\\\nQ3N\\\",\\\"E106G\\\",\\\"E49G\\\",\\\"M1N\\\\nP2A\\\\nQ3N\\\",\\\"#PARENT#\\\",\\\"M1N\\\\nP2A\\\\nQ3N\\\",\\\"#PARENT#\\\",\\\"F174Y\\\",\\\"#PARENT#\\\",\\\"E23G\\\",\\\"#PARENT#\\\",\\\"T8A\\\",\\\"M1N\\\\nP2A\\\\nQ3N\\\",\\\"#PARENT#\\\",\\\"#PARENT#\\\",\\\"#PARENT#\\\",\\\"M1N\\\\nP2A\\\\nQ3N\\\",\\\"#PARENT#\\\",\\\"M1N\\\\nP2A\\\\nQ3N\\\",\\\"Y188-\\\",\\\"A13T\\\\nD193G\\\",\\\"Y72F\\\",\\\"#PARENT#\\\",\\\"E25K\\\\nQ126R\\\",\\\"K46I\\\\nK153R\\\\nW173R\\\",\\\"T127S\\\",\\\"K46R\\\\nE196G\\\",\\\"#PARENT#\\\",\\\"#PARENT#\\\",\\\"#PARENT#\\\",\\\"#PARENT#\\\",\\\"#PARENT#\\\",\\\"#PARENT#\\\",\\\"D83G\\\",\\\"#PARENT#\\\",\\\"#PARENT#\\\",\\\"#PARENT#\\\",\\\"H66L\\\\nV130A\\\",\\\"N79D\\\",\\\"E165D\\\\nT189A\\\",\\\"#PARENT#\\\",\\\"Q171R\\\",\\\"H113R\\\\nD193G\\\",\\\"E165G\\\",\\\"M1N\\\\nP2A\\\\nQ3N\\\",\\\"#PARENT#\\\",\\\"D83G\\\\nW184-\\\",\\\"D98G\\\",\\\"K104-\\\\nH135Q\\\\nQ190R\\\",\\\"#PARENT#\\\",\\\"#PARENT#\\\",\\\"#PARENT#\\\",\\\"#PARENT#\\\",\\\"E49G\\\",\\\"#PARENT#\\\",\\\"L117S\\\\nI152T\\\",\\\"E42G\\\",\\\"P147H\\\",\\\"#PARENT#\\\",\\\"6 muts\\\",\\\"#PARENT#\\\",\\\"H71L\\\\nN125S\\\",\\\"P2L\\\\nE49G\\\",\\\"G6C\\\\nD11G\\\",\\\"M1N\\\\nP2A\\\\nQ3N\\\",\\\"L24W\\\",\\\"#PARENT#\\\",\\\"#PARENT#\\\",\\\"#PARENT#\\\",\\\"#PARENT#\\\",\\\"L183P\\\",\\\"M1N\\\\nP2A\\\\nQ3N\\\",\\\"#PARENT#\\\",\\\"K104R\\\\nY146H\\\\nK159R\\\",\\\"M1N\\\\nP2A\\\\nQ3N\\\",\\\"D50G\\\"]]]},\\\"cols\\\":[\\\"Column\\\",\\\"Row\\\",\\\"Labels\\\"]},{\\\"kind\\\":\\\"ModelChanged\\\",\\\"model\\\":{\\\"id\\\":\\\"p1487\\\"},\\\"attr\\\":\\\"text\\\",\\\"new\\\":\\\"12\\\"},{\\\"kind\\\":\\\"ModelChanged\\\",\\\"model\\\":{\\\"id\\\":\\\"p1484\\\"},\\\"attr\\\":\\\"above\\\",\\\"new\\\":[{\\\"type\\\":\\\"object\\\",\\\"name\\\":\\\"Legend\\\",\\\"id\\\":\\\"p1541\\\",\\\"attributes\\\":{\\\"location\\\":[0,0],\\\"orientation\\\":\\\"horizontal\\\",\\\"click_policy\\\":\\\"mute\\\",\\\"items\\\":[{\\\"type\\\":\\\"object\\\",\\\"name\\\":\\\"LegendItem\\\",\\\"id\\\":\\\"p1542\\\",\\\"attributes\\\":{\\\"label\\\":{\\\"type\\\":\\\"field\\\",\\\"field\\\":\\\"line_color\\\"},\\\"renderers\\\":[{\\\"type\\\":\\\"object\\\",\\\"name\\\":\\\"GlyphRenderer\\\",\\\"id\\\":\\\"p1538\\\",\\\"attributes\\\":{\\\"name\\\":\\\"line_color\\\",\\\"data_source\\\":{\\\"type\\\":\\\"object\\\",\\\"name\\\":\\\"ColumnDataSource\\\",\\\"id\\\":\\\"p1529\\\",\\\"attributes\\\":{\\\"selected\\\":{\\\"type\\\":\\\"object\\\",\\\"name\\\":\\\"Selection\\\",\\\"id\\\":\\\"p1530\\\",\\\"attributes\\\":{\\\"indices\\\":[],\\\"line_indices\\\":[]}},\\\"selection_policy\\\":{\\\"type\\\":\\\"object\\\",\\\"name\\\":\\\"UnionRenderers\\\",\\\"id\\\":\\\"p1531\\\"},\\\"data\\\":{\\\"type\\\":\\\"map\\\",\\\"entries\\\":[[\\\"Column\\\",[\\\"4\\\",\\\"12\\\",\\\"8\\\",\\\"11\\\",\\\"7\\\",\\\"6\\\",\\\"12\\\",\\\"5\\\",\\\"10\\\",\\\"10\\\",\\\"7\\\",\\\"10\\\",\\\"10\\\",\\\"6\\\",\\\"5\\\",\\\"3\\\",\\\"7\\\",\\\"3\\\",\\\"2\\\",\\\"10\\\",\\\"4\\\",\\\"4\\\",\\\"5\\\",\\\"6\\\",\\\"5\\\",\\\"9\\\",\\\"7\\\",\\\"9\\\",\\\"6\\\",\\\"2\\\",\\\"5\\\",\\\"6\\\",\\\"11\\\",\\\"12\\\",\\\"6\\\",\\\"9\\\",\\\"7\\\",\\\"12\\\",\\\"8\\\",\\\"8\\\",\\\"7\\\",\\\"5\\\",\\\"4\\\",\\\"5\\\",\\\"1\\\",\\\"2\\\",\\\"2\\\",\\\"11\\\",\\\"7\\\",\\\"1\\\",\\\"4\\\",\\\"10\\\",\\\"11\\\",\\\"9\\\",\\\"11\\\",\\\"8\\\",\\\"4\\\",\\\"3\\\",\\\"3\\\",\\\"9\\\",\\\"12\\\",\\\"11\\\",\\\"6\\\",\\\"2\\\",\\\"10\\\",\\\"3\\\",\\\"3\\\",\\\"8\\\",\\\"8\\\",\\\"12\\\",\\\"7\\\",\\\"11\\\",\\\"9\\\",\\\"4\\\",\\\"5\\\",\\\"8\\\",\\\"3\\\",\\\"4\\\",\\\"3\\\",\\\"10\\\",\\\"2\\\",\\\"9\\\",\\\"2\\\",\\\"12\\\",\\\"9\\\",\\\"2\\\",\\\"1\\\",\\\"8\\\",\\\"1\\\",\\\"1\\\",\\\"11\\\",\\\"1\\\",\\\"1\\\",\\\"11\\\",\\\"6\\\",\\\"1\\\"]],[\\\"Row\\\",[\\\"F\\\",\\\"C\\\",\\\"G\\\",\\\"G\\\",\\\"D\\\",\\\"D\\\",\\\"G\\\",\\\"B\\\",\\\"F\\\",\\\"A\\\",\\\"G\\\",\\\"C\\\",\\\"B\\\",\\\"G\\\",\\\"D\\\",\\\"G\\\",\\\"C\\\",\\\"H\\\",\\\"B\\\",\\\"G\\\",\\\"A\\\",\\\"H\\\",\\\"G\\\",\\\"H\\\",\\\"A\\\",\\\"A\\\",\\\"B\\\",\\\"H\\\",\\\"F\\\",\\\"H\\\",\\\"F\\\",\\\"E\\\",\\\"H\\\",\\\"E\\\",\\\"C\\\",\\\"F\\\",\\\"F\\\",\\\"B\\\",\\\"C\\\",\\\"H\\\",\\\"H\\\",\\\"H\\\",\\\"E\\\",\\\"E\\\",\\\"G\\\",\\\"D\\\",\\\"C\\\",\\\"D\\\",\\\"A\\\",\\\"F\\\",\\\"D\\\",\\\"D\\\",\\\"C\\\",\\\"E\\\",\\\"B\\\",\\\"D\\\",\\\"G\\\",\\\"A\\\",\\\"F\\\",\\\"B\\\",\\\"D\\\",\\\"F\\\",\\\"B\\\",\\\"F\\\",\\\"H\\\",\\\"B\\\",\\\"E\\\",\\\"B\\\",\\\"F\\\",\\\"F\\\",\\\"E\\\",\\\"A\\\",\\\"C\\\",\\\"C\\\",\\\"C\\\",\\\"A\\\",\\\"C\\\",\\\"B\\\",\\\"D\\\",\\\"E\\\",\\\"G\\\",\\\"G\\\",\\\"A\\\",\\\"A\\\",\\\"D\\\",\\\"E\\\",\\\"C\\\",\\\"E\\\",\\\"D\\\",\\\"H\\\",\\\"H\\\",\\\"B\\\",\\\"E\\\",\\\"E\\\",\\\"A\\\",\\\"A\\\"]],[\\\"line_color\\\",[\\\"0.95+\\\",\\\"0.90-0.95\\\",\\\"0.90-0.95\\\",\\\"0.90-0.95\\\",\\\"0.90-0.95\\\",\\\"0.90-0.95\\\",\\\"0.80-0.90\\\",\\\"0.80-0.90\\\",\\\"0.80-0.90\\\",\\\"0.80-0.90\\\",\\\"<0.80\\\",\\\"<0.80\\\",\\\"<0.80\\\",\\\"<0.80\\\",\\\"<0.80\\\",\\\"<0.80\\\",\\\"<0.80\\\",\\\"<0.80\\\",\\\"<0.80\\\",\\\"<0.80\\\",\\\"<0.80\\\",\\\"<0.80\\\",\\\"<0.80\\\",\\\"<0.80\\\",\\\"<0.80\\\",\\\"<0.80\\\",\\\"<0.80\\\",\\\"<0.80\\\",\\\"<0.80\\\",\\\"<0.80\\\",\\\"<0.80\\\",\\\"<0.80\\\",\\\"<0.80\\\",\\\"<0.80\\\",\\\"<0.80\\\",\\\"<0.80\\\",\\\"<0.80\\\",\\\"<0.80\\\",\\\"<0.80\\\",\\\"<0.80\\\",\\\"<0.80\\\",\\\"<0.80\\\",\\\"<0.80\\\",\\\"<0.80\\\",\\\"<0.80\\\",\\\"<0.80\\\",\\\"<0.80\\\",\\\"<0.80\\\",\\\"<0.80\\\",\\\"<0.80\\\",\\\"<0.80\\\",\\\"<0.80\\\",\\\"<0.80\\\",\\\"<0.80\\\",\\\"<0.80\\\",\\\"<0.80\\\",\\\"<0.80\\\",\\\"<0.80\\\",\\\"<0.80\\\",\\\"<0.80\\\",\\\"<0.80\\\",\\\"<0.80\\\",\\\"<0.80\\\",\\\"<0.80\\\",\\\"<0.80\\\",\\\"<0.80\\\",\\\"<0.80\\\",\\\"<0.80\\\",\\\"<0.80\\\",\\\"<0.80\\\",\\\"<0.80\\\",\\\"<0.80\\\",\\\"<0.80\\\",\\\"<0.80\\\",\\\"<0.80\\\",\\\"<0.80\\\",\\\"<0.80\\\",\\\"<0.80\\\",\\\"<0.80\\\",\\\"<0.80\\\",\\\"<0.80\\\",\\\"<0.80\\\",\\\"<0.80\\\",\\\"<0.80\\\",\\\"<0.80\\\",\\\"<0.80\\\",\\\"<0.80\\\",\\\"<0.80\\\",\\\"<0.80\\\",\\\"<0.80\\\",\\\"<0.80\\\",\\\"<0.80\\\",\\\"<0.80\\\",\\\"<0.80\\\",\\\"<0.80\\\",\\\"<0.80\\\"]]]}}},\\\"view\\\":{\\\"type\\\":\\\"object\\\",\\\"name\\\":\\\"CDSView\\\",\\\"id\\\":\\\"p1539\\\",\\\"attributes\\\":{\\\"filter\\\":{\\\"type\\\":\\\"object\\\",\\\"name\\\":\\\"AllIndices\\\",\\\"id\\\":\\\"p1540\\\"}}},\\\"glyph\\\":{\\\"type\\\":\\\"object\\\",\\\"name\\\":\\\"Scatter\\\",\\\"id\\\":\\\"p1535\\\",\\\"attributes\\\":{\\\"tags\\\":[\\\"apply_ranges\\\"],\\\"x\\\":{\\\"type\\\":\\\"field\\\",\\\"field\\\":\\\"Column\\\"},\\\"y\\\":{\\\"type\\\":\\\"field\\\",\\\"field\\\":\\\"Row\\\"},\\\"size\\\":{\\\"type\\\":\\\"value\\\",\\\"value\\\":60.0},\\\"line_color\\\":{\\\"type\\\":\\\"field\\\",\\\"field\\\":\\\"line_color\\\",\\\"transform\\\":{\\\"type\\\":\\\"object\\\",\\\"name\\\":\\\"CategoricalColorMapper\\\",\\\"id\\\":\\\"p1528\\\",\\\"attributes\\\":{\\\"palette\\\":[\\\"#1c15a9\\\",\\\"#5a0fa0\\\",\\\"#97038f\\\",\\\"#ff8348\\\"],\\\"factors\\\":[\\\"0.95+\\\",\\\"0.90-0.95\\\",\\\"0.80-0.90\\\",\\\"<0.80\\\"]}}},\\\"line_width\\\":{\\\"type\\\":\\\"value\\\",\\\"value\\\":6},\\\"line_join\\\":{\\\"type\\\":\\\"value\\\",\\\"value\\\":\\\"miter\\\"},\\\"fill_color\\\":{\\\"type\\\":\\\"value\\\",\\\"value\\\":\\\"#30a2da\\\"},\\\"fill_alpha\\\":{\\\"type\\\":\\\"value\\\",\\\"value\\\":0},\\\"hatch_color\\\":{\\\"type\\\":\\\"value\\\",\\\"value\\\":\\\"#30a2da\\\"},\\\"marker\\\":{\\\"type\\\":\\\"value\\\",\\\"value\\\":\\\"square\\\"}}},\\\"selection_glyph\\\":{\\\"type\\\":\\\"object\\\",\\\"name\\\":\\\"Scatter\\\",\\\"id\\\":\\\"p1543\\\",\\\"attributes\\\":{\\\"tags\\\":[\\\"apply_ranges\\\"],\\\"x\\\":{\\\"type\\\":\\\"field\\\",\\\"field\\\":\\\"Column\\\"},\\\"y\\\":{\\\"type\\\":\\\"field\\\",\\\"field\\\":\\\"Row\\\"},\\\"size\\\":{\\\"type\\\":\\\"value\\\",\\\"value\\\":60.0},\\\"angle\\\":{\\\"type\\\":\\\"value\\\",\\\"value\\\":0.0},\\\"line_color\\\":{\\\"type\\\":\\\"field\\\",\\\"field\\\":\\\"line_color\\\",\\\"transform\\\":{\\\"id\\\":\\\"p1528\\\"}},\\\"line_alpha\\\":{\\\"type\\\":\\\"value\\\",\\\"value\\\":1},\\\"line_width\\\":{\\\"type\\\":\\\"value\\\",\\\"value\\\":6},\\\"line_join\\\":{\\\"type\\\":\\\"value\\\",\\\"value\\\":\\\"miter\\\"},\\\"line_cap\\\":{\\\"type\\\":\\\"value\\\",\\\"value\\\":\\\"butt\\\"},\\\"line_dash\\\":{\\\"type\\\":\\\"value\\\",\\\"value\\\":[]},\\\"line_dash_offset\\\":{\\\"type\\\":\\\"value\\\",\\\"value\\\":0},\\\"fill_color\\\":{\\\"type\\\":\\\"value\\\",\\\"value\\\":\\\"#30a2da\\\"},\\\"fill_alpha\\\":{\\\"type\\\":\\\"value\\\",\\\"value\\\":0},\\\"hatch_color\\\":{\\\"type\\\":\\\"value\\\",\\\"value\\\":\\\"#30a2da\\\"},\\\"hatch_alpha\\\":{\\\"type\\\":\\\"value\\\",\\\"value\\\":1.0},\\\"hatch_scale\\\":{\\\"type\\\":\\\"value\\\",\\\"value\\\":12.0},\\\"hatch_pattern\\\":{\\\"type\\\":\\\"value\\\",\\\"value\\\":null},\\\"hatch_weight\\\":{\\\"type\\\":\\\"value\\\",\\\"value\\\":1.0},\\\"marker\\\":{\\\"type\\\":\\\"value\\\",\\\"value\\\":\\\"square\\\"}}},\\\"nonselection_glyph\\\":{\\\"type\\\":\\\"object\\\",\\\"name\\\":\\\"Scatter\\\",\\\"id\\\":\\\"p1536\\\",\\\"attributes\\\":{\\\"tags\\\":[\\\"apply_ranges\\\"],\\\"x\\\":{\\\"type\\\":\\\"field\\\",\\\"field\\\":\\\"Column\\\"},\\\"y\\\":{\\\"type\\\":\\\"field\\\",\\\"field\\\":\\\"Row\\\"},\\\"size\\\":{\\\"type\\\":\\\"value\\\",\\\"value\\\":60.0},\\\"line_color\\\":{\\\"type\\\":\\\"field\\\",\\\"field\\\":\\\"line_color\\\",\\\"transform\\\":{\\\"id\\\":\\\"p1528\\\"}},\\\"line_alpha\\\":{\\\"type\\\":\\\"value\\\",\\\"value\\\":1},\\\"line_width\\\":{\\\"type\\\":\\\"value\\\",\\\"value\\\":6},\\\"line_join\\\":{\\\"type\\\":\\\"value\\\",\\\"value\\\":\\\"miter\\\"},\\\"fill_color\\\":{\\\"type\\\":\\\"value\\\",\\\"value\\\":\\\"#30a2da\\\"},\\\"fill_alpha\\\":{\\\"type\\\":\\\"value\\\",\\\"value\\\":0},\\\"hatch_color\\\":{\\\"type\\\":\\\"value\\\",\\\"value\\\":\\\"#30a2da\\\"},\\\"hatch_alpha\\\":{\\\"type\\\":\\\"value\\\",\\\"value\\\":0.1},\\\"marker\\\":{\\\"type\\\":\\\"value\\\",\\\"value\\\":\\\"square\\\"}}},\\\"muted_glyph\\\":{\\\"type\\\":\\\"object\\\",\\\"name\\\":\\\"Scatter\\\",\\\"id\\\":\\\"p1537\\\",\\\"attributes\\\":{\\\"tags\\\":[\\\"apply_ranges\\\"],\\\"x\\\":{\\\"type\\\":\\\"field\\\",\\\"field\\\":\\\"Column\\\"},\\\"y\\\":{\\\"type\\\":\\\"field\\\",\\\"field\\\":\\\"Row\\\"},\\\"size\\\":{\\\"type\\\":\\\"value\\\",\\\"value\\\":60.0},\\\"line_color\\\":{\\\"type\\\":\\\"field\\\",\\\"field\\\":\\\"line_color\\\",\\\"transform\\\":{\\\"id\\\":\\\"p1528\\\"}},\\\"line_alpha\\\":{\\\"type\\\":\\\"value\\\",\\\"value\\\":0.2},\\\"line_width\\\":{\\\"type\\\":\\\"value\\\",\\\"value\\\":6},\\\"line_join\\\":{\\\"type\\\":\\\"value\\\",\\\"value\\\":\\\"miter\\\"},\\\"fill_color\\\":{\\\"type\\\":\\\"value\\\",\\\"value\\\":\\\"#30a2da\\\"},\\\"fill_alpha\\\":{\\\"type\\\":\\\"value\\\",\\\"value\\\":0.2},\\\"hatch_color\\\":{\\\"type\\\":\\\"value\\\",\\\"value\\\":\\\"#30a2da\\\"},\\\"hatch_alpha\\\":{\\\"type\\\":\\\"value\\\",\\\"value\\\":0.2},\\\"marker\\\":{\\\"type\\\":\\\"value\\\",\\\"value\\\":\\\"square\\\"}}}}}]}}]}}]}]}\"]]}],[\"11\",{\"type\":\"map\",\"entries\":[[\"header\",\"{\\\"msgid\\\": \\\"p1568\\\", \\\"msgtype\\\": \\\"PATCH-DOC\\\"}\"],[\"metadata\",\"{\\\"use_buffers\\\": false}\"],[\"content\",\"{\\\"events\\\":[{\\\"kind\\\":\\\"ModelChanged\\\",\\\"model\\\":{\\\"id\\\":\\\"p1473\\\"},\\\"attr\\\":\\\"factors\\\",\\\"new\\\":[\\\"1\\\",\\\"2\\\",\\\"3\\\",\\\"4\\\",\\\"5\\\",\\\"6\\\",\\\"7\\\",\\\"8\\\",\\\"9\\\",\\\"10\\\",\\\"11\\\",\\\"12\\\"]},{\\\"kind\\\":\\\"ColumnDataChanged\\\",\\\"model\\\":{\\\"id\\\":\\\"p1512\\\"},\\\"attr\\\":\\\"data\\\",\\\"data\\\":{\\\"type\\\":\\\"map\\\",\\\"entries\\\":[[\\\"Mutations\\\",[\\\"M1N_P2A_Q3N\\\",\\\"F194S\\\",\\\"E54G_N79D_D83V_E114K_Y170F_V177D_D193N\\\",\\\"R30C_A36E_H121R_S144F_H199Q\\\",\\\"E49G_F73I_P76A\\\",\\\"#PARENT#\\\",\\\"#PARENT#\\\",\\\"M1N_P2A_Q3N\\\",\\\"S17N\\\",\\\"#PARENT#\\\",\\\"M1N_P2A_Q3N\\\",\\\"#PARENT#\\\",\\\"M1N_P2A_Q3N\\\",\\\"#PARENT#\\\",\\\"L14S_P18S\\\",\\\"Q77H_R110H\\\",\\\"#PARENT#\\\",\\\"P82T_G192S\\\",\\\"#PARENT#\\\",\\\"D37G_Q77R\\\",\\\"N79D\\\",\\\"#PARENT#\\\",\\\"#PARENT#\\\",\\\"T131A\\\",\\\"#PARENT#\\\",\\\"Q94R_P163L\\\",\\\"#PARENT#\\\",\\\"#PARENT#\\\",\\\"#PARENT#\\\",\\\"#PARENT#\\\",\\\"I4T_G61A_K153E_K175E\\\",\\\"#PARENT#\\\",\\\"#PARENT#\\\",\\\"#PARENT#\\\",\\\"D98G\\\",\\\"P76T_R90C\\\",\\\"T99A_R118H\\\",\\\"#PARENT#\\\",\\\"M1N_P2A_Q3N\\\",\\\"#PARENT#\\\",\\\"#PARENT#\\\",\\\"T149A\\\",\\\"#PARENT#\\\",\\\"F73S_T107I\\\",\\\"N79D_W95-_L117S_K159E_K175E\\\",\\\"M1N_P2A_Q3N\\\",\\\"#PARENT#\\\",\\\"Y7C\\\",\\\"#PARENT#\\\",\\\"M1N_P2A_Q3N\\\",\\\"T8A_K123R\\\",\\\"#PARENT#\\\",\\\"M1N_P2A_Q3N\\\",\\\"#PARENT#\\\",\\\"#PARENT#\\\",\\\"M1N_P2A_Q3N\\\",\\\"#PARENT#\\\",\\\"#PARENT#\\\",\\\"#PARENT#\\\",\\\"#PARENT#\\\",\\\"#PARENT#\\\",\\\"M1N_P2A_Q3N\\\",\\\"I115T\\\",\\\"#PARENT#\\\",\\\"Q94R_Y170-_A176G\\\",\\\"M1N_P2A_Q3N\\\",\\\"F194L\\\",\\\"M1I_N125D\\\",\\\"#PARENT#\\\",\\\"#PARENT#\\\",\\\"E25K\\\",\\\"R168S\\\",\\\"H135R\\\",\\\"#PARENT#\\\",\\\"#PARENT#\\\",\\\"R30C_A36E_H121R_S144F\\\",\\\"#PARENT#\\\",\\\"M1N_P2A_Q3N\\\",\\\"#PARENT#\\\",\\\"V130G\\\",\\\"K158R_G192S\\\",\\\"M1N_P2A_Q3N\\\",\\\"E164D\\\",\\\"#PARENT#\\\",\\\"H121R\\\",\\\"#PARENT#\\\",\\\"R30C_A36E\\\",\\\"#PARENT#\\\",\\\"#PARENT#\\\",\\\"#PARENT#\\\",\\\"#PARENT#\\\",\\\"H120R_G129S\\\",\\\"R118H_T151A\\\",\\\"T8S_L31S_W33-_Q112R\\\",\\\"#PARENT#\\\",\\\"#PARENT#\\\"]],[\\\"Row\\\",[\\\"A\\\",\\\"B\\\",\\\"C\\\",\\\"D\\\",\\\"E\\\",\\\"F\\\",\\\"G\\\",\\\"H\\\",\\\"A\\\",\\\"B\\\",\\\"C\\\",\\\"D\\\",\\\"E\\\",\\\"F\\\",\\\"G\\\",\\\"H\\\",\\\"A\\\",\\\"B\\\",\\\"C\\\",\\\"D\\\",\\\"E\\\",\\\"F\\\",\\\"G\\\",\\\"H\\\",\\\"A\\\",\\\"B\\\",\\\"C\\\",\\\"D\\\",\\\"E\\\",\\\"F\\\",\\\"G\\\",\\\"H\\\",\\\"A\\\",\\\"B\\\",\\\"C\\\",\\\"D\\\",\\\"E\\\",\\\"F\\\",\\\"G\\\",\\\"H\\\",\\\"A\\\",\\\"B\\\",\\\"C\\\",\\\"D\\\",\\\"E\\\",\\\"F\\\",\\\"G\\\",\\\"H\\\",\\\"A\\\",\\\"B\\\",\\\"C\\\",\\\"D\\\",\\\"E\\\",\\\"F\\\",\\\"G\\\",\\\"H\\\",\\\"A\\\",\\\"B\\\",\\\"C\\\",\\\"D\\\",\\\"E\\\",\\\"F\\\",\\\"G\\\",\\\"H\\\",\\\"A\\\",\\\"B\\\",\\\"C\\\",\\\"D\\\",\\\"E\\\",\\\"F\\\",\\\"G\\\",\\\"H\\\",\\\"A\\\",\\\"B\\\",\\\"C\\\",\\\"D\\\",\\\"E\\\",\\\"F\\\",\\\"G\\\",\\\"H\\\",\\\"A\\\",\\\"B\\\",\\\"C\\\",\\\"D\\\",\\\"E\\\",\\\"F\\\",\\\"G\\\",\\\"H\\\",\\\"A\\\",\\\"B\\\",\\\"C\\\",\\\"D\\\",\\\"E\\\",\\\"F\\\",\\\"G\\\",\\\"H\\\"]],[\\\"Column\\\",[\\\"1\\\",\\\"1\\\",\\\"1\\\",\\\"1\\\",\\\"1\\\",\\\"1\\\",\\\"1\\\",\\\"1\\\",\\\"10\\\",\\\"10\\\",\\\"10\\\",\\\"10\\\",\\\"10\\\",\\\"10\\\",\\\"10\\\",\\\"10\\\",\\\"11\\\",\\\"11\\\",\\\"11\\\",\\\"11\\\",\\\"11\\\",\\\"11\\\",\\\"11\\\",\\\"11\\\",\\\"12\\\",\\\"12\\\",\\\"12\\\",\\\"12\\\",\\\"12\\\",\\\"12\\\",\\\"12\\\",\\\"12\\\",\\\"2\\\",\\\"2\\\",\\\"2\\\",\\\"2\\\",\\\"2\\\",\\\"2\\\",\\\"2\\\",\\\"2\\\",\\\"3\\\",\\\"3\\\",\\\"3\\\",\\\"3\\\",\\\"3\\\",\\\"3\\\",\\\"3\\\",\\\"3\\\",\\\"4\\\",\\\"4\\\",\\\"4\\\",\\\"4\\\",\\\"4\\\",\\\"4\\\",\\\"4\\\",\\\"4\\\",\\\"5\\\",\\\"5\\\",\\\"5\\\",\\\"5\\\",\\\"5\\\",\\\"5\\\",\\\"5\\\",\\\"5\\\",\\\"6\\\",\\\"6\\\",\\\"6\\\",\\\"6\\\",\\\"6\\\",\\\"6\\\",\\\"6\\\",\\\"6\\\",\\\"7\\\",\\\"7\\\",\\\"7\\\",\\\"7\\\",\\\"7\\\",\\\"7\\\",\\\"7\\\",\\\"7\\\",\\\"8\\\",\\\"8\\\",\\\"8\\\",\\\"8\\\",\\\"8\\\",\\\"8\\\",\\\"8\\\",\\\"8\\\",\\\"9\\\",\\\"9\\\",\\\"9\\\",\\\"9\\\",\\\"9\\\",\\\"9\\\",\\\"9\\\",\\\"9\\\"]],[\\\"Alignment_Probability\\\",[\\\"0\\\",\\\"0.26667\\\",\\\"0.4989\\\",\\\"0.63763\\\",\\\"0.48284\\\",\\\"0.73553\\\",\\\"0.92023\\\",\\\"0\\\",\\\"0.94523\\\",\\\"0.74713\\\",\\\"0\\\",\\\"0.7548\\\",\\\"0\\\",\\\"0.26264\\\",\\\"0.49378\\\",\\\"0.81369\\\",\\\"0.047565\\\",\\\"0.52575\\\",\\\"0.52645\\\",\\\"0.47521\\\",\\\"0.32729\\\",\\\"0.88665\\\",\\\"0.87093\\\",\\\"0.73872\\\",\\\"0.53217\\\",\\\"0.42554\\\",\\\"0.98208\\\",\\\"0.4673\\\",\\\"0.61343\\\",\\\"0.41586\\\",\\\"0.44037\\\",\\\"0.41593\\\",\\\"0.41876\\\",\\\"0.95984\\\",\\\"0.61606\\\",\\\"0.40758\\\",\\\"0.49096\\\",\\\"0.7063\\\",\\\"0\\\",\\\"0.77764\\\",\\\"0.71116\\\",\\\"0.97136\\\",\\\"0.093375\\\",\\\"0.63832\\\",\\\"0.42913\\\",\\\"0\\\",\\\"0.91842\\\",\\\"0.068664\\\",\\\"0.96727\\\",\\\"0\\\",\\\"0.52885\\\",\\\"0.79445\\\",\\\"0\\\",\\\"0.74588\\\",\\\"0.28564\\\",\\\"0\\\",\\\"0.86695\\\",\\\"1\\\",\\\"0.52503\\\",\\\"0.79319\\\",\\\"0.70816\\\",\\\"0\\\",\\\"0.52435\\\",\\\"0.77833\\\",\\\"0.7809\\\",\\\"0\\\",\\\"0.78552\\\",\\\"0.49564\\\",\\\"0.12811\\\",\\\"0.057391\\\",\\\"0.71372\\\",\\\"0.93982\\\",\\\"0.54329\\\",\\\"0.51734\\\",\\\"0.56254\\\",\\\"0.85481\\\",\\\"0.56654\\\",\\\"0\\\",\\\"0.20684\\\",\\\"0.52351\\\",\\\"0.66895\\\",\\\"0\\\",\\\"0.55559\\\",\\\"0.54428\\\",\\\"0.08442\\\",\\\"0.50805\\\",\\\"0.037345\\\",\\\"0.51853\\\",\\\"0.53504\\\",\\\"0.87049\\\",\\\"0.87439\\\",\\\"0.83788\\\",\\\"0.86402\\\",\\\"0.61551\\\",\\\"0.19002\\\",\\\"0.73921\\\"]],[\\\"Alignment_Count\\\",[\\\"0\\\",\\\"44\\\",\\\"52\\\",\\\"50\\\",\\\"26\\\",\\\"39\\\",\\\"37\\\",\\\"0\\\",\\\"35\\\",\\\"51\\\",\\\"8\\\",\\\"46\\\",\\\"2\\\",\\\"33\\\",\\\"33\\\",\\\"48\\\",\\\"22\\\",\\\"35\\\",\\\"49\\\",\\\"46\\\",\\\"26\\\",\\\"26\\\",\\\"32\\\",\\\"57\\\",\\\"38\\\",\\\"41\\\",\\\"57\\\",\\\"32\\\",\\\"24\\\",\\\"28\\\",\\\"62\\\",\\\"18\\\",\\\"45\\\",\\\"36\\\",\\\"41\\\",\\\"33\\\",\\\"63\\\",\\\"21\\\",\\\"7\\\",\\\"41\\\",\\\"45\\\",\\\"36\\\",\\\"19\\\",\\\"34\\\",\\\"42\\\",\\\"1\\\",\\\"32\\\",\\\"5\\\",\\\"32\\\",\\\"0\\\",\\\"16\\\",\\\"28\\\",\\\"5\\\",\\\"20\\\",\\\"38\\\",\\\"14\\\",\\\"55\\\",\\\"43\\\",\\\"25\\\",\\\"28\\\",\\\"25\\\",\\\"7\\\",\\\"34\\\",\\\"58\\\",\\\"47\\\",\\\"2\\\",\\\"37\\\",\\\"33\\\",\\\"16\\\",\\\"12\\\",\\\"48\\\",\\\"49\\\",\\\"35\\\",\\\"15\\\",\\\"24\\\",\\\"60\\\",\\\"34\\\",\\\"3\\\",\\\"17\\\",\\\"59\\\",\\\"32\\\",\\\"9\\\",\\\"31\\\",\\\"43\\\",\\\"32\\\",\\\"38\\\",\\\"16\\\",\\\"14\\\",\\\"56\\\",\\\"28\\\",\\\"21\\\",\\\"46\\\",\\\"29\\\",\\\"46\\\",\\\"18\\\",\\\"32\\\"]],[\\\"zvalues\\\",{\\\"type\\\":\\\"ndarray\\\",\\\"array\\\":{\\\"type\\\":\\\"bytes\\\",\\\"data\\\":\\\"AAAAAAAAAABDVPw2BUYOQEmprqolnA9Arxust9JLD0DNGvDqlBAKQNYNiGj5Tg1Avcc67ijjDEAAAAAAAAAAAMXzD1NacQxA/wBR/2B0D0Bzqzs/sqIAQGxCkL0OoQ5A7zn6/kIu5j/RuNX02PgLQNG41fTY+AtAdbtQPDj4DkDIxT13dLoIQMXzD1NacQxAV1oyrnIiD0BsQpC9DqEOQM0a8OqUEApAzRrw6pQQCkBryLi+07kLQFmaraEVLBBAqEHDxcYZDUBOrI5FZbUNQFmaraEVLBBAa8i4vtO5C0D5LJJ8p2wJQCNKltZaqApA69wnhC+CEECGkWs6ex8HQKTJo3YLdA5AAiAq+gurDEBOrI5FZbUNQNG41fTY+AtAGxjj6JGSEECxrm+ULlsIQFdaMq5yIv8/TqyORWW1DUCkyaN2C3QOQAIgKvoLqwxALLMEBjaOB0D2DbmB/DUMQC09LlS/5g1AAAAAAAAAAABryLi+07kLQDON7fdBwPk/a8i4vtO5C0AAAAAAAAAAAO85+v5CLgZAI0qW1lqoCkAzje33QcD5P5Hjc3tC9wdAqEHDxcYZDUCnu9cWyhwFQPP+ulmCBxBAEewUFvAWDkAzje33QcAJQCNKltZaqApAM43t90HACUBXWjKuciL/P/YNuYH8NQxATUbGxeQ9EEC28JAvGs0OQO85+v5CLuY/vcc67ijjDEDRuNX02PgLQO85+v5CLgZAfZ7TvBbhA0B1u1A8OPgOQFdaMq5yIg9AxfMPU1pxDEAfSE05FqoFQPksknynbAlAizJl3JtgEED2DbmB/DUMQAsDrXrqk/E/en/6wWuqBkB5Kcf5ZU8QQGvIuL7TuQtACwOteuqTAUBaK5FIzngLQBHsFBbwFg5Aa8i4vtO5C0CoQcPFxhkNQO85+v5CLgZAp7vXFsocBUBQbCrL9RkQQCNKltZaqApAsa5vlC5bCEBsQpC9DqEOQB/+zcs48ApAbEKQvQ6hDkCGkWs6ex8HQGvIuL7TuQtA\\\"},\\\"shape\\\":[96],\\\"dtype\\\":\\\"float64\\\",\\\"order\\\":\\\"little\\\"}],[\\\"logseqdepth\\\",[\\\"0\\\",\\\"3.7842\\\",\\\"3.9512\\\",\\\"3.912\\\",\\\"3.2581\\\",\\\"3.6636\\\",\\\"3.6109\\\",\\\"0\\\",\\\"3.5553\\\",\\\"3.9318\\\",\\\"2.0794\\\",\\\"3.8286\\\",\\\"0.69315\\\",\\\"3.4965\\\",\\\"3.4965\\\",\\\"3.8712\\\",\\\"3.091\\\",\\\"3.5553\\\",\\\"3.8918\\\",\\\"3.8286\\\",\\\"3.2581\\\",\\\"3.2581\\\",\\\"3.4657\\\",\\\"4.0431\\\",\\\"3.6376\\\",\\\"3.7136\\\",\\\"4.0431\\\",\\\"3.4657\\\",\\\"3.1781\\\",\\\"3.3322\\\",\\\"4.1271\\\",\\\"2.8904\\\",\\\"3.8067\\\",\\\"3.5835\\\",\\\"3.7136\\\",\\\"3.4965\\\",\\\"4.1431\\\",\\\"3.0445\\\",\\\"1.9459\\\",\\\"3.7136\\\",\\\"3.8067\\\",\\\"3.5835\\\",\\\"2.9444\\\",\\\"3.5264\\\",\\\"3.7377\\\",\\\"0\\\",\\\"3.4657\\\",\\\"1.6094\\\",\\\"3.4657\\\",\\\"0\\\",\\\"2.7726\\\",\\\"3.3322\\\",\\\"1.6094\\\",\\\"2.9957\\\",\\\"3.6376\\\",\\\"2.6391\\\",\\\"4.0073\\\",\\\"3.7612\\\",\\\"3.2189\\\",\\\"3.3322\\\",\\\"3.2189\\\",\\\"1.9459\\\",\\\"3.5264\\\",\\\"4.0604\\\",\\\"3.8501\\\",\\\"0.69315\\\",\\\"3.6109\\\",\\\"3.4965\\\",\\\"2.7726\\\",\\\"2.4849\\\",\\\"3.8712\\\",\\\"3.8918\\\",\\\"3.5553\\\",\\\"2.7081\\\",\\\"3.1781\\\",\\\"4.0943\\\",\\\"3.5264\\\",\\\"1.0986\\\",\\\"2.8332\\\",\\\"4.0775\\\",\\\"3.4657\\\",\\\"2.1972\\\",\\\"3.434\\\",\\\"3.7612\\\",\\\"3.4657\\\",\\\"3.6376\\\",\\\"2.7726\\\",\\\"2.6391\\\",\\\"4.0254\\\",\\\"3.3322\\\",\\\"3.0445\\\",\\\"3.8286\\\",\\\"3.3673\\\",\\\"3.8286\\\",\\\"2.8904\\\",\\\"3.4657\\\"]]]},\\\"cols\\\":[\\\"Mutations\\\",\\\"Row\\\",\\\"Column\\\",\\\"Alignment_Probability\\\",\\\"Alignment_Count\\\",\\\"zvalues\\\",\\\"logseqdepth\\\"]},{\\\"kind\\\":\\\"ColumnDataChanged\\\",\\\"model\\\":{\\\"id\\\":\\\"p1512\\\"},\\\"attr\\\":\\\"data\\\",\\\"data\\\":{\\\"type\\\":\\\"map\\\",\\\"entries\\\":[[\\\"Column\\\",[\\\"1\\\",\\\"1\\\",\\\"1\\\",\\\"1\\\",\\\"1\\\",\\\"1\\\",\\\"1\\\",\\\"1\\\",\\\"10\\\",\\\"10\\\",\\\"10\\\",\\\"10\\\",\\\"10\\\",\\\"10\\\",\\\"10\\\",\\\"10\\\",\\\"11\\\",\\\"11\\\",\\\"11\\\",\\\"11\\\",\\\"11\\\",\\\"11\\\",\\\"11\\\",\\\"11\\\",\\\"12\\\",\\\"12\\\",\\\"12\\\",\\\"12\\\",\\\"12\\\",\\\"12\\\",\\\"12\\\",\\\"12\\\",\\\"2\\\",\\\"2\\\",\\\"2\\\",\\\"2\\\",\\\"2\\\",\\\"2\\\",\\\"2\\\",\\\"2\\\",\\\"3\\\",\\\"3\\\",\\\"3\\\",\\\"3\\\",\\\"3\\\",\\\"3\\\",\\\"3\\\",\\\"3\\\",\\\"4\\\",\\\"4\\\",\\\"4\\\",\\\"4\\\",\\\"4\\\",\\\"4\\\",\\\"4\\\",\\\"4\\\",\\\"5\\\",\\\"5\\\",\\\"5\\\",\\\"5\\\",\\\"5\\\",\\\"5\\\",\\\"5\\\",\\\"5\\\",\\\"6\\\",\\\"6\\\",\\\"6\\\",\\\"6\\\",\\\"6\\\",\\\"6\\\",\\\"6\\\",\\\"6\\\",\\\"7\\\",\\\"7\\\",\\\"7\\\",\\\"7\\\",\\\"7\\\",\\\"7\\\",\\\"7\\\",\\\"7\\\",\\\"8\\\",\\\"8\\\",\\\"8\\\",\\\"8\\\",\\\"8\\\",\\\"8\\\",\\\"8\\\",\\\"8\\\",\\\"9\\\",\\\"9\\\",\\\"9\\\",\\\"9\\\",\\\"9\\\",\\\"9\\\",\\\"9\\\",\\\"9\\\"]]]},\\\"cols\\\":[\\\"Column\\\"]},{\\\"kind\\\":\\\"ColumnDataChanged\\\",\\\"model\\\":{\\\"id\\\":\\\"p1512\\\"},\\\"attr\\\":\\\"data\\\",\\\"data\\\":{\\\"type\\\":\\\"map\\\",\\\"entries\\\":[[\\\"Row\\\",[\\\"A\\\",\\\"B\\\",\\\"C\\\",\\\"D\\\",\\\"E\\\",\\\"F\\\",\\\"G\\\",\\\"H\\\",\\\"A\\\",\\\"B\\\",\\\"C\\\",\\\"D\\\",\\\"E\\\",\\\"F\\\",\\\"G\\\",\\\"H\\\",\\\"A\\\",\\\"B\\\",\\\"C\\\",\\\"D\\\",\\\"E\\\",\\\"F\\\",\\\"G\\\",\\\"H\\\",\\\"A\\\",\\\"B\\\",\\\"C\\\",\\\"D\\\",\\\"E\\\",\\\"F\\\",\\\"G\\\",\\\"H\\\",\\\"A\\\",\\\"B\\\",\\\"C\\\",\\\"D\\\",\\\"E\\\",\\\"F\\\",\\\"G\\\",\\\"H\\\",\\\"A\\\",\\\"B\\\",\\\"C\\\",\\\"D\\\",\\\"E\\\",\\\"F\\\",\\\"G\\\",\\\"H\\\",\\\"A\\\",\\\"B\\\",\\\"C\\\",\\\"D\\\",\\\"E\\\",\\\"F\\\",\\\"G\\\",\\\"H\\\",\\\"A\\\",\\\"B\\\",\\\"C\\\",\\\"D\\\",\\\"E\\\",\\\"F\\\",\\\"G\\\",\\\"H\\\",\\\"A\\\",\\\"B\\\",\\\"C\\\",\\\"D\\\",\\\"E\\\",\\\"F\\\",\\\"G\\\",\\\"H\\\",\\\"A\\\",\\\"B\\\",\\\"C\\\",\\\"D\\\",\\\"E\\\",\\\"F\\\",\\\"G\\\",\\\"H\\\",\\\"A\\\",\\\"B\\\",\\\"C\\\",\\\"D\\\",\\\"E\\\",\\\"F\\\",\\\"G\\\",\\\"H\\\",\\\"A\\\",\\\"B\\\",\\\"C\\\",\\\"D\\\",\\\"E\\\",\\\"F\\\",\\\"G\\\",\\\"H\\\"]]]},\\\"cols\\\":[\\\"Row\\\"]},{\\\"kind\\\":\\\"ColumnDataChanged\\\",\\\"model\\\":{\\\"id\\\":\\\"p1529\\\"},\\\"attr\\\":\\\"data\\\",\\\"data\\\":{\\\"type\\\":\\\"map\\\",\\\"entries\\\":[[\\\"line_color\\\",[\\\"0.95+\\\",\\\"0.95+\\\",\\\"0.95+\\\",\\\"0.95+\\\",\\\"0.95+\\\",\\\"0.90-0.95\\\",\\\"0.90-0.95\\\",\\\"0.90-0.95\\\",\\\"0.90-0.95\\\",\\\"0.80-0.90\\\",\\\"0.80-0.90\\\",\\\"0.80-0.90\\\",\\\"0.80-0.90\\\",\\\"0.80-0.90\\\",\\\"0.80-0.90\\\",\\\"0.80-0.90\\\",\\\"0.80-0.90\\\",\\\"0.80-0.90\\\",\\\"<0.80\\\",\\\"<0.80\\\",\\\"<0.80\\\",\\\"<0.80\\\",\\\"<0.80\\\",\\\"<0.80\\\",\\\"<0.80\\\",\\\"<0.80\\\",\\\"<0.80\\\",\\\"<0.80\\\",\\\"<0.80\\\",\\\"<0.80\\\",\\\"<0.80\\\",\\\"<0.80\\\",\\\"<0.80\\\",\\\"<0.80\\\",\\\"<0.80\\\",\\\"<0.80\\\",\\\"<0.80\\\",\\\"<0.80\\\",\\\"<0.80\\\",\\\"<0.80\\\",\\\"<0.80\\\",\\\"<0.80\\\",\\\"<0.80\\\",\\\"<0.80\\\",\\\"<0.80\\\",\\\"<0.80\\\",\\\"<0.80\\\",\\\"<0.80\\\",\\\"<0.80\\\",\\\"<0.80\\\",\\\"<0.80\\\",\\\"<0.80\\\",\\\"<0.80\\\",\\\"<0.80\\\",\\\"<0.80\\\",\\\"<0.80\\\",\\\"<0.80\\\",\\\"<0.80\\\",\\\"<0.80\\\",\\\"<0.80\\\",\\\"<0.80\\\",\\\"<0.80\\\",\\\"<0.80\\\",\\\"<0.80\\\",\\\"<0.80\\\",\\\"<0.80\\\",\\\"<0.80\\\",\\\"<0.80\\\",\\\"<0.80\\\",\\\"<0.80\\\",\\\"<0.80\\\",\\\"<0.80\\\",\\\"<0.80\\\",\\\"<0.80\\\",\\\"<0.80\\\",\\\"<0.80\\\",\\\"<0.80\\\",\\\"<0.80\\\",\\\"<0.80\\\",\\\"<0.80\\\",\\\"<0.80\\\",\\\"<0.80\\\",\\\"<0.80\\\",\\\"<0.80\\\",\\\"<0.80\\\",\\\"<0.80\\\",\\\"<0.80\\\",\\\"<0.80\\\",\\\"<0.80\\\",\\\"<0.80\\\",\\\"<0.80\\\",\\\"<0.80\\\",\\\"<0.80\\\",\\\"<0.80\\\",\\\"<0.80\\\",\\\"<0.80\\\"]],[\\\"Column\\\",[\\\"5\\\",\\\"12\\\",\\\"3\\\",\\\"4\\\",\\\"2\\\",\\\"10\\\",\\\"6\\\",\\\"1\\\",\\\"3\\\",\\\"11\\\",\\\"9\\\",\\\"11\\\",\\\"9\\\",\\\"5\\\",\\\"9\\\",\\\"7\\\",\\\"9\\\",\\\"10\\\",\\\"4\\\",\\\"5\\\",\\\"6\\\",\\\"6\\\",\\\"5\\\",\\\"2\\\",\\\"10\\\",\\\"10\\\",\\\"4\\\",\\\"9\\\",\\\"11\\\",\\\"1\\\",\\\"6\\\",\\\"3\\\",\\\"5\\\",\\\"2\\\",\\\"8\\\",\\\"3\\\",\\\"1\\\",\\\"2\\\",\\\"9\\\",\\\"12\\\",\\\"7\\\",\\\"7\\\",\\\"8\\\",\\\"8\\\",\\\"7\\\",\\\"9\\\",\\\"12\\\",\\\"4\\\",\\\"11\\\",\\\"11\\\",\\\"5\\\",\\\"5\\\",\\\"7\\\",\\\"8\\\",\\\"7\\\",\\\"8\\\",\\\"1\\\",\\\"6\\\",\\\"10\\\",\\\"2\\\",\\\"1\\\",\\\"11\\\",\\\"12\\\",\\\"12\\\",\\\"3\\\",\\\"12\\\",\\\"2\\\",\\\"12\\\",\\\"12\\\",\\\"2\\\",\\\"11\\\",\\\"4\\\",\\\"1\\\",\\\"10\\\",\\\"7\\\",\\\"9\\\",\\\"6\\\",\\\"3\\\",\\\"8\\\",\\\"3\\\",\\\"6\\\",\\\"11\\\",\\\"8\\\",\\\"4\\\",\\\"8\\\",\\\"2\\\",\\\"7\\\",\\\"1\\\",\\\"10\\\",\\\"3\\\",\\\"10\\\",\\\"6\\\",\\\"5\\\",\\\"4\\\",\\\"4\\\",\\\"1\\\"]],[\\\"Row\\\",[\\\"B\\\",\\\"C\\\",\\\"B\\\",\\\"A\\\",\\\"B\\\",\\\"A\\\",\\\"H\\\",\\\"G\\\",\\\"G\\\",\\\"F\\\",\\\"C\\\",\\\"G\\\",\\\"B\\\",\\\"A\\\",\\\"E\\\",\\\"D\\\",\\\"D\\\",\\\"H\\\",\\\"D\\\",\\\"D\\\",\\\"C\\\",\\\"A\\\",\\\"H\\\",\\\"H\\\",\\\"D\\\",\\\"B\\\",\\\"F\\\",\\\"H\\\",\\\"H\\\",\\\"F\\\",\\\"G\\\",\\\"A\\\",\\\"E\\\",\\\"F\\\",\\\"A\\\",\\\"D\\\",\\\"D\\\",\\\"C\\\",\\\"F\\\",\\\"E\\\",\\\"E\\\",\\\"C\\\",\\\"C\\\",\\\"D\\\",\\\"A\\\",\\\"A\\\",\\\"A\\\",\\\"C\\\",\\\"C\\\",\\\"B\\\",\\\"C\\\",\\\"G\\\",\\\"H\\\",\\\"H\\\",\\\"B\\\",\\\"F\\\",\\\"C\\\",\\\"D\\\",\\\"G\\\",\\\"E\\\",\\\"E\\\",\\\"D\\\",\\\"D\\\",\\\"G\\\",\\\"E\\\",\\\"B\\\",\\\"A\\\",\\\"H\\\",\\\"F\\\",\\\"D\\\",\\\"E\\\",\\\"G\\\",\\\"B\\\",\\\"F\\\",\\\"G\\\",\\\"G\\\",\\\"E\\\",\\\"C\\\",\\\"E\\\",\\\"H\\\",\\\"F\\\",\\\"A\\\",\\\"G\\\",\\\"E\\\",\\\"B\\\",\\\"G\\\",\\\"F\\\",\\\"H\\\",\\\"C\\\",\\\"F\\\",\\\"E\\\",\\\"B\\\",\\\"F\\\",\\\"B\\\",\\\"H\\\",\\\"A\\\"]]]},\\\"cols\\\":[\\\"line_color\\\",\\\"Column\\\",\\\"Row\\\"]},{\\\"kind\\\":\\\"ColumnDataChanged\\\",\\\"model\\\":{\\\"id\\\":\\\"p1529\\\"},\\\"attr\\\":\\\"data\\\",\\\"data\\\":{\\\"type\\\":\\\"map\\\",\\\"entries\\\":[[\\\"line_color\\\",[\\\"0.95+\\\",\\\"0.95+\\\",\\\"0.95+\\\",\\\"0.95+\\\",\\\"0.95+\\\",\\\"0.90-0.95\\\",\\\"0.90-0.95\\\",\\\"0.90-0.95\\\",\\\"0.90-0.95\\\",\\\"0.80-0.90\\\",\\\"0.80-0.90\\\",\\\"0.80-0.90\\\",\\\"0.80-0.90\\\",\\\"0.80-0.90\\\",\\\"0.80-0.90\\\",\\\"0.80-0.90\\\",\\\"0.80-0.90\\\",\\\"0.80-0.90\\\",\\\"<0.80\\\",\\\"<0.80\\\",\\\"<0.80\\\",\\\"<0.80\\\",\\\"<0.80\\\",\\\"<0.80\\\",\\\"<0.80\\\",\\\"<0.80\\\",\\\"<0.80\\\",\\\"<0.80\\\",\\\"<0.80\\\",\\\"<0.80\\\",\\\"<0.80\\\",\\\"<0.80\\\",\\\"<0.80\\\",\\\"<0.80\\\",\\\"<0.80\\\",\\\"<0.80\\\",\\\"<0.80\\\",\\\"<0.80\\\",\\\"<0.80\\\",\\\"<0.80\\\",\\\"<0.80\\\",\\\"<0.80\\\",\\\"<0.80\\\",\\\"<0.80\\\",\\\"<0.80\\\",\\\"<0.80\\\",\\\"<0.80\\\",\\\"<0.80\\\",\\\"<0.80\\\",\\\"<0.80\\\",\\\"<0.80\\\",\\\"<0.80\\\",\\\"<0.80\\\",\\\"<0.80\\\",\\\"<0.80\\\",\\\"<0.80\\\",\\\"<0.80\\\",\\\"<0.80\\\",\\\"<0.80\\\",\\\"<0.80\\\",\\\"<0.80\\\",\\\"<0.80\\\",\\\"<0.80\\\",\\\"<0.80\\\",\\\"<0.80\\\",\\\"<0.80\\\",\\\"<0.80\\\",\\\"<0.80\\\",\\\"<0.80\\\",\\\"<0.80\\\",\\\"<0.80\\\",\\\"<0.80\\\",\\\"<0.80\\\",\\\"<0.80\\\",\\\"<0.80\\\",\\\"<0.80\\\",\\\"<0.80\\\",\\\"<0.80\\\",\\\"<0.80\\\",\\\"<0.80\\\",\\\"<0.80\\\",\\\"<0.80\\\",\\\"<0.80\\\",\\\"<0.80\\\",\\\"<0.80\\\",\\\"<0.80\\\",\\\"<0.80\\\",\\\"<0.80\\\",\\\"<0.80\\\",\\\"<0.80\\\",\\\"<0.80\\\",\\\"<0.80\\\",\\\"<0.80\\\",\\\"<0.80\\\",\\\"<0.80\\\",\\\"<0.80\\\"]]]},\\\"cols\\\":[\\\"line_color\\\"]},{\\\"kind\\\":\\\"ColumnDataChanged\\\",\\\"model\\\":{\\\"id\\\":\\\"p1544\\\"},\\\"attr\\\":\\\"data\\\",\\\"data\\\":{\\\"type\\\":\\\"map\\\",\\\"entries\\\":[[\\\"Column\\\",[\\\"1\\\",\\\"1\\\",\\\"1\\\",\\\"1\\\",\\\"1\\\",\\\"1\\\",\\\"1\\\",\\\"1\\\",\\\"10\\\",\\\"10\\\",\\\"10\\\",\\\"10\\\",\\\"10\\\",\\\"10\\\",\\\"10\\\",\\\"10\\\",\\\"11\\\",\\\"11\\\",\\\"11\\\",\\\"11\\\",\\\"11\\\",\\\"11\\\",\\\"11\\\",\\\"11\\\",\\\"12\\\",\\\"12\\\",\\\"12\\\",\\\"12\\\",\\\"12\\\",\\\"12\\\",\\\"12\\\",\\\"12\\\",\\\"2\\\",\\\"2\\\",\\\"2\\\",\\\"2\\\",\\\"2\\\",\\\"2\\\",\\\"2\\\",\\\"2\\\",\\\"3\\\",\\\"3\\\",\\\"3\\\",\\\"3\\\",\\\"3\\\",\\\"3\\\",\\\"3\\\",\\\"3\\\",\\\"4\\\",\\\"4\\\",\\\"4\\\",\\\"4\\\",\\\"4\\\",\\\"4\\\",\\\"4\\\",\\\"4\\\",\\\"5\\\",\\\"5\\\",\\\"5\\\",\\\"5\\\",\\\"5\\\",\\\"5\\\",\\\"5\\\",\\\"5\\\",\\\"6\\\",\\\"6\\\",\\\"6\\\",\\\"6\\\",\\\"6\\\",\\\"6\\\",\\\"6\\\",\\\"6\\\",\\\"7\\\",\\\"7\\\",\\\"7\\\",\\\"7\\\",\\\"7\\\",\\\"7\\\",\\\"7\\\",\\\"7\\\",\\\"8\\\",\\\"8\\\",\\\"8\\\",\\\"8\\\",\\\"8\\\",\\\"8\\\",\\\"8\\\",\\\"8\\\",\\\"9\\\",\\\"9\\\",\\\"9\\\",\\\"9\\\",\\\"9\\\",\\\"9\\\",\\\"9\\\",\\\"9\\\"]],[\\\"Row\\\",[\\\"A\\\",\\\"B\\\",\\\"C\\\",\\\"D\\\",\\\"E\\\",\\\"F\\\",\\\"G\\\",\\\"H\\\",\\\"A\\\",\\\"B\\\",\\\"C\\\",\\\"D\\\",\\\"E\\\",\\\"F\\\",\\\"G\\\",\\\"H\\\",\\\"A\\\",\\\"B\\\",\\\"C\\\",\\\"D\\\",\\\"E\\\",\\\"F\\\",\\\"G\\\",\\\"H\\\",\\\"A\\\",\\\"B\\\",\\\"C\\\",\\\"D\\\",\\\"E\\\",\\\"F\\\",\\\"G\\\",\\\"H\\\",\\\"A\\\",\\\"B\\\",\\\"C\\\",\\\"D\\\",\\\"E\\\",\\\"F\\\",\\\"G\\\",\\\"H\\\",\\\"A\\\",\\\"B\\\",\\\"C\\\",\\\"D\\\",\\\"E\\\",\\\"F\\\",\\\"G\\\",\\\"H\\\",\\\"A\\\",\\\"B\\\",\\\"C\\\",\\\"D\\\",\\\"E\\\",\\\"F\\\",\\\"G\\\",\\\"H\\\",\\\"A\\\",\\\"B\\\",\\\"C\\\",\\\"D\\\",\\\"E\\\",\\\"F\\\",\\\"G\\\",\\\"H\\\",\\\"A\\\",\\\"B\\\",\\\"C\\\",\\\"D\\\",\\\"E\\\",\\\"F\\\",\\\"G\\\",\\\"H\\\",\\\"A\\\",\\\"B\\\",\\\"C\\\",\\\"D\\\",\\\"E\\\",\\\"F\\\",\\\"G\\\",\\\"H\\\",\\\"A\\\",\\\"B\\\",\\\"C\\\",\\\"D\\\",\\\"E\\\",\\\"F\\\",\\\"G\\\",\\\"H\\\",\\\"A\\\",\\\"B\\\",\\\"C\\\",\\\"D\\\",\\\"E\\\",\\\"F\\\",\\\"G\\\",\\\"H\\\"]],[\\\"Labels\\\",[\\\"M1N\\\\nP2A\\\\nQ3N\\\",\\\"F194S\\\",\\\"7 muts\\\",\\\"5 muts\\\",\\\"E49G\\\\nF73I\\\\nP76A\\\",\\\"#PARENT#\\\",\\\"#PARENT#\\\",\\\"M1N\\\\nP2A\\\\nQ3N\\\",\\\"S17N\\\",\\\"#PARENT#\\\",\\\"M1N\\\\nP2A\\\\nQ3N\\\",\\\"#PARENT#\\\",\\\"M1N\\\\nP2A\\\\nQ3N\\\",\\\"#PARENT#\\\",\\\"L14S\\\\nP18S\\\",\\\"Q77H\\\\nR110H\\\",\\\"#PARENT#\\\",\\\"P82T\\\\nG192S\\\",\\\"#PARENT#\\\",\\\"D37G\\\\nQ77R\\\",\\\"N79D\\\",\\\"#PARENT#\\\",\\\"#PARENT#\\\",\\\"T131A\\\",\\\"#PARENT#\\\",\\\"Q94R\\\\nP163L\\\",\\\"#PARENT#\\\",\\\"#PARENT#\\\",\\\"#PARENT#\\\",\\\"#PARENT#\\\",\\\"I4T\\\\nG61A\\\\nK153E\\\\nK175E\\\",\\\"#PARENT#\\\",\\\"#PARENT#\\\",\\\"#PARENT#\\\",\\\"D98G\\\",\\\"P76T\\\\nR90C\\\",\\\"T99A\\\\nR118H\\\",\\\"#PARENT#\\\",\\\"M1N\\\\nP2A\\\\nQ3N\\\",\\\"#PARENT#\\\",\\\"#PARENT#\\\",\\\"T149A\\\",\\\"#PARENT#\\\",\\\"F73S\\\\nT107I\\\",\\\"5 muts\\\",\\\"M1N\\\\nP2A\\\\nQ3N\\\",\\\"#PARENT#\\\",\\\"Y7C\\\",\\\"#PARENT#\\\",\\\"M1N\\\\nP2A\\\\nQ3N\\\",\\\"T8A\\\\nK123R\\\",\\\"#PARENT#\\\",\\\"M1N\\\\nP2A\\\\nQ3N\\\",\\\"#PARENT#\\\",\\\"#PARENT#\\\",\\\"M1N\\\\nP2A\\\\nQ3N\\\",\\\"#PARENT#\\\",\\\"#PARENT#\\\",\\\"#PARENT#\\\",\\\"#PARENT#\\\",\\\"#PARENT#\\\",\\\"M1N\\\\nP2A\\\\nQ3N\\\",\\\"I115T\\\",\\\"#PARENT#\\\",\\\"Q94R\\\\nY170-\\\\nA176G\\\",\\\"M1N\\\\nP2A\\\\nQ3N\\\",\\\"F194L\\\",\\\"M1I\\\\nN125D\\\",\\\"#PARENT#\\\",\\\"#PARENT#\\\",\\\"E25K\\\",\\\"R168S\\\",\\\"H135R\\\",\\\"#PARENT#\\\",\\\"#PARENT#\\\",\\\"R30C\\\\nA36E\\\\nH121R\\\\nS144F\\\",\\\"#PARENT#\\\",\\\"M1N\\\\nP2A\\\\nQ3N\\\",\\\"#PARENT#\\\",\\\"V130G\\\",\\\"K158R\\\\nG192S\\\",\\\"M1N\\\\nP2A\\\\nQ3N\\\",\\\"E164D\\\",\\\"#PARENT#\\\",\\\"H121R\\\",\\\"#PARENT#\\\",\\\"R30C\\\\nA36E\\\",\\\"#PARENT#\\\",\\\"#PARENT#\\\",\\\"#PARENT#\\\",\\\"#PARENT#\\\",\\\"H120R\\\\nG129S\\\",\\\"R118H\\\\nT151A\\\",\\\"T8S\\\\nL31S\\\\nW33-\\\\nQ112R\\\",\\\"#PARENT#\\\",\\\"#PARENT#\\\"]]]},\\\"cols\\\":[\\\"Column\\\",\\\"Row\\\",\\\"Labels\\\"]},{\\\"kind\\\":\\\"ModelChanged\\\",\\\"model\\\":{\\\"id\\\":\\\"p1487\\\"},\\\"attr\\\":\\\"text\\\",\\\"new\\\":\\\"11\\\"},{\\\"kind\\\":\\\"ModelChanged\\\",\\\"model\\\":{\\\"id\\\":\\\"p1484\\\"},\\\"attr\\\":\\\"above\\\",\\\"new\\\":[{\\\"type\\\":\\\"object\\\",\\\"name\\\":\\\"Legend\\\",\\\"id\\\":\\\"p1541\\\",\\\"attributes\\\":{\\\"location\\\":[0,0],\\\"orientation\\\":\\\"horizontal\\\",\\\"click_policy\\\":\\\"mute\\\",\\\"items\\\":[{\\\"type\\\":\\\"object\\\",\\\"name\\\":\\\"LegendItem\\\",\\\"id\\\":\\\"p1542\\\",\\\"attributes\\\":{\\\"label\\\":{\\\"type\\\":\\\"field\\\",\\\"field\\\":\\\"line_color\\\"},\\\"renderers\\\":[{\\\"id\\\":\\\"p1538\\\"}]}}]}}]}]}\"]]}],[\"10\",{\"type\":\"map\",\"entries\":[[\"header\",\"{\\\"msgid\\\": \\\"p1570\\\", \\\"msgtype\\\": \\\"PATCH-DOC\\\"}\"],[\"metadata\",\"{\\\"use_buffers\\\": false}\"],[\"content\",\"{\\\"events\\\":[{\\\"kind\\\":\\\"ModelChanged\\\",\\\"model\\\":{\\\"id\\\":\\\"p1473\\\"},\\\"attr\\\":\\\"factors\\\",\\\"new\\\":[\\\"1\\\",\\\"2\\\",\\\"3\\\",\\\"4\\\",\\\"5\\\",\\\"6\\\",\\\"7\\\",\\\"8\\\",\\\"9\\\",\\\"10\\\",\\\"11\\\",\\\"12\\\"]},{\\\"kind\\\":\\\"ModelChanged\\\",\\\"model\\\":{\\\"id\\\":\\\"p1511\\\"},\\\"attr\\\":\\\"palette\\\",\\\"new\\\":[\\\"#ee6c51\\\",\\\"#ee6d52\\\",\\\"#ef6f54\\\",\\\"#ef7055\\\",\\\"#ef7157\\\",\\\"#f07358\\\",\\\"#f0745a\\\",\\\"#f1765b\\\",\\\"#f1775d\\\",\\\"#f1785e\\\",\\\"#f27a5f\\\",\\\"#f27b61\\\",\\\"#f27c62\\\",\\\"#f37e64\\\",\\\"#f37f65\\\",\\\"#f38067\\\",\\\"#f48268\\\",\\\"#f4836a\\\",\\\"#f4846b\\\",\\\"#f5866c\\\",\\\"#f5876e\\\",\\\"#f5886f\\\",\\\"#f58a71\\\",\\\"#f68b72\\\",\\\"#f68c74\\\",\\\"#f68d75\\\",\\\"#f78f77\\\",\\\"#f79078\\\",\\\"#f7917a\\\",\\\"#f7937b\\\",\\\"#f8947d\\\",\\\"#f8957e\\\",\\\"#f89780\\\",\\\"#f89881\\\",\\\"#f99983\\\",\\\"#f99a84\\\",\\\"#f99c86\\\",\\\"#f99d87\\\",\\\"#f99e89\\\",\\\"#faa08a\\\",\\\"#faa18c\\\",\\\"#faa28d\\\",\\\"#faa38f\\\",\\\"#faa590\\\",\\\"#fba692\\\",\\\"#fba793\\\",\\\"#fba995\\\",\\\"#fbaa96\\\",\\\"#fbab98\\\",\\\"#fbac99\\\",\\\"#fcae9b\\\",\\\"#fcaf9c\\\",\\\"#fcb09e\\\",\\\"#fcb19f\\\",\\\"#fcb3a1\\\",\\\"#fcb4a2\\\",\\\"#fcb5a4\\\",\\\"#fcb7a5\\\",\\\"#fdb8a7\\\",\\\"#fdb9a8\\\",\\\"#fdbaaa\\\",\\\"#fdbcac\\\",\\\"#fdbdad\\\",\\\"#fdbeaf\\\",\\\"#fdbfb0\\\",\\\"#fdc1b2\\\",\\\"#fdc2b3\\\",\\\"#fdc3b5\\\",\\\"#fdc4b6\\\",\\\"#fdc6b8\\\",\\\"#fdc7ba\\\",\\\"#fdc8bb\\\",\\\"#fdcabd\\\",\\\"#fdcbbe\\\",\\\"#fdccc0\\\",\\\"#fdcdc1\\\",\\\"#fdcfc3\\\",\\\"#fdd0c5\\\",\\\"#fdd1c6\\\",\\\"#fdd2c8\\\",\\\"#fdd4c9\\\",\\\"#fdd5cb\\\",\\\"#fdd6cc\\\",\\\"#fdd7ce\\\",\\\"#fdd9d0\\\",\\\"#fddad1\\\",\\\"#fddbd3\\\",\\\"#fddcd4\\\",\\\"#fdded6\\\",\\\"#fcdfd8\\\",\\\"#fce0d9\\\",\\\"#fce1db\\\",\\\"#fce3dc\\\",\\\"#fce4de\\\",\\\"#fce5e0\\\",\\\"#fce7e1\\\",\\\"#fce8e3\\\",\\\"#fbe9e5\\\",\\\"#fbeae6\\\",\\\"#fbece8\\\",\\\"#fbede9\\\",\\\"#fbeeeb\\\",\\\"#faefed\\\",\\\"#faf1ee\\\",\\\"#faf2f0\\\",\\\"#faf3f2\\\",\\\"#f9f4f3\\\",\\\"#f9f5f5\\\",\\\"#f8f6f6\\\",\\\"#f7f6f7\\\",\\\"#f6f6f8\\\",\\\"#f5f5f9\\\",\\\"#f4f4f9\\\",\\\"#f3f3f9\\\",\\\"#f1f2f9\\\",\\\"#f0f1f9\\\",\\\"#eff0f9\\\",\\\"#eeeffa\\\",\\\"#edeefa\\\",\\\"#ecedfa\\\",\\\"#eaecfa\\\",\\\"#e9ebfa\\\",\\\"#e8eafa\\\",\\\"#e7e9fa\\\",\\\"#e6e8fa\\\",\\\"#e5e7fa\\\",\\\"#e3e6fa\\\",\\\"#e2e5fa\\\",\\\"#e1e4fa\\\",\\\"#e0e3fa\\\",\\\"#dfe2fb\\\",\\\"#dde1fb\\\",\\\"#dce0fb\\\",\\\"#dbdffb\\\",\\\"#dadefb\\\",\\\"#d9ddfb\\\",\\\"#d7dcfb\\\",\\\"#d6dbfb\\\",\\\"#d5dafb\\\",\\\"#d4d9fb\\\",\\\"#d3d8fb\\\",\\\"#d1d7fb\\\",\\\"#d0d6fb\\\",\\\"#cfd5fb\\\",\\\"#ced4fb\\\",\\\"#cdd3fc\\\",\\\"#cbd2fc\\\",\\\"#cad1fc\\\",\\\"#c9d0fc\\\",\\\"#c8cffc\\\",\\\"#c6cefc\\\",\\\"#c5cdfc\\\",\\\"#c4ccfc\\\",\\\"#c3cbfc\\\",\\\"#c1cafc\\\",\\\"#c0c9fc\\\",\\\"#bfc8fc\\\",\\\"#bdc7fc\\\",\\\"#bcc7fc\\\",\\\"#bbc6fc\\\",\\\"#bac5fc\\\",\\\"#b8c4fc\\\",\\\"#b7c3fc\\\",\\\"#b6c2fc\\\",\\\"#b4c1fd\\\",\\\"#b3c0fd\\\",\\\"#b2bffd\\\",\\\"#b0befd\\\",\\\"#afbdfd\\\",\\\"#aebcfd\\\",\\\"#acbbfd\\\",\\\"#abbafd\\\",\\\"#aab9fd\\\",\\\"#a8b8fd\\\",\\\"#a7b7fd\\\",\\\"#a5b6fd\\\",\\\"#a4b5fd\\\",\\\"#a3b4fd\\\",\\\"#a1b3fd\\\",\\\"#a0b2fd\\\",\\\"#9eb2fd\\\",\\\"#9db1fd\\\",\\\"#9bb0fd\\\",\\\"#9aaffd\\\",\\\"#99aefd\\\",\\\"#97adfd\\\",\\\"#96acfd\\\",\\\"#94abfd\\\",\\\"#93aafd\\\",\\\"#91a9fd\\\",\\\"#90a8fd\\\",\\\"#8ea7fd\\\",\\\"#8ca6fd\\\",\\\"#8ba5fe\\\",\\\"#89a4fe\\\",\\\"#88a4fe\\\",\\\"#86a3fe\\\",\\\"#84a2fe\\\",\\\"#83a1fe\\\",\\\"#81a0fe\\\",\\\"#809ffe\\\",\\\"#7e9efe\\\",\\\"#7c9dfe\\\",\\\"#7a9cfe\\\",\\\"#799bfe\\\",\\\"#779afe\\\",\\\"#759afe\\\",\\\"#7399fe\\\",\\\"#7198fe\\\",\\\"#7097fe\\\",\\\"#6e96fe\\\",\\\"#6c95fe\\\",\\\"#6a94fe\\\",\\\"#6893fe\\\",\\\"#6692fe\\\",\\\"#6491fe\\\",\\\"#6291fe\\\",\\\"#5f90fe\\\",\\\"#5d8ffe\\\",\\\"#5b8efe\\\",\\\"#598dfe\\\",\\\"#568cfe\\\",\\\"#548bfe\\\",\\\"#518afe\\\",\\\"#4f8afe\\\",\\\"#4c89fe\\\",\\\"#4988fe\\\",\\\"#4787fe\\\",\\\"#4486fe\\\",\\\"#4085fe\\\",\\\"#3d84fe\\\",\\\"#3a83fe\\\",\\\"#3683fe\\\",\\\"#3282fe\\\",\\\"#2e81fe\\\"]},{\\\"kind\\\":\\\"ColumnDataChanged\\\",\\\"model\\\":{\\\"id\\\":\\\"p1512\\\"},\\\"attr\\\":\\\"data\\\",\\\"data\\\":{\\\"type\\\":\\\"map\\\",\\\"entries\\\":[[\\\"Mutations\\\",[\\\"M1N_P2A_Q3N\\\",\\\"#PARENT#\\\",\\\"H66Y_F194L\\\",\\\"M169V\\\",\\\"T149A\\\",\\\"T131A\\\",\\\"#PARENT#\\\",\\\"M1N_P2A_Q3N\\\",\\\"Q180E\\\",\\\"D128G\\\",\\\"#PARENT#\\\",\\\"Q43R\\\",\\\"M1N_P2A_Q3N\\\",\\\"H66R_F194S\\\",\\\"V55E\\\",\\\"#PARENT#\\\",\\\"I115M\\\",\\\"#PARENT#\\\",\\\"R30C_A36E_H121R_S144F\\\",\\\"#PARENT#\\\",\\\"#PARENT#\\\",\\\"Q171L_L183P\\\",\\\"#PARENT#\\\",\\\"I152V\\\",\\\"#PARENT#\\\",\\\"D105E_Q171R\\\",\\\"I4V_G192S\\\",\\\"#PARENT#\\\",\\\"#PARENT#\\\",\\\"#PARENT#\\\",\\\"#PARENT#\\\",\\\"#PARENT#\\\",\\\"#PARENT#\\\",\\\"#PARENT#\\\",\\\"#PARENT#\\\",\\\"#PARENT#\\\",\\\"S143R_F194L\\\",\\\"M169L_V177F\\\",\\\"K46I\\\",\\\"L195H\\\",\\\"S143G\\\",\\\"#PARENT#\\\",\\\"#PARENT#\\\",\\\"#PARENT#\\\",\\\"#PARENT#\\\",\\\"Y84C\\\",\\\"#PARENT#\\\",\\\"I96V\\\",\\\"Y186C\\\",\\\"M1N_P2A_Q3N\\\",\\\"#PARENT#\\\",\\\"#PARENT#\\\",\\\"#PARENT#\\\",\\\"Q60R_P67S_Y146H\\\",\\\"#PARENT#\\\",\\\"#PARENT#\\\",\\\"Y7C\\\",\\\"#PARENT#\\\",\\\"#PARENT#\\\",\\\"A36E_S144F\\\",\\\"#PARENT#\\\",\\\"V52A\\\",\\\"L56S\\\",\\\"#PARENT#\\\",\\\"#PARENT#\\\",\\\"#PARENT#\\\",\\\"#PARENT#\\\",\\\"#PARENT#\\\",\\\"#PARENT#\\\",\\\"#PARENT#\\\",\\\"T34M\\\",\\\"E25G\\\",\\\"#PARENT#\\\",\\\"M1N_P2A_Q3N\\\",\\\"#PARENT#\\\",\\\"#PARENT#\\\",\\\"#PARENT#\\\",\\\"L48S_H202R\\\",\\\"#PARENT#\\\",\\\"#PARENT#\\\",\\\"#PARENT#\\\",\\\"#PARENT#\\\",\\\"#PARENT#\\\",\\\"P82H_Y186H\\\",\\\"#PARENT#\\\",\\\"N79S\\\",\\\"T151I\\\",\\\"#PARENT#\\\",\\\"W184R\\\",\\\"#PARENT#\\\",\\\"#PARENT#\\\",\\\"#PARENT#\\\",\\\"#PARENT#\\\",\\\"H71R\\\",\\\"D50G_S132P_W184R\\\",\\\"F92S\\\"]],[\\\"Row\\\",[\\\"A\\\",\\\"B\\\",\\\"C\\\",\\\"D\\\",\\\"E\\\",\\\"F\\\",\\\"G\\\",\\\"H\\\",\\\"A\\\",\\\"B\\\",\\\"C\\\",\\\"D\\\",\\\"E\\\",\\\"F\\\",\\\"G\\\",\\\"H\\\",\\\"A\\\",\\\"B\\\",\\\"C\\\",\\\"D\\\",\\\"E\\\",\\\"F\\\",\\\"G\\\",\\\"H\\\",\\\"A\\\",\\\"B\\\",\\\"C\\\",\\\"D\\\",\\\"E\\\",\\\"F\\\",\\\"G\\\",\\\"H\\\",\\\"A\\\",\\\"B\\\",\\\"C\\\",\\\"D\\\",\\\"E\\\",\\\"F\\\",\\\"G\\\",\\\"H\\\",\\\"A\\\",\\\"B\\\",\\\"C\\\",\\\"D\\\",\\\"E\\\",\\\"F\\\",\\\"G\\\",\\\"H\\\",\\\"A\\\",\\\"B\\\",\\\"C\\\",\\\"D\\\",\\\"E\\\",\\\"F\\\",\\\"G\\\",\\\"H\\\",\\\"A\\\",\\\"B\\\",\\\"C\\\",\\\"D\\\",\\\"E\\\",\\\"F\\\",\\\"G\\\",\\\"H\\\",\\\"A\\\",\\\"B\\\",\\\"C\\\",\\\"D\\\",\\\"E\\\",\\\"F\\\",\\\"G\\\",\\\"H\\\",\\\"A\\\",\\\"B\\\",\\\"C\\\",\\\"D\\\",\\\"E\\\",\\\"F\\\",\\\"G\\\",\\\"H\\\",\\\"A\\\",\\\"B\\\",\\\"C\\\",\\\"D\\\",\\\"E\\\",\\\"F\\\",\\\"G\\\",\\\"H\\\",\\\"A\\\",\\\"B\\\",\\\"C\\\",\\\"D\\\",\\\"E\\\",\\\"F\\\",\\\"G\\\",\\\"H\\\"]],[\\\"Column\\\",[\\\"1\\\",\\\"1\\\",\\\"1\\\",\\\"1\\\",\\\"1\\\",\\\"1\\\",\\\"1\\\",\\\"1\\\",\\\"10\\\",\\\"10\\\",\\\"10\\\",\\\"10\\\",\\\"10\\\",\\\"10\\\",\\\"10\\\",\\\"10\\\",\\\"11\\\",\\\"11\\\",\\\"11\\\",\\\"11\\\",\\\"11\\\",\\\"11\\\",\\\"11\\\",\\\"11\\\",\\\"12\\\",\\\"12\\\",\\\"12\\\",\\\"12\\\",\\\"12\\\",\\\"12\\\",\\\"12\\\",\\\"12\\\",\\\"2\\\",\\\"2\\\",\\\"2\\\",\\\"2\\\",\\\"2\\\",\\\"2\\\",\\\"2\\\",\\\"2\\\",\\\"3\\\",\\\"3\\\",\\\"3\\\",\\\"3\\\",\\\"3\\\",\\\"3\\\",\\\"3\\\",\\\"3\\\",\\\"4\\\",\\\"4\\\",\\\"4\\\",\\\"4\\\",\\\"4\\\",\\\"4\\\",\\\"4\\\",\\\"4\\\",\\\"5\\\",\\\"5\\\",\\\"5\\\",\\\"5\\\",\\\"5\\\",\\\"5\\\",\\\"5\\\",\\\"5\\\",\\\"6\\\",\\\"6\\\",\\\"6\\\",\\\"6\\\",\\\"6\\\",\\\"6\\\",\\\"6\\\",\\\"6\\\",\\\"7\\\",\\\"7\\\",\\\"7\\\",\\\"7\\\",\\\"7\\\",\\\"7\\\",\\\"7\\\",\\\"7\\\",\\\"8\\\",\\\"8\\\",\\\"8\\\",\\\"8\\\",\\\"8\\\",\\\"8\\\",\\\"8\\\",\\\"8\\\",\\\"9\\\",\\\"9\\\",\\\"9\\\",\\\"9\\\",\\\"9\\\",\\\"9\\\",\\\"9\\\",\\\"9\\\"]],[\\\"Alignment_Probability\\\",[\\\"0\\\",\\\"0.75231\\\",\\\"0.8998\\\",\\\"0.97822\\\",\\\"0.77358\\\",\\\"0.44013\\\",\\\"0.099104\\\",\\\"0\\\",\\\"0.76157\\\",\\\"0.54384\\\",\\\"0.98288\\\",\\\"0.64402\\\",\\\"0\\\",\\\"0.6854\\\",\\\"0.95505\\\",\\\"0.52991\\\",\\\"0.95578\\\",\\\"0.4152\\\",\\\"0.56747\\\",\\\"0.90309\\\",\\\"0.62107\\\",\\\"0.24573\\\",\\\"0.53909\\\",\\\"0.5262\\\",\\\"0.91\\\",\\\"0.45016\\\",\\\"0.84718\\\",\\\"0.90475\\\",\\\"0.23448\\\",\\\"0.50444\\\",\\\"0.88213\\\",\\\"0.90491\\\",\\\"0.73722\\\",\\\"0.40531\\\",\\\"0.76785\\\",\\\"0.97153\\\",\\\"0.75802\\\",\\\"0.88151\\\",\\\"0.073571\\\",\\\"0.52782\\\",\\\"0.83833\\\",\\\"0.94999\\\",\\\"0.90296\\\",\\\"0.76444\\\",\\\"0.41068\\\",\\\"0.74041\\\",\\\"0.61841\\\",\\\"0.7266\\\",\\\"0.78063\\\",\\\"0\\\",\\\"0.069136\\\",\\\"0.56701\\\",\\\"0.2839\\\",\\\"0.91443\\\",\\\"0.54407\\\",\\\"1\\\",\\\"0.52662\\\",\\\"0.97665\\\",\\\"0.78236\\\",\\\"0.014171\\\",\\\"0.35033\\\",\\\"0.94046\\\",\\\"0.62832\\\",\\\"0.064098\\\",\\\"0.78704\\\",\\\"0.89419\\\",\\\"0.679\\\",\\\"0.043838\\\",\\\"0.52967\\\",\\\"0.47037\\\",\\\"0.35803\\\",\\\"0.63823\\\",\\\"0.90126\\\",\\\"0\\\",\\\"0.65785\\\",\\\"0.72819\\\",\\\"0.86621\\\",\\\"0.89889\\\",\\\"0.30417\\\",\\\"0.98123\\\",\\\"0.94545\\\",\\\"1\\\",\\\"0.56756\\\",\\\"0.65151\\\",\\\"0.90386\\\",\\\"0.94648\\\",\\\"0.96263\\\",\\\"0.52702\\\",\\\"0.28501\\\",\\\"0.91148\\\",\\\"0.68918\\\",\\\"0.46858\\\",\\\"0.26196\\\",\\\"0.98019\\\",\\\"0.23023\\\",\\\"0.69416\\\"]],[\\\"Alignment_Count\\\",[\\\"0\\\",\\\"27\\\",\\\"53\\\",\\\"49\\\",\\\"39\\\",\\\"78\\\",\\\"14\\\",\\\"0\\\",\\\"38\\\",\\\"54\\\",\\\"56\\\",\\\"59\\\",\\\"4\\\",\\\"93\\\",\\\"24\\\",\\\"49\\\",\\\"48\\\",\\\"28\\\",\\\"69\\\",\\\"49\\\",\\\"32\\\",\\\"11\\\",\\\"51\\\",\\\"48\\\",\\\"57\\\",\\\"25\\\",\\\"50\\\",\\\"54\\\",\\\"10\\\",\\\"31\\\",\\\"64\\\",\\\"25\\\",\\\"43\\\",\\\"27\\\",\\\"51\\\",\\\"37\\\",\\\"55\\\",\\\"37\\\",\\\"20\\\",\\\"59\\\",\\\"61\\\",\\\"39\\\",\\\"25\\\",\\\"21\\\",\\\"33\\\",\\\"39\\\",\\\"35\\\",\\\"29\\\",\\\"41\\\",\\\"0\\\",\\\"17\\\",\\\"35\\\",\\\"21\\\",\\\"61\\\",\\\"56\\\",\\\"18\\\",\\\"74\\\",\\\"43\\\",\\\"57\\\",\\\"18\\\",\\\"10\\\",\\\"27\\\",\\\"15\\\",\\\"11\\\",\\\"71\\\",\\\"25\\\",\\\"37\\\",\\\"21\\\",\\\"6\\\",\\\"13\\\",\\\"28\\\",\\\"50\\\",\\\"144\\\",\\\"0\\\",\\\"23\\\",\\\"106\\\",\\\"64\\\",\\\"66\\\",\\\"19\\\",\\\"70\\\",\\\"85\\\",\\\"41\\\",\\\"58\\\",\\\"125\\\",\\\"89\\\",\\\"133\\\",\\\"99\\\",\\\"42\\\",\\\"13\\\",\\\"45\\\",\\\"20\\\",\\\"41\\\",\\\"13\\\",\\\"93\\\",\\\"15\\\",\\\"71\\\"]],[\\\"zvalues\\\",{\\\"type\\\":\\\"ndarray\\\",\\\"array\\\":{\\\"type\\\":\\\"bytes\\\",\\\"data\\\":\\\"AAAAAAAAAACQhAO4310KQKs8Imgoww9AV1oyrnIiD0DWDYho+U4NQClOIxRFbRFAp7vXFsocBUAAAAAAAAAAAKhBw8XGGQ1ADBPCd3DpD0BQbCrL9RkQQHkpx/llTxBA7zn6/kIu9j9w1vPCYSESQPksknynbAlAV1oyrnIiD0B1u1A8OPgOQCNKltZaqApAuxqUnbnvEEBXWjKuciIPQGvIuL7TuQtATDd/t+MuA0D/AFH/YHQPQHW7UDw4+A5AWZqtoRUsEEAzje33QcAJQK8brLfSSw9ADBPCd3DpD0AWVbW7sWsCQForkUjOeAtAc6s7P7KiEEAzje33QcAJQBHsFBbwFg5AkIQDuN9dCkD/AFH/YHQPQL3HOu4o4wxA8/66WYIHEEC9xzruKOMMQJHjc3tC9wdAeSnH+WVPEEANbBLriHEQQNYNiGj5Tg1AM43t90HACUCxrm+ULlsIQNG41fTY+AtA1g2IaPlODUDF8w9TWnEMQB/+zcs48ApATqyORWW1DUAAAAAAAAAAAHp/+sFrqgZAxfMPU1pxDECxrm+ULlsIQA1sEuuIcRBAUGwqy/UZEECGkWs6ex8HQB2r/NZcNxFAEewUFvAWDkBZmq2hFSwQQIaRazp7HwdAFlW1u7FrAkCQhAO4310KQB9ITTkWqgVATDd/t+MuA0DJ1iT0+wwRQDON7fdBwAlAvcc67ijjDECxrm+ULlsIQAIgKvoLq/w/UYwxKwSFBEAjSpbWWqgKQK8brLfSSw9AfZ7TvBbhE0AAAAAAAAAAAPCz0f19FQlAk2Xwk1ynEkBzqzs/sqIQQKYjSto0whBALLMEBjaOB0AhQWeJdf4QQAqj+F5GxRFATqyORWW1DUBNRsbF5D0QQOcp8nkxUBNA9oquF130EUAs8I6ut48TQCsdFhlnYRJALT0uVL/mDUBRjDErBIUEQKTJo3YLdA5AkeNze0L3B0BOrI5FZbUNQFGMMSsEhQRAcNbzwmEhEkAfSE05FqoFQMnWJPT7DBFA\\\"},\\\"shape\\\":[96],\\\"dtype\\\":\\\"float64\\\",\\\"order\\\":\\\"little\\\"}],[\\\"logseqdepth\\\",[\\\"0\\\",\\\"3.2958\\\",\\\"3.9703\\\",\\\"3.8918\\\",\\\"3.6636\\\",\\\"4.3567\\\",\\\"2.6391\\\",\\\"0\\\",\\\"3.6376\\\",\\\"3.989\\\",\\\"4.0254\\\",\\\"4.0775\\\",\\\"1.3863\\\",\\\"4.5326\\\",\\\"3.1781\\\",\\\"3.8918\\\",\\\"3.8712\\\",\\\"3.3322\\\",\\\"4.2341\\\",\\\"3.8918\\\",\\\"3.4657\\\",\\\"2.3979\\\",\\\"3.9318\\\",\\\"3.8712\\\",\\\"4.0431\\\",\\\"3.2189\\\",\\\"3.912\\\",\\\"3.989\\\",\\\"2.3026\\\",\\\"3.434\\\",\\\"4.1589\\\",\\\"3.2189\\\",\\\"3.7612\\\",\\\"3.2958\\\",\\\"3.9318\\\",\\\"3.6109\\\",\\\"4.0073\\\",\\\"3.6109\\\",\\\"2.9957\\\",\\\"4.0775\\\",\\\"4.1109\\\",\\\"3.6636\\\",\\\"3.2189\\\",\\\"3.0445\\\",\\\"3.4965\\\",\\\"3.6636\\\",\\\"3.5553\\\",\\\"3.3673\\\",\\\"3.7136\\\",\\\"0\\\",\\\"2.8332\\\",\\\"3.5553\\\",\\\"3.0445\\\",\\\"4.1109\\\",\\\"4.0254\\\",\\\"2.8904\\\",\\\"4.3041\\\",\\\"3.7612\\\",\\\"4.0431\\\",\\\"2.8904\\\",\\\"2.3026\\\",\\\"3.2958\\\",\\\"2.7081\\\",\\\"2.3979\\\",\\\"4.2627\\\",\\\"3.2189\\\",\\\"3.6109\\\",\\\"3.0445\\\",\\\"1.7918\\\",\\\"2.5649\\\",\\\"3.3322\\\",\\\"3.912\\\",\\\"4.9698\\\",\\\"0\\\",\\\"3.1355\\\",\\\"4.6634\\\",\\\"4.1589\\\",\\\"4.1897\\\",\\\"2.9444\\\",\\\"4.2485\\\",\\\"4.4427\\\",\\\"3.7136\\\",\\\"4.0604\\\",\\\"4.8283\\\",\\\"4.4886\\\",\\\"4.8903\\\",\\\"4.5951\\\",\\\"3.7377\\\",\\\"2.5649\\\",\\\"3.8067\\\",\\\"2.9957\\\",\\\"3.7136\\\",\\\"2.5649\\\",\\\"4.5326\\\",\\\"2.7081\\\",\\\"4.2627\\\"]]]},\\\"cols\\\":[\\\"Mutations\\\",\\\"Row\\\",\\\"Column\\\",\\\"Alignment_Probability\\\",\\\"Alignment_Count\\\",\\\"zvalues\\\",\\\"logseqdepth\\\"]},{\\\"kind\\\":\\\"ColumnDataChanged\\\",\\\"model\\\":{\\\"id\\\":\\\"p1512\\\"},\\\"attr\\\":\\\"data\\\",\\\"data\\\":{\\\"type\\\":\\\"map\\\",\\\"entries\\\":[[\\\"Column\\\",[\\\"1\\\",\\\"1\\\",\\\"1\\\",\\\"1\\\",\\\"1\\\",\\\"1\\\",\\\"1\\\",\\\"1\\\",\\\"10\\\",\\\"10\\\",\\\"10\\\",\\\"10\\\",\\\"10\\\",\\\"10\\\",\\\"10\\\",\\\"10\\\",\\\"11\\\",\\\"11\\\",\\\"11\\\",\\\"11\\\",\\\"11\\\",\\\"11\\\",\\\"11\\\",\\\"11\\\",\\\"12\\\",\\\"12\\\",\\\"12\\\",\\\"12\\\",\\\"12\\\",\\\"12\\\",\\\"12\\\",\\\"12\\\",\\\"2\\\",\\\"2\\\",\\\"2\\\",\\\"2\\\",\\\"2\\\",\\\"2\\\",\\\"2\\\",\\\"2\\\",\\\"3\\\",\\\"3\\\",\\\"3\\\",\\\"3\\\",\\\"3\\\",\\\"3\\\",\\\"3\\\",\\\"3\\\",\\\"4\\\",\\\"4\\\",\\\"4\\\",\\\"4\\\",\\\"4\\\",\\\"4\\\",\\\"4\\\",\\\"4\\\",\\\"5\\\",\\\"5\\\",\\\"5\\\",\\\"5\\\",\\\"5\\\",\\\"5\\\",\\\"5\\\",\\\"5\\\",\\\"6\\\",\\\"6\\\",\\\"6\\\",\\\"6\\\",\\\"6\\\",\\\"6\\\",\\\"6\\\",\\\"6\\\",\\\"7\\\",\\\"7\\\",\\\"7\\\",\\\"7\\\",\\\"7\\\",\\\"7\\\",\\\"7\\\",\\\"7\\\",\\\"8\\\",\\\"8\\\",\\\"8\\\",\\\"8\\\",\\\"8\\\",\\\"8\\\",\\\"8\\\",\\\"8\\\",\\\"9\\\",\\\"9\\\",\\\"9\\\",\\\"9\\\",\\\"9\\\",\\\"9\\\",\\\"9\\\",\\\"9\\\"]]]},\\\"cols\\\":[\\\"Column\\\"]},{\\\"kind\\\":\\\"ColumnDataChanged\\\",\\\"model\\\":{\\\"id\\\":\\\"p1512\\\"},\\\"attr\\\":\\\"data\\\",\\\"data\\\":{\\\"type\\\":\\\"map\\\",\\\"entries\\\":[[\\\"Row\\\",[\\\"A\\\",\\\"B\\\",\\\"C\\\",\\\"D\\\",\\\"E\\\",\\\"F\\\",\\\"G\\\",\\\"H\\\",\\\"A\\\",\\\"B\\\",\\\"C\\\",\\\"D\\\",\\\"E\\\",\\\"F\\\",\\\"G\\\",\\\"H\\\",\\\"A\\\",\\\"B\\\",\\\"C\\\",\\\"D\\\",\\\"E\\\",\\\"F\\\",\\\"G\\\",\\\"H\\\",\\\"A\\\",\\\"B\\\",\\\"C\\\",\\\"D\\\",\\\"E\\\",\\\"F\\\",\\\"G\\\",\\\"H\\\",\\\"A\\\",\\\"B\\\",\\\"C\\\",\\\"D\\\",\\\"E\\\",\\\"F\\\",\\\"G\\\",\\\"H\\\",\\\"A\\\",\\\"B\\\",\\\"C\\\",\\\"D\\\",\\\"E\\\",\\\"F\\\",\\\"G\\\",\\\"H\\\",\\\"A\\\",\\\"B\\\",\\\"C\\\",\\\"D\\\",\\\"E\\\",\\\"F\\\",\\\"G\\\",\\\"H\\\",\\\"A\\\",\\\"B\\\",\\\"C\\\",\\\"D\\\",\\\"E\\\",\\\"F\\\",\\\"G\\\",\\\"H\\\",\\\"A\\\",\\\"B\\\",\\\"C\\\",\\\"D\\\",\\\"E\\\",\\\"F\\\",\\\"G\\\",\\\"H\\\",\\\"A\\\",\\\"B\\\",\\\"C\\\",\\\"D\\\",\\\"E\\\",\\\"F\\\",\\\"G\\\",\\\"H\\\",\\\"A\\\",\\\"B\\\",\\\"C\\\",\\\"D\\\",\\\"E\\\",\\\"F\\\",\\\"G\\\",\\\"H\\\",\\\"A\\\",\\\"B\\\",\\\"C\\\",\\\"D\\\",\\\"E\\\",\\\"F\\\",\\\"G\\\",\\\"H\\\"]]]},\\\"cols\\\":[\\\"Row\\\"]},{\\\"kind\\\":\\\"ColumnDataChanged\\\",\\\"model\\\":{\\\"id\\\":\\\"p1529\\\"},\\\"attr\\\":\\\"data\\\",\\\"data\\\":{\\\"type\\\":\\\"map\\\",\\\"entries\\\":[[\\\"line_color\\\",[\\\"0.95+\\\",\\\"0.95+\\\",\\\"0.95+\\\",\\\"0.95+\\\",\\\"0.95+\\\",\\\"0.95+\\\",\\\"0.95+\\\",\\\"0.95+\\\",\\\"0.95+\\\",\\\"0.95+\\\",\\\"0.95+\\\",\\\"0.90-0.95\\\",\\\"0.90-0.95\\\",\\\"0.90-0.95\\\",\\\"0.90-0.95\\\",\\\"0.90-0.95\\\",\\\"0.90-0.95\\\",\\\"0.90-0.95\\\",\\\"0.90-0.95\\\",\\\"0.90-0.95\\\",\\\"0.90-0.95\\\",\\\"0.90-0.95\\\",\\\"0.90-0.95\\\",\\\"0.90-0.95\\\",\\\"0.80-0.90\\\",\\\"0.80-0.90\\\",\\\"0.80-0.90\\\",\\\"0.80-0.90\\\",\\\"0.80-0.90\\\",\\\"0.80-0.90\\\",\\\"0.80-0.90\\\",\\\"0.80-0.90\\\",\\\"<0.80\\\",\\\"<0.80\\\",\\\"<0.80\\\",\\\"<0.80\\\",\\\"<0.80\\\",\\\"<0.80\\\",\\\"<0.80\\\",\\\"<0.80\\\",\\\"<0.80\\\",\\\"<0.80\\\",\\\"<0.80\\\",\\\"<0.80\\\",\\\"<0.80\\\",\\\"<0.80\\\",\\\"<0.80\\\",\\\"<0.80\\\",\\\"<0.80\\\",\\\"<0.80\\\",\\\"<0.80\\\",\\\"<0.80\\\",\\\"<0.80\\\",\\\"<0.80\\\",\\\"<0.80\\\",\\\"<0.80\\\",\\\"<0.80\\\",\\\"<0.80\\\",\\\"<0.80\\\",\\\"<0.80\\\",\\\"<0.80\\\",\\\"<0.80\\\",\\\"<0.80\\\",\\\"<0.80\\\",\\\"<0.80\\\",\\\"<0.80\\\",\\\"<0.80\\\",\\\"<0.80\\\",\\\"<0.80\\\",\\\"<0.80\\\",\\\"<0.80\\\",\\\"<0.80\\\",\\\"<0.80\\\",\\\"<0.80\\\",\\\"<0.80\\\",\\\"<0.80\\\",\\\"<0.80\\\",\\\"<0.80\\\",\\\"<0.80\\\",\\\"<0.80\\\",\\\"<0.80\\\",\\\"<0.80\\\",\\\"<0.80\\\",\\\"<0.80\\\",\\\"<0.80\\\",\\\"<0.80\\\",\\\"<0.80\\\",\\\"<0.80\\\",\\\"<0.80\\\",\\\"<0.80\\\",\\\"<0.80\\\",\\\"<0.80\\\",\\\"<0.80\\\",\\\"<0.80\\\",\\\"<0.80\\\",\\\"<0.80\\\"]],[\\\"Column\\\",[\\\"4\\\",\\\"8\\\",\\\"10\\\",\\\"7\\\",\\\"9\\\",\\\"1\\\",\\\"5\\\",\\\"2\\\",\\\"8\\\",\\\"11\\\",\\\"10\\\",\\\"3\\\",\\\"8\\\",\\\"8\\\",\\\"5\\\",\\\"4\\\",\\\"9\\\",\\\"12\\\",\\\"12\\\",\\\"12\\\",\\\"8\\\",\\\"11\\\",\\\"3\\\",\\\"7\\\",\\\"1\\\",\\\"7\\\",\\\"6\\\",\\\"12\\\",\\\"2\\\",\\\"7\\\",\\\"12\\\",\\\"3\\\",\\\"6\\\",\\\"5\\\",\\\"4\\\",\\\"1\\\",\\\"2\\\",\\\"3\\\",\\\"10\\\",\\\"2\\\",\\\"1\\\",\\\"3\\\",\\\"2\\\",\\\"7\\\",\\\"3\\\",\\\"9\\\",\\\"9\\\",\\\"10\\\",\\\"6\\\",\\\"7\\\",\\\"8\\\",\\\"10\\\",\\\"6\\\",\\\"5\\\",\\\"11\\\",\\\"3\\\",\\\"8\\\",\\\"11\\\",\\\"4\\\",\\\"4\\\",\\\"10\\\",\\\"11\\\",\\\"10\\\",\\\"6\\\",\\\"2\\\",\\\"8\\\",\\\"5\\\",\\\"11\\\",\\\"12\\\",\\\"6\\\",\\\"9\\\",\\\"12\\\",\\\"1\\\",\\\"11\\\",\\\"3\\\",\\\"2\\\",\\\"6\\\",\\\"5\\\",\\\"7\\\",\\\"9\\\",\\\"4\\\",\\\"9\\\",\\\"11\\\",\\\"12\\\",\\\"9\\\",\\\"1\\\",\\\"2\\\",\\\"4\\\",\\\"5\\\",\\\"6\\\",\\\"5\\\",\\\"10\\\",\\\"1\\\",\\\"4\\\",\\\"7\\\",\\\"1\\\"]],[\\\"Row\\\",[\\\"H\\\",\\\"B\\\",\\\"C\\\",\\\"H\\\",\\\"F\\\",\\\"D\\\",\\\"B\\\",\\\"D\\\",\\\"G\\\",\\\"A\\\",\\\"G\\\",\\\"B\\\",\\\"F\\\",\\\"A\\\",\\\"F\\\",\\\"F\\\",\\\"B\\\",\\\"A\\\",\\\"H\\\",\\\"D\\\",\\\"E\\\",\\\"D\\\",\\\"C\\\",\\\"A\\\",\\\"C\\\",\\\"F\\\",\\\"B\\\",\\\"G\\\",\\\"F\\\",\\\"E\\\",\\\"C\\\",\\\"A\\\",\\\"A\\\",\\\"C\\\",\\\"A\\\",\\\"E\\\",\\\"C\\\",\\\"D\\\",\\\"A\\\",\\\"E\\\",\\\"B\\\",\\\"F\\\",\\\"A\\\",\\\"D\\\",\\\"H\\\",\\\"H\\\",\\\"C\\\",\\\"F\\\",\\\"C\\\",\\\"C\\\",\\\"D\\\",\\\"D\\\",\\\"H\\\",\\\"G\\\",\\\"E\\\",\\\"G\\\",\\\"C\\\",\\\"C\\\",\\\"D\\\",\\\"G\\\",\\\"B\\\",\\\"G\\\",\\\"H\\\",\\\"E\\\",\\\"H\\\",\\\"H\\\",\\\"A\\\",\\\"H\\\",\\\"F\\\",\\\"F\\\",\\\"D\\\",\\\"B\\\",\\\"F\\\",\\\"B\\\",\\\"E\\\",\\\"B\\\",\\\"G\\\",\\\"E\\\",\\\"G\\\",\\\"A\\\",\\\"E\\\",\\\"E\\\",\\\"F\\\",\\\"E\\\",\\\"G\\\",\\\"G\\\",\\\"G\\\",\\\"C\\\",\\\"H\\\",\\\"D\\\",\\\"D\\\",\\\"E\\\",\\\"H\\\",\\\"B\\\",\\\"B\\\",\\\"A\\\"]]]},\\\"cols\\\":[\\\"line_color\\\",\\\"Column\\\",\\\"Row\\\"]},{\\\"kind\\\":\\\"ColumnDataChanged\\\",\\\"model\\\":{\\\"id\\\":\\\"p1529\\\"},\\\"attr\\\":\\\"data\\\",\\\"data\\\":{\\\"type\\\":\\\"map\\\",\\\"entries\\\":[[\\\"line_color\\\",[\\\"0.95+\\\",\\\"0.95+\\\",\\\"0.95+\\\",\\\"0.95+\\\",\\\"0.95+\\\",\\\"0.95+\\\",\\\"0.95+\\\",\\\"0.95+\\\",\\\"0.95+\\\",\\\"0.95+\\\",\\\"0.95+\\\",\\\"0.90-0.95\\\",\\\"0.90-0.95\\\",\\\"0.90-0.95\\\",\\\"0.90-0.95\\\",\\\"0.90-0.95\\\",\\\"0.90-0.95\\\",\\\"0.90-0.95\\\",\\\"0.90-0.95\\\",\\\"0.90-0.95\\\",\\\"0.90-0.95\\\",\\\"0.90-0.95\\\",\\\"0.90-0.95\\\",\\\"0.90-0.95\\\",\\\"0.80-0.90\\\",\\\"0.80-0.90\\\",\\\"0.80-0.90\\\",\\\"0.80-0.90\\\",\\\"0.80-0.90\\\",\\\"0.80-0.90\\\",\\\"0.80-0.90\\\",\\\"0.80-0.90\\\",\\\"<0.80\\\",\\\"<0.80\\\",\\\"<0.80\\\",\\\"<0.80\\\",\\\"<0.80\\\",\\\"<0.80\\\",\\\"<0.80\\\",\\\"<0.80\\\",\\\"<0.80\\\",\\\"<0.80\\\",\\\"<0.80\\\",\\\"<0.80\\\",\\\"<0.80\\\",\\\"<0.80\\\",\\\"<0.80\\\",\\\"<0.80\\\",\\\"<0.80\\\",\\\"<0.80\\\",\\\"<0.80\\\",\\\"<0.80\\\",\\\"<0.80\\\",\\\"<0.80\\\",\\\"<0.80\\\",\\\"<0.80\\\",\\\"<0.80\\\",\\\"<0.80\\\",\\\"<0.80\\\",\\\"<0.80\\\",\\\"<0.80\\\",\\\"<0.80\\\",\\\"<0.80\\\",\\\"<0.80\\\",\\\"<0.80\\\",\\\"<0.80\\\",\\\"<0.80\\\",\\\"<0.80\\\",\\\"<0.80\\\",\\\"<0.80\\\",\\\"<0.80\\\",\\\"<0.80\\\",\\\"<0.80\\\",\\\"<0.80\\\",\\\"<0.80\\\",\\\"<0.80\\\",\\\"<0.80\\\",\\\"<0.80\\\",\\\"<0.80\\\",\\\"<0.80\\\",\\\"<0.80\\\",\\\"<0.80\\\",\\\"<0.80\\\",\\\"<0.80\\\",\\\"<0.80\\\",\\\"<0.80\\\",\\\"<0.80\\\",\\\"<0.80\\\",\\\"<0.80\\\",\\\"<0.80\\\",\\\"<0.80\\\",\\\"<0.80\\\",\\\"<0.80\\\",\\\"<0.80\\\",\\\"<0.80\\\",\\\"<0.80\\\"]]]},\\\"cols\\\":[\\\"line_color\\\"]},{\\\"kind\\\":\\\"ColumnDataChanged\\\",\\\"model\\\":{\\\"id\\\":\\\"p1544\\\"},\\\"attr\\\":\\\"data\\\",\\\"data\\\":{\\\"type\\\":\\\"map\\\",\\\"entries\\\":[[\\\"Column\\\",[\\\"1\\\",\\\"1\\\",\\\"1\\\",\\\"1\\\",\\\"1\\\",\\\"1\\\",\\\"1\\\",\\\"1\\\",\\\"10\\\",\\\"10\\\",\\\"10\\\",\\\"10\\\",\\\"10\\\",\\\"10\\\",\\\"10\\\",\\\"10\\\",\\\"11\\\",\\\"11\\\",\\\"11\\\",\\\"11\\\",\\\"11\\\",\\\"11\\\",\\\"11\\\",\\\"11\\\",\\\"12\\\",\\\"12\\\",\\\"12\\\",\\\"12\\\",\\\"12\\\",\\\"12\\\",\\\"12\\\",\\\"12\\\",\\\"2\\\",\\\"2\\\",\\\"2\\\",\\\"2\\\",\\\"2\\\",\\\"2\\\",\\\"2\\\",\\\"2\\\",\\\"3\\\",\\\"3\\\",\\\"3\\\",\\\"3\\\",\\\"3\\\",\\\"3\\\",\\\"3\\\",\\\"3\\\",\\\"4\\\",\\\"4\\\",\\\"4\\\",\\\"4\\\",\\\"4\\\",\\\"4\\\",\\\"4\\\",\\\"4\\\",\\\"5\\\",\\\"5\\\",\\\"5\\\",\\\"5\\\",\\\"5\\\",\\\"5\\\",\\\"5\\\",\\\"5\\\",\\\"6\\\",\\\"6\\\",\\\"6\\\",\\\"6\\\",\\\"6\\\",\\\"6\\\",\\\"6\\\",\\\"6\\\",\\\"7\\\",\\\"7\\\",\\\"7\\\",\\\"7\\\",\\\"7\\\",\\\"7\\\",\\\"7\\\",\\\"7\\\",\\\"8\\\",\\\"8\\\",\\\"8\\\",\\\"8\\\",\\\"8\\\",\\\"8\\\",\\\"8\\\",\\\"8\\\",\\\"9\\\",\\\"9\\\",\\\"9\\\",\\\"9\\\",\\\"9\\\",\\\"9\\\",\\\"9\\\",\\\"9\\\"]],[\\\"Row\\\",[\\\"A\\\",\\\"B\\\",\\\"C\\\",\\\"D\\\",\\\"E\\\",\\\"F\\\",\\\"G\\\",\\\"H\\\",\\\"A\\\",\\\"B\\\",\\\"C\\\",\\\"D\\\",\\\"E\\\",\\\"F\\\",\\\"G\\\",\\\"H\\\",\\\"A\\\",\\\"B\\\",\\\"C\\\",\\\"D\\\",\\\"E\\\",\\\"F\\\",\\\"G\\\",\\\"H\\\",\\\"A\\\",\\\"B\\\",\\\"C\\\",\\\"D\\\",\\\"E\\\",\\\"F\\\",\\\"G\\\",\\\"H\\\",\\\"A\\\",\\\"B\\\",\\\"C\\\",\\\"D\\\",\\\"E\\\",\\\"F\\\",\\\"G\\\",\\\"H\\\",\\\"A\\\",\\\"B\\\",\\\"C\\\",\\\"D\\\",\\\"E\\\",\\\"F\\\",\\\"G\\\",\\\"H\\\",\\\"A\\\",\\\"B\\\",\\\"C\\\",\\\"D\\\",\\\"E\\\",\\\"F\\\",\\\"G\\\",\\\"H\\\",\\\"A\\\",\\\"B\\\",\\\"C\\\",\\\"D\\\",\\\"E\\\",\\\"F\\\",\\\"G\\\",\\\"H\\\",\\\"A\\\",\\\"B\\\",\\\"C\\\",\\\"D\\\",\\\"E\\\",\\\"F\\\",\\\"G\\\",\\\"H\\\",\\\"A\\\",\\\"B\\\",\\\"C\\\",\\\"D\\\",\\\"E\\\",\\\"F\\\",\\\"G\\\",\\\"H\\\",\\\"A\\\",\\\"B\\\",\\\"C\\\",\\\"D\\\",\\\"E\\\",\\\"F\\\",\\\"G\\\",\\\"H\\\",\\\"A\\\",\\\"B\\\",\\\"C\\\",\\\"D\\\",\\\"E\\\",\\\"F\\\",\\\"G\\\",\\\"H\\\"]],[\\\"Labels\\\",[\\\"M1N\\\\nP2A\\\\nQ3N\\\",\\\"#PARENT#\\\",\\\"H66Y\\\\nF194L\\\",\\\"M169V\\\",\\\"T149A\\\",\\\"T131A\\\",\\\"#PARENT#\\\",\\\"M1N\\\\nP2A\\\\nQ3N\\\",\\\"Q180E\\\",\\\"D128G\\\",\\\"#PARENT#\\\",\\\"Q43R\\\",\\\"M1N\\\\nP2A\\\\nQ3N\\\",\\\"H66R\\\\nF194S\\\",\\\"V55E\\\",\\\"#PARENT#\\\",\\\"I115M\\\",\\\"#PARENT#\\\",\\\"R30C\\\\nA36E\\\\nH121R\\\\nS144F\\\",\\\"#PARENT#\\\",\\\"#PARENT#\\\",\\\"Q171L\\\\nL183P\\\",\\\"#PARENT#\\\",\\\"I152V\\\",\\\"#PARENT#\\\",\\\"D105E\\\\nQ171R\\\",\\\"I4V\\\\nG192S\\\",\\\"#PARENT#\\\",\\\"#PARENT#\\\",\\\"#PARENT#\\\",\\\"#PARENT#\\\",\\\"#PARENT#\\\",\\\"#PARENT#\\\",\\\"#PARENT#\\\",\\\"#PARENT#\\\",\\\"#PARENT#\\\",\\\"S143R\\\\nF194L\\\",\\\"M169L\\\\nV177F\\\",\\\"K46I\\\",\\\"L195H\\\",\\\"S143G\\\",\\\"#PARENT#\\\",\\\"#PARENT#\\\",\\\"#PARENT#\\\",\\\"#PARENT#\\\",\\\"Y84C\\\",\\\"#PARENT#\\\",\\\"I96V\\\",\\\"Y186C\\\",\\\"M1N\\\\nP2A\\\\nQ3N\\\",\\\"#PARENT#\\\",\\\"#PARENT#\\\",\\\"#PARENT#\\\",\\\"Q60R\\\\nP67S\\\\nY146H\\\",\\\"#PARENT#\\\",\\\"#PARENT#\\\",\\\"Y7C\\\",\\\"#PARENT#\\\",\\\"#PARENT#\\\",\\\"A36E\\\\nS144F\\\",\\\"#PARENT#\\\",\\\"V52A\\\",\\\"L56S\\\",\\\"#PARENT#\\\",\\\"#PARENT#\\\",\\\"#PARENT#\\\",\\\"#PARENT#\\\",\\\"#PARENT#\\\",\\\"#PARENT#\\\",\\\"#PARENT#\\\",\\\"T34M\\\",\\\"E25G\\\",\\\"#PARENT#\\\",\\\"M1N\\\\nP2A\\\\nQ3N\\\",\\\"#PARENT#\\\",\\\"#PARENT#\\\",\\\"#PARENT#\\\",\\\"L48S\\\\nH202R\\\",\\\"#PARENT#\\\",\\\"#PARENT#\\\",\\\"#PARENT#\\\",\\\"#PARENT#\\\",\\\"#PARENT#\\\",\\\"P82H\\\\nY186H\\\",\\\"#PARENT#\\\",\\\"N79S\\\",\\\"T151I\\\",\\\"#PARENT#\\\",\\\"W184R\\\",\\\"#PARENT#\\\",\\\"#PARENT#\\\",\\\"#PARENT#\\\",\\\"#PARENT#\\\",\\\"H71R\\\",\\\"D50G\\\\nS132P\\\\nW184R\\\",\\\"F92S\\\"]]]},\\\"cols\\\":[\\\"Column\\\",\\\"Row\\\",\\\"Labels\\\"]},{\\\"kind\\\":\\\"ModelChanged\\\",\\\"model\\\":{\\\"id\\\":\\\"p1487\\\"},\\\"attr\\\":\\\"text\\\",\\\"new\\\":\\\"10\\\"},{\\\"kind\\\":\\\"ModelChanged\\\",\\\"model\\\":{\\\"id\\\":\\\"p1484\\\"},\\\"attr\\\":\\\"above\\\",\\\"new\\\":[{\\\"type\\\":\\\"object\\\",\\\"name\\\":\\\"Legend\\\",\\\"id\\\":\\\"p1541\\\",\\\"attributes\\\":{\\\"location\\\":[0,0],\\\"orientation\\\":\\\"horizontal\\\",\\\"click_policy\\\":\\\"mute\\\",\\\"items\\\":[{\\\"type\\\":\\\"object\\\",\\\"name\\\":\\\"LegendItem\\\",\\\"id\\\":\\\"p1542\\\",\\\"attributes\\\":{\\\"label\\\":{\\\"type\\\":\\\"field\\\",\\\"field\\\":\\\"line_color\\\"},\\\"renderers\\\":[{\\\"id\\\":\\\"p1538\\\"}]}}]}}]}]}\"]]}],[\"09\",{\"type\":\"map\",\"entries\":[[\"header\",\"{\\\"msgid\\\": \\\"p1572\\\", \\\"msgtype\\\": \\\"PATCH-DOC\\\"}\"],[\"metadata\",\"{\\\"use_buffers\\\": false}\"],[\"content\",\"{\\\"events\\\":[{\\\"kind\\\":\\\"ModelChanged\\\",\\\"model\\\":{\\\"id\\\":\\\"p1473\\\"},\\\"attr\\\":\\\"factors\\\",\\\"new\\\":[\\\"1\\\",\\\"2\\\",\\\"3\\\",\\\"4\\\",\\\"5\\\",\\\"6\\\",\\\"7\\\",\\\"8\\\",\\\"9\\\",\\\"10\\\",\\\"11\\\",\\\"12\\\"]},{\\\"kind\\\":\\\"ModelChanged\\\",\\\"model\\\":{\\\"id\\\":\\\"p1511\\\"},\\\"attr\\\":\\\"palette\\\",\\\"new\\\":[\\\"#ec654a\\\",\\\"#ec664b\\\",\\\"#ed684d\\\",\\\"#ed694e\\\",\\\"#ee6a50\\\",\\\"#ee6c51\\\",\\\"#ee6d52\\\",\\\"#ef6f54\\\",\\\"#ef7055\\\",\\\"#ef7157\\\",\\\"#f07358\\\",\\\"#f0745a\\\",\\\"#f1765b\\\",\\\"#f1775d\\\",\\\"#f1785e\\\",\\\"#f27a5f\\\",\\\"#f27b61\\\",\\\"#f27c62\\\",\\\"#f37e64\\\",\\\"#f37f65\\\",\\\"#f38067\\\",\\\"#f48268\\\",\\\"#f4836a\\\",\\\"#f4846b\\\",\\\"#f5866c\\\",\\\"#f5876e\\\",\\\"#f5886f\\\",\\\"#f58a71\\\",\\\"#f68b72\\\",\\\"#f68c74\\\",\\\"#f68d75\\\",\\\"#f78f77\\\",\\\"#f79078\\\",\\\"#f7917a\\\",\\\"#f7937b\\\",\\\"#f8947d\\\",\\\"#f8957e\\\",\\\"#f89780\\\",\\\"#f89881\\\",\\\"#f99983\\\",\\\"#f99a84\\\",\\\"#f99c86\\\",\\\"#f99d87\\\",\\\"#f99e89\\\",\\\"#faa08a\\\",\\\"#faa18c\\\",\\\"#faa28d\\\",\\\"#faa38f\\\",\\\"#faa590\\\",\\\"#fba692\\\",\\\"#fba793\\\",\\\"#fba995\\\",\\\"#fbaa96\\\",\\\"#fbab98\\\",\\\"#fbac99\\\",\\\"#fcae9b\\\",\\\"#fcaf9c\\\",\\\"#fcb09e\\\",\\\"#fcb19f\\\",\\\"#fcb3a1\\\",\\\"#fcb4a2\\\",\\\"#fcb5a4\\\",\\\"#fcb7a5\\\",\\\"#fdb8a7\\\",\\\"#fdb9a8\\\",\\\"#fdbaaa\\\",\\\"#fdbcac\\\",\\\"#fdbdad\\\",\\\"#fdbeaf\\\",\\\"#fdbfb0\\\",\\\"#fdc1b2\\\",\\\"#fdc2b3\\\",\\\"#fdc3b5\\\",\\\"#fdc4b6\\\",\\\"#fdc6b8\\\",\\\"#fdc7ba\\\",\\\"#fdc8bb\\\",\\\"#fdcabd\\\",\\\"#fdcbbe\\\",\\\"#fdccc0\\\",\\\"#fdcdc1\\\",\\\"#fdcfc3\\\",\\\"#fdd0c5\\\",\\\"#fdd1c6\\\",\\\"#fdd2c8\\\",\\\"#fdd4c9\\\",\\\"#fdd5cb\\\",\\\"#fdd6cc\\\",\\\"#fdd7ce\\\",\\\"#fdd9d0\\\",\\\"#fddad1\\\",\\\"#fddbd3\\\",\\\"#fddcd4\\\",\\\"#fdded6\\\",\\\"#fcdfd8\\\",\\\"#fce0d9\\\",\\\"#fce1db\\\",\\\"#fce3dc\\\",\\\"#fce4de\\\",\\\"#fce5e0\\\",\\\"#fce7e1\\\",\\\"#fce8e3\\\",\\\"#fbe9e5\\\",\\\"#fbeae6\\\",\\\"#fbece8\\\",\\\"#fbede9\\\",\\\"#fbeeeb\\\",\\\"#faefed\\\",\\\"#faf1ee\\\",\\\"#faf2f0\\\",\\\"#faf3f2\\\",\\\"#f9f4f3\\\",\\\"#f9f5f5\\\",\\\"#f8f6f6\\\",\\\"#f7f6f7\\\",\\\"#f6f6f8\\\",\\\"#f5f5f9\\\",\\\"#f4f4f9\\\",\\\"#f3f3f9\\\",\\\"#f1f2f9\\\",\\\"#f0f1f9\\\",\\\"#eff0f9\\\",\\\"#eeeffa\\\",\\\"#edeefa\\\",\\\"#ecedfa\\\",\\\"#eaecfa\\\",\\\"#e9ebfa\\\",\\\"#e8eafa\\\",\\\"#e7e9fa\\\",\\\"#e6e8fa\\\",\\\"#e5e7fa\\\",\\\"#e3e6fa\\\",\\\"#e2e5fa\\\",\\\"#e1e4fa\\\",\\\"#e0e3fa\\\",\\\"#dfe2fb\\\",\\\"#dde1fb\\\",\\\"#dce0fb\\\",\\\"#dbdffb\\\",\\\"#dadefb\\\",\\\"#d9ddfb\\\",\\\"#d7dcfb\\\",\\\"#d6dbfb\\\",\\\"#d5dafb\\\",\\\"#d4d9fb\\\",\\\"#d3d8fb\\\",\\\"#d1d7fb\\\",\\\"#d0d6fb\\\",\\\"#cfd5fb\\\",\\\"#ced4fb\\\",\\\"#cdd3fc\\\",\\\"#cbd2fc\\\",\\\"#cad1fc\\\",\\\"#c9d0fc\\\",\\\"#c8cffc\\\",\\\"#c6cefc\\\",\\\"#c5cdfc\\\",\\\"#c4ccfc\\\",\\\"#c3cbfc\\\",\\\"#c1cafc\\\",\\\"#c0c9fc\\\",\\\"#bfc8fc\\\",\\\"#bdc7fc\\\",\\\"#bcc7fc\\\",\\\"#bbc6fc\\\",\\\"#bac5fc\\\",\\\"#b8c4fc\\\",\\\"#b7c3fc\\\",\\\"#b6c2fc\\\",\\\"#b4c1fd\\\",\\\"#b3c0fd\\\",\\\"#b2bffd\\\",\\\"#b0befd\\\",\\\"#afbdfd\\\",\\\"#aebcfd\\\",\\\"#acbbfd\\\",\\\"#abbafd\\\",\\\"#aab9fd\\\",\\\"#a8b8fd\\\",\\\"#a7b7fd\\\",\\\"#a5b6fd\\\",\\\"#a4b5fd\\\",\\\"#a3b4fd\\\",\\\"#a1b3fd\\\",\\\"#a0b2fd\\\",\\\"#9eb2fd\\\",\\\"#9db1fd\\\",\\\"#9bb0fd\\\",\\\"#9aaffd\\\",\\\"#99aefd\\\",\\\"#97adfd\\\",\\\"#96acfd\\\",\\\"#94abfd\\\",\\\"#93aafd\\\",\\\"#91a9fd\\\",\\\"#90a8fd\\\",\\\"#8ea7fd\\\",\\\"#8ca6fd\\\",\\\"#8ba5fe\\\",\\\"#89a4fe\\\",\\\"#88a4fe\\\",\\\"#86a3fe\\\",\\\"#84a2fe\\\",\\\"#83a1fe\\\",\\\"#81a0fe\\\",\\\"#809ffe\\\",\\\"#7e9efe\\\",\\\"#7c9dfe\\\",\\\"#7a9cfe\\\",\\\"#799bfe\\\",\\\"#779afe\\\",\\\"#759afe\\\",\\\"#7399fe\\\",\\\"#7198fe\\\",\\\"#7097fe\\\",\\\"#6e96fe\\\",\\\"#6c95fe\\\",\\\"#6a94fe\\\",\\\"#6893fe\\\",\\\"#6692fe\\\",\\\"#6491fe\\\",\\\"#6291fe\\\",\\\"#5f90fe\\\",\\\"#5d8ffe\\\",\\\"#5b8efe\\\",\\\"#598dfe\\\",\\\"#568cfe\\\",\\\"#548bfe\\\",\\\"#518afe\\\",\\\"#4f8afe\\\",\\\"#4c89fe\\\",\\\"#4988fe\\\",\\\"#4787fe\\\",\\\"#4486fe\\\",\\\"#4085fe\\\",\\\"#3d84fe\\\",\\\"#3a83fe\\\",\\\"#3683fe\\\",\\\"#3282fe\\\",\\\"#2e81fe\\\",\\\"#2980fe\\\",\\\"#247ffe\\\"]},{\\\"kind\\\":\\\"ColumnDataChanged\\\",\\\"model\\\":{\\\"id\\\":\\\"p1512\\\"},\\\"attr\\\":\\\"data\\\",\\\"data\\\":{\\\"type\\\":\\\"map\\\",\\\"entries\\\":[[\\\"Mutations\\\",[\\\"M1N_P2A_Q3N\\\",\\\"T127A\\\",\\\"#PARENT#\\\",\\\"Q94R\\\",\\\"#PARENT#\\\",\\\"#PARENT#\\\",\\\"L24S\\\",\\\"M1N_P2A_Q3N\\\",\\\"G78R\\\",\\\"#PARENT#\\\",\\\"#PARENT#\\\",\\\"E42G\\\",\\\"M1N_P2A_Q3N\\\",\\\"Q94H\\\",\\\"#PARENT#\\\",\\\"#PARENT#\\\",\\\"#PARENT#\\\",\\\"#PARENT#\\\",\\\"T157A\\\",\\\"#PARENT#\\\",\\\"#PARENT#\\\",\\\"T122A\\\",\\\"D193G\\\",\\\"E167G\\\",\\\"#PARENT#\\\",\\\"#PARENT#\\\",\\\"W108C_E164G\\\",\\\"#PARENT#\\\",\\\"D193N\\\",\\\"#PARENT#\\\",\\\"#PARENT#\\\",\\\"#PARENT#\\\",\\\"#PARENT#\\\",\\\"#PARENT#\\\",\\\"#PARENT#\\\",\\\"#PARENT#\\\",\\\"#PARENT#\\\",\\\"#PARENT#\\\",\\\"T34R\\\",\\\"#PARENT#\\\",\\\"W33R_D98E\\\",\\\"#PARENT#\\\",\\\"#PARENT#\\\",\\\"T107I\\\",\\\"E86G_Y146C\\\",\\\"M1N_P2A_Q3N\\\",\\\"M1N_P2A_Q3N\\\",\\\"#PARENT#\\\",\\\"#PARENT#\\\",\\\"M1N_P2A_Q3N\\\",\\\"#PARENT#\\\",\\\"#PARENT#\\\",\\\"#PARENT#\\\",\\\"#PARENT#\\\",\\\"#PARENT#\\\",\\\"#PARENT#\\\",\\\"#PARENT#\\\",\\\"#PARENT#\\\",\\\"#PARENT#\\\",\\\"#PARENT#\\\",\\\"#PARENT#\\\",\\\"#PARENT#\\\",\\\"#PARENT#\\\",\\\"V130E_D193N\\\",\\\"H120R\\\",\\\"#PARENT#\\\",\\\"F92L\\\",\\\"K104R\\\",\\\"#PARENT#\\\",\\\"#PARENT#\\\",\\\"#PARENT#\\\",\\\"E164G\\\",\\\"#PARENT#\\\",\\\"M1N_P2A_Q3N\\\",\\\"V133I_W184R\\\",\\\"T131A\\\",\\\"#PARENT#\\\",\\\"#PARENT#\\\",\\\"#PARENT#\\\",\\\"Q180R\\\",\\\"#PARENT#\\\",\\\"#PARENT#\\\",\\\"#PARENT#\\\",\\\"#PARENT#\\\",\\\"#PARENT#\\\",\\\"R30C_A36E_H121R_S144F\\\",\\\"#PARENT#\\\",\\\"#PARENT#\\\",\\\"#PARENT#\\\",\\\"I152V\\\",\\\"#PARENT#\\\",\\\"#PARENT#\\\",\\\"#PARENT#\\\",\\\"#PARENT#\\\",\\\"#PARENT#\\\",\\\"#PARENT#\\\"]],[\\\"Row\\\",[\\\"A\\\",\\\"B\\\",\\\"C\\\",\\\"D\\\",\\\"E\\\",\\\"F\\\",\\\"G\\\",\\\"H\\\",\\\"A\\\",\\\"B\\\",\\\"C\\\",\\\"D\\\",\\\"E\\\",\\\"F\\\",\\\"G\\\",\\\"H\\\",\\\"A\\\",\\\"B\\\",\\\"C\\\",\\\"D\\\",\\\"E\\\",\\\"F\\\",\\\"G\\\",\\\"H\\\",\\\"A\\\",\\\"B\\\",\\\"C\\\",\\\"D\\\",\\\"E\\\",\\\"F\\\",\\\"G\\\",\\\"H\\\",\\\"A\\\",\\\"B\\\",\\\"C\\\",\\\"D\\\",\\\"E\\\",\\\"F\\\",\\\"G\\\",\\\"H\\\",\\\"A\\\",\\\"B\\\",\\\"C\\\",\\\"D\\\",\\\"E\\\",\\\"F\\\",\\\"G\\\",\\\"H\\\",\\\"A\\\",\\\"B\\\",\\\"C\\\",\\\"D\\\",\\\"E\\\",\\\"F\\\",\\\"G\\\",\\\"H\\\",\\\"A\\\",\\\"B\\\",\\\"C\\\",\\\"D\\\",\\\"E\\\",\\\"F\\\",\\\"G\\\",\\\"H\\\",\\\"A\\\",\\\"B\\\",\\\"C\\\",\\\"D\\\",\\\"E\\\",\\\"F\\\",\\\"G\\\",\\\"H\\\",\\\"A\\\",\\\"B\\\",\\\"C\\\",\\\"D\\\",\\\"E\\\",\\\"F\\\",\\\"G\\\",\\\"H\\\",\\\"A\\\",\\\"B\\\",\\\"C\\\",\\\"D\\\",\\\"E\\\",\\\"F\\\",\\\"G\\\",\\\"H\\\",\\\"A\\\",\\\"B\\\",\\\"C\\\",\\\"D\\\",\\\"E\\\",\\\"F\\\",\\\"G\\\",\\\"H\\\"]],[\\\"Column\\\",[\\\"1\\\",\\\"1\\\",\\\"1\\\",\\\"1\\\",\\\"1\\\",\\\"1\\\",\\\"1\\\",\\\"1\\\",\\\"10\\\",\\\"10\\\",\\\"10\\\",\\\"10\\\",\\\"10\\\",\\\"10\\\",\\\"10\\\",\\\"10\\\",\\\"11\\\",\\\"11\\\",\\\"11\\\",\\\"11\\\",\\\"11\\\",\\\"11\\\",\\\"11\\\",\\\"11\\\",\\\"12\\\",\\\"12\\\",\\\"12\\\",\\\"12\\\",\\\"12\\\",\\\"12\\\",\\\"12\\\",\\\"12\\\",\\\"2\\\",\\\"2\\\",\\\"2\\\",\\\"2\\\",\\\"2\\\",\\\"2\\\",\\\"2\\\",\\\"2\\\",\\\"3\\\",\\\"3\\\",\\\"3\\\",\\\"3\\\",\\\"3\\\",\\\"3\\\",\\\"3\\\",\\\"3\\\",\\\"4\\\",\\\"4\\\",\\\"4\\\",\\\"4\\\",\\\"4\\\",\\\"4\\\",\\\"4\\\",\\\"4\\\",\\\"5\\\",\\\"5\\\",\\\"5\\\",\\\"5\\\",\\\"5\\\",\\\"5\\\",\\\"5\\\",\\\"5\\\",\\\"6\\\",\\\"6\\\",\\\"6\\\",\\\"6\\\",\\\"6\\\",\\\"6\\\",\\\"6\\\",\\\"6\\\",\\\"7\\\",\\\"7\\\",\\\"7\\\",\\\"7\\\",\\\"7\\\",\\\"7\\\",\\\"7\\\",\\\"7\\\",\\\"8\\\",\\\"8\\\",\\\"8\\\",\\\"8\\\",\\\"8\\\",\\\"8\\\",\\\"8\\\",\\\"8\\\",\\\"9\\\",\\\"9\\\",\\\"9\\\",\\\"9\\\",\\\"9\\\",\\\"9\\\",\\\"9\\\",\\\"9\\\"]],[\\\"Alignment_Probability\\\",[\\\"0\\\",\\\"0.96541\\\",\\\"0.92841\\\",\\\"0.82809\\\",\\\"0.97008\\\",\\\"0.011091\\\",\\\"0.74548\\\",\\\"0\\\",\\\"0.68729\\\",\\\"0.6128\\\",\\\"0.87793\\\",\\\"0.92031\\\",\\\"0\\\",\\\"0.97519\\\",\\\"0.76749\\\",\\\"0.70942\\\",\\\"0.8912\\\",\\\"0.56177\\\",\\\"0.90534\\\",\\\"0.75897\\\",\\\"0.92175\\\",\\\"0.79017\\\",\\\"0.9035\\\",\\\"0.94201\\\",\\\"0.52576\\\",\\\"0.22398\\\",\\\"0.43299\\\",\\\"0.89878\\\",\\\"1\\\",\\\"0.021213\\\",\\\"0.2555\\\",\\\"0.92976\\\",\\\"0.43212\\\",\\\"0.78949\\\",\\\"0.23542\\\",\\\"0.58316\\\",\\\"0.95934\\\",\\\"0.80972\\\",\\\"0.65246\\\",\\\"0.55555\\\",\\\"0.33404\\\",\\\"0.86319\\\",\\\"0.56369\\\",\\\"0.94296\\\",\\\"0.64673\\\",\\\"0\\\",\\\"0\\\",\\\"0.88815\\\",\\\"0.94468\\\",\\\"0\\\",\\\"0.45294\\\",\\\"0.94199\\\",\\\"0.81864\\\",\\\"0.56962\\\",\\\"0.76241\\\",\\\"0.17738\\\",\\\"0.74309\\\",\\\"0.50942\\\",\\\"0.74794\\\",\\\"0.48382\\\",\\\"0.9702\\\",\\\"0.74685\\\",\\\"0.45504\\\",\\\"0.55183\\\",\\\"0.94991\\\",\\\"0.1407\\\",\\\"0.8986\\\",\\\"0.90181\\\",\\\"0.75975\\\",\\\"0.68301\\\",\\\"0.44433\\\",\\\"0.58203\\\",\\\"0.44923\\\",\\\"0\\\",\\\"0.64734\\\",\\\"0.71083\\\",\\\"0.59456\\\",\\\"0.96842\\\",\\\"0.90089\\\",\\\"0.70154\\\",\\\"0.73162\\\",\\\"0.30963\\\",\\\"0.38646\\\",\\\"0.71543\\\",\\\"0.76558\\\",\\\"0.67685\\\",\\\"0.91222\\\",\\\"0.60561\\\",\\\"0.87094\\\",\\\"0.79337\\\",\\\"0.54772\\\",\\\"0.82579\\\",\\\"0.56366\\\",\\\"0.82853\\\",\\\"0.92781\\\",\\\"0.82227\\\"]],[\\\"Alignment_Count\\\",[\\\"0\\\",\\\"25\\\",\\\"81\\\",\\\"20\\\",\\\"120\\\",\\\"5\\\",\\\"51\\\",\\\"0\\\",\\\"38\\\",\\\"62\\\",\\\"82\\\",\\\"72\\\",\\\"3\\\",\\\"78\\\",\\\"46\\\",\\\"18\\\",\\\"44\\\",\\\"20\\\",\\\"89\\\",\\\"45\\\",\\\"69\\\",\\\"49\\\",\\\"100\\\",\\\"66\\\",\\\"21\\\",\\\"10\\\",\\\"54\\\",\\\"20\\\",\\\"50\\\",\\\"12\\\",\\\"75\\\",\\\"63\\\",\\\"36\\\",\\\"26\\\",\\\"17\\\",\\\"37\\\",\\\"78\\\",\\\"46\\\",\\\"25\\\",\\\"56\\\",\\\"39\\\",\\\"54\\\",\\\"31\\\",\\\"84\\\",\\\"47\\\",\\\"7\\\",\\\"0\\\",\\\"77\\\",\\\"33\\\",\\\"0\\\",\\\"31\\\",\\\"62\\\",\\\"60\\\",\\\"51\\\",\\\"65\\\",\\\"17\\\",\\\"46\\\",\\\"33\\\",\\\"61\\\",\\\"96\\\",\\\"34\\\",\\\"70\\\",\\\"42\\\",\\\"64\\\",\\\"81\\\",\\\"36\\\",\\\"93\\\",\\\"60\\\",\\\"37\\\",\\\"38\\\",\\\"75\\\",\\\"91\\\",\\\"68\\\",\\\"2\\\",\\\"37\\\",\\\"53\\\",\\\"37\\\",\\\"56\\\",\\\"22\\\",\\\"55\\\",\\\"21\\\",\\\"20\\\",\\\"46\\\",\\\"109\\\",\\\"53\\\",\\\"85\\\",\\\"129\\\",\\\"24\\\",\\\"79\\\",\\\"52\\\",\\\"46\\\",\\\"43\\\",\\\"21\\\",\\\"75\\\",\\\"98\\\",\\\"29\\\"]],[\\\"zvalues\\\",{\\\"type\\\":\\\"ndarray\\\",\\\"array\\\":{\\\"type\\\":\\\"bytes\\\",\\\"data\\\":\\\"AAAAAAAAAAAzje33QcAJQAsDrXrqkxFAkeNze0L3B0DJeUQ8ZCYTQDON7fdBwPk//wBR/2B0D0AAAAAAAAAAAKhBw8XGGQ1A69wnhC+CEEBlnaYCe6ARQD9X9FxOGxFACwOteuqT8T8pTiMURW0RQGxCkL0OoQ5AhpFrOnsfB0BDVPw2BUYOQJHjc3tC9wdA9oquF130EUCkyaN2C3QOQLsalJ257xBAV1oyrnIiD0AWVbW7sWsSQKYjSto0whBAsa5vlC5bCEAWVbW7sWsCQAwTwndw6Q9AkeNze0L3B0CvG6y30ksPQH2e07wW4QNAXAeimhtFEUAbGOPokZIQQAIgKvoLqwxAzRrw6pQQCkB6f/rBa6oGQL3HOu4o4wxAKU4jFEVtEUBsQpC9DqEOQDON7fdBwAlAUGwqy/UZEEDWDYho+U4NQAwTwndw6Q9AWiuRSM54C0DUZfYJKLkRQLbwkC8azQ5AV1oyrnIi/z8AAAAAAAAAADwyTIcOYBFA0bjV9Nj4C0AAAAAAAAAAAForkUjOeAtA69wnhC+CEECLMmXcm2AQQP8AUf9gdA9AdSmUk5KyEEB6f/rBa6oGQGxCkL0OoQ5A0bjV9Nj4C0ANbBLriHEQQPikB37kQRJA9g25gfw1DEAhQWeJdf4QQC09LlS/5g1Ac6s7P7KiEEALA6166pMRQAIgKvoLqwxAcNbzwmEhEkCLMmXcm2AQQL3HOu4o4wxAqEHDxcYZDUBcB6KaG0URQL5cJcEeCxJAOc67oMbgEEDvOfr+Qi7mP73HOu4o4wxAqzwiaCjDD0C9xzruKOMMQFBsKsv1GRBAyMU9d3S6CEDz/rpZggcQQLGub5QuWwhAkeNze0L3B0BsQpC9DqEOQAZVAbPwwxJAqzwiaCjDD0AKo/heRsURQMu2talycBNA+SySfKdsCUBzsa+JUHoRQEmprqolnA9AbEKQvQ6hDkAR7BQW8BYOQLGub5QuWwhAXAeimhtFEUBqdPi2AVcSQB/+zcs48ApA\\\"},\\\"shape\\\":[96],\\\"dtype\\\":\\\"float64\\\",\\\"order\\\":\\\"little\\\"}],[\\\"logseqdepth\\\",[\\\"0\\\",\\\"3.2189\\\",\\\"4.3944\\\",\\\"2.9957\\\",\\\"4.7875\\\",\\\"1.6094\\\",\\\"3.9318\\\",\\\"0\\\",\\\"3.6376\\\",\\\"4.1271\\\",\\\"4.4067\\\",\\\"4.2767\\\",\\\"1.0986\\\",\\\"4.3567\\\",\\\"3.8286\\\",\\\"2.8904\\\",\\\"3.7842\\\",\\\"2.9957\\\",\\\"4.4886\\\",\\\"3.8067\\\",\\\"4.2341\\\",\\\"3.8918\\\",\\\"4.6052\\\",\\\"4.1897\\\",\\\"3.0445\\\",\\\"2.3026\\\",\\\"3.989\\\",\\\"2.9957\\\",\\\"3.912\\\",\\\"2.4849\\\",\\\"4.3175\\\",\\\"4.1431\\\",\\\"3.5835\\\",\\\"3.2581\\\",\\\"2.8332\\\",\\\"3.6109\\\",\\\"4.3567\\\",\\\"3.8286\\\",\\\"3.2189\\\",\\\"4.0254\\\",\\\"3.6636\\\",\\\"3.989\\\",\\\"3.434\\\",\\\"4.4308\\\",\\\"3.8501\\\",\\\"1.9459\\\",\\\"0\\\",\\\"4.3438\\\",\\\"3.4965\\\",\\\"0\\\",\\\"3.434\\\",\\\"4.1271\\\",\\\"4.0943\\\",\\\"3.9318\\\",\\\"4.1744\\\",\\\"2.8332\\\",\\\"3.8286\\\",\\\"3.4965\\\",\\\"4.1109\\\",\\\"4.5643\\\",\\\"3.5264\\\",\\\"4.2485\\\",\\\"3.7377\\\",\\\"4.1589\\\",\\\"4.3944\\\",\\\"3.5835\\\",\\\"4.5326\\\",\\\"4.0943\\\",\\\"3.6109\\\",\\\"3.6376\\\",\\\"4.3175\\\",\\\"4.5109\\\",\\\"4.2195\\\",\\\"0.69315\\\",\\\"3.6109\\\",\\\"3.9703\\\",\\\"3.6109\\\",\\\"4.0254\\\",\\\"3.091\\\",\\\"4.0073\\\",\\\"3.0445\\\",\\\"2.9957\\\",\\\"3.8286\\\",\\\"4.6913\\\",\\\"3.9703\\\",\\\"4.4427\\\",\\\"4.8598\\\",\\\"3.1781\\\",\\\"4.3694\\\",\\\"3.9512\\\",\\\"3.8286\\\",\\\"3.7612\\\",\\\"3.0445\\\",\\\"4.3175\\\",\\\"4.585\\\",\\\"3.3673\\\"]]]},\\\"cols\\\":[\\\"Mutations\\\",\\\"Row\\\",\\\"Column\\\",\\\"Alignment_Probability\\\",\\\"Alignment_Count\\\",\\\"zvalues\\\",\\\"logseqdepth\\\"]},{\\\"kind\\\":\\\"ColumnDataChanged\\\",\\\"model\\\":{\\\"id\\\":\\\"p1512\\\"},\\\"attr\\\":\\\"data\\\",\\\"data\\\":{\\\"type\\\":\\\"map\\\",\\\"entries\\\":[[\\\"Column\\\",[\\\"1\\\",\\\"1\\\",\\\"1\\\",\\\"1\\\",\\\"1\\\",\\\"1\\\",\\\"1\\\",\\\"1\\\",\\\"10\\\",\\\"10\\\",\\\"10\\\",\\\"10\\\",\\\"10\\\",\\\"10\\\",\\\"10\\\",\\\"10\\\",\\\"11\\\",\\\"11\\\",\\\"11\\\",\\\"11\\\",\\\"11\\\",\\\"11\\\",\\\"11\\\",\\\"11\\\",\\\"12\\\",\\\"12\\\",\\\"12\\\",\\\"12\\\",\\\"12\\\",\\\"12\\\",\\\"12\\\",\\\"12\\\",\\\"2\\\",\\\"2\\\",\\\"2\\\",\\\"2\\\",\\\"2\\\",\\\"2\\\",\\\"2\\\",\\\"2\\\",\\\"3\\\",\\\"3\\\",\\\"3\\\",\\\"3\\\",\\\"3\\\",\\\"3\\\",\\\"3\\\",\\\"3\\\",\\\"4\\\",\\\"4\\\",\\\"4\\\",\\\"4\\\",\\\"4\\\",\\\"4\\\",\\\"4\\\",\\\"4\\\",\\\"5\\\",\\\"5\\\",\\\"5\\\",\\\"5\\\",\\\"5\\\",\\\"5\\\",\\\"5\\\",\\\"5\\\",\\\"6\\\",\\\"6\\\",\\\"6\\\",\\\"6\\\",\\\"6\\\",\\\"6\\\",\\\"6\\\",\\\"6\\\",\\\"7\\\",\\\"7\\\",\\\"7\\\",\\\"7\\\",\\\"7\\\",\\\"7\\\",\\\"7\\\",\\\"7\\\",\\\"8\\\",\\\"8\\\",\\\"8\\\",\\\"8\\\",\\\"8\\\",\\\"8\\\",\\\"8\\\",\\\"8\\\",\\\"9\\\",\\\"9\\\",\\\"9\\\",\\\"9\\\",\\\"9\\\",\\\"9\\\",\\\"9\\\",\\\"9\\\"]]]},\\\"cols\\\":[\\\"Column\\\"]},{\\\"kind\\\":\\\"ColumnDataChanged\\\",\\\"model\\\":{\\\"id\\\":\\\"p1512\\\"},\\\"attr\\\":\\\"data\\\",\\\"data\\\":{\\\"type\\\":\\\"map\\\",\\\"entries\\\":[[\\\"Row\\\",[\\\"A\\\",\\\"B\\\",\\\"C\\\",\\\"D\\\",\\\"E\\\",\\\"F\\\",\\\"G\\\",\\\"H\\\",\\\"A\\\",\\\"B\\\",\\\"C\\\",\\\"D\\\",\\\"E\\\",\\\"F\\\",\\\"G\\\",\\\"H\\\",\\\"A\\\",\\\"B\\\",\\\"C\\\",\\\"D\\\",\\\"E\\\",\\\"F\\\",\\\"G\\\",\\\"H\\\",\\\"A\\\",\\\"B\\\",\\\"C\\\",\\\"D\\\",\\\"E\\\",\\\"F\\\",\\\"G\\\",\\\"H\\\",\\\"A\\\",\\\"B\\\",\\\"C\\\",\\\"D\\\",\\\"E\\\",\\\"F\\\",\\\"G\\\",\\\"H\\\",\\\"A\\\",\\\"B\\\",\\\"C\\\",\\\"D\\\",\\\"E\\\",\\\"F\\\",\\\"G\\\",\\\"H\\\",\\\"A\\\",\\\"B\\\",\\\"C\\\",\\\"D\\\",\\\"E\\\",\\\"F\\\",\\\"G\\\",\\\"H\\\",\\\"A\\\",\\\"B\\\",\\\"C\\\",\\\"D\\\",\\\"E\\\",\\\"F\\\",\\\"G\\\",\\\"H\\\",\\\"A\\\",\\\"B\\\",\\\"C\\\",\\\"D\\\",\\\"E\\\",\\\"F\\\",\\\"G\\\",\\\"H\\\",\\\"A\\\",\\\"B\\\",\\\"C\\\",\\\"D\\\",\\\"E\\\",\\\"F\\\",\\\"G\\\",\\\"H\\\",\\\"A\\\",\\\"B\\\",\\\"C\\\",\\\"D\\\",\\\"E\\\",\\\"F\\\",\\\"G\\\",\\\"H\\\",\\\"A\\\",\\\"B\\\",\\\"C\\\",\\\"D\\\",\\\"E\\\",\\\"F\\\",\\\"G\\\",\\\"H\\\"]]]},\\\"cols\\\":[\\\"Row\\\"]},{\\\"kind\\\":\\\"ColumnDataChanged\\\",\\\"model\\\":{\\\"id\\\":\\\"p1529\\\"},\\\"attr\\\":\\\"data\\\",\\\"data\\\":{\\\"type\\\":\\\"map\\\",\\\"entries\\\":[[\\\"line_color\\\",[\\\"0.95+\\\",\\\"0.95+\\\",\\\"0.95+\\\",\\\"0.95+\\\",\\\"0.95+\\\",\\\"0.95+\\\",\\\"0.95+\\\",\\\"0.90-0.95\\\",\\\"0.90-0.95\\\",\\\"0.90-0.95\\\",\\\"0.90-0.95\\\",\\\"0.90-0.95\\\",\\\"0.90-0.95\\\",\\\"0.90-0.95\\\",\\\"0.90-0.95\\\",\\\"0.90-0.95\\\",\\\"0.90-0.95\\\",\\\"0.90-0.95\\\",\\\"0.90-0.95\\\",\\\"0.90-0.95\\\",\\\"0.90-0.95\\\",\\\"0.90-0.95\\\",\\\"0.80-0.90\\\",\\\"0.80-0.90\\\",\\\"0.80-0.90\\\",\\\"0.80-0.90\\\",\\\"0.80-0.90\\\",\\\"0.80-0.90\\\",\\\"0.80-0.90\\\",\\\"0.80-0.90\\\",\\\"0.80-0.90\\\",\\\"0.80-0.90\\\",\\\"0.80-0.90\\\",\\\"0.80-0.90\\\",\\\"0.80-0.90\\\",\\\"<0.80\\\",\\\"<0.80\\\",\\\"<0.80\\\",\\\"<0.80\\\",\\\"<0.80\\\",\\\"<0.80\\\",\\\"<0.80\\\",\\\"<0.80\\\",\\\"<0.80\\\",\\\"<0.80\\\",\\\"<0.80\\\",\\\"<0.80\\\",\\\"<0.80\\\",\\\"<0.80\\\",\\\"<0.80\\\",\\\"<0.80\\\",\\\"<0.80\\\",\\\"<0.80\\\",\\\"<0.80\\\",\\\"<0.80\\\",\\\"<0.80\\\",\\\"<0.80\\\",\\\"<0.80\\\",\\\"<0.80\\\",\\\"<0.80\\\",\\\"<0.80\\\",\\\"<0.80\\\",\\\"<0.80\\\",\\\"<0.80\\\",\\\"<0.80\\\",\\\"<0.80\\\",\\\"<0.80\\\",\\\"<0.80\\\",\\\"<0.80\\\",\\\"<0.80\\\",\\\"<0.80\\\",\\\"<0.80\\\",\\\"<0.80\\\",\\\"<0.80\\\",\\\"<0.80\\\",\\\"<0.80\\\",\\\"<0.80\\\",\\\"<0.80\\\",\\\"<0.80\\\",\\\"<0.80\\\",\\\"<0.80\\\",\\\"<0.80\\\",\\\"<0.80\\\",\\\"<0.80\\\",\\\"<0.80\\\",\\\"<0.80\\\",\\\"<0.80\\\",\\\"<0.80\\\",\\\"<0.80\\\",\\\"<0.80\\\",\\\"<0.80\\\",\\\"<0.80\\\",\\\"<0.80\\\",\\\"<0.80\\\",\\\"<0.80\\\",\\\"<0.80\\\"]],[\\\"Column\\\",[\\\"12\\\",\\\"10\\\",\\\"5\\\",\\\"1\\\",\\\"7\\\",\\\"1\\\",\\\"2\\\",\\\"6\\\",\\\"4\\\",\\\"3\\\",\\\"11\\\",\\\"4\\\",\\\"12\\\",\\\"1\\\",\\\"9\\\",\\\"11\\\",\\\"10\\\",\\\"8\\\",\\\"11\\\",\\\"11\\\",\\\"6\\\",\\\"7\\\",\\\"12\\\",\\\"6\\\",\\\"11\\\",\\\"3\\\",\\\"10\\\",\\\"9\\\",\\\"3\\\",\\\"9\\\",\\\"1\\\",\\\"9\\\",\\\"9\\\",\\\"4\\\",\\\"2\\\",\\\"9\\\",\\\"11\\\",\\\"2\\\",\\\"10\\\",\\\"8\\\",\\\"4\\\",\\\"6\\\",\\\"11\\\",\\\"5\\\",\\\"5\\\",\\\"1\\\",\\\"5\\\",\\\"8\\\",\\\"8\\\",\\\"7\\\",\\\"10\\\",\\\"7\\\",\\\"10\\\",\\\"6\\\",\\\"8\\\",\\\"2\\\",\\\"7\\\",\\\"3\\\",\\\"10\\\",\\\"8\\\",\\\"7\\\",\\\"2\\\",\\\"6\\\",\\\"4\\\",\\\"3\\\",\\\"9\\\",\\\"11\\\",\\\"2\\\",\\\"5\\\",\\\"9\\\",\\\"12\\\",\\\"5\\\",\\\"5\\\",\\\"5\\\",\\\"4\\\",\\\"7\\\",\\\"6\\\",\\\"12\\\",\\\"2\\\",\\\"8\\\",\\\"3\\\",\\\"8\\\",\\\"12\\\",\\\"2\\\",\\\"12\\\",\\\"4\\\",\\\"6\\\",\\\"12\\\",\\\"1\\\",\\\"10\\\",\\\"7\\\",\\\"4\\\",\\\"1\\\",\\\"3\\\",\\\"3\\\",\\\"1\\\"]],[\\\"Row\\\",[\\\"E\\\",\\\"F\\\",\\\"E\\\",\\\"E\\\",\\\"F\\\",\\\"B\\\",\\\"E\\\",\\\"A\\\",\\\"A\\\",\\\"D\\\",\\\"H\\\",\\\"D\\\",\\\"H\\\",\\\"C\\\",\\\"G\\\",\\\"E\\\",\\\"D\\\",\\\"G\\\",\\\"C\\\",\\\"G\\\",\\\"D\\\",\\\"G\\\",\\\"D\\\",\\\"C\\\",\\\"A\\\",\\\"H\\\",\\\"C\\\",\\\"A\\\",\\\"B\\\",\\\"F\\\",\\\"D\\\",\\\"D\\\",\\\"H\\\",\\\"E\\\",\\\"F\\\",\\\"B\\\",\\\"F\\\",\\\"B\\\",\\\"G\\\",\\\"E\\\",\\\"G\\\",\\\"E\\\",\\\"D\\\",\\\"C\\\",\\\"F\\\",\\\"G\\\",\\\"A\\\",\\\"A\\\",\\\"D\\\",\\\"D\\\",\\\"H\\\",\\\"H\\\",\\\"A\\\",\\\"F\\\",\\\"F\\\",\\\"G\\\",\\\"C\\\",\\\"E\\\",\\\"B\\\",\\\"H\\\",\\\"E\\\",\\\"D\\\",\\\"H\\\",\\\"F\\\",\\\"C\\\",\\\"E\\\",\\\"B\\\",\\\"H\\\",\\\"H\\\",\\\"C\\\",\\\"A\\\",\\\"B\\\",\\\"D\\\",\\\"G\\\",\\\"C\\\",\\\"A\\\",\\\"G\\\",\\\"C\\\",\\\"A\\\",\\\"C\\\",\\\"A\\\",\\\"B\\\",\\\"G\\\",\\\"C\\\",\\\"B\\\",\\\"H\\\",\\\"B\\\",\\\"F\\\",\\\"F\\\",\\\"E\\\",\\\"B\\\",\\\"B\\\",\\\"H\\\",\\\"G\\\",\\\"F\\\",\\\"A\\\"]]]},\\\"cols\\\":[\\\"line_color\\\",\\\"Column\\\",\\\"Row\\\"]},{\\\"kind\\\":\\\"ColumnDataChanged\\\",\\\"model\\\":{\\\"id\\\":\\\"p1529\\\"},\\\"attr\\\":\\\"data\\\",\\\"data\\\":{\\\"type\\\":\\\"map\\\",\\\"entries\\\":[[\\\"line_color\\\",[\\\"0.95+\\\",\\\"0.95+\\\",\\\"0.95+\\\",\\\"0.95+\\\",\\\"0.95+\\\",\\\"0.95+\\\",\\\"0.95+\\\",\\\"0.90-0.95\\\",\\\"0.90-0.95\\\",\\\"0.90-0.95\\\",\\\"0.90-0.95\\\",\\\"0.90-0.95\\\",\\\"0.90-0.95\\\",\\\"0.90-0.95\\\",\\\"0.90-0.95\\\",\\\"0.90-0.95\\\",\\\"0.90-0.95\\\",\\\"0.90-0.95\\\",\\\"0.90-0.95\\\",\\\"0.90-0.95\\\",\\\"0.90-0.95\\\",\\\"0.90-0.95\\\",\\\"0.80-0.90\\\",\\\"0.80-0.90\\\",\\\"0.80-0.90\\\",\\\"0.80-0.90\\\",\\\"0.80-0.90\\\",\\\"0.80-0.90\\\",\\\"0.80-0.90\\\",\\\"0.80-0.90\\\",\\\"0.80-0.90\\\",\\\"0.80-0.90\\\",\\\"0.80-0.90\\\",\\\"0.80-0.90\\\",\\\"0.80-0.90\\\",\\\"<0.80\\\",\\\"<0.80\\\",\\\"<0.80\\\",\\\"<0.80\\\",\\\"<0.80\\\",\\\"<0.80\\\",\\\"<0.80\\\",\\\"<0.80\\\",\\\"<0.80\\\",\\\"<0.80\\\",\\\"<0.80\\\",\\\"<0.80\\\",\\\"<0.80\\\",\\\"<0.80\\\",\\\"<0.80\\\",\\\"<0.80\\\",\\\"<0.80\\\",\\\"<0.80\\\",\\\"<0.80\\\",\\\"<0.80\\\",\\\"<0.80\\\",\\\"<0.80\\\",\\\"<0.80\\\",\\\"<0.80\\\",\\\"<0.80\\\",\\\"<0.80\\\",\\\"<0.80\\\",\\\"<0.80\\\",\\\"<0.80\\\",\\\"<0.80\\\",\\\"<0.80\\\",\\\"<0.80\\\",\\\"<0.80\\\",\\\"<0.80\\\",\\\"<0.80\\\",\\\"<0.80\\\",\\\"<0.80\\\",\\\"<0.80\\\",\\\"<0.80\\\",\\\"<0.80\\\",\\\"<0.80\\\",\\\"<0.80\\\",\\\"<0.80\\\",\\\"<0.80\\\",\\\"<0.80\\\",\\\"<0.80\\\",\\\"<0.80\\\",\\\"<0.80\\\",\\\"<0.80\\\",\\\"<0.80\\\",\\\"<0.80\\\",\\\"<0.80\\\",\\\"<0.80\\\",\\\"<0.80\\\",\\\"<0.80\\\",\\\"<0.80\\\",\\\"<0.80\\\",\\\"<0.80\\\",\\\"<0.80\\\",\\\"<0.80\\\",\\\"<0.80\\\"]]]},\\\"cols\\\":[\\\"line_color\\\"]},{\\\"kind\\\":\\\"ColumnDataChanged\\\",\\\"model\\\":{\\\"id\\\":\\\"p1544\\\"},\\\"attr\\\":\\\"data\\\",\\\"data\\\":{\\\"type\\\":\\\"map\\\",\\\"entries\\\":[[\\\"Column\\\",[\\\"1\\\",\\\"1\\\",\\\"1\\\",\\\"1\\\",\\\"1\\\",\\\"1\\\",\\\"1\\\",\\\"1\\\",\\\"10\\\",\\\"10\\\",\\\"10\\\",\\\"10\\\",\\\"10\\\",\\\"10\\\",\\\"10\\\",\\\"10\\\",\\\"11\\\",\\\"11\\\",\\\"11\\\",\\\"11\\\",\\\"11\\\",\\\"11\\\",\\\"11\\\",\\\"11\\\",\\\"12\\\",\\\"12\\\",\\\"12\\\",\\\"12\\\",\\\"12\\\",\\\"12\\\",\\\"12\\\",\\\"12\\\",\\\"2\\\",\\\"2\\\",\\\"2\\\",\\\"2\\\",\\\"2\\\",\\\"2\\\",\\\"2\\\",\\\"2\\\",\\\"3\\\",\\\"3\\\",\\\"3\\\",\\\"3\\\",\\\"3\\\",\\\"3\\\",\\\"3\\\",\\\"3\\\",\\\"4\\\",\\\"4\\\",\\\"4\\\",\\\"4\\\",\\\"4\\\",\\\"4\\\",\\\"4\\\",\\\"4\\\",\\\"5\\\",\\\"5\\\",\\\"5\\\",\\\"5\\\",\\\"5\\\",\\\"5\\\",\\\"5\\\",\\\"5\\\",\\\"6\\\",\\\"6\\\",\\\"6\\\",\\\"6\\\",\\\"6\\\",\\\"6\\\",\\\"6\\\",\\\"6\\\",\\\"7\\\",\\\"7\\\",\\\"7\\\",\\\"7\\\",\\\"7\\\",\\\"7\\\",\\\"7\\\",\\\"7\\\",\\\"8\\\",\\\"8\\\",\\\"8\\\",\\\"8\\\",\\\"8\\\",\\\"8\\\",\\\"8\\\",\\\"8\\\",\\\"9\\\",\\\"9\\\",\\\"9\\\",\\\"9\\\",\\\"9\\\",\\\"9\\\",\\\"9\\\",\\\"9\\\"]],[\\\"Row\\\",[\\\"A\\\",\\\"B\\\",\\\"C\\\",\\\"D\\\",\\\"E\\\",\\\"F\\\",\\\"G\\\",\\\"H\\\",\\\"A\\\",\\\"B\\\",\\\"C\\\",\\\"D\\\",\\\"E\\\",\\\"F\\\",\\\"G\\\",\\\"H\\\",\\\"A\\\",\\\"B\\\",\\\"C\\\",\\\"D\\\",\\\"E\\\",\\\"F\\\",\\\"G\\\",\\\"H\\\",\\\"A\\\",\\\"B\\\",\\\"C\\\",\\\"D\\\",\\\"E\\\",\\\"F\\\",\\\"G\\\",\\\"H\\\",\\\"A\\\",\\\"B\\\",\\\"C\\\",\\\"D\\\",\\\"E\\\",\\\"F\\\",\\\"G\\\",\\\"H\\\",\\\"A\\\",\\\"B\\\",\\\"C\\\",\\\"D\\\",\\\"E\\\",\\\"F\\\",\\\"G\\\",\\\"H\\\",\\\"A\\\",\\\"B\\\",\\\"C\\\",\\\"D\\\",\\\"E\\\",\\\"F\\\",\\\"G\\\",\\\"H\\\",\\\"A\\\",\\\"B\\\",\\\"C\\\",\\\"D\\\",\\\"E\\\",\\\"F\\\",\\\"G\\\",\\\"H\\\",\\\"A\\\",\\\"B\\\",\\\"C\\\",\\\"D\\\",\\\"E\\\",\\\"F\\\",\\\"G\\\",\\\"H\\\",\\\"A\\\",\\\"B\\\",\\\"C\\\",\\\"D\\\",\\\"E\\\",\\\"F\\\",\\\"G\\\",\\\"H\\\",\\\"A\\\",\\\"B\\\",\\\"C\\\",\\\"D\\\",\\\"E\\\",\\\"F\\\",\\\"G\\\",\\\"H\\\",\\\"A\\\",\\\"B\\\",\\\"C\\\",\\\"D\\\",\\\"E\\\",\\\"F\\\",\\\"G\\\",\\\"H\\\"]],[\\\"Labels\\\",[\\\"M1N\\\\nP2A\\\\nQ3N\\\",\\\"T127A\\\",\\\"#PARENT#\\\",\\\"Q94R\\\",\\\"#PARENT#\\\",\\\"#PARENT#\\\",\\\"L24S\\\",\\\"M1N\\\\nP2A\\\\nQ3N\\\",\\\"G78R\\\",\\\"#PARENT#\\\",\\\"#PARENT#\\\",\\\"E42G\\\",\\\"M1N\\\\nP2A\\\\nQ3N\\\",\\\"Q94H\\\",\\\"#PARENT#\\\",\\\"#PARENT#\\\",\\\"#PARENT#\\\",\\\"#PARENT#\\\",\\\"T157A\\\",\\\"#PARENT#\\\",\\\"#PARENT#\\\",\\\"T122A\\\",\\\"D193G\\\",\\\"E167G\\\",\\\"#PARENT#\\\",\\\"#PARENT#\\\",\\\"W108C\\\\nE164G\\\",\\\"#PARENT#\\\",\\\"D193N\\\",\\\"#PARENT#\\\",\\\"#PARENT#\\\",\\\"#PARENT#\\\",\\\"#PARENT#\\\",\\\"#PARENT#\\\",\\\"#PARENT#\\\",\\\"#PARENT#\\\",\\\"#PARENT#\\\",\\\"#PARENT#\\\",\\\"T34R\\\",\\\"#PARENT#\\\",\\\"W33R\\\\nD98E\\\",\\\"#PARENT#\\\",\\\"#PARENT#\\\",\\\"T107I\\\",\\\"E86G\\\\nY146C\\\",\\\"M1N\\\\nP2A\\\\nQ3N\\\",\\\"M1N\\\\nP2A\\\\nQ3N\\\",\\\"#PARENT#\\\",\\\"#PARENT#\\\",\\\"M1N\\\\nP2A\\\\nQ3N\\\",\\\"#PARENT#\\\",\\\"#PARENT#\\\",\\\"#PARENT#\\\",\\\"#PARENT#\\\",\\\"#PARENT#\\\",\\\"#PARENT#\\\",\\\"#PARENT#\\\",\\\"#PARENT#\\\",\\\"#PARENT#\\\",\\\"#PARENT#\\\",\\\"#PARENT#\\\",\\\"#PARENT#\\\",\\\"#PARENT#\\\",\\\"V130E\\\\nD193N\\\",\\\"H120R\\\",\\\"#PARENT#\\\",\\\"F92L\\\",\\\"K104R\\\",\\\"#PARENT#\\\",\\\"#PARENT#\\\",\\\"#PARENT#\\\",\\\"E164G\\\",\\\"#PARENT#\\\",\\\"M1N\\\\nP2A\\\\nQ3N\\\",\\\"V133I\\\\nW184R\\\",\\\"T131A\\\",\\\"#PARENT#\\\",\\\"#PARENT#\\\",\\\"#PARENT#\\\",\\\"Q180R\\\",\\\"#PARENT#\\\",\\\"#PARENT#\\\",\\\"#PARENT#\\\",\\\"#PARENT#\\\",\\\"#PARENT#\\\",\\\"R30C\\\\nA36E\\\\nH121R\\\\nS144F\\\",\\\"#PARENT#\\\",\\\"#PARENT#\\\",\\\"#PARENT#\\\",\\\"I152V\\\",\\\"#PARENT#\\\",\\\"#PARENT#\\\",\\\"#PARENT#\\\",\\\"#PARENT#\\\",\\\"#PARENT#\\\",\\\"#PARENT#\\\"]]]},\\\"cols\\\":[\\\"Column\\\",\\\"Row\\\",\\\"Labels\\\"]},{\\\"kind\\\":\\\"ModelChanged\\\",\\\"model\\\":{\\\"id\\\":\\\"p1487\\\"},\\\"attr\\\":\\\"text\\\",\\\"new\\\":\\\"09\\\"},{\\\"kind\\\":\\\"ModelChanged\\\",\\\"model\\\":{\\\"id\\\":\\\"p1484\\\"},\\\"attr\\\":\\\"above\\\",\\\"new\\\":[{\\\"type\\\":\\\"object\\\",\\\"name\\\":\\\"Legend\\\",\\\"id\\\":\\\"p1541\\\",\\\"attributes\\\":{\\\"location\\\":[0,0],\\\"orientation\\\":\\\"horizontal\\\",\\\"click_policy\\\":\\\"mute\\\",\\\"items\\\":[{\\\"type\\\":\\\"object\\\",\\\"name\\\":\\\"LegendItem\\\",\\\"id\\\":\\\"p1542\\\",\\\"attributes\\\":{\\\"label\\\":{\\\"type\\\":\\\"field\\\",\\\"field\\\":\\\"line_color\\\"},\\\"renderers\\\":[{\\\"id\\\":\\\"p1538\\\"}]}}]}}]}]}\"]]}]]},\"widgets\":{\"type\":\"map\",\"entries\":[[\"p1469\",0]]},\"values\":[\"09\"]}}],\"defs\":[{\"type\":\"model\",\"name\":\"ReactiveHTML1\"},{\"type\":\"model\",\"name\":\"FlexBox1\",\"properties\":[{\"name\":\"align_content\",\"kind\":\"Any\",\"default\":\"flex-start\"},{\"name\":\"align_items\",\"kind\":\"Any\",\"default\":\"flex-start\"},{\"name\":\"flex_direction\",\"kind\":\"Any\",\"default\":\"row\"},{\"name\":\"flex_wrap\",\"kind\":\"Any\",\"default\":\"wrap\"},{\"name\":\"justify_content\",\"kind\":\"Any\",\"default\":\"flex-start\"}]},{\"type\":\"model\",\"name\":\"FloatPanel1\",\"properties\":[{\"name\":\"config\",\"kind\":\"Any\",\"default\":{\"type\":\"map\"}},{\"name\":\"contained\",\"kind\":\"Any\",\"default\":true},{\"name\":\"position\",\"kind\":\"Any\",\"default\":\"right-top\"},{\"name\":\"offsetx\",\"kind\":\"Any\",\"default\":null},{\"name\":\"offsety\",\"kind\":\"Any\",\"default\":null},{\"name\":\"theme\",\"kind\":\"Any\",\"default\":\"primary\"},{\"name\":\"status\",\"kind\":\"Any\",\"default\":\"normalized\"}]},{\"type\":\"model\",\"name\":\"GridStack1\",\"properties\":[{\"name\":\"mode\",\"kind\":\"Any\",\"default\":\"warn\"},{\"name\":\"ncols\",\"kind\":\"Any\",\"default\":null},{\"name\":\"nrows\",\"kind\":\"Any\",\"default\":null},{\"name\":\"allow_resize\",\"kind\":\"Any\",\"default\":true},{\"name\":\"allow_drag\",\"kind\":\"Any\",\"default\":true},{\"name\":\"state\",\"kind\":\"Any\",\"default\":[]}]},{\"type\":\"model\",\"name\":\"drag1\",\"properties\":[{\"name\":\"slider_width\",\"kind\":\"Any\",\"default\":5},{\"name\":\"slider_color\",\"kind\":\"Any\",\"default\":\"black\"},{\"name\":\"value\",\"kind\":\"Any\",\"default\":50}]},{\"type\":\"model\",\"name\":\"click1\",\"properties\":[{\"name\":\"terminal_output\",\"kind\":\"Any\",\"default\":\"\"},{\"name\":\"debug_name\",\"kind\":\"Any\",\"default\":\"\"},{\"name\":\"clears\",\"kind\":\"Any\",\"default\":0}]},{\"type\":\"model\",\"name\":\"FastWrapper1\",\"properties\":[{\"name\":\"object\",\"kind\":\"Any\",\"default\":null},{\"name\":\"style\",\"kind\":\"Any\",\"default\":null}]},{\"type\":\"model\",\"name\":\"NotificationAreaBase1\",\"properties\":[{\"name\":\"js_events\",\"kind\":\"Any\",\"default\":{\"type\":\"map\"}},{\"name\":\"position\",\"kind\":\"Any\",\"default\":\"bottom-right\"},{\"name\":\"_clear\",\"kind\":\"Any\",\"default\":0}]},{\"type\":\"model\",\"name\":\"NotificationArea1\",\"properties\":[{\"name\":\"js_events\",\"kind\":\"Any\",\"default\":{\"type\":\"map\"}},{\"name\":\"notifications\",\"kind\":\"Any\",\"default\":[]},{\"name\":\"position\",\"kind\":\"Any\",\"default\":\"bottom-right\"},{\"name\":\"_clear\",\"kind\":\"Any\",\"default\":0},{\"name\":\"types\",\"kind\":\"Any\",\"default\":[{\"type\":\"map\",\"entries\":[[\"type\",\"warning\"],[\"background\",\"#ffc107\"],[\"icon\",{\"type\":\"map\",\"entries\":[[\"className\",\"fas fa-exclamation-triangle\"],[\"tagName\",\"i\"],[\"color\",\"white\"]]}]]},{\"type\":\"map\",\"entries\":[[\"type\",\"info\"],[\"background\",\"#007bff\"],[\"icon\",{\"type\":\"map\",\"entries\":[[\"className\",\"fas fa-info-circle\"],[\"tagName\",\"i\"],[\"color\",\"white\"]]}]]}]}]},{\"type\":\"model\",\"name\":\"Notification\",\"properties\":[{\"name\":\"background\",\"kind\":\"Any\",\"default\":null},{\"name\":\"duration\",\"kind\":\"Any\",\"default\":3000},{\"name\":\"icon\",\"kind\":\"Any\",\"default\":null},{\"name\":\"message\",\"kind\":\"Any\",\"default\":\"\"},{\"name\":\"notification_type\",\"kind\":\"Any\",\"default\":null},{\"name\":\"_destroyed\",\"kind\":\"Any\",\"default\":false}]},{\"type\":\"model\",\"name\":\"TemplateActions1\",\"properties\":[{\"name\":\"open_modal\",\"kind\":\"Any\",\"default\":0},{\"name\":\"close_modal\",\"kind\":\"Any\",\"default\":0}]},{\"type\":\"model\",\"name\":\"BootstrapTemplateActions1\",\"properties\":[{\"name\":\"open_modal\",\"kind\":\"Any\",\"default\":0},{\"name\":\"close_modal\",\"kind\":\"Any\",\"default\":0}]},{\"type\":\"model\",\"name\":\"MaterialTemplateActions1\",\"properties\":[{\"name\":\"open_modal\",\"kind\":\"Any\",\"default\":0},{\"name\":\"close_modal\",\"kind\":\"Any\",\"default\":0}]}]}};\n",
       "  var render_items = [{\"docid\":\"417165d5-cda7-4df2-8b93-d74bdbd706e2\",\"roots\":{\"p1460\":\"fd124096-78d4-4454-ab67-9649ac4b5509\"},\"root_ids\":[\"p1460\"]}];\n",
       "  var docs = Object.values(docs_json)\n",
       "  if (!docs) {\n",
       "    return\n",
       "  }\n",
       "  const py_version = docs[0].version.replace('rc', '-rc.').replace('.dev', '-dev.')\n",
       "  const is_dev = py_version.indexOf(\"+\") !== -1 || py_version.indexOf(\"-\") !== -1\n",
       "  function embed_document(root) {\n",
       "    var Bokeh = get_bokeh(root)\n",
       "    Bokeh.embed.embed_items_notebook(docs_json, render_items);\n",
       "    for (const render_item of render_items) {\n",
       "      for (const root_id of render_item.root_ids) {\n",
       "\tconst id_el = document.getElementById(root_id)\n",
       "\tif (id_el.children.length && (id_el.children[0].className === 'bk-root')) {\n",
       "\t  const root_el = id_el.children[0]\n",
       "\t  root_el.id = root_el.id + '-rendered'\n",
       "\t}\n",
       "      }\n",
       "    }\n",
       "  }\n",
       "  function get_bokeh(root) {\n",
       "    if (root.Bokeh === undefined) {\n",
       "      return null\n",
       "    } else if (root.Bokeh.version !== py_version && !is_dev) {\n",
       "      if (root.Bokeh.versions === undefined || !root.Bokeh.versions.has(py_version)) {\n",
       "\treturn null\n",
       "      }\n",
       "      return root.Bokeh.versions.get(py_version);\n",
       "    } else if (root.Bokeh.version === py_version) {\n",
       "      return root.Bokeh\n",
       "    }\n",
       "    return null\n",
       "  }\n",
       "  function is_loaded(root) {\n",
       "    var Bokeh = get_bokeh(root)\n",
       "    return (Bokeh != null && Bokeh.Panel !== undefined)\n",
       "  }\n",
       "  if (is_loaded(root)) {\n",
       "    embed_document(root);\n",
       "  } else {\n",
       "    var attempts = 0;\n",
       "    var timer = setInterval(function(root) {\n",
       "      if (is_loaded(root)) {\n",
       "        clearInterval(timer);\n",
       "        embed_document(root);\n",
       "      } else if (document.readyState == \"complete\") {\n",
       "        attempts++;\n",
       "        if (attempts > 200) {\n",
       "          clearInterval(timer);\n",
       "\t  var Bokeh = get_bokeh(root)\n",
       "\t  if (Bokeh == null || Bokeh.Panel == null) {\n",
       "            console.warn(\"Panel: ERROR: Unable to run Panel code because Bokeh or Panel library is missing\");\n",
       "\t  } else {\n",
       "\t    console.warn(\"Panel: WARNING: Attempting to render but not all required libraries could be resolved.\")\n",
       "\t    embed_document(root)\n",
       "\t  }\n",
       "        }\n",
       "      }\n",
       "    }, 25, root)\n",
       "  }\n",
       "})(window);</script>"
      ],
      "text/plain": [
       ":HoloMap   [Plate]\n",
       "   :Overlay\n",
       "      .HeatMap.I :HeatMap   [Column,Row]   (logseqdepth,Mutations,Alignment Count,Alignment Probability)\n",
       "      .Points.I  :Points   [Column,Row]   (AlignmentProbabilityBinned)\n",
       "      .Labels.I  :Labels   [Column,Row]   (Labels)"
      ]
     },
     "execution_count": 110,
     "metadata": {
      "application/vnd.holoviews_exec.v0+json": {
       "id": "p1460"
      }
     },
     "output_type": "execute_result"
    }
   ],
   "source": [
    "hm_ = generate_platemaps(df_variants_)\n",
    "\n",
    "hm_"
   ]
  },
  {
   "cell_type": "code",
   "execution_count": 111,
   "metadata": {
    "tags": []
   },
   "outputs": [
    {
     "name": "stderr",
     "output_type": "stream",
     "text": [
      "WARNING:param.HeatMapPlot10235: HeatMap element index is not unique,  ensure you aggregate the data before displaying it, e.g. using heatmap.aggregate(function=np.mean). Duplicate index values have been dropped.\n"
     ]
    },
    {
     "name": "stdout",
     "output_type": "stream",
     "text": [
      "  0%|                                                                                            | 0/4 [00:00<?, ?it/s]"
     ]
    },
    {
     "name": "stderr",
     "output_type": "stream",
     "text": [
      "WARNING:param.HeatMapPlot10235: HeatMap element index is not unique,  ensure you aggregate the data before displaying it, e.g. using heatmap.aggregate(function=np.mean). Duplicate index values have been dropped.\n"
     ]
    },
    {
     "name": "stdout",
     "output_type": "stream",
     "text": [
      "                                                                                                                       "
     ]
    },
    {
     "name": "stderr",
     "output_type": "stream",
     "text": [
      "WARNING:bokeh.core.validation.check:W-1005 (FIXED_SIZING_MODE): 'fixed' sizing mode requires width and height to be set: figure(id='p1598', ...)\n"
     ]
    },
    {
     "name": "stdout",
     "output_type": "stream",
     "text": [
      "\r"
     ]
    }
   ],
   "source": [
    "save_platemap_to_file(hm_, demultiplex_folder, experiment_name)\n",
    "save_csv(df_variants_, demultiplex_folder, experiment_name)"
   ]
  },
  {
   "cell_type": "code",
   "execution_count": null,
   "metadata": {},
   "outputs": [],
   "source": []
  }
 ],
 "metadata": {
  "kernelspec": {
   "display_name": "Python 3",
   "language": "python",
   "name": "python3"
  },
  "language_info": {
   "codemirror_mode": {
    "name": "ipython",
    "version": 3
   },
   "file_extension": ".py",
   "mimetype": "text/x-python",
   "name": "python",
   "nbconvert_exporter": "python",
   "pygments_lexer": "ipython3",
   "version": "3.6.7"
  }
 },
 "nbformat": 4,
 "nbformat_minor": 4
}
