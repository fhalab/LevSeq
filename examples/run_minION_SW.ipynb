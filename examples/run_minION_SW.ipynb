{
 "cells": [
  {
   "cell_type": "markdown",
   "metadata": {},
   "source": [
    "# Every Variant Sequencing with Oxford Nanopore Technologies\n",
    "\n",
    "This script is being used after sequencing. The raw pod5 files can be basecalled or the already basecalled files can be used directly (fastq.gz)\n",
    "\n",
    "## Workflow\n",
    "\n",
    "### 1. Basecalling (Optional)\n",
    "\n",
    "- The raw reads are stored in the main folder of ONT (e.g /var/lib/minknow/data). Enter the experiment name as input. \n",
    "- Sequences are basecalled based on the model of choice. If enough computational power is available, we recommend \"sup\" method\n",
    "\n",
    "### 2. Demultiplexing \n",
    "- Each reead is assigned to a well/plate combination. \n",
    "\n",
    "### 3. Variant Calling\n",
    "- Minimap2 for creating Multiple Sequence Alignment (MSA)\n",
    "- Base Frequency Caller is being used for variant calling\n",
    "\n"
   ]
  },
  {
   "cell_type": "markdown",
   "metadata": {},
   "source": [
    "### Packages "
   ]
  },
  {
   "cell_type": "code",
   "execution_count": 15,
   "metadata": {},
   "outputs": [
    {
     "data": {
      "text/plain": [
       "<module 'minION.util.IO_processor' from '/home/emre/github_repo/MinION/minION/util/IO_processor.py'>"
      ]
     },
     "execution_count": 15,
     "metadata": {},
     "output_type": "execute_result"
    }
   ],
   "source": [
    "# Import all packages\n",
    "\n",
    "import sys\n",
    "sys.path.append(\"/home/emre/github_repo/MinION\")\n",
    "\n",
    "from minION.util import IO_processor\n",
    "from minION.basecaller import Basecaller\n",
    "\n",
    "from minION.variantcaller import *\n",
    "\n",
    "from pathlib import Path\n",
    "import pandas as pd\n",
    "import matplotlib.pyplot as plt\n",
    "import subprocess\n",
    "import importlib\n",
    "importlib.reload(IO_processor)"
   ]
  },
  {
   "cell_type": "markdown",
   "metadata": {},
   "source": [
    "### Meta Data \n",
    "\n",
    "- Provide the following arguments:\n",
    "\n",
    "- Result Path: Path where the minion result folder will be created. All experiment results are then stored within the folder\n",
    "- Experiment Name: The experiment name is assigned when running the sequencer. Use the same name for identification\n"
   ]
  },
  {
   "cell_type": "code",
   "execution_count": null,
   "metadata": {},
   "outputs": [],
   "source": [
    "result_path = Path(\"/home/emre/\")\n",
    "experiment_name = \"20240206-MinION-KingBob10\"\n",
    "basecall_model_type = \"sup\"\n",
    "result_folder = IO_processor.create_folder( experiment_name,\n",
    "                                            basecall_model_type, \n",
    "                                            target_path=result_path)\n",
    "\n",
    "\n",
    "\n",
    "\n",
    "# Create Barcode fasta file \n",
    "barcode_path = \"../minION/barcoding/minion_barcodes.fasta\" # Path to standard barcode file\n",
    "front_prefix = \"NB\"\n",
    "back_prefix = \"RB\"\n",
    "bp = IO_processor.BarcodeProcessor(barcode_path, front_prefix, back_prefix)\n",
    "barcode_path = result_folder / \"minion_barcodes_filtered.fasta\"\n",
    "\n",
    "# Barcode indexes\n",
    "front_min = 1\n",
    "front_max = 96\n",
    "back_min = 1\n",
    "back_max = 12\n",
    "\n",
    "# Expected fragment sizes\n",
    "min_size = 800\n",
    "max_size = 5000\n",
    "\n",
    "bp.filter_barcodes(barcode_path, (front_min,front_max), (back_min,back_max))\n",
    "\n",
    "\n",
    "file_to_experiment= f\"/var/lib/minknow/data/{experiment_name}\"\n",
    "template_fasta = \"/home/longy/zq-p411.fasta\"\n",
    "\n",
    "# Basecalling\n",
    "basecall_folder = result_folder / \"basecalled\"\n",
    "basecall_folder.mkdir(parents=True, exist_ok=True)\n",
    "experiment_folder = IO_processor.find_experiment_folder(experiment_name) # Folder where pod5 files are located\n",
    "\n",
    "# Demultiplexing\n",
    "experiment_name = experiment_name + \"_\" + basecall_model_type\n",
    "result_folder_path = IO_processor.find_folder(result_path, experiment_name)\n"
   ]
  },
  {
   "cell_type": "code",
   "execution_count": null,
   "metadata": {},
   "outputs": [],
   "source": [
    "# Add conditions to avoid running the script accidentally\n",
    "skip_basecalling = True\n",
    "skip_demultiplex = False\n",
    "skip_variant_calling = False"
   ]
  },
  {
   "cell_type": "markdown",
   "metadata": {},
   "source": [
    "### Step 1 (Optional): Basecall reads\n",
    "\n",
    "- Basecall can usually be done while sequencing (if GPU available?)\n",
    "- Otherwise, basecall afterwards"
   ]
  },
  {
   "cell_type": "code",
   "execution_count": null,
   "metadata": {},
   "outputs": [],
   "source": [
    "if not skip_basecalling:\n",
    "\n",
    "\n",
    "    pod5_files = IO_processor.find_folder(experiment_folder, \"pod5\")\n",
    "    bc = Basecaller(model=basecall_model_type, pod5_files, basecall_folder, fastq = True)\n",
    "    bc.run_basecaller()\n"
   ]
  },
  {
   "cell_type": "code",
   "execution_count": null,
   "metadata": {},
   "outputs": [],
   "source": [
    "# Find fastq files\n",
    "file_to_fastq = IO_processor.find_folder(experiment_folder, \"fastq_pass\")\n",
    "print(file_to_fastq)"
   ]
  },
  {
   "cell_type": "markdown",
   "metadata": {},
   "source": [
    "### Step 2: Demultiplex with SW\n",
    "- Demultiplex with SW "
   ]
  },
  {
   "cell_type": "code",
   "execution_count": null,
   "metadata": {},
   "outputs": [],
   "source": [
    "if not skip_demultiplex:\n",
    "    path_to_code = \"/home/emre/github_repo/MinION/source/source/demultiplex\"\n",
    "    prompt = f\"{path_to_code} -f {file_to_fastq} -d {result_folder} -b {barcode_path} -w {100} -r {100} -m {min_size} -x {max_size}\"\n",
    "    subprocess.run(prompt, shell=True)"
   ]
  },
  {
   "cell_type": "code",
   "execution_count": null,
   "metadata": {},
   "outputs": [],
   "source": [
    "demultiplex_folder = result_folder \n",
    "print(demultiplex_folder)"
   ]
  },
  {
   "cell_type": "markdown",
   "metadata": {},
   "source": [
    "### Step 3: Call Variant with PileUP Analysis\n",
    "\n",
    "- Call Variant with min freq of 0.4 & depth min 15"
   ]
  },
  {
   "cell_type": "markdown",
   "metadata": {},
   "source": [
    "Read Summary file (Optional):\n"
   ]
  },
  {
   "cell_type": "code",
   "execution_count": null,
   "metadata": {},
   "outputs": [],
   "source": [
    "\n",
    "demultiplex_folder_name = result_folder"
   ]
  },
  {
   "cell_type": "code",
   "execution_count": 16,
   "metadata": {},
   "outputs": [
    {
     "name": "stderr",
     "output_type": "stream",
     "text": [
      "0it [00:00, ?it/s]"
     ]
    },
    {
     "name": "stdout",
     "output_type": "stream",
     "text": [
      "unsupported operand type(s) for /: 'float' and 'str'\n"
     ]
    },
    {
     "name": "stderr",
     "output_type": "stream",
     "text": [
      "68it [00:39,  1.61it/s]"
     ]
    },
    {
     "name": "stdout",
     "output_type": "stream",
     "text": [
      "'NoneType' object is not subscriptable\n"
     ]
    },
    {
     "name": "stderr",
     "output_type": "stream",
     "text": [
      "71it [00:40,  1.62it/s]"
     ]
    },
    {
     "name": "stdout",
     "output_type": "stream",
     "text": [
      "unsupported operand type(s) for /: 'float' and 'str'\n"
     ]
    },
    {
     "name": "stderr",
     "output_type": "stream",
     "text": [
      "93it [00:52,  1.96it/s]"
     ]
    },
    {
     "name": "stdout",
     "output_type": "stream",
     "text": [
      "'NoneType' object is not subscriptable\n"
     ]
    },
    {
     "name": "stderr",
     "output_type": "stream",
     "text": [
      "96it [00:54,  1.63it/s]"
     ]
    },
    {
     "name": "stdout",
     "output_type": "stream",
     "text": [
      "unsupported operand type(s) for /: 'float' and 'str'\n"
     ]
    },
    {
     "name": "stderr",
     "output_type": "stream",
     "text": [
      "133it [01:19,  1.41it/s]"
     ]
    },
    {
     "name": "stdout",
     "output_type": "stream",
     "text": [
      "'NoneType' object is not subscriptable\n"
     ]
    },
    {
     "name": "stderr",
     "output_type": "stream",
     "text": [
      "183it [01:54,  1.55it/s]"
     ]
    },
    {
     "name": "stdout",
     "output_type": "stream",
     "text": [
      "'NoneType' object is not subscriptable\n"
     ]
    },
    {
     "name": "stderr",
     "output_type": "stream",
     "text": [
      "187it [01:56,  2.33it/s]"
     ]
    },
    {
     "name": "stdout",
     "output_type": "stream",
     "text": [
      "unsupported operand type(s) for /: 'float' and 'str'\n"
     ]
    },
    {
     "name": "stderr",
     "output_type": "stream",
     "text": [
      "189it [01:57,  2.06it/s]"
     ]
    },
    {
     "name": "stdout",
     "output_type": "stream",
     "text": [
      "'NoneType' object is not subscriptable\n"
     ]
    },
    {
     "name": "stderr",
     "output_type": "stream",
     "text": [
      "194it [01:58,  3.56it/s]"
     ]
    },
    {
     "name": "stdout",
     "output_type": "stream",
     "text": [
      "Too many positions: 28, Skipping...\n"
     ]
    },
    {
     "name": "stderr",
     "output_type": "stream",
     "text": [
      "226it [02:22,  1.46it/s]"
     ]
    },
    {
     "name": "stdout",
     "output_type": "stream",
     "text": [
      "'NoneType' object is not subscriptable\n"
     ]
    },
    {
     "name": "stderr",
     "output_type": "stream",
     "text": [
      "243it [02:33,  1.25it/s]"
     ]
    },
    {
     "name": "stdout",
     "output_type": "stream",
     "text": [
      "unsupported operand type(s) for /: 'float' and 'str'\n"
     ]
    },
    {
     "name": "stderr",
     "output_type": "stream",
     "text": [
      "272it [02:51,  1.15it/s]"
     ]
    },
    {
     "name": "stdout",
     "output_type": "stream",
     "text": [
      "'NoneType' object is not subscriptable\n"
     ]
    },
    {
     "name": "stderr",
     "output_type": "stream",
     "text": [
      "300it [03:02,  6.84it/s]"
     ]
    },
    {
     "name": "stdout",
     "output_type": "stream",
     "text": [
      "'[1184, 1185, 1187, 1188] not in index'\n",
      "'[488, 489, 491, 492] not in index'\n",
      "'[1915, 1916, 1918, 1919] not in index'\n",
      "'[471, 472, 474, 475] not in index'\n",
      "'[1831, 1832, 1834, 1835] not in index'\n",
      "'[228, 229, 231, 232] not in index'\n",
      "'[1099, 1100, 1102, 1103] not in index'\n",
      "'[389, 390, 392, 393] not in index'\n",
      "'[1339, 1340, 1342, 1343] not in index'\n",
      "'[1395, 1396, 1398, 1399] not in index'\n",
      "Too many positions: 70, Skipping...\n",
      "'[436, 437, 439, 440] not in index'\n",
      "Too many positions: 26, Skipping...\n",
      "Too many positions: 18, Skipping...\n",
      "Too many positions: 87, Skipping...\n",
      "'[1158, 1159, 1161, 1162] not in index'\n",
      "Too many positions: 21, Skipping...\n"
     ]
    },
    {
     "name": "stderr",
     "output_type": "stream",
     "text": [
      "317it [03:02, 18.15it/s]"
     ]
    },
    {
     "name": "stdout",
     "output_type": "stream",
     "text": [
      "Too many positions: 159, Skipping...\n",
      "Too many positions: 17, Skipping...\n",
      "'[1096, 1097, 1099, 1100] not in index'\n",
      "'[782, 783, 785, 786] not in index'\n",
      "Too many positions: 26, Skipping...\n",
      "Too many positions: 14, Skipping...\n",
      "'[986, 987, 989, 990] not in index'\n",
      "Too many positions: 12, Skipping...\n",
      "'[100, 101, 103, 104] not in index'\n",
      "Too many positions: 68, Skipping...\n",
      "'[419, 420, 422, 423] not in index'\n",
      "'[934, 935, 937, 938] not in index'\n",
      "Too many positions: 112, Skipping...\n",
      "'[1953, 1954, 1956, 1957] not in index'\n",
      "'[345, 346, 348, 349] not in index'\n",
      "'[546, 547, 549, 550] not in index'\n",
      "Too many positions: 47, Skipping...\n",
      "Too many positions: 31, Skipping...\n",
      "Too many positions: 44, Skipping...\n"
     ]
    },
    {
     "name": "stderr",
     "output_type": "stream",
     "text": [
      "332it [03:02, 27.84it/s]"
     ]
    },
    {
     "name": "stdout",
     "output_type": "stream",
     "text": [
      "Too many positions: 69, Skipping...\n",
      "Too many positions: 74, Skipping...\n",
      "'[322, 323, 325, 326] not in index'\n",
      "'[223, 224, 226, 227] not in index'\n",
      "'[1395, 1396, 1398, 1399] not in index'\n",
      "'[1605, 1606, 1608, 1609] not in index'\n",
      "Too many positions: 46, Skipping...\n",
      "Too many positions: 21, Skipping...\n",
      "'[2007, 2008, 2010, 2011] not in index'\n"
     ]
    },
    {
     "name": "stderr",
     "output_type": "stream",
     "text": [
      "349it [03:02, 42.93it/s]"
     ]
    },
    {
     "name": "stdout",
     "output_type": "stream",
     "text": [
      "Too many positions: 16, Skipping...\n",
      "Too many positions: 19, Skipping...\n",
      "Too many positions: 11, Skipping...\n",
      "'[34, 35, 37, 38] not in index'\n",
      "Too many positions: 46, Skipping...\n",
      "'[790, 791, 793, 794] not in index'\n",
      "Too many positions: 15, Skipping...\n",
      "'[1532, 1533, 1535, 1536] not in index'\n",
      "'[766, 767, 770] not in index'\n",
      "Too many positions: 89, Skipping...\n",
      "Too many positions: 31, Skipping...\n",
      "'[534, 535, 537, 538] not in index'\n",
      "'[1507, 1508, 1510, 1511] not in index'\n",
      "Too many positions: 13, Skipping...\n",
      "Too many positions: 87, Skipping...\n",
      "Too many positions: 14, Skipping...\n",
      "'[1051, 1052, 1054, 1055] not in index'\n",
      "'[148, 149, 151, 152] not in index'\n",
      "Too many positions: 23, Skipping...\n"
     ]
    },
    {
     "name": "stderr",
     "output_type": "stream",
     "text": [
      "364it [03:03, 46.75it/s]"
     ]
    },
    {
     "name": "stdout",
     "output_type": "stream",
     "text": [
      "'[1164, 1165, 1167, 1168] not in index'\n",
      "'[2015, 2016, 2018, 2019] not in index'\n",
      "Too many positions: 80, Skipping...\n",
      "'[421, 422, 424, 425] not in index'\n",
      "'[577, 578, 580, 581] not in index'\n",
      "Too many positions: 35, Skipping...\n",
      "'[1481, 1482, 1484, 1485] not in index'\n",
      "Too many positions: 31, Skipping...\n",
      "'[585, 586, 588, 589] not in index'\n"
     ]
    },
    {
     "name": "stderr",
     "output_type": "stream",
     "text": [
      "372it [03:03, 45.34it/s]"
     ]
    },
    {
     "name": "stdout",
     "output_type": "stream",
     "text": [
      "Too many positions: 73, Skipping...\n",
      "'[591, 592, 594, 595] not in index'\n",
      "Too many positions: 34, Skipping...\n",
      "Too many positions: 28, Skipping...\n",
      "'[290, 291, 293, 294] not in index'\n",
      "'[1870, 1871, 1873, 1874] not in index'\n",
      "Too many positions: 30, Skipping...\n",
      "'[1486, 1487, 1489, 1490] not in index'\n"
     ]
    },
    {
     "name": "stderr",
     "output_type": "stream",
     "text": [
      "384it [03:03,  2.09it/s]"
     ]
    },
    {
     "name": "stdout",
     "output_type": "stream",
     "text": [
      "Too many positions: 40, Skipping...\n",
      "'[1587, 1588, 1590, 1591] not in index'\n",
      "'[1192, 1193, 1195, 1196] not in index'\n",
      "'[140, 141, 143, 144] not in index'\n",
      "'[21, 22, 24, 25] not in index'\n",
      "'[161, 162, 164, 165] not in index'\n",
      "Too many positions: 14, Skipping...\n",
      "'[955, 956, 958, 959] not in index'\n",
      "'[500, 501, 503, 504] not in index'\n",
      "Too many positions: 35, Skipping...\n"
     ]
    },
    {
     "name": "stderr",
     "output_type": "stream",
     "text": [
      "\n"
     ]
    }
   ],
   "source": [
    "if not skip_variant_calling:\n",
    "    vc = VariantCaller(experiment_folder, \n",
    "                   template_fasta, \n",
    "                   demultiplex_folder_name=demultiplex_folder_name, \n",
    "                   padding_start=0, \n",
    "                   padding_end=0)\n",
    "    \n",
    "    variant_df = vc.get_variant_df(qualities=True, \n",
    "                                threshold=0.2,\n",
    "                                min_depth=5)\n",
    "    seq_gen = IO_processor.SequenceGenerator(variant_df, template_fasta)\n",
    "    variant_df = seq_gen.get_sequences()\n",
    "    #TODO: Save the variant_df to a file after running. Currently it is not saved."
   ]
  },
  {
   "cell_type": "code",
   "execution_count": null,
   "metadata": {},
   "outputs": [],
   "source": [
    "#20 - 30\n",
    "variant_df.to_csv(result_folder / \"variant_df.csv\", index=False)  "
   ]
  },
  {
   "cell_type": "code",
   "execution_count": null,
   "metadata": {},
   "outputs": [],
   "source": [
    "variant_df.iloc[1,2]"
   ]
  },
  {
   "cell_type": "code",
   "execution_count": 17,
   "metadata": {},
   "outputs": [
    {
     "data": {
      "text/html": [
       "<div>\n",
       "<style scoped>\n",
       "    .dataframe tbody tr th:only-of-type {\n",
       "        vertical-align: middle;\n",
       "    }\n",
       "\n",
       "    .dataframe tbody tr th {\n",
       "        vertical-align: top;\n",
       "    }\n",
       "\n",
       "    .dataframe thead th {\n",
       "        text-align: right;\n",
       "    }\n",
       "</style>\n",
       "<table border=\"1\" class=\"dataframe\">\n",
       "  <thead>\n",
       "    <tr style=\"text-align: right;\">\n",
       "      <th></th>\n",
       "      <th>Plate</th>\n",
       "      <th>Well</th>\n",
       "      <th>Path</th>\n",
       "      <th>Alignment_count</th>\n",
       "      <th>Variant</th>\n",
       "      <th>Probability</th>\n",
       "      <th>Sequence</th>\n",
       "    </tr>\n",
       "  </thead>\n",
       "  <tbody>\n",
       "    <tr>\n",
       "      <th>0</th>\n",
       "      <td>9</td>\n",
       "      <td>A1</td>\n",
       "      <td>NaN</td>\n",
       "      <td>0</td>\n",
       "      <td>NaN</td>\n",
       "      <td>NaN</td>\n",
       "      <td>NaN</td>\n",
       "    </tr>\n",
       "    <tr>\n",
       "      <th>1</th>\n",
       "      <td>9</td>\n",
       "      <td>A2</td>\n",
       "      <td>/home/emre/minION_results/20240206-MinION-King...</td>\n",
       "      <td>37</td>\n",
       "      <td>C541G_G543T</td>\n",
       "      <td>0.972916</td>\n",
       "      <td>ACCGTTATTAAACACAGATAAACCGGTTCAAGCTTTGATGAAAATT...</td>\n",
       "    </tr>\n",
       "    <tr>\n",
       "      <th>2</th>\n",
       "      <td>9</td>\n",
       "      <td>A3</td>\n",
       "      <td>/home/emre/minION_results/20240206-MinION-King...</td>\n",
       "      <td>49</td>\n",
       "      <td>T542G_G543T</td>\n",
       "      <td>0.959444</td>\n",
       "      <td>ACCGTTATTAAACACAGATAAACCGGTTCAAGCTTTGATGAAAATT...</td>\n",
       "    </tr>\n",
       "    <tr>\n",
       "      <th>3</th>\n",
       "      <td>9</td>\n",
       "      <td>A4</td>\n",
       "      <td>/home/emre/minION_results/20240206-MinION-King...</td>\n",
       "      <td>29</td>\n",
       "      <td>C541T_T542G</td>\n",
       "      <td>0.735540</td>\n",
       "      <td>ACCGTTATTAAACACAGATAAACCGGTTCAAGCTTTGATGAAAATT...</td>\n",
       "    </tr>\n",
       "    <tr>\n",
       "      <th>4</th>\n",
       "      <td>9</td>\n",
       "      <td>A5</td>\n",
       "      <td>/home/emre/minION_results/20240206-MinION-King...</td>\n",
       "      <td>65</td>\n",
       "      <td>C541G_T542G_G543T</td>\n",
       "      <td>1.000000</td>\n",
       "      <td>ACCGTTATTAAACACAGATAAACCGGTTCAAGCTTTGATGAAAATT...</td>\n",
       "    </tr>\n",
       "    <tr>\n",
       "      <th>...</th>\n",
       "      <td>...</td>\n",
       "      <td>...</td>\n",
       "      <td>...</td>\n",
       "      <td>...</td>\n",
       "      <td>...</td>\n",
       "      <td>...</td>\n",
       "      <td>...</td>\n",
       "    </tr>\n",
       "    <tr>\n",
       "      <th>379</th>\n",
       "      <td>12</td>\n",
       "      <td>H8</td>\n",
       "      <td>/home/emre/minION_results/20240206-MinION-King...</td>\n",
       "      <td>118</td>\n",
       "      <td>NaN</td>\n",
       "      <td>NaN</td>\n",
       "      <td>NaN</td>\n",
       "    </tr>\n",
       "    <tr>\n",
       "      <th>380</th>\n",
       "      <td>12</td>\n",
       "      <td>H9</td>\n",
       "      <td>/home/emre/minION_results/20240206-MinION-King...</td>\n",
       "      <td>267</td>\n",
       "      <td>nan</td>\n",
       "      <td>NaN</td>\n",
       "      <td>NaN</td>\n",
       "    </tr>\n",
       "    <tr>\n",
       "      <th>381</th>\n",
       "      <td>12</td>\n",
       "      <td>H10</td>\n",
       "      <td>/home/emre/minION_results/20240206-MinION-King...</td>\n",
       "      <td>249</td>\n",
       "      <td>NaN</td>\n",
       "      <td>NaN</td>\n",
       "      <td>NaN</td>\n",
       "    </tr>\n",
       "    <tr>\n",
       "      <th>382</th>\n",
       "      <td>12</td>\n",
       "      <td>H11</td>\n",
       "      <td>/home/emre/minION_results/20240206-MinION-King...</td>\n",
       "      <td>166</td>\n",
       "      <td>NaN</td>\n",
       "      <td>NaN</td>\n",
       "      <td>NaN</td>\n",
       "    </tr>\n",
       "    <tr>\n",
       "      <th>383</th>\n",
       "      <td>12</td>\n",
       "      <td>H12</td>\n",
       "      <td>/home/emre/minION_results/20240206-MinION-King...</td>\n",
       "      <td>44</td>\n",
       "      <td>nan</td>\n",
       "      <td>NaN</td>\n",
       "      <td>NaN</td>\n",
       "    </tr>\n",
       "  </tbody>\n",
       "</table>\n",
       "<p>384 rows × 7 columns</p>\n",
       "</div>"
      ],
      "text/plain": [
       "     Plate Well                                               Path  \\\n",
       "0        9   A1                                                NaN   \n",
       "1        9   A2  /home/emre/minION_results/20240206-MinION-King...   \n",
       "2        9   A3  /home/emre/minION_results/20240206-MinION-King...   \n",
       "3        9   A4  /home/emre/minION_results/20240206-MinION-King...   \n",
       "4        9   A5  /home/emre/minION_results/20240206-MinION-King...   \n",
       "..     ...  ...                                                ...   \n",
       "379     12   H8  /home/emre/minION_results/20240206-MinION-King...   \n",
       "380     12   H9  /home/emre/minION_results/20240206-MinION-King...   \n",
       "381     12  H10  /home/emre/minION_results/20240206-MinION-King...   \n",
       "382     12  H11  /home/emre/minION_results/20240206-MinION-King...   \n",
       "383     12  H12  /home/emre/minION_results/20240206-MinION-King...   \n",
       "\n",
       "     Alignment_count            Variant  Probability  \\\n",
       "0                  0                NaN          NaN   \n",
       "1                 37        C541G_G543T     0.972916   \n",
       "2                 49        T542G_G543T     0.959444   \n",
       "3                 29        C541T_T542G     0.735540   \n",
       "4                 65  C541G_T542G_G543T     1.000000   \n",
       "..               ...                ...          ...   \n",
       "379              118                NaN          NaN   \n",
       "380              267                nan          NaN   \n",
       "381              249                NaN          NaN   \n",
       "382              166                NaN          NaN   \n",
       "383               44                nan          NaN   \n",
       "\n",
       "                                              Sequence  \n",
       "0                                                  NaN  \n",
       "1    ACCGTTATTAAACACAGATAAACCGGTTCAAGCTTTGATGAAAATT...  \n",
       "2    ACCGTTATTAAACACAGATAAACCGGTTCAAGCTTTGATGAAAATT...  \n",
       "3    ACCGTTATTAAACACAGATAAACCGGTTCAAGCTTTGATGAAAATT...  \n",
       "4    ACCGTTATTAAACACAGATAAACCGGTTCAAGCTTTGATGAAAATT...  \n",
       "..                                                 ...  \n",
       "379                                                NaN  \n",
       "380                                                NaN  \n",
       "381                                                NaN  \n",
       "382                                                NaN  \n",
       "383                                                NaN  \n",
       "\n",
       "[384 rows x 7 columns]"
      ]
     },
     "execution_count": 17,
     "metadata": {},
     "output_type": "execute_result"
    }
   ],
   "source": [
    "variant_df"
   ]
  },
  {
   "cell_type": "code",
   "execution_count": null,
   "metadata": {},
   "outputs": [],
   "source": []
  }
 ],
 "metadata": {
  "kernelspec": {
   "display_name": "minion",
   "language": "python",
   "name": "python3"
  },
  "language_info": {
   "codemirror_mode": {
    "name": "ipython",
    "version": 3
   },
   "file_extension": ".py",
   "mimetype": "text/x-python",
   "name": "python",
   "nbconvert_exporter": "python",
   "pygments_lexer": "ipython3",
   "version": "3.9.18"
  }
 },
 "nbformat": 4,
 "nbformat_minor": 2
}
