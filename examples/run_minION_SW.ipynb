{
 "cells": [
  {
   "cell_type": "markdown",
   "metadata": {},
   "source": [
    "# Every Variant Sequencing with Oxford Nanopore Technologies\n",
    "\n",
    "This script is being used after sequencing. The raw pod5 files can be basecalled or the already basecalled files can be used directly (fastq.gz)\n",
    "\n",
    "## Workflow\n",
    "\n",
    "### 1. Basecalling (Optional)\n",
    "\n",
    "- The raw reads are stored in the main folder of ONT (e.g /var/lib/minknow/data). Enter the experiment name as input. \n",
    "- Sequences are basecalled based on the model of choice. If enough computational power is available, we recommend \"sup\" method\n",
    "\n",
    "### 2. Demultiplexing \n",
    "- Each reead is assigned to a well/plate combination. \n",
    "\n",
    "### 3. Variant Calling\n",
    "- Minimap2 for creating Multiple Sequence Alignment (MSA)\n",
    "- Base Frequency Caller is being used for variant calling\n",
    "\n"
   ]
  },
  {
   "cell_type": "markdown",
   "metadata": {},
   "source": [
    "### Packages "
   ]
  },
  {
   "cell_type": "code",
   "execution_count": 1,
   "metadata": {},
   "outputs": [],
   "source": [
    "# Import all packages\n",
    "\n",
    "import sys\n",
    "sys.path.append(\"/home/emre/github_repo/MinION\")\n",
    "\n",
    "from minION.util import IO_processor\n",
    "from minION import analyser\n",
    "from minION import consensus\n",
    "from minION import demultiplexer\n",
    "from minION import basecaller\n",
    "from minION.util import globals\n",
    "from minION import analyser_bayes_AF\n",
    "from minION.variantcaller import *\n",
    "\n",
    "from pathlib import Path\n",
    "import pandas as pd\n",
    "\n",
    "import matplotlib.pyplot as plt\n",
    "import subprocess"
   ]
  },
  {
   "cell_type": "code",
   "execution_count": 3,
   "metadata": {},
   "outputs": [
    {
     "data": {
      "text/plain": [
       "[PosixPath('/home/emre/minION_results/test_minion/NB23/demultiplexed_RB06_NB23_000.fastq')]"
      ]
     },
     "execution_count": 3,
     "metadata": {},
     "output_type": "execute_result"
    }
   ],
   "source": [
    "import glob\n",
    "\n",
    "output_dir = Path(\"/home/emre/minION_results/test_minion/NB23\")\n",
    "\n",
    "list(output_dir.glob(\"*.fastq\"))"
   ]
  },
  {
   "cell_type": "markdown",
   "metadata": {},
   "source": [
    "### Meta Data \n",
    "\n",
    "- Provide the following arguments:\n",
    "\n",
    "- Result Path: Path where the minion result folder will be created. All experiment results are then stored within the folder\n",
    "- Experiment Name: The experiment name is assigned when running the sequencer. Use the same name for identification\n"
   ]
  },
  {
   "cell_type": "code",
   "execution_count": 2,
   "metadata": {},
   "outputs": [
    {
     "name": "stdout",
     "output_type": "stream",
     "text": [
      "/home/emre/minION_results/20240112-RL-8Plates-FLongle-2_sup/basecalled\n",
      "/var/lib/minknow/data/20240112-RL-8Plates-FLongle-2\n"
     ]
    }
   ],
   "source": [
    "# General settings\n",
    "\n",
    "result_path = Path(\"/home/emre/\")\n",
    "experiment_name = \"20240112-RL-8Plates-FLongle-2\"\n",
    "file_to_experiment= f\"/var/lib/minknow/data/{experiment_name}\"\n",
    "basecall_model_type = \"sup\"\n",
    "result_folder = IO_processor.create_folder( experiment_name,\n",
    "                                            basecall_model_type, \n",
    "                                            target_path=result_path)\n",
    "\n",
    "barcode_file = \"/home/emre/github_repo/MinION/minION/barcoding/minion_barcodes_pga9.fasta\"\n",
    "basecall_folder = result_folder / \"basecalled\"\n",
    "basecall_folder.mkdir(parents=True, exist_ok=True)\n",
    "experiment_folder = IO_processor.find_experiment_folder(experiment_name) # Folder where pod5 files are located\n",
    "\n",
    "# Add conditions to avoid running the script accidentally\n",
    "skip_basecalling = True\n",
    "skip_demultiplex = False\n",
    "skip_variant_calling = False\n",
    "\n",
    "\n",
    "print(basecall_folder)\n",
    "print(experiment_folder)"
   ]
  },
  {
   "cell_type": "markdown",
   "metadata": {},
   "source": [
    "### Step 1 (Optional): Basecall reads\n",
    "\n",
    "- Basecall can usually be done while sequencing (if GPU available?)\n",
    "- Otherwise, basecall afterwards"
   ]
  },
  {
   "cell_type": "code",
   "execution_count": 3,
   "metadata": {},
   "outputs": [],
   "source": [
    "if not skip_basecalling:\n",
    "    pod5_files = IO_processor.find_folder(experiment_folder, \"pod5\")\n",
    "    basecaller.run_dorado(basecall_model_type, pod5_files, basecall_folder, fastq = True)"
   ]
  },
  {
   "cell_type": "code",
   "execution_count": 4,
   "metadata": {},
   "outputs": [
    {
     "name": "stdout",
     "output_type": "stream",
     "text": [
      "/var/lib/minknow/data/20240112-RL-8Plates-FLongle-2/no_sample/20240112_1646_MN45017_flg114_9ac1102b/fastq_pass\n"
     ]
    }
   ],
   "source": [
    "# Find fastq files\n",
    "file_to_fastq = IO_processor.find_folder(experiment_folder, \"fastq_pass\")\n",
    "print(file_to_fastq)"
   ]
  },
  {
   "cell_type": "markdown",
   "metadata": {},
   "source": [
    "### Step 2: Demultiplex with SW\n",
    "- Demultiplex with SW "
   ]
  },
  {
   "cell_type": "code",
   "execution_count": 5,
   "metadata": {},
   "outputs": [
    {
     "name": "stdout",
     "output_type": "stream",
     "text": [
      "Processed argument: -f with value: /var/lib/minknow/data/20240112-RL-8Plates-FLongle-2/no_sample/20240112_1646_MN45017_flg114_9ac1102b/fastq_pass\n",
      "Processed argument: -d with value: /home/emre/minION_results/20240112-RL-8Plates-FLongle-2_sup\n",
      "Processed argument: -b with value: /home/emre/github_repo/MinION/minION/barcoding/minion_barcodes_pga9.fasta\n",
      "Processed argument: -w with value: 100\n",
      "Processed argument: -r with value: 100\n",
      "Number of files: 305\n",
      "Processing files: [##################################################] 100%\n"
     ]
    }
   ],
   "source": [
    "if not skip_demultiplex:\n",
    "    path_to_code = \"/home/emre/github_repo/MinION/source/source/demultiplex\"\n",
    "    prompt = f\"{path_to_code} -f {file_to_fastq} -d {result_folder} -b {barcode_file} -w {100} -r {100}\"\n",
    "    subprocess.run(prompt, shell=True)"
   ]
  },
  {
   "cell_type": "code",
   "execution_count": null,
   "metadata": {},
   "outputs": [],
   "source": [
    "demultiplex_folder = result_folder \n",
    "print(demultiplex_folder)"
   ]
  },
  {
   "cell_type": "markdown",
   "metadata": {},
   "source": [
    "### Step 3: Call Variant with PileUP Analysis\n",
    "\n",
    "- Call Variant with min freq of 0.4 & depth min 15"
   ]
  },
  {
   "cell_type": "markdown",
   "metadata": {},
   "source": [
    "Read Summary file (Optional):\n"
   ]
  },
  {
   "cell_type": "code",
   "execution_count": null,
   "metadata": {},
   "outputs": [],
   "source": [
    "summary_file = analyser.read_summary_file(result_folder)\n",
    "summary_file"
   ]
  },
  {
   "cell_type": "code",
   "execution_count": null,
   "metadata": {},
   "outputs": [],
   "source": [
    "ref_seq = Path(\"/home/emre/PgA9.fasta\")\n",
    "ref_name = \"PgA9\"\n",
    "demultiplex_folder = result_folder \n",
    "barcode_dict = IO_processor.get_barcode_dict(demultiplex_folder, \"NB\", \"RB\")\n",
    "print(demultiplex_folder)\n",
    "if not skip_variant_calling:\n",
    "    variants = analyser_bayes_AF.get_variant_df_soft(demultiplex_folder, ref_seq, ref_name, barcode_dict, merge = False, min_depth= 5, padding=0, rowwise = False, alignment_name = \"alignment_minimap_site_saturation.bam\")"
   ]
  },
  {
   "cell_type": "code",
   "execution_count": null,
   "metadata": {},
   "outputs": [],
   "source": [
    "variants = variants[variants[\"Plate\"] > 4]\n",
    "variants.tail(30)"
   ]
  },
  {
   "cell_type": "code",
   "execution_count": null,
   "metadata": {},
   "outputs": [],
   "source": [
    "pd.DataFrame(variants).head(180)"
   ]
  },
  {
   "cell_type": "code",
   "execution_count": null,
   "metadata": {},
   "outputs": [],
   "source": [
    "pd.DataFrame(variants).to_csv(result_folder / \"variant_df.csv\")"
   ]
  },
  {
   "cell_type": "markdown",
   "metadata": {},
   "source": [
    "pd.DataFrame(variants).to_pickle(\"/home/emre/github_repo/MinION/results/2_hetcpiii_minion_errorprone/local/variants_SW_1Mio.pkl\")"
   ]
  },
  {
   "cell_type": "code",
   "execution_count": null,
   "metadata": {},
   "outputs": [],
   "source": [
    "# Assuming `variants` is your dictionary\n",
    "\n",
    "# Iterate over the range of the longest list\n",
    "for i in range(len(variants['RBC'])):\n",
    "    rbc = variants['RBC'][i]\n",
    "    fbc = variants['FBC'][i]\n",
    "\n",
    "    # Check if this index is beyond the length of other lists\n",
    "    if i >= len(variants['Position']) or i >= len(variants['Variant']) or i >= len(variants['Alignment Count']) or i >= len(variants['Alignment Frequency']):\n",
    "        print(f\"Missing data for RBC: {rbc}, FBC: {fbc}\")\n",
    "    else:\n",
    "        # Check if the data at this index matches the RBC and FBC\n",
    "        position = variants['Position'][i]\n",
    "        variant = variants['Variant'][i]\n",
    "        alignment_count = variants['Alignment Count'][i]\n",
    "        alignment_frequency = variants['Alignment Frequency'][i]\n",
    "\n",
    "        # If any of these are 'NA', it indicates missing data\n",
    "        if position == \"NA\" or variant == \"NA\" or alignment_count == \"NA\" or alignment_frequency == \"NA\":\n",
    "            print(f\"Incomplete data for RBC: {rbc}, FBC: {fbc}\")\n"
   ]
  },
  {
   "cell_type": "code",
   "execution_count": null,
   "metadata": {},
   "outputs": [],
   "source": [
    "bam_file = \"/home/emre/minION_results/MinION_RBC_0902723_sup/Demultiplex_cpp_70_200k_reads/RB02/NB70/alignment_minimap.bam\"\n",
    "template = Path(\"/home/emre/github_repo/MinION/minION/refseq/hetcpiii_padded.fasta\")\n",
    "template_seq = analyser.get_template_sequence(template)\n",
    "ref_name = \"HetCPIII\"\n",
    "min_freq = 0.4\n",
    "min_depth = 15\n",
    "nn_variants = analyser.call_variant_pop_frequency(bam_file, template_seq, ref_name, min_freq, min_depth, padding_start=50, padding_end=51)\n",
    "for i, variant in enumerate(nn_variants[\"Variant\"]):\n",
    "    print(nn_variants)"
   ]
  },
  {
   "cell_type": "code",
   "execution_count": null,
   "metadata": {},
   "outputs": [],
   "source": [
    "alignment_count = int(subprocess.run(f\"samtools view -c {bam_file}\", shell=True, capture_output=True).stdout.decode(\"utf-8\").strip())\n",
    "range_positions = range(50, len(template_seq) - 50)\n",
    "freq_dist = pd.DataFrame(analyser.get_highest_non_ref_base_freq_2(bam_file, ref_name, range_positions, template_seq, qualities=False)[0]).T.rename(columns={0:\"Base\", 1:\"Frequency\"})\n",
    "\n",
    "nb_positions = analyser.get_nb_positions(freq_dist, min_freq)\n",
    "\n",
    "\n",
    "nn_variants = analyser.get_pop_frequency(bam_file, template_seq, ref_name, [245], min_freq=min_freq, min_depth= 15)\n",
    "\n"
   ]
  },
  {
   "cell_type": "code",
   "execution_count": null,
   "metadata": {},
   "outputs": [],
   "source": [
    "summary = analyser.read_summary_file(demultiplex_folder)\n",
    "n_counts = summary.groupby([\"RBC\",\"FBC\"])[\"FBC\"].value_counts().reset_index() \n",
    "variant_df[\"Variant\"] = variant_df[\"Variant\"].astype(str)\n",
    "variant_df = analyser.rename_barcode(pd.DataFrame(variants).merge(n_counts, on=[\"RBC\",\"FBC\"] , how=\"left\"))\n",
    "def format_variant_list(variant_list):\n",
    "    \"\"\" Convert a list of integer variants to a string format. \"\"\"\n",
    "    if isinstance(variant_list, list):\n",
    "        return '_'.join(str(v) for v in variant_list)\n",
    "    return variant_list\n",
    "\n",
    "# Apply this conversion to the 'Variant' column\n",
    "variant_df[\"Variant\"] = variant_df[\"Variant\"].apply(format_variant_list)\n",
    "\n",
    "# Now apply the 'adjust_variant' function\n",
    "variant_df[\"Variant\"] = variant_df[\"Variant\"].apply(lambda x: analyser.adjust_variant(x, 50))\n"
   ]
  },
  {
   "cell_type": "code",
   "execution_count": null,
   "metadata": {},
   "outputs": [],
   "source": []
  },
  {
   "cell_type": "markdown",
   "metadata": {},
   "source": [
    "# Index Finder"
   ]
  },
  {
   "cell_type": "code",
   "execution_count": null,
   "metadata": {},
   "outputs": [],
   "source": [
    "demultiplex_folder = Path(\"/home/emre/minION_results/20230905_errorprone-3_test_sup/basecalled_indexed\")\n",
    "path_to_index = \"/home/emre/minION_results/20230905_errorprone-3_test_sup/basecalled_filtered\"\n",
    "ref_seq = Path(\"/home/emre/github_repo/MinION/minION/refseq/hetcpiii.fasta\")\n",
    "index_file = \"output_index.txt\"\n",
    "path_to_code = \"/home/emre/tutorials/sequence_tut/source/test_main\"\n",
    "prompt = f\"{path_to_code} {path_to_index} {demultiplex_folder} {100} {100}\"\n",
    "subprocess.run(prompt, shell=True)"
   ]
  }
 ],
 "metadata": {
  "kernelspec": {
   "display_name": "minion",
   "language": "python",
   "name": "python3"
  },
  "language_info": {
   "codemirror_mode": {
    "name": "ipython",
    "version": 3
   },
   "file_extension": ".py",
   "mimetype": "text/x-python",
   "name": "python",
   "nbconvert_exporter": "python",
   "pygments_lexer": "ipython3",
   "version": "3.9.18"
  }
 },
 "nbformat": 4,
 "nbformat_minor": 2
}
