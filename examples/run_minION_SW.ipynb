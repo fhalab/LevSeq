{
 "cells": [
  {
   "cell_type": "markdown",
   "metadata": {},
   "source": [
    "# Every Variant Sequencing with Oxford Nanopore Technologies\n",
    "\n",
    "This script is being used after sequencing. The raw pod5 files can be basecalled or the already basecalled files can be used directly (fastq.gz)\n",
    "\n",
    "## Workflow\n",
    "\n",
    "### 1. Basecalling (Optional)\n",
    "\n",
    "- The raw reads are stored in the main folder of ONT (e.g /var/lib/minknow/data). Enter the experiment name as input. \n",
    "- Sequences are basecalled based on the model of choice. If enough computational power is available, we recommend \"sup\" method\n",
    "\n",
    "### 2. Demultiplexing \n",
    "- Each reead is assigned to a well/plate combination. \n",
    "\n",
    "### 3. Variant Calling\n",
    "- Minimap2 for creating Multiple Sequence Alignment (MSA)\n",
    "- Base Frequency Caller is being used for variant calling\n",
    "\n"
   ]
  },
  {
   "cell_type": "markdown",
   "metadata": {},
   "source": [
    "### Packages "
   ]
  },
  {
   "cell_type": "code",
   "execution_count": 1,
   "metadata": {},
   "outputs": [
    {
     "data": {
      "text/plain": [
       "<module 'minION.util.IO_processor' from '/home/emre/github_repo/MinION/minION/util/IO_processor.py'>"
      ]
     },
     "execution_count": 1,
     "metadata": {},
     "output_type": "execute_result"
    }
   ],
   "source": [
    "# Import all packages\n",
    "\n",
    "import sys\n",
    "sys.path.append(\"/home/emre/github_repo/MinION\")\n",
    "\n",
    "from minION.util import IO_processor\n",
    "from minION.basecaller import Basecaller\n",
    "\n",
    "from minION.variantcaller import *\n",
    "\n",
    "from pathlib import Path\n",
    "import pandas as pd\n",
    "import matplotlib.pyplot as plt\n",
    "import subprocess\n",
    "import importlib\n",
    "importlib.reload(IO_processor)"
   ]
  },
  {
   "cell_type": "markdown",
   "metadata": {},
   "source": [
    "### Meta Data \n",
    "\n",
    "- Provide the following arguments:\n",
    "\n",
    "- Result Path: Path where the minion result folder will be created. All experiment results are then stored within the folder\n",
    "- Experiment Name: The experiment name is assigned when running the sequencer. Use the same name for identification\n"
   ]
  },
  {
   "cell_type": "code",
   "execution_count": 6,
   "metadata": {},
   "outputs": [],
   "source": [
    "result_path = Path(\"/home/emre/\")\n",
    "experiment_name = \"20240126-RL-8-63\"\n",
    "basecall_model_type = \"sup\"\n",
    "result_folder = IO_processor.create_folder( experiment_name,\n",
    "                                            basecall_model_type, \n",
    "                                            target_path=result_path)\n",
    "\n",
    "\n",
    "\n",
    "\n",
    "# Create Barcode fasta file \n",
    "barcode_path = \"../minION/barcoding/minion_barcodes.fasta\" # Path to standard barcode file\n",
    "front_prefix = \"NB\"\n",
    "back_prefix = \"RB\"\n",
    "bp = IO_processor.BarcodeProcessor(barcode_path, front_prefix, back_prefix)\n",
    "barcode_path = result_folder / \"minion_barcodes_filtered.fasta\"\n",
    "\n",
    "# Barcode indexes\n",
    "front_min = 1\n",
    "front_max = 96\n",
    "back_min = 9\n",
    "back_max = 12\n",
    "\n",
    "bp.filter_barcodes(barcode_path, (front_min,front_max), (back_min,back_max))\n",
    "\n",
    "\n",
    "file_to_experiment= f\"/var/lib/minknow/data/{experiment_name}\"\n",
    "template_fasta = \"/home/emre/PgA9.fasta\"\n",
    "\n",
    "# Basecalling\n",
    "basecall_folder = result_folder / \"basecalled\"\n",
    "basecall_folder.mkdir(parents=True, exist_ok=True)\n",
    "experiment_folder = IO_processor.find_experiment_folder(experiment_name) # Folder where pod5 files are located\n",
    "\n",
    "# Demultiplexing\n",
    "experiment_name = experiment_name + \"_\" + basecall_model_type\n",
    "result_folder_path = IO_processor.find_folder(result_path, experiment_name)\n"
   ]
  },
  {
   "cell_type": "code",
   "execution_count": 4,
   "metadata": {},
   "outputs": [],
   "source": [
    "# Add conditions to avoid running the script accidentally\n",
    "skip_basecalling = True\n",
    "skip_demultiplex = False\n",
    "skip_variant_calling = False"
   ]
  },
  {
   "cell_type": "code",
   "execution_count": 21,
   "metadata": {},
   "outputs": [
    {
     "data": {
      "text/plain": [
       "PosixPath('/home/emre/minION_results/20240126-RL-8-63_sup')"
      ]
     },
     "execution_count": 21,
     "metadata": {},
     "output_type": "execute_result"
    }
   ],
   "source": [
    "result_folder"
   ]
  },
  {
   "cell_type": "markdown",
   "metadata": {},
   "source": [
    "### Step 1 (Optional): Basecall reads\n",
    "\n",
    "- Basecall can usually be done while sequencing (if GPU available?)\n",
    "- Otherwise, basecall afterwards"
   ]
  },
  {
   "cell_type": "code",
   "execution_count": 3,
   "metadata": {},
   "outputs": [],
   "source": [
    "if not skip_basecalling:\n",
    "    pod5_files = IO_processor.find_folder(experiment_folder, \"pod5\")\n",
    "    bc = Basecaller(model=basecall_model_type, pod5_files, basecall_folder, fastq = True)\n",
    "    bc.run_basecaller()\n"
   ]
  },
  {
   "cell_type": "code",
   "execution_count": 7,
   "metadata": {},
   "outputs": [
    {
     "name": "stdout",
     "output_type": "stream",
     "text": [
      "/var/lib/minknow/data/20240126-RL-8-63/no_sample/20240126_1724_MN45017_flg114_bf69f73a/fastq_pass\n"
     ]
    }
   ],
   "source": [
    "# Find fastq files\n",
    "file_to_fastq = IO_processor.find_folder(experiment_folder, \"fastq_pass\")\n",
    "print(file_to_fastq)"
   ]
  },
  {
   "cell_type": "markdown",
   "metadata": {},
   "source": [
    "### Step 2: Demultiplex with SW\n",
    "- Demultiplex with SW "
   ]
  },
  {
   "cell_type": "code",
   "execution_count": 8,
   "metadata": {},
   "outputs": [
    {
     "name": "stdout",
     "output_type": "stream",
     "text": [
      "Processed argument: -f with value: /var/lib/minknow/data/20240126-RL-8-63/no_sample/20240126_1724_MN45017_flg114_bf69f73a/fastq_pass\n",
      "Processed argument: -d with value: /home/emre/minION_results/20240126-RL-8-63_sup\n",
      "Processed argument: -b with value: /home/emre/minION_results/20240126-RL-8-63_sup/minion_barcodes_filtered.fasta\n",
      "Processed argument: -w with value: 100\n",
      "Processed argument: -r with value: 100\n",
      "Number of files: 1\n",
      "Processing files: [##################################################] 100%\n"
     ]
    }
   ],
   "source": [
    "if not skip_demultiplex:\n",
    "    path_to_code = \"/home/emre/github_repo/MinION/source/source/demultiplex\"\n",
    "    prompt = f\"{path_to_code} -f {file_to_fastq} -d {result_folder} -b {barcode_path} -w {100} -r {100}\"\n",
    "    subprocess.run(prompt, shell=True)"
   ]
  },
  {
   "cell_type": "code",
   "execution_count": null,
   "metadata": {},
   "outputs": [],
   "source": [
    "demultiplex_folder = result_folder \n",
    "print(demultiplex_folder)"
   ]
  },
  {
   "cell_type": "markdown",
   "metadata": {},
   "source": [
    "### Step 3: Call Variant with PileUP Analysis\n",
    "\n",
    "- Call Variant with min freq of 0.4 & depth min 15"
   ]
  },
  {
   "cell_type": "markdown",
   "metadata": {},
   "source": [
    "Read Summary file (Optional):\n"
   ]
  },
  {
   "cell_type": "code",
   "execution_count": 7,
   "metadata": {},
   "outputs": [],
   "source": [
    "\n",
    "demultiplex_folder_name = result_folder"
   ]
  },
  {
   "cell_type": "code",
   "execution_count": 11,
   "metadata": {},
   "outputs": [
    {
     "name": "stderr",
     "output_type": "stream",
     "text": [
      "0it [00:00, ?it/s]"
     ]
    },
    {
     "name": "stdout",
     "output_type": "stream",
     "text": [
      "unsupported operand type(s) for /: 'float' and 'str'\n"
     ]
    },
    {
     "name": "stderr",
     "output_type": "stream",
     "text": [
      "64it [00:32,  2.22it/s]"
     ]
    },
    {
     "name": "stdout",
     "output_type": "stream",
     "text": [
      "unsupported operand type(s) for /: 'float' and 'str'\n"
     ]
    },
    {
     "name": "stderr",
     "output_type": "stream",
     "text": [
      "95it [00:52,  1.25it/s]"
     ]
    },
    {
     "name": "stdout",
     "output_type": "stream",
     "text": [
      "unsupported operand type(s) for /: 'float' and 'str'\n",
      "unsupported operand type(s) for /: 'float' and 'str'\n",
      "unsupported operand type(s) for /: 'float' and 'str'\n",
      "unsupported operand type(s) for /: 'float' and 'str'\n",
      "unsupported operand type(s) for /: 'float' and 'str'\n",
      "unsupported operand type(s) for /: 'float' and 'str'\n",
      "unsupported operand type(s) for /: 'float' and 'str'\n",
      "unsupported operand type(s) for /: 'float' and 'str'\n",
      "unsupported operand type(s) for /: 'float' and 'str'\n",
      "unsupported operand type(s) for /: 'float' and 'str'\n"
     ]
    },
    {
     "name": "stderr",
     "output_type": "stream",
     "text": [
      "108it [00:53,  4.82it/s]"
     ]
    },
    {
     "name": "stdout",
     "output_type": "stream",
     "text": [
      "unsupported operand type(s) for /: 'float' and 'str'\n",
      "unsupported operand type(s) for /: 'float' and 'str'\n",
      "unsupported operand type(s) for /: 'float' and 'str'\n"
     ]
    },
    {
     "name": "stderr",
     "output_type": "stream",
     "text": [
      "112it [00:54,  5.29it/s]"
     ]
    },
    {
     "name": "stdout",
     "output_type": "stream",
     "text": [
      "unsupported operand type(s) for /: 'float' and 'str'\n",
      "unsupported operand type(s) for /: 'float' and 'str'\n",
      "unsupported operand type(s) for /: 'float' and 'str'\n"
     ]
    },
    {
     "name": "stderr",
     "output_type": "stream",
     "text": [
      "116it [00:55,  4.79it/s]"
     ]
    },
    {
     "name": "stdout",
     "output_type": "stream",
     "text": [
      "unsupported operand type(s) for /: 'float' and 'str'\n",
      "unsupported operand type(s) for /: 'float' and 'str'\n",
      "unsupported operand type(s) for /: 'float' and 'str'\n",
      "unsupported operand type(s) for /: 'float' and 'str'\n",
      "unsupported operand type(s) for /: 'float' and 'str'\n"
     ]
    },
    {
     "name": "stderr",
     "output_type": "stream",
     "text": [
      "125it [01:00,  2.12it/s]"
     ]
    },
    {
     "name": "stdout",
     "output_type": "stream",
     "text": [
      "unsupported operand type(s) for /: 'float' and 'str'\n"
     ]
    },
    {
     "name": "stderr",
     "output_type": "stream",
     "text": [
      "132it [01:11,  1.50s/it]"
     ]
    },
    {
     "name": "stdout",
     "output_type": "stream",
     "text": [
      "unsupported operand type(s) for /: 'float' and 'str'\n"
     ]
    },
    {
     "name": "stderr",
     "output_type": "stream",
     "text": [
      "142it [01:31,  2.18s/it]"
     ]
    },
    {
     "name": "stdout",
     "output_type": "stream",
     "text": [
      "unsupported operand type(s) for /: 'float' and 'str'\n",
      "unsupported operand type(s) for /: 'float' and 'str'\n"
     ]
    },
    {
     "name": "stderr",
     "output_type": "stream",
     "text": [
      "146it [01:36,  1.61s/it]"
     ]
    },
    {
     "name": "stdout",
     "output_type": "stream",
     "text": [
      "unsupported operand type(s) for /: 'float' and 'str'\n"
     ]
    },
    {
     "name": "stderr",
     "output_type": "stream",
     "text": [
      "155it [01:46,  1.25s/it]"
     ]
    },
    {
     "name": "stdout",
     "output_type": "stream",
     "text": [
      "unsupported operand type(s) for /: 'float' and 'str'\n"
     ]
    },
    {
     "name": "stderr",
     "output_type": "stream",
     "text": [
      "168it [02:05,  1.64s/it]"
     ]
    },
    {
     "name": "stdout",
     "output_type": "stream",
     "text": [
      "unsupported operand type(s) for /: 'float' and 'str'\n"
     ]
    },
    {
     "name": "stderr",
     "output_type": "stream",
     "text": [
      "170it [02:06,  1.19s/it]"
     ]
    },
    {
     "name": "stdout",
     "output_type": "stream",
     "text": [
      "unsupported operand type(s) for /: 'float' and 'str'\n"
     ]
    },
    {
     "name": "stderr",
     "output_type": "stream",
     "text": [
      "173it [02:11,  1.37s/it]"
     ]
    },
    {
     "name": "stdout",
     "output_type": "stream",
     "text": [
      "unsupported operand type(s) for /: 'float' and 'str'\n"
     ]
    },
    {
     "name": "stderr",
     "output_type": "stream",
     "text": [
      "191it [02:44,  1.97s/it]"
     ]
    },
    {
     "name": "stdout",
     "output_type": "stream",
     "text": [
      "unsupported operand type(s) for /: 'float' and 'str'\n",
      "unsupported operand type(s) for /: 'float' and 'str'\n",
      "unsupported operand type(s) for /: 'float' and 'str'\n",
      "unsupported operand type(s) for /: 'float' and 'str'\n",
      "unsupported operand type(s) for /: 'float' and 'str'\n",
      "unsupported operand type(s) for /: 'float' and 'str'\n",
      "unsupported operand type(s) for /: 'float' and 'str'\n",
      "unsupported operand type(s) for /: 'float' and 'str'\n",
      "unsupported operand type(s) for /: 'float' and 'str'\n",
      "unsupported operand type(s) for /: 'float' and 'str'\n",
      "unsupported operand type(s) for /: 'float' and 'str'\n",
      "unsupported operand type(s) for /: 'float' and 'str'\n",
      "unsupported operand type(s) for /: 'float' and 'str'\n",
      "unsupported operand type(s) for /: 'float' and 'str'\n",
      "unsupported operand type(s) for /: 'float' and 'str'\n",
      "unsupported operand type(s) for /: 'float' and 'str'\n",
      "unsupported operand type(s) for /: 'float' and 'str'\n",
      "unsupported operand type(s) for /: 'float' and 'str'\n",
      "unsupported operand type(s) for /: 'float' and 'str'\n",
      "unsupported operand type(s) for /: 'float' and 'str'\n",
      "unsupported operand type(s) for /: 'float' and 'str'\n",
      "unsupported operand type(s) for /: 'float' and 'str'\n",
      "unsupported operand type(s) for /: 'float' and 'str'\n",
      "unsupported operand type(s) for /: 'float' and 'str'\n",
      "unsupported operand type(s) for /: 'float' and 'str'\n",
      "unsupported operand type(s) for /: 'float' and 'str'\n",
      "unsupported operand type(s) for /: 'float' and 'str'\n",
      "unsupported operand type(s) for /: 'float' and 'str'\n",
      "unsupported operand type(s) for /: 'float' and 'str'\n",
      "unsupported operand type(s) for /: 'float' and 'str'\n",
      "unsupported operand type(s) for /: 'float' and 'str'\n",
      "unsupported operand type(s) for /: 'float' and 'str'\n",
      "unsupported operand type(s) for /: 'float' and 'str'\n",
      "unsupported operand type(s) for /: 'float' and 'str'\n",
      "unsupported operand type(s) for /: 'float' and 'str'\n",
      "unsupported operand type(s) for /: 'float' and 'str'\n",
      "unsupported operand type(s) for /: 'float' and 'str'\n",
      "unsupported operand type(s) for /: 'float' and 'str'\n",
      "unsupported operand type(s) for /: 'float' and 'str'\n",
      "unsupported operand type(s) for /: 'float' and 'str'\n",
      "unsupported operand type(s) for /: 'float' and 'str'\n",
      "unsupported operand type(s) for /: 'float' and 'str'\n",
      "unsupported operand type(s) for /: 'float' and 'str'\n",
      "unsupported operand type(s) for /: 'float' and 'str'\n",
      "unsupported operand type(s) for /: 'float' and 'str'\n",
      "unsupported operand type(s) for /: 'float' and 'str'\n",
      "unsupported operand type(s) for /: 'float' and 'str'\n",
      "unsupported operand type(s) for /: 'float' and 'str'\n",
      "unsupported operand type(s) for /: 'float' and 'str'\n",
      "unsupported operand type(s) for /: 'float' and 'str'\n",
      "unsupported operand type(s) for /: 'float' and 'str'\n",
      "unsupported operand type(s) for /: 'float' and 'str'\n",
      "unsupported operand type(s) for /: 'float' and 'str'\n",
      "unsupported operand type(s) for /: 'float' and 'str'\n",
      "unsupported operand type(s) for /: 'float' and 'str'\n",
      "unsupported operand type(s) for /: 'float' and 'str'\n",
      "unsupported operand type(s) for /: 'float' and 'str'\n",
      "unsupported operand type(s) for /: 'float' and 'str'\n",
      "unsupported operand type(s) for /: 'float' and 'str'\n",
      "unsupported operand type(s) for /: 'float' and 'str'\n",
      "unsupported operand type(s) for /: 'float' and 'str'\n",
      "unsupported operand type(s) for /: 'float' and 'str'\n",
      "unsupported operand type(s) for /: 'float' and 'str'\n",
      "unsupported operand type(s) for /: 'float' and 'str'\n",
      "unsupported operand type(s) for /: 'float' and 'str'\n",
      "unsupported operand type(s) for /: 'float' and 'str'\n",
      "unsupported operand type(s) for /: 'float' and 'str'\n",
      "unsupported operand type(s) for /: 'float' and 'str'\n",
      "unsupported operand type(s) for /: 'float' and 'str'\n",
      "unsupported operand type(s) for /: 'float' and 'str'\n",
      "unsupported operand type(s) for /: 'float' and 'str'\n",
      "unsupported operand type(s) for /: 'float' and 'str'\n",
      "unsupported operand type(s) for /: 'float' and 'str'\n",
      "unsupported operand type(s) for /: 'float' and 'str'\n",
      "unsupported operand type(s) for /: 'float' and 'str'\n",
      "unsupported operand type(s) for /: 'float' and 'str'\n",
      "unsupported operand type(s) for /: 'float' and 'str'\n",
      "unsupported operand type(s) for /: 'float' and 'str'\n",
      "unsupported operand type(s) for /: 'float' and 'str'\n",
      "unsupported operand type(s) for /: 'float' and 'str'\n",
      "unsupported operand type(s) for /: 'float' and 'str'\n",
      "unsupported operand type(s) for /: 'float' and 'str'\n",
      "unsupported operand type(s) for /: 'float' and 'str'\n",
      "unsupported operand type(s) for /: 'float' and 'str'\n",
      "unsupported operand type(s) for /: 'float' and 'str'\n",
      "unsupported operand type(s) for /: 'float' and 'str'\n",
      "unsupported operand type(s) for /: 'float' and 'str'\n",
      "unsupported operand type(s) for /: 'float' and 'str'\n",
      "unsupported operand type(s) for /: 'float' and 'str'\n",
      "unsupported operand type(s) for /: 'float' and 'str'\n",
      "unsupported operand type(s) for /: 'float' and 'str'\n",
      "unsupported operand type(s) for /: 'float' and 'str'\n",
      "unsupported operand type(s) for /: 'float' and 'str'\n",
      "unsupported operand type(s) for /: 'float' and 'str'\n",
      "unsupported operand type(s) for /: 'float' and 'str'\n",
      "unsupported operand type(s) for /: 'float' and 'str'\n",
      "unsupported operand type(s) for /: 'float' and 'str'\n",
      "unsupported operand type(s) for /: 'float' and 'str'\n",
      "unsupported operand type(s) for /: 'float' and 'str'\n",
      "unsupported operand type(s) for /: 'float' and 'str'\n",
      "unsupported operand type(s) for /: 'float' and 'str'\n",
      "unsupported operand type(s) for /: 'float' and 'str'\n",
      "unsupported operand type(s) for /: 'float' and 'str'\n",
      "unsupported operand type(s) for /: 'float' and 'str'\n",
      "unsupported operand type(s) for /: 'float' and 'str'\n",
      "unsupported operand type(s) for /: 'float' and 'str'\n",
      "unsupported operand type(s) for /: 'float' and 'str'\n",
      "unsupported operand type(s) for /: 'float' and 'str'\n",
      "unsupported operand type(s) for /: 'float' and 'str'\n",
      "unsupported operand type(s) for /: 'float' and 'str'\n",
      "unsupported operand type(s) for /: 'float' and 'str'\n",
      "unsupported operand type(s) for /: 'float' and 'str'\n",
      "unsupported operand type(s) for /: 'float' and 'str'\n",
      "unsupported operand type(s) for /: 'float' and 'str'\n",
      "unsupported operand type(s) for /: 'float' and 'str'\n",
      "unsupported operand type(s) for /: 'float' and 'str'\n",
      "unsupported operand type(s) for /: 'float' and 'str'\n",
      "unsupported operand type(s) for /: 'float' and 'str'\n",
      "unsupported operand type(s) for /: 'float' and 'str'\n",
      "unsupported operand type(s) for /: 'float' and 'str'\n",
      "unsupported operand type(s) for /: 'float' and 'str'\n",
      "unsupported operand type(s) for /: 'float' and 'str'\n",
      "unsupported operand type(s) for /: 'float' and 'str'\n",
      "unsupported operand type(s) for /: 'float' and 'str'\n",
      "unsupported operand type(s) for /: 'float' and 'str'\n",
      "unsupported operand type(s) for /: 'float' and 'str'\n",
      "unsupported operand type(s) for /: 'float' and 'str'\n",
      "unsupported operand type(s) for /: 'float' and 'str'\n",
      "unsupported operand type(s) for /: 'float' and 'str'\n",
      "unsupported operand type(s) for /: 'float' and 'str'\n",
      "unsupported operand type(s) for /: 'float' and 'str'\n",
      "unsupported operand type(s) for /: 'float' and 'str'\n",
      "Too many positions: 60, Skipping...\n",
      "unsupported operand type(s) for /: 'float' and 'str'\n",
      "unsupported operand type(s) for /: 'float' and 'str'\n",
      "unsupported operand type(s) for /: 'float' and 'str'\n",
      "unsupported operand type(s) for /: 'float' and 'str'\n",
      "unsupported operand type(s) for /: 'float' and 'str'\n",
      "unsupported operand type(s) for /: 'float' and 'str'\n",
      "unsupported operand type(s) for /: 'float' and 'str'\n",
      "unsupported operand type(s) for /: 'float' and 'str'\n",
      "unsupported operand type(s) for /: 'float' and 'str'\n",
      "unsupported operand type(s) for /: 'float' and 'str'\n",
      "unsupported operand type(s) for /: 'float' and 'str'\n",
      "unsupported operand type(s) for /: 'float' and 'str'\n",
      "unsupported operand type(s) for /: 'float' and 'str'\n",
      "unsupported operand type(s) for /: 'float' and 'str'\n",
      "unsupported operand type(s) for /: 'float' and 'str'\n",
      "unsupported operand type(s) for /: 'float' and 'str'\n",
      "unsupported operand type(s) for /: 'float' and 'str'\n",
      "unsupported operand type(s) for /: 'float' and 'str'\n",
      "unsupported operand type(s) for /: 'float' and 'str'\n",
      "unsupported operand type(s) for /: 'float' and 'str'\n",
      "unsupported operand type(s) for /: 'float' and 'str'\n"
     ]
    },
    {
     "name": "stderr",
     "output_type": "stream",
     "text": [
      "351it [02:46, 27.30it/s]"
     ]
    },
    {
     "name": "stdout",
     "output_type": "stream",
     "text": [
      "unsupported operand type(s) for /: 'float' and 'str'\n",
      "unsupported operand type(s) for /: 'float' and 'str'\n",
      "unsupported operand type(s) for /: 'float' and 'str'\n",
      "unsupported operand type(s) for /: 'float' and 'str'\n"
     ]
    },
    {
     "name": "stderr",
     "output_type": "stream",
     "text": [
      "356it [02:49, 15.73it/s]"
     ]
    },
    {
     "name": "stdout",
     "output_type": "stream",
     "text": [
      "unsupported operand type(s) for /: 'float' and 'str'\n"
     ]
    },
    {
     "name": "stderr",
     "output_type": "stream",
     "text": [
      "359it [02:52,  9.99it/s]"
     ]
    },
    {
     "name": "stdout",
     "output_type": "stream",
     "text": [
      "unsupported operand type(s) for /: 'float' and 'str'\n",
      "unsupported operand type(s) for /: 'float' and 'str'\n"
     ]
    },
    {
     "name": "stderr",
     "output_type": "stream",
     "text": [
      "361it [02:55,  7.20it/s]"
     ]
    },
    {
     "name": "stdout",
     "output_type": "stream",
     "text": [
      "unsupported operand type(s) for /: 'float' and 'str'\n",
      "unsupported operand type(s) for /: 'float' and 'str'\n",
      "unsupported operand type(s) for /: 'float' and 'str'\n",
      "unsupported operand type(s) for /: 'float' and 'str'\n"
     ]
    },
    {
     "name": "stderr",
     "output_type": "stream",
     "text": [
      "367it [03:00,  4.30it/s]"
     ]
    },
    {
     "name": "stdout",
     "output_type": "stream",
     "text": [
      "unsupported operand type(s) for /: 'float' and 'str'\n",
      "unsupported operand type(s) for /: 'float' and 'str'\n"
     ]
    },
    {
     "name": "stderr",
     "output_type": "stream",
     "text": [
      "370it [03:02,  3.37it/s]"
     ]
    },
    {
     "name": "stdout",
     "output_type": "stream",
     "text": [
      "Too many positions: 70, Skipping...\n",
      "unsupported operand type(s) for /: 'float' and 'str'\n"
     ]
    },
    {
     "name": "stderr",
     "output_type": "stream",
     "text": [
      "384it [03:46,  1.69it/s]"
     ]
    },
    {
     "name": "stdout",
     "output_type": "stream",
     "text": [
      "Too many positions: 23, Skipping...\n"
     ]
    },
    {
     "name": "stderr",
     "output_type": "stream",
     "text": [
      "\n"
     ]
    }
   ],
   "source": [
    "if not skip_variant_calling:\n",
    "    vc = VariantCaller(experiment_folder, \n",
    "                   template_fasta, \n",
    "                   demultiplex_folder_name=demultiplex_folder_name, \n",
    "                   padding_start=0, \n",
    "                   padding_end=0)\n",
    "    \n",
    "    variant_df = vc.get_variant_df(qualities=True, \n",
    "                                threshold=0.2,\n",
    "                                min_depth=5)\n",
    "    seq_gen = IO_processor.SequenceGenerator(variant_df, template_fasta)\n",
    "    variant_df = seq_gen.get_sequences()\n",
    "    #TODO: Save the variant_df to a file after running. Currently it is not saved."
   ]
  },
  {
   "cell_type": "code",
   "execution_count": 19,
   "metadata": {},
   "outputs": [],
   "source": [
    "#20 - 30\n",
    "variant_df.to_csv(result_folder / \"variant_df.csv\", index=False)  "
   ]
  },
  {
   "cell_type": "code",
   "execution_count": 20,
   "metadata": {},
   "outputs": [
    {
     "data": {
      "text/html": [
       "<div>\n",
       "<style scoped>\n",
       "    .dataframe tbody tr th:only-of-type {\n",
       "        vertical-align: middle;\n",
       "    }\n",
       "\n",
       "    .dataframe tbody tr th {\n",
       "        vertical-align: top;\n",
       "    }\n",
       "\n",
       "    .dataframe thead th {\n",
       "        text-align: right;\n",
       "    }\n",
       "</style>\n",
       "<table border=\"1\" class=\"dataframe\">\n",
       "  <thead>\n",
       "    <tr style=\"text-align: right;\">\n",
       "      <th></th>\n",
       "      <th>Plate</th>\n",
       "      <th>Well</th>\n",
       "      <th>Path</th>\n",
       "      <th>Alignment_count</th>\n",
       "      <th>Variant</th>\n",
       "      <th>Probability</th>\n",
       "      <th>Sequence</th>\n",
       "    </tr>\n",
       "  </thead>\n",
       "  <tbody>\n",
       "    <tr>\n",
       "      <th>0</th>\n",
       "      <td>9</td>\n",
       "      <td>A1</td>\n",
       "      <td>NaN</td>\n",
       "      <td>0</td>\n",
       "      <td>NaN</td>\n",
       "      <td>NaN</td>\n",
       "      <td>NaN</td>\n",
       "    </tr>\n",
       "    <tr>\n",
       "      <th>1</th>\n",
       "      <td>9</td>\n",
       "      <td>A2</td>\n",
       "      <td>/home/emre/minION_results/20240126-RL-8-63_sup...</td>\n",
       "      <td>126</td>\n",
       "      <td>G175A</td>\n",
       "      <td>0.971026</td>\n",
       "      <td>ACCCATCACGGACCTTGAGTTTGACCTTCTGAAGAAGACTGTCATG...</td>\n",
       "    </tr>\n",
       "    <tr>\n",
       "      <th>2</th>\n",
       "      <td>9</td>\n",
       "      <td>A3</td>\n",
       "      <td>/home/emre/minION_results/20240126-RL-8-63_sup...</td>\n",
       "      <td>147</td>\n",
       "      <td>G175A</td>\n",
       "      <td>0.991372</td>\n",
       "      <td>ACCCATCACGGACCTTGAGTTTGACCTTCTGAAGAAGACTGTCATG...</td>\n",
       "    </tr>\n",
       "    <tr>\n",
       "      <th>3</th>\n",
       "      <td>9</td>\n",
       "      <td>A4</td>\n",
       "      <td>/home/emre/minION_results/20240126-RL-8-63_sup...</td>\n",
       "      <td>105</td>\n",
       "      <td>G175A_G178C_T565C</td>\n",
       "      <td>0.140141</td>\n",
       "      <td>ACCCATCACGGACCTTGAGTTTGACCTTCTGAAGAAGACTGTCATG...</td>\n",
       "    </tr>\n",
       "    <tr>\n",
       "      <th>4</th>\n",
       "      <td>9</td>\n",
       "      <td>A5</td>\n",
       "      <td>/home/emre/minION_results/20240126-RL-8-63_sup...</td>\n",
       "      <td>128</td>\n",
       "      <td>G175A_T587C</td>\n",
       "      <td>0.946687</td>\n",
       "      <td>ACCCATCACGGACCTTGAGTTTGACCTTCTGAAGAAGACTGTCATG...</td>\n",
       "    </tr>\n",
       "    <tr>\n",
       "      <th>...</th>\n",
       "      <td>...</td>\n",
       "      <td>...</td>\n",
       "      <td>...</td>\n",
       "      <td>...</td>\n",
       "      <td>...</td>\n",
       "      <td>...</td>\n",
       "      <td>...</td>\n",
       "    </tr>\n",
       "    <tr>\n",
       "      <th>379</th>\n",
       "      <td>12</td>\n",
       "      <td>H8</td>\n",
       "      <td>/home/emre/minION_results/20240126-RL-8-63_sup...</td>\n",
       "      <td>1562</td>\n",
       "      <td>G175A</td>\n",
       "      <td>0.979999</td>\n",
       "      <td>ACCCATCACGGACCTTGAGTTTGACCTTCTGAAGAAGACTGTCATG...</td>\n",
       "    </tr>\n",
       "    <tr>\n",
       "      <th>380</th>\n",
       "      <td>12</td>\n",
       "      <td>H9</td>\n",
       "      <td>/home/emre/minION_results/20240126-RL-8-63_sup...</td>\n",
       "      <td>3033</td>\n",
       "      <td>G175A</td>\n",
       "      <td>0.972652</td>\n",
       "      <td>ACCCATCACGGACCTTGAGTTTGACCTTCTGAAGAAGACTGTCATG...</td>\n",
       "    </tr>\n",
       "    <tr>\n",
       "      <th>381</th>\n",
       "      <td>12</td>\n",
       "      <td>H10</td>\n",
       "      <td>/home/emre/minION_results/20240126-RL-8-63_sup...</td>\n",
       "      <td>1575</td>\n",
       "      <td>G175A</td>\n",
       "      <td>0.979884</td>\n",
       "      <td>ACCCATCACGGACCTTGAGTTTGACCTTCTGAAGAAGACTGTCATG...</td>\n",
       "    </tr>\n",
       "    <tr>\n",
       "      <th>382</th>\n",
       "      <td>12</td>\n",
       "      <td>H11</td>\n",
       "      <td>/home/emre/minION_results/20240126-RL-8-63_sup...</td>\n",
       "      <td>1711</td>\n",
       "      <td>G175A</td>\n",
       "      <td>0.985583</td>\n",
       "      <td>ACCCATCACGGACCTTGAGTTTGACCTTCTGAAGAAGACTGTCATG...</td>\n",
       "    </tr>\n",
       "    <tr>\n",
       "      <th>383</th>\n",
       "      <td>12</td>\n",
       "      <td>H12</td>\n",
       "      <td>/home/emre/minION_results/20240126-RL-8-63_sup...</td>\n",
       "      <td>28</td>\n",
       "      <td>nan</td>\n",
       "      <td>NaN</td>\n",
       "      <td>NaN</td>\n",
       "    </tr>\n",
       "  </tbody>\n",
       "</table>\n",
       "<p>384 rows × 7 columns</p>\n",
       "</div>"
      ],
      "text/plain": [
       "     Plate Well                                               Path  \\\n",
       "0        9   A1                                                NaN   \n",
       "1        9   A2  /home/emre/minION_results/20240126-RL-8-63_sup...   \n",
       "2        9   A3  /home/emre/minION_results/20240126-RL-8-63_sup...   \n",
       "3        9   A4  /home/emre/minION_results/20240126-RL-8-63_sup...   \n",
       "4        9   A5  /home/emre/minION_results/20240126-RL-8-63_sup...   \n",
       "..     ...  ...                                                ...   \n",
       "379     12   H8  /home/emre/minION_results/20240126-RL-8-63_sup...   \n",
       "380     12   H9  /home/emre/minION_results/20240126-RL-8-63_sup...   \n",
       "381     12  H10  /home/emre/minION_results/20240126-RL-8-63_sup...   \n",
       "382     12  H11  /home/emre/minION_results/20240126-RL-8-63_sup...   \n",
       "383     12  H12  /home/emre/minION_results/20240126-RL-8-63_sup...   \n",
       "\n",
       "     Alignment_count            Variant  Probability  \\\n",
       "0                  0                NaN          NaN   \n",
       "1                126              G175A     0.971026   \n",
       "2                147              G175A     0.991372   \n",
       "3                105  G175A_G178C_T565C     0.140141   \n",
       "4                128        G175A_T587C     0.946687   \n",
       "..               ...                ...          ...   \n",
       "379             1562              G175A     0.979999   \n",
       "380             3033              G175A     0.972652   \n",
       "381             1575              G175A     0.979884   \n",
       "382             1711              G175A     0.985583   \n",
       "383               28                nan          NaN   \n",
       "\n",
       "                                              Sequence  \n",
       "0                                                  NaN  \n",
       "1    ACCCATCACGGACCTTGAGTTTGACCTTCTGAAGAAGACTGTCATG...  \n",
       "2    ACCCATCACGGACCTTGAGTTTGACCTTCTGAAGAAGACTGTCATG...  \n",
       "3    ACCCATCACGGACCTTGAGTTTGACCTTCTGAAGAAGACTGTCATG...  \n",
       "4    ACCCATCACGGACCTTGAGTTTGACCTTCTGAAGAAGACTGTCATG...  \n",
       "..                                                 ...  \n",
       "379  ACCCATCACGGACCTTGAGTTTGACCTTCTGAAGAAGACTGTCATG...  \n",
       "380  ACCCATCACGGACCTTGAGTTTGACCTTCTGAAGAAGACTGTCATG...  \n",
       "381  ACCCATCACGGACCTTGAGTTTGACCTTCTGAAGAAGACTGTCATG...  \n",
       "382  ACCCATCACGGACCTTGAGTTTGACCTTCTGAAGAAGACTGTCATG...  \n",
       "383                                                NaN  \n",
       "\n",
       "[384 rows x 7 columns]"
      ]
     },
     "execution_count": 20,
     "metadata": {},
     "output_type": "execute_result"
    }
   ],
   "source": [
    "variant_df"
   ]
  },
  {
   "cell_type": "code",
   "execution_count": null,
   "metadata": {},
   "outputs": [],
   "source": []
  }
 ],
 "metadata": {
  "kernelspec": {
   "display_name": "minion",
   "language": "python",
   "name": "python3"
  },
  "language_info": {
   "codemirror_mode": {
    "name": "ipython",
    "version": 3
   },
   "file_extension": ".py",
   "mimetype": "text/x-python",
   "name": "python",
   "nbconvert_exporter": "python",
   "pygments_lexer": "ipython3",
   "version": "3.9.18"
  }
 },
 "nbformat": 4,
 "nbformat_minor": 2
}
