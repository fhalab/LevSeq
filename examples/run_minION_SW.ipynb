{
 "cells": [
  {
   "cell_type": "markdown",
   "metadata": {},
   "source": [
    "# Every Variant Sequencing with Oxford Nanopore Technologies\n",
    "\n",
    "This script is being used after sequencing. The raw pod5 files can be basecalled or the already basecalled files can be used directly (fastq.gz)\n",
    "\n",
    "## Workflow\n",
    "\n",
    "### 1. Basecalling (Optional)\n",
    "\n",
    "- The raw reads are stored in the main folder of ONT (e.g /var/lib/minknow/data). Enter the experiment name as input. \n",
    "- Sequences are basecalled based on the model of choice. If enough computational power is available, we recommend \"sup\" method\n",
    "\n",
    "### 2. Demultiplexing \n",
    "- Each reead is assigned to a well/plate combination. \n",
    "\n",
    "### 3. Variant Calling\n",
    "- Minimap2 for creating Multiple Sequence Alignment (MSA)\n",
    "- Base Frequency Caller is being used for variant calling\n",
    "\n"
   ]
  },
  {
   "cell_type": "markdown",
   "metadata": {},
   "source": [
    "### Packages "
   ]
  },
  {
   "cell_type": "code",
   "execution_count": 89,
   "metadata": {},
   "outputs": [
    {
     "data": {
      "text/plain": [
       "<module 'minION.util.IO_processor' from '/home/emre/github_repo/MinION/minION/util/IO_processor.py'>"
      ]
     },
     "execution_count": 89,
     "metadata": {},
     "output_type": "execute_result"
    }
   ],
   "source": [
    "# Import all packages\n",
    "\n",
    "import sys\n",
    "sys.path.append(\"/home/emre/github_repo/MinION\")\n",
    "\n",
    "from minION.util import IO_processor\n",
    "from minION.basecaller import Basecaller\n",
    "\n",
    "from minION.variantcaller import *\n",
    "\n",
    "from pathlib import Path\n",
    "import pandas as pd\n",
    "import matplotlib.pyplot as plt\n",
    "import subprocess\n",
    "import importlib\n",
    "importlib.reload(IO_processor)"
   ]
  },
  {
   "cell_type": "markdown",
   "metadata": {},
   "source": [
    "### Meta Data \n",
    "\n",
    "- Provide the following arguments:\n",
    "\n",
    "- Result Path: Path where the minion result folder will be created. All experiment results are then stored within the folder\n",
    "- Experiment Name: The experiment name is assigned when running the sequencer. Use the same name for identification\n"
   ]
  },
  {
   "cell_type": "code",
   "execution_count": 57,
   "metadata": {},
   "outputs": [],
   "source": [
    "result_path = Path(\"/home/emre/\")\n",
    "experiment_name = \"Masked_3RBC-Minion\"\n",
    "basecall_model_type = \"sup\"\n",
    "result_folder = IO_processor.create_folder( experiment_name,\n",
    "                                            basecall_model_type, \n",
    "                                            target_path=result_path)\n",
    "\n",
    "\n",
    "\n",
    "file_to_experiment= f\"/var/lib/minknow/data/{experiment_name}\"\n",
    "barcode_file = \"/home/emre/github_repo/MinION/data/refseq/hetcpiii_padded.fasta\"\n",
    "\n",
    "# Basecalling\n",
    "basecall_folder = result_folder / \"basecalled\"\n",
    "basecall_folder.mkdir(parents=True, exist_ok=True)\n",
    "experiment_folder = IO_processor.find_experiment_folder(experiment_name) # Folder where pod5 files are located\n",
    "\n",
    "# Demultiplexing\n",
    "experiment_name = experiment_name + \"_\" + basecall_model_type\n",
    "result_folder_path = IO_processor.find_folder(result_path, experiment_name)\n"
   ]
  },
  {
   "cell_type": "code",
   "execution_count": 5,
   "metadata": {},
   "outputs": [],
   "source": [
    "# Add conditions to avoid running the script accidentally\n",
    "skip_basecalling = True\n",
    "skip_demultiplex = False\n",
    "skip_variant_calling = False"
   ]
  },
  {
   "cell_type": "markdown",
   "metadata": {},
   "source": [
    "### Step 1 (Optional): Basecall reads\n",
    "\n",
    "- Basecall can usually be done while sequencing (if GPU available?)\n",
    "- Otherwise, basecall afterwards"
   ]
  },
  {
   "cell_type": "code",
   "execution_count": 3,
   "metadata": {},
   "outputs": [],
   "source": [
    "if not skip_basecalling:\n",
    "    pod5_files = IO_processor.find_folder(experiment_folder, \"pod5\")\n",
    "    bc = Basecaller(model=basecall_model_type, pod5_files, basecall_folder, fastq = True)\n",
    "    bc.run_basecaller()\n"
   ]
  },
  {
   "cell_type": "code",
   "execution_count": 4,
   "metadata": {},
   "outputs": [
    {
     "name": "stdout",
     "output_type": "stream",
     "text": [
      "/var/lib/minknow/data/20240112-RL-8Plates-FLongle-2/no_sample/20240112_1646_MN45017_flg114_9ac1102b/fastq_pass\n"
     ]
    }
   ],
   "source": [
    "# Find fastq files\n",
    "file_to_fastq = IO_processor.find_folder(experiment_folder, \"fastq_pass\")\n",
    "print(file_to_fastq)"
   ]
  },
  {
   "cell_type": "markdown",
   "metadata": {},
   "source": [
    "### Step 2: Demultiplex with SW\n",
    "- Demultiplex with SW "
   ]
  },
  {
   "cell_type": "code",
   "execution_count": 5,
   "metadata": {},
   "outputs": [
    {
     "name": "stdout",
     "output_type": "stream",
     "text": [
      "Processed argument: -f with value: /var/lib/minknow/data/20240112-RL-8Plates-FLongle-2/no_sample/20240112_1646_MN45017_flg114_9ac1102b/fastq_pass\n",
      "Processed argument: -d with value: /home/emre/minION_results/20240112-RL-8Plates-FLongle-2_sup\n",
      "Processed argument: -b with value: /home/emre/github_repo/MinION/minION/barcoding/minion_barcodes_pga9.fasta\n",
      "Processed argument: -w with value: 100\n",
      "Processed argument: -r with value: 100\n",
      "Number of files: 305\n",
      "Processing files: [##################################################] 100%\n"
     ]
    }
   ],
   "source": [
    "if not skip_demultiplex:\n",
    "    path_to_code = \"/home/emre/github_repo/MinION/source/source/demultiplex\"\n",
    "    prompt = f\"{path_to_code} -f {file_to_fastq} -d {result_folder} -b {barcode_file} -w {100} -r {100}\"\n",
    "    subprocess.run(prompt, shell=True)"
   ]
  },
  {
   "cell_type": "code",
   "execution_count": null,
   "metadata": {},
   "outputs": [],
   "source": [
    "demultiplex_folder = result_folder \n",
    "print(demultiplex_folder)"
   ]
  },
  {
   "cell_type": "markdown",
   "metadata": {},
   "source": [
    "### Step 3: Call Variant with PileUP Analysis\n",
    "\n",
    "- Call Variant with min freq of 0.4 & depth min 15"
   ]
  },
  {
   "cell_type": "markdown",
   "metadata": {},
   "source": [
    "Read Summary file (Optional):\n"
   ]
  },
  {
   "cell_type": "code",
   "execution_count": 7,
   "metadata": {},
   "outputs": [],
   "source": [
    "template_fasta = \"/home/emre/github_repo/MinION/data/refseq/hetcpiii_padded.fasta\"\n",
    "experiment_folder = Path(\"/home/emre/minION_results/MinION_RBC_0902723_sup\")\n",
    "demultiplex_folder_name = \"Demultiplex_cpp_70_200k_reads\""
   ]
  },
  {
   "cell_type": "code",
   "execution_count": 8,
   "metadata": {},
   "outputs": [
    {
     "name": "stderr",
     "output_type": "stream",
     "text": [
      "19it [00:17,  1.01it/s]"
     ]
    },
    {
     "name": "stdout",
     "output_type": "stream",
     "text": [
      "unsupported operand type(s) for /: 'float' and 'str'\n"
     ]
    },
    {
     "name": "stderr",
     "output_type": "stream",
     "text": [
      "57it [00:46,  1.09it/s]"
     ]
    },
    {
     "name": "stdout",
     "output_type": "stream",
     "text": [
      "unsupported operand type(s) for /: 'float' and 'str'\n"
     ]
    },
    {
     "name": "stderr",
     "output_type": "stream",
     "text": [
      "72it [00:54,  2.39it/s]"
     ]
    },
    {
     "name": "stdout",
     "output_type": "stream",
     "text": [
      "Too many positions: 30, Skipping...\n"
     ]
    },
    {
     "name": "stderr",
     "output_type": "stream",
     "text": [
      "84it [01:03,  1.17it/s]"
     ]
    },
    {
     "name": "stdout",
     "output_type": "stream",
     "text": [
      "unsupported operand type(s) for /: 'float' and 'str'\n"
     ]
    },
    {
     "name": "stderr",
     "output_type": "stream",
     "text": [
      "96it [01:10,  1.66it/s]"
     ]
    },
    {
     "name": "stdout",
     "output_type": "stream",
     "text": [
      "unsupported operand type(s) for /: 'float' and 'str'\n"
     ]
    },
    {
     "name": "stderr",
     "output_type": "stream",
     "text": [
      "111it [01:18,  1.65it/s]"
     ]
    },
    {
     "name": "stdout",
     "output_type": "stream",
     "text": [
      "unsupported operand type(s) for /: 'float' and 'str'\n",
      "unsupported operand type(s) for /: 'float' and 'str'\n"
     ]
    },
    {
     "name": "stderr",
     "output_type": "stream",
     "text": [
      "134it [01:35,  1.12s/it]"
     ]
    },
    {
     "name": "stdout",
     "output_type": "stream",
     "text": [
      "unsupported operand type(s) for /: 'float' and 'str'\n"
     ]
    },
    {
     "name": "stderr",
     "output_type": "stream",
     "text": [
      "138it [01:36,  1.74it/s]"
     ]
    },
    {
     "name": "stdout",
     "output_type": "stream",
     "text": [
      "unsupported operand type(s) for /: 'float' and 'str'\n",
      "unsupported operand type(s) for /: 'float' and 'str'\n"
     ]
    },
    {
     "name": "stderr",
     "output_type": "stream",
     "text": [
      "158it [01:55,  1.14s/it]"
     ]
    },
    {
     "name": "stdout",
     "output_type": "stream",
     "text": [
      "unsupported operand type(s) for /: 'float' and 'str'\n"
     ]
    },
    {
     "name": "stderr",
     "output_type": "stream",
     "text": [
      "175it [02:05,  1.61it/s]"
     ]
    },
    {
     "name": "stdout",
     "output_type": "stream",
     "text": [
      "unsupported operand type(s) for /: 'float' and 'str'\n"
     ]
    },
    {
     "name": "stderr",
     "output_type": "stream",
     "text": [
      "288it [03:31,  1.36it/s]\n"
     ]
    }
   ],
   "source": [
    "if not skip_variant_calling:\n",
    "    vc = VariantCaller(experiment_folder, \n",
    "                   template_fasta, \n",
    "                   demultiplex_folder_name=demultiplex_folder_name, \n",
    "                   padding_start=50, \n",
    "                   padding_end=50)\n",
    "    \n",
    "    variant_df = vc.get_variant_df(qualities=True, \n",
    "                                threshold=0.2,\n",
    "                                min_depth=5)\n",
    "    seq_gen = IO_processor.SequenceGenerator(variant_df, template_fasta)\n",
    "    variant_df = seq_gen.get_sequences()"
   ]
  },
  {
   "cell_type": "code",
   "execution_count": null,
   "metadata": {},
   "outputs": [],
   "source": []
  }
 ],
 "metadata": {
  "kernelspec": {
   "display_name": "minion",
   "language": "python",
   "name": "python3"
  },
  "language_info": {
   "codemirror_mode": {
    "name": "ipython",
    "version": 3
   },
   "file_extension": ".py",
   "mimetype": "text/x-python",
   "name": "python",
   "nbconvert_exporter": "python",
   "pygments_lexer": "ipython3",
   "version": "3.9.18"
  }
 },
 "nbformat": 4,
 "nbformat_minor": 2
}
