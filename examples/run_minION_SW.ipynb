{
 "cells": [
  {
   "cell_type": "markdown",
   "metadata": {},
   "source": [
    "# Run MinION with Smith-Waterman alignment (ours) \n",
    "\n",
    "- This scripts runs guppy minion step by step. The actual run can be found in "
   ]
  },
  {
   "cell_type": "code",
   "execution_count": 2,
   "metadata": {},
   "outputs": [],
   "source": [
    "# Import all packages\n",
    "\n",
    "import sys\n",
    "sys.path.append(\"/home/emre/github_repo/MinION\")\n",
    "\n",
    "from minION.util import IO_processor\n",
    "from minION import analyser\n",
    "from minION import consensus\n",
    "from minION import demultiplexer\n",
    "from minION.util import globals\n",
    "\n",
    "import pickle\n",
    "\n",
    "import os\n",
    "from pathlib import Path\n",
    "import pandas as pd\n",
    "import numpy as np\n",
    "import matplotlib.pyplot as plt\n",
    "import seaborn as sns\n",
    "import glob\n",
    "import numpy as np\n",
    "from Bio import SeqIO\n",
    "import matplotlib.pyplot as plt\n",
    "import gzip\n",
    "import subprocess"
   ]
  },
  {
   "cell_type": "code",
   "execution_count": null,
   "metadata": {},
   "outputs": [],
   "source": [
    "# General settings\n",
    "\n",
    "result_path = Path(\"/home/emre/\")\n",
    "experiment_name = \"20231208-RL8plates-MinION\"\n",
    "\n",
    "# Add conditions to avoid running the script accidentally\n",
    "skip_basecalling = True\n",
    "skip_demultiplex = False\n",
    "skip_variant_calling = False\n"
   ]
  },
  {
   "cell_type": "markdown",
   "metadata": {},
   "source": [
    "### Step 1 (Optional): Basecall reads\n",
    "\n",
    "- Basecall can usually be done while sequencing (if GPU available?)\n",
    "- Otherwise, basecall afterwards"
   ]
  },
  {
   "cell_type": "code",
   "execution_count": null,
   "metadata": {},
   "outputs": [],
   "source": [
    "# Path to pod5 files\n",
    "#file_to_pod5 = \"/var/lib/minknow/data/20230905_errorprone-3_test/no_sample/20230905_1342_MN41105_flg114_5c170bfa/pod5/\"\n",
    "file_to_fastq = \"/var/lib/minknow/data/20231130_RL-5sites-8plates_flongle/no_sample/20231130_1900_MN41105_FLG114_1904f884/fastq_pass/\"\n",
    "\n",
    "basecall_model_type = \"sup\"\n",
    "#basecall_model = globals.DORADO_MODELS[basecall_model_type]\n",
    "output_name = experiment_name\n",
    "\n",
    "\n",
    "result_folder = IO_processor.create_folder( experiment_name,\n",
    "                                            basecall_model_type, \n",
    "                                            target_path=result_path)\n",
    "                                            \n",
    "experiment_folder = IO_processor.find_experiment_folder(experiment_name) # Folder where pod5 files are located\n",
    "\n",
    "basecall_folder = result_folder / \"basecalled_filtered\"\n",
    "basecall_folder.mkdir(parents=True, exist_ok=True)\n",
    "\n",
    "print(basecall_folder)\n",
    "\n",
    "if not skip_basecalling:\n",
    "    pod5_files = IO_processor.find_folder(experiment_folder, \"pod5\")\n",
    "    run_dorado(basecall_model, pod5_files, basecall_folder, fastq = True)"
   ]
  },
  {
   "cell_type": "markdown",
   "metadata": {},
   "source": [
    "### Step 2: Demultiplex with SW\n",
    "- Demultiplex with SW "
   ]
  },
  {
   "cell_type": "code",
   "execution_count": null,
   "metadata": {},
   "outputs": [],
   "source": [
    "if not skip_demultiplex:\n",
    "    path_to_code = \"/home/emre/tutorials/sequence_tut/source/test_main\"\n",
    "    prompt = f\"{path_to_code} {file_to_fastq} {result_folder} {100} {100}\"\n",
    "    subprocess.run(prompt, shell=True)"
   ]
  },
  {
   "cell_type": "code",
   "execution_count": null,
   "metadata": {},
   "outputs": [],
   "source": [
    "demultiplex_folder = result_folder / \"Demultiplex_cpp_70\"\n",
    "print(demultiplex_folder)"
   ]
  },
  {
   "cell_type": "markdown",
   "metadata": {},
   "source": [
    "### Step 3: Call Variant with PileUP Analysis\n",
    "\n",
    "- Call Variant with min freq of 0.4 & depth min 15"
   ]
  },
  {
   "cell_type": "code",
   "execution_count": null,
   "metadata": {},
   "outputs": [],
   "source": [
    "ref_seq = Path(\"/home/emre/PgA9_padded.fasta\")\n",
    "ref_name = \"PgA9\"\n",
    "demultiplex_folder = result_folder / \"Demultiplex_cpp_70\" \n",
    "barcode_dict = IO_processor.get_barcode_dict(demultiplex_folder, \"NB\", \"RB\")\n",
    "print(demultiplex_folder)\n",
    "if not skip_variant_calling:\n",
    "    #variants = analyser.get_variant_df_AF(demultiplex_folder, ref_seq, ref_name, barcode_dict, merge = True, min_freq=0.4, min_depth= 10, padding=0)\n",
    "    variants = analyser.get_variant_df_custom(demultiplex_folder, ref_seq, barcode_dict, merge = True, padding = 0, min_depth=5)\n",
    "    #variants = analyser.get_variant_df_AF_parallel(demultiplex_folder, ref_seq, ref_name, barcode_dict, merge = False, min_freq=0.4, min_depth= 15, num_jobs=16)\n"
   ]
  },
  {
   "cell_type": "code",
   "execution_count": null,
   "metadata": {},
   "outputs": [],
   "source": [
    "variants = variants[variants[\"Plate\"] > 4]\n",
    "variants.tail(30)"
   ]
  },
  {
   "cell_type": "markdown",
   "metadata": {},
   "source": [
    "pd.DataFrame(variants).to_pickle(\"/home/emre/github_repo/MinION/results/2_hetcpiii_minion_errorprone/local/variants_SW_1Mio.pkl\")"
   ]
  },
  {
   "cell_type": "code",
   "execution_count": null,
   "metadata": {},
   "outputs": [],
   "source": [
    "# Assuming `variants` is your dictionary\n",
    "\n",
    "# Iterate over the range of the longest list\n",
    "for i in range(len(variants['RBC'])):\n",
    "    rbc = variants['RBC'][i]\n",
    "    fbc = variants['FBC'][i]\n",
    "\n",
    "    # Check if this index is beyond the length of other lists\n",
    "    if i >= len(variants['Position']) or i >= len(variants['Variant']) or i >= len(variants['Alignment Count']) or i >= len(variants['Alignment Frequency']):\n",
    "        print(f\"Missing data for RBC: {rbc}, FBC: {fbc}\")\n",
    "    else:\n",
    "        # Check if the data at this index matches the RBC and FBC\n",
    "        position = variants['Position'][i]\n",
    "        variant = variants['Variant'][i]\n",
    "        alignment_count = variants['Alignment Count'][i]\n",
    "        alignment_frequency = variants['Alignment Frequency'][i]\n",
    "\n",
    "        # If any of these are 'NA', it indicates missing data\n",
    "        if position == \"NA\" or variant == \"NA\" or alignment_count == \"NA\" or alignment_frequency == \"NA\":\n",
    "            print(f\"Incomplete data for RBC: {rbc}, FBC: {fbc}\")\n"
   ]
  },
  {
   "cell_type": "code",
   "execution_count": null,
   "metadata": {},
   "outputs": [],
   "source": [
    "bam_file = \"/home/emre/minION_results/MinION_RBC_0902723_sup/Demultiplex_cpp_70_200k_reads/RB02/NB70/alignment_minimap.bam\"\n",
    "template = Path(\"/home/emre/github_repo/MinION/minION/refseq/hetcpiii_padded.fasta\")\n",
    "template_seq = analyser.get_template_sequence(template)\n",
    "ref_name = \"HetCPIII\"\n",
    "min_freq = 0.4\n",
    "min_depth = 15\n",
    "nn_variants = analyser.call_variant_pop_frequency(bam_file, template_seq, ref_name, min_freq, min_depth, padding_start=50, padding_end=51)\n",
    "for i, variant in enumerate(nn_variants[\"Variant\"]):\n",
    "    print(nn_variants)"
   ]
  },
  {
   "cell_type": "code",
   "execution_count": null,
   "metadata": {},
   "outputs": [],
   "source": [
    "alignment_count = int(subprocess.run(f\"samtools view -c {bam_file}\", shell=True, capture_output=True).stdout.decode(\"utf-8\").strip())\n",
    "range_positions = range(50, len(template_seq) - 50)\n",
    "freq_dist = pd.DataFrame(analyser.get_highest_non_ref_base_freq_2(bam_file, ref_name, range_positions, template_seq, qualities=False)[0]).T.rename(columns={0:\"Base\", 1:\"Frequency\"})\n",
    "\n",
    "nb_positions = analyser.get_nb_positions(freq_dist, min_freq)\n",
    "\n",
    "\n",
    "nn_variants = analyser.get_pop_frequency(bam_file, template_seq, ref_name, [245], min_freq=min_freq, min_depth= 15)\n",
    "\n"
   ]
  },
  {
   "cell_type": "code",
   "execution_count": null,
   "metadata": {},
   "outputs": [],
   "source": [
    "summary = analyser.read_summary_file(demultiplex_folder)\n",
    "n_counts = summary.groupby([\"RBC\",\"FBC\"])[\"FBC\"].value_counts().reset_index() \n",
    "variant_df[\"Variant\"] = variant_df[\"Variant\"].astype(str)\n",
    "variant_df = analyser.rename_barcode(pd.DataFrame(variants).merge(n_counts, on=[\"RBC\",\"FBC\"] , how=\"left\"))\n",
    "def format_variant_list(variant_list):\n",
    "    \"\"\" Convert a list of integer variants to a string format. \"\"\"\n",
    "    if isinstance(variant_list, list):\n",
    "        return '_'.join(str(v) for v in variant_list)\n",
    "    return variant_list\n",
    "\n",
    "# Apply this conversion to the 'Variant' column\n",
    "variant_df[\"Variant\"] = variant_df[\"Variant\"].apply(format_variant_list)\n",
    "\n",
    "# Now apply the 'adjust_variant' function\n",
    "variant_df[\"Variant\"] = variant_df[\"Variant\"].apply(lambda x: analyser.adjust_variant(x, 50))\n"
   ]
  },
  {
   "cell_type": "code",
   "execution_count": null,
   "metadata": {},
   "outputs": [],
   "source": []
  },
  {
   "cell_type": "markdown",
   "metadata": {},
   "source": [
    "# Index Finder"
   ]
  },
  {
   "cell_type": "code",
   "execution_count": 5,
   "metadata": {},
   "outputs": [
    {
     "name": "stdout",
     "output_type": "stream",
     "text": [
      "Number of files: 1\n",
      "Processing file: /home/emre/minION_results/20230905_errorprone-3_test_sup/basecalled_filtered/basecalled_filtered.fastq.gz\n",
      "Time taken by function: 354731 milli seconds\n"
     ]
    },
    {
     "data": {
      "text/plain": [
       "CompletedProcess(args='/home/emre/tutorials/sequence_tut/source/test_main /home/emre/minION_results/20230905_errorprone-3_test_sup/basecalled_filtered /home/emre/minION_results/20230905_errorprone-3_test_sup/basecalled_indexed 100 100', returncode=0)"
      ]
     },
     "execution_count": 5,
     "metadata": {},
     "output_type": "execute_result"
    }
   ],
   "source": [
    "demultiplex_folder = Path(\"/home/emre/minION_results/20230905_errorprone-3_test_sup/basecalled_indexed\")\n",
    "path_to_index = \"/home/emre/minION_results/20230905_errorprone-3_test_sup/basecalled_filtered\"\n",
    "ref_seq = Path(\"/home/emre/github_repo/MinION/minION/refseq/hetcpiii.fasta\")\n",
    "index_file = \"output_index.txt\"\n",
    "path_to_code = \"/home/emre/tutorials/sequence_tut/source/test_main\"\n",
    "prompt = f\"{path_to_code} {path_to_index} {demultiplex_folder} {100} {100}\"\n",
    "subprocess.run(prompt, shell=True)"
   ]
  },
  {
   "cell_type": "code",
   "execution_count": null,
   "metadata": {},
   "outputs": [],
   "source": []
  }
 ],
 "metadata": {
  "kernelspec": {
   "display_name": "minion",
   "language": "python",
   "name": "python3"
  },
  "language_info": {
   "codemirror_mode": {
    "name": "ipython",
    "version": 3
   },
   "file_extension": ".py",
   "mimetype": "text/x-python",
   "name": "python",
   "nbconvert_exporter": "python",
   "pygments_lexer": "ipython3",
   "version": "3.10.8"
  }
 },
 "nbformat": 4,
 "nbformat_minor": 2
}
