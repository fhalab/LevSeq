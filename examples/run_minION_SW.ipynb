{
 "cells": [
  {
   "cell_type": "markdown",
   "metadata": {},
   "source": [
    "# Run MinION with Smith-Waterman alignment (ours) \n",
    "\n",
    "- This scripts runs guppy minion step by step. The actual run can be found in "
   ]
  },
  {
   "cell_type": "code",
   "execution_count": null,
   "metadata": {},
   "outputs": [],
   "source": [
    "# Import all packages\n",
    "\n",
    "import sys\n",
    "sys.path.append(\"/home/emre/github_repo/MinION\")\n",
    "\n",
    "from minION.util import IO_processor\n",
    "from minION import analyser\n",
    "from minION import consensus\n",
    "from minION import demultiplexer\n",
    "from minION.util import globals\n",
    "\n",
    "\n",
    "\n",
    "import os\n",
    "from pathlib import Path\n",
    "import pandas as pd\n",
    "import numpy as np\n",
    "import matplotlib.pyplot as plt\n",
    "import seaborn as sns\n",
    "import glob\n",
    "import numpy as np\n",
    "from Bio import SeqIO\n",
    "import matplotlib.pyplot as plt\n",
    "import gzip\n",
    "import subprocess"
   ]
  },
  {
   "cell_type": "code",
   "execution_count": null,
   "metadata": {},
   "outputs": [],
   "source": [
    "# General settings\n",
    "\n",
    "result_path = Path(\"/home/emre/\")\n",
    "experiment_name = \"20230905_errorprone-3_test\"\n",
    "\n",
    "# Add conditions to avoid running the script accidentally\n",
    "skip_basecalling = True\n",
    "skip_demultiplex = False\n",
    "skip_variant_calling = False\n"
   ]
  },
  {
   "cell_type": "markdown",
   "metadata": {},
   "source": [
    "### Step 1 (Optional): Basecall reads\n",
    "\n",
    "- Basecall can usually be done while sequencing (if GPU available?)\n",
    "- Otherwise, basecall afterwards"
   ]
  },
  {
   "cell_type": "code",
   "execution_count": null,
   "metadata": {},
   "outputs": [],
   "source": [
    "# Path to pod5 files\n",
    "file_to_pod5 = \"/var/lib/minknow/data/20230905_errorprone-3_test/no_sample/20230905_1342_MN41105_flg114_5c170bfa/pod5/\"\n",
    "basecall_model_type = \"sup\"\n",
    "basecall_model = globals.DORADO_MODELS[basecall_model_type]\n",
    "output_name = experiment_name\n",
    "\n",
    "\n",
    "result_folder = IO_processor.create_folder( experiment_name,\n",
    "                                            basecall_model_type, \n",
    "                                            target_path=result_path)\n",
    "                                            \n",
    "experiment_folder = IO_processor.find_experiment_folder(experiment_name) # Folder where pod5 files are located\n",
    "\n",
    "basecall_folder = result_folder / \"basecalled_filtered\"\n",
    "basecall_folder.mkdir(parents=True, exist_ok=True)\n",
    "\n",
    "print(basecall_folder)\n",
    "if not skip_basecalling:\n",
    "    pod5_files = IO_processor.find_folder(experiment_folder, \"pod5\")\n",
    "    run_dorado(basecall_model, pod5_files, basecall_folder, fastq = True)"
   ]
  },
  {
   "cell_type": "markdown",
   "metadata": {},
   "source": [
    "### Step 2: Demultiplex with SW\n",
    "- Demultiplex with SW "
   ]
  },
  {
   "cell_type": "code",
   "execution_count": 6,
   "metadata": {},
   "outputs": [
    {
     "name": "stdout",
     "output_type": "stream",
     "text": [
      "Number of files: 1\n",
      "Processing file: /home/emre/minION_results/20230905_errorprone-3_test_sup/basecalled_filtered/basecalled_filtered.fastq.gz\n",
      "Time taken by function: 503786 milli seconds\n",
      "Number of files: 1\n",
      "Processing file: /home/emre/minION_results/20230905_errorprone-3_test_sup/basecalled_filtered/basecalled_filtered.fastq.gz\n",
      "Time taken by function: 499798 milli seconds\n",
      "Number of files: 1\n",
      "Processing file: /home/emre/minION_results/20230905_errorprone-3_test_sup/basecalled_filtered/basecalled_filtered.fastq.gz\n",
      "Time taken by function: 500548 milli seconds\n"
     ]
    }
   ],
   "source": [
    "if not skip_demultiplex:\n",
    "    path_to_code = \"/home/emre/tutorials/sequence_tut/source/test_main\"\n",
    "    basecall_folder = str(basecall_folder)\n",
    "    prompt = f\"{path_to_code} {basecall_folder} {result_folder} {150} {150}\"\n",
    "    subprocess.run(prompt, shell=True)"
   ]
  },
  {
   "cell_type": "markdown",
   "metadata": {},
   "source": [
    "### Step 3: Call Variant with PileUP Analysis"
   ]
  },
  {
   "cell_type": "code",
   "execution_count": 7,
   "metadata": {},
   "outputs": [
    {
     "name": "stdout",
     "output_type": "stream",
     "text": [
      "Error in calling variant\n",
      "Skipping RB01/NB80\n",
      "Error in calling variant\n",
      "Skipping RB01/NB79\n",
      "Error in calling variant\n",
      "Skipping RB02/NB38\n"
     ]
    }
   ],
   "source": [
    "demultiplex_folder = result_folder / \"Demultiplex_cpp_70\"\n",
    "ref_seq = \"/home/emre/github_repo/MinION/minION/refseq/hetcpiii_padded.fasta\"\n",
    "ref_name = \"HetCPIII\"\n",
    "barcode_dict = IO_processor.get_barcode_dict(demultiplex_folder, \"NB\", \"RB\")\n",
    "\n",
    "if not skip_variant_calling:\n",
    "    variants = analyser.get_variant_df_AF(demultiplex_folder, ref_seq, ref_name, barcode_dict, merge = False, min_freq=0.4, min_depth= 15)"
   ]
  },
  {
   "cell_type": "code",
   "execution_count": 17,
   "metadata": {},
   "outputs": [
    {
     "name": "stdout",
     "output_type": "stream",
     "text": [
      "RBC\n",
      "FBC\n",
      "Position\n",
      "Variant\n",
      "Alignment Count\n",
      "Alignment Frequency\n"
     ]
    }
   ],
   "source": [
    "for key in variants.keys():\n",
    "    print(key)"
   ]
  },
  {
   "cell_type": "code",
   "execution_count": 23,
   "metadata": {},
   "outputs": [],
   "source": [
    "# Save key RBC, FBC as DataFrame\n",
    "\n",
    "df = pd.DataFrame({k: variants[k] for k in ['RBC', 'FBC', \"Position\", \"Variant\"]})"
   ]
  },
  {
   "cell_type": "code",
   "execution_count": 31,
   "metadata": {},
   "outputs": [],
   "source": [
    "# Show Duplicates based on column Variant\n",
    "\n",
    "duplicate_rows = df[df.duplicated(subset=['RBC', 'FBC'], keep=False)]\n",
    "\n"
   ]
  },
  {
   "cell_type": "code",
   "execution_count": 32,
   "metadata": {},
   "outputs": [
    {
     "data": {
      "text/html": [
       "<div>\n",
       "<style scoped>\n",
       "    .dataframe tbody tr th:only-of-type {\n",
       "        vertical-align: middle;\n",
       "    }\n",
       "\n",
       "    .dataframe tbody tr th {\n",
       "        vertical-align: top;\n",
       "    }\n",
       "\n",
       "    .dataframe thead th {\n",
       "        text-align: right;\n",
       "    }\n",
       "</style>\n",
       "<table border=\"1\" class=\"dataframe\">\n",
       "  <thead>\n",
       "    <tr style=\"text-align: right;\">\n",
       "      <th></th>\n",
       "      <th>RBC</th>\n",
       "      <th>FBC</th>\n",
       "      <th>Position</th>\n",
       "      <th>Variant</th>\n",
       "    </tr>\n",
       "  </thead>\n",
       "  <tbody>\n",
       "    <tr>\n",
       "      <th>0</th>\n",
       "      <td>RB03</td>\n",
       "      <td>NB87</td>\n",
       "      <td>[91, 93, 95, 219, 235, 238]</td>\n",
       "      <td>G93DEL_G95DEL_G219DEL_G235DEL_C238T</td>\n",
       "    </tr>\n",
       "    <tr>\n",
       "      <th>1</th>\n",
       "      <td>RB03</td>\n",
       "      <td>NB87</td>\n",
       "      <td>[91, 93, 95, 219, 235, 238]</td>\n",
       "      <td>T91C_G93C</td>\n",
       "    </tr>\n",
       "    <tr>\n",
       "      <th>16</th>\n",
       "      <td>RB03</td>\n",
       "      <td>NB13</td>\n",
       "      <td>[134, 135, 154, 238, 239, 338, 342, 465, 470, ...</td>\n",
       "      <td>G134A_A135T_G338T_C342T_G480A_A484DEL_T485DEL_...</td>\n",
       "    </tr>\n",
       "    <tr>\n",
       "      <th>17</th>\n",
       "      <td>RB03</td>\n",
       "      <td>NB13</td>\n",
       "      <td>[134, 135, 154, 238, 239, 338, 342, 465, 470, ...</td>\n",
       "      <td>A154DEL_C238DEL_G239T_C465T_T470C_A484DEL_T485...</td>\n",
       "    </tr>\n",
       "    <tr>\n",
       "      <th>21</th>\n",
       "      <td>RB03</td>\n",
       "      <td>NB10</td>\n",
       "      <td>[94, 119, 120, 154, 179, 181, 215, 226, 344, 3...</td>\n",
       "      <td>A94DEL_G344C</td>\n",
       "    </tr>\n",
       "    <tr>\n",
       "      <th>...</th>\n",
       "      <td>...</td>\n",
       "      <td>...</td>\n",
       "      <td>...</td>\n",
       "      <td>...</td>\n",
       "    </tr>\n",
       "    <tr>\n",
       "      <th>321</th>\n",
       "      <td>RB02</td>\n",
       "      <td>NB27</td>\n",
       "      <td>[52, 53, 54, 55, 56, 57, 58, 61, 62, 63, 66, 6...</td>\n",
       "      <td>T166C_A195DEL_C201DEL_T205DEL_A220G_T586DEL</td>\n",
       "    </tr>\n",
       "    <tr>\n",
       "      <th>322</th>\n",
       "      <td>RB02</td>\n",
       "      <td>NB08</td>\n",
       "      <td>[270]</td>\n",
       "      <td>T270C</td>\n",
       "    </tr>\n",
       "    <tr>\n",
       "      <th>323</th>\n",
       "      <td>RB02</td>\n",
       "      <td>NB08</td>\n",
       "      <td>[270]</td>\n",
       "      <td></td>\n",
       "    </tr>\n",
       "    <tr>\n",
       "      <th>333</th>\n",
       "      <td>RB02</td>\n",
       "      <td>NB18</td>\n",
       "      <td>[66, 154, 162, 222]</td>\n",
       "      <td>A154G_G162A</td>\n",
       "    </tr>\n",
       "    <tr>\n",
       "      <th>334</th>\n",
       "      <td>RB02</td>\n",
       "      <td>NB18</td>\n",
       "      <td>[66, 154, 162, 222]</td>\n",
       "      <td>A66C_T222C</td>\n",
       "    </tr>\n",
       "  </tbody>\n",
       "</table>\n",
       "<p>135 rows × 4 columns</p>\n",
       "</div>"
      ],
      "text/plain": [
       "      RBC   FBC                                           Position  \\\n",
       "0    RB03  NB87                        [91, 93, 95, 219, 235, 238]   \n",
       "1    RB03  NB87                        [91, 93, 95, 219, 235, 238]   \n",
       "16   RB03  NB13  [134, 135, 154, 238, 239, 338, 342, 465, 470, ...   \n",
       "17   RB03  NB13  [134, 135, 154, 238, 239, 338, 342, 465, 470, ...   \n",
       "21   RB03  NB10  [94, 119, 120, 154, 179, 181, 215, 226, 344, 3...   \n",
       "..    ...   ...                                                ...   \n",
       "321  RB02  NB27  [52, 53, 54, 55, 56, 57, 58, 61, 62, 63, 66, 6...   \n",
       "322  RB02  NB08                                              [270]   \n",
       "323  RB02  NB08                                              [270]   \n",
       "333  RB02  NB18                                [66, 154, 162, 222]   \n",
       "334  RB02  NB18                                [66, 154, 162, 222]   \n",
       "\n",
       "                                               Variant  \n",
       "0                  G93DEL_G95DEL_G219DEL_G235DEL_C238T  \n",
       "1                                            T91C_G93C  \n",
       "16   G134A_A135T_G338T_C342T_G480A_A484DEL_T485DEL_...  \n",
       "17   A154DEL_C238DEL_G239T_C465T_T470C_A484DEL_T485...  \n",
       "21                                        A94DEL_G344C  \n",
       "..                                                 ...  \n",
       "321        T166C_A195DEL_C201DEL_T205DEL_A220G_T586DEL  \n",
       "322                                              T270C  \n",
       "323                                                     \n",
       "333                                        A154G_G162A  \n",
       "334                                         A66C_T222C  \n",
       "\n",
       "[135 rows x 4 columns]"
      ]
     },
     "execution_count": 32,
     "metadata": {},
     "output_type": "execute_result"
    }
   ],
   "source": [
    "duplicate_rows"
   ]
  },
  {
   "cell_type": "code",
   "execution_count": null,
   "metadata": {},
   "outputs": [],
   "source": []
  }
 ],
 "metadata": {
  "kernelspec": {
   "display_name": "minion",
   "language": "python",
   "name": "python3"
  },
  "language_info": {
   "codemirror_mode": {
    "name": "ipython",
    "version": 3
   },
   "file_extension": ".py",
   "mimetype": "text/x-python",
   "name": "python",
   "nbconvert_exporter": "python",
   "pygments_lexer": "ipython3",
   "version": "3.10.8"
  }
 },
 "nbformat": 4,
 "nbformat_minor": 2
}
