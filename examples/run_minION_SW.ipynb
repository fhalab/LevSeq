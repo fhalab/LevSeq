{
 "cells": [
  {
   "cell_type": "markdown",
   "metadata": {},
   "source": [
    "# Every Variant Sequencing with Oxford Nanopore Technologies\n",
    "\n",
    "This script is being used after sequencing. The raw pod5 files can be basecalled or the already basecalled files can be used directly (fastq.gz)\n",
    "\n",
    "## Workflow\n",
    "\n",
    "### 1. Basecalling (Optional)\n",
    "\n",
    "- The raw reads are stored in the main folder of ONT (e.g /var/lib/minknow/data). Enter the experiment name as input. \n",
    "- Sequences are basecalled based on the model of choice. If enough computational power is available, we recommend \"sup\" method\n",
    "\n",
    "### 2. Demultiplexing \n",
    "- Each reead is assigned to a well/plate combination. \n",
    "\n",
    "### 3. Variant Calling\n",
    "- Minimap2 for creating Multiple Sequence Alignment (MSA)\n",
    "- Base Frequency Caller is being used for variant calling\n",
    "\n"
   ]
  },
  {
   "cell_type": "markdown",
   "metadata": {},
   "source": [
    "### Packages "
   ]
  },
  {
   "cell_type": "code",
   "execution_count": 1,
   "metadata": {},
   "outputs": [],
   "source": [
    "# Import all packages\n",
    "\n",
    "import sys\n",
    "sys.path.append(\"/home/emre/github_repo/MinION\")\n",
    "\n",
    "from minION.util import IO_processor\n",
    "from minION.basecaller import Basecaller\n",
    "\n",
    "from minION.variantcaller import *\n",
    "\n",
    "from pathlib import Path\n",
    "import pandas as pd\n",
    "import matplotlib.pyplot as plt\n",
    "import subprocess"
   ]
  },
  {
   "cell_type": "markdown",
   "metadata": {},
   "source": [
    "### Meta Data \n",
    "\n",
    "- Provide the following arguments:\n",
    "\n",
    "- Result Path: Path where the minion result folder will be created. All experiment results are then stored within the folder\n",
    "- Experiment Name: The experiment name is assigned when running the sequencer. Use the same name for identification\n"
   ]
  },
  {
   "cell_type": "code",
   "execution_count": 2,
   "metadata": {},
   "outputs": [],
   "source": [
    "result_path = Path(\"/home/emre/\")\n",
    "experiment_name = \"Masked_3RBC-Minion\"\n",
    "basecall_model_type = \"sup\"\n",
    "result_folder = IO_processor.create_folder( experiment_name,\n",
    "                                            basecall_model_type, \n",
    "                                            target_path=result_path)\n",
    "\n",
    "\n",
    "\n",
    "file_to_experiment= f\"/var/lib/minknow/data/{experiment_name}\"\n",
    "barcode_file = \"/home/emre/github_repo/MinION/data/refseq/hetcpiii_padded.fasta\"\n",
    "\n",
    "# Basecalling\n",
    "basecall_folder = result_folder / \"basecalled\"\n",
    "basecall_folder.mkdir(parents=True, exist_ok=True)\n",
    "experiment_folder = IO_processor.find_experiment_folder(experiment_name) # Folder where pod5 files are located\n",
    "\n",
    "# Demultiplexing\n",
    "experiment_name = experiment_name + \"_\" + basecall_model_type\n",
    "result_folder_path = IO_processor.find_folder(result_path, experiment_name)\n"
   ]
  },
  {
   "cell_type": "code",
   "execution_count": 3,
   "metadata": {},
   "outputs": [],
   "source": [
    "# Add conditions to avoid running the script accidentally\n",
    "skip_basecalling = True\n",
    "skip_demultiplex = False\n",
    "skip_variant_calling = False"
   ]
  },
  {
   "cell_type": "markdown",
   "metadata": {},
   "source": [
    "### Step 1 (Optional): Basecall reads\n",
    "\n",
    "- Basecall can usually be done while sequencing (if GPU available?)\n",
    "- Otherwise, basecall afterwards"
   ]
  },
  {
   "cell_type": "code",
   "execution_count": 3,
   "metadata": {},
   "outputs": [],
   "source": [
    "if not skip_basecalling:\n",
    "    pod5_files = IO_processor.find_folder(experiment_folder, \"pod5\")\n",
    "    bc = Basecaller(model=basecall_model_type, pod5_files, basecall_folder, fastq = True)\n",
    "    bc.run_basecaller()\n"
   ]
  },
  {
   "cell_type": "code",
   "execution_count": 4,
   "metadata": {},
   "outputs": [
    {
     "name": "stdout",
     "output_type": "stream",
     "text": [
      "/var/lib/minknow/data/20240112-RL-8Plates-FLongle-2/no_sample/20240112_1646_MN45017_flg114_9ac1102b/fastq_pass\n"
     ]
    }
   ],
   "source": [
    "# Find fastq files\n",
    "file_to_fastq = IO_processor.find_folder(experiment_folder, \"fastq_pass\")\n",
    "print(file_to_fastq)"
   ]
  },
  {
   "cell_type": "markdown",
   "metadata": {},
   "source": [
    "### Step 2: Demultiplex with SW\n",
    "- Demultiplex with SW "
   ]
  },
  {
   "cell_type": "code",
   "execution_count": 5,
   "metadata": {},
   "outputs": [
    {
     "name": "stdout",
     "output_type": "stream",
     "text": [
      "Processed argument: -f with value: /var/lib/minknow/data/20240112-RL-8Plates-FLongle-2/no_sample/20240112_1646_MN45017_flg114_9ac1102b/fastq_pass\n",
      "Processed argument: -d with value: /home/emre/minION_results/20240112-RL-8Plates-FLongle-2_sup\n",
      "Processed argument: -b with value: /home/emre/github_repo/MinION/minION/barcoding/minion_barcodes_pga9.fasta\n",
      "Processed argument: -w with value: 100\n",
      "Processed argument: -r with value: 100\n",
      "Number of files: 305\n",
      "Processing files: [##################################################] 100%\n"
     ]
    }
   ],
   "source": [
    "if not skip_demultiplex:\n",
    "    path_to_code = \"/home/emre/github_repo/MinION/source/source/demultiplex\"\n",
    "    prompt = f\"{path_to_code} -f {file_to_fastq} -d {result_folder} -b {barcode_file} -w {100} -r {100}\"\n",
    "    subprocess.run(prompt, shell=True)"
   ]
  },
  {
   "cell_type": "code",
   "execution_count": null,
   "metadata": {},
   "outputs": [],
   "source": [
    "demultiplex_folder = result_folder \n",
    "print(demultiplex_folder)"
   ]
  },
  {
   "cell_type": "markdown",
   "metadata": {},
   "source": [
    "### Step 3: Call Variant with PileUP Analysis\n",
    "\n",
    "- Call Variant with min freq of 0.4 & depth min 15"
   ]
  },
  {
   "cell_type": "markdown",
   "metadata": {},
   "source": [
    "Read Summary file (Optional):\n"
   ]
  },
  {
   "cell_type": "code",
   "execution_count": 5,
   "metadata": {},
   "outputs": [],
   "source": [
    "template_fasta = \"/home/emre/github_repo/MinION/data/refseq/hetcpiii_padded.fasta\"\n",
    "experiment_folder = Path(\"/home/emre/minION_results/MinION_RBC_0902723_sup\")\n",
    "demultiplex_folder_name = \"Demultiplex_cpp_70_200k_reads\""
   ]
  },
  {
   "cell_type": "code",
   "execution_count": 6,
   "metadata": {},
   "outputs": [
    {
     "name": "stderr",
     "output_type": "stream",
     "text": [
      "19it [00:18,  1.03s/it]"
     ]
    },
    {
     "name": "stdout",
     "output_type": "stream",
     "text": [
      "unsupported operand type(s) for /: 'float' and 'str'\n"
     ]
    },
    {
     "name": "stderr",
     "output_type": "stream",
     "text": [
      "57it [00:48,  1.05it/s]"
     ]
    },
    {
     "name": "stdout",
     "output_type": "stream",
     "text": [
      "unsupported operand type(s) for /: 'float' and 'str'\n"
     ]
    },
    {
     "name": "stderr",
     "output_type": "stream",
     "text": [
      "72it [00:56,  2.34it/s]"
     ]
    },
    {
     "name": "stdout",
     "output_type": "stream",
     "text": [
      "Too many positions: 30, Skipping...\n"
     ]
    },
    {
     "name": "stderr",
     "output_type": "stream",
     "text": [
      "84it [01:05,  1.14it/s]"
     ]
    },
    {
     "name": "stdout",
     "output_type": "stream",
     "text": [
      "unsupported operand type(s) for /: 'float' and 'str'\n"
     ]
    },
    {
     "name": "stderr",
     "output_type": "stream",
     "text": [
      "96it [01:12,  1.59it/s]"
     ]
    },
    {
     "name": "stdout",
     "output_type": "stream",
     "text": [
      "unsupported operand type(s) for /: 'float' and 'str'\n"
     ]
    },
    {
     "name": "stderr",
     "output_type": "stream",
     "text": [
      "111it [01:21,  1.58it/s]"
     ]
    },
    {
     "name": "stdout",
     "output_type": "stream",
     "text": [
      "unsupported operand type(s) for /: 'float' and 'str'\n",
      "unsupported operand type(s) for /: 'float' and 'str'\n"
     ]
    },
    {
     "name": "stderr",
     "output_type": "stream",
     "text": [
      "136it [01:39,  1.35it/s]"
     ]
    },
    {
     "name": "stdout",
     "output_type": "stream",
     "text": [
      "unsupported operand type(s) for /: 'float' and 'str'\n"
     ]
    },
    {
     "name": "stderr",
     "output_type": "stream",
     "text": [
      "138it [01:40,  1.55it/s]"
     ]
    },
    {
     "name": "stdout",
     "output_type": "stream",
     "text": [
      "unsupported operand type(s) for /: 'float' and 'str'\n",
      "unsupported operand type(s) for /: 'float' and 'str'\n"
     ]
    },
    {
     "name": "stderr",
     "output_type": "stream",
     "text": [
      "158it [02:00,  1.18s/it]"
     ]
    },
    {
     "name": "stdout",
     "output_type": "stream",
     "text": [
      "unsupported operand type(s) for /: 'float' and 'str'\n"
     ]
    },
    {
     "name": "stderr",
     "output_type": "stream",
     "text": [
      "175it [02:10,  1.59it/s]"
     ]
    },
    {
     "name": "stdout",
     "output_type": "stream",
     "text": [
      "unsupported operand type(s) for /: 'float' and 'str'\n"
     ]
    },
    {
     "name": "stderr",
     "output_type": "stream",
     "text": [
      "288it [03:40,  1.31it/s]\n"
     ]
    }
   ],
   "source": [
    "if not skip_variant_calling:\n",
    "    vc = VariantCaller(experiment_folder, \n",
    "                   template_fasta, \n",
    "                   demultiplex_folder_name=demultiplex_folder_name, \n",
    "                   padding_start=50, \n",
    "                   padding_end=50)\n",
    "    \n",
    "    variant_df = vc.get_variant_df(qualities=True, \n",
    "                                threshold=0.2,\n",
    "                                min_depth=5)\n"
   ]
  },
  {
   "cell_type": "code",
   "execution_count": 9,
   "metadata": {},
   "outputs": [
    {
     "data": {
      "text/html": [
       "<div>\n",
       "<style scoped>\n",
       "    .dataframe tbody tr th:only-of-type {\n",
       "        vertical-align: middle;\n",
       "    }\n",
       "\n",
       "    .dataframe tbody tr th {\n",
       "        vertical-align: top;\n",
       "    }\n",
       "\n",
       "    .dataframe thead th {\n",
       "        text-align: right;\n",
       "    }\n",
       "</style>\n",
       "<table border=\"1\" class=\"dataframe\">\n",
       "  <thead>\n",
       "    <tr style=\"text-align: right;\">\n",
       "      <th></th>\n",
       "      <th>Plate</th>\n",
       "      <th>Well</th>\n",
       "      <th>Path</th>\n",
       "      <th>Alignment_count</th>\n",
       "      <th>Variant</th>\n",
       "      <th>Probability</th>\n",
       "    </tr>\n",
       "  </thead>\n",
       "  <tbody>\n",
       "    <tr>\n",
       "      <th>268</th>\n",
       "      <td>3</td>\n",
       "      <td>G5</td>\n",
       "      <td>/home/emre/minION_results/MinION_RBC_0902723_s...</td>\n",
       "      <td>589</td>\n",
       "      <td>#PARENT#</td>\n",
       "      <td>0.006631</td>\n",
       "    </tr>\n",
       "    <tr>\n",
       "      <th>269</th>\n",
       "      <td>3</td>\n",
       "      <td>G6</td>\n",
       "      <td>/home/emre/minION_results/MinION_RBC_0902723_s...</td>\n",
       "      <td>444</td>\n",
       "      <td>T148C</td>\n",
       "      <td>0.957951</td>\n",
       "    </tr>\n",
       "    <tr>\n",
       "      <th>270</th>\n",
       "      <td>3</td>\n",
       "      <td>G7</td>\n",
       "      <td>/home/emre/minION_results/MinION_RBC_0902723_s...</td>\n",
       "      <td>267</td>\n",
       "      <td>A105G_A176G</td>\n",
       "      <td>0.968139</td>\n",
       "    </tr>\n",
       "    <tr>\n",
       "      <th>271</th>\n",
       "      <td>3</td>\n",
       "      <td>G8</td>\n",
       "      <td>/home/emre/minION_results/MinION_RBC_0902723_s...</td>\n",
       "      <td>27</td>\n",
       "      <td>#PARENT#</td>\n",
       "      <td>0.808468</td>\n",
       "    </tr>\n",
       "    <tr>\n",
       "      <th>272</th>\n",
       "      <td>3</td>\n",
       "      <td>G9</td>\n",
       "      <td>/home/emre/minION_results/MinION_RBC_0902723_s...</td>\n",
       "      <td>264</td>\n",
       "      <td>T171C</td>\n",
       "      <td>0.188013</td>\n",
       "    </tr>\n",
       "    <tr>\n",
       "      <th>273</th>\n",
       "      <td>3</td>\n",
       "      <td>G10</td>\n",
       "      <td>/home/emre/minION_results/MinION_RBC_0902723_s...</td>\n",
       "      <td>306</td>\n",
       "      <td>#PARENT#</td>\n",
       "      <td>0.955548</td>\n",
       "    </tr>\n",
       "    <tr>\n",
       "      <th>274</th>\n",
       "      <td>3</td>\n",
       "      <td>G11</td>\n",
       "      <td>/home/emre/minION_results/MinION_RBC_0902723_s...</td>\n",
       "      <td>526</td>\n",
       "      <td>#PARENT#</td>\n",
       "      <td>0.927979</td>\n",
       "    </tr>\n",
       "    <tr>\n",
       "      <th>275</th>\n",
       "      <td>3</td>\n",
       "      <td>G12</td>\n",
       "      <td>/home/emre/minION_results/MinION_RBC_0902723_s...</td>\n",
       "      <td>197</td>\n",
       "      <td>#PARENT#</td>\n",
       "      <td>0.952706</td>\n",
       "    </tr>\n",
       "    <tr>\n",
       "      <th>276</th>\n",
       "      <td>3</td>\n",
       "      <td>H1</td>\n",
       "      <td>/home/emre/minION_results/MinION_RBC_0902723_s...</td>\n",
       "      <td>2</td>\n",
       "      <td>NaN</td>\n",
       "      <td>NaN</td>\n",
       "    </tr>\n",
       "    <tr>\n",
       "      <th>277</th>\n",
       "      <td>3</td>\n",
       "      <td>H2</td>\n",
       "      <td>/home/emre/minION_results/MinION_RBC_0902723_s...</td>\n",
       "      <td>173</td>\n",
       "      <td>T89C_G110T</td>\n",
       "      <td>0.888325</td>\n",
       "    </tr>\n",
       "    <tr>\n",
       "      <th>278</th>\n",
       "      <td>3</td>\n",
       "      <td>H3</td>\n",
       "      <td>/home/emre/minION_results/MinION_RBC_0902723_s...</td>\n",
       "      <td>170</td>\n",
       "      <td>A164G_A211G</td>\n",
       "      <td>0.204692</td>\n",
       "    </tr>\n",
       "    <tr>\n",
       "      <th>279</th>\n",
       "      <td>3</td>\n",
       "      <td>H4</td>\n",
       "      <td>/home/emre/minION_results/MinION_RBC_0902723_s...</td>\n",
       "      <td>113</td>\n",
       "      <td>A105T_A112G_A165G_A211G_A229G</td>\n",
       "      <td>0.682240</td>\n",
       "    </tr>\n",
       "    <tr>\n",
       "      <th>280</th>\n",
       "      <td>3</td>\n",
       "      <td>H5</td>\n",
       "      <td>/home/emre/minION_results/MinION_RBC_0902723_s...</td>\n",
       "      <td>132</td>\n",
       "      <td>#PARENT#</td>\n",
       "      <td>0.629552</td>\n",
       "    </tr>\n",
       "    <tr>\n",
       "      <th>281</th>\n",
       "      <td>3</td>\n",
       "      <td>H6</td>\n",
       "      <td>/home/emre/minION_results/MinION_RBC_0902723_s...</td>\n",
       "      <td>194</td>\n",
       "      <td>#PARENT#</td>\n",
       "      <td>0.923320</td>\n",
       "    </tr>\n",
       "    <tr>\n",
       "      <th>282</th>\n",
       "      <td>3</td>\n",
       "      <td>H7</td>\n",
       "      <td>/home/emre/minION_results/MinION_RBC_0902723_s...</td>\n",
       "      <td>267</td>\n",
       "      <td>T171A</td>\n",
       "      <td>0.961370</td>\n",
       "    </tr>\n",
       "    <tr>\n",
       "      <th>283</th>\n",
       "      <td>3</td>\n",
       "      <td>H8</td>\n",
       "      <td>/home/emre/minION_results/MinION_RBC_0902723_s...</td>\n",
       "      <td>150</td>\n",
       "      <td>T225C</td>\n",
       "      <td>0.871071</td>\n",
       "    </tr>\n",
       "    <tr>\n",
       "      <th>284</th>\n",
       "      <td>3</td>\n",
       "      <td>H9</td>\n",
       "      <td>/home/emre/minION_results/MinION_RBC_0902723_s...</td>\n",
       "      <td>418</td>\n",
       "      <td>#PARENT#</td>\n",
       "      <td>0.903339</td>\n",
       "    </tr>\n",
       "    <tr>\n",
       "      <th>285</th>\n",
       "      <td>3</td>\n",
       "      <td>H10</td>\n",
       "      <td>/home/emre/minION_results/MinION_RBC_0902723_s...</td>\n",
       "      <td>532</td>\n",
       "      <td>T77A_T185A_T200C</td>\n",
       "      <td>0.837254</td>\n",
       "    </tr>\n",
       "    <tr>\n",
       "      <th>286</th>\n",
       "      <td>3</td>\n",
       "      <td>H11</td>\n",
       "      <td>/home/emre/minION_results/MinION_RBC_0902723_s...</td>\n",
       "      <td>360</td>\n",
       "      <td>A157G_T233C_T259C</td>\n",
       "      <td>0.859964</td>\n",
       "    </tr>\n",
       "    <tr>\n",
       "      <th>287</th>\n",
       "      <td>3</td>\n",
       "      <td>H12</td>\n",
       "      <td>/home/emre/minION_results/MinION_RBC_0902723_s...</td>\n",
       "      <td>239</td>\n",
       "      <td>A157G_T233C_T259C</td>\n",
       "      <td>0.503116</td>\n",
       "    </tr>\n",
       "  </tbody>\n",
       "</table>\n",
       "</div>"
      ],
      "text/plain": [
       "     Plate Well                                               Path  \\\n",
       "268      3   G5  /home/emre/minION_results/MinION_RBC_0902723_s...   \n",
       "269      3   G6  /home/emre/minION_results/MinION_RBC_0902723_s...   \n",
       "270      3   G7  /home/emre/minION_results/MinION_RBC_0902723_s...   \n",
       "271      3   G8  /home/emre/minION_results/MinION_RBC_0902723_s...   \n",
       "272      3   G9  /home/emre/minION_results/MinION_RBC_0902723_s...   \n",
       "273      3  G10  /home/emre/minION_results/MinION_RBC_0902723_s...   \n",
       "274      3  G11  /home/emre/minION_results/MinION_RBC_0902723_s...   \n",
       "275      3  G12  /home/emre/minION_results/MinION_RBC_0902723_s...   \n",
       "276      3   H1  /home/emre/minION_results/MinION_RBC_0902723_s...   \n",
       "277      3   H2  /home/emre/minION_results/MinION_RBC_0902723_s...   \n",
       "278      3   H3  /home/emre/minION_results/MinION_RBC_0902723_s...   \n",
       "279      3   H4  /home/emre/minION_results/MinION_RBC_0902723_s...   \n",
       "280      3   H5  /home/emre/minION_results/MinION_RBC_0902723_s...   \n",
       "281      3   H6  /home/emre/minION_results/MinION_RBC_0902723_s...   \n",
       "282      3   H7  /home/emre/minION_results/MinION_RBC_0902723_s...   \n",
       "283      3   H8  /home/emre/minION_results/MinION_RBC_0902723_s...   \n",
       "284      3   H9  /home/emre/minION_results/MinION_RBC_0902723_s...   \n",
       "285      3  H10  /home/emre/minION_results/MinION_RBC_0902723_s...   \n",
       "286      3  H11  /home/emre/minION_results/MinION_RBC_0902723_s...   \n",
       "287      3  H12  /home/emre/minION_results/MinION_RBC_0902723_s...   \n",
       "\n",
       "     Alignment_count                        Variant  Probability  \n",
       "268              589                       #PARENT#     0.006631  \n",
       "269              444                          T148C     0.957951  \n",
       "270              267                    A105G_A176G     0.968139  \n",
       "271               27                       #PARENT#     0.808468  \n",
       "272              264                          T171C     0.188013  \n",
       "273              306                       #PARENT#     0.955548  \n",
       "274              526                       #PARENT#     0.927979  \n",
       "275              197                       #PARENT#     0.952706  \n",
       "276                2                            NaN          NaN  \n",
       "277              173                     T89C_G110T     0.888325  \n",
       "278              170                    A164G_A211G     0.204692  \n",
       "279              113  A105T_A112G_A165G_A211G_A229G     0.682240  \n",
       "280              132                       #PARENT#     0.629552  \n",
       "281              194                       #PARENT#     0.923320  \n",
       "282              267                          T171A     0.961370  \n",
       "283              150                          T225C     0.871071  \n",
       "284              418                       #PARENT#     0.903339  \n",
       "285              532               T77A_T185A_T200C     0.837254  \n",
       "286              360              A157G_T233C_T259C     0.859964  \n",
       "287              239              A157G_T233C_T259C     0.503116  "
      ]
     },
     "execution_count": 9,
     "metadata": {},
     "output_type": "execute_result"
    }
   ],
   "source": [
    "variant_df.tail(20)"
   ]
  },
  {
   "cell_type": "code",
   "execution_count": null,
   "metadata": {},
   "outputs": [],
   "source": []
  }
 ],
 "metadata": {
  "kernelspec": {
   "display_name": "minion",
   "language": "python",
   "name": "python3"
  },
  "language_info": {
   "codemirror_mode": {
    "name": "ipython",
    "version": 3
   },
   "file_extension": ".py",
   "mimetype": "text/x-python",
   "name": "python",
   "nbconvert_exporter": "python",
   "pygments_lexer": "ipython3",
   "version": "3.9.18"
  }
 },
 "nbformat": 4,
 "nbformat_minor": 2
}
