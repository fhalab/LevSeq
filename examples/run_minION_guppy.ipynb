{
 "cells": [
  {
   "cell_type": "markdown",
   "metadata": {},
   "source": [
    "# Run MinION with Guppy \n",
    "\n",
    "- This scripts runs guppy minion step by step. The actual run can be found in run_minion.py"
   ]
  },
  {
   "cell_type": "code",
   "execution_count": 1,
   "metadata": {},
   "outputs": [],
   "source": [
    "# Import all packages\n",
    "\n",
    "import sys\n",
    "sys.path.append(\"/home/emre/github_repo/MinION\")\n",
    "\n",
    "from minION.util import IO_processor\n",
    "from minION import analyser\n",
    "from minION import consensus\n",
    "from minION import demultiplexer\n",
    "from minION.util import globals\n",
    "\n",
    "\n",
    "\n",
    "import os\n",
    "from pathlib import Path\n",
    "import pandas as pd\n",
    "import numpy as np\n",
    "import matplotlib.pyplot as plt\n",
    "import seaborn as sns\n",
    "import glob\n",
    "import numpy as np\n",
    "from Bio import SeqIO\n",
    "import matplotlib.pyplot as plt\n",
    "import gzip\n",
    "\n"
   ]
  },
  {
   "cell_type": "code",
   "execution_count": 2,
   "metadata": {},
   "outputs": [],
   "source": [
    "# General settings\n",
    "\n",
    "result_path = Path(\"/home/emre/\")\n",
    "experiment_name = \"20230905_errorprone-3_test\"\n",
    "\n",
    "# Add conditions to avoid running the script accidentally\n",
    "skip_basecalling = True\n",
    "skip_demultiplex = False\n",
    "\n"
   ]
  },
  {
   "cell_type": "markdown",
   "metadata": {},
   "source": [
    "### Step 1 (Optional): Basecall reads\n",
    "\n",
    "- Basecall can usually be done while sequencing (if GPU available?)\n",
    "- Otherwise, basecall afterwards"
   ]
  },
  {
   "cell_type": "code",
   "execution_count": 3,
   "metadata": {},
   "outputs": [
    {
     "name": "stdout",
     "output_type": "stream",
     "text": [
      "/home/emre/minION_results/20230905_errorprone-3_test_sup/basecalled_filtered\n"
     ]
    }
   ],
   "source": [
    "# Path to pod5 files\n",
    "file_to_pod5 = \"/var/lib/minknow/data/20230905_errorprone-3_test/no_sample/20230905_1342_MN41105_flg114_5c170bfa/pod5/\"\n",
    "basecall_model_type = \"sup\"\n",
    "basecall_model = globals.DORADO_MODELS[basecall_model_type]\n",
    "output_name = experiment_name\n",
    "\n",
    "\n",
    "result_folder = IO_processor.create_folder( experiment_name,\n",
    "                                            basecall_model_type, \n",
    "                                            target_path=result_path)\n",
    "                                            \n",
    "experiment_folder = IO_processor.find_experiment_folder(experiment_name) # Folder where pod5 files are located\n",
    "\n",
    "basecall_folder = result_folder / \"basecalled_filtered\"\n",
    "basecall_folder.mkdir(parents=True, exist_ok=True)\n",
    "\n",
    "print(basecall_folder)\n",
    "if not skip_basecalling:\n",
    "    pod5_files = IO_processor.find_folder(experiment_folder, \"pod5\")\n",
    "    run_dorado(basecall_model, pod5_files, basecall_folder, fastq = True)\n"
   ]
  },
  {
   "cell_type": "markdown",
   "metadata": {},
   "source": [
    "### Step 2: Demultiplex Barcodes using guppy barcoder\n",
    "\n",
    "- Define the barcodes in the barcoding folder and index them correctly\n",
    "- We first run reverse barcodes and split in to # RBC folders. Within each RBC folder, guppy barcoder is run again for front barcodes\n"
   ]
  },
  {
   "cell_type": "code",
   "execution_count": 5,
   "metadata": {},
   "outputs": [
    {
     "name": "stdout",
     "output_type": "stream",
     "text": [
      "Data_Path: /home/emre/github_repo/MinION/minION/barcoding\n",
      "Barcode_rbc: RBC-v1 Barcode_fbc: FBC-v1\n",
      "RBC Prompt: guppy_barcoder --input_path /home/emre/minION_results/20230905_errorprone-3_test_sup/basecalled_filtered --save_path /home/emre/minION_results/20230905_errorprone-3_test_sup/demultiplex_50_guppy --data_path /home/emre/github_repo/MinION/minION/barcoding --barcode_kits RBC-v1 --min_score_barcode_front 50\n",
      "ONT Guppy barcoding software version 6.5.7+ca6d6af\n",
      "input path:         /home/emre/minION_results/20230905_errorprone-3_test_sup/basecalled_filtered\n",
      "save path:          /home/emre/minION_results/20230905_errorprone-3_test_sup/demultiplex_50_guppy\n",
      "min. score front:   50\n",
      "min. score rear:    50\n",
      "\n",
      "Found 1 input files.\n",
      "\n",
      "0%   10   20   30   40   50   60   70   80   90   100%\n",
      "|----|----|----|----|----|----|----|----|----|----|\n",
      "***************************************************\n",
      "Done in 7573 ms.\n",
      "/home/emre/minION_results/20230905_errorprone-3_test_sup/demultiplex_50_guppy\n",
      "['/home/emre/minION_results/20230905_errorprone-3_test_sup/demultiplex_50_guppy/barcode03', '/home/emre/minION_results/20230905_errorprone-3_test_sup/demultiplex_50_guppy/barcode02', '/home/emre/minION_results/20230905_errorprone-3_test_sup/demultiplex_50_guppy/barcode01']\n",
      "ONT Guppy barcoding software version 6.5.7+ca6d6af\n",
      "input path:         /home/emre/minION_results/20230905_errorprone-3_test_sup/demultiplex_50_guppy/barcode03\n",
      "save path:          /home/emre/minION_results/20230905_errorprone-3_test_sup/demultiplex_50_guppy/barcode03\n",
      "min. score front:   50\n",
      "min. score rear:    50\n",
      "\n",
      "Found 1 input files.\n",
      "\n",
      "0%   10   20   30   40   50   60   70   80   90   100%\n",
      "|----|----|----|----|----|----|----|----|----|----|\n",
      "***************************************************\n",
      "Done in 308 ms.\n",
      "ONT Guppy barcoding software version 6.5.7+ca6d6af\n",
      "input path:         /home/emre/minION_results/20230905_errorprone-3_test_sup/demultiplex_50_guppy/barcode02\n",
      "save path:          /home/emre/minION_results/20230905_errorprone-3_test_sup/demultiplex_50_guppy/barcode02\n",
      "min. score front:   50\n",
      "min. score rear:    50\n",
      "\n",
      "Found 1 input files.\n",
      "\n",
      "0%   10   20   30   40   50   60   70   80   90   100%\n",
      "|----|----|----|----|----|----|----|----|----|----|\n",
      "***************************************************\n",
      "Done in 164 ms.\n",
      "ONT Guppy barcoding software version 6.5.7+ca6d6af\n",
      "input path:         /home/emre/minION_results/20230905_errorprone-3_test_sup/demultiplex_50_guppy/barcode01\n",
      "save path:          /home/emre/minION_results/20230905_errorprone-3_test_sup/demultiplex_50_guppy/barcode01\n",
      "min. score front:   50\n",
      "min. score rear:    50\n",
      "\n",
      "Found 1 input files.\n",
      "\n",
      "0%   10   20   30   40   50   60   70   80   90   100%\n",
      "|----|----|----|----|----|----|----|----|----|----|\n",
      "***************************************************\n",
      "Done in 143 ms.\n"
     ]
    }
   ],
   "source": [
    "if not skip_demultiplex:\n",
    "\n",
    "    BARCODES = {\"Barcode-kit-FBC\" : \"FBC-v1\",\n",
    "                \"Barcode-kit-RBC\" : \"RBC-v1\"}\n",
    "\n",
    "    output_folder_name = \"demultiplex_50_guppy\"\n",
    "\n",
    "    demultiplexer.run_demultiplexer(result_folder, BARCODES, 50, 50, output_folder_name=output_folder_name, basecall_folder = basecall_folder)"
   ]
  },
  {
   "cell_type": "code",
   "execution_count": null,
   "metadata": {},
   "outputs": [],
   "source": []
  }
 ],
 "metadata": {
  "kernelspec": {
   "display_name": "medaka",
   "language": "python",
   "name": "python3"
  },
  "language_info": {
   "codemirror_mode": {
    "name": "ipython",
    "version": 3
   },
   "file_extension": ".py",
   "mimetype": "text/x-python",
   "name": "python",
   "nbconvert_exporter": "python",
   "pygments_lexer": "ipython3",
   "version": "3.10.8"
  }
 },
 "nbformat": 4,
 "nbformat_minor": 2
}
