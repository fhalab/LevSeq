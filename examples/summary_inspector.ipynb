{
 "cells": [
  {
   "cell_type": "code",
   "execution_count": 1,
   "metadata": {},
   "outputs": [
    {
     "data": {
      "application/javascript": "(function(root) {\n  function now() {\n    return new Date();\n  }\n\n  var force = true;\n  var py_version = '3.2.1'.replace('rc', '-rc.').replace('.dev', '-dev.');\n  var is_dev = py_version.indexOf(\"+\") !== -1 || py_version.indexOf(\"-\") !== -1;\n  var reloading = false;\n  var Bokeh = root.Bokeh;\n  var bokeh_loaded = Bokeh != null && (Bokeh.version === py_version || (Bokeh.versions !== undefined && Bokeh.versions.has(py_version)));\n\n  if (typeof (root._bokeh_timeout) === \"undefined\" || force) {\n    root._bokeh_timeout = Date.now() + 5000;\n    root._bokeh_failed_load = false;\n  }\n\n  function run_callbacks() {\n    try {\n      root._bokeh_onload_callbacks.forEach(function(callback) {\n        if (callback != null)\n          callback();\n      });\n    } finally {\n      delete root._bokeh_onload_callbacks;\n    }\n    console.debug(\"Bokeh: all callbacks have finished\");\n  }\n\n  function load_libs(css_urls, js_urls, js_modules, js_exports, callback) {\n    if (css_urls == null) css_urls = [];\n    if (js_urls == null) js_urls = [];\n    if (js_modules == null) js_modules = [];\n    if (js_exports == null) js_exports = {};\n\n    root._bokeh_onload_callbacks.push(callback);\n\n    if (root._bokeh_is_loading > 0) {\n      console.debug(\"Bokeh: BokehJS is being loaded, scheduling callback at\", now());\n      return null;\n    }\n    if (js_urls.length === 0 && js_modules.length === 0 && Object.keys(js_exports).length === 0) {\n      run_callbacks();\n      return null;\n    }\n    if (!reloading) {\n      console.debug(\"Bokeh: BokehJS not loaded, scheduling load and callback at\", now());\n    }\n\n    function on_load() {\n      root._bokeh_is_loading--;\n      if (root._bokeh_is_loading === 0) {\n        console.debug(\"Bokeh: all BokehJS libraries/stylesheets loaded\");\n        run_callbacks()\n      }\n    }\n    window._bokeh_on_load = on_load\n\n    function on_error() {\n      console.error(\"failed to load \" + url);\n    }\n\n    var skip = [];\n    if (window.requirejs) {\n      window.requirejs.config({'packages': {}, 'paths': {'jspanel': 'https://cdn.jsdelivr.net/npm/jspanel4@4.12.0/dist/jspanel', 'jspanel-modal': 'https://cdn.jsdelivr.net/npm/jspanel4@4.12.0/dist/extensions/modal/jspanel.modal', 'jspanel-tooltip': 'https://cdn.jsdelivr.net/npm/jspanel4@4.12.0/dist/extensions/tooltip/jspanel.tooltip', 'jspanel-hint': 'https://cdn.jsdelivr.net/npm/jspanel4@4.12.0/dist/extensions/hint/jspanel.hint', 'jspanel-layout': 'https://cdn.jsdelivr.net/npm/jspanel4@4.12.0/dist/extensions/layout/jspanel.layout', 'jspanel-contextmenu': 'https://cdn.jsdelivr.net/npm/jspanel4@4.12.0/dist/extensions/contextmenu/jspanel.contextmenu', 'jspanel-dock': 'https://cdn.jsdelivr.net/npm/jspanel4@4.12.0/dist/extensions/dock/jspanel.dock', 'gridstack': 'https://cdn.jsdelivr.net/npm/gridstack@7.2.3/dist/gridstack-all', 'notyf': 'https://cdn.jsdelivr.net/npm/notyf@3/notyf.min'}, 'shim': {'jspanel': {'exports': 'jsPanel'}, 'gridstack': {'exports': 'GridStack'}}});\n      require([\"jspanel\"], function(jsPanel) {\n\twindow.jsPanel = jsPanel\n\ton_load()\n      })\n      require([\"jspanel-modal\"], function() {\n\ton_load()\n      })\n      require([\"jspanel-tooltip\"], function() {\n\ton_load()\n      })\n      require([\"jspanel-hint\"], function() {\n\ton_load()\n      })\n      require([\"jspanel-layout\"], function() {\n\ton_load()\n      })\n      require([\"jspanel-contextmenu\"], function() {\n\ton_load()\n      })\n      require([\"jspanel-dock\"], function() {\n\ton_load()\n      })\n      require([\"gridstack\"], function(GridStack) {\n\twindow.GridStack = GridStack\n\ton_load()\n      })\n      require([\"notyf\"], function() {\n\ton_load()\n      })\n      root._bokeh_is_loading = css_urls.length + 9;\n    } else {\n      root._bokeh_is_loading = css_urls.length + js_urls.length + js_modules.length + Object.keys(js_exports).length;\n    }\n\n    var existing_stylesheets = []\n    var links = document.getElementsByTagName('link')\n    for (var i = 0; i < links.length; i++) {\n      var link = links[i]\n      if (link.href != null) {\n\texisting_stylesheets.push(link.href)\n      }\n    }\n    for (var i = 0; i < css_urls.length; i++) {\n      var url = css_urls[i];\n      if (existing_stylesheets.indexOf(url) !== -1) {\n\ton_load()\n\tcontinue;\n      }\n      const element = document.createElement(\"link\");\n      element.onload = on_load;\n      element.onerror = on_error;\n      element.rel = \"stylesheet\";\n      element.type = \"text/css\";\n      element.href = url;\n      console.debug(\"Bokeh: injecting link tag for BokehJS stylesheet: \", url);\n      document.body.appendChild(element);\n    }    if (((window['jsPanel'] !== undefined) && (!(window['jsPanel'] instanceof HTMLElement))) || window.requirejs) {\n      var urls = ['https://cdn.holoviz.org/panel/1.2.3/dist/bundled/floatpanel/jspanel4@4.12.0/dist/jspanel.js', 'https://cdn.holoviz.org/panel/1.2.3/dist/bundled/floatpanel/jspanel4@4.12.0/dist/extensions/modal/jspanel.modal.js', 'https://cdn.holoviz.org/panel/1.2.3/dist/bundled/floatpanel/jspanel4@4.12.0/dist/extensions/tooltip/jspanel.tooltip.js', 'https://cdn.holoviz.org/panel/1.2.3/dist/bundled/floatpanel/jspanel4@4.12.0/dist/extensions/hint/jspanel.hint.js', 'https://cdn.holoviz.org/panel/1.2.3/dist/bundled/floatpanel/jspanel4@4.12.0/dist/extensions/layout/jspanel.layout.js', 'https://cdn.holoviz.org/panel/1.2.3/dist/bundled/floatpanel/jspanel4@4.12.0/dist/extensions/contextmenu/jspanel.contextmenu.js', 'https://cdn.holoviz.org/panel/1.2.3/dist/bundled/floatpanel/jspanel4@4.12.0/dist/extensions/dock/jspanel.dock.js'];\n      for (var i = 0; i < urls.length; i++) {\n        skip.push(urls[i])\n      }\n    }    if (((window['GridStack'] !== undefined) && (!(window['GridStack'] instanceof HTMLElement))) || window.requirejs) {\n      var urls = ['https://cdn.holoviz.org/panel/1.2.3/dist/bundled/gridstack/gridstack@7.2.3/dist/gridstack-all.js'];\n      for (var i = 0; i < urls.length; i++) {\n        skip.push(urls[i])\n      }\n    }    if (((window['Notyf'] !== undefined) && (!(window['Notyf'] instanceof HTMLElement))) || window.requirejs) {\n      var urls = ['https://cdn.holoviz.org/panel/1.2.3/dist/bundled/notificationarea/notyf@3/notyf.min.js'];\n      for (var i = 0; i < urls.length; i++) {\n        skip.push(urls[i])\n      }\n    }    var existing_scripts = []\n    var scripts = document.getElementsByTagName('script')\n    for (var i = 0; i < scripts.length; i++) {\n      var script = scripts[i]\n      if (script.src != null) {\n\texisting_scripts.push(script.src)\n      }\n    }\n    for (var i = 0; i < js_urls.length; i++) {\n      var url = js_urls[i];\n      if (skip.indexOf(url) !== -1 || existing_scripts.indexOf(url) !== -1) {\n\tif (!window.requirejs) {\n\t  on_load();\n\t}\n\tcontinue;\n      }\n      var element = document.createElement('script');\n      element.onload = on_load;\n      element.onerror = on_error;\n      element.async = false;\n      element.src = url;\n      console.debug(\"Bokeh: injecting script tag for BokehJS library: \", url);\n      document.head.appendChild(element);\n    }\n    for (var i = 0; i < js_modules.length; i++) {\n      var url = js_modules[i];\n      if (skip.indexOf(url) !== -1 || existing_scripts.indexOf(url) !== -1) {\n\tif (!window.requirejs) {\n\t  on_load();\n\t}\n\tcontinue;\n      }\n      var element = document.createElement('script');\n      element.onload = on_load;\n      element.onerror = on_error;\n      element.async = false;\n      element.src = url;\n      element.type = \"module\";\n      console.debug(\"Bokeh: injecting script tag for BokehJS library: \", url);\n      document.head.appendChild(element);\n    }\n    for (const name in js_exports) {\n      var url = js_exports[name];\n      if (skip.indexOf(url) >= 0 || root[name] != null) {\n\tif (!window.requirejs) {\n\t  on_load();\n\t}\n\tcontinue;\n      }\n      var element = document.createElement('script');\n      element.onerror = on_error;\n      element.async = false;\n      element.type = \"module\";\n      console.debug(\"Bokeh: injecting script tag for BokehJS library: \", url);\n      element.textContent = `\n      import ${name} from \"${url}\"\n      window.${name} = ${name}\n      window._bokeh_on_load()\n      `\n      document.head.appendChild(element);\n    }\n    if (!js_urls.length && !js_modules.length) {\n      on_load()\n    }\n  };\n\n  function inject_raw_css(css) {\n    const element = document.createElement(\"style\");\n    element.appendChild(document.createTextNode(css));\n    document.body.appendChild(element);\n  }\n\n  var js_urls = [\"https://cdn.bokeh.org/bokeh/release/bokeh-3.2.1.min.js\", \"https://cdn.bokeh.org/bokeh/release/bokeh-gl-3.2.1.min.js\", \"https://cdn.bokeh.org/bokeh/release/bokeh-widgets-3.2.1.min.js\", \"https://cdn.bokeh.org/bokeh/release/bokeh-tables-3.2.1.min.js\", \"https://cdn.holoviz.org/panel/1.2.3/dist/panel.min.js\"];\n  var js_modules = [];\n  var js_exports = {};\n  var css_urls = [];\n  var inline_js = [    function(Bokeh) {\n      Bokeh.set_log_level(\"info\");\n    },\nfunction(Bokeh) {} // ensure no trailing comma for IE\n  ];\n\n  function run_inline_js() {\n    if ((root.Bokeh !== undefined) || (force === true)) {\n      for (var i = 0; i < inline_js.length; i++) {\n        inline_js[i].call(root, root.Bokeh);\n      }\n      // Cache old bokeh versions\n      if (Bokeh != undefined && !reloading) {\n\tvar NewBokeh = root.Bokeh;\n\tif (Bokeh.versions === undefined) {\n\t  Bokeh.versions = new Map();\n\t}\n\tif (NewBokeh.version !== Bokeh.version) {\n\t  Bokeh.versions.set(NewBokeh.version, NewBokeh)\n\t}\n\troot.Bokeh = Bokeh;\n      }} else if (Date.now() < root._bokeh_timeout) {\n      setTimeout(run_inline_js, 100);\n    } else if (!root._bokeh_failed_load) {\n      console.log(\"Bokeh: BokehJS failed to load within specified timeout.\");\n      root._bokeh_failed_load = true;\n    }\n    root._bokeh_is_initializing = false\n  }\n\n  function load_or_wait() {\n    // Implement a backoff loop that tries to ensure we do not load multiple\n    // versions of Bokeh and its dependencies at the same time.\n    // In recent versions we use the root._bokeh_is_initializing flag\n    // to determine whether there is an ongoing attempt to initialize\n    // bokeh, however for backward compatibility we also try to ensure\n    // that we do not start loading a newer (Panel>=1.0 and Bokeh>3) version\n    // before older versions are fully initialized.\n    if (root._bokeh_is_initializing && Date.now() > root._bokeh_timeout) {\n      root._bokeh_is_initializing = false;\n      root._bokeh_onload_callbacks = undefined;\n      console.log(\"Bokeh: BokehJS was loaded multiple times but one version failed to initialize.\");\n      load_or_wait();\n    } else if (root._bokeh_is_initializing || (typeof root._bokeh_is_initializing === \"undefined\" && root._bokeh_onload_callbacks !== undefined)) {\n      setTimeout(load_or_wait, 100);\n    } else {\n      Bokeh = root.Bokeh;\n      bokeh_loaded = Bokeh != null && (Bokeh.version === py_version || (Bokeh.versions !== undefined && Bokeh.versions.has(py_version)));\n      root._bokeh_is_initializing = true\n      root._bokeh_onload_callbacks = []\n      if (!reloading && (!bokeh_loaded || is_dev)) {\n\troot.Bokeh = undefined;\n      }\n      load_libs(css_urls, js_urls, js_modules, js_exports, function() {\n\tconsole.debug(\"Bokeh: BokehJS plotting callback run at\", now());\n\trun_inline_js();\n      });\n    }\n  }\n  // Give older versions of the autoload script a head-start to ensure\n  // they initialize before we start loading newer version.\n  setTimeout(load_or_wait, 100)\n}(window));",
      "application/vnd.holoviews_load.v0+json": ""
     },
     "metadata": {},
     "output_type": "display_data"
    },
    {
     "data": {
      "application/javascript": "\nif ((window.PyViz === undefined) || (window.PyViz instanceof HTMLElement)) {\n  window.PyViz = {comms: {}, comm_status:{}, kernels:{}, receivers: {}, plot_index: []}\n}\n\n\n    function JupyterCommManager() {\n    }\n\n    JupyterCommManager.prototype.register_target = function(plot_id, comm_id, msg_handler) {\n      if (window.comm_manager || ((window.Jupyter !== undefined) && (Jupyter.notebook.kernel != null))) {\n        var comm_manager = window.comm_manager || Jupyter.notebook.kernel.comm_manager;\n        comm_manager.register_target(comm_id, function(comm) {\n          comm.on_msg(msg_handler);\n        });\n      } else if ((plot_id in window.PyViz.kernels) && (window.PyViz.kernels[plot_id])) {\n        window.PyViz.kernels[plot_id].registerCommTarget(comm_id, function(comm) {\n          comm.onMsg = msg_handler;\n        });\n      } else if (typeof google != 'undefined' && google.colab.kernel != null) {\n        google.colab.kernel.comms.registerTarget(comm_id, (comm) => {\n          var messages = comm.messages[Symbol.asyncIterator]();\n          function processIteratorResult(result) {\n            var message = result.value;\n            console.log(message)\n            var content = {data: message.data, comm_id};\n            var buffers = []\n            for (var buffer of message.buffers || []) {\n              buffers.push(new DataView(buffer))\n            }\n            var metadata = message.metadata || {};\n            var msg = {content, buffers, metadata}\n            msg_handler(msg);\n            return messages.next().then(processIteratorResult);\n          }\n          return messages.next().then(processIteratorResult);\n        })\n      }\n    }\n\n    JupyterCommManager.prototype.get_client_comm = function(plot_id, comm_id, msg_handler) {\n      if (comm_id in window.PyViz.comms) {\n        return window.PyViz.comms[comm_id];\n      } else if (window.comm_manager || ((window.Jupyter !== undefined) && (Jupyter.notebook.kernel != null))) {\n        var comm_manager = window.comm_manager || Jupyter.notebook.kernel.comm_manager;\n        var comm = comm_manager.new_comm(comm_id, {}, {}, {}, comm_id);\n        if (msg_handler) {\n          comm.on_msg(msg_handler);\n        }\n      } else if ((plot_id in window.PyViz.kernels) && (window.PyViz.kernels[plot_id])) {\n        var comm = window.PyViz.kernels[plot_id].connectToComm(comm_id);\n        comm.open();\n        if (msg_handler) {\n          comm.onMsg = msg_handler;\n        }\n      } else if (typeof google != 'undefined' && google.colab.kernel != null) {\n        var comm_promise = google.colab.kernel.comms.open(comm_id)\n        comm_promise.then((comm) => {\n          window.PyViz.comms[comm_id] = comm;\n          if (msg_handler) {\n            var messages = comm.messages[Symbol.asyncIterator]();\n            function processIteratorResult(result) {\n              var message = result.value;\n              var content = {data: message.data};\n              var metadata = message.metadata || {comm_id};\n              var msg = {content, metadata}\n              msg_handler(msg);\n              return messages.next().then(processIteratorResult);\n            }\n            return messages.next().then(processIteratorResult);\n          }\n        }) \n        var sendClosure = (data, metadata, buffers, disposeOnDone) => {\n          return comm_promise.then((comm) => {\n            comm.send(data, metadata, buffers, disposeOnDone);\n          });\n        };\n        var comm = {\n          send: sendClosure\n        };\n      }\n      window.PyViz.comms[comm_id] = comm;\n      return comm;\n    }\n    window.PyViz.comm_manager = new JupyterCommManager();\n    \n\n\nvar JS_MIME_TYPE = 'application/javascript';\nvar HTML_MIME_TYPE = 'text/html';\nvar EXEC_MIME_TYPE = 'application/vnd.holoviews_exec.v0+json';\nvar CLASS_NAME = 'output';\n\n/**\n * Render data to the DOM node\n */\nfunction render(props, node) {\n  var div = document.createElement(\"div\");\n  var script = document.createElement(\"script\");\n  node.appendChild(div);\n  node.appendChild(script);\n}\n\n/**\n * Handle when a new output is added\n */\nfunction handle_add_output(event, handle) {\n  var output_area = handle.output_area;\n  var output = handle.output;\n  if ((output.data == undefined) || (!output.data.hasOwnProperty(EXEC_MIME_TYPE))) {\n    return\n  }\n  var id = output.metadata[EXEC_MIME_TYPE][\"id\"];\n  var toinsert = output_area.element.find(\".\" + CLASS_NAME.split(' ')[0]);\n  if (id !== undefined) {\n    var nchildren = toinsert.length;\n    var html_node = toinsert[nchildren-1].children[0];\n    html_node.innerHTML = output.data[HTML_MIME_TYPE];\n    var scripts = [];\n    var nodelist = html_node.querySelectorAll(\"script\");\n    for (var i in nodelist) {\n      if (nodelist.hasOwnProperty(i)) {\n        scripts.push(nodelist[i])\n      }\n    }\n\n    scripts.forEach( function (oldScript) {\n      var newScript = document.createElement(\"script\");\n      var attrs = [];\n      var nodemap = oldScript.attributes;\n      for (var j in nodemap) {\n        if (nodemap.hasOwnProperty(j)) {\n          attrs.push(nodemap[j])\n        }\n      }\n      attrs.forEach(function(attr) { newScript.setAttribute(attr.name, attr.value) });\n      newScript.appendChild(document.createTextNode(oldScript.innerHTML));\n      oldScript.parentNode.replaceChild(newScript, oldScript);\n    });\n    if (JS_MIME_TYPE in output.data) {\n      toinsert[nchildren-1].children[1].textContent = output.data[JS_MIME_TYPE];\n    }\n    output_area._hv_plot_id = id;\n    if ((window.Bokeh !== undefined) && (id in Bokeh.index)) {\n      window.PyViz.plot_index[id] = Bokeh.index[id];\n    } else {\n      window.PyViz.plot_index[id] = null;\n    }\n  } else if (output.metadata[EXEC_MIME_TYPE][\"server_id\"] !== undefined) {\n    var bk_div = document.createElement(\"div\");\n    bk_div.innerHTML = output.data[HTML_MIME_TYPE];\n    var script_attrs = bk_div.children[0].attributes;\n    for (var i = 0; i < script_attrs.length; i++) {\n      toinsert[toinsert.length - 1].childNodes[1].setAttribute(script_attrs[i].name, script_attrs[i].value);\n    }\n    // store reference to server id on output_area\n    output_area._bokeh_server_id = output.metadata[EXEC_MIME_TYPE][\"server_id\"];\n  }\n}\n\n/**\n * Handle when an output is cleared or removed\n */\nfunction handle_clear_output(event, handle) {\n  var id = handle.cell.output_area._hv_plot_id;\n  var server_id = handle.cell.output_area._bokeh_server_id;\n  if (((id === undefined) || !(id in PyViz.plot_index)) && (server_id !== undefined)) { return; }\n  var comm = window.PyViz.comm_manager.get_client_comm(\"hv-extension-comm\", \"hv-extension-comm\", function () {});\n  if (server_id !== null) {\n    comm.send({event_type: 'server_delete', 'id': server_id});\n    return;\n  } else if (comm !== null) {\n    comm.send({event_type: 'delete', 'id': id});\n  }\n  delete PyViz.plot_index[id];\n  if ((window.Bokeh !== undefined) & (id in window.Bokeh.index)) {\n    var doc = window.Bokeh.index[id].model.document\n    doc.clear();\n    const i = window.Bokeh.documents.indexOf(doc);\n    if (i > -1) {\n      window.Bokeh.documents.splice(i, 1);\n    }\n  }\n}\n\n/**\n * Handle kernel restart event\n */\nfunction handle_kernel_cleanup(event, handle) {\n  delete PyViz.comms[\"hv-extension-comm\"];\n  window.PyViz.plot_index = {}\n}\n\n/**\n * Handle update_display_data messages\n */\nfunction handle_update_output(event, handle) {\n  handle_clear_output(event, {cell: {output_area: handle.output_area}})\n  handle_add_output(event, handle)\n}\n\nfunction register_renderer(events, OutputArea) {\n  function append_mime(data, metadata, element) {\n    // create a DOM node to render to\n    var toinsert = this.create_output_subarea(\n    metadata,\n    CLASS_NAME,\n    EXEC_MIME_TYPE\n    );\n    this.keyboard_manager.register_events(toinsert);\n    // Render to node\n    var props = {data: data, metadata: metadata[EXEC_MIME_TYPE]};\n    render(props, toinsert[0]);\n    element.append(toinsert);\n    return toinsert\n  }\n\n  events.on('output_added.OutputArea', handle_add_output);\n  events.on('output_updated.OutputArea', handle_update_output);\n  events.on('clear_output.CodeCell', handle_clear_output);\n  events.on('delete.Cell', handle_clear_output);\n  events.on('kernel_ready.Kernel', handle_kernel_cleanup);\n\n  OutputArea.prototype.register_mime_type(EXEC_MIME_TYPE, append_mime, {\n    safe: true,\n    index: 0\n  });\n}\n\nif (window.Jupyter !== undefined) {\n  try {\n    var events = require('base/js/events');\n    var OutputArea = require('notebook/js/outputarea').OutputArea;\n    if (OutputArea.prototype.mime_types().indexOf(EXEC_MIME_TYPE) == -1) {\n      register_renderer(events, OutputArea);\n    }\n  } catch(err) {\n  }\n}\n",
      "application/vnd.holoviews_load.v0+json": ""
     },
     "metadata": {},
     "output_type": "display_data"
    },
    {
     "data": {
      "text/html": [
       "<style>*[data-root-id],\n",
       "*[data-root-id] > * {\n",
       "  box-sizing: border-box;\n",
       "  font-family: var(--jp-ui-font-family);\n",
       "  font-size: var(--jp-ui-font-size1);\n",
       "  color: var(--vscode-editor-foreground, var(--jp-ui-font-color1));\n",
       "}\n",
       "\n",
       "/* Override VSCode background color */\n",
       ".cell-output-ipywidget-background:has(\n",
       "    > .cell-output-ipywidget-background > .lm-Widget > *[data-root-id]\n",
       "  ),\n",
       ".cell-output-ipywidget-background:has(> .lm-Widget > *[data-root-id]) {\n",
       "  background-color: transparent !important;\n",
       "}\n",
       "</style>"
      ]
     },
     "metadata": {},
     "output_type": "display_data"
    }
   ],
   "source": [
    "import os \n",
    "import pandas as pd\n",
    "import bokeh\n",
    "from matplotlib import pyplot as plt\n",
    "import numpy as np\n",
    "import bokeh\n",
    "from holoviews import opts\n",
    "import holoviews as hv\n",
    "hv.extension('bokeh', logo=False)"
   ]
  },
  {
   "cell_type": "code",
   "execution_count": 2,
   "metadata": {},
   "outputs": [],
   "source": [
    "result_folder = \"/home/emre/minION_results\"\n",
    "experiment_folder = \"202309_errorprone_3_rtrimmed_f24\"\n",
    "path = os.path.join(result_folder, experiment_folder, \"demultiplex\", \"barcoding_summary.txt\")\n",
    "overall_summary = pd.read_csv(path, sep=\"\\t\")\n"
   ]
  },
  {
   "cell_type": "code",
   "execution_count": 10,
   "metadata": {},
   "outputs": [],
   "source": [
    "def barcode_score(summary):\n",
    "    frequencies, edges = np.histogram(summary[\"barcode_score\"], bins=100)\n",
    "    return hv.Histogram((edges, frequencies), label=\"Barcode Score Distribution\").opts(\n",
    "        opts.Histogram(color=\"red\", line_color=\"black\", alpha=0.5, width=600, height=400, tools=['hover'], xlabel=\"Barcode Score\", ylabel=\"Frequency\"))\n",
    "    \n",
    "def barcode_barplot(summary, barcode_id = \"barcode_arrangement\", ylim = None):\n",
    "    # Barplot of barcodes\n",
    "    barcodes = summary[barcode_id].value_counts().reset_index()\n",
    "    # Barplot of barcodes\n",
    "\n",
    "    if ylim is None:\n",
    "        return hv.Bars(barcodes, label=\"Barcode Frequency\").opts(\n",
    "        opts.Bars(color=\"red\", line_color=\"black\", alpha=0.5, width=600, height=400, tools=['hover'], xlabel=\"Barcode ID\", ylabel=\"Frequency\"))\n",
    "    else:\n",
    "        return hv.Bars(barcodes, label=\"Barcode Frequency\").opts(\n",
    "        opts.Bars(color=\"red\", line_color=\"black\", alpha=0.5, width=600, height=400, tools=['hover'], xlabel=\"Barcode ID\", ylabel=\"Frequency\", ylim=(0, 2000)))\n",
    "\n",
    "def barcode_arrangement(summary, plot = True):\n",
    "    barcode_arrangements = summary[\"barcode_arrangement\"].value_counts().reset_index() \n",
    "    # Barplot of barcodes\n",
    "    if plot:\n",
    "        return hv.Bars(barcode_arrangements, label=\"Barcode Frequency\").opts(\n",
    "        opts.Bars(color=\"red\", line_color=\"black\", alpha=0.5, width=600, height=400, tools=['hover'], xlabel=\"Barcode ID\", ylabel=\"Frequency\"))\n",
    "    else:\n",
    "        return barcode_arrangements\n",
    "\n",
    "\n"
   ]
  },
  {
   "cell_type": "code",
   "execution_count": 11,
   "metadata": {},
   "outputs": [
    {
     "data": {},
     "metadata": {},
     "output_type": "display_data"
    },
    {
     "data": {
      "application/vnd.holoviews_exec.v0+json": "",
      "text/html": [
       "<div id='p1127'>\n",
       "  <div id=\"e71948e0-ccbf-4f08-bc1f-91c3cce2665a\" data-root-id=\"p1127\" style=\"display: contents;\"></div>\n",
       "</div>\n",
       "<script type=\"application/javascript\">(function(root) {\n",
       "  var docs_json = {\"493381e3-2a38-42c4-a4fd-22bed91ea650\":{\"version\":\"3.2.1\",\"title\":\"Bokeh Application\",\"roots\":[{\"type\":\"object\",\"name\":\"Row\",\"id\":\"p1127\",\"attributes\":{\"name\":\"Row00953\",\"tags\":[\"embedded\"],\"stylesheets\":[\"\\n:host(.pn-loading.pn-arc):before, .pn-loading.pn-arc:before {\\n  background-image: url(\\\"data:image/svg+xml;base64,PHN2ZyB4bWxucz0iaHR0cDovL3d3dy53My5vcmcvMjAwMC9zdmciIHN0eWxlPSJtYXJnaW46IGF1dG87IGJhY2tncm91bmQ6IG5vbmU7IGRpc3BsYXk6IGJsb2NrOyBzaGFwZS1yZW5kZXJpbmc6IGF1dG87IiB2aWV3Qm94PSIwIDAgMTAwIDEwMCIgcHJlc2VydmVBc3BlY3RSYXRpbz0ieE1pZFlNaWQiPiAgPGNpcmNsZSBjeD0iNTAiIGN5PSI1MCIgZmlsbD0ibm9uZSIgc3Ryb2tlPSIjYzNjM2MzIiBzdHJva2Utd2lkdGg9IjEwIiByPSIzNSIgc3Ryb2tlLWRhc2hhcnJheT0iMTY0LjkzMzYxNDMxMzQ2NDE1IDU2Ljk3Nzg3MTQzNzgyMTM4Ij4gICAgPGFuaW1hdGVUcmFuc2Zvcm0gYXR0cmlidXRlTmFtZT0idHJhbnNmb3JtIiB0eXBlPSJyb3RhdGUiIHJlcGVhdENvdW50PSJpbmRlZmluaXRlIiBkdXI9IjFzIiB2YWx1ZXM9IjAgNTAgNTA7MzYwIDUwIDUwIiBrZXlUaW1lcz0iMDsxIj48L2FuaW1hdGVUcmFuc2Zvcm0+ICA8L2NpcmNsZT48L3N2Zz4=\\\");\\n  background-size: auto calc(min(50%, 400px));\\n}\",{\"type\":\"object\",\"name\":\"ImportedStyleSheet\",\"id\":\"p1130\",\"attributes\":{\"url\":\"https://cdn.holoviz.org/panel/1.2.3/dist/css/loading.css\"}},{\"type\":\"object\",\"name\":\"ImportedStyleSheet\",\"id\":\"p1244\",\"attributes\":{\"url\":\"https://cdn.holoviz.org/panel/1.2.3/dist/css/listpanel.css\"}},{\"type\":\"object\",\"name\":\"ImportedStyleSheet\",\"id\":\"p1128\",\"attributes\":{\"url\":\"https://cdn.holoviz.org/panel/1.2.3/dist/bundled/theme/default.css\"}},{\"type\":\"object\",\"name\":\"ImportedStyleSheet\",\"id\":\"p1129\",\"attributes\":{\"url\":\"https://cdn.holoviz.org/panel/1.2.3/dist/bundled/theme/native.css\"}}],\"margin\":0,\"sizing_mode\":\"stretch_width\",\"align\":\"start\",\"children\":[{\"type\":\"object\",\"name\":\"Spacer\",\"id\":\"p1131\",\"attributes\":{\"name\":\"HSpacer00963\",\"stylesheets\":[\"\\n:host(.pn-loading.pn-arc):before, .pn-loading.pn-arc:before {\\n  background-image: url(\\\"data:image/svg+xml;base64,PHN2ZyB4bWxucz0iaHR0cDovL3d3dy53My5vcmcvMjAwMC9zdmciIHN0eWxlPSJtYXJnaW46IGF1dG87IGJhY2tncm91bmQ6IG5vbmU7IGRpc3BsYXk6IGJsb2NrOyBzaGFwZS1yZW5kZXJpbmc6IGF1dG87IiB2aWV3Qm94PSIwIDAgMTAwIDEwMCIgcHJlc2VydmVBc3BlY3RSYXRpbz0ieE1pZFlNaWQiPiAgPGNpcmNsZSBjeD0iNTAiIGN5PSI1MCIgZmlsbD0ibm9uZSIgc3Ryb2tlPSIjYzNjM2MzIiBzdHJva2Utd2lkdGg9IjEwIiByPSIzNSIgc3Ryb2tlLWRhc2hhcnJheT0iMTY0LjkzMzYxNDMxMzQ2NDE1IDU2Ljk3Nzg3MTQzNzgyMTM4Ij4gICAgPGFuaW1hdGVUcmFuc2Zvcm0gYXR0cmlidXRlTmFtZT0idHJhbnNmb3JtIiB0eXBlPSJyb3RhdGUiIHJlcGVhdENvdW50PSJpbmRlZmluaXRlIiBkdXI9IjFzIiB2YWx1ZXM9IjAgNTAgNTA7MzYwIDUwIDUwIiBrZXlUaW1lcz0iMDsxIj48L2FuaW1hdGVUcmFuc2Zvcm0+ICA8L2NpcmNsZT48L3N2Zz4=\\\");\\n  background-size: auto calc(min(50%, 400px));\\n}\",{\"id\":\"p1130\"},{\"id\":\"p1128\"},{\"id\":\"p1129\"}],\"margin\":0,\"sizing_mode\":\"stretch_width\",\"align\":\"start\"}},{\"type\":\"object\",\"name\":\"GridPlot\",\"id\":\"p1232\",\"attributes\":{\"rows\":null,\"cols\":null,\"toolbar\":{\"type\":\"object\",\"name\":\"Toolbar\",\"id\":\"p1240\",\"attributes\":{\"tools\":[{\"type\":\"object\",\"name\":\"ToolProxy\",\"id\":\"p1234\",\"attributes\":{\"tools\":[{\"type\":\"object\",\"name\":\"WheelZoomTool\",\"id\":\"p1137\",\"attributes\":{\"tags\":[\"hv_created\"],\"zoom_together\":\"none\"}},{\"type\":\"object\",\"name\":\"WheelZoomTool\",\"id\":\"p1184\",\"attributes\":{\"tags\":[\"hv_created\"],\"zoom_together\":\"none\"}}]}},{\"type\":\"object\",\"name\":\"ToolProxy\",\"id\":\"p1235\",\"attributes\":{\"tools\":[{\"type\":\"object\",\"name\":\"HoverTool\",\"id\":\"p1138\",\"attributes\":{\"tags\":[\"hv_created\"],\"renderers\":[{\"type\":\"object\",\"name\":\"GlyphRenderer\",\"id\":\"p1175\",\"attributes\":{\"data_source\":{\"type\":\"object\",\"name\":\"ColumnDataSource\",\"id\":\"p1166\",\"attributes\":{\"selected\":{\"type\":\"object\",\"name\":\"Selection\",\"id\":\"p1167\",\"attributes\":{\"indices\":[],\"line_indices\":[]}},\"selection_policy\":{\"type\":\"object\",\"name\":\"UnionRenderers\",\"id\":\"p1168\"},\"data\":{\"type\":\"map\",\"entries\":[[\"top\",{\"type\":\"ndarray\",\"array\":{\"type\":\"bytes\",\"data\":\"AgAAAAAAAAAAAAAAAAAAAAAAAAAAAAAAAAAAAAAAAAAAAAAABgAAAAQAAAACAAAAAAAAAAAAAAABAAAAAAAAAAAAAAAAAAAAAgAAAAAAAAAIAAAADgAAAAYAAAARAAAAAAAAAAAAAAAAAAAAAQAAAAEAAAAGAAAAEQAAAA0AAAASAAAAEAAAAAMAAAADAAAACwAAADAAAABqAAAA2gAAAAoBAAC3AAAAkQAAADkAAAAEAAAAdgAAAPgBAACDAgAA1Q4AABxBAACOJQAAtbAAAMIqAADqAgAA9AAAAOgAAAA9CwAAWFgAAKsoAADYTAAAF9AAAPHiAAB9agAAAAAAAAAAAAAlAQAAvwgAAL0BAAAAHgAAliEAAHwmAACJNgAADAEAAAAAAAAAAAAAAAAAAI0AAAB2DgAAtwAAANweAAB2EgAACwcAAAAAAAAAAAAAAAAAAAAAAAAAAAAAbgAAAD0GAACcAAAAYwgAAAAAAAAAAAAAAAAAAAAAAAAAAAAAAAAAAAAAAAAAAAAAgx8AAA==\"},\"shape\":[100],\"dtype\":\"int32\",\"order\":\"little\"}],[\"left\",{\"type\":\"ndarray\",\"array\":{\"type\":\"bytes\",\"data\":\"Qj7o2awqN8AJpMSu7fE1wNAJoYMuuTTAl299WG+AM8Be1VktsEcywCU7NgLxDjHA2UElrmOsL8BnDd5X5TotwPXYlgFnySrAg6RPq+hXKMARcAhVauYlwJ87wf7rdCPALgd6qG0DIcB4pWWk3iMdwJQ81/fhQBjAsNNIS+VdE8CY1XQ90fUMwNADWOTXLwPAEGR2Fr3T8r8A8Gd4swanPxDj/E0oRPQ/UEMbgA3oA0AYFTjZBq4NQHBzKhkAuhNAUNy4xfycGEA0RUdy+X8dQAzXag97MSFAgAuyZfmiI0DwP/m7dxQmQGR0QBL2hShA1KiHaHT3KkBI3c6+8mgtQLgRFhVx2i9AFKOutfclMUBOPdLgtl4yQIbX9Qt2lzNAwHEZNzXQNED4Cz1i9Ag2QDKmYI2zQTdAakCEuHJ6OECk2qfjMbM5QNx0yw7x6zpAFg/vObAkPEBOqRJlb109QIhDNpAulj5AwN1Zu+3OP0D9uz5z1oNAQBmJ0Ag2IEFANVZinpW8QUBSI/Qz9VhCQG7whclU9UJAi70XX7SRQ0Cniqn0Ey5EQMNXO4pzykRA4STNH9NmRUD98V61MgNGQBm/8EqSn0ZANYyC4PE7R0BTWRR2UdhHQG8mpguxdEhAi/M3oRARSUCnwMk2cK1JQMWNW8zPSUpA4VrtYS/mSkD9J3/3joJLQBn1EI3uHkxANcKiIk67TEBTjzS4rVdNQG9cxk0N9E1AiylY42yQTkCn9ul4zCxPQMXDew4syU9AcMgG0sUyUED+rs+c9YBQQIyVmGclz1BAHHxhMlUdUUCqYir9hGtRQDhJ88e0uVFAxi+8kuQHUkBUFoVdFFZSQOL8TShEpFJAcOMW83PyUkD+yd+9o0BTQIywqIjTjlNAHJdxUwPdU0CqfToeMytUQDhkA+lieVRAxkrMs5LHVEBUMZV+whVVQOIXXknyY1VAcP4mFCKyVUD+5O/eUQBWQI7LuKmBTlZAHLKBdLGcVkCqmEo/4epWQDh/EwoROVdAxmXc1ECHV0BUTKWfcNVXQOIybmqgI1hAcBk3NdBxWEA=\"},\"shape\":[100],\"dtype\":\"float64\",\"order\":\"little\"}],[\"right\",{\"type\":\"ndarray\",\"array\":{\"type\":\"bytes\",\"data\":\"CaTEru3xNcDQCaGDLrk0wJdvfVhvgDPAXtVZLbBHMsAlOzYC8Q4xwNlBJa5jrC/AZw3eV+U6LcD12JYBZ8kqwIOkT6voVyjAEXAIVWrmJcCfO8H+63QjwC4HeqhtAyHAeKVlpN4jHcCUPNf34UAYwLDTSEvlXRPAmNV0PdH1DMDQA1jk1y8DwBBkdha90/K/APBneLMGpz8Q4/xNKET0P1BDG4AN6ANAGBU42QauDUBwcyoZALoTQFDcuMX8nBhANEVHcvl/HUAM12oPezEhQIALsmX5oiNA8D/5u3cUJkBkdEAS9oUoQNSoh2h09ypASN3OvvJoLUC4ERYVcdovQBSjrrX3JTFATj3S4LZeMkCG1/ULdpczQMBxGTc10DRA+As9YvQINkAypmCNs0E3QGpAhLhyejhApNqn4zGzOUDcdMsO8es6QBYP7zmwJDxATqkSZW9dPUCIQzaQLpY+QMDdWbvtzj9A/bs+c9aDQEAZidAINiBBQDVWYp6VvEFAUiP0M/VYQkBu8IXJVPVCQIu9F1+0kUNAp4qp9BMuREDDVzuKc8pEQOEkzR/TZkVA/fFetTIDRkAZv/BKkp9GQDWMguDxO0dAU1kUdlHYR0BvJqYLsXRIQIvzN6EQEUlAp8DJNnCtSUDFjVvMz0lKQOFa7WEv5kpA/Sd/946CS0AZ9RCN7h5MQDXCoiJOu0xAU480uK1XTUBvXMZNDfRNQIspWONskE5Ap/bpeMwsT0DFw3sOLMlPQHDIBtLFMlBA/q7PnPWAUECMlZhnJc9QQBx8YTJVHVFAqmIq/YRrUUA4SfPHtLlRQMYvvJLkB1JAVBaFXRRWUkDi/E0oRKRSQHDjFvNz8lJA/snfvaNAU0CMsKiI045TQByXcVMD3VNAqn06HjMrVEA4ZAPpYnlUQMZKzLOSx1RAVDGVfsIVVUDiF15J8mNVQHD+JhQislVA/uTv3lEAVkCOy7ipgU5WQByygXSxnFZAqphKP+HqVkA4fxMKETlXQMZl3NRAh1dAVEyln3DVV0DiMm5qoCNYQHAZNzXQcVhAAAAAAADAWEA=\"},\"shape\":[100],\"dtype\":\"float64\",\"order\":\"little\"}],[\"x\",{\"type\":\"ndarray\",\"array\":{\"type\":\"bytes\",\"data\":\"JnFWRE2ONsDs1jIZjlU1wLQ8D+7OHDTAeqLrwg/kMsBCCMiXUKsxwAlupGyRcjDAoKcBg6RzLsAuc7osJgIswLw+c9ankCnASgosgCkfJ8DY1eQpq60kwGahndMsPCLA6tms+lyVH8AGcR5OYLIawCIIkKFjzxXAPp8B9WbsEMC0bOaQ1BIIwNg1k2+2mfy/kCSzeocb4r+QIsDpXfzkP9i0GachCv4/NKypLArLCED+PuPCgUgRQOCncW9+KxZAwhAAHHsOG0CmeY7Id/EfQEZxjjo6aiJAuKXVkLjbJEAq2hznNk0nQJwOZD21vilADkOrkzMwLECAd/LpsaEuQPjVHCCYiTBAMXBAS1fCMUBqCmR2FvsyQKOkh6HVMzRA3D6rzJRsNUAV2c73U6U2QE5z8iIT3jdAhw0WTtIWOUDApzl5kU86QPlBXaRQiDtAMtyAzw/BPEBrdqT6zvk9QKQQyCWOMj9AbtV1qKY1QECLogc+BtJAQKdvmdNlbkFAxDwracUKQkDgCb3+JKdCQPzWTpSEQ0NAGaTgKeTfQ0A1cXK/Q3xEQFI+BFWjGEVAbwuW6gK1RUCL2CeAYlFGQKeluRXC7UZAxHJLqyGKR0DhP91AgSZIQP0Mb9bgwkhAGdoAbEBfSUA2p5IBoPtJQFN0JJf/l0pAb0G2LF80S0CLDkjCvtBLQKfb2VcebUxAxKhr7X0JTUDhdf2C3aVNQP1Cjxg9Qk5AGRAhrpzeTkA23bJD/HpPQClVouytC1BAtztrt91ZUEBFIjSCDahQQNQI/Uw99lBAY+/FF21EUUDx1Y7inJJRQH+8V63M4FFADaMgePwuUkCbielCLH1SQClwsg1cy1JAt1Z72IsZU0BFPUSju2dTQNQjDW7rtVNAYwrWOBsEVEDx8J4DS1JUQH/XZ856oFRADb4wmaruVECbpPlj2jxVQCmLwi4Ki1VAt3GL+TnZVUBGWFTEaSdWQNU+HY+ZdVZAYyXmWcnDVkDxC68k+RFXQH/yd+8oYFdADdlAuliuV0CbvwmFiPxXQCmm0k+4SlhAuIybGuiYWEA=\"},\"shape\":[100],\"dtype\":\"float64\",\"order\":\"little\"}],[\"Frequency\",{\"type\":\"ndarray\",\"array\":{\"type\":\"bytes\",\"data\":\"AgAAAAAAAAAAAAAAAAAAAAAAAAAAAAAAAAAAAAAAAAAAAAAABgAAAAQAAAACAAAAAAAAAAAAAAABAAAAAAAAAAAAAAAAAAAAAgAAAAAAAAAIAAAADgAAAAYAAAARAAAAAAAAAAAAAAAAAAAAAQAAAAEAAAAGAAAAEQAAAA0AAAASAAAAEAAAAAMAAAADAAAACwAAADAAAABqAAAA2gAAAAoBAAC3AAAAkQAAADkAAAAEAAAAdgAAAPgBAACDAgAA1Q4AABxBAACOJQAAtbAAAMIqAADqAgAA9AAAAOgAAAA9CwAAWFgAAKsoAADYTAAAF9AAAPHiAAB9agAAAAAAAAAAAAAlAQAAvwgAAL0BAAAAHgAAliEAAHwmAACJNgAADAEAAAAAAAAAAAAAAAAAAI0AAAB2DgAAtwAAANweAAB2EgAACwcAAAAAAAAAAAAAAAAAAAAAAAAAAAAAbgAAAD0GAACcAAAAYwgAAAAAAAAAAAAAAAAAAAAAAAAAAAAAAAAAAAAAAAAAAAAAgx8AAA==\"},\"shape\":[100],\"dtype\":\"int32\",\"order\":\"little\"}]]}}},\"view\":{\"type\":\"object\",\"name\":\"CDSView\",\"id\":\"p1176\",\"attributes\":{\"filter\":{\"type\":\"object\",\"name\":\"AllIndices\",\"id\":\"p1177\"}}},\"glyph\":{\"type\":\"object\",\"name\":\"Quad\",\"id\":\"p1172\",\"attributes\":{\"tags\":[\"apply_ranges\"],\"left\":{\"type\":\"field\",\"field\":\"left\"},\"right\":{\"type\":\"field\",\"field\":\"right\"},\"bottom\":{\"type\":\"value\",\"value\":0},\"top\":{\"type\":\"field\",\"field\":\"top\"},\"line_alpha\":{\"type\":\"value\",\"value\":0.5},\"fill_color\":{\"type\":\"value\",\"value\":\"red\"},\"fill_alpha\":{\"type\":\"value\",\"value\":0.5},\"hatch_color\":{\"type\":\"value\",\"value\":\"red\"},\"hatch_alpha\":{\"type\":\"value\",\"value\":0.5}}},\"selection_glyph\":{\"type\":\"object\",\"name\":\"Quad\",\"id\":\"p1178\",\"attributes\":{\"tags\":[\"apply_ranges\"],\"left\":{\"type\":\"field\",\"field\":\"left\"},\"right\":{\"type\":\"field\",\"field\":\"right\"},\"bottom\":{\"type\":\"value\",\"value\":0},\"top\":{\"type\":\"field\",\"field\":\"top\"},\"line_color\":{\"type\":\"value\",\"value\":\"black\"},\"line_alpha\":{\"type\":\"value\",\"value\":0.5},\"line_width\":{\"type\":\"value\",\"value\":1},\"line_join\":{\"type\":\"value\",\"value\":\"bevel\"},\"line_cap\":{\"type\":\"value\",\"value\":\"butt\"},\"line_dash\":{\"type\":\"value\",\"value\":[]},\"line_dash_offset\":{\"type\":\"value\",\"value\":0},\"fill_color\":{\"type\":\"value\",\"value\":\"red\"},\"fill_alpha\":{\"type\":\"value\",\"value\":0.5},\"hatch_color\":{\"type\":\"value\",\"value\":\"red\"},\"hatch_alpha\":{\"type\":\"value\",\"value\":0.5},\"hatch_scale\":{\"type\":\"value\",\"value\":12.0},\"hatch_pattern\":{\"type\":\"value\",\"value\":null},\"hatch_weight\":{\"type\":\"value\",\"value\":1.0}}},\"nonselection_glyph\":{\"type\":\"object\",\"name\":\"Quad\",\"id\":\"p1173\",\"attributes\":{\"tags\":[\"apply_ranges\"],\"left\":{\"type\":\"field\",\"field\":\"left\"},\"right\":{\"type\":\"field\",\"field\":\"right\"},\"bottom\":{\"type\":\"value\",\"value\":0},\"top\":{\"type\":\"field\",\"field\":\"top\"},\"line_alpha\":{\"type\":\"value\",\"value\":0.5},\"fill_color\":{\"type\":\"value\",\"value\":\"red\"},\"fill_alpha\":{\"type\":\"value\",\"value\":0.5},\"hatch_color\":{\"type\":\"value\",\"value\":\"red\"},\"hatch_alpha\":{\"type\":\"value\",\"value\":0.1}}},\"muted_glyph\":{\"type\":\"object\",\"name\":\"Quad\",\"id\":\"p1174\",\"attributes\":{\"tags\":[\"apply_ranges\"],\"left\":{\"type\":\"field\",\"field\":\"left\"},\"right\":{\"type\":\"field\",\"field\":\"right\"},\"bottom\":{\"type\":\"value\",\"value\":0},\"top\":{\"type\":\"field\",\"field\":\"top\"},\"line_alpha\":{\"type\":\"value\",\"value\":0.2},\"fill_color\":{\"type\":\"value\",\"value\":\"red\"},\"fill_alpha\":{\"type\":\"value\",\"value\":0.2},\"hatch_color\":{\"type\":\"value\",\"value\":\"red\"},\"hatch_alpha\":{\"type\":\"value\",\"value\":0.2}}}}}],\"tooltips\":[[\"x\",\"@{x}\"],[\"Frequency\",\"@{Frequency}\"]]}},{\"type\":\"object\",\"name\":\"HoverTool\",\"id\":\"p1185\",\"attributes\":{\"tags\":[\"hv_created\"],\"renderers\":[{\"type\":\"object\",\"name\":\"GlyphRenderer\",\"id\":\"p1222\",\"attributes\":{\"data_source\":{\"type\":\"object\",\"name\":\"ColumnDataSource\",\"id\":\"p1213\",\"attributes\":{\"selected\":{\"type\":\"object\",\"name\":\"Selection\",\"id\":\"p1214\",\"attributes\":{\"indices\":[],\"line_indices\":[]}},\"selection_policy\":{\"type\":\"object\",\"name\":\"UnionRenderers\",\"id\":\"p1215\"},\"data\":{\"type\":\"map\",\"entries\":[[\"barcode_arrangement\",[\"unclassified\",\"barcode01\",\"barcode02\",\"barcode03\"]],[\"count\",{\"type\":\"ndarray\",\"array\":{\"type\":\"bytes\",\"data\":\"MzcCAGtkAQBdJwEAdbMAAA==\"},\"shape\":[4],\"dtype\":\"int32\",\"order\":\"little\"}]]}}},\"view\":{\"type\":\"object\",\"name\":\"CDSView\",\"id\":\"p1223\",\"attributes\":{\"filter\":{\"type\":\"object\",\"name\":\"AllIndices\",\"id\":\"p1224\"}}},\"glyph\":{\"type\":\"object\",\"name\":\"VBar\",\"id\":\"p1219\",\"attributes\":{\"tags\":[\"apply_ranges\"],\"x\":{\"type\":\"field\",\"field\":\"barcode_arrangement\"},\"width\":{\"type\":\"value\",\"value\":0.8},\"top\":{\"type\":\"field\",\"field\":\"count\"},\"line_alpha\":{\"type\":\"value\",\"value\":0.5},\"fill_color\":{\"type\":\"value\",\"value\":\"red\"},\"fill_alpha\":{\"type\":\"value\",\"value\":0.5},\"hatch_color\":{\"type\":\"value\",\"value\":\"red\"},\"hatch_alpha\":{\"type\":\"value\",\"value\":0.5}}},\"selection_glyph\":{\"type\":\"object\",\"name\":\"VBar\",\"id\":\"p1225\",\"attributes\":{\"tags\":[\"apply_ranges\"],\"x\":{\"type\":\"field\",\"field\":\"barcode_arrangement\"},\"width\":{\"type\":\"value\",\"value\":0.8},\"bottom\":{\"type\":\"value\",\"value\":0},\"top\":{\"type\":\"field\",\"field\":\"count\"},\"line_color\":{\"type\":\"value\",\"value\":\"black\"},\"line_alpha\":{\"type\":\"value\",\"value\":0.5},\"line_width\":{\"type\":\"value\",\"value\":1},\"line_join\":{\"type\":\"value\",\"value\":\"bevel\"},\"line_cap\":{\"type\":\"value\",\"value\":\"butt\"},\"line_dash\":{\"type\":\"value\",\"value\":[]},\"line_dash_offset\":{\"type\":\"value\",\"value\":0},\"fill_color\":{\"type\":\"value\",\"value\":\"red\"},\"fill_alpha\":{\"type\":\"value\",\"value\":0.5},\"hatch_color\":{\"type\":\"value\",\"value\":\"red\"},\"hatch_alpha\":{\"type\":\"value\",\"value\":0.5},\"hatch_scale\":{\"type\":\"value\",\"value\":12.0},\"hatch_pattern\":{\"type\":\"value\",\"value\":null},\"hatch_weight\":{\"type\":\"value\",\"value\":1.0}}},\"nonselection_glyph\":{\"type\":\"object\",\"name\":\"VBar\",\"id\":\"p1220\",\"attributes\":{\"tags\":[\"apply_ranges\"],\"x\":{\"type\":\"field\",\"field\":\"barcode_arrangement\"},\"width\":{\"type\":\"value\",\"value\":0.8},\"top\":{\"type\":\"field\",\"field\":\"count\"},\"line_alpha\":{\"type\":\"value\",\"value\":0.5},\"fill_color\":{\"type\":\"value\",\"value\":\"red\"},\"fill_alpha\":{\"type\":\"value\",\"value\":0.5},\"hatch_color\":{\"type\":\"value\",\"value\":\"red\"},\"hatch_alpha\":{\"type\":\"value\",\"value\":0.1}}},\"muted_glyph\":{\"type\":\"object\",\"name\":\"VBar\",\"id\":\"p1221\",\"attributes\":{\"tags\":[\"apply_ranges\"],\"x\":{\"type\":\"field\",\"field\":\"barcode_arrangement\"},\"width\":{\"type\":\"value\",\"value\":0.8},\"top\":{\"type\":\"field\",\"field\":\"count\"},\"line_alpha\":{\"type\":\"value\",\"value\":0.2},\"fill_color\":{\"type\":\"value\",\"value\":\"red\"},\"fill_alpha\":{\"type\":\"value\",\"value\":0.2},\"hatch_color\":{\"type\":\"value\",\"value\":\"red\"},\"hatch_alpha\":{\"type\":\"value\",\"value\":0.2}}}}}],\"tooltips\":[[\"barcode_arrangement\",\"@{barcode_arrangement}\"],[\"count\",\"@{count}\"]]}}]}},{\"type\":\"object\",\"name\":\"SaveTool\",\"id\":\"p1236\"},{\"type\":\"object\",\"name\":\"ToolProxy\",\"id\":\"p1237\",\"attributes\":{\"tools\":[{\"type\":\"object\",\"name\":\"PanTool\",\"id\":\"p1162\"},{\"type\":\"object\",\"name\":\"PanTool\",\"id\":\"p1209\"}]}},{\"type\":\"object\",\"name\":\"ToolProxy\",\"id\":\"p1238\",\"attributes\":{\"tools\":[{\"type\":\"object\",\"name\":\"BoxZoomTool\",\"id\":\"p1163\",\"attributes\":{\"overlay\":{\"type\":\"object\",\"name\":\"BoxAnnotation\",\"id\":\"p1164\",\"attributes\":{\"syncable\":false,\"level\":\"overlay\",\"visible\":false,\"left_units\":\"canvas\",\"right_units\":\"canvas\",\"bottom_units\":\"canvas\",\"top_units\":\"canvas\",\"line_color\":\"black\",\"line_alpha\":1.0,\"line_width\":2,\"line_dash\":[4,4],\"fill_color\":\"lightgrey\",\"fill_alpha\":0.5}}}},{\"type\":\"object\",\"name\":\"BoxZoomTool\",\"id\":\"p1210\",\"attributes\":{\"overlay\":{\"type\":\"object\",\"name\":\"BoxAnnotation\",\"id\":\"p1211\",\"attributes\":{\"syncable\":false,\"level\":\"overlay\",\"visible\":false,\"left_units\":\"canvas\",\"right_units\":\"canvas\",\"bottom_units\":\"canvas\",\"top_units\":\"canvas\",\"line_color\":\"black\",\"line_alpha\":1.0,\"line_width\":2,\"line_dash\":[4,4],\"fill_color\":\"lightgrey\",\"fill_alpha\":0.5}}}}]}},{\"type\":\"object\",\"name\":\"ToolProxy\",\"id\":\"p1239\",\"attributes\":{\"tools\":[{\"type\":\"object\",\"name\":\"ResetTool\",\"id\":\"p1165\"},{\"type\":\"object\",\"name\":\"ResetTool\",\"id\":\"p1212\"}]}}]}},\"children\":[[{\"type\":\"object\",\"name\":\"Figure\",\"id\":\"p1139\",\"attributes\":{\"height\":400,\"sizing_mode\":\"fixed\",\"align\":\"start\",\"x_range\":{\"type\":\"object\",\"name\":\"Range1d\",\"id\":\"p1132\",\"attributes\":{\"tags\":[[[\"x\",\"x\",null]],[]],\"start\":-31.311146666666666,\"end\":107.14444666666667,\"reset_start\":-31.311146666666666,\"reset_end\":107.14444666666667}},\"y_range\":{\"type\":\"object\",\"name\":\"Range1d\",\"id\":\"p1133\",\"attributes\":{\"tags\":[[[\"Frequency\",\"Frequency\",null]],{\"type\":\"map\",\"entries\":[[\"invert_yaxis\",false],[\"autorange\",false]]}],\"end\":63906.7,\"reset_start\":0.0,\"reset_end\":63906.7}},\"x_scale\":{\"type\":\"object\",\"name\":\"LinearScale\",\"id\":\"p1149\"},\"y_scale\":{\"type\":\"object\",\"name\":\"LinearScale\",\"id\":\"p1150\"},\"title\":{\"type\":\"object\",\"name\":\"Title\",\"id\":\"p1142\",\"attributes\":{\"text\":\"Barcode Score Distribution\",\"text_color\":\"black\",\"text_font_size\":\"12pt\"}},\"renderers\":[{\"id\":\"p1175\"}],\"toolbar\":{\"type\":\"object\",\"name\":\"Toolbar\",\"id\":\"p1148\",\"attributes\":{\"tools\":[{\"id\":\"p1137\"},{\"id\":\"p1138\"},{\"type\":\"object\",\"name\":\"SaveTool\",\"id\":\"p1161\"},{\"id\":\"p1162\"},{\"id\":\"p1163\"},{\"id\":\"p1165\"}],\"active_drag\":{\"id\":\"p1162\"},\"active_scroll\":{\"id\":\"p1137\"}}},\"toolbar_location\":null,\"left\":[{\"type\":\"object\",\"name\":\"LinearAxis\",\"id\":\"p1156\",\"attributes\":{\"ticker\":{\"type\":\"object\",\"name\":\"BasicTicker\",\"id\":\"p1157\",\"attributes\":{\"mantissas\":[1,2,5]}},\"formatter\":{\"type\":\"object\",\"name\":\"BasicTickFormatter\",\"id\":\"p1158\"},\"axis_label\":\"Frequency\",\"major_label_policy\":{\"type\":\"object\",\"name\":\"AllLabels\",\"id\":\"p1159\"}}}],\"below\":[{\"type\":\"object\",\"name\":\"LinearAxis\",\"id\":\"p1151\",\"attributes\":{\"ticker\":{\"type\":\"object\",\"name\":\"BasicTicker\",\"id\":\"p1152\",\"attributes\":{\"mantissas\":[1,2,5]}},\"formatter\":{\"type\":\"object\",\"name\":\"BasicTickFormatter\",\"id\":\"p1153\"},\"axis_label\":\"Barcode Score\",\"major_label_policy\":{\"type\":\"object\",\"name\":\"AllLabels\",\"id\":\"p1154\"}}}],\"center\":[{\"type\":\"object\",\"name\":\"Grid\",\"id\":\"p1155\",\"attributes\":{\"axis\":{\"id\":\"p1151\"},\"grid_line_color\":null}},{\"type\":\"object\",\"name\":\"Grid\",\"id\":\"p1160\",\"attributes\":{\"dimension\":1,\"axis\":{\"id\":\"p1156\"},\"grid_line_color\":null}}],\"min_border_top\":10,\"min_border_bottom\":10,\"min_border_left\":10,\"min_border_right\":10,\"output_backend\":\"webgl\"}},0,0],[{\"type\":\"object\",\"name\":\"Figure\",\"id\":\"p1186\",\"attributes\":{\"height\":400,\"sizing_mode\":\"fixed\",\"align\":\"start\",\"x_range\":{\"type\":\"object\",\"name\":\"FactorRange\",\"id\":\"p1179\",\"attributes\":{\"tags\":[[[\"barcode_arrangement\",\"barcode_arrangement\",null]],[]],\"factors\":[\"unclassified\",\"barcode01\",\"barcode02\",\"barcode03\"]}},\"y_range\":{\"type\":\"object\",\"name\":\"Range1d\",\"id\":\"p1180\",\"attributes\":{\"tags\":[[[\"count\",\"count\",null]],{\"type\":\"map\",\"entries\":[[\"invert_yaxis\",false],[\"autorange\",false]]}],\"end\":155129.2,\"reset_start\":0.0,\"reset_end\":155129.2}},\"x_scale\":{\"type\":\"object\",\"name\":\"CategoricalScale\",\"id\":\"p1196\"},\"y_scale\":{\"type\":\"object\",\"name\":\"LinearScale\",\"id\":\"p1197\"},\"title\":{\"type\":\"object\",\"name\":\"Title\",\"id\":\"p1189\",\"attributes\":{\"text\":\"Barcode Frequency\",\"text_color\":\"black\",\"text_font_size\":\"12pt\"}},\"renderers\":[{\"id\":\"p1222\"}],\"toolbar\":{\"type\":\"object\",\"name\":\"Toolbar\",\"id\":\"p1195\",\"attributes\":{\"tools\":[{\"id\":\"p1184\"},{\"id\":\"p1185\"},{\"type\":\"object\",\"name\":\"SaveTool\",\"id\":\"p1208\"},{\"id\":\"p1209\"},{\"id\":\"p1210\"},{\"id\":\"p1212\"}],\"active_drag\":{\"id\":\"p1209\"},\"active_scroll\":{\"id\":\"p1184\"}}},\"toolbar_location\":null,\"left\":[{\"type\":\"object\",\"name\":\"LinearAxis\",\"id\":\"p1203\",\"attributes\":{\"ticker\":{\"type\":\"object\",\"name\":\"BasicTicker\",\"id\":\"p1204\",\"attributes\":{\"mantissas\":[1,2,5]}},\"formatter\":{\"type\":\"object\",\"name\":\"BasicTickFormatter\",\"id\":\"p1205\"},\"axis_label\":\"Frequency\",\"major_label_policy\":{\"type\":\"object\",\"name\":\"AllLabels\",\"id\":\"p1206\"}}}],\"below\":[{\"type\":\"object\",\"name\":\"CategoricalAxis\",\"id\":\"p1198\",\"attributes\":{\"ticker\":{\"type\":\"object\",\"name\":\"CategoricalTicker\",\"id\":\"p1199\"},\"formatter\":{\"type\":\"object\",\"name\":\"CategoricalTickFormatter\",\"id\":\"p1200\"},\"axis_label\":\"Barcode ID\",\"major_label_policy\":{\"type\":\"object\",\"name\":\"AllLabels\",\"id\":\"p1201\"}}}],\"center\":[{\"type\":\"object\",\"name\":\"Grid\",\"id\":\"p1202\",\"attributes\":{\"axis\":{\"id\":\"p1198\"},\"grid_line_color\":null}},{\"type\":\"object\",\"name\":\"Grid\",\"id\":\"p1207\",\"attributes\":{\"dimension\":1,\"axis\":{\"id\":\"p1203\"},\"grid_line_color\":null}}],\"min_border_top\":10,\"min_border_bottom\":10,\"min_border_left\":10,\"min_border_right\":10,\"output_backend\":\"webgl\"}},0,1]]}},{\"type\":\"object\",\"name\":\"Spacer\",\"id\":\"p1242\",\"attributes\":{\"name\":\"HSpacer00966\",\"stylesheets\":[\"\\n:host(.pn-loading.pn-arc):before, .pn-loading.pn-arc:before {\\n  background-image: url(\\\"data:image/svg+xml;base64,PHN2ZyB4bWxucz0iaHR0cDovL3d3dy53My5vcmcvMjAwMC9zdmciIHN0eWxlPSJtYXJnaW46IGF1dG87IGJhY2tncm91bmQ6IG5vbmU7IGRpc3BsYXk6IGJsb2NrOyBzaGFwZS1yZW5kZXJpbmc6IGF1dG87IiB2aWV3Qm94PSIwIDAgMTAwIDEwMCIgcHJlc2VydmVBc3BlY3RSYXRpbz0ieE1pZFlNaWQiPiAgPGNpcmNsZSBjeD0iNTAiIGN5PSI1MCIgZmlsbD0ibm9uZSIgc3Ryb2tlPSIjYzNjM2MzIiBzdHJva2Utd2lkdGg9IjEwIiByPSIzNSIgc3Ryb2tlLWRhc2hhcnJheT0iMTY0LjkzMzYxNDMxMzQ2NDE1IDU2Ljk3Nzg3MTQzNzgyMTM4Ij4gICAgPGFuaW1hdGVUcmFuc2Zvcm0gYXR0cmlidXRlTmFtZT0idHJhbnNmb3JtIiB0eXBlPSJyb3RhdGUiIHJlcGVhdENvdW50PSJpbmRlZmluaXRlIiBkdXI9IjFzIiB2YWx1ZXM9IjAgNTAgNTA7MzYwIDUwIDUwIiBrZXlUaW1lcz0iMDsxIj48L2FuaW1hdGVUcmFuc2Zvcm0+ICA8L2NpcmNsZT48L3N2Zz4=\\\");\\n  background-size: auto calc(min(50%, 400px));\\n}\",{\"id\":\"p1130\"},{\"id\":\"p1128\"},{\"id\":\"p1129\"}],\"margin\":0,\"sizing_mode\":\"stretch_width\",\"align\":\"start\"}}]}}],\"defs\":[{\"type\":\"model\",\"name\":\"ReactiveHTML1\"},{\"type\":\"model\",\"name\":\"FlexBox1\",\"properties\":[{\"name\":\"align_content\",\"kind\":\"Any\",\"default\":\"flex-start\"},{\"name\":\"align_items\",\"kind\":\"Any\",\"default\":\"flex-start\"},{\"name\":\"flex_direction\",\"kind\":\"Any\",\"default\":\"row\"},{\"name\":\"flex_wrap\",\"kind\":\"Any\",\"default\":\"wrap\"},{\"name\":\"justify_content\",\"kind\":\"Any\",\"default\":\"flex-start\"}]},{\"type\":\"model\",\"name\":\"FloatPanel1\",\"properties\":[{\"name\":\"config\",\"kind\":\"Any\",\"default\":{\"type\":\"map\"}},{\"name\":\"contained\",\"kind\":\"Any\",\"default\":true},{\"name\":\"position\",\"kind\":\"Any\",\"default\":\"right-top\"},{\"name\":\"offsetx\",\"kind\":\"Any\",\"default\":null},{\"name\":\"offsety\",\"kind\":\"Any\",\"default\":null},{\"name\":\"theme\",\"kind\":\"Any\",\"default\":\"primary\"},{\"name\":\"status\",\"kind\":\"Any\",\"default\":\"normalized\"}]},{\"type\":\"model\",\"name\":\"GridStack1\",\"properties\":[{\"name\":\"mode\",\"kind\":\"Any\",\"default\":\"warn\"},{\"name\":\"ncols\",\"kind\":\"Any\",\"default\":null},{\"name\":\"nrows\",\"kind\":\"Any\",\"default\":null},{\"name\":\"allow_resize\",\"kind\":\"Any\",\"default\":true},{\"name\":\"allow_drag\",\"kind\":\"Any\",\"default\":true},{\"name\":\"state\",\"kind\":\"Any\",\"default\":[]}]},{\"type\":\"model\",\"name\":\"drag1\",\"properties\":[{\"name\":\"slider_width\",\"kind\":\"Any\",\"default\":5},{\"name\":\"slider_color\",\"kind\":\"Any\",\"default\":\"black\"},{\"name\":\"value\",\"kind\":\"Any\",\"default\":50}]},{\"type\":\"model\",\"name\":\"click1\",\"properties\":[{\"name\":\"terminal_output\",\"kind\":\"Any\",\"default\":\"\"},{\"name\":\"debug_name\",\"kind\":\"Any\",\"default\":\"\"},{\"name\":\"clears\",\"kind\":\"Any\",\"default\":0}]},{\"type\":\"model\",\"name\":\"FastWrapper1\",\"properties\":[{\"name\":\"object\",\"kind\":\"Any\",\"default\":null},{\"name\":\"style\",\"kind\":\"Any\",\"default\":null}]},{\"type\":\"model\",\"name\":\"NotificationAreaBase1\",\"properties\":[{\"name\":\"js_events\",\"kind\":\"Any\",\"default\":{\"type\":\"map\"}},{\"name\":\"position\",\"kind\":\"Any\",\"default\":\"bottom-right\"},{\"name\":\"_clear\",\"kind\":\"Any\",\"default\":0}]},{\"type\":\"model\",\"name\":\"NotificationArea1\",\"properties\":[{\"name\":\"js_events\",\"kind\":\"Any\",\"default\":{\"type\":\"map\"}},{\"name\":\"notifications\",\"kind\":\"Any\",\"default\":[]},{\"name\":\"position\",\"kind\":\"Any\",\"default\":\"bottom-right\"},{\"name\":\"_clear\",\"kind\":\"Any\",\"default\":0},{\"name\":\"types\",\"kind\":\"Any\",\"default\":[{\"type\":\"map\",\"entries\":[[\"type\",\"warning\"],[\"background\",\"#ffc107\"],[\"icon\",{\"type\":\"map\",\"entries\":[[\"className\",\"fas fa-exclamation-triangle\"],[\"tagName\",\"i\"],[\"color\",\"white\"]]}]]},{\"type\":\"map\",\"entries\":[[\"type\",\"info\"],[\"background\",\"#007bff\"],[\"icon\",{\"type\":\"map\",\"entries\":[[\"className\",\"fas fa-info-circle\"],[\"tagName\",\"i\"],[\"color\",\"white\"]]}]]}]}]},{\"type\":\"model\",\"name\":\"Notification\",\"properties\":[{\"name\":\"background\",\"kind\":\"Any\",\"default\":null},{\"name\":\"duration\",\"kind\":\"Any\",\"default\":3000},{\"name\":\"icon\",\"kind\":\"Any\",\"default\":null},{\"name\":\"message\",\"kind\":\"Any\",\"default\":\"\"},{\"name\":\"notification_type\",\"kind\":\"Any\",\"default\":null},{\"name\":\"_destroyed\",\"kind\":\"Any\",\"default\":false}]},{\"type\":\"model\",\"name\":\"TemplateActions1\",\"properties\":[{\"name\":\"open_modal\",\"kind\":\"Any\",\"default\":0},{\"name\":\"close_modal\",\"kind\":\"Any\",\"default\":0}]},{\"type\":\"model\",\"name\":\"BootstrapTemplateActions1\",\"properties\":[{\"name\":\"open_modal\",\"kind\":\"Any\",\"default\":0},{\"name\":\"close_modal\",\"kind\":\"Any\",\"default\":0}]},{\"type\":\"model\",\"name\":\"MaterialTemplateActions1\",\"properties\":[{\"name\":\"open_modal\",\"kind\":\"Any\",\"default\":0},{\"name\":\"close_modal\",\"kind\":\"Any\",\"default\":0}]}]}};\n",
       "  var render_items = [{\"docid\":\"493381e3-2a38-42c4-a4fd-22bed91ea650\",\"roots\":{\"p1127\":\"e71948e0-ccbf-4f08-bc1f-91c3cce2665a\"},\"root_ids\":[\"p1127\"]}];\n",
       "  var docs = Object.values(docs_json)\n",
       "  if (!docs) {\n",
       "    return\n",
       "  }\n",
       "  const py_version = docs[0].version.replace('rc', '-rc.').replace('.dev', '-dev.')\n",
       "  const is_dev = py_version.indexOf(\"+\") !== -1 || py_version.indexOf(\"-\") !== -1\n",
       "  function embed_document(root) {\n",
       "    var Bokeh = get_bokeh(root)\n",
       "    Bokeh.embed.embed_items_notebook(docs_json, render_items);\n",
       "    for (const render_item of render_items) {\n",
       "      for (const root_id of render_item.root_ids) {\n",
       "\tconst id_el = document.getElementById(root_id)\n",
       "\tif (id_el.children.length && (id_el.children[0].className === 'bk-root')) {\n",
       "\t  const root_el = id_el.children[0]\n",
       "\t  root_el.id = root_el.id + '-rendered'\n",
       "\t}\n",
       "      }\n",
       "    }\n",
       "  }\n",
       "  function get_bokeh(root) {\n",
       "    if (root.Bokeh === undefined) {\n",
       "      return null\n",
       "    } else if (root.Bokeh.version !== py_version && !is_dev) {\n",
       "      if (root.Bokeh.versions === undefined || !root.Bokeh.versions.has(py_version)) {\n",
       "\treturn null\n",
       "      }\n",
       "      return root.Bokeh.versions.get(py_version);\n",
       "    } else if (root.Bokeh.version === py_version) {\n",
       "      return root.Bokeh\n",
       "    }\n",
       "    return null\n",
       "  }\n",
       "  function is_loaded(root) {\n",
       "    var Bokeh = get_bokeh(root)\n",
       "    return (Bokeh != null && Bokeh.Panel !== undefined)\n",
       "  }\n",
       "  if (is_loaded(root)) {\n",
       "    embed_document(root);\n",
       "  } else {\n",
       "    var attempts = 0;\n",
       "    var timer = setInterval(function(root) {\n",
       "      if (is_loaded(root)) {\n",
       "        clearInterval(timer);\n",
       "        embed_document(root);\n",
       "      } else if (document.readyState == \"complete\") {\n",
       "        attempts++;\n",
       "        if (attempts > 200) {\n",
       "          clearInterval(timer);\n",
       "\t  var Bokeh = get_bokeh(root)\n",
       "\t  if (Bokeh == null || Bokeh.Panel == null) {\n",
       "            console.warn(\"Panel: ERROR: Unable to run Panel code because Bokeh or Panel library is missing\");\n",
       "\t  } else {\n",
       "\t    console.warn(\"Panel: WARNING: Attempting to render but not all required libraries could be resolved.\")\n",
       "\t    embed_document(root)\n",
       "\t  }\n",
       "        }\n",
       "      }\n",
       "    }, 25, root)\n",
       "  }\n",
       "})(window);</script>"
      ],
      "text/plain": [
       ":Layout\n",
       "   .Histogram.Barcode_Score_Distribution :Histogram   [x]   (Frequency)\n",
       "   .Bars.Barcode_Frequency               :Bars   [barcode_arrangement]   (count)"
      ]
     },
     "execution_count": 11,
     "metadata": {
      "application/vnd.holoviews_exec.v0+json": {
       "id": "p1127"
      }
     },
     "output_type": "execute_result"
    }
   ],
   "source": [
    "\n",
    "barcode_score_plot = barcode_score(overall_summary)\n",
    "barcode_barplot_plot = barcode_barplot(overall_summary)\n",
    "\n",
    "# Display plots side-by-side\n",
    "combined_plot = (barcode_score_plot + barcode_barplot_plot).cols(2)\n",
    "combined_plot"
   ]
  },
  {
   "cell_type": "code",
   "execution_count": 7,
   "metadata": {},
   "outputs": [
    {
     "ename": "NameError",
     "evalue": "name 'hv' is not defined",
     "output_type": "error",
     "traceback": [
      "\u001b[0;31m---------------------------------------------------------------------------\u001b[0m",
      "\u001b[0;31mNameError\u001b[0m                                 Traceback (most recent call last)",
      "\u001b[1;32m/home/emre/github_repo/MinION/examples/summary_inspector.ipynb Cell 6\u001b[0m line \u001b[0;36m6\n\u001b[1;32m      <a href='vscode-notebook-cell://ssh-remote%2B131.215.228.108/home/emre/github_repo/MinION/examples/summary_inspector.ipynb#W6sdnNjb2RlLXJlbW90ZQ%3D%3D?line=3'>4</a>\u001b[0m summary \u001b[39m=\u001b[39m pd\u001b[39m.\u001b[39mread_csv(path, sep\u001b[39m=\u001b[39m\u001b[39m\"\u001b[39m\u001b[39m\\t\u001b[39;00m\u001b[39m\"\u001b[39m)\n\u001b[1;32m      <a href='vscode-notebook-cell://ssh-remote%2B131.215.228.108/home/emre/github_repo/MinION/examples/summary_inspector.ipynb#W6sdnNjb2RlLXJlbW90ZQ%3D%3D?line=4'>5</a>\u001b[0m summary \u001b[39m=\u001b[39m summary[summary[\u001b[39m\"\u001b[39m\u001b[39mbarcode_arrangement\u001b[39m\u001b[39m\"\u001b[39m] \u001b[39m!=\u001b[39m \u001b[39m\"\u001b[39m\u001b[39munclassified\u001b[39m\u001b[39m\"\u001b[39m]\n\u001b[0;32m----> <a href='vscode-notebook-cell://ssh-remote%2B131.215.228.108/home/emre/github_repo/MinION/examples/summary_inspector.ipynb#W6sdnNjb2RlLXJlbW90ZQ%3D%3D?line=5'>6</a>\u001b[0m barcode_score_plot \u001b[39m=\u001b[39m barcode_score(summary)\n\u001b[1;32m      <a href='vscode-notebook-cell://ssh-remote%2B131.215.228.108/home/emre/github_repo/MinION/examples/summary_inspector.ipynb#W6sdnNjb2RlLXJlbW90ZQ%3D%3D?line=6'>7</a>\u001b[0m barcode_barplot_plot \u001b[39m=\u001b[39m barcode_barplot(summary)\n\u001b[1;32m      <a href='vscode-notebook-cell://ssh-remote%2B131.215.228.108/home/emre/github_repo/MinION/examples/summary_inspector.ipynb#W6sdnNjb2RlLXJlbW90ZQ%3D%3D?line=7'>8</a>\u001b[0m \u001b[39m# Display plots side-by-side\u001b[39;00m\n",
      "\u001b[1;32m/home/emre/github_repo/MinION/examples/summary_inspector.ipynb Cell 6\u001b[0m line \u001b[0;36m3\n\u001b[1;32m      <a href='vscode-notebook-cell://ssh-remote%2B131.215.228.108/home/emre/github_repo/MinION/examples/summary_inspector.ipynb#W6sdnNjb2RlLXJlbW90ZQ%3D%3D?line=0'>1</a>\u001b[0m \u001b[39mdef\u001b[39;00m \u001b[39mbarcode_score\u001b[39m(summary):\n\u001b[1;32m      <a href='vscode-notebook-cell://ssh-remote%2B131.215.228.108/home/emre/github_repo/MinION/examples/summary_inspector.ipynb#W6sdnNjb2RlLXJlbW90ZQ%3D%3D?line=1'>2</a>\u001b[0m     frequencies, edges \u001b[39m=\u001b[39m np\u001b[39m.\u001b[39mhistogram(summary[\u001b[39m\"\u001b[39m\u001b[39mbarcode_score\u001b[39m\u001b[39m\"\u001b[39m], bins\u001b[39m=\u001b[39m\u001b[39m100\u001b[39m)\n\u001b[0;32m----> <a href='vscode-notebook-cell://ssh-remote%2B131.215.228.108/home/emre/github_repo/MinION/examples/summary_inspector.ipynb#W6sdnNjb2RlLXJlbW90ZQ%3D%3D?line=2'>3</a>\u001b[0m     \u001b[39mreturn\u001b[39;00m hv\u001b[39m.\u001b[39mHistogram((edges, frequencies), label\u001b[39m=\u001b[39m\u001b[39m\"\u001b[39m\u001b[39mBarcode Score Distribution\u001b[39m\u001b[39m\"\u001b[39m)\u001b[39m.\u001b[39mopts(\n\u001b[1;32m      <a href='vscode-notebook-cell://ssh-remote%2B131.215.228.108/home/emre/github_repo/MinION/examples/summary_inspector.ipynb#W6sdnNjb2RlLXJlbW90ZQ%3D%3D?line=3'>4</a>\u001b[0m         opts\u001b[39m.\u001b[39mHistogram(color\u001b[39m=\u001b[39m\u001b[39m\"\u001b[39m\u001b[39mred\u001b[39m\u001b[39m\"\u001b[39m, line_color\u001b[39m=\u001b[39m\u001b[39m\"\u001b[39m\u001b[39mblack\u001b[39m\u001b[39m\"\u001b[39m, alpha\u001b[39m=\u001b[39m\u001b[39m0.5\u001b[39m, width\u001b[39m=\u001b[39m\u001b[39m600\u001b[39m, height\u001b[39m=\u001b[39m\u001b[39m400\u001b[39m, tools\u001b[39m=\u001b[39m[\u001b[39m'\u001b[39m\u001b[39mhover\u001b[39m\u001b[39m'\u001b[39m], xlabel\u001b[39m=\u001b[39m\u001b[39m\"\u001b[39m\u001b[39mBarcode Score\u001b[39m\u001b[39m\"\u001b[39m, ylabel\u001b[39m=\u001b[39m\u001b[39m\"\u001b[39m\u001b[39mFrequency\u001b[39m\u001b[39m\"\u001b[39m))\n",
      "\u001b[0;31mNameError\u001b[0m: name 'hv' is not defined"
     ]
    }
   ],
   "source": [
    "# Front Barcode 1\n",
    "result_folder = \"/home/emre/minION_results\"\n",
    "path = os.path.join(result_folder, experiment_folder, \"demultiplex\", \"barcode01\", \"barcoding_summary.txt\")\n",
    "summary = pd.read_csv(path, sep=\"\\t\")\n",
    "summary = summary[summary[\"barcode_arrangement\"] != \"unclassified\"]\n",
    "barcode_score_plot = barcode_score(summary)\n",
    "barcode_barplot_plot = barcode_barplot(summary)\n",
    "# Display plots side-by-side\n",
    "combined_plot = (barcode_score_plot + barcode_barplot_plot).cols(2)\n",
    "combined_plot"
   ]
  },
  {
   "cell_type": "code",
   "execution_count": null,
   "metadata": {},
   "outputs": [],
   "source": [
    "# Front Barcode 1\n",
    "result_folder = \"/home/emre/minION_results\"\n",
    "path = os.path.join(result_folder, experiment_folder, \"demultiplex\", \"barcode02\", \"barcoding_summary.txt\")\n",
    "summary = pd.read_csv(path, sep=\"\\t\")\n",
    "summary = summary[summary[\"barcode_arrangement\"] != \"unclassified\"]\n",
    "barcode_score_plot = barcode_score(summary)\n",
    "barcode_barplot_plot = barcode_barplot(summary)\n",
    "# Display plots side-by-side\n",
    "combined_plot = (barcode_score_plot + barcode_barplot_plot).cols(2)\n",
    "combined_plot"
   ]
  },
  {
   "cell_type": "code",
   "execution_count": null,
   "metadata": {},
   "outputs": [],
   "source": [
    "# Front Barcode 1\n",
    "result_folder = \"/home/emre/minION_results\"\n",
    "path = os.path.join(result_folder, experiment_folder, \"demultiplex\", \"barcode03\", \"barcoding_summary.txt\")\n",
    "summary = pd.read_csv(path, sep=\"\\t\")\n",
    "summary = summary[summary[\"barcode_arrangement\"] != \"unclassified\"]\n",
    "barcode_score_plot = barcode_score(summary)\n",
    "barcode_barplot_plot = barcode_barplot(summary)\n",
    "# Display plots side-by-side\n",
    "combined_plot = (barcode_score_plot + barcode_barplot_plot).cols(2)\n",
    "combined_plot"
   ]
  },
  {
   "cell_type": "code",
   "execution_count": 3,
   "metadata": {},
   "outputs": [],
   "source": [
    "import sys\n",
    "sys.path.append(\"/home/emre/github_repo/MinION\")\n",
    "from minION.util.IO_processor import get_barcode_dict\n",
    "from minION.analyse import translate, call_variant, convert_ascii_to_phred, get_template_sequence, get_consensus_sequence, align_sequences, swap_NN, mean_quality_score, get_AA_sequence"
   ]
  },
  {
   "cell_type": "code",
   "execution_count": 4,
   "metadata": {},
   "outputs": [
    {
     "name": "stdout",
     "output_type": "stream",
     "text": [
      "Reverse Barcdoes: ['/home/emre/minION_results/202309_errorprone_3_rtrimmed_f24/demultiplex/barcode03', '/home/emre/minION_results/202309_errorprone_3_rtrimmed_f24/demultiplex/barcode02', '/home/emre/minION_results/202309_errorprone_3_rtrimmed_f24/demultiplex/barcode01']\n",
      "{'/home/emre/minION_results/202309_errorprone_3_rtrimmed_f24/demultiplex/barcode03': ['/home/emre/minION_results/202309_errorprone_3_rtrimmed_f24/demultiplex/barcode03/barcode28', '/home/emre/minION_results/202309_errorprone_3_rtrimmed_f24/demultiplex/barcode03/barcode49', '/home/emre/minION_results/202309_errorprone_3_rtrimmed_f24/demultiplex/barcode03/barcode76', '/home/emre/minION_results/202309_errorprone_3_rtrimmed_f24/demultiplex/barcode03/barcode37', '/home/emre/minION_results/202309_errorprone_3_rtrimmed_f24/demultiplex/barcode03/barcode33', '/home/emre/minION_results/202309_errorprone_3_rtrimmed_f24/demultiplex/barcode03/barcode35', '/home/emre/minION_results/202309_errorprone_3_rtrimmed_f24/demultiplex/barcode03/barcode66', '/home/emre/minION_results/202309_errorprone_3_rtrimmed_f24/demultiplex/barcode03/barcode47', '/home/emre/minION_results/202309_errorprone_3_rtrimmed_f24/demultiplex/barcode03/barcode29', '/home/emre/minION_results/202309_errorprone_3_rtrimmed_f24/demultiplex/barcode03/barcode53', '/home/emre/minION_results/202309_errorprone_3_rtrimmed_f24/demultiplex/barcode03/barcode18', '/home/emre/minION_results/202309_errorprone_3_rtrimmed_f24/demultiplex/barcode03/barcode68', '/home/emre/minION_results/202309_errorprone_3_rtrimmed_f24/demultiplex/barcode03/barcode14', '/home/emre/minION_results/202309_errorprone_3_rtrimmed_f24/demultiplex/barcode03/barcode05', '/home/emre/minION_results/202309_errorprone_3_rtrimmed_f24/demultiplex/barcode03/barcode04', '/home/emre/minION_results/202309_errorprone_3_rtrimmed_f24/demultiplex/barcode03/barcode19', '/home/emre/minION_results/202309_errorprone_3_rtrimmed_f24/demultiplex/barcode03/barcode85', '/home/emre/minION_results/202309_errorprone_3_rtrimmed_f24/demultiplex/barcode03/barcode38', '/home/emre/minION_results/202309_errorprone_3_rtrimmed_f24/demultiplex/barcode03/barcode79', '/home/emre/minION_results/202309_errorprone_3_rtrimmed_f24/demultiplex/barcode03/barcode74', '/home/emre/minION_results/202309_errorprone_3_rtrimmed_f24/demultiplex/barcode03/barcode45', '/home/emre/minION_results/202309_errorprone_3_rtrimmed_f24/demultiplex/barcode03/barcode54', '/home/emre/minION_results/202309_errorprone_3_rtrimmed_f24/demultiplex/barcode03/barcode50', '/home/emre/minION_results/202309_errorprone_3_rtrimmed_f24/demultiplex/barcode03/barcode81', '/home/emre/minION_results/202309_errorprone_3_rtrimmed_f24/demultiplex/barcode03/barcode88', '/home/emre/minION_results/202309_errorprone_3_rtrimmed_f24/demultiplex/barcode03/barcode67', '/home/emre/minION_results/202309_errorprone_3_rtrimmed_f24/demultiplex/barcode03/barcode20', '/home/emre/minION_results/202309_errorprone_3_rtrimmed_f24/demultiplex/barcode03/barcode31', '/home/emre/minION_results/202309_errorprone_3_rtrimmed_f24/demultiplex/barcode03/barcode62', '/home/emre/minION_results/202309_errorprone_3_rtrimmed_f24/demultiplex/barcode03/barcode80', '/home/emre/minION_results/202309_errorprone_3_rtrimmed_f24/demultiplex/barcode03/barcode22', '/home/emre/minION_results/202309_errorprone_3_rtrimmed_f24/demultiplex/barcode03/barcode59', '/home/emre/minION_results/202309_errorprone_3_rtrimmed_f24/demultiplex/barcode03/barcode24', '/home/emre/minION_results/202309_errorprone_3_rtrimmed_f24/demultiplex/barcode03/barcode91', '/home/emre/minION_results/202309_errorprone_3_rtrimmed_f24/demultiplex/barcode03/barcode06', '/home/emre/minION_results/202309_errorprone_3_rtrimmed_f24/demultiplex/barcode03/barcode41', '/home/emre/minION_results/202309_errorprone_3_rtrimmed_f24/demultiplex/barcode03/barcode13', '/home/emre/minION_results/202309_errorprone_3_rtrimmed_f24/demultiplex/barcode03/barcode57', '/home/emre/minION_results/202309_errorprone_3_rtrimmed_f24/demultiplex/barcode03/barcode42', '/home/emre/minION_results/202309_errorprone_3_rtrimmed_f24/demultiplex/barcode03/barcode23', '/home/emre/minION_results/202309_errorprone_3_rtrimmed_f24/demultiplex/barcode03/barcode12', '/home/emre/minION_results/202309_errorprone_3_rtrimmed_f24/demultiplex/barcode03/barcode25', '/home/emre/minION_results/202309_errorprone_3_rtrimmed_f24/demultiplex/barcode03/barcode96', '/home/emre/minION_results/202309_errorprone_3_rtrimmed_f24/demultiplex/barcode03/barcode93', '/home/emre/minION_results/202309_errorprone_3_rtrimmed_f24/demultiplex/barcode03/barcode32', '/home/emre/minION_results/202309_errorprone_3_rtrimmed_f24/demultiplex/barcode03/barcode72', '/home/emre/minION_results/202309_errorprone_3_rtrimmed_f24/demultiplex/barcode03/barcode09', '/home/emre/minION_results/202309_errorprone_3_rtrimmed_f24/demultiplex/barcode03/barcode73', '/home/emre/minION_results/202309_errorprone_3_rtrimmed_f24/demultiplex/barcode03/barcode58', '/home/emre/minION_results/202309_errorprone_3_rtrimmed_f24/demultiplex/barcode03/barcode17', '/home/emre/minION_results/202309_errorprone_3_rtrimmed_f24/demultiplex/barcode03/barcode36', '/home/emre/minION_results/202309_errorprone_3_rtrimmed_f24/demultiplex/barcode03/barcode78', '/home/emre/minION_results/202309_errorprone_3_rtrimmed_f24/demultiplex/barcode03/barcode64', '/home/emre/minION_results/202309_errorprone_3_rtrimmed_f24/demultiplex/barcode03/barcode75', '/home/emre/minION_results/202309_errorprone_3_rtrimmed_f24/demultiplex/barcode03/barcode34', '/home/emre/minION_results/202309_errorprone_3_rtrimmed_f24/demultiplex/barcode03/barcode60', '/home/emre/minION_results/202309_errorprone_3_rtrimmed_f24/demultiplex/barcode03/barcode65', '/home/emre/minION_results/202309_errorprone_3_rtrimmed_f24/demultiplex/barcode03/barcode82', '/home/emre/minION_results/202309_errorprone_3_rtrimmed_f24/demultiplex/barcode03/barcode61', '/home/emre/minION_results/202309_errorprone_3_rtrimmed_f24/demultiplex/barcode03/barcode30', '/home/emre/minION_results/202309_errorprone_3_rtrimmed_f24/demultiplex/barcode03/barcode63', '/home/emre/minION_results/202309_errorprone_3_rtrimmed_f24/demultiplex/barcode03/barcode08', '/home/emre/minION_results/202309_errorprone_3_rtrimmed_f24/demultiplex/barcode03/barcode48', '/home/emre/minION_results/202309_errorprone_3_rtrimmed_f24/demultiplex/barcode03/barcode70', '/home/emre/minION_results/202309_errorprone_3_rtrimmed_f24/demultiplex/barcode03/barcode86', '/home/emre/minION_results/202309_errorprone_3_rtrimmed_f24/demultiplex/barcode03/barcode44', '/home/emre/minION_results/202309_errorprone_3_rtrimmed_f24/demultiplex/barcode03/barcode39', '/home/emre/minION_results/202309_errorprone_3_rtrimmed_f24/demultiplex/barcode03/barcode71', '/home/emre/minION_results/202309_errorprone_3_rtrimmed_f24/demultiplex/barcode03/barcode21', '/home/emre/minION_results/202309_errorprone_3_rtrimmed_f24/demultiplex/barcode03/barcode92', '/home/emre/minION_results/202309_errorprone_3_rtrimmed_f24/demultiplex/barcode03/barcode10', '/home/emre/minION_results/202309_errorprone_3_rtrimmed_f24/demultiplex/barcode03/barcode15', '/home/emre/minION_results/202309_errorprone_3_rtrimmed_f24/demultiplex/barcode03/barcode87', '/home/emre/minION_results/202309_errorprone_3_rtrimmed_f24/demultiplex/barcode03/barcode11', '/home/emre/minION_results/202309_errorprone_3_rtrimmed_f24/demultiplex/barcode03/barcode95', '/home/emre/minION_results/202309_errorprone_3_rtrimmed_f24/demultiplex/barcode03/barcode94', '/home/emre/minION_results/202309_errorprone_3_rtrimmed_f24/demultiplex/barcode03/barcode03', '/home/emre/minION_results/202309_errorprone_3_rtrimmed_f24/demultiplex/barcode03/barcode02', '/home/emre/minION_results/202309_errorprone_3_rtrimmed_f24/demultiplex/barcode03/barcode16', '/home/emre/minION_results/202309_errorprone_3_rtrimmed_f24/demultiplex/barcode03/barcode84', '/home/emre/minION_results/202309_errorprone_3_rtrimmed_f24/demultiplex/barcode03/barcode51', '/home/emre/minION_results/202309_errorprone_3_rtrimmed_f24/demultiplex/barcode03/barcode69', '/home/emre/minION_results/202309_errorprone_3_rtrimmed_f24/demultiplex/barcode03/barcode56', '/home/emre/minION_results/202309_errorprone_3_rtrimmed_f24/demultiplex/barcode03/barcode83', '/home/emre/minION_results/202309_errorprone_3_rtrimmed_f24/demultiplex/barcode03/barcode07', '/home/emre/minION_results/202309_errorprone_3_rtrimmed_f24/demultiplex/barcode03/barcode89', '/home/emre/minION_results/202309_errorprone_3_rtrimmed_f24/demultiplex/barcode03/barcode40', '/home/emre/minION_results/202309_errorprone_3_rtrimmed_f24/demultiplex/barcode03/barcode27', '/home/emre/minION_results/202309_errorprone_3_rtrimmed_f24/demultiplex/barcode03/barcode77', '/home/emre/minION_results/202309_errorprone_3_rtrimmed_f24/demultiplex/barcode03/barcode90', '/home/emre/minION_results/202309_errorprone_3_rtrimmed_f24/demultiplex/barcode03/barcode01', '/home/emre/minION_results/202309_errorprone_3_rtrimmed_f24/demultiplex/barcode03/barcode46', '/home/emre/minION_results/202309_errorprone_3_rtrimmed_f24/demultiplex/barcode03/barcode43', '/home/emre/minION_results/202309_errorprone_3_rtrimmed_f24/demultiplex/barcode03/barcode55', '/home/emre/minION_results/202309_errorprone_3_rtrimmed_f24/demultiplex/barcode03/barcode26', '/home/emre/minION_results/202309_errorprone_3_rtrimmed_f24/demultiplex/barcode03/barcode52'], '/home/emre/minION_results/202309_errorprone_3_rtrimmed_f24/demultiplex/barcode02': ['/home/emre/minION_results/202309_errorprone_3_rtrimmed_f24/demultiplex/barcode02/barcode28', '/home/emre/minION_results/202309_errorprone_3_rtrimmed_f24/demultiplex/barcode02/barcode49', '/home/emre/minION_results/202309_errorprone_3_rtrimmed_f24/demultiplex/barcode02/barcode76', '/home/emre/minION_results/202309_errorprone_3_rtrimmed_f24/demultiplex/barcode02/barcode37', '/home/emre/minION_results/202309_errorprone_3_rtrimmed_f24/demultiplex/barcode02/barcode33', '/home/emre/minION_results/202309_errorprone_3_rtrimmed_f24/demultiplex/barcode02/barcode35', '/home/emre/minION_results/202309_errorprone_3_rtrimmed_f24/demultiplex/barcode02/barcode66', '/home/emre/minION_results/202309_errorprone_3_rtrimmed_f24/demultiplex/barcode02/barcode47', '/home/emre/minION_results/202309_errorprone_3_rtrimmed_f24/demultiplex/barcode02/barcode29', '/home/emre/minION_results/202309_errorprone_3_rtrimmed_f24/demultiplex/barcode02/barcode53', '/home/emre/minION_results/202309_errorprone_3_rtrimmed_f24/demultiplex/barcode02/barcode18', '/home/emre/minION_results/202309_errorprone_3_rtrimmed_f24/demultiplex/barcode02/barcode68', '/home/emre/minION_results/202309_errorprone_3_rtrimmed_f24/demultiplex/barcode02/barcode14', '/home/emre/minION_results/202309_errorprone_3_rtrimmed_f24/demultiplex/barcode02/barcode05', '/home/emre/minION_results/202309_errorprone_3_rtrimmed_f24/demultiplex/barcode02/barcode04', '/home/emre/minION_results/202309_errorprone_3_rtrimmed_f24/demultiplex/barcode02/barcode19', '/home/emre/minION_results/202309_errorprone_3_rtrimmed_f24/demultiplex/barcode02/barcode85', '/home/emre/minION_results/202309_errorprone_3_rtrimmed_f24/demultiplex/barcode02/barcode38', '/home/emre/minION_results/202309_errorprone_3_rtrimmed_f24/demultiplex/barcode02/barcode79', '/home/emre/minION_results/202309_errorprone_3_rtrimmed_f24/demultiplex/barcode02/barcode74', '/home/emre/minION_results/202309_errorprone_3_rtrimmed_f24/demultiplex/barcode02/barcode45', '/home/emre/minION_results/202309_errorprone_3_rtrimmed_f24/demultiplex/barcode02/barcode54', '/home/emre/minION_results/202309_errorprone_3_rtrimmed_f24/demultiplex/barcode02/barcode50', '/home/emre/minION_results/202309_errorprone_3_rtrimmed_f24/demultiplex/barcode02/barcode81', '/home/emre/minION_results/202309_errorprone_3_rtrimmed_f24/demultiplex/barcode02/barcode88', '/home/emre/minION_results/202309_errorprone_3_rtrimmed_f24/demultiplex/barcode02/barcode67', '/home/emre/minION_results/202309_errorprone_3_rtrimmed_f24/demultiplex/barcode02/barcode20', '/home/emre/minION_results/202309_errorprone_3_rtrimmed_f24/demultiplex/barcode02/barcode31', '/home/emre/minION_results/202309_errorprone_3_rtrimmed_f24/demultiplex/barcode02/barcode62', '/home/emre/minION_results/202309_errorprone_3_rtrimmed_f24/demultiplex/barcode02/barcode80', '/home/emre/minION_results/202309_errorprone_3_rtrimmed_f24/demultiplex/barcode02/barcode22', '/home/emre/minION_results/202309_errorprone_3_rtrimmed_f24/demultiplex/barcode02/barcode59', '/home/emre/minION_results/202309_errorprone_3_rtrimmed_f24/demultiplex/barcode02/barcode24', '/home/emre/minION_results/202309_errorprone_3_rtrimmed_f24/demultiplex/barcode02/barcode91', '/home/emre/minION_results/202309_errorprone_3_rtrimmed_f24/demultiplex/barcode02/barcode06', '/home/emre/minION_results/202309_errorprone_3_rtrimmed_f24/demultiplex/barcode02/barcode41', '/home/emre/minION_results/202309_errorprone_3_rtrimmed_f24/demultiplex/barcode02/barcode13', '/home/emre/minION_results/202309_errorprone_3_rtrimmed_f24/demultiplex/barcode02/barcode57', '/home/emre/minION_results/202309_errorprone_3_rtrimmed_f24/demultiplex/barcode02/barcode42', '/home/emre/minION_results/202309_errorprone_3_rtrimmed_f24/demultiplex/barcode02/barcode23', '/home/emre/minION_results/202309_errorprone_3_rtrimmed_f24/demultiplex/barcode02/barcode12', '/home/emre/minION_results/202309_errorprone_3_rtrimmed_f24/demultiplex/barcode02/barcode25', '/home/emre/minION_results/202309_errorprone_3_rtrimmed_f24/demultiplex/barcode02/barcode96', '/home/emre/minION_results/202309_errorprone_3_rtrimmed_f24/demultiplex/barcode02/barcode93', '/home/emre/minION_results/202309_errorprone_3_rtrimmed_f24/demultiplex/barcode02/barcode32', '/home/emre/minION_results/202309_errorprone_3_rtrimmed_f24/demultiplex/barcode02/barcode72', '/home/emre/minION_results/202309_errorprone_3_rtrimmed_f24/demultiplex/barcode02/barcode09', '/home/emre/minION_results/202309_errorprone_3_rtrimmed_f24/demultiplex/barcode02/barcode73', '/home/emre/minION_results/202309_errorprone_3_rtrimmed_f24/demultiplex/barcode02/barcode58', '/home/emre/minION_results/202309_errorprone_3_rtrimmed_f24/demultiplex/barcode02/barcode17', '/home/emre/minION_results/202309_errorprone_3_rtrimmed_f24/demultiplex/barcode02/barcode36', '/home/emre/minION_results/202309_errorprone_3_rtrimmed_f24/demultiplex/barcode02/barcode78', '/home/emre/minION_results/202309_errorprone_3_rtrimmed_f24/demultiplex/barcode02/barcode64', '/home/emre/minION_results/202309_errorprone_3_rtrimmed_f24/demultiplex/barcode02/barcode75', '/home/emre/minION_results/202309_errorprone_3_rtrimmed_f24/demultiplex/barcode02/barcode34', '/home/emre/minION_results/202309_errorprone_3_rtrimmed_f24/demultiplex/barcode02/barcode60', '/home/emre/minION_results/202309_errorprone_3_rtrimmed_f24/demultiplex/barcode02/barcode65', '/home/emre/minION_results/202309_errorprone_3_rtrimmed_f24/demultiplex/barcode02/barcode82', '/home/emre/minION_results/202309_errorprone_3_rtrimmed_f24/demultiplex/barcode02/barcode61', '/home/emre/minION_results/202309_errorprone_3_rtrimmed_f24/demultiplex/barcode02/barcode30', '/home/emre/minION_results/202309_errorprone_3_rtrimmed_f24/demultiplex/barcode02/barcode63', '/home/emre/minION_results/202309_errorprone_3_rtrimmed_f24/demultiplex/barcode02/barcode08', '/home/emre/minION_results/202309_errorprone_3_rtrimmed_f24/demultiplex/barcode02/barcode48', '/home/emre/minION_results/202309_errorprone_3_rtrimmed_f24/demultiplex/barcode02/barcode70', '/home/emre/minION_results/202309_errorprone_3_rtrimmed_f24/demultiplex/barcode02/barcode86', '/home/emre/minION_results/202309_errorprone_3_rtrimmed_f24/demultiplex/barcode02/barcode44', '/home/emre/minION_results/202309_errorprone_3_rtrimmed_f24/demultiplex/barcode02/barcode39', '/home/emre/minION_results/202309_errorprone_3_rtrimmed_f24/demultiplex/barcode02/barcode71', '/home/emre/minION_results/202309_errorprone_3_rtrimmed_f24/demultiplex/barcode02/barcode21', '/home/emre/minION_results/202309_errorprone_3_rtrimmed_f24/demultiplex/barcode02/barcode92', '/home/emre/minION_results/202309_errorprone_3_rtrimmed_f24/demultiplex/barcode02/barcode10', '/home/emre/minION_results/202309_errorprone_3_rtrimmed_f24/demultiplex/barcode02/barcode15', '/home/emre/minION_results/202309_errorprone_3_rtrimmed_f24/demultiplex/barcode02/barcode87', '/home/emre/minION_results/202309_errorprone_3_rtrimmed_f24/demultiplex/barcode02/barcode11', '/home/emre/minION_results/202309_errorprone_3_rtrimmed_f24/demultiplex/barcode02/barcode95', '/home/emre/minION_results/202309_errorprone_3_rtrimmed_f24/demultiplex/barcode02/barcode94', '/home/emre/minION_results/202309_errorprone_3_rtrimmed_f24/demultiplex/barcode02/barcode03', '/home/emre/minION_results/202309_errorprone_3_rtrimmed_f24/demultiplex/barcode02/barcode02', '/home/emre/minION_results/202309_errorprone_3_rtrimmed_f24/demultiplex/barcode02/barcode16', '/home/emre/minION_results/202309_errorprone_3_rtrimmed_f24/demultiplex/barcode02/barcode84', '/home/emre/minION_results/202309_errorprone_3_rtrimmed_f24/demultiplex/barcode02/barcode51', '/home/emre/minION_results/202309_errorprone_3_rtrimmed_f24/demultiplex/barcode02/barcode69', '/home/emre/minION_results/202309_errorprone_3_rtrimmed_f24/demultiplex/barcode02/barcode56', '/home/emre/minION_results/202309_errorprone_3_rtrimmed_f24/demultiplex/barcode02/barcode83', '/home/emre/minION_results/202309_errorprone_3_rtrimmed_f24/demultiplex/barcode02/barcode07', '/home/emre/minION_results/202309_errorprone_3_rtrimmed_f24/demultiplex/barcode02/barcode89', '/home/emre/minION_results/202309_errorprone_3_rtrimmed_f24/demultiplex/barcode02/barcode40', '/home/emre/minION_results/202309_errorprone_3_rtrimmed_f24/demultiplex/barcode02/barcode27', '/home/emre/minION_results/202309_errorprone_3_rtrimmed_f24/demultiplex/barcode02/barcode77', '/home/emre/minION_results/202309_errorprone_3_rtrimmed_f24/demultiplex/barcode02/barcode90', '/home/emre/minION_results/202309_errorprone_3_rtrimmed_f24/demultiplex/barcode02/barcode01', '/home/emre/minION_results/202309_errorprone_3_rtrimmed_f24/demultiplex/barcode02/barcode46', '/home/emre/minION_results/202309_errorprone_3_rtrimmed_f24/demultiplex/barcode02/barcode43', '/home/emre/minION_results/202309_errorprone_3_rtrimmed_f24/demultiplex/barcode02/barcode55', '/home/emre/minION_results/202309_errorprone_3_rtrimmed_f24/demultiplex/barcode02/barcode26', '/home/emre/minION_results/202309_errorprone_3_rtrimmed_f24/demultiplex/barcode02/barcode52'], '/home/emre/minION_results/202309_errorprone_3_rtrimmed_f24/demultiplex/barcode01': ['/home/emre/minION_results/202309_errorprone_3_rtrimmed_f24/demultiplex/barcode01/barcode28', '/home/emre/minION_results/202309_errorprone_3_rtrimmed_f24/demultiplex/barcode01/barcode49', '/home/emre/minION_results/202309_errorprone_3_rtrimmed_f24/demultiplex/barcode01/barcode76', '/home/emre/minION_results/202309_errorprone_3_rtrimmed_f24/demultiplex/barcode01/barcode37', '/home/emre/minION_results/202309_errorprone_3_rtrimmed_f24/demultiplex/barcode01/barcode33', '/home/emre/minION_results/202309_errorprone_3_rtrimmed_f24/demultiplex/barcode01/barcode35', '/home/emre/minION_results/202309_errorprone_3_rtrimmed_f24/demultiplex/barcode01/barcode66', '/home/emre/minION_results/202309_errorprone_3_rtrimmed_f24/demultiplex/barcode01/barcode47', '/home/emre/minION_results/202309_errorprone_3_rtrimmed_f24/demultiplex/barcode01/barcode29', '/home/emre/minION_results/202309_errorprone_3_rtrimmed_f24/demultiplex/barcode01/barcode53', '/home/emre/minION_results/202309_errorprone_3_rtrimmed_f24/demultiplex/barcode01/barcode18', '/home/emre/minION_results/202309_errorprone_3_rtrimmed_f24/demultiplex/barcode01/barcode68', '/home/emre/minION_results/202309_errorprone_3_rtrimmed_f24/demultiplex/barcode01/barcode14', '/home/emre/minION_results/202309_errorprone_3_rtrimmed_f24/demultiplex/barcode01/barcode05', '/home/emre/minION_results/202309_errorprone_3_rtrimmed_f24/demultiplex/barcode01/barcode04', '/home/emre/minION_results/202309_errorprone_3_rtrimmed_f24/demultiplex/barcode01/barcode19', '/home/emre/minION_results/202309_errorprone_3_rtrimmed_f24/demultiplex/barcode01/barcode85', '/home/emre/minION_results/202309_errorprone_3_rtrimmed_f24/demultiplex/barcode01/barcode38', '/home/emre/minION_results/202309_errorprone_3_rtrimmed_f24/demultiplex/barcode01/barcode79', '/home/emre/minION_results/202309_errorprone_3_rtrimmed_f24/demultiplex/barcode01/barcode74', '/home/emre/minION_results/202309_errorprone_3_rtrimmed_f24/demultiplex/barcode01/barcode45', '/home/emre/minION_results/202309_errorprone_3_rtrimmed_f24/demultiplex/barcode01/barcode54', '/home/emre/minION_results/202309_errorprone_3_rtrimmed_f24/demultiplex/barcode01/barcode50', '/home/emre/minION_results/202309_errorprone_3_rtrimmed_f24/demultiplex/barcode01/barcode81', '/home/emre/minION_results/202309_errorprone_3_rtrimmed_f24/demultiplex/barcode01/barcode88', '/home/emre/minION_results/202309_errorprone_3_rtrimmed_f24/demultiplex/barcode01/barcode67', '/home/emre/minION_results/202309_errorprone_3_rtrimmed_f24/demultiplex/barcode01/barcode20', '/home/emre/minION_results/202309_errorprone_3_rtrimmed_f24/demultiplex/barcode01/barcode31', '/home/emre/minION_results/202309_errorprone_3_rtrimmed_f24/demultiplex/barcode01/barcode62', '/home/emre/minION_results/202309_errorprone_3_rtrimmed_f24/demultiplex/barcode01/barcode80', '/home/emre/minION_results/202309_errorprone_3_rtrimmed_f24/demultiplex/barcode01/barcode22', '/home/emre/minION_results/202309_errorprone_3_rtrimmed_f24/demultiplex/barcode01/barcode59', '/home/emre/minION_results/202309_errorprone_3_rtrimmed_f24/demultiplex/barcode01/barcode24', '/home/emre/minION_results/202309_errorprone_3_rtrimmed_f24/demultiplex/barcode01/barcode91', '/home/emre/minION_results/202309_errorprone_3_rtrimmed_f24/demultiplex/barcode01/barcode06', '/home/emre/minION_results/202309_errorprone_3_rtrimmed_f24/demultiplex/barcode01/barcode41', '/home/emre/minION_results/202309_errorprone_3_rtrimmed_f24/demultiplex/barcode01/barcode13', '/home/emre/minION_results/202309_errorprone_3_rtrimmed_f24/demultiplex/barcode01/barcode57', '/home/emre/minION_results/202309_errorprone_3_rtrimmed_f24/demultiplex/barcode01/barcode42', '/home/emre/minION_results/202309_errorprone_3_rtrimmed_f24/demultiplex/barcode01/barcode23', '/home/emre/minION_results/202309_errorprone_3_rtrimmed_f24/demultiplex/barcode01/barcode12', '/home/emre/minION_results/202309_errorprone_3_rtrimmed_f24/demultiplex/barcode01/barcode25', '/home/emre/minION_results/202309_errorprone_3_rtrimmed_f24/demultiplex/barcode01/barcode96', '/home/emre/minION_results/202309_errorprone_3_rtrimmed_f24/demultiplex/barcode01/barcode93', '/home/emre/minION_results/202309_errorprone_3_rtrimmed_f24/demultiplex/barcode01/barcode32', '/home/emre/minION_results/202309_errorprone_3_rtrimmed_f24/demultiplex/barcode01/barcode72', '/home/emre/minION_results/202309_errorprone_3_rtrimmed_f24/demultiplex/barcode01/barcode09', '/home/emre/minION_results/202309_errorprone_3_rtrimmed_f24/demultiplex/barcode01/barcode73', '/home/emre/minION_results/202309_errorprone_3_rtrimmed_f24/demultiplex/barcode01/barcode58', '/home/emre/minION_results/202309_errorprone_3_rtrimmed_f24/demultiplex/barcode01/barcode17', '/home/emre/minION_results/202309_errorprone_3_rtrimmed_f24/demultiplex/barcode01/barcode36', '/home/emre/minION_results/202309_errorprone_3_rtrimmed_f24/demultiplex/barcode01/barcode78', '/home/emre/minION_results/202309_errorprone_3_rtrimmed_f24/demultiplex/barcode01/barcode64', '/home/emre/minION_results/202309_errorprone_3_rtrimmed_f24/demultiplex/barcode01/barcode75', '/home/emre/minION_results/202309_errorprone_3_rtrimmed_f24/demultiplex/barcode01/barcode34', '/home/emre/minION_results/202309_errorprone_3_rtrimmed_f24/demultiplex/barcode01/barcode60', '/home/emre/minION_results/202309_errorprone_3_rtrimmed_f24/demultiplex/barcode01/barcode65', '/home/emre/minION_results/202309_errorprone_3_rtrimmed_f24/demultiplex/barcode01/barcode82', '/home/emre/minION_results/202309_errorprone_3_rtrimmed_f24/demultiplex/barcode01/barcode61', '/home/emre/minION_results/202309_errorprone_3_rtrimmed_f24/demultiplex/barcode01/barcode30', '/home/emre/minION_results/202309_errorprone_3_rtrimmed_f24/demultiplex/barcode01/barcode63', '/home/emre/minION_results/202309_errorprone_3_rtrimmed_f24/demultiplex/barcode01/barcode08', '/home/emre/minION_results/202309_errorprone_3_rtrimmed_f24/demultiplex/barcode01/barcode48', '/home/emre/minION_results/202309_errorprone_3_rtrimmed_f24/demultiplex/barcode01/barcode70', '/home/emre/minION_results/202309_errorprone_3_rtrimmed_f24/demultiplex/barcode01/barcode86', '/home/emre/minION_results/202309_errorprone_3_rtrimmed_f24/demultiplex/barcode01/barcode44', '/home/emre/minION_results/202309_errorprone_3_rtrimmed_f24/demultiplex/barcode01/barcode39', '/home/emre/minION_results/202309_errorprone_3_rtrimmed_f24/demultiplex/barcode01/barcode71', '/home/emre/minION_results/202309_errorprone_3_rtrimmed_f24/demultiplex/barcode01/barcode21', '/home/emre/minION_results/202309_errorprone_3_rtrimmed_f24/demultiplex/barcode01/barcode92', '/home/emre/minION_results/202309_errorprone_3_rtrimmed_f24/demultiplex/barcode01/barcode10', '/home/emre/minION_results/202309_errorprone_3_rtrimmed_f24/demultiplex/barcode01/barcode15', '/home/emre/minION_results/202309_errorprone_3_rtrimmed_f24/demultiplex/barcode01/barcode87', '/home/emre/minION_results/202309_errorprone_3_rtrimmed_f24/demultiplex/barcode01/barcode11', '/home/emre/minION_results/202309_errorprone_3_rtrimmed_f24/demultiplex/barcode01/barcode95', '/home/emre/minION_results/202309_errorprone_3_rtrimmed_f24/demultiplex/barcode01/barcode94', '/home/emre/minION_results/202309_errorprone_3_rtrimmed_f24/demultiplex/barcode01/barcode03', '/home/emre/minION_results/202309_errorprone_3_rtrimmed_f24/demultiplex/barcode01/barcode02', '/home/emre/minION_results/202309_errorprone_3_rtrimmed_f24/demultiplex/barcode01/barcode16', '/home/emre/minION_results/202309_errorprone_3_rtrimmed_f24/demultiplex/barcode01/barcode84', '/home/emre/minION_results/202309_errorprone_3_rtrimmed_f24/demultiplex/barcode01/barcode51', '/home/emre/minION_results/202309_errorprone_3_rtrimmed_f24/demultiplex/barcode01/barcode69', '/home/emre/minION_results/202309_errorprone_3_rtrimmed_f24/demultiplex/barcode01/barcode56', '/home/emre/minION_results/202309_errorprone_3_rtrimmed_f24/demultiplex/barcode01/barcode83', '/home/emre/minION_results/202309_errorprone_3_rtrimmed_f24/demultiplex/barcode01/barcode07', '/home/emre/minION_results/202309_errorprone_3_rtrimmed_f24/demultiplex/barcode01/barcode89', '/home/emre/minION_results/202309_errorprone_3_rtrimmed_f24/demultiplex/barcode01/barcode40', '/home/emre/minION_results/202309_errorprone_3_rtrimmed_f24/demultiplex/barcode01/barcode27', '/home/emre/minION_results/202309_errorprone_3_rtrimmed_f24/demultiplex/barcode01/barcode77', '/home/emre/minION_results/202309_errorprone_3_rtrimmed_f24/demultiplex/barcode01/barcode90', '/home/emre/minION_results/202309_errorprone_3_rtrimmed_f24/demultiplex/barcode01/barcode01', '/home/emre/minION_results/202309_errorprone_3_rtrimmed_f24/demultiplex/barcode01/barcode46', '/home/emre/minION_results/202309_errorprone_3_rtrimmed_f24/demultiplex/barcode01/barcode43', '/home/emre/minION_results/202309_errorprone_3_rtrimmed_f24/demultiplex/barcode01/barcode55', '/home/emre/minION_results/202309_errorprone_3_rtrimmed_f24/demultiplex/barcode01/barcode26', '/home/emre/minION_results/202309_errorprone_3_rtrimmed_f24/demultiplex/barcode01/barcode52']}\n"
     ]
    }
   ],
   "source": [
    "template_fasta = \"/home/emre/github_repo/MinION/minION/refseq/hetcpiii.fasta\"\n",
    " \n",
    "path = os.path.join(result_folder, experiment_folder, \"demultiplex\")\n",
    "\n",
    "barcode_dicts = get_barcode_dict(path)"
   ]
  },
  {
   "cell_type": "code",
   "execution_count": 5,
   "metadata": {},
   "outputs": [],
   "source": [
    "keys = list(barcode_dicts)\n",
    "plate2 = keys[1]\n",
    "file = barcode_dicts[plate2][85]\n",
    "sample = os.path.join(file, \"final_consensus.fasta\")\n",
    "template = get_template_sequence(template_fasta)\n"
   ]
  },
  {
   "cell_type": "code",
   "execution_count": 6,
   "metadata": {},
   "outputs": [
    {
     "ename": "OSError",
     "evalue": "[Errno 36] File name too long: 'ATGACTCCCTCGGACATCCCGGGATATGATTATGGGCGTGTCGAGAAGTCACCCATCACGGACCTTGAGTTTGACCTTCTGAAGAAGACTGTCATGTTAGGTGAAAAGGACGTAATGTACTTGAAAAAGGCGCGTGACGTTCTGAAAGATCAAGTTGATGAGATCCTTGACTTGTGGGATGGTTGGGCGGCATCAAATGAGCATTTGATTTATTACTTCTCCAATCCGGATACAGGAGAGCCTATTAAGGAATACCTGGAACGTGTACGCGCTCGCTTTGGAGCCTGGATTCTGGACACTACCTGGCGCGACTATAACCGTGAATGGTTAGACTACCAGTACGAAGTTGGGCTTCGTCATCACCGTTCAAAGAAAGGGGTCACAGACGGAGTACGCACCGTGCCCCATATCCCACTTCGTTATCTTATCGCAAATATCTATCCTATCACCGCCACTATCAAGCCATTTTTGGCTAAGAAAGGTGGCTCTCCGGAAGACATCGAAGGGATGTACAACGCTTGGTTCAAGTCTGTAGTTTTACAAGTTGCCATCTGGTCACACCCTTATACTAAGGAGAATGACTGGCTCGAGCACCACCACCACCACCACTGA'",
     "output_type": "error",
     "traceback": [
      "\u001b[0;31m---------------------------------------------------------------------------\u001b[0m",
      "\u001b[0;31mOSError\u001b[0m                                   Traceback (most recent call last)",
      "\u001b[1;32m/home/emre/github_repo/MinION/examples/summary_inspector.ipynb Cell 11\u001b[0m line \u001b[0;36m1\n\u001b[0;32m----> <a href='vscode-notebook-cell://ssh-remote%2B131.215.228.108/home/emre/github_repo/MinION/examples/summary_inspector.ipynb#X13sdnNjb2RlLXJlbW90ZQ%3D%3D?line=0'>1</a>\u001b[0m aa_sequence \u001b[39m=\u001b[39m get_AA_sequence(sample, template)\n",
      "File \u001b[0;32m~/github_repo/MinION/minION/analyse.py:179\u001b[0m, in \u001b[0;36mget_AA_sequence\u001b[0;34m(template_fasta, consensus_path)\u001b[0m\n\u001b[1;32m    172\u001b[0m \u001b[39mdef\u001b[39;00m \u001b[39mget_AA_sequence\u001b[39m(template_fasta, consensus_path):\n\u001b[1;32m    173\u001b[0m \u001b[39m    \u001b[39m\u001b[39m\"\"\"Get the AA sequence from the consensus sequence\u001b[39;00m\n\u001b[1;32m    174\u001b[0m \u001b[39m    Input:  - template_fasta, path to template fasta file\u001b[39;00m\n\u001b[1;32m    175\u001b[0m \u001b[39m            - consensus_path, path to consensus sequence\u001b[39;00m\n\u001b[1;32m    176\u001b[0m \u001b[39m    Output: Dictionary with AA sequence and quality scores\"\"\"\u001b[39;00m\n\u001b[0;32m--> 179\u001b[0m     aligned_seq \u001b[39m=\u001b[39m align_sequences(template_fasta, consensus_path)\n\u001b[1;32m    181\u001b[0m     \u001b[39mreturn\u001b[39;00m translate_sequence([aligned_seq[\u001b[39m\"\u001b[39m\u001b[39mSequence\u001b[39m\u001b[39m\"\u001b[39m][\u001b[39m0\u001b[39m]])\n",
      "File \u001b[0;32m~/github_repo/MinION/minION/analyse.py:72\u001b[0m, in \u001b[0;36malign_sequences\u001b[0;34m(template_path, consensus_path)\u001b[0m\n\u001b[1;32m     66\u001b[0m \u001b[39m\u001b[39m\u001b[39m\"\"\"Align consensus sequences to template sequence.\u001b[39;00m\n\u001b[1;32m     67\u001b[0m \u001b[39mInput:  - template_path, path to template sequence\u001b[39;00m\n\u001b[1;32m     68\u001b[0m \u001b[39m        - consensus_path, path to consensus sequence\u001b[39;00m\n\u001b[1;32m     69\u001b[0m \u001b[39mOutput: Dictionary with aligned sequences\"\"\"\u001b[39;00m\n\u001b[1;32m     71\u001b[0m template \u001b[39m=\u001b[39m get_template_sequence(template_path)\n\u001b[0;32m---> 72\u001b[0m consensus \u001b[39m=\u001b[39m get_consensus_sequence(consensus_path, \u001b[39mTrue\u001b[39;49;00m)\n\u001b[1;32m     74\u001b[0m \u001b[39mreturn\u001b[39;00m bioalign(template, consensus)\n",
      "File \u001b[0;32m~/github_repo/MinION/minION/analyse.py:28\u001b[0m, in \u001b[0;36mget_consensus_sequence\u001b[0;34m(path, score)\u001b[0m\n\u001b[1;32m     22\u001b[0m \u001b[39mdef\u001b[39;00m \u001b[39mget_consensus_sequence\u001b[39m(path, score \u001b[39m=\u001b[39m \u001b[39mTrue\u001b[39;00m):\n\u001b[1;32m     23\u001b[0m \u001b[39m    \u001b[39m\u001b[39m\"\"\"Get the consensus sequence with the Phred Quality Score\u001b[39;00m\n\u001b[1;32m     24\u001b[0m \u001b[39m    Input:  - path, where the fasta file is located\u001b[39;00m\n\u001b[1;32m     25\u001b[0m \u001b[39m            - score, if True, return sequence and quality scores\u001b[39;00m\n\u001b[1;32m     26\u001b[0m \u001b[39m    Output: Dictionary with sequence only or sequence and quality scores\"\"\"\u001b[39;00m\n\u001b[0;32m---> 28\u001b[0m     sequences \u001b[39m=\u001b[39m read_fasta_file(path, \u001b[39mTrue\u001b[39;49;00m)\n\u001b[1;32m     30\u001b[0m     \u001b[39mreturn\u001b[39;00m sequences\n",
      "File \u001b[0;32m~/github_repo/MinION/minION/util/IO_processor.py:120\u001b[0m, in \u001b[0;36mread_fasta_file\u001b[0;34m(path, score)\u001b[0m\n\u001b[1;32m    117\u001b[0m \u001b[39mif\u001b[39;00m score:\n\u001b[1;32m    118\u001b[0m     sequences_and_scores \u001b[39m=\u001b[39m {\u001b[39m\"\u001b[39m\u001b[39mSequence\u001b[39m\u001b[39m\"\u001b[39m : [], \u001b[39m\"\u001b[39m\u001b[39mQuality-Score\u001b[39m\u001b[39m\"\u001b[39m : []}\n\u001b[0;32m--> 120\u001b[0m     \u001b[39mfor\u001b[39;00m record \u001b[39min\u001b[39;00m SeqIO\u001b[39m.\u001b[39;49mparse(path, \u001b[39m\"\u001b[39;49m\u001b[39mfastq\u001b[39;49m\u001b[39m\"\u001b[39;49m):\n\u001b[1;32m    121\u001b[0m         sequences_and_scores[\u001b[39m\"\u001b[39m\u001b[39mSequence\u001b[39m\u001b[39m\"\u001b[39m]\u001b[39m.\u001b[39mappend(\u001b[39mstr\u001b[39m(record\u001b[39m.\u001b[39mseq))\n\u001b[1;32m    122\u001b[0m         sequences_and_scores[\u001b[39m\"\u001b[39m\u001b[39mQuality-Score\u001b[39m\u001b[39m\"\u001b[39m]\u001b[39m.\u001b[39mappend(record\u001b[39m.\u001b[39mletter_annotations[\u001b[39m\"\u001b[39m\u001b[39mphred_quality\u001b[39m\u001b[39m\"\u001b[39m])\n",
      "File \u001b[0;32m~/miniconda3/envs/streamlit/lib/python3.9/site-packages/Bio/SeqIO/__init__.py:605\u001b[0m, in \u001b[0;36mparse\u001b[0;34m(handle, format, alphabet)\u001b[0m\n\u001b[1;32m    603\u001b[0m iterator_generator \u001b[39m=\u001b[39m _FormatToIterator\u001b[39m.\u001b[39mget(\u001b[39mformat\u001b[39m)\n\u001b[1;32m    604\u001b[0m \u001b[39mif\u001b[39;00m iterator_generator:\n\u001b[0;32m--> 605\u001b[0m     \u001b[39mreturn\u001b[39;00m iterator_generator(handle)\n\u001b[1;32m    606\u001b[0m \u001b[39mif\u001b[39;00m \u001b[39mformat\u001b[39m \u001b[39min\u001b[39;00m AlignIO\u001b[39m.\u001b[39m_FormatToIterator:\n\u001b[1;32m    607\u001b[0m     \u001b[39m# Use Bio.AlignIO to read in the alignments\u001b[39;00m\n\u001b[1;32m    608\u001b[0m     \u001b[39mreturn\u001b[39;00m (r \u001b[39mfor\u001b[39;00m alignment \u001b[39min\u001b[39;00m AlignIO\u001b[39m.\u001b[39mparse(handle, \u001b[39mformat\u001b[39m) \u001b[39mfor\u001b[39;00m r \u001b[39min\u001b[39;00m alignment)\n",
      "File \u001b[0;32m~/miniconda3/envs/streamlit/lib/python3.9/site-packages/Bio/SeqIO/QualityIO.py:1064\u001b[0m, in \u001b[0;36mFastqPhredIterator.__init__\u001b[0;34m(self, source, alphabet, title2ids)\u001b[0m\n\u001b[1;32m   1062\u001b[0m     \u001b[39mraise\u001b[39;00m \u001b[39mValueError\u001b[39;00m(\u001b[39m\"\u001b[39m\u001b[39mThe alphabet argument is no longer supported\u001b[39m\u001b[39m\"\u001b[39m)\n\u001b[1;32m   1063\u001b[0m \u001b[39mself\u001b[39m\u001b[39m.\u001b[39mtitle2ids \u001b[39m=\u001b[39m title2ids\n\u001b[0;32m-> 1064\u001b[0m \u001b[39msuper\u001b[39;49m()\u001b[39m.\u001b[39;49m\u001b[39m__init__\u001b[39;49m(source, mode\u001b[39m=\u001b[39;49m\u001b[39m\"\u001b[39;49m\u001b[39mt\u001b[39;49m\u001b[39m\"\u001b[39;49m, fmt\u001b[39m=\u001b[39;49m\u001b[39m\"\u001b[39;49m\u001b[39mFastq\u001b[39;49m\u001b[39m\"\u001b[39;49m)\n",
      "File \u001b[0;32m~/miniconda3/envs/streamlit/lib/python3.9/site-packages/Bio/SeqIO/Interfaces.py:48\u001b[0m, in \u001b[0;36mSequenceIterator.__init__\u001b[0;34m(self, source, alphabet, mode, fmt)\u001b[0m\n\u001b[1;32m     46\u001b[0m     \u001b[39mraise\u001b[39;00m \u001b[39mValueError\u001b[39;00m(\u001b[39m\"\u001b[39m\u001b[39mThe alphabet argument is no longer supported\u001b[39m\u001b[39m\"\u001b[39m)\n\u001b[1;32m     47\u001b[0m \u001b[39mtry\u001b[39;00m:\n\u001b[0;32m---> 48\u001b[0m     \u001b[39mself\u001b[39m\u001b[39m.\u001b[39mstream \u001b[39m=\u001b[39m \u001b[39mopen\u001b[39;49m(source, \u001b[39m\"\u001b[39;49m\u001b[39mr\u001b[39;49m\u001b[39m\"\u001b[39;49m \u001b[39m+\u001b[39;49m mode)\n\u001b[1;32m     49\u001b[0m     \u001b[39mself\u001b[39m\u001b[39m.\u001b[39mshould_close_stream \u001b[39m=\u001b[39m \u001b[39mTrue\u001b[39;00m\n\u001b[1;32m     50\u001b[0m \u001b[39mexcept\u001b[39;00m \u001b[39mTypeError\u001b[39;00m:  \u001b[39m# not a path, assume we received a stream\u001b[39;00m\n",
      "\u001b[0;31mOSError\u001b[0m: [Errno 36] File name too long: 'ATGACTCCCTCGGACATCCCGGGATATGATTATGGGCGTGTCGAGAAGTCACCCATCACGGACCTTGAGTTTGACCTTCTGAAGAAGACTGTCATGTTAGGTGAAAAGGACGTAATGTACTTGAAAAAGGCGCGTGACGTTCTGAAAGATCAAGTTGATGAGATCCTTGACTTGTGGGATGGTTGGGCGGCATCAAATGAGCATTTGATTTATTACTTCTCCAATCCGGATACAGGAGAGCCTATTAAGGAATACCTGGAACGTGTACGCGCTCGCTTTGGAGCCTGGATTCTGGACACTACCTGGCGCGACTATAACCGTGAATGGTTAGACTACCAGTACGAAGTTGGGCTTCGTCATCACCGTTCAAAGAAAGGGGTCACAGACGGAGTACGCACCGTGCCCCATATCCCACTTCGTTATCTTATCGCAAATATCTATCCTATCACCGCCACTATCAAGCCATTTTTGGCTAAGAAAGGTGGCTCTCCGGAAGACATCGAAGGGATGTACAACGCTTGGTTCAAGTCTGTAGTTTTACAAGTTGCCATCTGGTCACACCCTTATACTAAGGAGAATGACTGGCTCGAGCACCACCACCACCACCACTGA'"
     ]
    }
   ],
   "source": [
    "aa_sequence = get_AA_sequence(sample, template)"
   ]
  },
  {
   "cell_type": "code",
   "execution_count": 7,
   "metadata": {},
   "outputs": [
    {
     "ename": "NameError",
     "evalue": "name 'aligned' is not defined",
     "output_type": "error",
     "traceback": [
      "\u001b[0;31m---------------------------------------------------------------------------\u001b[0m",
      "\u001b[0;31mNameError\u001b[0m                                 Traceback (most recent call last)",
      "\u001b[1;32m/home/emre/github_repo/MinION/examples/summary_inspector.ipynb Cell 12\u001b[0m line \u001b[0;36m1\n\u001b[0;32m----> <a href='vscode-notebook-cell://ssh-remote%2B131.215.228.108/home/emre/github_repo/MinION/examples/summary_inspector.ipynb#X14sdnNjb2RlLXJlbW90ZQ%3D%3D?line=0'>1</a>\u001b[0m swap_NN(template, aligned, min_score \u001b[39m=\u001b[39m \u001b[39m30\u001b[39m)\n",
      "\u001b[0;31mNameError\u001b[0m: name 'aligned' is not defined"
     ]
    }
   ],
   "source": [
    "swap_NN(template, aligned, min_score = 30)"
   ]
  },
  {
   "cell_type": "code",
   "execution_count": null,
   "metadata": {},
   "outputs": [],
   "source": [
    "# Initialize an empty list for heatmap data\n",
    "heatmap_data = []\n",
    "\n",
    "for barcode_id, barcode_dict in barcode_dicts.items():\n",
    "    print(barcode_id)\n",
    "    \n",
    "    # Assuming RBC is embedded in the directory name (basename)\n",
    "    RBC_name = os.path.basename(barcode_id)\n",
    "    \n",
    "    file = os.path.join(barcode_id, \"barcoding_summary.txt\")\n",
    "    summary = pd.read_csv(file, sep=\"\\t\")\n",
    "    barcode_arrangements = barcode_arrangement(summary, plot=False)\n",
    "    \n",
    "    # Filter out unclassified barcode arrangements\n",
    "    barcode_arrangements = barcode_arrangements[barcode_arrangements[\"barcode_arrangement\"] != \"unclassified\"]\n",
    "    \n",
    "    for _, row in barcode_arrangements.iterrows():\n",
    "        heatmap_data.append({\n",
    "            \"RBC\": RBC_name,\n",
    "            \"FBC\": row[\"barcode_arrangement\"],\n",
    "            \"Count\": row[\"count\"]\n",
    "        })\n",
    "\n",
    "# Convert the list of dicts to a dataframe\n",
    "heatmap_df = pd.DataFrame(heatmap_data)"
   ]
  },
  {
   "cell_type": "code",
   "execution_count": null,
   "metadata": {},
   "outputs": [],
   "source": [
    "import numpy as np\n",
    "from bokeh.plotting import figure, show, output_notebook\n",
    "from bokeh.models import ColorBar, LinearColorMapper\n",
    "from bokeh.transform import transform\n",
    "from bokeh.layouts import column\n",
    "from bokeh.models import TabPanel, Tabs\n",
    "from bokeh.layouts import layout\n",
    "from bokeh.io import push_notebook\n",
    "\n",
    "def create_heatmap_for_rbc(df):\n",
    "    # Define the shape of a 96-well plate\n",
    "    rows, cols = 8, 12\n",
    "    \n",
    "    # Convert FBC to numerical values (well positions)\n",
    "    df['WellNum'] = df['FBC'].str.replace(\"barcode\", \"\").astype(int)\n",
    "    \n",
    "    # Convert well number to row and col\n",
    "    df['Row'] = (df['WellNum'] - 1) // cols\n",
    "    df['Col'] = (df['WellNum'] - 1) % cols\n",
    "    \n",
    "    # Cap values to 1000\n",
    "    df['CappedCount'] = np.where(df['Count'] > 1000, 1000, df['Count'])\n",
    "\n",
    "    # Create an empty matrix for the heatmap values\n",
    "    heatmap_matrix = np.zeros((rows, cols))\n",
    "    for _, row in df.iterrows():\n",
    "        heatmap_matrix[row['Row'], row['Col']] = row['CappedCount']\n",
    "\n",
    "    # Define x and y labels\n",
    "    x = [str(i) for i in range(1, cols + 1)]\n",
    "    y = ['H', 'G', 'F', 'E', 'D', 'C', 'B', 'A']\n",
    "\n",
    "    # Convert the matrix to a format suitable for Bokeh\n",
    "    heatmap_matrix = heatmap_matrix[::-1]  # Reverse the matrix to align with Bokeh's coordinate system\n",
    "    df = pd.DataFrame(heatmap_matrix, columns=x, index=y).stack().rename_axis(('y', 'x')).reset_index(name='value')\n",
    "    \n",
    "    # Create the Bokeh heatmap plot\n",
    "    colors = ['#f7fbff', '#deebf7', '#c6dbef', '#9ecae1', '#6baed6', '#4292c6', '#2171b5', '#08519c', '#08306b']\n",
    "    mapper = LinearColorMapper(palette=colors, low=df.value.min(), high=df.value.max())\n",
    "\n",
    "    p = figure(title=\"96-Well Plate Heatmap\", x_range=x, y_range=y, width=800, height=400,\n",
    "               toolbar_location=None, tools=\"\", x_axis_label=\"Columns\", y_axis_label=\"Rows\")\n",
    "    p.rect(x=\"x\", y=\"y\", width=1, height=1, source=df, fill_color=transform('value', mapper))\n",
    "\n",
    "    color_bar = ColorBar(color_mapper=mapper, location=(0, 0))\n",
    "    p.add_layout(color_bar, 'right')\n",
    "\n",
    "    layout = column(p, sizing_mode='scale_width')  # Use the Bokeh column layout for responsive width\n",
    "    output_notebook()\n",
    "    show(layout)\n",
    "\n",
    "    return p, df\n",
    "\n",
    "# Group by RBC\n",
    "grouped = heatmap_df.groupby(\"RBC\")\n",
    "\n",
    "# List to store all tabs\n",
    "tabs = []\n",
    "\n",
    "for rbc, group_df in grouped:\n",
    "    p, df = create_heatmap_for_rbc(group_df)\n",
    "    tab = TabPanel(child=p, title=rbc)\n",
    "    tabs.append(tab)\n",
    "\n",
    "# Combine all panels (tabs) into a Tabs widget\n",
    "tabs_widget = Tabs(tabs=tabs)\n",
    "\n",
    "output_notebook()\n",
    "show(tabs_widget, notebook_handle=True)"
   ]
  },
  {
   "cell_type": "code",
   "execution_count": null,
   "metadata": {},
   "outputs": [],
   "source": [
    "# Save widget as html\n",
    "from bokeh.io import output_file, save\n",
    "output_file(\"heatmap_trimmed.html\")\n",
    "save(tabs_widget)\n"
   ]
  },
  {
   "cell_type": "code",
   "execution_count": null,
   "metadata": {},
   "outputs": [],
   "source": [
    "output_file(\"heatmap_tabs.html\")\n"
   ]
  },
  {
   "cell_type": "code",
   "execution_count": 18,
   "metadata": {},
   "outputs": [
    {
     "data": {
      "text/plain": [
       "1"
      ]
     },
     "execution_count": 18,
     "metadata": {},
     "output_type": "execute_result"
    }
   ],
   "source": [
    "1 % 3"
   ]
  },
  {
   "cell_type": "code",
   "execution_count": 10,
   "metadata": {},
   "outputs": [],
   "source": [
    "from minION.analyse import get_variant_df, rename_barcode"
   ]
  },
  {
   "cell_type": "code",
   "execution_count": 3,
   "metadata": {},
   "outputs": [],
   "source": [
    "demultiplex_folder = os.path.join(result_folder, experiment_folder, \"demultiplex\")"
   ]
  },
  {
   "cell_type": "code",
   "execution_count": 14,
   "metadata": {},
   "outputs": [],
   "source": [
    "variant_df = pd.DataFrame(get_variant_df(demultiplex_folder, template_fasta, barcode_dicts))"
   ]
  },
  {
   "cell_type": "code",
   "execution_count": 15,
   "metadata": {},
   "outputs": [
    {
     "data": {
      "text/html": [
       "<div>\n",
       "<style scoped>\n",
       "    .dataframe tbody tr th:only-of-type {\n",
       "        vertical-align: middle;\n",
       "    }\n",
       "\n",
       "    .dataframe tbody tr th {\n",
       "        vertical-align: top;\n",
       "    }\n",
       "\n",
       "    .dataframe thead th {\n",
       "        text-align: right;\n",
       "    }\n",
       "</style>\n",
       "<table border=\"1\" class=\"dataframe\">\n",
       "  <thead>\n",
       "    <tr style=\"text-align: right;\">\n",
       "      <th></th>\n",
       "      <th>RBC</th>\n",
       "      <th>FBC</th>\n",
       "      <th>Position</th>\n",
       "      <th>Variant</th>\n",
       "    </tr>\n",
       "  </thead>\n",
       "  <tbody>\n",
       "    <tr>\n",
       "      <th>0</th>\n",
       "      <td>barcode03</td>\n",
       "      <td>barcode28</td>\n",
       "      <td>[485, 488, 490]</td>\n",
       "      <td>[A-&gt;G, A-&gt;C, G-&gt;C]</td>\n",
       "    </tr>\n",
       "    <tr>\n",
       "      <th>1</th>\n",
       "      <td>barcode03</td>\n",
       "      <td>barcode49</td>\n",
       "      <td>[55, 165, 368, 397, 485, 488, 490]</td>\n",
       "      <td>[G-&gt;A, A-&gt;C, A-&gt;C, G-&gt;A, A-&gt;G, A-&gt;C, G-&gt;C]</td>\n",
       "    </tr>\n",
       "    <tr>\n",
       "      <th>2</th>\n",
       "      <td>barcode03</td>\n",
       "      <td>barcode76</td>\n",
       "      <td>[146, 369, 478, 485, 490]</td>\n",
       "      <td>[G-&gt;A, G-&gt;A, G-&gt;A, A-&gt;G, G-&gt;C]</td>\n",
       "    </tr>\n",
       "    <tr>\n",
       "      <th>3</th>\n",
       "      <td>barcode03</td>\n",
       "      <td>barcode37</td>\n",
       "      <td>[119, 485, 488, 490, 517]</td>\n",
       "      <td>[T-&gt;A, A-&gt;G, A-&gt;C, G-&gt;C, A-&gt;G]</td>\n",
       "    </tr>\n",
       "    <tr>\n",
       "      <th>4</th>\n",
       "      <td>barcode03</td>\n",
       "      <td>barcode33</td>\n",
       "      <td>[397, 485, 488]</td>\n",
       "      <td>[G-&gt;A, A-&gt;G, A-&gt;C]</td>\n",
       "    </tr>\n",
       "    <tr>\n",
       "      <th>...</th>\n",
       "      <td>...</td>\n",
       "      <td>...</td>\n",
       "      <td>...</td>\n",
       "      <td>...</td>\n",
       "    </tr>\n",
       "    <tr>\n",
       "      <th>283</th>\n",
       "      <td>barcode01</td>\n",
       "      <td>barcode46</td>\n",
       "      <td>[55, 485, 488, 490]</td>\n",
       "      <td>[G-&gt;A, A-&gt;G, A-&gt;C, G-&gt;C]</td>\n",
       "    </tr>\n",
       "    <tr>\n",
       "      <th>284</th>\n",
       "      <td>barcode01</td>\n",
       "      <td>barcode43</td>\n",
       "      <td>[27, 39, 369, 485, 488]</td>\n",
       "      <td>[A-&gt;T, C-&gt;T, G-&gt;A, A-&gt;G, A-&gt;C]</td>\n",
       "    </tr>\n",
       "    <tr>\n",
       "      <th>285</th>\n",
       "      <td>barcode01</td>\n",
       "      <td>barcode55</td>\n",
       "      <td>[55, 369, 485, 488]</td>\n",
       "      <td>[G-&gt;A, G-&gt;A, A-&gt;G, A-&gt;C]</td>\n",
       "    </tr>\n",
       "    <tr>\n",
       "      <th>286</th>\n",
       "      <td>barcode01</td>\n",
       "      <td>barcode26</td>\n",
       "      <td>[46, 490]</td>\n",
       "      <td>[G-&gt;A, G-&gt;C]</td>\n",
       "    </tr>\n",
       "    <tr>\n",
       "      <th>287</th>\n",
       "      <td>barcode01</td>\n",
       "      <td>barcode52</td>\n",
       "      <td>[244, 368, 369, 485, 490]</td>\n",
       "      <td>[G-&gt;A, A-&gt;C, G-&gt;A, A-&gt;G, G-&gt;C]</td>\n",
       "    </tr>\n",
       "  </tbody>\n",
       "</table>\n",
       "<p>288 rows × 4 columns</p>\n",
       "</div>"
      ],
      "text/plain": [
       "           RBC        FBC                            Position  \\\n",
       "0    barcode03  barcode28                     [485, 488, 490]   \n",
       "1    barcode03  barcode49  [55, 165, 368, 397, 485, 488, 490]   \n",
       "2    barcode03  barcode76           [146, 369, 478, 485, 490]   \n",
       "3    barcode03  barcode37           [119, 485, 488, 490, 517]   \n",
       "4    barcode03  barcode33                     [397, 485, 488]   \n",
       "..         ...        ...                                 ...   \n",
       "283  barcode01  barcode46                 [55, 485, 488, 490]   \n",
       "284  barcode01  barcode43             [27, 39, 369, 485, 488]   \n",
       "285  barcode01  barcode55                 [55, 369, 485, 488]   \n",
       "286  barcode01  barcode26                           [46, 490]   \n",
       "287  barcode01  barcode52           [244, 368, 369, 485, 490]   \n",
       "\n",
       "                                        Variant  \n",
       "0                            [A->G, A->C, G->C]  \n",
       "1    [G->A, A->C, A->C, G->A, A->G, A->C, G->C]  \n",
       "2                [G->A, G->A, G->A, A->G, G->C]  \n",
       "3                [T->A, A->G, A->C, G->C, A->G]  \n",
       "4                            [G->A, A->G, A->C]  \n",
       "..                                          ...  \n",
       "283                    [G->A, A->G, A->C, G->C]  \n",
       "284              [A->T, C->T, G->A, A->G, A->C]  \n",
       "285                    [G->A, G->A, A->G, A->C]  \n",
       "286                                [G->A, G->C]  \n",
       "287              [G->A, A->C, G->A, A->G, G->C]  \n",
       "\n",
       "[288 rows x 4 columns]"
      ]
     },
     "execution_count": 15,
     "metadata": {},
     "output_type": "execute_result"
    }
   ],
   "source": [
    "variant_df"
   ]
  },
  {
   "cell_type": "code",
   "execution_count": 16,
   "metadata": {},
   "outputs": [],
   "source": [
    "variant_df = rename_barcode(variant_df)"
   ]
  },
  {
   "cell_type": "code",
   "execution_count": 19,
   "metadata": {},
   "outputs": [
    {
     "data": {
      "text/html": [
       "<div>\n",
       "<style scoped>\n",
       "    .dataframe tbody tr th:only-of-type {\n",
       "        vertical-align: middle;\n",
       "    }\n",
       "\n",
       "    .dataframe tbody tr th {\n",
       "        vertical-align: top;\n",
       "    }\n",
       "\n",
       "    .dataframe thead th {\n",
       "        text-align: right;\n",
       "    }\n",
       "</style>\n",
       "<table border=\"1\" class=\"dataframe\">\n",
       "  <thead>\n",
       "    <tr style=\"text-align: right;\">\n",
       "      <th></th>\n",
       "      <th>Plate</th>\n",
       "      <th>Well</th>\n",
       "      <th>Position</th>\n",
       "      <th>Variant</th>\n",
       "    </tr>\n",
       "  </thead>\n",
       "  <tbody>\n",
       "    <tr>\n",
       "      <th>192</th>\n",
       "      <td>1</td>\n",
       "      <td>C4</td>\n",
       "      <td>[369, 485, 488]</td>\n",
       "      <td>[G-&gt;A, A-&gt;G, A-&gt;C]</td>\n",
       "    </tr>\n",
       "    <tr>\n",
       "      <th>193</th>\n",
       "      <td>1</td>\n",
       "      <td>E1</td>\n",
       "      <td>[369, 485, 501]</td>\n",
       "      <td>[G-&gt;A, A-&gt;G, G-&gt;C]</td>\n",
       "    </tr>\n",
       "    <tr>\n",
       "      <th>194</th>\n",
       "      <td>1</td>\n",
       "      <td>G4</td>\n",
       "      <td>[52, 244, 369, 485, 488]</td>\n",
       "      <td>[T-&gt;C, G-&gt;A, G-&gt;A, A-&gt;G, A-&gt;C]</td>\n",
       "    </tr>\n",
       "    <tr>\n",
       "      <th>195</th>\n",
       "      <td>1</td>\n",
       "      <td>D1</td>\n",
       "      <td>[55, 186, 369, 485, 488, 490, 517]</td>\n",
       "      <td>[G-&gt;A, T-&gt;G, G-&gt;A, A-&gt;G, A-&gt;C, G-&gt;C, A-&gt;G]</td>\n",
       "    </tr>\n",
       "    <tr>\n",
       "      <th>196</th>\n",
       "      <td>1</td>\n",
       "      <td>C9</td>\n",
       "      <td>[55, 369, 485, 488, 490, 517]</td>\n",
       "      <td>[G-&gt;A, G-&gt;A, A-&gt;G, A-&gt;C, G-&gt;C, A-&gt;G]</td>\n",
       "    </tr>\n",
       "    <tr>\n",
       "      <th>...</th>\n",
       "      <td>...</td>\n",
       "      <td>...</td>\n",
       "      <td>...</td>\n",
       "      <td>...</td>\n",
       "    </tr>\n",
       "    <tr>\n",
       "      <th>283</th>\n",
       "      <td>1</td>\n",
       "      <td>D10</td>\n",
       "      <td>[55, 485, 488, 490]</td>\n",
       "      <td>[G-&gt;A, A-&gt;G, A-&gt;C, G-&gt;C]</td>\n",
       "    </tr>\n",
       "    <tr>\n",
       "      <th>284</th>\n",
       "      <td>1</td>\n",
       "      <td>D7</td>\n",
       "      <td>[27, 39, 369, 485, 488]</td>\n",
       "      <td>[A-&gt;T, C-&gt;T, G-&gt;A, A-&gt;G, A-&gt;C]</td>\n",
       "    </tr>\n",
       "    <tr>\n",
       "      <th>285</th>\n",
       "      <td>1</td>\n",
       "      <td>E7</td>\n",
       "      <td>[55, 369, 485, 488]</td>\n",
       "      <td>[G-&gt;A, G-&gt;A, A-&gt;G, A-&gt;C]</td>\n",
       "    </tr>\n",
       "    <tr>\n",
       "      <th>286</th>\n",
       "      <td>1</td>\n",
       "      <td>C2</td>\n",
       "      <td>[46, 490]</td>\n",
       "      <td>[G-&gt;A, G-&gt;C]</td>\n",
       "    </tr>\n",
       "    <tr>\n",
       "      <th>287</th>\n",
       "      <td>1</td>\n",
       "      <td>E4</td>\n",
       "      <td>[244, 368, 369, 485, 490]</td>\n",
       "      <td>[G-&gt;A, A-&gt;C, G-&gt;A, A-&gt;G, G-&gt;C]</td>\n",
       "    </tr>\n",
       "  </tbody>\n",
       "</table>\n",
       "<p>96 rows × 4 columns</p>\n",
       "</div>"
      ],
      "text/plain": [
       "     Plate Well                            Position  \\\n",
       "192      1   C4                     [369, 485, 488]   \n",
       "193      1   E1                     [369, 485, 501]   \n",
       "194      1   G4            [52, 244, 369, 485, 488]   \n",
       "195      1   D1  [55, 186, 369, 485, 488, 490, 517]   \n",
       "196      1   C9       [55, 369, 485, 488, 490, 517]   \n",
       "..     ...  ...                                 ...   \n",
       "283      1  D10                 [55, 485, 488, 490]   \n",
       "284      1   D7             [27, 39, 369, 485, 488]   \n",
       "285      1   E7                 [55, 369, 485, 488]   \n",
       "286      1   C2                           [46, 490]   \n",
       "287      1   E4           [244, 368, 369, 485, 490]   \n",
       "\n",
       "                                        Variant  \n",
       "192                          [G->A, A->G, A->C]  \n",
       "193                          [G->A, A->G, G->C]  \n",
       "194              [T->C, G->A, G->A, A->G, A->C]  \n",
       "195  [G->A, T->G, G->A, A->G, A->C, G->C, A->G]  \n",
       "196        [G->A, G->A, A->G, A->C, G->C, A->G]  \n",
       "..                                          ...  \n",
       "283                    [G->A, A->G, A->C, G->C]  \n",
       "284              [A->T, C->T, G->A, A->G, A->C]  \n",
       "285                    [G->A, G->A, A->G, A->C]  \n",
       "286                                [G->A, G->C]  \n",
       "287              [G->A, A->C, G->A, A->G, G->C]  \n",
       "\n",
       "[96 rows x 4 columns]"
      ]
     },
     "execution_count": 19,
     "metadata": {},
     "output_type": "execute_result"
    }
   ],
   "source": [
    "variant_df[variant_df[\"Plate\"] == 1]\n",
    "\n",
    "# Swap nucleotides if the quality score is below 40"
   ]
  },
  {
   "cell_type": "code",
   "execution_count": null,
   "metadata": {},
   "outputs": [],
   "source": [
    "from IPython.display import display, HTML\n",
    "import ipywidgets as widgets\n",
    "\n",
    "def toggle_code_cells(btn):\n",
    "    display(HTML('''<script>\n",
    "        code_show=!code_show;\n",
    "        if (code_show) {\n",
    "            $('div.input').show();\n",
    "        } else {\n",
    "            $('div.input').hide();\n",
    "        }\n",
    "        </script>\n",
    "        <form action=\"javascript:code_toggle()\"><input type=\"submit\" value=\"Click here to toggle on/off the raw code.\"></form>'''))\n",
    "\n",
    "btn = widgets.Button(description=\"Toggle Code Cells\")\n",
    "btn.on_click(toggle_code_cells)\n",
    "display(btn)\n"
   ]
  },
  {
   "cell_type": "code",
   "execution_count": null,
   "metadata": {},
   "outputs": [],
   "source": [
    "variant_df.to_csv(\"/home/emre/tutorials/streamlit/variant_df.csv\", index=False)"
   ]
  },
  {
   "cell_type": "code",
   "execution_count": null,
   "metadata": {},
   "outputs": [],
   "source": []
  }
 ],
 "metadata": {
  "kernelspec": {
   "display_name": "minion",
   "language": "python",
   "name": "python3"
  },
  "language_info": {
   "codemirror_mode": {
    "name": "ipython",
    "version": 3
   },
   "file_extension": ".py",
   "mimetype": "text/x-python",
   "name": "python",
   "nbconvert_exporter": "python",
   "pygments_lexer": "ipython3",
   "version": "3.9.0"
  },
  "orig_nbformat": 4
 },
 "nbformat": 4,
 "nbformat_minor": 2
}
