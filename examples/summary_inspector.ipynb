{
 "cells": [
  {
   "cell_type": "code",
   "execution_count": 1,
   "metadata": {},
   "outputs": [
    {
     "ename": "ImportError",
     "evalue": "cannot import name 'InstanceDefault' from 'bokeh.core.properties' (/home/emre/miniconda3/envs/minion/lib/python3.9/site-packages/bokeh/core/properties.py)",
     "output_type": "error",
     "traceback": [
      "\u001b[0;31m---------------------------------------------------------------------------\u001b[0m",
      "\u001b[0;31mImportError\u001b[0m                               Traceback (most recent call last)",
      "\u001b[1;32m/home/emre/github_repo/MinION/examples/summary_inspector.ipynb Cell 1\u001b[0m line \u001b[0;36m7\n\u001b[1;32m      <a href='vscode-notebook-cell://ssh-remote%2B131.215.228.108/home/emre/github_repo/MinION/examples/summary_inspector.ipynb#W0sdnNjb2RlLXJlbW90ZQ%3D%3D?line=4'>5</a>\u001b[0m \u001b[39mimport\u001b[39;00m \u001b[39mnumpy\u001b[39;00m \u001b[39mas\u001b[39;00m \u001b[39mnp\u001b[39;00m\n\u001b[1;32m      <a href='vscode-notebook-cell://ssh-remote%2B131.215.228.108/home/emre/github_repo/MinION/examples/summary_inspector.ipynb#W0sdnNjb2RlLXJlbW90ZQ%3D%3D?line=5'>6</a>\u001b[0m \u001b[39mimport\u001b[39;00m \u001b[39mbokeh\u001b[39;00m\n\u001b[0;32m----> <a href='vscode-notebook-cell://ssh-remote%2B131.215.228.108/home/emre/github_repo/MinION/examples/summary_inspector.ipynb#W0sdnNjb2RlLXJlbW90ZQ%3D%3D?line=6'>7</a>\u001b[0m \u001b[39mfrom\u001b[39;00m \u001b[39mholoviews\u001b[39;00m \u001b[39mimport\u001b[39;00m opts\n\u001b[1;32m      <a href='vscode-notebook-cell://ssh-remote%2B131.215.228.108/home/emre/github_repo/MinION/examples/summary_inspector.ipynb#W0sdnNjb2RlLXJlbW90ZQ%3D%3D?line=7'>8</a>\u001b[0m \u001b[39m#import holoviews as hv\u001b[39;00m\n\u001b[1;32m      <a href='vscode-notebook-cell://ssh-remote%2B131.215.228.108/home/emre/github_repo/MinION/examples/summary_inspector.ipynb#W0sdnNjb2RlLXJlbW90ZQ%3D%3D?line=8'>9</a>\u001b[0m \u001b[39m#hv.extension('bokeh', logo=False)\u001b[39;00m\n\u001b[1;32m     <a href='vscode-notebook-cell://ssh-remote%2B131.215.228.108/home/emre/github_repo/MinION/examples/summary_inspector.ipynb#W0sdnNjb2RlLXJlbW90ZQ%3D%3D?line=9'>10</a>\u001b[0m \u001b[39mimport\u001b[39;00m \u001b[39mseaborn\u001b[39;00m \u001b[39mas\u001b[39;00m \u001b[39msns\u001b[39;00m\n",
      "File \u001b[0;32m~/miniconda3/envs/minion/lib/python3.9/site-packages/holoviews/__init__.py:12\u001b[0m\n\u001b[1;32m      8\u001b[0m __version__ \u001b[39m=\u001b[39m \u001b[39mstr\u001b[39m(param\u001b[39m.\u001b[39mversion\u001b[39m.\u001b[39mVersion(fpath\u001b[39m=\u001b[39m\u001b[39m__file__\u001b[39m, archive_commit\u001b[39m=\u001b[39m\u001b[39m\"\u001b[39m\u001b[39m$Format:\u001b[39m\u001b[39m%\u001b[39m\u001b[39mh$\u001b[39m\u001b[39m\"\u001b[39m,\n\u001b[1;32m      9\u001b[0m                                         reponame\u001b[39m=\u001b[39m\u001b[39m\"\u001b[39m\u001b[39mholoviews\u001b[39m\u001b[39m\"\u001b[39m))\n\u001b[1;32m     11\u001b[0m \u001b[39mfrom\u001b[39;00m \u001b[39m.\u001b[39;00m \u001b[39mimport\u001b[39;00m util                                       \u001b[39m# noqa (API import)\u001b[39;00m\n\u001b[0;32m---> 12\u001b[0m \u001b[39mfrom\u001b[39;00m \u001b[39m.\u001b[39;00m\u001b[39mannotators\u001b[39;00m \u001b[39mimport\u001b[39;00m annotate                         \u001b[39m# noqa (API import)\u001b[39;00m\n\u001b[1;32m     13\u001b[0m \u001b[39mfrom\u001b[39;00m \u001b[39m.\u001b[39;00m\u001b[39mcore\u001b[39;00m \u001b[39mimport\u001b[39;00m archive, config                        \u001b[39m# noqa (API import)\u001b[39;00m\n\u001b[1;32m     14\u001b[0m \u001b[39mfrom\u001b[39;00m \u001b[39m.\u001b[39;00m\u001b[39mcore\u001b[39;00m\u001b[39m.\u001b[39;00m\u001b[39mboundingregion\u001b[39;00m \u001b[39mimport\u001b[39;00m BoundingBox             \u001b[39m# noqa (API import)\u001b[39;00m\n",
      "File \u001b[0;32m~/miniconda3/envs/minion/lib/python3.9/site-packages/holoviews/annotators.py:10\u001b[0m\n\u001b[1;32m      6\u001b[0m \u001b[39mfrom\u001b[39;00m \u001b[39minspect\u001b[39;00m \u001b[39mimport\u001b[39;00m getmro\n\u001b[1;32m      8\u001b[0m \u001b[39mimport\u001b[39;00m \u001b[39mparam\u001b[39;00m\n\u001b[0;32m---> 10\u001b[0m \u001b[39mfrom\u001b[39;00m \u001b[39mpanel\u001b[39;00m\u001b[39m.\u001b[39;00m\u001b[39mpane\u001b[39;00m \u001b[39mimport\u001b[39;00m PaneBase\n\u001b[1;32m     11\u001b[0m \u001b[39mfrom\u001b[39;00m \u001b[39mpanel\u001b[39;00m\u001b[39m.\u001b[39;00m\u001b[39mlayout\u001b[39;00m \u001b[39mimport\u001b[39;00m Row, Tabs\n\u001b[1;32m     12\u001b[0m \u001b[39mfrom\u001b[39;00m \u001b[39mpanel\u001b[39;00m\u001b[39m.\u001b[39;00m\u001b[39mutil\u001b[39;00m \u001b[39mimport\u001b[39;00m param_name\n",
      "File \u001b[0;32m~/miniconda3/envs/minion/lib/python3.9/site-packages/panel/__init__.py:1\u001b[0m\n\u001b[0;32m----> 1\u001b[0m \u001b[39mfrom\u001b[39;00m \u001b[39m.\u001b[39;00m \u001b[39mimport\u001b[39;00m layout \u001b[39m# noqa\u001b[39;00m\n\u001b[1;32m      2\u001b[0m \u001b[39mfrom\u001b[39;00m \u001b[39m.\u001b[39;00m \u001b[39mimport\u001b[39;00m links \u001b[39m# noqa\u001b[39;00m\n\u001b[1;32m      3\u001b[0m \u001b[39mfrom\u001b[39;00m \u001b[39m.\u001b[39;00m \u001b[39mimport\u001b[39;00m pane \u001b[39m# noqa\u001b[39;00m\n",
      "File \u001b[0;32m~/miniconda3/envs/minion/lib/python3.9/site-packages/panel/layout/__init__.py:1\u001b[0m\n\u001b[0;32m----> 1\u001b[0m \u001b[39mfrom\u001b[39;00m \u001b[39m.\u001b[39;00m\u001b[39maccordion\u001b[39;00m \u001b[39mimport\u001b[39;00m Accordion \u001b[39m# noqa\u001b[39;00m\n\u001b[1;32m      2\u001b[0m \u001b[39mfrom\u001b[39;00m \u001b[39m.\u001b[39;00m\u001b[39mbase\u001b[39;00m \u001b[39mimport\u001b[39;00m Column, ListLike, ListPanel, Panel, Row, WidgetBox \u001b[39m# noqa\u001b[39;00m\n\u001b[1;32m      3\u001b[0m \u001b[39mfrom\u001b[39;00m \u001b[39m.\u001b[39;00m\u001b[39mcard\u001b[39;00m \u001b[39mimport\u001b[39;00m Card \u001b[39m# noqa\u001b[39;00m\n",
      "File \u001b[0;32m~/miniconda3/envs/minion/lib/python3.9/site-packages/panel/layout/accordion.py:3\u001b[0m\n\u001b[1;32m      1\u001b[0m \u001b[39mimport\u001b[39;00m \u001b[39mparam\u001b[39;00m\n\u001b[0;32m----> 3\u001b[0m \u001b[39mfrom\u001b[39;00m \u001b[39mbokeh\u001b[39;00m\u001b[39m.\u001b[39;00m\u001b[39mmodels\u001b[39;00m \u001b[39mimport\u001b[39;00m Column \u001b[39mas\u001b[39;00m BkColumn, CustomJS\n\u001b[1;32m      5\u001b[0m \u001b[39mfrom\u001b[39;00m \u001b[39m.\u001b[39;00m\u001b[39mbase\u001b[39;00m \u001b[39mimport\u001b[39;00m NamedListPanel\n\u001b[1;32m      6\u001b[0m \u001b[39mfrom\u001b[39;00m \u001b[39m.\u001b[39;00m\u001b[39mcard\u001b[39;00m \u001b[39mimport\u001b[39;00m Card\n",
      "File \u001b[0;32m~/miniconda3/envs/minion/lib/python3.9/site-packages/bokeh/models/__init__.py:33\u001b[0m\n\u001b[1;32m     31\u001b[0m \u001b[39mfrom\u001b[39;00m \u001b[39m.\u001b[39;00m\u001b[39m.\u001b[39;00m\u001b[39mcore\u001b[39;00m\u001b[39m.\u001b[39;00m\u001b[39mproperty\u001b[39;00m\u001b[39m.\u001b[39;00m\u001b[39mdataspec\u001b[39;00m \u001b[39mimport\u001b[39;00m expr, field, value  \u001b[39m# Legacy API\u001b[39;00m\n\u001b[1;32m     32\u001b[0m \u001b[39mfrom\u001b[39;00m \u001b[39m.\u001b[39;00m\u001b[39m.\u001b[39;00m\u001b[39mmodel\u001b[39;00m \u001b[39mimport\u001b[39;00m Model\n\u001b[0;32m---> 33\u001b[0m \u001b[39mfrom\u001b[39;00m \u001b[39m.\u001b[39;00m\u001b[39mannotations\u001b[39;00m \u001b[39mimport\u001b[39;00m \u001b[39m*\u001b[39m\n\u001b[1;32m     34\u001b[0m \u001b[39mfrom\u001b[39;00m \u001b[39m.\u001b[39;00m\u001b[39marrow_heads\u001b[39;00m \u001b[39mimport\u001b[39;00m \u001b[39m*\u001b[39m\n\u001b[1;32m     35\u001b[0m \u001b[39mfrom\u001b[39;00m \u001b[39m.\u001b[39;00m\u001b[39maxes\u001b[39;00m \u001b[39mimport\u001b[39;00m \u001b[39m*\u001b[39m\n",
      "File \u001b[0;32m~/miniconda3/envs/minion/lib/python3.9/site-packages/bokeh/models/annotations/__init__.py:23\u001b[0m\n\u001b[1;32m     16\u001b[0m log \u001b[39m=\u001b[39m logging\u001b[39m.\u001b[39mgetLogger(\u001b[39m__name__\u001b[39m)\n\u001b[1;32m     18\u001b[0m \u001b[39m#-----------------------------------------------------------------------------\u001b[39;00m\n\u001b[1;32m     19\u001b[0m \u001b[39m# Imports\u001b[39;00m\n\u001b[1;32m     20\u001b[0m \u001b[39m#-----------------------------------------------------------------------------\u001b[39;00m\n\u001b[1;32m     21\u001b[0m \n\u001b[1;32m     22\u001b[0m \u001b[39m# Bokeh imports\u001b[39;00m\n\u001b[0;32m---> 23\u001b[0m \u001b[39mfrom\u001b[39;00m \u001b[39m.\u001b[39;00m \u001b[39mimport\u001b[39;00m (\n\u001b[1;32m     24\u001b[0m     annotation,\n\u001b[1;32m     25\u001b[0m     arrows,\n\u001b[1;32m     26\u001b[0m     geometry,\n\u001b[1;32m     27\u001b[0m     html,\n\u001b[1;32m     28\u001b[0m     labels,\n\u001b[1;32m     29\u001b[0m     legends,\n\u001b[1;32m     30\u001b[0m )\n\u001b[1;32m     31\u001b[0m \u001b[39mfrom\u001b[39;00m \u001b[39m.\u001b[39;00m\u001b[39mannotation\u001b[39;00m \u001b[39mimport\u001b[39;00m \u001b[39m*\u001b[39m\n\u001b[1;32m     32\u001b[0m \u001b[39mfrom\u001b[39;00m \u001b[39m.\u001b[39;00m\u001b[39marrows\u001b[39;00m \u001b[39mimport\u001b[39;00m \u001b[39m*\u001b[39m\n",
      "File \u001b[0;32m~/miniconda3/envs/minion/lib/python3.9/site-packages/bokeh/models/annotations/annotation.py:25\u001b[0m\n\u001b[1;32m     19\u001b[0m \u001b[39m#-----------------------------------------------------------------------------\u001b[39;00m\n\u001b[1;32m     20\u001b[0m \u001b[39m# Imports\u001b[39;00m\n\u001b[1;32m     21\u001b[0m \u001b[39m#-----------------------------------------------------------------------------\u001b[39;00m\n\u001b[1;32m     22\u001b[0m \n\u001b[1;32m     23\u001b[0m \u001b[39m# Bokeh imports\u001b[39;00m\n\u001b[1;32m     24\u001b[0m \u001b[39mfrom\u001b[39;00m \u001b[39m.\u001b[39;00m\u001b[39m.\u001b[39;00m\u001b[39m.\u001b[39;00m\u001b[39mcore\u001b[39;00m\u001b[39m.\u001b[39;00m\u001b[39mhas_props\u001b[39;00m \u001b[39mimport\u001b[39;00m abstract\n\u001b[0;32m---> 25\u001b[0m \u001b[39mfrom\u001b[39;00m \u001b[39m.\u001b[39;00m\u001b[39m.\u001b[39;00m\u001b[39m.\u001b[39;00m\u001b[39mcore\u001b[39;00m\u001b[39m.\u001b[39;00m\u001b[39mproperties\u001b[39;00m \u001b[39mimport\u001b[39;00m Instance, InstanceDefault, Override\n\u001b[1;32m     26\u001b[0m \u001b[39mfrom\u001b[39;00m \u001b[39m.\u001b[39;00m\u001b[39m.\u001b[39;00m\u001b[39mrenderers\u001b[39;00m \u001b[39mimport\u001b[39;00m Renderer\n\u001b[1;32m     27\u001b[0m \u001b[39mfrom\u001b[39;00m \u001b[39m.\u001b[39;00m\u001b[39m.\u001b[39;00m\u001b[39msources\u001b[39;00m \u001b[39mimport\u001b[39;00m ColumnDataSource, DataSource\n",
      "\u001b[0;31mImportError\u001b[0m: cannot import name 'InstanceDefault' from 'bokeh.core.properties' (/home/emre/miniconda3/envs/minion/lib/python3.9/site-packages/bokeh/core/properties.py)"
     ]
    }
   ],
   "source": [
    "import os \n",
    "import pandas as pd\n",
    "import bokeh\n",
    "from matplotlib import pyplot as plt\n",
    "import numpy as np\n",
    "#import bokeh\n",
    "from holoviews import opts\n",
    "#import holoviews as hv\n",
    "#hv.extension('bokeh', logo=False)\n",
    "import seaborn as sns"
   ]
  },
  {
   "cell_type": "code",
   "execution_count": null,
   "metadata": {},
   "outputs": [],
   "source": []
  },
  {
   "cell_type": "code",
   "execution_count": 4,
   "metadata": {},
   "outputs": [],
   "source": [
    "result_folder = \"/home/emre/minION_results\"\n",
    "experiment_folder = \"MinION_RBC_0902723_sup\"\n",
    "path = os.path.join(result_folder, experiment_folder, \"demultiplex2\", \"barcoding_summary.txt\")\n",
    "overall_summary = pd.read_csv(path, sep=\"\\t\")\n"
   ]
  },
  {
   "cell_type": "code",
   "execution_count": 1,
   "metadata": {},
   "outputs": [],
   "source": [
    "def barcode_score(summary):\n",
    "    frequencies, edges = np.histogram(summary[\"barcode_score\"], bins=100)\n",
    "    return hv.Histogram((edges, frequencies), label=\"Barcode Score Distribution\").opts(\n",
    "        opts.Histogram(color=\"red\", line_color=\"black\", alpha=0.5, width=600, height=400, tools=['hover'], xlabel=\"Barcode Score\", ylabel=\"Frequency\"))\n",
    "    \n",
    "def barcode_barplot(summary, barcode_id = \"barcode_arrangement\", ylim = None):\n",
    "    # Barplot of barcodes\n",
    "    barcodes = summary[barcode_id].value_counts().reset_index()\n",
    "    # Barplot of barcodes\n",
    "\n",
    "    if ylim is None:\n",
    "        return hv.Bars(barcodes, label=\"Barcode Frequency\").opts(\n",
    "        opts.Bars(color=\"red\", line_color=\"black\", alpha=0.5, width=600, height=400, tools=['hover'], xlabel=\"Barcode ID\", ylabel=\"Frequency\"))\n",
    "    else:\n",
    "        return hv.Bars(barcodes, label=\"Barcode Frequency\").opts(\n",
    "        opts.Bars(color=\"red\", line_color=\"black\", alpha=0.5, width=600, height=400, tools=['hover'], xlabel=\"Barcode ID\", ylabel=\"Frequency\", ylim=(0, 2000)))\n",
    "\n",
    "def barcode_arrangement(summary, plot = True):\n",
    "    barcode_arrangements = summary[\"barcode_arrangement\"].value_counts().reset_index() \n",
    "    # Barplot of barcodes\n",
    "    if plot:\n",
    "        return hv.Bars(barcode_arrangements, label=\"Barcode Frequency\").opts(\n",
    "        opts.Bars(color=\"red\", line_color=\"black\", alpha=0.5, width=600, height=400, tools=['hover'], xlabel=\"Barcode ID\", ylabel=\"Frequency\"))\n",
    "    else:\n",
    "        return barcode_arrangements\n",
    "    \n",
    "\n",
    "def barcode_score_plot(summary, barcode_id = \"barcode_arrangement\", ylim = None):\n",
    "    \"\"\"\n",
    "    Plot barcode score grouped by barcode arrangement\n",
    "    \"\"\"\n",
    "    sns.set(style=\"whitegrid\")\n",
    "    plt.figure(figsize=(10, 6))\n",
    "    ax = sns.histplot(data=summary, x=\"barcode_score\", hue=barcode_id, bins=100)\n",
    "    ax.set(xlabel=\"Barcode Score\", ylabel=\"Frequency\")\n",
    "    if ylim is not None:\n",
    "        ax.set(ylim=(0, ylim))\n",
    "    plt.show()\n",
    "\n",
    "\n",
    "\n"
   ]
  },
  {
   "cell_type": "code",
   "execution_count": null,
   "metadata": {},
   "outputs": [],
   "source": [
    "import plotly.express as px\n",
    "\n",
    "def barcode_score(summary):\n",
    "    fig = px.histogram(summary, x=\"barcode_score\", nbins=100, \n",
    "                       title=\"Barcode Score Distribution\", labels={'barcode_score': 'Barcode Score', 'count': 'Frequency'})\n",
    "    fig.update_traces(marker_color='red', marker_line_color='black', marker_line_width=1.5, opacity=0.5)\n",
    "    fig.update_layout(width=600, height=400)\n",
    "    return fig\n",
    "\n",
    "def barcode_barplot(summary, barcode_id=\"barcode_arrangement\", ylim=None):\n",
    "    barcodes = summary[barcode_id].value_counts().reset_index()\n",
    "    fig = px.bar(barcodes, x='barcode_arrangement', y=\"count\", \n",
    "                 title=\"Barcode Frequency\", labels={'index': 'Barcode ID', barcode_id: 'Frequency'})\n",
    "    fig.update_traces(marker_color='red', marker_line_color='black', marker_line_width=1.5, opacity=0.5)\n",
    "    fig.update_layout(width=600, height=400)\n",
    "\n",
    "    if ylim:\n",
    "        fig.update_layout(yaxis=dict(range=[0, ylim]))\n",
    "\n",
    "    return fig\n",
    "\n",
    "def barcode_arrangement(summary, plot=True):\n",
    "    barcode_arrangements = summary[\"barcode_arrangement\"].value_counts().reset_index()\n",
    "\n",
    "    if plot:\n",
    "        fig = px.bar(barcode_arrangements, x='barcode_score', y='barcode_arrangement', \n",
    "                     title=\"Barcode Frequency\", labels={'index': 'Barcode ID', 'barcode_arrangement': 'Frequency'})\n",
    "        fig.update_traces(marker_color='red', marker_line_color='black', marker_line_width=1.5, opacity=0.5)\n",
    "        fig.update_layout(width=600, height=400)\n",
    "        return fig\n",
    "    else:\n",
    "        return barcode_arrangements"
   ]
  },
  {
   "cell_type": "code",
   "execution_count": null,
   "metadata": {},
   "outputs": [],
   "source": [
    "overall_summary[\"barcode_arrangement\"].value_counts().reset_index()"
   ]
  },
  {
   "cell_type": "code",
   "execution_count": null,
   "metadata": {},
   "outputs": [],
   "source": [
    "overall_summary[overall_summary[\"barcode_arrangement\"] != \"unclassified\"]"
   ]
  },
  {
   "cell_type": "code",
   "execution_count": 5,
   "metadata": {},
   "outputs": [
    {
     "data": {
      "image/png": "[encoded data removed]",
      "text/plain": [
       "<Figure size 1000x600 with 1 Axes>"
      ]
     },
     "metadata": {},
     "output_type": "display_data"
    }
   ],
   "source": [
    "\n",
    "barcode_score_plot = barcode_score_plot(overall_summary)\n",
    "#barcode_barplot_plot = barcode_barplot(overall_summary)\n",
    "\n",
    "# Display plots side-by-side\n",
    "barcode_score_plot\n"
   ]
  },
  {
   "cell_type": "code",
   "execution_count": null,
   "metadata": {},
   "outputs": [],
   "source": [
    "barcode_barplot_plot = barcode_barplot(overall_summary)\n",
    "barcode_barplot_plot"
   ]
  },
  {
   "cell_type": "code",
   "execution_count": null,
   "metadata": {},
   "outputs": [],
   "source": [
    "# Front Barcode 1\n",
    "result_folder = \"/home/emre/minION_results\"\n",
    "path = os.path.join(result_folder, experiment_folder, \"demultiplex\", \"barcode03\", \"barcoding_summary.txt\")\n",
    "summary = pd.read_csv(path, sep=\"\\t\")\n",
    "#summary = summary[summary[\"barcode_arrangement\"] != \"unclassified\"]\n",
    "barcode_score_plot = barcode_score(summary)\n",
    "barcode_barplot_plot = barcode_barplot(summary)\n",
    "# Display plots side-by-side\n",
    "# combined_plot = (barcode_score_plot + barcode_barplot_plot).cols(2)\n",
    "# combined_plot"
   ]
  },
  {
   "cell_type": "code",
   "execution_count": null,
   "metadata": {},
   "outputs": [],
   "source": [
    "summary[\"barcode_arrangement\"].value_counts().reset_index()"
   ]
  },
  {
   "cell_type": "code",
   "execution_count": null,
   "metadata": {},
   "outputs": [],
   "source": [
    "# Front Barcode 1\n",
    "result_folder = \"/home/emre/minION_results\"\n",
    "path = os.path.join(result_folder, experiment_folder, \"demultiplex\", \"barcoding_summary.txt\")\n",
    "summary = pd.read_csv(path, sep=\"\\t\")\n",
    "#summary = summary[summary[\"barcode_arrangement\"] != \"unclassified\"]\n",
    "barcode_score_plot = barcode_score(summary)\n",
    "barcode_barplot_plot = barcode_barplot(summary)\n",
    "# Display plots side-by-side\n",
    "#combined_plot = (barcode_score_plot + barcode_barplot_plot).cols(2)\n",
    "#combined_plot"
   ]
  },
  {
   "cell_type": "code",
   "execution_count": null,
   "metadata": {},
   "outputs": [],
   "source": [
    "barcode_barplot_plot"
   ]
  },
  {
   "cell_type": "code",
   "execution_count": null,
   "metadata": {},
   "outputs": [],
   "source": [
    "barcode_barplot_plot"
   ]
  },
  {
   "cell_type": "code",
   "execution_count": null,
   "metadata": {},
   "outputs": [],
   "source": [
    "# Front Barcode 1\n",
    "result_folder = \"/home/emre/minION_results\"\n",
    "path = os.path.join(result_folder, experiment_folder, \"demultiplex\", \"barcode03\", \"barcoding_summary.txt\")\n",
    "summary = pd.read_csv(path, sep=\"\\t\")\n",
    "summary = summary[summary[\"barcode_arrangement\"] != \"unclassified\"]\n",
    "barcode_score_plot = barcode_score(summary)\n",
    "barcode_barplot_plot = barcode_barplot(summary)\n",
    "# Display plots side-by-side\n",
    "combined_plot = (barcode_score_plot + barcode_barplot_plot).cols(2)\n",
    "combined_plot"
   ]
  },
  {
   "cell_type": "code",
   "execution_count": null,
   "metadata": {},
   "outputs": [],
   "source": [
    "import sys\n",
    "sys.path.append(\"/home/emre/github_repo/MinION\")\n",
    "from minION.util.IO_processor import get_barcode_dict\n",
    "from minION import analyse\n",
    "import importlib\n",
    "importlib.reload(analyse)\n",
    "from uncertainties import ufloat \n",
    "\n",
    "\n",
    "template_fasta = \"/home/emre/github_repo/MinION/minION/refseq/hetcpiii.fasta\"\n",
    " \n",
    "demultiplex_folder = os.path.join(result_folder, experiment_folder, \"demultiplex\")\n",
    "\n",
    "barcode_dicts = get_barcode_dict(demultiplex_folder)"
   ]
  },
  {
   "cell_type": "code",
   "execution_count": null,
   "metadata": {},
   "outputs": [],
   "source": [
    "experiment = os.path.join(result_folder, experiment_folder)\n",
    "analyse.minION_summarise(experiment)\n"
   ]
  },
  {
   "cell_type": "code",
   "execution_count": null,
   "metadata": {},
   "outputs": [],
   "source": [
    "variant_df = analyse.get_variant_df(demultiplex_folder, template_fasta, sequences=True)"
   ]
  },
  {
   "cell_type": "code",
   "execution_count": null,
   "metadata": {},
   "outputs": [],
   "source": [
    "variant_df.head(20)"
   ]
  },
  {
   "cell_type": "code",
   "execution_count": null,
   "metadata": {},
   "outputs": [],
   "source": [
    "variant_df.to_csv(\"/home/emre/minION_results/variant_df_Jenni.csv\", index=False)\n"
   ]
  },
  {
   "cell_type": "code",
   "execution_count": null,
   "metadata": {},
   "outputs": [],
   "source": [
    "variant_df[variant_df[\"Position\"] != \"NA\"]"
   ]
  },
  {
   "cell_type": "code",
   "execution_count": null,
   "metadata": {},
   "outputs": [],
   "source": [
    "len(barcode_dicts.items())"
   ]
  },
  {
   "cell_type": "code",
   "execution_count": null,
   "metadata": {},
   "outputs": [],
   "source": [
    "for barcode_id, barcode_dict in barcode_dicts.items():\n",
    "    rbc = os.path.basename(barcode_id)\n",
    "    for front_barcode in barcode_dict:\n",
    "\n",
    "        fbc = os.path.basename(front_barcode)\n",
    "\n",
    "        fasta_file = os.path.join(front_barcode, \"final_consensus.fasta\")\n",
    "\n",
    "        consensus_aligned, template = analyse.align_sequences(fasta_file, template_fasta)\n",
    "    \n",
    "        consensus_swapped = analyse.swap_NN(template, consensus_aligned) # Swap if quality score is higher than min threshold\n",
    "\n",
    "        consensus_aa = analyse.translate_sequence(consensus_swapped[\"Sequence\"])\n",
    "\n",
    "        template_aa = analyse.translate_sequence(template)\n",
    "\n",
    "        #dna_variants = analyse.call_variant(template, consensus_swapped[\"Sequence\"])\n",
    "\n",
    "\n",
    "        if consensus_aa[\"Protein-Sequence\"][0] == template_aa[\"Protein-Sequence\"][0]:\n",
    "            print(\"No variant\")\n",
    "\n",
    "        aa_variants = analyse.call_variant(template_aa[\"Protein-Sequence\"][0], consensus_aa[\"Protein-Sequence\"][0])\n",
    "\n",
    "        print(aa_variants)\n",
    "\n"
   ]
  },
  {
   "cell_type": "code",
   "execution_count": null,
   "metadata": {},
   "outputs": [],
   "source": [
    "for barcode_id, barcode_dict in barcode_dicts.items():\n",
    "    rbc = os.path.basename(barcode_id)\n",
    "    for front_barcode in barcode_dict:\n",
    "            \n",
    "            template = analyse.get_template_sequence(template_fasta)\n",
    "\n",
    "            fasta_file = os.path.join(front_barcode, \"final_consensus.fasta\")\n",
    "\n",
    "            aa_seq = analyse.AA_seq(fasta_file, template_fasta)\n",
    "\n",
    "            print(\"Barcode ID: \", os.path.basename(barcode_id), \"Front Barcode: \", os.path.basename(front_barcode), \"Length: \", len(aa_seq[\"Sequence\"][0]))\n",
    "\n",
    "            if len(aa_seq[\"Sequence\"][0]) != len(analyse.get_template_sequence(template_fasta)):\n",
    "                \n",
    "                print(\"Barcode ID: \", os.path.basename(barcode_id), \"Front Barcode: \", os.path.basename(front_barcode), \"Length: \", len(aa_seq[\"Sequence\"][0]))\n",
    "                \n"
   ]
  },
  {
   "cell_type": "code",
   "execution_count": null,
   "metadata": {},
   "outputs": [],
   "source": [
    "# Initialize an empty list for heatmap data\n",
    "heatmap_data = []\n",
    "\n",
    "for barcode_id, barcode_dict in barcode_dicts.items():\n",
    "    print(barcode_id)\n",
    "    \n",
    "    # Assuming RBC is embedded in the directory name (basename)\n",
    "    RBC_name = os.path.basename(barcode_id)\n",
    "    \n",
    "    file = os.path.join(barcode_id, \"barcoding_summary.txt\")\n",
    "    summary = pd.read_csv(file, sep=\"\\t\")\n",
    "    barcode_arrangements = barcode_arrangement(summary, plot=False)\n",
    "    \n",
    "    # Filter out unclassified barcode arrangements\n",
    "    barcode_arrangements = barcode_arrangements[barcode_arrangements[\"barcode_arrangement\"] != \"unclassified\"]\n",
    "    \n",
    "    for _, row in barcode_arrangements.iterrows():\n",
    "        heatmap_data.append({\n",
    "            \"RBC\": RBC_name,\n",
    "            \"FBC\": row[\"barcode_arrangement\"],\n",
    "            \"Count\": row[\"count\"]\n",
    "        })\n",
    "\n",
    "# Convert the list of dicts to a dataframe\n",
    "heatmap_df = pd.DataFrame(heatmap_data)"
   ]
  },
  {
   "cell_type": "code",
   "execution_count": null,
   "metadata": {},
   "outputs": [],
   "source": [
    "import numpy as np\n",
    "from bokeh.plotting import figure, show, output_notebook\n",
    "from bokeh.models import ColorBar, LinearColorMapper\n",
    "from bokeh.transform import transform\n",
    "from bokeh.layouts import column\n",
    "from bokeh.models import TabPanel, Tabs\n",
    "from bokeh.layouts import layout\n",
    "from bokeh.io import push_notebook\n",
    "\n",
    "def create_heatmap_for_rbc(df):\n",
    "    # Define the shape of a 96-well plate\n",
    "    rows, cols = 8, 12\n",
    "    \n",
    "    # Convert FBC to numerical values (well positions)\n",
    "    df['WellNum'] = df['FBC'].str.replace(\"barcode\", \"\").astype(int)\n",
    "    \n",
    "    # Convert well number to row and col\n",
    "    df['Row'] = (df['WellNum'] - 1) // cols\n",
    "    df['Col'] = (df['WellNum'] - 1) % cols\n",
    "    \n",
    "    # Cap values to 1000\n",
    "    df['CappedCount'] = np.where(df['Count'] > 1000, 1000, df['Count'])\n",
    "\n",
    "    # Create an empty matrix for the heatmap values\n",
    "    heatmap_matrix = np.zeros((rows, cols))\n",
    "    for _, row in df.iterrows():\n",
    "        heatmap_matrix[row['Row'], row['Col']] = row['CappedCount']\n",
    "\n",
    "    # Define x and y labels\n",
    "    x = [str(i) for i in range(1, cols + 1)]\n",
    "    y = ['H', 'G', 'F', 'E', 'D', 'C', 'B', 'A']\n",
    "\n",
    "    # Convert the matrix to a format suitable for Bokeh\n",
    "    heatmap_matrix = heatmap_matrix[::-1]  # Reverse the matrix to align with Bokeh's coordinate system\n",
    "    df = pd.DataFrame(heatmap_matrix, columns=x, index=y).stack().rename_axis(('y', 'x')).reset_index(name='value')\n",
    "    \n",
    "    # Create the Bokeh heatmap plot\n",
    "    colors = ['#f7fbff', '#deebf7', '#c6dbef', '#9ecae1', '#6baed6', '#4292c6', '#2171b5', '#08519c', '#08306b']\n",
    "    mapper = LinearColorMapper(palette=colors, low=df.value.min(), high=df.value.max())\n",
    "\n",
    "    p = figure(title=\"96-Well Plate Heatmap\", x_range=x, y_range=y, width=800, height=400,\n",
    "               toolbar_location=None, tools=\"\", x_axis_label=\"Columns\", y_axis_label=\"Rows\")\n",
    "    p.rect(x=\"x\", y=\"y\", width=1, height=1, source=df, fill_color=transform('value', mapper))\n",
    "\n",
    "    color_bar = ColorBar(color_mapper=mapper, location=(0, 0))\n",
    "    p.add_layout(color_bar, 'right')\n",
    "\n",
    "    layout = column(p, sizing_mode='scale_width')  # Use the Bokeh column layout for responsive width\n",
    "    output_notebook()\n",
    "    show(layout)\n",
    "\n",
    "    return p, df\n",
    "\n",
    "# Group by RBC\n",
    "grouped = heatmap_df.groupby(\"RBC\")\n",
    "\n",
    "# List to store all tabs\n",
    "tabs = []\n",
    "\n",
    "for rbc, group_df in grouped:\n",
    "    p, df = create_heatmap_for_rbc(group_df)\n",
    "    tab = TabPanel(child=p, title=rbc)\n",
    "    tabs.append(tab)\n",
    "\n",
    "# Combine all panels (tabs) into a Tabs widget\n",
    "tabs_widget = Tabs(tabs=tabs)\n",
    "\n",
    "output_notebook()\n",
    "show(tabs_widget, notebook_handle=True)"
   ]
  },
  {
   "cell_type": "code",
   "execution_count": null,
   "metadata": {},
   "outputs": [],
   "source": [
    "# Save widget as html\n",
    "from bokeh.io import output_file, save\n",
    "output_file(\"heatmap_trimmed.html\")\n",
    "save(tabs_widget)\n"
   ]
  },
  {
   "cell_type": "code",
   "execution_count": null,
   "metadata": {},
   "outputs": [],
   "source": [
    "output_file(\"heatmap_tabs.html\")\n"
   ]
  },
  {
   "cell_type": "code",
   "execution_count": null,
   "metadata": {},
   "outputs": [],
   "source": [
    "from minION.analyse import get_variant_df, rename_barcode"
   ]
  },
  {
   "cell_type": "code",
   "execution_count": null,
   "metadata": {},
   "outputs": [],
   "source": [
    "demultiplex_folder = os.path.join(result_folder, experiment_folder, \"demultiplex\")"
   ]
  },
  {
   "cell_type": "code",
   "execution_count": null,
   "metadata": {},
   "outputs": [],
   "source": [
    "variant_df = pd.DataFrame(get_variant_df(demultiplex_folder, template_fasta, barcode_dicts))"
   ]
  },
  {
   "cell_type": "code",
   "execution_count": null,
   "metadata": {},
   "outputs": [],
   "source": [
    "variant_df"
   ]
  },
  {
   "cell_type": "code",
   "execution_count": null,
   "metadata": {},
   "outputs": [],
   "source": [
    "variant_df = rename_barcode(variant_df)"
   ]
  },
  {
   "cell_type": "code",
   "execution_count": null,
   "metadata": {},
   "outputs": [],
   "source": [
    "variant_df[variant_df[\"Plate\"] == 1]\n",
    "\n",
    "# Swap nucleotides if the quality score is below 40"
   ]
  },
  {
   "cell_type": "code",
   "execution_count": null,
   "metadata": {},
   "outputs": [],
   "source": [
    "from IPython.display import display, HTML\n",
    "import ipywidgets as widgets\n",
    "\n",
    "def toggle_code_cells(btn):\n",
    "    display(HTML('''<script>\n",
    "        code_show=!code_show;\n",
    "        if (code_show) {\n",
    "            $('div.input').show();\n",
    "        } else {\n",
    "            $('div.input').hide();\n",
    "        }\n",
    "        </script>\n",
    "        <form action=\"javascript:code_toggle()\"><input type=\"submit\" value=\"Click here to toggle on/off the raw code.\"></form>'''))\n",
    "\n",
    "btn = widgets.Button(description=\"Toggle Code Cells\")\n",
    "btn.on_click(toggle_code_cells)\n",
    "display(btn)\n"
   ]
  },
  {
   "cell_type": "code",
   "execution_count": null,
   "metadata": {},
   "outputs": [],
   "source": [
    "variant_df.to_csv(\"/home/emre/tutorials/streamlit/variant_df.csv\", index=False)"
   ]
  },
  {
   "cell_type": "code",
   "execution_count": null,
   "metadata": {},
   "outputs": [],
   "source": [
    "df = pd.read_csv(\"/home/emre/minION_results/test_parallel_sup/Masked_3RBC_sup_variant_df.csv\")"
   ]
  },
  {
   "cell_type": "code",
   "execution_count": null,
   "metadata": {},
   "outputs": [],
   "source": [
    "df"
   ]
  },
  {
   "cell_type": "code",
   "execution_count": null,
   "metadata": {},
   "outputs": [],
   "source": []
  }
 ],
 "metadata": {
  "kernelspec": {
   "display_name": "minion",
   "language": "python",
   "name": "python3"
  },
  "language_info": {
   "codemirror_mode": {
    "name": "ipython",
    "version": 3
   },
   "file_extension": ".py",
   "mimetype": "text/x-python",
   "name": "python",
   "nbconvert_exporter": "python",
   "pygments_lexer": "ipython3",
   "version": "3.9.12"
  },
  "orig_nbformat": 4
 },
 "nbformat": 4,
 "nbformat_minor": 2
}
