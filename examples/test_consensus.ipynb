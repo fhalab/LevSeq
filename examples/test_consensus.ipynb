{
 "cells": [
  {
   "cell_type": "markdown",
   "metadata": {},
   "source": [
    "# Variant calling with bcftools and custom function\n",
    "\n",
    "- Bcftools creates pileup from bam file, which in our case was generated using minimap2. To the variant calling, custom thresholds can be set.\n",
    "\n",
    "### Goal of the analysis\n",
    "\n",
    "- Identify variants based on quality (e.g Phred quality score) & Alignment frequency\n",
    "- If there are multiple variants, check which occur together and which are seperated (mixed population).\n",
    "- Check if the variant is an actual variant or sequencing error\n"
   ]
  },
  {
   "cell_type": "code",
   "execution_count": 46,
   "metadata": {},
   "outputs": [
    {
     "data": {
      "text/plain": [
       "<module 'minION.consensus' from '/home/emre/github_repo/MinION/minION/consensus.py'>"
      ]
     },
     "execution_count": 46,
     "metadata": {},
     "output_type": "execute_result"
    }
   ],
   "source": [
    "import sys\n",
    "import os\n",
    "import importlib\n",
    "import pandas as pd\n",
    "import numpy as np\n",
    "import seaborn as sns\n",
    "import pysam \n",
    "import subprocess\n",
    "from pathlib import Path\n",
    "from uncertainties import ufloat\n",
    "from collections import Counter\n",
    "from matplotlib import pyplot as plt\n",
    "from itertools import combinations\n",
    "from scipy.stats import chi2_contingency, fisher_exact\n",
    "\n",
    "\n",
    "sys.path.append(\"/home/emre/github_repo/MinION\")\n",
    "\n",
    "from minION import analyser\n",
    "from minION import consensus\n",
    "from minION.util import IO_processor\n",
    "importlib.reload(IO_processor)\n",
    "importlib.reload(analyser)\n",
    "importlib.reload(consensus)"
   ]
  },
  {
   "cell_type": "code",
   "execution_count": 4,
   "metadata": {},
   "outputs": [],
   "source": [
    "def call_and_filter_vcf(input_path, reference, allele_frequency):\n",
    "    \"\"\" Uses bcftools to call variants and filter them based on allele frequency.\n",
    "    Args:\n",
    "        - input_path (str): Path to the input files.\n",
    "        - reference (str): Path to the reference genome.\n",
    "        - allele_frequency (float): Allele frequency threshold.\n",
    "    Returns:\n",
    "        - Subprocess run\n",
    "    \"\"\"\n",
    "    \n",
    "    \n",
    "    prompt_pileup = f\"bcftools mpileup -d 4000 -Ou -f {reference}  {input_path}/alignment.bam > {input_path}/pileup.bcf\"\n",
    "\n",
    "    prompt_call = f\"bcftools call -mv -Ob -o {input_path}/raw_variants.bcf {input_path}/pileup.bcf\"\n",
    "\n",
    "    prompt_view = f\"bcftools view -i 'INFO/AF>{allele_frequency}' -Ob -o {input_path}/filtered_variants.vcf {input_path}/raw_variants.bcf\"\n",
    "\n",
    "\n",
    "    subprocess.run(prompt_pileup, shell=True)\n",
    "\n",
    "    subprocess.run(prompt_call, shell=True)\n",
    "\n",
    "    subprocess.run(prompt_view, shell=True)\n",
    "\n",
    "    print(f\"Variant calling and filtering completed. Output saved to {input_path}/raw_variants_python.bcf\")\n",
    "\n",
    "\n",
    "def extract_positions_from_vcf(vcf_file : str) -> list:\n",
    "    \"\"\" Extracts the positions of the variants from a VCF file.\n",
    "    Args:\n",
    "        - vcf_file (str): Path to the VCF file. \n",
    "    Returns:\n",
    "        - positions (list): List of variant positions.\n",
    "    \"\"\"\n",
    "    positions = []\n",
    " \n",
    "    vcf = pysam.VariantFile(vcf_file)\n",
    "\n",
    "    for record in vcf:\n",
    "        positions.append(record.pos)\n",
    "    \n",
    "    vcf.close()\n",
    "\n",
    "    return positions\n",
    "\n",
    "def extract_mutations_from_vcf(vcf_file):\n",
    "    \"\"\" Extracts the mutations from a VCF file.\n",
    "    Args:\n",
    "        - vcf_file (str): Path to the VCF file.\n",
    "    Returns:\n",
    "        - formatted_mutations (str): Formatted mutations (e.g A100T_G223C).\n",
    "    \"\"\"\n",
    "\n",
    "    mutations = []\n",
    "\n",
    "    vcf = pysam.VariantFile(vcf_file)\n",
    "\n",
    "    for record in vcf:\n",
    "\n",
    "        ref_allele = record.ref\n",
    "        alt_alleles = record.alts\n",
    "\n",
    "        for alt_allele in alt_alleles:\n",
    "            position = record.pos\n",
    "            mutation = f\"{ref_allele}{position}{alt_allele}\"\n",
    "            mutations.append(mutation)\n",
    "\n",
    "    vcf.close()\n",
    "\n",
    "    formatted_mutations = \"_\".join(mutations)\n",
    "\n",
    "    return formatted_mutations\n",
    "\n",
    "\n",
    "def get_base_counts_at_position(bam_file, chrom, position):\n",
    "    \"\"\"\n",
    "    Extract unique bases and gaps (deletions) and their counts from a BAM file \n",
    "    at a specific position using pileup.\n",
    "    \n",
    "    Args:\n",
    "    - bam_file (str): path to the BAM file.\n",
    "    - chrom (str): chromosome or contig name.\n",
    "    - position (int): 1-based position to extract bases from.\n",
    "\n",
    "    Returns:\n",
    "    - dict: unique bases and gaps with their counts at the specified position.\n",
    "    \"\"\"\n",
    "    \n",
    "    bases = []\n",
    "\n",
    "    \n",
    "    with pysam.AlignmentFile(bam_file, 'rb') as bam:\n",
    "        for pileup_column in bam.pileup(chrom, position - 1, position, \n",
    "                                        min_base_quality=0, \n",
    "                                        min_mapping_quality=0, \n",
    "                                        truncate=True):\n",
    "            if pileup_column.pos == position - 1: \n",
    "                for pileup_read in pileup_column.pileups:\n",
    "                    if pileup_read.is_del:\n",
    "                        bases.append(\"-\")  \n",
    "                    elif not pileup_read.is_refskip:\n",
    "                        bases.append(pileup_read.alignment.query_sequence[pileup_read.query_position])\n",
    "\n",
    "    base_counts = Counter(bases)\n",
    "\n",
    "    return base_counts\n",
    "\n",
    "\n",
    "def generate_heatmap_data(bam_file, chrom, positions):\n",
    "    data = []\n",
    "    all_bases = set(['A', 'T', 'C', 'G', '-'])\n",
    "    for position in positions:\n",
    "        base_counts = get_base_counts_at_position(bam_file, chrom, position)\n",
    "        col = [base_counts.get(base, 0) for base in all_bases]\n",
    "        data.append(col)\n",
    "    df = pd.DataFrame(data, index=positions, columns=list(all_bases))\n",
    "    # Order as in all_bases\n",
    "    # TODO: Specify if a character if it is an actual gap or no coverage\n",
    "    df = df[['A', 'T', 'C', 'G', '-']]\n",
    "    return df\n",
    "\n",
    "\n",
    "\n",
    "\n",
    "def get_most_common_base(position, heatmap_data, ref_base):\n",
    "    non_ref_data = heatmap_data.loc[position].drop(ref_base)\n",
    "    return non_ref_data.idxmax(), non_ref_data.max()\n",
    "\n",
    "\n",
    "\n",
    "def get_bases_from_pileup(bam_file, chrom, positions):\n",
    "    bases_dict = {position: {} for position in positions}\n",
    "    \n",
    "    with pysam.AlignmentFile(bam_file, 'rb') as bam:\n",
    "        for pileup_column in bam.pileup(chrom, min(positions) - 1, max(positions) + 1,\n",
    "                                        min_base_quality=0, \n",
    "                                        min_mapping_quality=0, \n",
    "                                        truncate=True):\n",
    "            if pileup_column.pos + 1 in positions:\n",
    "                for pileup_read in pileup_column.pileups:\n",
    "                    if not pileup_read.is_del and not pileup_read.is_refskip:\n",
    "                        base = pileup_read.alignment.query_sequence[pileup_read.query_position]\n",
    "                        read_name = pileup_read.alignment.query_name\n",
    "                        # Check if the read name is already added to the bases_dict for that position\n",
    "                        if read_name not in bases_dict[pileup_column.pos + 1]:\n",
    "                            bases_dict[pileup_column.pos + 1][read_name] = base\n",
    "\n",
    "    # Get unique read names and sort them to have a consistent order\n",
    "    read_names = sorted(set().union(*[bases_dict[pos].keys() for pos in bases_dict]))\n",
    "\n",
    "    # Create DataFrame\n",
    "    df = pd.DataFrame(index=read_names, columns=positions)\n",
    "    \n",
    "    # Populate DataFrame\n",
    "    for pos in positions:\n",
    "        for read_name, base in bases_dict[pos].items():\n",
    "            df.at[read_name, pos] = base\n",
    "    \n",
    "    # Fill NaN with \"-\"\n",
    "    df = df.fillna(\"-\")\n",
    "\n",
    "    return df"
   ]
  },
  {
   "cell_type": "code",
   "execution_count": 5,
   "metadata": {},
   "outputs": [
    {
     "name": "stdout",
     "output_type": "stream",
     "text": [
      "Variant calling and filtering completed. Output saved to /home/emre/minION_results/TamLQV96_sup/Demultiplex_cpp_70/RB03/NB09/consensus/raw_variants_python.bcf\n"
     ]
    },
    {
     "name": "stderr",
     "output_type": "stream",
     "text": [
      "[mpileup] 1 samples in 1 input files\n",
      "[mpileup] maximum number of reads per input file set to -d 4000\n",
      "Note: none of --samples-file, --ploidy or --ploidy-file given, assuming all sites are diploid\n"
     ]
    }
   ],
   "source": [
    "barcodes = IO_processor.get_barcode_dict(Path(\"/home/emre/minION_results/MinION_RBC_0902723_sup/Demultiplex_cpp_70_short\"))\n",
    "#path_to_bam = \"/home/emre/minION_results/MinION_RBC_0902723_sup/Demultiplex_cpp_70_short/RB03/NB08/consensus\"\n",
    "path_to_bam = \"/home/emre/minION_results/TamLQV96_sup/Demultiplex_cpp_70/RB03/NB09/consensus\"\n",
    "#template_fasta = \"/home/emre/github_repo/MinION/minION/refseq/hetcpiii.fasta\"\n",
    "template_fasta = Path(\"/home/emre/tam-lqv.fasta\")\n",
    "output_vcf = f\"{path_to_bam}/raw_variants.vcf\"\n",
    "#consensus.get_consensus(Path(path_to_bam), Path(template_fasta))\n",
    "call_and_filter_vcf(path_to_bam, template_fasta, 0.4)\n"
   ]
  },
  {
   "cell_type": "code",
   "execution_count": 66,
   "metadata": {},
   "outputs": [
    {
     "data": {
      "text/plain": [
       "'A158G_G346A_C417T_C481T_T530A'"
      ]
     },
     "execution_count": 66,
     "metadata": {},
     "output_type": "execute_result"
    }
   ],
   "source": [
    "extract_mutations_from_vcf(f'{path_to_bam}/filtered_variants.vcf')"
   ]
  },
  {
   "cell_type": "code",
   "execution_count": 67,
   "metadata": {},
   "outputs": [],
   "source": [
    "nb_positions = extract_positions_from_vcf(f'{path_to_bam}/filtered_variants.vcf')"
   ]
  },
  {
   "cell_type": "code",
   "execution_count": 6,
   "metadata": {},
   "outputs": [],
   "source": [
    "bam_file = f'{path_to_bam}/alignment.bam'"
   ]
  },
  {
   "cell_type": "code",
   "execution_count": 7,
   "metadata": {},
   "outputs": [
    {
     "data": {
      "text/plain": [
       "Counter({'A': 430})"
      ]
     },
     "execution_count": 7,
     "metadata": {},
     "output_type": "execute_result"
    }
   ],
   "source": [
    "#reference = \"HetCPIII\"\n",
    "reference = \"Tam-LQV\"  \n",
    "position_to_check = 1  \n",
    "bases_at_position = get_base_counts_at_position(bam_file, reference, position_to_check)\n",
    "bases_at_position"
   ]
  },
  {
   "cell_type": "code",
   "execution_count": 70,
   "metadata": {},
   "outputs": [],
   "source": [
    "#heatmap_data = generate_heatmap_data(bam_file, reference, 1, 100)\n",
    "heatmap_data = generate_heatmap_data(bam_file, reference, nb_positions)"
   ]
  },
  {
   "cell_type": "code",
   "execution_count": 71,
   "metadata": {},
   "outputs": [
    {
     "data": {
      "text/html": [
       "<div>\n",
       "<style scoped>\n",
       "    .dataframe tbody tr th:only-of-type {\n",
       "        vertical-align: middle;\n",
       "    }\n",
       "\n",
       "    .dataframe tbody tr th {\n",
       "        vertical-align: top;\n",
       "    }\n",
       "\n",
       "    .dataframe thead th {\n",
       "        text-align: right;\n",
       "    }\n",
       "</style>\n",
       "<table border=\"1\" class=\"dataframe\">\n",
       "  <thead>\n",
       "    <tr style=\"text-align: right;\">\n",
       "      <th></th>\n",
       "      <th>A</th>\n",
       "      <th>T</th>\n",
       "      <th>C</th>\n",
       "      <th>G</th>\n",
       "      <th>-</th>\n",
       "    </tr>\n",
       "  </thead>\n",
       "  <tbody>\n",
       "    <tr>\n",
       "      <th>158</th>\n",
       "      <td>14</td>\n",
       "      <td>1</td>\n",
       "      <td>3</td>\n",
       "      <td>444</td>\n",
       "      <td>15</td>\n",
       "    </tr>\n",
       "    <tr>\n",
       "      <th>346</th>\n",
       "      <td>460</td>\n",
       "      <td>0</td>\n",
       "      <td>4</td>\n",
       "      <td>9</td>\n",
       "      <td>4</td>\n",
       "    </tr>\n",
       "    <tr>\n",
       "      <th>417</th>\n",
       "      <td>1</td>\n",
       "      <td>463</td>\n",
       "      <td>6</td>\n",
       "      <td>0</td>\n",
       "      <td>7</td>\n",
       "    </tr>\n",
       "    <tr>\n",
       "      <th>481</th>\n",
       "      <td>7</td>\n",
       "      <td>447</td>\n",
       "      <td>10</td>\n",
       "      <td>8</td>\n",
       "      <td>5</td>\n",
       "    </tr>\n",
       "    <tr>\n",
       "      <th>530</th>\n",
       "      <td>463</td>\n",
       "      <td>5</td>\n",
       "      <td>1</td>\n",
       "      <td>1</td>\n",
       "      <td>7</td>\n",
       "    </tr>\n",
       "  </tbody>\n",
       "</table>\n",
       "</div>"
      ],
      "text/plain": [
       "       A    T   C    G   -\n",
       "158   14    1   3  444  15\n",
       "346  460    0   4    9   4\n",
       "417    1  463   6    0   7\n",
       "481    7  447  10    8   5\n",
       "530  463    5   1    1   7"
      ]
     },
     "execution_count": 71,
     "metadata": {},
     "output_type": "execute_result"
    }
   ],
   "source": [
    "heatmap_data"
   ]
  },
  {
   "cell_type": "code",
   "execution_count": 45,
   "metadata": {},
   "outputs": [
    {
     "data": {
      "image/png": "[encoded data removed]",
      "text/plain": [
       "<Figure size 700x400 with 2 Axes>"
      ]
     },
     "metadata": {},
     "output_type": "display_data"
    }
   ],
   "source": [
    "\n",
    "template = analyser.get_template_sequence(template_fasta)\n",
    "\n",
    "# Plotting\n",
    "plt.figure(figsize=(7, 4))\n",
    "sns.heatmap(heatmap_data, \n",
    "            annot=False, \n",
    "            cmap='YlGnBu', \n",
    "            cbar_kws={'label': 'Count'}, \n",
    "            linewidths=0.5, \n",
    "            linecolor='white')\n",
    "plt.title(\"Base Counts per Position\")\n",
    "plt.xlabel(\"Bases\")\n",
    "plt.ylabel(\"Position\")\n",
    "plt.show()"
   ]
  },
  {
   "cell_type": "code",
   "execution_count": 10,
   "metadata": {},
   "outputs": [],
   "source": [
    "ref_seq = analyser.get_template_sequence(template_fasta)\n",
    "#freq_dist = pd.DataFrame(get_highest_non_ref_base_freq(bam_file, reference, range(1,len(ref_seq)), ref_seq)).T"
   ]
  },
  {
   "cell_type": "code",
   "execution_count": 76,
   "metadata": {},
   "outputs": [],
   "source": [
    "# Replace NaN value with \"T\"\n",
    "freq_dist[0] = freq_dist[0].fillna(\"T\")"
   ]
  },
  {
   "cell_type": "code",
   "execution_count": 77,
   "metadata": {},
   "outputs": [
    {
     "data": {
      "image/png": "[encoded data removed]",
      "text/plain": [
       "<Figure size 1400x700 with 1 Axes>"
      ]
     },
     "metadata": {},
     "output_type": "display_data"
    }
   ],
   "source": [
    "colors_for_bases = {\"-\" : \"grey\", \"A\" : \"red\", \"T\" : \"blue\", \"C\" : \"green\", \"G\" : \"yellow\", \"None\" : \"black\"}\n",
    "\n",
    "freq_dist = freq_dist.rename(columns={0:\"Base\", 1:\"Frequency\"})\n",
    "\n",
    "freq_dist[\"Base\"] = freq_dist[\"Base\"].fillna(\"None\")\n",
    "\n",
    "freq_dist = freq_dist.dropna()\n",
    "\n",
    "freq_dist[\"Color\"] = freq_dist[\"Base\"].map(colors_for_bases)\n",
    "\n",
    "\n",
    "# Plotting\n",
    "plt.figure(figsize=(14, 7))\n",
    "sns.barplot(x=freq_dist.index, y=freq_dist[\"Frequency\"], palette=freq_dist[\"Color\"])\n",
    "plt.title(\"Highest Non-Reference Base Frequency \")\n",
    "plt.xticks([])\n",
    "plt.xlabel(\"Positions\")\n",
    "plt.ylabel(\"Frequency\")\n",
    "# TODO Add horizontal line at 2 mean std deviation\n",
    "plt.axhline(y=0.3, color='b', linestyle='--')\n",
    "# TODO Add legend for bases\n",
    "for index, row in freq_dist.iterrows():\n",
    "    if row[\"Frequency\"] > 0.3:\n",
    "        plt.text(index, row[\"Frequency\"], f\"{index}{row['Base']}\", color='black', ha=\"center\", va='bottom')\n",
    "\n",
    "plt.show()\n",
    "\n",
    "#plt.savefig(\"/home/emre/minION_results/MinION_RBC_0902723_sup/variant_freq_RB02_NB10.png\")\n"
   ]
  },
  {
   "cell_type": "code",
   "execution_count": 93,
   "metadata": {},
   "outputs": [
    {
     "name": "stdout",
     "output_type": "stream",
     "text": [
      "Contingency Table for pair (158, 346)\n",
      "         B  Not B\n",
      "A      433     29\n",
      "Not A   13      4\n",
      "P-value: 0.023162698833070466\n",
      "Contingency Table for pair (158, 417)\n",
      "         B  Not B\n",
      "A      433     32\n",
      "Not A   13      3\n",
      "P-value: 0.19102655158800785\n",
      "Contingency Table for pair (158, 481)\n",
      "         B  Not B\n",
      "A      419     30\n",
      "Not A   27      5\n",
      "P-value: 0.12611271949080302\n",
      "Contingency Table for pair (158, 530)\n",
      "         B  Not B\n",
      "A      433     32\n",
      "Not A   13      3\n",
      "P-value: 0.19102655158800785\n",
      "Contingency Table for pair (346, 417)\n",
      "         B  Not B\n",
      "A      450     15\n",
      "Not A   12      4\n",
      "P-value: 0.00018127445851584453\n",
      "Contingency Table for pair (346, 481)\n",
      "         B  Not B\n",
      "A      434     15\n",
      "Not A   28      4\n",
      "P-value: 0.03570004760700291\n",
      "Contingency Table for pair (346, 530)\n",
      "         B  Not B\n",
      "A      451     14\n",
      "Not A   11      5\n",
      "P-value: 4.437887336823507e-07\n",
      "Contingency Table for pair (417, 481)\n",
      "         B  Not B\n",
      "A      439     10\n",
      "Not A   26      6\n",
      "P-value: 6.021136159840702e-06\n",
      "Contingency Table for pair (417, 530)\n",
      "         B  Not B\n",
      "A      453     12\n",
      "Not A   12      4\n",
      "P-value: 2.576409947976356e-05\n",
      "Contingency Table for pair (481, 530)\n",
      "         B  Not B\n",
      "A      438     27\n",
      "Not A   11      5\n",
      "P-value: 0.00045603515151247854\n"
     ]
    },
    {
     "data": {
      "image/png": "[encoded data removed]",
      "text/plain": [
       "<Figure size 600x400 with 2 Axes>"
      ]
     },
     "metadata": {},
     "output_type": "display_data"
    }
   ],
   "source": [
    "# Calculate for each pair chi-squared test\n",
    "nb_positions = extract_positions_from_vcf(f'{path_to_bam}/filtered_variants.vcf')\n",
    "comb = list(combinations(nb_positions, 2))\n",
    "heatmap_data = generate_heatmap_data(bam_file, reference, nb_positions)\n",
    "\n",
    "# Initialize a matrix with zeros for storing the -log10(p-values)\n",
    "pval_matrix = np.zeros((len(nb_positions), len(nb_positions)))\n",
    "odds_ratio_matrix = np.zeros((len(nb_positions), len(nb_positions)))\n",
    "\n",
    "\n",
    "for pair in comb:\n",
    "    \n",
    "    max_nucleotide_pair1, _ = get_most_common_base(pair[0], heatmap_data, template[pair[0] - 1])\n",
    "    max_nucleotide_pair2, _ = get_most_common_base(pair[1], heatmap_data, template[pair[1] - 1])\n",
    "\n",
    "    bases_df = get_bases_from_pileup(bam_file, reference, pair)\n",
    "\n",
    "    A_and_B = len(bases_df[(bases_df[pair[0]] == max_nucleotide_pair1) & (bases_df[pair[1]] == max_nucleotide_pair2)])\n",
    "    A_wo_B = len(bases_df[(bases_df[pair[0]] == max_nucleotide_pair1) & (bases_df[pair[1]] != max_nucleotide_pair2)])\n",
    "    B_wo_A = len(bases_df[(bases_df[pair[0]] != max_nucleotide_pair1) & (bases_df[pair[1]] == max_nucleotide_pair2)])\n",
    "    wo_A_and_B = len(bases_df[(bases_df[pair[0]] != max_nucleotide_pair1) & (bases_df[pair[1]] != max_nucleotide_pair2)])\n",
    "\n",
    "\n",
    "\n",
    "    contingency_table = pd.DataFrame({\n",
    "        'B': [A_and_B, A_wo_B],\n",
    "        'Not B': [B_wo_A, wo_A_and_B]\n",
    "    }, index=['A', 'Not A'])\n",
    "\n",
    "    # Laplaci correction\n",
    "    contingency_table += 1\n",
    "\n",
    "    #chi2, p_value, _, _ = chi2_contingency(contingency_table)\n",
    "\n",
    "    # Fisher's exact test\n",
    "    #oddsratio, p_value = fisher_exact(contingency_table)\n",
    "\n",
    "    # Chi-squared test\n",
    "    oddsratio, p_value, _, _ = chi2_contingency(contingency_table)\n",
    "\n",
    "    oddsratio = np.log2(oddsratio)\n",
    "    odds_ratio_matrix[nb_positions.index(pair[0])][nb_positions.index(pair[1])] = oddsratio\n",
    "\n",
    "\n",
    "    print(\"Contingency Table for pair\", pair)\n",
    "    print(contingency_table)\n",
    "    print(\"P-value:\", p_value)\n",
    "\n",
    "    neg_log_p_value = -np.log10(p_value)\n",
    "\n",
    "    # Store the values in the matrix\n",
    "    pval_matrix[nb_positions.index(pair[0])][nb_positions.index(pair[1])] = neg_log_p_value\n",
    "\n",
    "\n",
    "\n",
    "# Masking the lower triangle of the matrix\n",
    "mask = np.tri(pval_matrix.shape[0], k=-1)\n",
    "\n",
    "# Plotting the heatmap\n",
    "plt.figure(figsize=(6, 4))\n",
    "sns.heatmap(odds_ratio_matrix, cmap='coolwarm', mask=mask, linewidths=0.5, linecolor='white')\n",
    "sns.xticklabels = nb_positions\n",
    "sns.yticklabels = nb_positions\n",
    "#Label the axes\n",
    "plt.xlabel('Position')\n",
    "plt.ylabel('Position')\n",
    "plt.title(\"Odds Ratio Matrix\")\n",
    "plt.show()\n",
    "\n"
   ]
  },
  {
   "cell_type": "code",
   "execution_count": 16,
   "metadata": {},
   "outputs": [],
   "source": [
    "barcode_dicts = IO_processor.get_barcode_dict(Path(\"/home/emre/minION_results/TamLQV96_sup/Demultiplex_cpp_70\"))\n",
    "demultiplex_folder = Path(\"/home/emre/minION_results/TamLQV96_sup/Demultiplex_cpp_70\")"
   ]
  },
  {
   "cell_type": "code",
   "execution_count": 17,
   "metadata": {},
   "outputs": [],
   "source": [
    "bases, qualities = analyser.get_highest_non_ref_base_freq(bam_file, reference, range(1,len(ref_seq)), ref_seq)"
   ]
  },
  {
   "cell_type": "code",
   "execution_count": 47,
   "metadata": {},
   "outputs": [
    {
     "name": "stdout",
     "output_type": "stream",
     "text": [
      "/home/emre/minION_results/TamLQV96_sup/Demultiplex_cpp_70/RB03/NB03/consensus/alignment.bam\n",
      "/home/emre/minION_results/TamLQV96_sup/Demultiplex_cpp_70/RB03/NB04/consensus/alignment.bam\n",
      "/home/emre/minION_results/TamLQV96_sup/Demultiplex_cpp_70/RB03/NB10/consensus/alignment.bam\n",
      "/home/emre/minION_results/TamLQV96_sup/Demultiplex_cpp_70/RB03/NB07/consensus/alignment.bam\n",
      "/home/emre/minION_results/TamLQV96_sup/Demultiplex_cpp_70/RB03/NB06/consensus/alignment.bam\n",
      "/home/emre/minION_results/TamLQV96_sup/Demultiplex_cpp_70/RB03/NB12/consensus/alignment.bam\n",
      "/home/emre/minION_results/TamLQV96_sup/Demultiplex_cpp_70/RB03/NB02/consensus/alignment.bam\n",
      "/home/emre/minION_results/TamLQV96_sup/Demultiplex_cpp_70/RB03/NB01/consensus/alignment.bam\n",
      "/home/emre/minION_results/TamLQV96_sup/Demultiplex_cpp_70/RB03/NB08/consensus/alignment.bam\n",
      "/home/emre/minION_results/TamLQV96_sup/Demultiplex_cpp_70/RB03/NB09/consensus/alignment.bam\n",
      "Skipping RB03/NB11 because of low read count\n",
      "/home/emre/minION_results/TamLQV96_sup/Demultiplex_cpp_70/RB03/NB05/consensus/alignment.bam\n",
      "/home/emre/minION_results/TamLQV96_sup/Demultiplex_cpp_70/RB04/NB03/consensus/alignment.bam\n",
      "/home/emre/minION_results/TamLQV96_sup/Demultiplex_cpp_70/RB04/NB04/consensus/alignment.bam\n"
     ]
    }
   ],
   "source": [
    "variant_df = analyser.get_variant_df_custom(demultiplex_folder, template_fasta, barcode_dicts, consensus_folder_name = \"consensus\", merge = True)"
   ]
  },
  {
   "cell_type": "code",
   "execution_count": 23,
   "metadata": {},
   "outputs": [],
   "source": [
    "variant_df.dropna(subset=[\"count\"], inplace=True)"
   ]
  },
  {
   "cell_type": "code",
   "execution_count": 45,
   "metadata": {},
   "outputs": [
    {
     "data": {
      "text/html": [
       "<div>\n",
       "<style scoped>\n",
       "    .dataframe tbody tr th:only-of-type {\n",
       "        vertical-align: middle;\n",
       "    }\n",
       "\n",
       "    .dataframe tbody tr th {\n",
       "        vertical-align: top;\n",
       "    }\n",
       "\n",
       "    .dataframe thead th {\n",
       "        text-align: right;\n",
       "    }\n",
       "</style>\n",
       "<table border=\"1\" class=\"dataframe\">\n",
       "  <thead>\n",
       "    <tr style=\"text-align: right;\">\n",
       "      <th></th>\n",
       "      <th>Plate</th>\n",
       "      <th>Well</th>\n",
       "      <th>Position</th>\n",
       "      <th>Variant</th>\n",
       "      <th>Quality-Score</th>\n",
       "      <th>count</th>\n",
       "    </tr>\n",
       "  </thead>\n",
       "  <tbody>\n",
       "    <tr>\n",
       "      <th>2</th>\n",
       "      <td>1</td>\n",
       "      <td>A3</td>\n",
       "      <td>[]</td>\n",
       "      <td>[]</td>\n",
       "      <td>[]</td>\n",
       "      <td>145.0</td>\n",
       "    </tr>\n",
       "    <tr>\n",
       "      <th>98</th>\n",
       "      <td>2</td>\n",
       "      <td>A3</td>\n",
       "      <td>[377]</td>\n",
       "      <td>[A377G]</td>\n",
       "      <td>[21]</td>\n",
       "      <td>40.0</td>\n",
       "    </tr>\n",
       "    <tr>\n",
       "      <th>194</th>\n",
       "      <td>3</td>\n",
       "      <td>A3</td>\n",
       "      <td>[]</td>\n",
       "      <td>[]</td>\n",
       "      <td>[]</td>\n",
       "      <td>175.0</td>\n",
       "    </tr>\n",
       "    <tr>\n",
       "      <th>290</th>\n",
       "      <td>4</td>\n",
       "      <td>A3</td>\n",
       "      <td>[]</td>\n",
       "      <td>[]</td>\n",
       "      <td>[]</td>\n",
       "      <td>51.0</td>\n",
       "    </tr>\n",
       "    <tr>\n",
       "      <th>386</th>\n",
       "      <td>5</td>\n",
       "      <td>A3</td>\n",
       "      <td>NaN</td>\n",
       "      <td>NaN</td>\n",
       "      <td>NaN</td>\n",
       "      <td>NaN</td>\n",
       "    </tr>\n",
       "    <tr>\n",
       "      <th>482</th>\n",
       "      <td>6</td>\n",
       "      <td>A3</td>\n",
       "      <td>[61, 577]</td>\n",
       "      <td>[T61C, G577A]</td>\n",
       "      <td>[20, 19]</td>\n",
       "      <td>126.0</td>\n",
       "    </tr>\n",
       "    <tr>\n",
       "      <th>578</th>\n",
       "      <td>7</td>\n",
       "      <td>A3</td>\n",
       "      <td>[438, 560, 561]</td>\n",
       "      <td>[T438C, C560A, T561C]</td>\n",
       "      <td>[20, 18, 18]</td>\n",
       "      <td>144.0</td>\n",
       "    </tr>\n",
       "    <tr>\n",
       "      <th>674</th>\n",
       "      <td>8</td>\n",
       "      <td>A3</td>\n",
       "      <td>[31, 327]</td>\n",
       "      <td>[G31A, T327A]</td>\n",
       "      <td>[22, 20]</td>\n",
       "      <td>77.0</td>\n",
       "    </tr>\n",
       "  </tbody>\n",
       "</table>\n",
       "</div>"
      ],
      "text/plain": [
       "     Plate Well         Position                Variant Quality-Score  count\n",
       "2        1   A3               []                     []            []  145.0\n",
       "98       2   A3            [377]                [A377G]          [21]   40.0\n",
       "194      3   A3               []                     []            []  175.0\n",
       "290      4   A3               []                     []            []   51.0\n",
       "386      5   A3              NaN                    NaN           NaN    NaN\n",
       "482      6   A3        [61, 577]          [T61C, G577A]      [20, 19]  126.0\n",
       "578      7   A3  [438, 560, 561]  [T438C, C560A, T561C]  [20, 18, 18]  144.0\n",
       "674      8   A3        [31, 327]          [G31A, T327A]      [22, 20]   77.0"
      ]
     },
     "execution_count": 45,
     "metadata": {},
     "output_type": "execute_result"
    }
   ],
   "source": [
    "variant_df[variant_df[\"Well\"] == \"A3\"]"
   ]
  },
  {
   "cell_type": "code",
   "execution_count": null,
   "metadata": {},
   "outputs": [],
   "source": []
  }
 ],
 "metadata": {
  "kernelspec": {
   "display_name": "minion",
   "language": "python",
   "name": "python3"
  },
  "language_info": {
   "codemirror_mode": {
    "name": "ipython",
    "version": 3
   },
   "file_extension": ".py",
   "mimetype": "text/x-python",
   "name": "python",
   "nbconvert_exporter": "python",
   "pygments_lexer": "ipython3",
   "version": "3.10.8"
  }
 },
 "nbformat": 4,
 "nbformat_minor": 2
}
