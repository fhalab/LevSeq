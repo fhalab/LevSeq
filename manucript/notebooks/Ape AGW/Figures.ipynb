{
 "cells": [
  {
   "cell_type": "markdown",
   "id": "126e99c1-cfe9-4611-ad69-44a6cd386048",
   "metadata": {},
   "source": [
    "# Figure 1-3 Ape AGW\n",
    "\n",
    "## 1. Summary statistics from the dataset\n",
    "\n",
    "## 2. Histogram of the distribution of different types of mutatinos\n",
    "\n",
    "## 3. Scatterplot of the variants\n",
    "\n",
    "## 4. Logo plot of the mutations that are enhancing in Cis and Trans"
   ]
  },
  {
   "cell_type": "code",
   "execution_count": 36,
   "id": "241e90a0-2506-4d82-9686-142bd2aee6a7",
   "metadata": {},
   "outputs": [],
   "source": [
    "import pandas as pd\n",
    "from sciutil import SciUtil\n",
    "import numpy as np\n",
    "import matplotlib.pyplot as plt\n",
    "plt.rcParams['svg.fonttype'] = 'none'\n",
    "u = SciUtil()\n",
    "data_dir = '/Users/ariane/Documents/code/MinION/manucript/notebooks/Ape AGW/Data/'\n",
    "figure_dir = '/Users/ariane/Documents/code/MinION/manucript/notebooks/Ape AGW/Figures/'\n",
    "df = pd.read_csv(f'{data_dir}parlq2_Dataset_combined.csv')"
   ]
  },
  {
   "cell_type": "markdown",
   "id": "3a88dc9b-9500-488c-a297-745d248a215f",
   "metadata": {},
   "source": [
    "## 1. Summary statistics from the dataset\n",
    "\n",
    "We want to know: \n",
    "\n",
    "1. Alignment across the dataset\n",
    "2. Number of wells not meeting our threshold (< 6)\n",
    "3. Number of wells not meeting ParSEQs threshold\n",
    "4. Number of parents, mutation counts, deltions resulting in a frameshift mutation, truncated sequneces\n"
   ]
  },
  {
   "cell_type": "code",
   "execution_count": 37,
   "id": "ff12b5fd-90b2-4f76-82e3-e8fc0ee6bc8a",
   "metadata": {},
   "outputs": [],
   "source": [
    "df['# Mutations'] = [len(x.split('_')) if x != '#PARENT#' else 0 for x in df['Mutations'].values]\n",
    "features = ['cis', 'trans', 'Average mutation frequency', '# Mutations', 'Alignment Count']\n",
    "# Normalise each of these columns \n",
    "# Let's first drop parenst # df[df['EPS'].notna()]\n",
    "for f in features:\n",
    "    vals = df[f].values\n",
    "    df[f'{f}_norm'] = (vals - np.nanmean(vals))/(np.nanstd(vals))\n",
    "    df[f'{f}_log2'] = np.log2(vals + 1)"
   ]
  },
  {
   "cell_type": "code",
   "execution_count": 38,
   "id": "0f7e5bf8-224b-442d-8321-b87fc52790f5",
   "metadata": {},
   "outputs": [
    {
     "data": {
      "text/html": [
       "<div>\n",
       "<style scoped>\n",
       "    .dataframe tbody tr th:only-of-type {\n",
       "        vertical-align: middle;\n",
       "    }\n",
       "\n",
       "    .dataframe tbody tr th {\n",
       "        vertical-align: top;\n",
       "    }\n",
       "\n",
       "    .dataframe thead th {\n",
       "        text-align: right;\n",
       "    }\n",
       "</style>\n",
       "<table border=\"1\" class=\"dataframe\">\n",
       "  <thead>\n",
       "    <tr style=\"text-align: right;\">\n",
       "      <th></th>\n",
       "      <th>Alignment Count</th>\n",
       "      <th>Average mutation frequency</th>\n",
       "      <th># Mutations</th>\n",
       "    </tr>\n",
       "  </thead>\n",
       "  <tbody>\n",
       "    <tr>\n",
       "      <th>count</th>\n",
       "      <td>960.000000</td>\n",
       "      <td>524.000000</td>\n",
       "      <td>960.000000</td>\n",
       "    </tr>\n",
       "    <tr>\n",
       "      <th>mean</th>\n",
       "      <td>43.993750</td>\n",
       "      <td>0.917419</td>\n",
       "      <td>0.976042</td>\n",
       "    </tr>\n",
       "    <tr>\n",
       "      <th>std</th>\n",
       "      <td>54.867667</td>\n",
       "      <td>0.102354</td>\n",
       "      <td>0.917021</td>\n",
       "    </tr>\n",
       "    <tr>\n",
       "      <th>min</th>\n",
       "      <td>0.000000</td>\n",
       "      <td>0.400000</td>\n",
       "      <td>0.000000</td>\n",
       "    </tr>\n",
       "    <tr>\n",
       "      <th>25%</th>\n",
       "      <td>7.000000</td>\n",
       "      <td>0.908902</td>\n",
       "      <td>0.000000</td>\n",
       "    </tr>\n",
       "    <tr>\n",
       "      <th>50%</th>\n",
       "      <td>26.000000</td>\n",
       "      <td>0.945762</td>\n",
       "      <td>1.000000</td>\n",
       "    </tr>\n",
       "    <tr>\n",
       "      <th>75%</th>\n",
       "      <td>62.000000</td>\n",
       "      <td>0.970650</td>\n",
       "      <td>1.000000</td>\n",
       "    </tr>\n",
       "    <tr>\n",
       "      <th>max</th>\n",
       "      <td>428.000000</td>\n",
       "      <td>1.000000</td>\n",
       "      <td>5.000000</td>\n",
       "    </tr>\n",
       "  </tbody>\n",
       "</table>\n",
       "</div>"
      ],
      "text/plain": [
       "       Alignment Count  Average mutation frequency  # Mutations\n",
       "count       960.000000                  524.000000   960.000000\n",
       "mean         43.993750                    0.917419     0.976042\n",
       "std          54.867667                    0.102354     0.917021\n",
       "min           0.000000                    0.400000     0.000000\n",
       "25%           7.000000                    0.908902     0.000000\n",
       "50%          26.000000                    0.945762     1.000000\n",
       "75%          62.000000                    0.970650     1.000000\n",
       "max         428.000000                    1.000000     5.000000"
      ]
     },
     "execution_count": 38,
     "metadata": {},
     "output_type": "execute_result"
    }
   ],
   "source": [
    "df[['Alignment Count', 'Average mutation frequency', '# Mutations']].describe()"
   ]
  },
  {
   "cell_type": "code",
   "execution_count": 39,
   "id": "6accd87c-ca96-4321-b803-f7c5434671fa",
   "metadata": {},
   "outputs": [
    {
     "data": {
      "text/plain": [
       "# Mutations\n",
       "1    487\n",
       "0    294\n",
       "2    114\n",
       "3     40\n",
       "4     23\n",
       "5      2\n",
       "Name: count, dtype: int64"
      ]
     },
     "execution_count": 39,
     "metadata": {},
     "output_type": "execute_result"
    }
   ],
   "source": [
    "df['# Mutations'].value_counts()"
   ]
  },
  {
   "cell_type": "code",
   "execution_count": 40,
   "id": "bf51592e-c88f-4046-831e-63a36ed1e100",
   "metadata": {},
   "outputs": [
    {
     "name": "stdout",
     "output_type": "stream",
     "text": [
      "\u001b[94m--------------------------------------------------------------------------------\u001b[0m\n",
      "\u001b[94mNumber of frame shifts: \t207\t\n",
      "Number of truncations: \t37\t\n",
      "Number of parents: \t294\t\n",
      "Number of variants:\t368\t\u001b[0m\n",
      "\u001b[94m--------------------------------------------------------------------------------\u001b[0m\n"
     ]
    }
   ],
   "source": [
    "# Now classify each of them with the specific labels\n",
    "df['trunc_label'] = ['Truncated' if '*' in v else 'OK' for v in df['aa_variant'].values]\n",
    "df['Type'] = [m if '*' not in str(v) else '#TRUNCATED#' for m, v in df[['Mutations', 'aa_variant']].values]\n",
    "\n",
    "na_df = df[df['Type'] == '#N.A.#']\n",
    "trunc_df = df[df['Type'] == '#TRUNCATED#']\n",
    "deletion_df = df[df['Mutations'] == '-'] # Delection\n",
    "parent_df = df[df['Type'] == '#PARENT#']\n",
    "variant_df = df[~df['Type'].isin(['#PARENT#', '#N.A.#', '#TRUNCATED#', '-'])]\n",
    "u.dp(['Number of frame shifts: ', len(na_df), \n",
    "      '\\nNumber of truncations: ', len(trunc_df), \n",
    "      '\\nNumber of parents: ',  len(parent_df), \n",
    "      '\\nNumber of variants:',  len(variant_df)\n",
    "     ])\n"
   ]
  },
  {
   "cell_type": "code",
   "execution_count": 41,
   "id": "88b47d81-3da6-4e55-8398-74a2029bebbb",
   "metadata": {},
   "outputs": [
    {
     "data": {
      "text/plain": [
       "Type\n",
       "Variant      368\n",
       "Parent       294\n",
       "Reads < 5    207\n",
       "Deletion      54\n",
       "Truncated     37\n",
       "Name: count, dtype: int64"
      ]
     },
     "execution_count": 41,
     "metadata": {},
     "output_type": "execute_result"
    }
   ],
   "source": [
    "df['Type'] = [v if v != '-' else '#DELETION#' for v in df['Type'].values]\n",
    "df['Type'] = [v if v[0] == '#' else '#VARIANT#' for v in df['Type'].values]\n",
    "df['Type'] = [v if v != '#N.A.#' else 'Reads < 5' for v in df['Type'].values]\n",
    "df['Type'] = [v if v != '#DELETION#' else 'Deletion' for v in df['Type'].values]\n",
    "df['Type'] = [v if v != '#VARIANT#' else 'Variant' for v in df['Type'].values]\n",
    "df['Type'] = [v if v != '#PARENT#' else 'Parent' for v in df['Type'].values]\n",
    "df['Type'] = [v if v != '#TRUNCATED#' else 'Truncated' for v in df['Type'].values]\n",
    "\n",
    "df['Type'].value_counts()"
   ]
  },
  {
   "cell_type": "code",
   "execution_count": 42,
   "id": "f06e0a4c-a6fe-4132-a71e-43b67f21107b",
   "metadata": {},
   "outputs": [
    {
     "data": {
      "text/html": [
       "<div>\n",
       "<style scoped>\n",
       "    .dataframe tbody tr th:only-of-type {\n",
       "        vertical-align: middle;\n",
       "    }\n",
       "\n",
       "    .dataframe tbody tr th {\n",
       "        vertical-align: top;\n",
       "    }\n",
       "\n",
       "    .dataframe thead th {\n",
       "        text-align: right;\n",
       "    }\n",
       "</style>\n",
       "<table border=\"1\" class=\"dataframe\">\n",
       "  <thead>\n",
       "    <tr style=\"text-align: right;\">\n",
       "      <th></th>\n",
       "      <th>Alignment Count</th>\n",
       "      <th>Average mutation frequency</th>\n",
       "      <th># Mutations</th>\n",
       "      <th>P adj. value</th>\n",
       "      <th>cis</th>\n",
       "      <th>trans</th>\n",
       "      <th>cis_norm</th>\n",
       "      <th>trans_norm</th>\n",
       "    </tr>\n",
       "  </thead>\n",
       "  <tbody>\n",
       "    <tr>\n",
       "      <th>count</th>\n",
       "      <td>207.000000</td>\n",
       "      <td>0.0</td>\n",
       "      <td>207.0</td>\n",
       "      <td>0.0</td>\n",
       "      <td>2.070000e+02</td>\n",
       "      <td>2.070000e+02</td>\n",
       "      <td>207.000000</td>\n",
       "      <td>207.000000</td>\n",
       "    </tr>\n",
       "    <tr>\n",
       "      <th>mean</th>\n",
       "      <td>0.942029</td>\n",
       "      <td>NaN</td>\n",
       "      <td>1.0</td>\n",
       "      <td>NaN</td>\n",
       "      <td>4.688205e+05</td>\n",
       "      <td>3.879827e+05</td>\n",
       "      <td>-0.166579</td>\n",
       "      <td>-0.188988</td>\n",
       "    </tr>\n",
       "    <tr>\n",
       "      <th>std</th>\n",
       "      <td>1.283397</td>\n",
       "      <td>NaN</td>\n",
       "      <td>0.0</td>\n",
       "      <td>NaN</td>\n",
       "      <td>3.734867e+05</td>\n",
       "      <td>2.775516e+05</td>\n",
       "      <td>0.770207</td>\n",
       "      <td>0.767934</td>\n",
       "    </tr>\n",
       "    <tr>\n",
       "      <th>min</th>\n",
       "      <td>0.000000</td>\n",
       "      <td>NaN</td>\n",
       "      <td>1.0</td>\n",
       "      <td>NaN</td>\n",
       "      <td>0.000000e+00</td>\n",
       "      <td>0.000000e+00</td>\n",
       "      <td>-1.133384</td>\n",
       "      <td>-1.262465</td>\n",
       "    </tr>\n",
       "    <tr>\n",
       "      <th>25%</th>\n",
       "      <td>0.000000</td>\n",
       "      <td>NaN</td>\n",
       "      <td>1.0</td>\n",
       "      <td>NaN</td>\n",
       "      <td>2.754728e+05</td>\n",
       "      <td>2.197489e+05</td>\n",
       "      <td>-0.565302</td>\n",
       "      <td>-0.654460</td>\n",
       "    </tr>\n",
       "    <tr>\n",
       "      <th>50%</th>\n",
       "      <td>0.000000</td>\n",
       "      <td>NaN</td>\n",
       "      <td>1.0</td>\n",
       "      <td>NaN</td>\n",
       "      <td>4.894889e+05</td>\n",
       "      <td>4.189324e+05</td>\n",
       "      <td>-0.123957</td>\n",
       "      <td>-0.103356</td>\n",
       "    </tr>\n",
       "    <tr>\n",
       "      <th>75%</th>\n",
       "      <td>2.000000</td>\n",
       "      <td>NaN</td>\n",
       "      <td>1.0</td>\n",
       "      <td>NaN</td>\n",
       "      <td>5.932835e+05</td>\n",
       "      <td>4.850224e+05</td>\n",
       "      <td>0.090089</td>\n",
       "      <td>0.079503</td>\n",
       "    </tr>\n",
       "    <tr>\n",
       "      <th>max</th>\n",
       "      <td>4.000000</td>\n",
       "      <td>NaN</td>\n",
       "      <td>1.0</td>\n",
       "      <td>NaN</td>\n",
       "      <td>2.426330e+06</td>\n",
       "      <td>1.813075e+06</td>\n",
       "      <td>3.870211</td>\n",
       "      <td>3.753982</td>\n",
       "    </tr>\n",
       "  </tbody>\n",
       "</table>\n",
       "</div>"
      ],
      "text/plain": [
       "       Alignment Count  Average mutation frequency  # Mutations  P adj. value  \\\n",
       "count       207.000000                         0.0        207.0           0.0   \n",
       "mean          0.942029                         NaN          1.0           NaN   \n",
       "std           1.283397                         NaN          0.0           NaN   \n",
       "min           0.000000                         NaN          1.0           NaN   \n",
       "25%           0.000000                         NaN          1.0           NaN   \n",
       "50%           0.000000                         NaN          1.0           NaN   \n",
       "75%           2.000000                         NaN          1.0           NaN   \n",
       "max           4.000000                         NaN          1.0           NaN   \n",
       "\n",
       "                cis         trans    cis_norm  trans_norm  \n",
       "count  2.070000e+02  2.070000e+02  207.000000  207.000000  \n",
       "mean   4.688205e+05  3.879827e+05   -0.166579   -0.188988  \n",
       "std    3.734867e+05  2.775516e+05    0.770207    0.767934  \n",
       "min    0.000000e+00  0.000000e+00   -1.133384   -1.262465  \n",
       "25%    2.754728e+05  2.197489e+05   -0.565302   -0.654460  \n",
       "50%    4.894889e+05  4.189324e+05   -0.123957   -0.103356  \n",
       "75%    5.932835e+05  4.850224e+05    0.090089    0.079503  \n",
       "max    2.426330e+06  1.813075e+06    3.870211    3.753982  "
      ]
     },
     "execution_count": 42,
     "metadata": {},
     "output_type": "execute_result"
    }
   ],
   "source": [
    "cols = ['Alignment Count', 'Average mutation frequency', '# Mutations', \n",
    "       'P adj. value', 'cis', 'trans', 'cis_norm', 'trans_norm']\n",
    "na_df[cols].describe()"
   ]
  },
  {
   "cell_type": "code",
   "execution_count": 43,
   "id": "d1688eb4-1780-412c-8525-83cf96aeb372",
   "metadata": {},
   "outputs": [
    {
     "data": {
      "text/html": [
       "<div>\n",
       "<style scoped>\n",
       "    .dataframe tbody tr th:only-of-type {\n",
       "        vertical-align: middle;\n",
       "    }\n",
       "\n",
       "    .dataframe tbody tr th {\n",
       "        vertical-align: top;\n",
       "    }\n",
       "\n",
       "    .dataframe thead th {\n",
       "        text-align: right;\n",
       "    }\n",
       "</style>\n",
       "<table border=\"1\" class=\"dataframe\">\n",
       "  <thead>\n",
       "    <tr style=\"text-align: right;\">\n",
       "      <th></th>\n",
       "      <th>Alignment Count</th>\n",
       "      <th>Average mutation frequency</th>\n",
       "      <th># Mutations</th>\n",
       "      <th>P adj. value</th>\n",
       "      <th>cis</th>\n",
       "      <th>trans</th>\n",
       "      <th>cis_norm</th>\n",
       "      <th>trans_norm</th>\n",
       "    </tr>\n",
       "  </thead>\n",
       "  <tbody>\n",
       "    <tr>\n",
       "      <th>count</th>\n",
       "      <td>37.000000</td>\n",
       "      <td>37.000000</td>\n",
       "      <td>37.000000</td>\n",
       "      <td>3.700000e+01</td>\n",
       "      <td>3.700000e+01</td>\n",
       "      <td>37.000000</td>\n",
       "      <td>37.000000</td>\n",
       "      <td>37.000000</td>\n",
       "    </tr>\n",
       "    <tr>\n",
       "      <th>mean</th>\n",
       "      <td>64.297297</td>\n",
       "      <td>0.932039</td>\n",
       "      <td>1.945946</td>\n",
       "      <td>7.404799e-07</td>\n",
       "      <td>1.347184e+05</td>\n",
       "      <td>113100.999316</td>\n",
       "      <td>-0.855567</td>\n",
       "      <td>-0.949536</td>\n",
       "    </tr>\n",
       "    <tr>\n",
       "      <th>std</th>\n",
       "      <td>77.286216</td>\n",
       "      <td>0.053295</td>\n",
       "      <td>0.880213</td>\n",
       "      <td>4.309910e-06</td>\n",
       "      <td>2.224366e+05</td>\n",
       "      <td>148729.425016</td>\n",
       "      <td>0.458710</td>\n",
       "      <td>0.411507</td>\n",
       "    </tr>\n",
       "    <tr>\n",
       "      <th>min</th>\n",
       "      <td>6.000000</td>\n",
       "      <td>0.809524</td>\n",
       "      <td>1.000000</td>\n",
       "      <td>0.000000e+00</td>\n",
       "      <td>0.000000e+00</td>\n",
       "      <td>0.000000</td>\n",
       "      <td>-1.133384</td>\n",
       "      <td>-1.262465</td>\n",
       "    </tr>\n",
       "    <tr>\n",
       "      <th>25%</th>\n",
       "      <td>21.000000</td>\n",
       "      <td>0.911765</td>\n",
       "      <td>1.000000</td>\n",
       "      <td>7.425101e-175</td>\n",
       "      <td>3.026028e+04</td>\n",
       "      <td>23513.558200</td>\n",
       "      <td>-1.070981</td>\n",
       "      <td>-1.197408</td>\n",
       "    </tr>\n",
       "    <tr>\n",
       "      <th>50%</th>\n",
       "      <td>35.000000</td>\n",
       "      <td>0.943089</td>\n",
       "      <td>2.000000</td>\n",
       "      <td>2.942570e-91</td>\n",
       "      <td>6.382506e+04</td>\n",
       "      <td>58656.296100</td>\n",
       "      <td>-1.001764</td>\n",
       "      <td>-1.100174</td>\n",
       "    </tr>\n",
       "    <tr>\n",
       "      <th>75%</th>\n",
       "      <td>99.000000</td>\n",
       "      <td>0.959677</td>\n",
       "      <td>2.000000</td>\n",
       "      <td>1.532496e-47</td>\n",
       "      <td>1.260810e+05</td>\n",
       "      <td>145793.736500</td>\n",
       "      <td>-0.873379</td>\n",
       "      <td>-0.859081</td>\n",
       "    </tr>\n",
       "    <tr>\n",
       "      <th>max</th>\n",
       "      <td>428.000000</td>\n",
       "      <td>1.000000</td>\n",
       "      <td>4.000000</td>\n",
       "      <td>2.622249e-05</td>\n",
       "      <td>1.174134e+06</td>\n",
       "      <td>705836.734500</td>\n",
       "      <td>1.287923</td>\n",
       "      <td>0.690456</td>\n",
       "    </tr>\n",
       "  </tbody>\n",
       "</table>\n",
       "</div>"
      ],
      "text/plain": [
       "       Alignment Count  Average mutation frequency  # Mutations  \\\n",
       "count        37.000000                   37.000000    37.000000   \n",
       "mean         64.297297                    0.932039     1.945946   \n",
       "std          77.286216                    0.053295     0.880213   \n",
       "min           6.000000                    0.809524     1.000000   \n",
       "25%          21.000000                    0.911765     1.000000   \n",
       "50%          35.000000                    0.943089     2.000000   \n",
       "75%          99.000000                    0.959677     2.000000   \n",
       "max         428.000000                    1.000000     4.000000   \n",
       "\n",
       "        P adj. value           cis          trans   cis_norm  trans_norm  \n",
       "count   3.700000e+01  3.700000e+01      37.000000  37.000000   37.000000  \n",
       "mean    7.404799e-07  1.347184e+05  113100.999316  -0.855567   -0.949536  \n",
       "std     4.309910e-06  2.224366e+05  148729.425016   0.458710    0.411507  \n",
       "min     0.000000e+00  0.000000e+00       0.000000  -1.133384   -1.262465  \n",
       "25%    7.425101e-175  3.026028e+04   23513.558200  -1.070981   -1.197408  \n",
       "50%     2.942570e-91  6.382506e+04   58656.296100  -1.001764   -1.100174  \n",
       "75%     1.532496e-47  1.260810e+05  145793.736500  -0.873379   -0.859081  \n",
       "max     2.622249e-05  1.174134e+06  705836.734500   1.287923    0.690456  "
      ]
     },
     "execution_count": 43,
     "metadata": {},
     "output_type": "execute_result"
    }
   ],
   "source": [
    "trunc_df[cols].describe()"
   ]
  },
  {
   "cell_type": "code",
   "execution_count": 44,
   "id": "4e98b4dc-a127-444f-b5fb-53f244d05022",
   "metadata": {},
   "outputs": [
    {
     "data": {
      "text/html": [
       "<div>\n",
       "<style scoped>\n",
       "    .dataframe tbody tr th:only-of-type {\n",
       "        vertical-align: middle;\n",
       "    }\n",
       "\n",
       "    .dataframe tbody tr th {\n",
       "        vertical-align: top;\n",
       "    }\n",
       "\n",
       "    .dataframe thead th {\n",
       "        text-align: right;\n",
       "    }\n",
       "</style>\n",
       "<table border=\"1\" class=\"dataframe\">\n",
       "  <thead>\n",
       "    <tr style=\"text-align: right;\">\n",
       "      <th></th>\n",
       "      <th>Alignment Count</th>\n",
       "      <th>Average mutation frequency</th>\n",
       "      <th># Mutations</th>\n",
       "      <th>P adj. value</th>\n",
       "      <th>cis</th>\n",
       "      <th>trans</th>\n",
       "      <th>cis_norm</th>\n",
       "      <th>trans_norm</th>\n",
       "    </tr>\n",
       "  </thead>\n",
       "  <tbody>\n",
       "    <tr>\n",
       "      <th>count</th>\n",
       "      <td>54.000000</td>\n",
       "      <td>54.000000</td>\n",
       "      <td>54.0</td>\n",
       "      <td>5.400000e+01</td>\n",
       "      <td>5.400000e+01</td>\n",
       "      <td>54.000000</td>\n",
       "      <td>54.000000</td>\n",
       "      <td>54.000000</td>\n",
       "    </tr>\n",
       "    <tr>\n",
       "      <th>mean</th>\n",
       "      <td>59.203704</td>\n",
       "      <td>0.909654</td>\n",
       "      <td>1.0</td>\n",
       "      <td>7.336512e-07</td>\n",
       "      <td>1.569935e+05</td>\n",
       "      <td>138445.915383</td>\n",
       "      <td>-0.809631</td>\n",
       "      <td>-0.879411</td>\n",
       "    </tr>\n",
       "    <tr>\n",
       "      <th>std</th>\n",
       "      <td>50.238067</td>\n",
       "      <td>0.067156</td>\n",
       "      <td>0.0</td>\n",
       "      <td>5.391213e-06</td>\n",
       "      <td>2.201174e+05</td>\n",
       "      <td>190237.392022</td>\n",
       "      <td>0.453928</td>\n",
       "      <td>0.526352</td>\n",
       "    </tr>\n",
       "    <tr>\n",
       "      <th>min</th>\n",
       "      <td>8.000000</td>\n",
       "      <td>0.666667</td>\n",
       "      <td>1.0</td>\n",
       "      <td>0.000000e+00</td>\n",
       "      <td>0.000000e+00</td>\n",
       "      <td>0.000000</td>\n",
       "      <td>-1.133384</td>\n",
       "      <td>-1.262465</td>\n",
       "    </tr>\n",
       "    <tr>\n",
       "      <th>25%</th>\n",
       "      <td>21.500000</td>\n",
       "      <td>0.892602</td>\n",
       "      <td>1.0</td>\n",
       "      <td>3.331626e-247</td>\n",
       "      <td>3.496019e+04</td>\n",
       "      <td>27236.848125</td>\n",
       "      <td>-1.061289</td>\n",
       "      <td>-1.187106</td>\n",
       "    </tr>\n",
       "    <tr>\n",
       "      <th>50%</th>\n",
       "      <td>48.000000</td>\n",
       "      <td>0.925227</td>\n",
       "      <td>1.0</td>\n",
       "      <td>2.028731e-112</td>\n",
       "      <td>6.555243e+04</td>\n",
       "      <td>55723.460250</td>\n",
       "      <td>-0.998202</td>\n",
       "      <td>-1.108289</td>\n",
       "    </tr>\n",
       "    <tr>\n",
       "      <th>75%</th>\n",
       "      <td>72.250000</td>\n",
       "      <td>0.952238</td>\n",
       "      <td>1.0</td>\n",
       "      <td>3.028687e-60</td>\n",
       "      <td>1.208467e+05</td>\n",
       "      <td>174363.487700</td>\n",
       "      <td>-0.884174</td>\n",
       "      <td>-0.780033</td>\n",
       "    </tr>\n",
       "    <tr>\n",
       "      <th>max</th>\n",
       "      <td>252.000000</td>\n",
       "      <td>1.000000</td>\n",
       "      <td>1.0</td>\n",
       "      <td>3.961716e-05</td>\n",
       "      <td>1.002593e+06</td>\n",
       "      <td>916204.844600</td>\n",
       "      <td>0.934170</td>\n",
       "      <td>1.272506</td>\n",
       "    </tr>\n",
       "  </tbody>\n",
       "</table>\n",
       "</div>"
      ],
      "text/plain": [
       "       Alignment Count  Average mutation frequency  # Mutations  \\\n",
       "count        54.000000                   54.000000         54.0   \n",
       "mean         59.203704                    0.909654          1.0   \n",
       "std          50.238067                    0.067156          0.0   \n",
       "min           8.000000                    0.666667          1.0   \n",
       "25%          21.500000                    0.892602          1.0   \n",
       "50%          48.000000                    0.925227          1.0   \n",
       "75%          72.250000                    0.952238          1.0   \n",
       "max         252.000000                    1.000000          1.0   \n",
       "\n",
       "        P adj. value           cis          trans   cis_norm  trans_norm  \n",
       "count   5.400000e+01  5.400000e+01      54.000000  54.000000   54.000000  \n",
       "mean    7.336512e-07  1.569935e+05  138445.915383  -0.809631   -0.879411  \n",
       "std     5.391213e-06  2.201174e+05  190237.392022   0.453928    0.526352  \n",
       "min     0.000000e+00  0.000000e+00       0.000000  -1.133384   -1.262465  \n",
       "25%    3.331626e-247  3.496019e+04   27236.848125  -1.061289   -1.187106  \n",
       "50%    2.028731e-112  6.555243e+04   55723.460250  -0.998202   -1.108289  \n",
       "75%     3.028687e-60  1.208467e+05  174363.487700  -0.884174   -0.780033  \n",
       "max     3.961716e-05  1.002593e+06  916204.844600   0.934170    1.272506  "
      ]
     },
     "execution_count": 44,
     "metadata": {},
     "output_type": "execute_result"
    }
   ],
   "source": [
    "deletion_df[cols].describe()"
   ]
  },
  {
   "cell_type": "code",
   "execution_count": 45,
   "id": "b25da205-7ad6-4737-abe4-45e2d36713ca",
   "metadata": {},
   "outputs": [
    {
     "data": {
      "text/html": [
       "<div>\n",
       "<style scoped>\n",
       "    .dataframe tbody tr th:only-of-type {\n",
       "        vertical-align: middle;\n",
       "    }\n",
       "\n",
       "    .dataframe tbody tr th {\n",
       "        vertical-align: top;\n",
       "    }\n",
       "\n",
       "    .dataframe thead th {\n",
       "        text-align: right;\n",
       "    }\n",
       "</style>\n",
       "<table border=\"1\" class=\"dataframe\">\n",
       "  <thead>\n",
       "    <tr style=\"text-align: right;\">\n",
       "      <th></th>\n",
       "      <th>Alignment Count</th>\n",
       "      <th>Average mutation frequency</th>\n",
       "      <th># Mutations</th>\n",
       "      <th>P adj. value</th>\n",
       "      <th>cis</th>\n",
       "      <th>trans</th>\n",
       "      <th>cis_norm</th>\n",
       "      <th>trans_norm</th>\n",
       "    </tr>\n",
       "  </thead>\n",
       "  <tbody>\n",
       "    <tr>\n",
       "      <th>count</th>\n",
       "      <td>294.000000</td>\n",
       "      <td>65.000000</td>\n",
       "      <td>294.0</td>\n",
       "      <td>6.500000e+01</td>\n",
       "      <td>2.940000e+02</td>\n",
       "      <td>2.940000e+02</td>\n",
       "      <td>294.000000</td>\n",
       "      <td>294.000000</td>\n",
       "    </tr>\n",
       "    <tr>\n",
       "      <th>mean</th>\n",
       "      <td>53.897959</td>\n",
       "      <td>0.908086</td>\n",
       "      <td>0.0</td>\n",
       "      <td>3.533515e-08</td>\n",
       "      <td>6.847342e+05</td>\n",
       "      <td>5.788792e+05</td>\n",
       "      <td>0.278680</td>\n",
       "      <td>0.339187</td>\n",
       "    </tr>\n",
       "    <tr>\n",
       "      <th>std</th>\n",
       "      <td>57.574968</td>\n",
       "      <td>0.126338</td>\n",
       "      <td>0.0</td>\n",
       "      <td>2.835138e-07</td>\n",
       "      <td>4.893086e+05</td>\n",
       "      <td>3.699548e+05</td>\n",
       "      <td>1.009056</td>\n",
       "      <td>1.023597</td>\n",
       "    </tr>\n",
       "    <tr>\n",
       "      <th>min</th>\n",
       "      <td>5.000000</td>\n",
       "      <td>0.511364</td>\n",
       "      <td>0.0</td>\n",
       "      <td>0.000000e+00</td>\n",
       "      <td>0.000000e+00</td>\n",
       "      <td>0.000000e+00</td>\n",
       "      <td>-1.133384</td>\n",
       "      <td>-1.262465</td>\n",
       "    </tr>\n",
       "    <tr>\n",
       "      <th>25%</th>\n",
       "      <td>16.000000</td>\n",
       "      <td>0.900000</td>\n",
       "      <td>0.0</td>\n",
       "      <td>3.221501e-79</td>\n",
       "      <td>4.116654e+05</td>\n",
       "      <td>3.378630e+05</td>\n",
       "      <td>-0.284445</td>\n",
       "      <td>-0.327660</td>\n",
       "    </tr>\n",
       "    <tr>\n",
       "      <th>50%</th>\n",
       "      <td>35.500000</td>\n",
       "      <td>0.941176</td>\n",
       "      <td>0.0</td>\n",
       "      <td>2.189605e-39</td>\n",
       "      <td>5.503604e+05</td>\n",
       "      <td>4.698631e+05</td>\n",
       "      <td>0.001573</td>\n",
       "      <td>0.037560</td>\n",
       "    </tr>\n",
       "    <tr>\n",
       "      <th>75%</th>\n",
       "      <td>65.000000</td>\n",
       "      <td>0.982759</td>\n",
       "      <td>0.0</td>\n",
       "      <td>2.428755e-22</td>\n",
       "      <td>8.014934e+05</td>\n",
       "      <td>7.771923e+05</td>\n",
       "      <td>0.519461</td>\n",
       "      <td>0.887884</td>\n",
       "    </tr>\n",
       "    <tr>\n",
       "      <th>max</th>\n",
       "      <td>407.000000</td>\n",
       "      <td>1.000000</td>\n",
       "      <td>0.0</td>\n",
       "      <td>2.285910e-06</td>\n",
       "      <td>2.276523e+06</td>\n",
       "      <td>1.667838e+06</td>\n",
       "      <td>3.561278</td>\n",
       "      <td>3.352137</td>\n",
       "    </tr>\n",
       "  </tbody>\n",
       "</table>\n",
       "</div>"
      ],
      "text/plain": [
       "       Alignment Count  Average mutation frequency  # Mutations  P adj. value  \\\n",
       "count       294.000000                   65.000000        294.0  6.500000e+01   \n",
       "mean         53.897959                    0.908086          0.0  3.533515e-08   \n",
       "std          57.574968                    0.126338          0.0  2.835138e-07   \n",
       "min           5.000000                    0.511364          0.0  0.000000e+00   \n",
       "25%          16.000000                    0.900000          0.0  3.221501e-79   \n",
       "50%          35.500000                    0.941176          0.0  2.189605e-39   \n",
       "75%          65.000000                    0.982759          0.0  2.428755e-22   \n",
       "max         407.000000                    1.000000          0.0  2.285910e-06   \n",
       "\n",
       "                cis         trans    cis_norm  trans_norm  \n",
       "count  2.940000e+02  2.940000e+02  294.000000  294.000000  \n",
       "mean   6.847342e+05  5.788792e+05    0.278680    0.339187  \n",
       "std    4.893086e+05  3.699548e+05    1.009056    1.023597  \n",
       "min    0.000000e+00  0.000000e+00   -1.133384   -1.262465  \n",
       "25%    4.116654e+05  3.378630e+05   -0.284445   -0.327660  \n",
       "50%    5.503604e+05  4.698631e+05    0.001573    0.037560  \n",
       "75%    8.014934e+05  7.771923e+05    0.519461    0.887884  \n",
       "max    2.276523e+06  1.667838e+06    3.561278    3.352137  "
      ]
     },
     "execution_count": 45,
     "metadata": {},
     "output_type": "execute_result"
    }
   ],
   "source": [
    "parent_df[cols].describe()"
   ]
  },
  {
   "cell_type": "code",
   "execution_count": 46,
   "id": "180a9184-5d46-48b4-bebb-fe4d76874bd1",
   "metadata": {},
   "outputs": [
    {
     "data": {
      "text/html": [
       "<div>\n",
       "<style scoped>\n",
       "    .dataframe tbody tr th:only-of-type {\n",
       "        vertical-align: middle;\n",
       "    }\n",
       "\n",
       "    .dataframe tbody tr th {\n",
       "        vertical-align: top;\n",
       "    }\n",
       "\n",
       "    .dataframe thead th {\n",
       "        text-align: right;\n",
       "    }\n",
       "</style>\n",
       "<table border=\"1\" class=\"dataframe\">\n",
       "  <thead>\n",
       "    <tr style=\"text-align: right;\">\n",
       "      <th></th>\n",
       "      <th>Alignment Count</th>\n",
       "      <th>Average mutation frequency</th>\n",
       "      <th># Mutations</th>\n",
       "      <th>P adj. value</th>\n",
       "      <th>cis</th>\n",
       "      <th>trans</th>\n",
       "      <th>cis_norm</th>\n",
       "      <th>trans_norm</th>\n",
       "    </tr>\n",
       "  </thead>\n",
       "  <tbody>\n",
       "    <tr>\n",
       "      <th>count</th>\n",
       "      <td>368.000000</td>\n",
       "      <td>368.000000</td>\n",
       "      <td>368.000000</td>\n",
       "      <td>3.680000e+02</td>\n",
       "      <td>3.680000e+02</td>\n",
       "      <td>3.680000e+02</td>\n",
       "      <td>368.000000</td>\n",
       "      <td>368.000000</td>\n",
       "    </tr>\n",
       "    <tr>\n",
       "      <th>mean</th>\n",
       "      <td>56.024457</td>\n",
       "      <td>0.918737</td>\n",
       "      <td>1.641304</td>\n",
       "      <td>3.161050e-03</td>\n",
       "      <td>5.863963e+05</td>\n",
       "      <td>4.779150e+05</td>\n",
       "      <td>0.075886</td>\n",
       "      <td>0.059838</td>\n",
       "    </tr>\n",
       "    <tr>\n",
       "      <th>std</th>\n",
       "      <td>54.074396</td>\n",
       "      <td>0.105681</td>\n",
       "      <td>0.905105</td>\n",
       "      <td>5.274572e-02</td>\n",
       "      <td>5.235422e+05</td>\n",
       "      <td>3.740523e+05</td>\n",
       "      <td>1.079653</td>\n",
       "      <td>1.034934</td>\n",
       "    </tr>\n",
       "    <tr>\n",
       "      <th>min</th>\n",
       "      <td>6.000000</td>\n",
       "      <td>0.400000</td>\n",
       "      <td>1.000000</td>\n",
       "      <td>0.000000e+00</td>\n",
       "      <td>0.000000e+00</td>\n",
       "      <td>0.000000e+00</td>\n",
       "      <td>-1.133384</td>\n",
       "      <td>-1.262465</td>\n",
       "    </tr>\n",
       "    <tr>\n",
       "      <th>25%</th>\n",
       "      <td>17.000000</td>\n",
       "      <td>0.916667</td>\n",
       "      <td>1.000000</td>\n",
       "      <td>1.355720e-182</td>\n",
       "      <td>2.656892e+05</td>\n",
       "      <td>2.155809e+05</td>\n",
       "      <td>-0.585478</td>\n",
       "      <td>-0.665992</td>\n",
       "    </tr>\n",
       "    <tr>\n",
       "      <th>50%</th>\n",
       "      <td>41.500000</td>\n",
       "      <td>0.949490</td>\n",
       "      <td>1.000000</td>\n",
       "      <td>3.311814e-81</td>\n",
       "      <td>4.825884e+05</td>\n",
       "      <td>4.098467e+05</td>\n",
       "      <td>-0.138187</td>\n",
       "      <td>-0.128495</td>\n",
       "    </tr>\n",
       "    <tr>\n",
       "      <th>75%</th>\n",
       "      <td>74.250000</td>\n",
       "      <td>0.973332</td>\n",
       "      <td>2.000000</td>\n",
       "      <td>2.668209e-33</td>\n",
       "      <td>6.815377e+05</td>\n",
       "      <td>6.317647e+05</td>\n",
       "      <td>0.272088</td>\n",
       "      <td>0.485512</td>\n",
       "    </tr>\n",
       "    <tr>\n",
       "      <th>max</th>\n",
       "      <td>398.000000</td>\n",
       "      <td>1.000000</td>\n",
       "      <td>5.000000</td>\n",
       "      <td>1.000000e+00</td>\n",
       "      <td>3.176372e+06</td>\n",
       "      <td>1.708653e+06</td>\n",
       "      <td>5.416954</td>\n",
       "      <td>3.465064</td>\n",
       "    </tr>\n",
       "  </tbody>\n",
       "</table>\n",
       "</div>"
      ],
      "text/plain": [
       "       Alignment Count  Average mutation frequency  # Mutations  \\\n",
       "count       368.000000                  368.000000   368.000000   \n",
       "mean         56.024457                    0.918737     1.641304   \n",
       "std          54.074396                    0.105681     0.905105   \n",
       "min           6.000000                    0.400000     1.000000   \n",
       "25%          17.000000                    0.916667     1.000000   \n",
       "50%          41.500000                    0.949490     1.000000   \n",
       "75%          74.250000                    0.973332     2.000000   \n",
       "max         398.000000                    1.000000     5.000000   \n",
       "\n",
       "        P adj. value           cis         trans    cis_norm  trans_norm  \n",
       "count   3.680000e+02  3.680000e+02  3.680000e+02  368.000000  368.000000  \n",
       "mean    3.161050e-03  5.863963e+05  4.779150e+05    0.075886    0.059838  \n",
       "std     5.274572e-02  5.235422e+05  3.740523e+05    1.079653    1.034934  \n",
       "min     0.000000e+00  0.000000e+00  0.000000e+00   -1.133384   -1.262465  \n",
       "25%    1.355720e-182  2.656892e+05  2.155809e+05   -0.585478   -0.665992  \n",
       "50%     3.311814e-81  4.825884e+05  4.098467e+05   -0.138187   -0.128495  \n",
       "75%     2.668209e-33  6.815377e+05  6.317647e+05    0.272088    0.485512  \n",
       "max     1.000000e+00  3.176372e+06  1.708653e+06    5.416954    3.465064  "
      ]
     },
     "execution_count": 46,
     "metadata": {},
     "output_type": "execute_result"
    }
   ],
   "source": [
    "variant_df[cols].describe()"
   ]
  },
  {
   "cell_type": "code",
   "execution_count": 47,
   "id": "cbb93f3b-cea9-4057-bf76-96285e1047f2",
   "metadata": {},
   "outputs": [
    {
     "data": {
      "text/plain": [
       "# Mutations\n",
       "1    213\n",
       "2     99\n",
       "3     33\n",
       "4     21\n",
       "5      2\n",
       "Name: count, dtype: int64"
      ]
     },
     "execution_count": 47,
     "metadata": {},
     "output_type": "execute_result"
    }
   ],
   "source": [
    "variant_df['# Mutations'].value_counts()"
   ]
  },
  {
   "cell_type": "markdown",
   "id": "13fe5727-27e5-437e-8809-3e6b5f9637d3",
   "metadata": {},
   "source": [
    "## 2. Histogram of the distribution of different types of mutatinos\n"
   ]
  },
  {
   "cell_type": "code",
   "execution_count": 74,
   "id": "dae53b91-4f05-4195-93b9-b302b1bacc3a",
   "metadata": {},
   "outputs": [
    {
     "data": {
      "image/png": "[encoded data removed]",
      "text/plain": [
       "<Figure size 300x300 with 1 Axes>"
      ]
     },
     "metadata": {},
     "output_type": "display_data"
    }
   ],
   "source": [
    "import seaborn as sns\n",
    "import matplotlib.pyplot as plt\n",
    "\n",
    "sns.set(rc={'figure.figsize': (3, 3), 'font.family':  'sans-serif',\n",
    "                'font.sans-serif': 'Arial', 'font.size': 12}, style='whitegrid')\n",
    "sns.palette = ['#f4dc4d', '#dba21b', '#7555db', '#002eab', '#690f2a']\n",
    "palette = ['#ef4734', '#7e55a3', '#4abea3', '#30a3dc', '#a7aaaf']\n",
    "\n",
    "def set_ax_params(ax):\n",
    "    ax.tick_params(direction='out', length=2, width=1.0)\n",
    "    #ax.spines['bottom'].set_linewidth(1.0)\n",
    "    #ax.spines['top'].set_linewidth(0)\n",
    "    #ax.spines['left'].set_linewidth(1.0)\n",
    "    #ax.spines['right'].set_linewidth(0)\n",
    "    ax.tick_params(labelsize=10)\n",
    "    ax.tick_params(axis='x', which='major', pad=2.0)\n",
    "    ax.tick_params(axis='y', which='major', pad=2.0)\n",
    "    \n",
    "ax = sns.histplot(data=df, x=\"Alignment Count\", hue=\"Type\", bins=20, palette=palette, multiple=\"stack\")\n",
    "set_ax_params(ax)\n",
    "plt.title('Alignment counts')\n",
    "plt.savefig(f'{figure_dir}Figure1_Bar_AlignmentCounts.svg', bbox_inches='tight')"
   ]
  },
  {
   "cell_type": "code",
   "execution_count": 75,
   "id": "8ab08211-3880-4671-90ef-80a0b388a79c",
   "metadata": {},
   "outputs": [
    {
     "data": {
      "image/png": "[encoded data removed]",
      "text/plain": [
       "<Figure size 300x300 with 1 Axes>"
      ]
     },
     "metadata": {},
     "output_type": "display_data"
    }
   ],
   "source": [
    "col = 'trans'\n",
    "ax = sns.histplot(data=df, x=col, hue=\"Type\", bins=20, palette=palette, multiple=\"stack\")\n",
    "set_ax_params(ax)\n",
    "plt.title(f'{col}')\n",
    "plt.savefig(f'{figure_dir}Figure1_Bar_Trans.svg', bbox_inches='tight')"
   ]
  },
  {
   "cell_type": "code",
   "execution_count": 76,
   "id": "6fb19c3b-b39c-492c-ae95-8708ace46151",
   "metadata": {},
   "outputs": [
    {
     "data": {
      "image/png": "[encoded data removed]",
      "text/plain": [
       "<Figure size 300x300 with 1 Axes>"
      ]
     },
     "metadata": {},
     "output_type": "display_data"
    }
   ],
   "source": [
    "col = 'cis'\n",
    "ax = sns.histplot(data=df, x=col, hue=\"Type\", bins=20, palette=palette, multiple=\"stack\")\n",
    "set_ax_params(ax)\n",
    "plt.title(f'{col}')\n",
    "plt.savefig(f'{figure_dir}Figure1_Bar_Cis.svg', bbox_inches='tight')"
   ]
  },
  {
   "cell_type": "code",
   "execution_count": 83,
   "id": "0961e1cc-5739-4509-a02e-ce00d0b753af",
   "metadata": {},
   "outputs": [
    {
     "data": {
      "image/png": "[encoded data removed]",
      "text/plain": [
       "<Figure size 300x300 with 1 Axes>"
      ]
     },
     "metadata": {},
     "output_type": "display_data"
    }
   ],
   "source": [
    "import seaborn as sns\n",
    "\n",
    "ax = sns.scatterplot(df, x='cis', y='trans', hue='Type', palette=palette, size='# Mutations')\n",
    "sns.move_legend(ax, \"upper left\", bbox_to_anchor=(1, 1))\n",
    "set_ax_params(ax)\n",
    "plt.xlim(0, 3.5*10**6)\n",
    "plt.ylim(0, 3.5*10**6)\n",
    "ax.yaxis.set_ticks([0, 1*10**6, 2*10**6, 3*10**6])\n",
    "\n",
    "plt.title('Cis vs Trans')\n",
    "plt.savefig(f'{figure_dir}Figure1_Scatter_Cis-Trans.svg', bbox_inches='tight')"
   ]
  },
  {
   "cell_type": "markdown",
   "id": "3b62e446-86c7-4b09-87c4-f5667d5f3511",
   "metadata": {},
   "source": [
    "## Make logo plots of all the protoglobins\n",
    "\n",
    "The following search on uniprot provides 406 results: `(Protoglobin ApPgb) OR uniref_cluster_50:UniRef50_A0A7U4E8E6`. This was on the 11th of May 2024."
   ]
  },
  {
   "cell_type": "code",
   "execution_count": 20,
   "id": "3030ad2a-51c5-4b62-811e-64d2eb74085e",
   "metadata": {},
   "outputs": [
    {
     "name": "stdout",
     "output_type": "stream",
     "text": [
      "Using 16 threads\n",
      "Read 1366 sequences (type: Protein) from /Users/ariane/Documents/code/MinION/APE_AGW_uniprotkb_Protoglobin_ApPgb_OR_uniref_c_2024_05_11.fasta\n",
      "Using 108 seeds (chosen with constant stride from length sorted seqs) for mBed (from a total of 1366 sequences)\n",
      "Calculating pairwise ktuple-distances...\n",
      "Ktuple-distance calculation progress done. CPU time: 7.65u 0.08s 00:00:07.73 Elapsed: 00:00:00\n"
     ]
    },
    {
     "name": "stderr",
     "output_type": "stream",
     "text": [
      "WARNING: BisectingKmeans(): Can't split cluster no. 0 which has 501 objects any further. Hope it's not too big and doesn't slow things down.\n"
     ]
    },
    {
     "name": "stdout",
     "output_type": "stream",
     "text": [
      "mBed created 15 cluster/s (with a minimum of 1 and a soft maximum of 100 sequences each)\n",
      "Distance calculation within sub-clusters done. CPU time: 5.32u 0.07s 00:00:05.39 Elapsed: 00:00:00\n",
      "Guide-tree computation (mBed) done.\n",
      "Progressive alignment progress done. CPU time: 16.73u 14.65s 00:00:31.38 Elapsed: 00:00:22\n",
      "Alignment written to /Users/ariane/Documents/code/MinION/APE_AGW_uniprotkb_Protoglobin_ApPgb_OR_uniref_c_2024_05_11_msa.fasta\n"
     ]
    }
   ],
   "source": [
    "from Bio import AlignIO, SeqIO\n",
    "import os\n",
    "def make_msa(seqs, seq_ids, file_to_align='msa.fa'):\n",
    "    \"\"\"\n",
    "    Potentialy change this so that the MSA file has the unique time stamp so that we don't get overriding issues.\n",
    "    \"\"\"\n",
    "    with open(file_to_align, 'w+') as fout:\n",
    "        for i, seq in enumerate(seqs):\n",
    "            if isinstance(seq, str) and len(seq) > 0:\n",
    "                fout.write(f'>{seq_ids[i]}\\n{seq}\\n')\n",
    "\n",
    "    # Now make the msa\n",
    "    msa_file = f'{file_to_align.replace(\".fa\", \"_msa.fa\")}'\n",
    "    # Write each one as a fasta file then run the clustal and then the tree\n",
    "    os.system(f'/Users/ariane/Documents/code/MinION/software/./clustal-omega-1.2.3-macosx --force -i {file_to_align} -o {msa_file} -v')\n",
    "    # Reading the alignment file\n",
    "    alignment = AlignIO.read(msa_file, 'fasta')\n",
    "    return alignment\n",
    "\n",
    "\n",
    "# Read in an alignment from uniprot and then add in the sequences of the top 10 variants \n",
    "top_cis = df.sort_values(by='cis', ascending=False)\n",
    "top_cis # Add into the MSA\n",
    "# Using the sequences let's now get the MSA\n",
    "alignment = AlignIO.read(f\"{data_dir}uniprot/uniprotkb_uniref_cluster_50_UniRef50_A0_2024_05_07_msa.fasta\", \"fasta\")\n",
    "seqs = []\n",
    "seq_ids = []\n",
    "for id, mutations, seq in top_cis[['id', 'Mutations', 'aa_variant']].values:\n",
    "    seqs.append(seq)\n",
    "    seq_ids.append(f'{id}_{mutations}')\n",
    "\n",
    "for seq_record in SeqIO.parse(f'{data_dir}uniprot/uniprotkb_Protoglobin_ApPgb_OR_uniref_c_2024_05_11.fasta', \"fasta\"):\n",
    "    seq_ids.append(seq_record.id)\n",
    "    seqs.append(str(seq_record.seq.replace('-', '')))\n",
    "\n",
    "alignment = make_msa(seqs, seq_ids, f'/Users/ariane/Documents/code/MinION/APE_AGW_uniprotkb_Protoglobin_ApPgb_OR_uniref_c_2024_05_11.fasta')\n"
   ]
  },
  {
   "cell_type": "code",
   "execution_count": 21,
   "id": "c474d89c-764d-4826-98ba-d7cd2b9f2f0a",
   "metadata": {},
   "outputs": [],
   "source": [
    "alignment = AlignIO.read(f'/Users/ariane/Documents/code/MinION/APE_AGW_uniprotkb_Protoglobin_ApPgb_OR_uniref_c_2024_05_11_msa.fasta', \"fasta\")\n"
   ]
  },
  {
   "cell_type": "code",
   "execution_count": 35,
   "id": "632093b3-9141-428f-97d8-641ebe25269b",
   "metadata": {},
   "outputs": [],
   "source": [
    "import logomaker\n",
    "import matplotlib.pyplot as plt\n",
    "\n",
    "record_map = {record.id:record.seq for record in alignment}\n",
    "position_map = {}\n",
    "epcr_muations = []\n",
    "for id, mutations in df[['id', 'Mutations']].values:\n",
    "    try:\n",
    "        if len(str(mutations)) > 2:\n",
    "            seq = record_map.get(f'{id}_{mutations.split(\" \")[0]}')\n",
    "            if 'PARENT' not in mutations and 'DEL' not in mutations and 'NA' not in mutations:\n",
    "                for mutation in mutations.split('_'):\n",
    "                    position = int(mutation[1:-1])\n",
    "                    new_position = position - 1\n",
    "                    # now we add to that position until we get to that in the seqeunce\n",
    "                    gap_count = 0\n",
    "                    position_count = 0\n",
    "                    for i in range(0, len(seq)):\n",
    "                        if seq[i] != '-':\n",
    "                            position_count += 1\n",
    "                            if position_count == position:\n",
    "                                break\n",
    "                        else:\n",
    "                            gap_count += 1\n",
    "                    epcr_muations.append(f'{id}_{mutations.split(\" \")[0]}')\n",
    "                    position_map[f'{id}|{mutation}'] = new_position + gap_count\n",
    "    except:\n",
    "        x = 0\n",
    "        #print(mutations)"
   ]
  },
  {
   "cell_type": "markdown",
   "id": "0b7ae166-8ecc-4bb0-910a-ff37020301b1",
   "metadata": {},
   "source": [
    "## Get those two outliers that we want to investigate"
   ]
  },
  {
   "cell_type": "code",
   "execution_count": 23,
   "id": "00d0b3c3-2c19-47e6-9b50-040d2f6ac53f",
   "metadata": {},
   "outputs": [],
   "source": [
    "# ids to investigate\n",
    "highest_cis = df.sort_values(by='cis', ascending=False).head(1)\n",
    "df['cis and trans'] = df['cis'].values + df['trans'].values\n",
    "highest_cis_trans = df.sort_values(by='cis and trans', ascending=False).head(1)\n",
    "df['trans - cis'] = df['trans'].values - df['cis'].values\n",
    "df['cis - trans'] = df['cis'].values - df['trans'].values\n",
    "highest_trans = df.sort_values(by='trans - cis', ascending=False).head(1)\n",
    "highest_cis = df.sort_values(by='cis - trans', ascending=False).head(1)\n"
   ]
  },
  {
   "cell_type": "code",
   "execution_count": 86,
   "id": "156c8d25-a3d5-49a2-930c-b4d302c5cda8",
   "metadata": {},
   "outputs": [
    {
     "data": {
      "text/plain": [
       "array(['MAVPGYDFGKVPDAPISDADFESLKKTVMWGEEDEKYRKMACEALKGQVEDILDLWYGLQGSNQHLIYYLGDKSGRPIPQYLEAVRKRFGLWIIDTLCKPLDRQWLNYMYEIGLRHHRTKKGKTDGVDTVEHIPLRYMIAFIAPIGLTIKPILEKSGHPPEAVERMWAAWVKLVVLQVAIWSYPYAKTGEWLE'],\n",
       "      dtype=object)"
      ]
     },
     "execution_count": 86,
     "metadata": {},
     "output_type": "execute_result"
    }
   ],
   "source": [
    "highest_cis['aa_variant'].values"
   ]
  },
  {
   "cell_type": "code",
   "execution_count": 87,
   "id": "5335c188-873b-4267-9e4b-b8063aece83c",
   "metadata": {},
   "outputs": [
    {
     "data": {
      "text/plain": [
       "array(['MAVPGYDFGKVPDAPISDADFESLKKTVMWGEEDEKYRKMACEALKGQVEDILDLWYGLQGSNQHLIYYFGDKSGRPIPQYLEAVRKRSGLWIIDTLCKPLDRQWLNYMYEIGLRHHRTKKGKTDGVDTVEHIPLRYMIAFIAPIGLTIKPILEKSGHPPEAVERMWAAWVKLVVLQVAIWSYPYAKTGEWLE'],\n",
       "      dtype=object)"
      ]
     },
     "execution_count": 87,
     "metadata": {},
     "output_type": "execute_result"
    }
   ],
   "source": [
    "highest_trans['aa_variant'].values"
   ]
  },
  {
   "cell_type": "code",
   "execution_count": null,
   "id": "ef7b1313-bd39-4e48-87eb-97374a6f2416",
   "metadata": {},
   "outputs": [],
   "source": [
    "MAVPGYDFGKVPDAPISDADFESLKKTVMWGEEDEKYRKMACEALKGQVEDILDLWYGLQGSNQHLIYYFGDKSGRPIPQYLEAVRKRSGLWIIDTLCKPLDRQWLNYMYEIGLRHHRTKKGKTDGVDTVEHIPLRYMIAFIAPIGLTIKPILEKSGHPPEAVERMWAAWVKLVVLQVAIWSYPYAKTGEWLE"
   ]
  },
  {
   "cell_type": "code",
   "execution_count": 24,
   "id": "ae0ad5dd-dffd-4dd0-9655-c1081916a3ea",
   "metadata": {},
   "outputs": [
    {
     "data": {
      "text/plain": [
       "<matplotlib.collections.PathCollection at 0x13885b5b0>"
      ]
     },
     "execution_count": 24,
     "metadata": {},
     "output_type": "execute_result"
    },
    {
     "data": {
      "image/png": "[encoded data removed]",
      "text/plain": [
       "<Figure size 400x300 with 1 Axes>"
      ]
     },
     "metadata": {},
     "output_type": "display_data"
    }
   ],
   "source": [
    "plt.scatter(df['cis'], df['trans'], c='grey')\n",
    "plt.scatter(highest_cis_trans['cis'], highest_cis_trans['trans'], c='red')\n",
    "plt.scatter(highest_trans['cis'], highest_trans['trans'], c='green')\n",
    "plt.scatter(highest_cis['cis'], highest_cis['trans'], c='blue')\n"
   ]
  },
  {
   "cell_type": "code",
   "execution_count": 25,
   "id": "4ddef1ad-408c-4cf3-b92c-ff79bfc87df8",
   "metadata": {},
   "outputs": [],
   "source": [
    "def get_mutation_naturalness(id, position_index, label, alignment, epcr_muations):\n",
    "    # Now for each one where we have a mutation, let's print the position and a logo plot of that position\n",
    "    plt.figure(figsize=(2, 3))  # Width, height in inches\n",
    "    \n",
    "    amino_acids = [record.seq[position_index] for record in alignment if record.id not in epcr_muations]\n",
    "    # Do a logo and make the title the ID\n",
    "    aa_types = 'ACDEFGHIKLMNPQRSTVWY'  # Standard amino acids\n",
    "\n",
    "    counts = {aa: 0 for aa in aa_types}\n",
    "\n",
    "    for aa in amino_acids:\n",
    "        if aa in counts:\n",
    "            counts[aa] += 1\n",
    "    \n",
    "    # Create a DataFrame for logomaker\n",
    "    freq_data = pd.DataFrame([counts])\n",
    "    # Check whether it is natural or not\n",
    "    position_value = id.split(\"|\")[1]\n",
    "    new_aa = position_value[-1]\n",
    "    position_label = ''\n",
    "    if freq_data[new_aa].values[0] > 0:\n",
    "        position_label = 'Natural'\n",
    "    else:\n",
    "        position_label = 'Not-Natural'\n",
    "    freq_data = freq_data.divide(np.sum(freq_data.values))\n",
    "    # Create logo from frequency data\n",
    "    logo = logomaker.Logo(freq_data, ax=plt.gca())\n",
    "\n",
    "    # Customize and show plot\n",
    "    logo.style_xticks(anchor=0, spacing=1, rotation=45)\n",
    "    logo.ax.set_ylabel(\"Frequency\")\n",
    "    set_ax_params(logo.ax)\n",
    "\n",
    "    plt.title(f'{label} {position_label} {id} {int(freq_data[new_aa].values[0]*100)}%')\n",
    "    plt.savefig(f'{figure_dir}Figure1_Logo_{label}.svg', bbox_inches='tight')\n",
    "    plt.show()\n"
   ]
  },
  {
   "cell_type": "code",
   "execution_count": null,
   "id": "b7532133-cdc8-4e6e-92b1-f909910ece83",
   "metadata": {},
   "outputs": [],
   "source": []
  },
  {
   "cell_type": "code",
   "execution_count": 26,
   "id": "e2935abe-01cd-49bc-9f4e-1b2bf8473e3f",
   "metadata": {},
   "outputs": [
    {
     "data": {
      "image/png": "[encoded data removed]",
      "text/plain": [
       "<Figure size 200x300 with 1 Axes>"
      ]
     },
     "metadata": {},
     "output_type": "display_data"
    }
   ],
   "source": [
    "import numpy as np\n",
    "id_of_interest = highest_trans.id.values[0]\n",
    "label = 'Highest Trans'\n",
    "for id, position_index in position_map.items():\n",
    "    if id.split('|')[0] == id_of_interest:\n",
    "        get_mutation_naturalness(id, position_index, label, alignment, epcr_muations)"
   ]
  },
  {
   "cell_type": "code",
   "execution_count": 27,
   "id": "1372474f-1572-455f-b978-917c3d598a47",
   "metadata": {},
   "outputs": [
    {
     "data": {
      "image/png": "[encoded data removed]",
      "text/plain": [
       "<Figure size 200x300 with 1 Axes>"
      ]
     },
     "metadata": {},
     "output_type": "display_data"
    }
   ],
   "source": [
    "import numpy as np\n",
    "id_of_interest = highest_cis.id.values[0]\n",
    "label = 'Highest Cis'\n",
    "for id, position_index in position_map.items():\n",
    "    if id.split('|')[0] == id_of_interest:\n",
    "        get_mutation_naturalness(id, position_index, label, alignment, epcr_muations)"
   ]
  },
  {
   "cell_type": "code",
   "execution_count": 28,
   "id": "3627cd84-08f2-4bb1-95db-3f58a290e5a6",
   "metadata": {},
   "outputs": [
    {
     "data": {
      "image/png": "[encoded data removed]",
      "text/plain": [
       "<Figure size 200x300 with 1 Axes>"
      ]
     },
     "metadata": {},
     "output_type": "display_data"
    }
   ],
   "source": [
    "import numpy as np\n",
    "id_of_interest = highest_cis_trans.id.values[0]\n",
    "label = 'Highest cis and trans'\n",
    "for id, position_index in position_map.items():\n",
    "    if id.split('|')[0] == id_of_interest:\n",
    "        get_mutation_naturalness(id, position_index, label, alignment, epcr_muations)"
   ]
  },
  {
   "cell_type": "markdown",
   "id": "b6ced35d-507b-4ddc-85ce-d8d5dab3b3e6",
   "metadata": {},
   "source": [
    "# Lastly for each we need to find the sequnences where these occur!\n",
    "\n",
    "For both the natural and the non-natural mutations, the last step we need to do is to determine whether the mutations occur in the other sequences and what they are so we can invesitage them in uniprot. Second, if they occur in any other sequences where do they occur and what are the other mutations (i.e. are they epistatic?)"
   ]
  },
  {
   "cell_type": "code",
   "execution_count": 29,
   "id": "dc5aae84-95e3-4e97-82ad-7fa0fc4ee14f",
   "metadata": {},
   "outputs": [
    {
     "name": "stdout",
     "output_type": "stream",
     "text": [
      "AA\n",
      "F    1283\n",
      "-      58\n",
      "S      13\n",
      "L       4\n",
      "D       4\n",
      "Y       2\n",
      "I       1\n",
      "R       1\n",
      "Name: count, dtype: int64\n",
      "20240422_300-1_C2_F70L\n",
      "20240502_500-2_G3_F70L\n",
      "20240422_300-2_D1_F70L\n",
      "tr|A0A522T0I9|A0A522T0I9_9GAMM\n"
     ]
    }
   ],
   "source": [
    "id_of_interest = highest_cis.id.values[0]\n",
    "label = 'Highest Cis'\n",
    "aa = 'L'\n",
    "for id, position_index in position_map.items():\n",
    "    if id.split('|')[0] == id_of_interest:    # Now for each one where we have a mutation, let's print the position and a logo plot of that position        \n",
    "        rows = [[record.id, record.seq[position_index]] for record in alignment]\n",
    "        position_df = pd.DataFrame(rows, columns=['id', 'AA'])\n",
    "        print(position_df['AA'].value_counts())\n",
    "        # also print the ids of any that have the mutation we observed\n",
    "        has_aa = position_df[position_df['AA'] == aa]\n",
    "        print('\\n'.join(has_aa['id'].values))"
   ]
  },
  {
   "cell_type": "markdown",
   "id": "072a1f33-7c85-44a3-90fb-3153e0e38c84",
   "metadata": {},
   "source": [
    "## Check out uniprot annotation\n",
    "\n",
    "https://www.uniprot.org/uniprotkb/A0A522T0I9/entry\n",
    "\n",
    "https://alphafold.ebi.ac.uk/entry/A0A522T0I9"
   ]
  },
  {
   "cell_type": "code",
   "execution_count": 30,
   "id": "256422c2-022f-4e21-8330-a22539aab705",
   "metadata": {},
   "outputs": [
    {
     "data": {
      "text/plain": [
       "601    3176372.303\n",
       "Name: cis, dtype: float64"
      ]
     },
     "execution_count": 30,
     "metadata": {},
     "output_type": "execute_result"
    }
   ],
   "source": [
    "df[df['id'] == '20240422_300-1_C2']['cis']"
   ]
  },
  {
   "cell_type": "code",
   "execution_count": 31,
   "id": "3d2469e6-ad7e-4d10-a66e-c1ecdda9dd65",
   "metadata": {},
   "outputs": [
    {
     "data": {
      "text/plain": [
       "<matplotlib.collections.PathCollection at 0x138ba90d0>"
      ]
     },
     "execution_count": 31,
     "metadata": {},
     "output_type": "execute_result"
    },
    {
     "data": {
      "image/png": "[encoded data removed]",
      "text/plain": [
       "<Figure size 400x300 with 1 Axes>"
      ]
     },
     "metadata": {},
     "output_type": "display_data"
    }
   ],
   "source": [
    "plt.scatter(df['cis'], df['trans'], c='grey')\n",
    "plt.scatter(highest_cis['cis'], highest_cis['trans'], c='red')\n",
    "plt.scatter(df[df['id'] == '20240422_300-1_C2']['cis'], df[df['id'] == '20240422_300-1_C2']['trans'], c='green')\n",
    "plt.scatter(df[df['id'] == '20240502_500-2_G3']['cis'], df[df['id'] == '20240502_500-2_G3']['trans'], c='blue')\n",
    "plt.scatter(df[df['id'] == '20240422_300-2_D1']['cis'], df[df['id'] == '20240422_300-2_D1']['trans'], c='blue')\n"
   ]
  },
  {
   "cell_type": "code",
   "execution_count": 32,
   "id": "fe8d553b-7bfa-42d9-8c23-73afb17b1b2b",
   "metadata": {},
   "outputs": [
    {
     "name": "stdout",
     "output_type": "stream",
     "text": [
      "AA\n",
      "F    1295\n",
      "-      59\n",
      "L       7\n",
      "S       3\n",
      "I       1\n",
      "Y       1\n",
      "Name: count, dtype: int64\n",
      "20240502_500-3_A4_F89L\n",
      "20240422_500-2_D10_F89L_W181L\n",
      "20240502_500-3_C10_F89L\n",
      "20240502_300-2_C12_F89L\n",
      "20240502_500-3_G5_D72G_F89L\n",
      "tr|A0A7C2TA05|A0A7C2TA05_9CREN\n",
      "tr|A0A7J4ADG0|A0A7J4ADG0_9CREN\n"
     ]
    }
   ],
   "source": [
    "id_of_interest = highest_trans.id.values[0]\n",
    "label = 'Highest Trans'\n",
    "aa = 'L'\n",
    "for id, position_index in position_map.items():\n",
    "    if id.split('|')[0] == id_of_interest:    # Now for each one where we have a mutation, let's print the position and a logo plot of that position        \n",
    "        rows = [[record.id, record.seq[position_index]] for record in alignment]\n",
    "        position_df = pd.DataFrame(rows, columns=['id', 'AA'])\n",
    "        print(position_df['AA'].value_counts())\n",
    "        # also print the ids of any that have the mutation we observed\n",
    "        has_aa = position_df[position_df['AA'] == aa]\n",
    "        print('\\n'.join(has_aa['id'].values))"
   ]
  },
  {
   "cell_type": "code",
   "execution_count": 33,
   "id": "e1e13b28-2121-446a-b5ba-911a22ab6543",
   "metadata": {},
   "outputs": [
    {
     "data": {
      "text/plain": [
       "Text(0.5, 1.0, 'Epistatic relations for highest trans')"
      ]
     },
     "execution_count": 33,
     "metadata": {},
     "output_type": "execute_result"
    },
    {
     "data": {
      "image/png": "[encoded data removed]",
      "text/plain": [
       "<Figure size 400x300 with 1 Axes>"
      ]
     },
     "metadata": {},
     "output_type": "display_data"
    }
   ],
   "source": [
    "plt.scatter(df['cis'], df['trans'], c='grey')\n",
    "plt.scatter(highest_trans['cis'], highest_trans['trans'], c='yellow')\n",
    "plt.scatter(df[df['id'] == '20240502_500-3_A4']['cis'], df[df['id'] == '20240502_500-3_A4']['trans'], c='blue')\n",
    "plt.scatter(df[df['id'] == '20240422_500-2_D10']['cis'], df[df['id'] == '20240422_500-2_D10']['trans'], c='red')\n",
    "plt.scatter(df[df['id'] == '20240502_500-3_C10']['cis'], df[df['id'] == '20240502_500-3_C10']['trans'], c='blue')\n",
    "plt.scatter(df[df['id'] == '20240502_300-2_C12']['cis'], df[df['id'] == '20240502_300-2_C12']['trans'], c='blue')\n",
    "plt.scatter(df[df['id'] == '20240502_500-3_G5']['cis'], df[df['id'] == '20240502_500-3_G5']['trans'], c='pink')\n",
    "plt.title('Epistatic relations for highest trans')"
   ]
  },
  {
   "cell_type": "code",
   "execution_count": 34,
   "id": "c4d4f866-f8b3-41b7-a1e3-0554237f366d",
   "metadata": {},
   "outputs": [
    {
     "name": "stdout",
     "output_type": "stream",
     "text": [
      "AA\n",
      "Q    1178\n",
      "T      72\n",
      "-      63\n",
      "S      34\n",
      "H      13\n",
      "N       3\n",
      "R       1\n",
      "L       1\n",
      "*       1\n",
      "Name: count, dtype: int64\n",
      "20240422_300-1_G8_Q177R\n"
     ]
    }
   ],
   "source": [
    "id_of_interest = highest_cis_trans.id.values[0]\n",
    "label = 'Highest Cis Trans'\n",
    "aa = 'R'\n",
    "for id, position_index in position_map.items():\n",
    "    if id.split('|')[0] == id_of_interest:    # Now for each one where we have a mutation, let's print the position and a logo plot of that position        \n",
    "        rows = [[record.id, record.seq[position_index]] for record in alignment]\n",
    "        position_df = pd.DataFrame(rows, columns=['id', 'AA'])\n",
    "        print(position_df['AA'].value_counts())\n",
    "        # also print the ids of any that have the mutation we observed\n",
    "        has_aa = position_df[position_df['AA'] == aa]\n",
    "        print('\\n'.join(has_aa['id'].values))"
   ]
  },
  {
   "cell_type": "code",
   "execution_count": null,
   "id": "4968a8c6-8b19-436c-bf16-294b8179e4b5",
   "metadata": {},
   "outputs": [],
   "source": [
    "select :70177; swapaa :70 leu; swapaa :89 ser; swapaa :177 arg;"
   ]
  },
  {
   "cell_type": "code",
   "execution_count": null,
   "id": "b3905492-a08d-4256-a4b7-bd452a589afd",
   "metadata": {},
   "outputs": [],
   "source": [
    "select :70; "
   ]
  },
  {
   "cell_type": "code",
   "execution_count": null,
   "id": "d7e1ba6f-82c9-4304-a06d-b0ea0e8a272c",
   "metadata": {},
   "outputs": [],
   "source": [
    "swapaa :70 leu; swapaa :89 ser; swapaa :177 arg;"
   ]
  }
 ],
 "metadata": {
  "kernelspec": {
   "display_name": "Python 3 (ipykernel)",
   "language": "python",
   "name": "python3"
  },
  "language_info": {
   "codemirror_mode": {
    "name": "ipython",
    "version": 3
   },
   "file_extension": ".py",
   "mimetype": "text/x-python",
   "name": "python",
   "nbconvert_exporter": "python",
   "pygments_lexer": "ipython3",
   "version": "3.9.18"
  }
 },
 "nbformat": 4,
 "nbformat_minor": 5
}
