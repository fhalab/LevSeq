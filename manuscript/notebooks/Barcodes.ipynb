{
 "cells": [
  {
   "cell_type": "markdown",
   "id": "d4d3ef1e-6f5d-4006-bf30-f052996c6f34",
   "metadata": {},
   "source": [
    "# Barcodes "
   ]
  },
  {
   "cell_type": "code",
   "execution_count": 1,
   "id": "6206c1c5-a858-4b2b-9d3a-2874c17575dd",
   "metadata": {},
   "source": [
    "import numpy as np\n",
    "import seaborn as sns\n",
    "import matplotlib.pyplot as plt\n"
   ],
   "outputs": []
  },
  {
   "cell_type": "code",
   "execution_count": 2,
   "id": "cc3f2c20-2786-4e9c-bfa4-f0a4b7dbe85c",
   "metadata": {},
   "source": [
    "!pip install python-Levenshtein\n"
   ],
   "outputs": []
  },
  {
   "cell_type": "code",
   "execution_count": 2,
   "id": "6131a639-2019-4a05-8fd0-778cb49328fb",
   "metadata": {},
   "source": [
    "import Levenshtein\n",
    "from Bio import SeqIO\n",
    "\n",
    "barcodes = '/Users/ariane/Documents/code/MinION/tests/data/20240502/rev_barcodes.fasta'\n",
    "\n",
    "# Read sequences from a FASTA file\n",
    "sequences = [str(record.seq) for record in SeqIO.parse(barcodes, \"fasta\")]\n",
    "\n",
    "# List of sequence IDs (for labeling purposes)\n",
    "sequence_ids = [record.id for record in SeqIO.parse(barcodes, \"fasta\")]\n"
   ],
   "outputs": []
  },
  {
   "cell_type": "code",
   "execution_count": 4,
   "id": "db473bc0-3daf-4b4a-a148-f6db9d82e4d1",
   "metadata": {},
   "source": [
    "import numpy as np\n",
    "import Levenshtein\n",
    "\n",
    "# Create a matrix to store the Levenshtein distances\n",
    "num_sequences = len(sequences)\n",
    "distance_matrix = np.zeros((num_sequences, num_sequences), dtype=int)\n",
    "\n",
    "for i in range(num_sequences):\n",
    "    for j in range(num_sequences):\n",
    "        dist = Levenshtein.distance(sequences[i], sequences[j])\n",
    "        distance_matrix[i, j] = dist\n",
    "        if dist <= 12 and i != j:\n",
    "            print(sequence_ids[i], sequence_ids[j], dist)"
   ],
   "outputs": []
  },
  {
   "cell_type": "code",
   "execution_count": 5,
   "id": "32f632c6-9112-4df2-9b62-91659361313a",
   "metadata": {},
   "source": [
    "import seaborn as sns\n",
    "import matplotlib.pyplot as plt\n",
    "\n",
    "# Create a heatmap\n",
    "plt.figure(figsize=(12, 10))\n",
    "sns.heatmap(distance_matrix, xticklabels=sequence_ids, yticklabels=sequence_ids, annot=True, cmap='coolwarm')\n",
    "plt.title(\"Heatmap of Levenshtein Distance Between Sequences\")\n",
    "plt.show()"
   ],
   "outputs": []
  },
  {
   "cell_type": "code",
   "execution_count": 19,
   "id": "a1c45913-9a11-45b4-9b91-3521129aeeda",
   "metadata": {},
   "source": [
    "len(sequences[0])"
   ],
   "outputs": []
  },
  {
   "cell_type": "code",
   "execution_count": 18,
   "id": "09de0b02-8cba-4523-897f-78d8da564a9b",
   "metadata": {},
   "source": [
    "import seaborn as sns\n",
    "import matplotlib.pyplot as plt\n",
    "import Levenshtein\n",
    "from Bio import SeqIO\n",
    "\n",
    "barcodes = '/Users/ariane/Documents/code/MinION/tests/data/20240502/for_barcodes.fasta'\n",
    "\n",
    "# Read sequences from a FASTA file\n",
    "sequences = [str(record.seq) for record in SeqIO.parse(barcodes, \"fasta\")]\n",
    "\n",
    "# List of sequence IDs (for labeling purposes)\n",
    "sequence_ids = [record.id for record in SeqIO.parse(barcodes, \"fasta\")]\n",
    "\n",
    "import numpy as np\n",
    "import Levenshtein\n",
    "\n",
    "# Create a matrix to store the Levenshtein distances\n",
    "num_sequences = len(sequences)\n",
    "distance_matrix = np.zeros((num_sequences, num_sequences), dtype=int)\n",
    "\n",
    "for i in range(num_sequences):\n",
    "    for j in range(num_sequences):\n",
    "        dist = Levenshtein.distance(sequences[i], sequences[j])\n",
    "        distance_matrix[i, j] = dist\n",
    "        if i != j:\n",
    "            if dist <= 8:\n",
    "                print(sequence_ids[i], sequence_ids[j], dist)\n",
    " \n",
    "# Create a heatmap\n",
    "plt.figure(figsize=(12, 10))\n",
    "sns.heatmap(distance_matrix, xticklabels=sequence_ids, yticklabels=sequence_ids, cmap='coolwarm')\n",
    "plt.title(\"Heatmap of Levenshtein Distance Between forward barcodes\")\n",
    "plt.show()"
   ],
   "outputs": []
  },
  {
   "cell_type": "code",
   "execution_count": 20,
   "id": "1e06165d-fffb-4df0-b863-611cb82bff67",
   "metadata": {},
   "source": [
    "8/24"
   ],
   "outputs": []
  },
  {
   "cell_type": "code",
   "execution_count": 7,
   "id": "8dd667a3-e9c0-4e2e-a069-eac36a1afeec",
   "metadata": {},
   "source": [
    "# Create a heatmap\n",
    "plt.figure(figsize=(14, 12))\n",
    "sns.heatmap(distance_matrix, xticklabels=sequence_ids, yticklabels=sequence_ids, cmap='coolwarm')\n",
    "plt.title(\"Heatmap of Levenshtein Distance Between forward barcodes\")\n",
    "plt.show()"
   ],
   "outputs": []
  },
  {
   "cell_type": "markdown",
   "id": "c0547533-7357-4e09-a85d-4c42f63e6f02",
   "metadata": {},
   "source": [
    "## Testing barcoding\n",
    "\n",
    "Read layout\n",
    "\n",
    "Found by regular 3’\n",
    "-a ADAPTER\n",
    "Found by non-internal 3’\n",
    "-a ADAPTERX\n",
    "Found by anchored 3’\n",
    "-a ADAPTER$\n",
    "Full adapter sequence anywhere\n",
    "\n",
    "acgtacgtADAPTERacgt\n",
    "\n",
    "yes\n",
    "\n",
    "no\n",
    "\n",
    "no\n",
    "\n",
    "Partial adapter sequence at 3’ end\n",
    "\n",
    "acgtacgtacgtADAP\n",
    "\n",
    "yes\n",
    "\n",
    "yes\n",
    "\n",
    "no\n",
    "\n",
    "Full adapter sequence at 3’ end\n",
    "\n",
    "acgtacgtacgtADAPTER\n",
    "\n",
    "yes\n",
    "\n",
    "yes\n",
    "\n",
    "Example command: \n",
    "\n",
    "```\n",
    "cutadapt -e 8 -a file$:for_barcodes.fasta -o forward.fastq.gz test.fastq.gz\n",
    "(minion) [tmp] cutadapt -e 8 --revcomp -g ^file:rev_barcode_1.fasta --discard-untrimmed -o test.fastq.gz single_file.fastq.gz\n",
    "\n",
    "```\n"
   ]
  },
  {
   "cell_type": "code",
   "execution_count": null,
   "id": "589e5aaf-6299-4a81-bfb9-bf4e40119638",
   "metadata": {},
   "source": [
    "# First cat the fastqz files\n",
    "# https://cutadapt.readthedocs.io/en/stable/\n",
    "# (protein) [20240502] cat no_sample/20240502_1704_MN41105_flg114_cc49dc42/fastq_pass/flg114_pass_cc49dc42_c01452a3_* > 20240502.fastq.gz"
   ],
   "outputs": []
  },
  {
   "cell_type": "code",
   "execution_count": 3,
   "id": "92c47ec6-e8aa-473a-b1e2-30439b19dffa",
   "metadata": {
    "scrolled": true
   },
   "source": [
    "folder = '/Users/ariane/Documents/code/MinION/manucript/notebooks/Ape AGW/Data/raw/20240502/'\n",
    "# Test parameters\n",
    "import os\n",
    "import time\n",
    "\n",
    "start = time.time()\n",
    "\n",
    "\n",
    "barcodes = f'{folder}rev_barcodes.fasta'\n",
    "\n",
    "# Read sequences from a FASTA file\n",
    "reverse_barcodes = [str(record.seq) for record in SeqIO.parse(barcodes, \"fasta\")]\n",
    "# List of sequence IDs (for labeling purposes)\n",
    "reverse_barcode_ids = [record.id for record in SeqIO.parse(barcodes, \"fasta\")]\n",
    "\n",
    "barcodes = f'{folder}for_barcodes.fasta'\n",
    "\n",
    "# Read sequences from a FASTA file\n",
    "forward_barcodes = [str(record.seq) for record in SeqIO.parse(barcodes, \"fasta\")]\n",
    "# List of sequence IDs (for labeling purposes)\n",
    "forward_barcode_ids = [record.id for record in SeqIO.parse(barcodes, \"fasta\")]\n",
    "\n",
    "for i, rev in enumerate(reverse_barcodes):\n",
    "# --discard-untrimmed  only keep adapters with the barcode\n",
    "    label = reverse_barcode_ids[i]\n",
    "    print(label)\n",
    "    os.system(f'cutadapt -e 0.2 -u 200 -O 20 --revcomp -a {rev} --json={label}.cutadapt.json --discard-untrimmed --action=none -o \"{folder}output/{label}.fastq.gz\" \"{folder}20240502.fastq.gz\" ')\n",
    "    os.system(f'mkdir \"{folder}output/{label}/\"')\n",
    "    for j, forward in enumerate(forward_barcodes):\n",
    "        forward_label = forward_barcode_ids[j]\n",
    "        os.system(f'mkdir \"{folder}output/{label}/{forward_label}/\"')\n",
    "        os.system(f'cutadapt -e 0.2 -u 200 -O 20 --revcomp -g {forward} --discard-untrimmed --action=none -o \"{folder}output/{label}/{forward_label}/demultiplexed_{label}_{forward_label}.fastq.gz\" \"{folder}output/{label}.fastq.gz\"')\n",
    "\n",
    "end = time.time()\n"
   ],
   "outputs": []
  },
  {
   "cell_type": "code",
   "execution_count": 4,
   "id": "4fce1c9a-d1d4-4b62-aebf-6d733ae015c2",
   "metadata": {},
   "source": [
    "print(end - start)"
   ],
   "outputs": []
  },
  {
   "cell_type": "code",
   "execution_count": 4,
   "id": "bb47b338-872f-43fb-b926-37756d049595",
   "metadata": {},
   "source": [
    "from minION import *\n",
    "vc = VariantCaller(Path('/Users/ariane/Documents/code/MinION/manucript/notebooks/Ape AGW/Data/EVSeqL_Output/YL-EvSeqL1/300-1/'),\n",
    "                           Path('/Users/ariane/Documents/code/MinION/manucript/notebooks/Ape AGW/Data/EVSeqL_Output/YL-EvSeqL1/300-1/temp_300-1.fasta'),\n",
    "                           demultiplex_folder_name='',\n",
    "                           padding_start=0,\n",
    "                           padding_end=0)\n",
    "variant_df = vc.get_variant_df(threshold=0.5,\n",
    "                               min_depth=5,\n",
    "                               output_dir='/Users/ariane/Documents/code/MinION/manucript/notebooks/Ape AGW/Data/EVSeqL_Output/YL-EvSeqL1/300-1/msa_v2/',\n",
    "                               num_threads=20)\n",
    "variant_df.to_csv('/Users/ariane/Documents/code/MinION/manucript/notebooks/Ape AGW/Data/EVSeqL_Output/YL-EvSeqL1/variant_new_0.5_v6_VERSION2.csv')\n"
   ],
   "outputs": []
  }
 ],
 "metadata": {
  "kernelspec": {
   "display_name": "Python 3 (ipykernel)",
   "language": "python",
   "name": "python3"
  },
  "language_info": {
   "codemirror_mode": {
    "name": "ipython",
    "version": 3
   },
   "file_extension": ".py",
   "mimetype": "text/x-python",
   "name": "python",
   "nbconvert_exporter": "python",
   "pygments_lexer": "ipython3",
   "version": "3.8.19"
  }
 },
 "nbformat": 4,
 "nbformat_minor": 5
}
