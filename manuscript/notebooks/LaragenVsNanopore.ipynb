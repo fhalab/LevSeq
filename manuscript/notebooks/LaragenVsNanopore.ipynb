{
 "cells": [
  {
   "cell_type": "markdown",
   "id": "dc95610c-4734-4e7f-9398-b65ce1b64a56",
   "metadata": {},
   "source": [
    "# Laragen validation\n",
    "\n",
    "Based on the reviewer comments we need to validate the sequencing calls from Laragen and combine this with the data from oir Nanopore sequencing.\n",
    "\n",
    "We seek to show: \n",
    "\n",
    "1. Read in the laragen sequencing and \"flag\" low quality sequneces\n",
    "2. Compare the calling performance of Laragen vs Nanopore\n",
    "3. Compare the two nanopore runs (using different barcodes and run on different days)"
   ]
  },
  {
   "cell_type": "code",
   "execution_count": 61,
   "id": "0719b7b9-fff3-4e0f-8de2-1a5caf06887c",
   "metadata": {},
   "source": [
    "from Bio import SeqIO\n",
    "import pandas as pd\n",
    "import os\n",
    "\n",
    "df = pd.DataFrame()\n",
    "labels = []\n",
    "full_seq = []\n",
    "filenames = []\n",
    "data_dir = '../Data/LevSeq-review-sanger/'\n",
    "files = os.listdir(data_dir)\n",
    "for f in files:\n",
    "    if '.ab1' in f:\n",
    "        handle = open(f'{data_dir}{f}', \"rb\")\n",
    "        for record in SeqIO.parse(handle, \"abi\"):\n",
    "            # Sequence is in record.Seq\n",
    "            note_str = str(record)\n",
    "            full_seq.append(str(record.seq))\n",
    "            labels.append(note_str)\n",
    "            filenames.append(f)\n",
    "df['filename'] = filenames\n",
    "df['seq'] = full_seq\n",
    "df['labels'] = labels\n",
    "df.to_csv('../Data/Laragen_Validation/ab1_processed.csv', index=False)\n",
    "laragen_seqs = df.copy()\n",
    "laragen_seqs['id'] = [int(num.split('_')[0]) for num in laragen_seqs['filename'].values]\n",
    "laragen_seqs = laragen_seqs.sort_values('id')\n"
   ],
   "outputs": []
  },
  {
   "cell_type": "markdown",
   "id": "c4863a13-edaa-49a1-95be-736fef73f2b0",
   "metadata": {},
   "source": [
    "## There are two barcodes that we test to show that LevSeq gets the same irrespective of barcoding"
   ]
  },
  {
   "cell_type": "code",
   "execution_count": 62,
   "id": "90666273-87dd-4964-8f92-7c636f97b8c0",
   "metadata": {},
   "source": [
    "barcode_label = '400-1-25'\n",
    "df = pd.read_csv('../Data/Laragen_Validation/variants.csv')\n",
    "df = df[df['name'] == barcode_label]\n",
    "# Add in the aligned variants\n",
    "df['LaragenNumber'] = laragen_seqs['filename'].values\n",
    "df['LaragenInfo'] = laragen_seqs['labels'].values\n",
    "df['LaragenSeq'] = laragen_seqs['seq'].values"
   ],
   "outputs": []
  },
  {
   "cell_type": "markdown",
   "id": "5e9b60f2-6fe9-4b1a-aae2-19e9246ca696",
   "metadata": {},
   "source": [
    "## Only consider high quality bases from Laragen\n",
    "\n",
    "Here we aim to drop low quality bases so that they don't confuse the sequnces"
   ]
  },
  {
   "cell_type": "code",
   "execution_count": 53,
   "id": "58dacff0-7314-4016-8535-c75a30908cf1",
   "metadata": {
    "scrolled": true
   },
   "source": [
    "#print(df['labels'].values[0])"
   ],
   "outputs": []
  },
  {
   "cell_type": "markdown",
   "id": "4e77b948-f05c-4638-8ff4-1bca21df88c0",
   "metadata": {},
   "source": [
    "## Align all sequences to find the variants\n"
   ]
  },
  {
   "cell_type": "code",
   "execution_count": 63,
   "id": "88fbb818-a414-4385-af9b-55e1a0668522",
   "metadata": {},
   "source": [
    "ref_seq = df['refseq'].values[0]"
   ],
   "outputs": []
  },
  {
   "cell_type": "code",
   "execution_count": 64,
   "id": "30de9d00-1787-4b7b-ae3d-9ea2da1677ed",
   "metadata": {},
   "source": [
    "# Align to the reference\n",
    "import os\n",
    "from Bio import SeqIO\n",
    "from Bio.PDB.Polypeptide import aa1\n",
    "\n",
    "count_correct, count_wrong = 0, 0\n",
    "laragen_variants = []\n",
    "with open(f'seqs/{barcode_label}.fa', 'w+') as fout:\n",
    "    fout.write(f'>ref\\n{ref_seq}\\n')\n",
    "    for well, laragen, nanopore in df[['Well', 'LaragenSeq', 'refseq']].values:\n",
    "        # Align them\n",
    "        fout.write(f'>{well}\\n{laragen.replace(\"-\", \"\")}\\n')"
   ],
   "outputs": []
  },
  {
   "cell_type": "code",
   "execution_count": 65,
   "id": "ef1c47ef-6eee-42c4-9544-0a93eb3e84f6",
   "metadata": {},
   "source": [
    "os.system(f'clustal-omega --force -i seqs/{barcode_label}.fa -o seqs/{barcode_label}_msa.fa')"
   ],
   "outputs": []
  },
  {
   "cell_type": "markdown",
   "id": "8ea5b635-bf7e-469c-8a47-40814791426e",
   "metadata": {},
   "source": [
    "## Read in the aligned sequence and calculate the variants w.r.t. to the refseq"
   ]
  },
  {
   "cell_type": "code",
   "execution_count": 66,
   "id": "af8a9296-378c-4f95-b3fd-1c48652be1d5",
   "metadata": {},
   "source": [
    "seqs = [str(record.seq) for record in SeqIO.parse(f'seqs/{barcode_label}_msa.fa', \"fasta\")]\n",
    "# Read in the ref seq\n",
    "ref_seq = seqs[0]\n",
    "# Read it back in \n",
    "laragen_variants = []\n",
    "for laragen_gappy in seqs[1:]:\n",
    "    ref_seq_non_gapped_idx = 1\n",
    "    variant = []\n",
    "    for i, nc in enumerate(laragen_gappy):\n",
    "        if nc != ref_seq[i]:\n",
    "            if nc != '-' and ref_seq[i] != '-':\n",
    "                variant.append(f'{ref_seq[i]}{ref_seq_non_gapped_idx}{nc}')\n",
    "            elif nc == '-':\n",
    "                variant.append(f'{ref_seq[i]}{ref_seq_non_gapped_idx}DEL')\n",
    "            # Ignore inserts for now\n",
    "        if ref_seq[i] != '-':\n",
    "            ref_seq_non_gapped_idx += 1\n",
    "    if len(variant) > 0:\n",
    "        laragen_variants.append('_'.join(variant))\n",
    "    else:\n",
    "        laragen_variants.append('#PARENT#')\n"
   ],
   "outputs": []
  },
  {
   "cell_type": "code",
   "execution_count": 67,
   "id": "0b1cd0a8-b01b-4adf-8924-b43c4f5cc0bd",
   "metadata": {},
   "source": [
    "df['LaragenVariants'] = laragen_variants\n",
    "# Now look at which ones agree and which disagree\n",
    "df[[c for c in df.columns if c != 'LaragenInfo']].to_csv(f'LaragenVsNanopore_{barcode_label}.csv', index=False)"
   ],
   "outputs": []
  }
 ],
 "metadata": {
  "kernelspec": {
   "display_name": "Python 3 (ipykernel)",
   "language": "python",
   "name": "python3"
  },
  "language_info": {
   "codemirror_mode": {
    "name": "ipython",
    "version": 3
   },
   "file_extension": ".py",
   "mimetype": "text/x-python",
   "name": "python",
   "nbconvert_exporter": "python",
   "pygments_lexer": "ipython3",
   "version": "3.8.19"
  }
 },
 "nbformat": 4,
 "nbformat_minor": 5
}
