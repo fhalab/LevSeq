{
 "cells": [
  {
   "cell_type": "markdown",
   "id": "012caf43-5c23-435f-8175-1d6eaa445a60",
   "metadata": {},
   "source": [
    "# epPCR run for the main manuscrtipt\n",
    "\n",
    "#### Command to run docker:\n",
    "\n",
    "If you seek to replicate these results, please use LevSeq version 1.2.4.\n",
    "\n",
    "Also the data to repeat these experiments is available at [zenodo link](https://zenodo.org/records/13694463).\n",
    "\n",
    "Once you have the data from zenodo downloaded please have the ParLQ-ep1 and ParLQ-ep2 in separate folders then for each `cd` into the directory with the data and run the following commands:\n",
    "\n",
    "\n",
    "#### LevSeq command for ep1\n",
    "```\n",
    "docker run --rm -v \"$(pwd):/levseq_results\" yueminglong/levseq:levseq-1.1.1-arm64 /levseq_results/parLQ_20240421 /levseq_results/20240421 /levseq_results/20240421-YL-ParLQ-ep1.csv\n",
    "```\n",
    "#### LevSeq command for ep2\n",
    "```\n",
    "docker run --rm -v \"$(pwd):/levseq_results\" levseq /levseq_results/parLQ_20240421 /levseq_results/20240421 /levseq_results/20240421-YL-ParLQ-ep1.csv\n",
    "```\n",
    "\n",
    "#### Description\n",
    "\n",
    "1. `\"$(pwd):/levseq_results\"` is the path to where you downloaded the raw data from zenodo i.e. we expect you to run it from there otherwise put in the full path rather than `pwd()`\n",
    "2. `yueminglong/levseq:levseq-1.1.1-arm64` is the docker image (if you are pulling), since I ran this on a mac M1 I used this one! Use just levseq if you run locally.\n",
    "3. `levseq_results/parLQ_20240502/` name of the folder that the data will be output into\n",
    "4. `/levseq_results/2024050` name of the folder with the data\n",
    "5. `levseq_results/20240502-YL-ParLQ-ep2.csv` name of the csv reference file\n",
    "\n"
   ]
  },
  {
   "cell_type": "markdown",
   "id": "9c49c9e2-f966-41e7-8d58-01e085ba81be",
   "metadata": {},
   "source": [
    "## Imports\n",
    "\n",
    "For the manuscript we used LevSeq version 1.2.4."
   ]
  },
  {
   "cell_type": "code",
   "execution_count": 1,
   "id": "fd037c91-380d-4da9-be80-7148cae7bd02",
   "metadata": {},
   "source": [
    "from levseq import *\n",
    "%load_ext autoreload\n",
    "%autoreload 2\n",
    "from levseq.seqfit import process_plate_files, gen_seqfitvis, normalise_calculate_stats\n",
    "import warnings\n",
    "warnings.filterwarnings('ignore')\n"
   ],
   "outputs": []
  },
  {
   "cell_type": "markdown",
   "id": "6697f438-bd5c-489c-87e8-19154f2f277a",
   "metadata": {},
   "source": [
    "# Load and process the plates\n",
    "\n",
    "These were run on two different dates, four plates in one run and then six plates in another run."
   ]
  },
  {
   "cell_type": "code",
   "execution_count": 2,
   "id": "cef415db-faf9-452b-80bc-7dd70e8bf10f",
   "metadata": {},
   "source": [
    "processed_plate_df, seqfit_path = process_plate_files(product=[\"cis\", \"trans\"], input_csv=\"/Users/arianemora/Documents/code/LevSeq/data/epPCR/epPCR_main_manuscript/ParLQ-ep1/parLQ_20240421.csv\")\n",
    "processed_plate_ep_1_df = processed_plate_df.copy()\n",
    "processed_plate_ep_1_df['Plate'] = [f'ep1_{p}' for p in processed_plate_ep_1_df['Plate'].values]"
   ],
   "outputs": []
  },
  {
   "cell_type": "code",
   "execution_count": 3,
   "id": "bf9148ef-31a5-47e2-b960-311630af57a4",
   "metadata": {},
   "source": [
    "processed_plate_df, seqfit_path = process_plate_files(product=[\"cis\", \"trans\"], input_csv=\"/Users/arianemora/Documents/code/LevSeq/data/epPCR/epPCR_main_manuscript/ParLQ-ep2/parLQ_20240502.csv\")\n",
    "processed_plate_df['Plate'] = [f'ep2_{p}' for p in processed_plate_df['Plate'].values]\n",
    "processed_plate_df = pd.concat([processed_plate_df, processed_plate_ep_1_df])\n",
    "processed_plate_df"
   ],
   "outputs": []
  },
  {
   "cell_type": "code",
   "execution_count": 4,
   "id": "816582d1-cbef-4dfa-b584-c9dba36b700b",
   "metadata": {},
   "source": [
    "# Since they were run on different days add in dis to make life easier\n",
    "processed_plate_df['id'] = [f'{p}_{w}' for p, w in processed_plate_df[['Plate', 'Well']].values]"
   ],
   "outputs": []
  },
  {
   "cell_type": "markdown",
   "id": "8d4cffc5-9bb5-4a81-8e3b-3ce104b95558",
   "metadata": {},
   "source": [
    "## Calculate statistics for cis and trans and then combine the results"
   ]
  },
  {
   "cell_type": "code",
   "execution_count": 5,
   "id": "57e4dd2f-d269-4d06-99e2-9a62cd64ac80",
   "metadata": {},
   "source": [
    "parent = '#PARENT#'\n",
    "value_columns = ['cis']\n",
    "normalise = 'standard' # one of parent, standard, minmax, none\n",
    "stats_method = 'mannwhitneyu'\n",
    "\n",
    "cis_stats_df = normalise_calculate_stats(processed_plate_df, value_columns, normalise='standard', stats_method='mannwhitneyu', parent_label='#PARENT#')\n",
    "cis_stats_df = cis_stats_df.sort_values(by='amount greater than parent mean', ascending=False)\n"
   ],
   "outputs": []
  },
  {
   "cell_type": "code",
   "execution_count": 6,
   "id": "d10d98dd-f205-4995-bd0b-42be8b28361d",
   "metadata": {},
   "source": [
    "parent = '#PARENT#'\n",
    "value_columns = ['trans']\n",
    "normalise = 'standard' # one of parent, standard, minmax, none\n",
    "stats_method = 'mannwhitneyu'\n",
    "\n",
    "trans_stats_df = normalise_calculate_stats(processed_plate_df, value_columns, normalise='standard', stats_method='mannwhitneyu', parent_label='#PARENT#')\n",
    "trans_stats_df = trans_stats_df.sort_values(by='amount greater than parent mean', ascending=False)\n"
   ],
   "outputs": []
  },
  {
   "cell_type": "code",
   "execution_count": 7,
   "id": "fdc96f73-a375-43ab-9015-41f11cea1da3",
   "metadata": {},
   "source": [
    "trans_stats_df.set_index('amino-acid_substitutions', inplace=True)\n",
    "cis_stats_df.set_index('amino-acid_substitutions', inplace=True)\n",
    "\n",
    "stats_df = trans_stats_df.join(cis_stats_df, on='amino-acid_substitutions', how='inner', lsuffix='_trans', rsuffix='_cis')\n",
    "stats_df"
   ],
   "outputs": []
  },
  {
   "cell_type": "markdown",
   "id": "620db6b3-6149-466e-a1e0-8a3e03abec0a",
   "metadata": {},
   "source": [
    "# Plot the figures\n",
    "\n",
    "Read in the output from LevSeq! This is the visualization file: `parLQ_20240421.csv` and `parLQ_20240502.csv`.\n",
    "\n",
    "\n",
    "We combine these files."
   ]
  },
  {
   "cell_type": "code",
   "execution_count": 8,
   "id": "59612ee0-2f1a-4435-90c0-4b9d0f386e6b",
   "metadata": {},
   "source": [
    "df_ep1 = pd.read_csv(\"../../data/epPCR/epPCR_main_manuscript/ParLQ-ep1/parLQ_20240421.csv\", index_col=0)\n",
    "df_ep2 = pd.read_csv(\"../../data/epPCR/epPCR_main_manuscript/ParLQ-ep2/parLQ_20240502.csv\", index_col=0)\n",
    "\n",
    "df_ep2['Plate'] = [f'ep2_{p}' for p in df_ep2['Plate'].values]\n",
    "df_ep1['Plate'] = [f'ep1_{p}' for p in df_ep1['Plate'].values]\n",
    "\n",
    "df = pd.concat([df_ep2, df_ep1])\n",
    "# Make an id since the two different dates used some of the same plates\n",
    "df['id'] = [f'{p}_{w}' for p, w in df[['Plate', 'Well']].values]\n",
    "\n",
    "df['# Mutations'] = [len(str(m).split('_')) if m not in ['#N.A.#', '#PARENT#', '-', '#LOW#'] else 0 for m in df['amino-acid_substitutions'].values]"
   ],
   "outputs": []
  },
  {
   "cell_type": "code",
   "execution_count": 9,
   "id": "d9778330-074f-4349-a466-568b1258ce31",
   "metadata": {},
   "source": [
    "df['amino-acid_substitutions'].value_counts()"
   ],
   "outputs": []
  },
  {
   "cell_type": "code",
   "execution_count": 10,
   "id": "5ec7a35f-caa8-4f58-bf1a-51656d281024",
   "metadata": {},
   "source": [
    "df[['Alignment Count', 'Average mutation frequency', '# Mutations']].describe()"
   ],
   "outputs": []
  },
  {
   "cell_type": "code",
   "execution_count": 11,
   "id": "831e2fa6-6efb-4116-8599-ee5564064696",
   "metadata": {},
   "source": [
    "df['# Mutations'].value_counts()"
   ],
   "outputs": []
  },
  {
   "cell_type": "code",
   "execution_count": 12,
   "id": "67608fe3-53f8-4a9e-bc21-8f83a2f99057",
   "metadata": {},
   "source": [
    "df[df['# Mutations'] == 0]"
   ],
   "outputs": []
  },
  {
   "cell_type": "code",
   "execution_count": 13,
   "id": "5d510464-6e0d-4a29-ad34-a76be7495a13",
   "metadata": {},
   "source": [
    "df.set_index('id', inplace=True)\n",
    "processed_plate_df.set_index('id', inplace=True)\n",
    "df = df.join(processed_plate_df, rsuffix='_processed_plate_df', how='outer')\n",
    "df"
   ],
   "outputs": []
  },
  {
   "cell_type": "code",
   "execution_count": 25,
   "id": "9f3c3582-528c-456e-87d2-f3a330be8a7d",
   "metadata": {},
   "source": [
    "df.to_csv('sequence_function_paired_data_ParLQ.csv')"
   ],
   "outputs": []
  },
  {
   "cell_type": "code",
   "execution_count": 14,
   "id": "213a5adf-a619-4dfa-9484-887e07fa3f06",
   "metadata": {},
   "source": [
    "# Now classify each of them with the specific labels\n",
    "df['trunc_label'] = ['Truncated' if '*' in v else 'OK' for v in df['aa_sequence'].values]\n",
    "df['Type'] = [m if '*' not in str(v) else '#TRUNCATED#' for m, v in df[['amino-acid_substitutions', 'aa_sequence']].values]\n",
    "\n",
    "na_df = df[df['Type'] == '#N.A.#']\n",
    "trunc_df = df[df['Type'] == '#TRUNCATED#']\n",
    "deletion_df = df[df['amino-acid_substitutions'] == '-'] # Delection\n",
    "parent_df = df[df['Type'] == '#PARENT#']\n",
    "variant_df = df[~df['Type'].isin(['#PARENT#', '#N.A.#', '#TRUNCATED#', '-'])]\n",
    "u.dp(['Number of frame shifts: ', len(na_df), \n",
    "      '\\nNumber of truncations: ', len(trunc_df), \n",
    "      '\\nNumber of parents: ',  len(parent_df), \n",
    "      '\\nNumber of variants:',  len(variant_df)\n",
    "     ])\n"
   ],
   "outputs": []
  },
  {
   "cell_type": "code",
   "execution_count": 15,
   "id": "b764751c-7062-4f86-9205-44bdaf930837",
   "metadata": {},
   "source": [
    "df['Type'] = [v if v != '-' else '#DELETION#' for v in df['Type'].values]\n",
    "df['Type'] = [v if v[0] == '#' else '#VARIANT#' for v in df['Type'].values]\n",
    "df['Type'] = [v if v != '#DELETION#' else 'Deletion' for v in df['Type'].values]\n",
    "df['Type'] = [v if v != '#VARIANT#' else 'Variant' for v in df['Type'].values]\n",
    "df['Type'] = [v if v != '#PARENT#' else 'Parent' for v in df['Type'].values]\n",
    "df['Type'] = [v if v != '#TRUNCATED#' else 'Truncated' for v in df['Type'].values]\n",
    "df['Type'] = [v if v != '#LOW#' else 'Low' for v in df['Type'].values]\n",
    "df['Type'] = [v if v != '#N.A.#' else 'Empty' for v in df['Type'].values]\n",
    "\n",
    "df['Type'].value_counts()\n"
   ],
   "outputs": []
  },
  {
   "cell_type": "code",
   "execution_count": 16,
   "id": "ab4c4a1e-95eb-486b-9c81-e6c86b694127",
   "metadata": {},
   "source": [
    "cols = ['Alignment Count', 'Average mutation frequency', '# Mutations', \n",
    "       'P adj. value', 'cis', 'trans']"
   ],
   "outputs": []
  },
  {
   "cell_type": "code",
   "execution_count": 17,
   "id": "dbb831c4-c3cb-4b3f-a13a-22e84e5c5808",
   "metadata": {},
   "source": [
    "na_df[cols].describe()"
   ],
   "outputs": []
  },
  {
   "cell_type": "code",
   "execution_count": 18,
   "id": "581ec946-b926-4afc-b950-94b27485dc1f",
   "metadata": {},
   "source": [
    "trunc_df[cols].describe()"
   ],
   "outputs": []
  },
  {
   "cell_type": "code",
   "execution_count": 19,
   "id": "ff164a58-457b-45ba-89b2-6c9a87f6b1eb",
   "metadata": {},
   "source": [
    "deletion_df.describe()"
   ],
   "outputs": []
  },
  {
   "cell_type": "code",
   "execution_count": 20,
   "id": "b556a0f3-606a-48c3-82d7-1b74fe8832ef",
   "metadata": {},
   "source": [
    "parent_df.describe()"
   ],
   "outputs": []
  },
  {
   "cell_type": "code",
   "execution_count": 21,
   "id": "3eaef702-2ff5-4dfe-8529-5e0bb9f55a12",
   "metadata": {},
   "source": [
    "variant_df.describe()"
   ],
   "outputs": []
  },
  {
   "cell_type": "markdown",
   "id": "ba967262-5e41-4183-a510-01695b714632",
   "metadata": {},
   "source": [
    "# Join with the processed dataframe for other visualisation"
   ]
  },
  {
   "cell_type": "code",
   "execution_count": 22,
   "id": "aff7d0fb-d3ce-4246-9774-98b259a42969",
   "metadata": {},
   "source": [
    "cols = ['Alignment Count', 'Average mutation frequency', '# Mutations', 'P adj. value', 'cis', 'trans']"
   ],
   "outputs": []
  },
  {
   "cell_type": "code",
   "execution_count": 23,
   "id": "3e73cb93-b4e6-4599-b534-551cf50be103",
   "metadata": {},
   "source": [
    "import seaborn as sns\n",
    "import matplotlib.pyplot as plt\n",
    "\n",
    "figure_dir = ''\n",
    "sns.set(rc={'figure.figsize': (3, 3), 'font.family':  'sans-serif',\n",
    "                'font.sans-serif': 'Arial', 'font.size': 12}, style='whitegrid')\n",
    "parent = '#97CA43'\n",
    "variant = '#3A578F'\n",
    "deletion = '#6E6E6E'\n",
    "truncation = '#FCE518'\n",
    "empty = 'lightgrey'\n",
    "low = '#A6A7AC'\n",
    "\n",
    "palette = [empty, low, deletion, truncation, parent, variant]\n",
    "sns.palette = palette\n",
    "\n",
    "def set_ax_params(ax):\n",
    "    ax.tick_params(direction='out', length=2, width=1.0)\n",
    "    ax.tick_params(labelsize=10)\n",
    "    ax.tick_params(axis='x', which='major', pad=2.0)\n",
    "    ax.tick_params(axis='y', which='major', pad=2.0)\n",
    "    \n",
    "ax = sns.histplot(data=df, x=\"Alignment Count\", hue=\"Type\", bins=20, palette=palette, \n",
    "                  hue_order=['Empty', 'Low', 'Deletion', 'Truncated', 'Parent', 'Variant'], multiple=\"stack\")\n",
    "set_ax_params(ax)\n",
    "plt.title('Alignment counts')\n",
    "plt.savefig(f'{figure_dir}Figure1_Bar_AlignmentCounts.svg', bbox_inches='tight')"
   ],
   "outputs": []
  },
  {
   "cell_type": "code",
   "execution_count": 24,
   "id": "3315f797-e82e-47e8-a2c2-d56cc8cd1ee7",
   "metadata": {},
   "source": [
    "col = 'trans'\n",
    "ax = sns.histplot(data=df, x=col, hue=\"Type\", bins=20, palette=palette, hue_order=['Empty', 'Low', 'Deletion', 'Truncated', 'Parent', 'Variant'], multiple=\"stack\")\n",
    "set_ax_params(ax)\n",
    "plt.title(f'{col}')\n",
    "plt.savefig(f'{figure_dir}Figure1_Bar_Trans.svg', bbox_inches='tight')"
   ],
   "outputs": []
  },
  {
   "cell_type": "code",
   "execution_count": 80,
   "id": "aa35544c-f631-4b44-8589-ab0285e945d2",
   "metadata": {},
   "source": [
    "import seaborn as sns\n",
    "import matplotlib.pyplot as plt\n",
    "plt.rcParams['svg.fonttype'] = 'none'\n",
    "\n",
    "ax = sns.scatterplot(df, x='cis', y='trans', hue='Type', palette=palette, hue_order=['Empty', 'Low', 'Deletion', 'Truncated', 'Parent', 'Variant'],\n",
    "                     size='# Mutations')\n",
    "sns.move_legend(ax, \"upper left\", bbox_to_anchor=(1, 1))\n",
    "set_ax_params(ax)\n",
    "plt.xlim(0, 3.5*10**6)\n",
    "plt.ylim(0, 3.5*10**6)\n",
    "ax.yaxis.set_ticks([0, 1*10**6, 2*10**6, 3*10**6])\n",
    "\n",
    "plt.title('Cis vs Trans')\n",
    "plt.savefig(f'{figure_dir}Figure1_Scatter_Cis-Trans.svg', bbox_inches='tight')"
   ],
   "outputs": []
  },
  {
   "cell_type": "code",
   "execution_count": 78,
   "id": "c42ad01e-3610-4542-81d7-1987a3de587c",
   "metadata": {},
   "source": [
    "stats_df[stats_df.index=='F70L']"
   ],
   "outputs": []
  },
  {
   "cell_type": "code",
   "execution_count": 79,
   "id": "7b067946-6ff7-4f8b-b7fa-8d3100ae0ca6",
   "metadata": {},
   "source": [
    "stats_df[stats_df.index=='F89S']"
   ],
   "outputs": []
  }
 ],
 "metadata": {
  "kernelspec": {
   "display_name": "Python 3 (ipykernel)",
   "language": "python",
   "name": "python3"
  },
  "language_info": {
   "codemirror_mode": {
    "name": "ipython",
    "version": 3
   },
   "file_extension": ".py",
   "mimetype": "text/x-python",
   "name": "python",
   "nbconvert_exporter": "python",
   "pygments_lexer": "ipython3",
   "version": "3.10.15"
  }
 },
 "nbformat": 4,
 "nbformat_minor": 5
}
