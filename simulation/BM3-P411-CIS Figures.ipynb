{
 "cells": [
  {
   "cell_type": "markdown",
   "id": "6df9b4d2-a8df-49d4-ae19-bc4342520ac9",
   "metadata": {},
   "source": [
    "# Simulation experiment for detection thresholds for variant calling\n",
    "\n",
    "This notebook is to get detection thresholds for the limit of the variant calling based on: \n",
    "\n",
    "1. Read depth\n",
    "2. Error rate\n",
    "3. Number of mutations\n",
    "\n",
    "The data from this comes from: https://pubs.acs.org/doi/10.1021/acscentsci.7b00548 Ape AGW\n"
   ]
  },
  {
   "cell_type": "code",
   "execution_count": 14,
   "id": "f774d659-f374-4432-8493-4cace2f22133",
   "metadata": {},
   "source": [
    "import pandas as pd\n",
    "# Visualisation things to make the figures look nice\n",
    "import matplotlib.pyplot as plt\n",
    "import seaborn as sns\n",
    "import pandas as pd\n",
    "import numpy as np\n",
    "from sciutil import SciUtil\n",
    "\n",
    "\n",
    "data_dir = 'ePCR_data/'\n",
    "fig_dir = 'ePCR_figures/'\n",
    "\n",
    "\n",
    "plt.rcParams['svg.fonttype'] = 'none'\n",
    "axis_line_width = 1.0\n",
    "axis_font_size = 12\n",
    "title_font_size = 12\n",
    "label_font_size = 10\n",
    "figsize = (3.5, 4) # Figure size\n",
    "font = 'Arial'\n",
    "style = 'ticks'\n",
    "font_family = 'sans-serif'\n",
    "\n",
    "# Create a figure with 2x2 subplots\n",
    "cmap = 'viridis'\n",
    "palette = sns.color_palette(\"viridis\", as_cmap=True)\n",
    "sns.set_palette(cmap)\n",
    "\n",
    "sns.set(rc={'figure.figsize': figsize, 'font.family': font_family,\n",
    "            'font.sans-serif': font, 'font.size': label_font_size}, style=style)\n",
    "sns.set_style(\"ticks\")\n",
    "\n",
    "def set_ax_params(ax):\n",
    "    ax.tick_params(direction='out', length=2, width=axis_line_width)\n",
    "    ax.spines['bottom'].set_linewidth(axis_line_width)\n",
    "    ax.spines['top'].set_linewidth(0)\n",
    "    ax.spines['left'].set_linewidth(axis_line_width)\n",
    "    ax.spines['right'].set_linewidth(0)\n",
    "    ax.tick_params(labelsize=axis_font_size)\n",
    "    ax.tick_params(axis='x', which='major', pad=2.0)\n",
    "    ax.tick_params(axis='y', which='major', pad=2.0)\n",
    "    ax.tick_params(labelsize=label_font_size)\n",
    "\n",
    "\n",
    "u = SciUtil()\n",
    "\n",
    "# Generate mutations on a \"real\" sequence\n",
    "# Decided to choose tauD from Ecoli K12\n",
    "parent_sequence_aa = 'MTPSDIPGYDYGRVEKSPITDLEFDLLKKTVMLGEKDVMYLKKACDVLKDQVDEILDLAGGWVASNEHLIYYFSNPDTGEPIKEYLERVRARFGAWILDTTCRDYNREWLDYQYEVGLRHHRSKKGVTDGVRTVPHIPLRYLIAWIYPITATIKPFLAKKGGSPEDIEGMYNAWFKSVVLQVAIWSHPYTKENDWLEHHHHHH*'\n",
    "\n",
    "parent_sequence = 'ATGACTCCCTCGGACATCCCGGGATATGATTATGGGCGTGTCGAGAAGTCACCCATCACGGACCTTGAGTTTGACCTTCTGAAGAAGACTGTCATGTTAGGTGAAAAGGACGTAATGTACTTGAAAAAGGCGTGTGACGTTCTGAAAGATCAAGTTGATGAGATCCTTGACTTGGCGGGTGGTTGGGTAGCATCAAATGAGCATTTGATTTATTACTTCTCCAATCCGGATACAGGAGAGCCTATTAAGGAATACCTGGAACGTGTACGCGCTCGCTTTGGAGCCTGGATTCTGGACACTACCTGCCGCGACTATAACCGTGAATGGTTAGACTACCAGTACGAAGTTGGGCTTCGTCATCACCGTTCAAAGAAAGGGGTCACAGACGGAGTACGCACCGTGCCCCATATCCCACTTCGTTATCTTATCGCATGGATCTATCCTATCACCGCCACTATCAAGCCATTTTTGGCTAAGAAAGGTGGCTCTCCGGAAGACATCGAAGGGATGTACAACGCTTGGTTCAAGTCTGTAGTTTTACAAGTTGCCATCTGGTCACACCCTTATACTAAGGAGAATGACTGGCTCGAGCACCACCACCACCACCACTGA'"
   ],
   "outputs": []
  },
  {
   "cell_type": "markdown",
   "id": "eabfb04e-5fc0-4ef5-a62e-c37ec6835e92",
   "metadata": {},
   "source": [
    "# Introduce mutations at a given frequency and an error rate\n",
    "\n",
    "Test setup:\n",
    "\n",
    "Change to 0.1 - 5% 0.2% step size. \n",
    "\n",
    "1. For number of mutations from 1 to the sequence length test mutating each one and correlate this to the p value\n",
    "2. For sequencing error rates from 0 to 100% make sequences ranging with this and see what the results are for the p value and the error\n",
    "3. For different sequence lengths also check how sequence length corresponds to the pvalue"
   ]
  },
  {
   "cell_type": "code",
   "execution_count": 15,
   "id": "8928921b-8b9b-4a86-9f7b-9874071e7a15",
   "metadata": {},
   "source": [
    "from minION import *\n",
    "from tqdm import tqdm\n",
    "\n",
    "label = 'BM3-P411-CIS'"
   ],
   "outputs": []
  },
  {
   "cell_type": "code",
   "execution_count": 16,
   "id": "81390a67-adb2-40aa-bbb6-e195e499846f",
   "metadata": {},
   "source": [
    "significance = -1*np.log10(0.001)"
   ],
   "outputs": []
  },
  {
   "cell_type": "markdown",
   "id": "bcb70656-53c2-4d2c-9c1c-094a33b5cac0",
   "metadata": {},
   "source": [
    "## Experiment 1: Varying the sequencing error rate for a single mutation"
   ]
  },
  {
   "cell_type": "code",
   "execution_count": 17,
   "id": "ca3b0860-63c4-4af6-acdd-72bc277ee907",
   "metadata": {},
   "source": [
    "\n",
    "experiment_df = pd.read_csv(f'{data_dir}Experiment1_SeqError_{label}.csv')\n",
    "experiment_df['-log10(P.adj)'] = -1*np.log10(experiment_df['P adj.'].values)\n",
    "experiment_df['Error rate'] = [int(c.split('_')[-1])/100.0 for c in experiment_df['Plate']]\n",
    "experiment_df['# Mutations'] = [len(v.split('_')) for v in experiment_df['Variant'].values]\n",
    "experiment_df['# Mutations'] = [f'<30' if v < 30 else f'>=30' for v in experiment_df['# Mutations']]\n",
    "experiment_df = experiment_df.reset_index()\n",
    "ax = sns.scatterplot(experiment_df, x='frequency', y='-log10(P.adj)', hue='Error rate', palette='viridis', \n",
    "                    style=\"# Mutations\", style_order=['<30', '>=30'], s=30)\n",
    "set_ax_params(ax)\n",
    "plt.xlabel('Mutation frequency')\n",
    "plt.ylabel('-log10(padj)')\n",
    "plt.title('Sequencing error', fontsize=title_font_size, fontweight=\"bold\")\n",
    "plt.legend(bbox_to_anchor=(1.05, 1), loc=2, borderaxespad=0.)\n",
    "plt.axhline(y = significance, color = 'grey', linestyle = '--') #axis='y', \n",
    "plt.grid(True, which='major', linestyle='--', linewidth=0.5)\n",
    "plt.savefig(f'{fig_dir}Experiment1_{label}.svg')\n",
    "plt.show()"
   ],
   "outputs": []
  },
  {
   "cell_type": "code",
   "execution_count": 18,
   "id": "586fe223-6459-4b88-ae83-bdcb3332a9c8",
   "metadata": {},
   "source": [
    "\n",
    "experiment_df = pd.read_csv(f'{data_dir}Experiment1_SeqError_{label}.csv')\n",
    "experiment_df['-log10(P.adj)'] = -1*np.log10(experiment_df['P adj.'].values)\n",
    "experiment_df['Error rate'] = [int(c.split('_')[-1])/100.0 for c in experiment_df['Plate']]\n",
    "experiment_df['# Mutations'] = [len(v.split('_')) for v in experiment_df['Variant'].values]\n",
    "#experiment_df['# Mutations'] = [f'{v}' if v < 5 else f'>=5' for v in experiment_df['# Mutations']]\n",
    "experiment_df = experiment_df.reset_index()\n",
    "ax = sns.scatterplot(experiment_df, x='Error rate', y='-log10(P.adj)', hue='accuracy', palette='viridis', \n",
    "                     size=\"# Mutations\")\n",
    "set_ax_params(ax)\n",
    "plt.xlabel('Sequencing error')\n",
    "plt.ylabel('-log10(padj)')\n",
    "plt.title('Sequencing error', fontsize=title_font_size, fontweight=\"bold\")\n",
    "plt.legend(bbox_to_anchor=(1.05, 1), loc=2, borderaxespad=0.)\n",
    "plt.axhline(y = significance, color = 'grey', linestyle = '--') #axis='y', \n",
    "plt.grid(True, which='major', linestyle='--', linewidth=0.5)\n",
    "plt.savefig(f'{fig_dir}Experiment1_version2_{label}.svg')\n",
    "plt.show()"
   ],
   "outputs": []
  },
  {
   "cell_type": "markdown",
   "id": "ebf4be57-5c55-47d9-959f-a2f44e50426a",
   "metadata": {},
   "source": [
    "## Experiment 2: varying read depth and it's effect on significance"
   ]
  },
  {
   "cell_type": "code",
   "execution_count": 20,
   "id": "60ea640d-45e3-4524-b519-e74d1f6f2592",
   "metadata": {
    "scrolled": true
   },
   "source": [
    "experiment_df = pd.read_csv(f'{data_dir}Experiment2_ReadDepth_{label}.csv')\n",
    "experiment_df['-log10(P.adj)'] = -1*np.log10(experiment_df['P adj.'].values)\n",
    "experiment_df['Read depth'] = [int(c.split('_')[-1]) for c in experiment_df['Plate']]\n",
    "experiment_df['# Mutations'] = [len(v.split('_')) for v in experiment_df['Variant'].values]\n",
    "experiment_df = experiment_df.reset_index()\n",
    "experiment_df.replace([np.inf, -np.inf], 320, inplace=True)\n",
    "ax = sns.scatterplot(experiment_df, x='Read depth', y='-log10(P.adj)', hue='accuracy', palette='viridis', \n",
    "                     size=\"# Mutations\")\n",
    "set_ax_params(ax)\n",
    "plt.xlabel('Read depth')\n",
    "plt.ylabel('-log10(padj)')\n",
    "plt.title('Effect of read depth on significance', fontsize=title_font_size, fontweight=\"bold\")\n",
    "plt.legend(bbox_to_anchor=(1.05, 1), loc=2, borderaxespad=0.)\n",
    "plt.axhline(y = significance, color = 'grey', linestyle = '--') #axis='y', \n",
    "plt.grid(True, which='major', linestyle='--', linewidth=0.5)\n",
    "plt.savefig(f'{fig_dir}Experiment2_{label}.svg')\n",
    "plt.show()"
   ],
   "outputs": []
  },
  {
   "cell_type": "code",
   "execution_count": 19,
   "id": "1c5ccae0-b854-4497-aceb-0d3103a79ac7",
   "metadata": {},
   "source": [
    "experiment_df = pd.read_csv(f'{data_dir}Experiment2_ReadDepth_{label}.csv')\n",
    "experiment_df['-log10(P.adj)'] = -1*np.log10(experiment_df['P adj.'].values)\n",
    "experiment_df['Read depth'] = [int(c.split('_')[-1]) for c in experiment_df['Plate']]\n",
    "experiment_df['# Mutations'] = [len(v.split('_')) for v in experiment_df['Variant'].values]\n",
    "experiment_df = experiment_df.reset_index()\n",
    "experiment_df.replace([np.inf, -np.inf], 320, inplace=True)\n",
    "ax = sns.scatterplot(experiment_df, x='Read depth', y='-log10(P.adj)', hue='accuracy', palette='viridis', \n",
    "                     size=\"# Mutations\")\n",
    "set_ax_params(ax)\n",
    "plt.xlabel('Read depth')\n",
    "plt.ylabel('-log10(padj)')\n",
    "plt.xlim((0, 22))\n",
    "\n",
    "plt.title('Effect of read depth on significance', fontsize=title_font_size, fontweight=\"bold\")\n",
    "plt.legend(bbox_to_anchor=(1.05, 1), loc=2, borderaxespad=0.)\n",
    "plt.axhline(y = significance, color = 'grey', linestyle = '--') #axis='y', \n",
    "plt.grid(True, which='major', linestyle='--', linewidth=0.5)\n",
    "plt.savefig(f'{fig_dir}Experiment2_version2_{label}.svg')\n",
    "plt.show()"
   ],
   "outputs": []
  },
  {
   "cell_type": "markdown",
   "id": "f62040aa-85bd-4bf6-a4cc-d36f8b90a3e4",
   "metadata": {},
   "source": [
    "## Experiment 3: effect of sequence length on significance\n"
   ]
  },
  {
   "cell_type": "code",
   "execution_count": 13,
   "id": "af0a7dd6-a1ad-4fba-ad8d-fd5ca61b4098",
   "metadata": {
    "scrolled": true
   },
   "source": [
    "experiment_df = pd.read_csv(f'{data_dir}Experiment3_SeqLen_{label}.csv')\n",
    "\n",
    "experiment_df['-log10(P.adj)'] = -1*np.log10(experiment_df['P adj.'].values)\n",
    "experiment_df['Seq length'] = [int(c.split('_')[-1]) for c in experiment_df['Plate']]\n",
    "experiment_df['# Mutations'] = [len(str(v).split('_')) for v in experiment_df['Variant'].values]\n",
    "experiment_df.replace([np.inf, -np.inf], 320, inplace=True)\n",
    "\n",
    "experiment_df = experiment_df.reset_index()\n",
    "ax = sns.scatterplot(experiment_df, x='frequency', y='-log10(P.adj)', hue='Seq length', palette='viridis', \n",
    "                     size=\"# Mutations\")\n",
    "set_ax_params(ax)\n",
    "plt.xlabel('Mutation frequency')\n",
    "plt.ylabel('-log10(padj)')\n",
    "plt.title('Effect of sequence length on significance', fontsize=title_font_size, fontweight=\"bold\")\n",
    "plt.legend(bbox_to_anchor=(1.05, 1), loc=2, borderaxespad=0.)\n",
    "plt.axhline(y = significance, color = 'grey', linestyle = '--') #axis='y', \n",
    "plt.grid(True, which='major', linestyle='--', linewidth=0.5)\n",
    "plt.savefig(f'{fig_dir}Experiment3_{label}.svg')\n",
    "plt.show()"
   ],
   "outputs": []
  },
  {
   "cell_type": "markdown",
   "id": "a976b2f5-480a-4cd1-9adc-1295a98f0fe3",
   "metadata": {},
   "source": [
    "## Experiment 4: effect of frequency cutoff"
   ]
  },
  {
   "cell_type": "code",
   "execution_count": 15,
   "id": "f98f649b-3a5a-4cbf-8f72-241c5a73553d",
   "metadata": {},
   "source": [
    "experiment_df = pd.read_csv(f'{data_dir}Experiment4_Freq_{label}.csv')\n",
    "\n",
    "experiment_df['-log10(P.adj)'] = -1*np.log10(experiment_df['P adj.'].values)\n",
    "experiment_df['Freq'] = [int(c.split('_')[-1]) for c in experiment_df['Plate']]\n",
    "experiment_df['# Mutations'] = [len(v.split('_')) for v in experiment_df['Variant'].values]\n",
    "experiment_df['# Mutations'] = [f'<20' if v < 20 else f'>=20' for v in experiment_df['# Mutations']]\n",
    "experiment_df = experiment_df.reset_index()\n",
    "experiment_df.replace([np.inf, -np.inf], 320, inplace=True)\n",
    "\n",
    "ax = sns.scatterplot(experiment_df, x='accuracy', y='-log10(P.adj)', hue='Freq', palette='viridis', \n",
    "                     style=\"# Mutations\", style_order=['<20', '>=20'], s=80)\n",
    "set_ax_params(ax)\n",
    "plt.xlabel('Accuracy')\n",
    "plt.ylabel('-log10(padj)')\n",
    "plt.title('Effect of frequency cutoff on significance', fontsize=title_font_size, fontweight=\"bold\")\n",
    "plt.legend(bbox_to_anchor=(1.05, 1), loc=2, borderaxespad=0.)\n",
    "plt.axhline(y = significance, color = 'grey', linestyle = '--') #axis='y', \n",
    "plt.grid(True, which='major', linestyle='--', linewidth=0.5)\n",
    "plt.axvline(x = 0.5, color = 'red', linestyle = '--') #axis='y', \n",
    "plt.savefig(f'{fig_dir}Experiment5_{label}.svg')\n",
    "plt.show()"
   ],
   "outputs": []
  },
  {
   "cell_type": "markdown",
   "id": "11a1ca94-dc28-4cae-8692-de5186740c70",
   "metadata": {},
   "source": [
    "## Experiment 5: ePCR mutation rate"
   ]
  },
  {
   "cell_type": "code",
   "execution_count": 18,
   "id": "42728d5e-515c-4fbc-9092-469544b08a4f",
   "metadata": {},
   "source": [
    "experiment_df = pd.read_csv(f'{data_dir}Experiment5_mutationRate_{label}.csv')\n",
    "experiment_df['-log10(P.adj)'] = -1*np.log10(experiment_df['P adj.'].values)\n",
    "experiment_df.replace([np.inf, -np.inf], 320, inplace=True)\n",
    "\n",
    "experiment_df['ePCR'] = [int(c.split('_')[-1]) for c in experiment_df['Plate']]\n",
    "experiment_df['# Mutations'] = [len(str(v).split('_')) for v in experiment_df['Variant'].values]\n",
    "experiment_df = experiment_df.reset_index()\n",
    "ax = sns.scatterplot(experiment_df, x='frequency', y='-log10(P.adj)', hue='ePCR', palette='viridis', \n",
    "                     size=\"# Mutations\")\n",
    "set_ax_params(ax)\n",
    "plt.xlabel('Mutation frequency')\n",
    "plt.ylabel('-log10(padj)')\n",
    "plt.title('ePCR effect on significance', fontsize=title_font_size, fontweight=\"bold\")\n",
    "plt.legend(bbox_to_anchor=(1.05, 1), loc=2, borderaxespad=0.)\n",
    "plt.axhline(y = significance, color = 'grey', linestyle = '--') #axis='y', \n",
    "plt.grid(True, which='major', linestyle='--', linewidth=0.5)\n",
    "plt.savefig(f'{fig_dir}Experiment5_{label}.svg')\n",
    "plt.show()"
   ],
   "outputs": []
  },
  {
   "cell_type": "code",
   "execution_count": 11,
   "id": "632775b7-d61d-4b2a-802b-95d049ced707",
   "metadata": {},
   "source": [
    "experiment_df = pd.read_csv(f'{data_dir}Experiment6_mixedWell_{label}.csv')\n",
    "\n",
    "experiment_df['-log10(P.adj)'] = -1*np.log10(experiment_df['P adj.'].values)\n",
    "experiment_df.replace([np.inf, -np.inf], 320, inplace=True)\n",
    "\n",
    "experiment_df['mixedWell'] = [int(c.split('_')[-1]) for c in experiment_df['Plate']]\n",
    "experiment_df['# Mutations'] = [len(str(v).split('_')) for v in experiment_df['Variant'].values]\n",
    "#experiment_df['# Mutations'] = [f'{v}' if v < 5 else f'>=5' for v in experiment_df['# Mutations']]\n",
    "experiment_df['Mixed Well'] = [c for c in experiment_df['Mixed Well'].values]\n",
    "\n",
    "experiment_df = experiment_df.reset_index()\n",
    "ax = sns.scatterplot(experiment_df, x='frequency', y='-log10(P.adj)', hue='Mixed Well', palette=['grey', 'orange'], \n",
    "                     size=\"# Mutations\")\n",
    "set_ax_params(ax)\n",
    "plt.xlabel('Mutation frequency')\n",
    "plt.ylabel('-log10(padj)')\n",
    "plt.title('Mixed well effect on significance', fontsize=title_font_size, fontweight=\"bold\")\n",
    "plt.legend(bbox_to_anchor=(1.05, 1), loc=2, borderaxespad=0.)\n",
    "plt.axhline(y = significance, color = 'grey', linestyle = '--') #axis='y', \n",
    "plt.grid(True, which='major', linestyle='--', linewidth=0.5)\n",
    "plt.savefig(f'{fig_dir}Experiment6_{label}.svg')\n",
    "plt.show()"
   ],
   "outputs": []
  },
  {
   "cell_type": "code",
   "execution_count": 23,
   "id": "764c9ed9-f4d4-4209-af17-f10c77f95475",
   "metadata": {},
   "source": [
    "experiment_df = pd.read_csv(f'{data_dir}Experiment6_mixedWell_{label}.csv')\n",
    "\n",
    "experiment_df['-log10(P.adj)'] = -1*np.log10(experiment_df['P adj.'].values)\n",
    "experiment_df.replace([np.inf, -np.inf], 320, inplace=True)\n",
    "\n",
    "experiment_df['mixedWell'] = [int(c.split('_')[-1]) for c in experiment_df['Plate']]\n",
    "experiment_df['# Mutations'] = [len(str(v).split('_')) for v in experiment_df['Variant'].values]\n",
    "experiment_df['Mixed Well'] = [c for c in experiment_df['Mixed Well'].values]\n",
    "\n",
    "experiment_df = experiment_df.reset_index()\n",
    "ax = sns.scatterplot(experiment_df, x='accuracy', y='frequency', hue='Mixed Well', palette=['grey', 'orange'], \n",
    "                     size=\"# Mutations\")\n",
    "set_ax_params(ax)\n",
    "plt.xlabel('Accuracy')\n",
    "plt.ylabel('Mutation frequency')\n",
    "plt.title('Mixed well effect on significance', fontsize=title_font_size, fontweight=\"bold\")\n",
    "plt.legend(bbox_to_anchor=(1.05, 1), loc=2, borderaxespad=0.)\n",
    "plt.axhline(y = 0.5, color = 'grey', linestyle = '--') #axis='y', \n",
    "plt.grid(True, which='major', linestyle='--', linewidth=0.5)\n",
    "plt.savefig(f'{fig_dir}Experiment6_{label}.svg')\n",
    "plt.show()"
   ],
   "outputs": []
  },
  {
   "cell_type": "code",
   "execution_count": 31,
   "id": "29919af6-82d0-4152-95b0-d77bc0625665",
   "metadata": {},
   "source": [
    "experiment_df.columns"
   ],
   "outputs": []
  }
 ],
 "metadata": {
  "kernelspec": {
   "display_name": "Python 3 (ipykernel)",
   "language": "python",
   "name": "python3"
  },
  "language_info": {
   "codemirror_mode": {
    "name": "ipython",
    "version": 3
   },
   "file_extension": ".py",
   "mimetype": "text/x-python",
   "name": "python",
   "nbconvert_exporter": "python",
   "pygments_lexer": "ipython3",
   "version": "3.9.18"
  }
 },
 "nbformat": 4,
 "nbformat_minor": 5
}
