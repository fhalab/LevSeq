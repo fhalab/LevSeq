{
 "cells": [
  {
   "cell_type": "markdown",
   "id": "6df9b4d2-a8df-49d4-ae19-bc4342520ac9",
   "metadata": {},
   "source": [
    "# Simulation experiment for detection thresholds for variant calling\n",
    "\n",
    "This notebook is to get detection thresholds for the limit of the variant calling based on: \n",
    "\n",
    "1. Read depth\n",
    "2. Error rate\n",
    "3. Number of mutations\n",
    "\n",
    "The data from this comes from: https://pubs.acs.org/doi/10.1021/acscentsci.7b00548 Ape AGW\n"
   ]
  },
  {
   "cell_type": "code",
   "execution_count": 7,
   "id": "f774d659-f374-4432-8493-4cace2f22133",
   "metadata": {},
   "outputs": [],
   "source": [
    "import pandas as pd\n",
    "# Visualisation things to make the figures look nice\n",
    "import matplotlib.pyplot as plt\n",
    "import seaborn as sns\n",
    "import pandas as pd\n",
    "import numpy as np\n",
    "from sciutil import SciUtil\n",
    "\n",
    "\n",
    "data_dir = 'ePCR_data/'\n",
    "fig_dir = 'ePCR_figures/'\n",
    "\n",
    "\n",
    "plt.rcParams['svg.fonttype'] = 'none'\n",
    "axis_line_width = 1.0\n",
    "axis_font_size = 12\n",
    "title_font_size = 12\n",
    "label_font_size = 10\n",
    "figsize = (5, 4) # Figure size\n",
    "font = 'Arial'\n",
    "style = 'ticks'\n",
    "font_family = 'sans-serif'\n",
    "\n",
    "# Create a figure with 2x2 subplots\n",
    "sns.set_style(\"whitegrid\")\n",
    "cmap = 'viridis'\n",
    "palette = sns.color_palette(\"viridis\", as_cmap=True)\n",
    "sns.set_palette(cmap)\n",
    "\n",
    "sns.set(rc={'figure.figsize': figsize, 'font.family': font_family,\n",
    "            'font.sans-serif': font, 'font.size': label_font_size}, style=style)\n",
    "\n",
    "def set_ax_params(ax):\n",
    "    ax.tick_params(direction='out', length=2, width=axis_line_width)\n",
    "    ax.spines['bottom'].set_linewidth(axis_line_width)\n",
    "    ax.spines['top'].set_linewidth(0)\n",
    "    ax.spines['left'].set_linewidth(axis_line_width)\n",
    "    ax.spines['right'].set_linewidth(0)\n",
    "    ax.tick_params(labelsize=axis_font_size)\n",
    "    ax.tick_params(axis='x', which='major', pad=2.0)\n",
    "    ax.tick_params(axis='y', which='major', pad=2.0)\n",
    "    ax.set_xticklabels(ax.get_xticklabels(), rotation=45, horizontalalignment='right')\n",
    "    ax.tick_params(labelsize=label_font_size)\n",
    "\n",
    "\n",
    "u = SciUtil()\n",
    "\n",
    "# Generate mutations on a \"real\" sequence\n",
    "# Decided to choose tauD from Ecoli K12\n",
    "\n",
    "parent_sequence_aa = 'MTPSDIPGYDYGRVEKSPITDLEFDLLKKTVMLGEKDVMYLKKACDVLKDQVDEILDLAGGWVASNEHLIYYFSNPDTGEPIKEYLERVRARFGAWILDTTCRDYNREWLDYQYEVGLRHHRSKKGVTDGVRTVPHIPLRYLIAWIYPITATIKPFLAKKGGSPEDIEGMYNAWFKSVVLQVAIWSHPYTKENDWLEHHHHHH*'\n",
    "\n",
    "parent_sequence = 'ATGACTCCCTCGGACATCCCGGGATATGATTATGGGCGTGTCGAGAAGTCACCCATCACGGACCTTGAGTTTGACCTTCTGAAGAAGACTGTCATGTTAGGTGAAAAGGACGTAATGTACTTGAAAAAGGCGTGTGACGTTCTGAAAGATCAAGTTGATGAGATCCTTGACTTGGCGGGTGGTTGGGTAGCATCAAATGAGCATTTGATTTATTACTTCTCCAATCCGGATACAGGAGAGCCTATTAAGGAATACCTGGAACGTGTACGCGCTCGCTTTGGAGCCTGGATTCTGGACACTACCTGCCGCGACTATAACCGTGAATGGTTAGACTACCAGTACGAAGTTGGGCTTCGTCATCACCGTTCAAAGAAAGGGGTCACAGACGGAGTACGCACCGTGCCCCATATCCCACTTCGTTATCTTATCGCATGGATCTATCCTATCACCGCCACTATCAAGCCATTTTTGGCTAAGAAAGGTGGCTCTCCGGAAGACATCGAAGGGATGTACAACGCTTGGTTCAAGTCTGTAGTTTTACAAGTTGCCATCTGGTCACACCCTTATACTAAGGAGAATGACTGGCTCGAGCACCACCACCACCACCACTGA'"
   ]
  },
  {
   "cell_type": "markdown",
   "id": "eabfb04e-5fc0-4ef5-a62e-c37ec6835e92",
   "metadata": {},
   "source": [
    "# Introduce mutations at a given frequency and an error rate\n",
    "\n",
    "Test setup:\n",
    "\n",
    "Change to 0.1 - 5% 0.2% step size. \n",
    "\n",
    "1. For number of mutations from 1 to the sequence length test mutating each one and correlate this to the p value\n",
    "2. For sequencing error rates from 0 to 100% make sequences ranging with this and see what the results are for the p value and the error\n",
    "3. For different sequence lengths also check how sequence length corresponds to the pvalue"
   ]
  },
  {
   "cell_type": "code",
   "execution_count": 8,
   "id": "8928921b-8b9b-4a86-9f7b-9874071e7a15",
   "metadata": {},
   "outputs": [],
   "source": [
    "from levseq import *\n",
    "from tqdm import tqdm\n",
    "\n",
    "label = 'ParLQ'"
   ]
  },
  {
   "cell_type": "markdown",
   "id": "bcb70656-53c2-4d2c-9c1c-094a33b5cac0",
   "metadata": {},
   "source": [
    "## Experiment 1: Varying the sequencing error rate for a single mutation"
   ]
  },
  {
   "cell_type": "code",
   "execution_count": 9,
   "id": "88a93209-a3f8-4121-b3d5-7182dba919e3",
   "metadata": {
    "scrolled": true
   },
   "outputs": [
    {
     "name": "stderr",
     "output_type": "stream",
     "text": [
      "100%|██████████████████████████████████████████████████████████████████████████████████████████████████████████████████████████████████████████████████████████████████████████████████████████████████████████████| 96/96 [00:10<00:00,  9.02it/s]\n",
      "100%|██████████████████████████████████████████████████████████████████████████████████████████████████████████████████████████████████████████████████████████████████████████████████████████████████████████████| 96/96 [00:11<00:00,  8.23it/s]\n",
      "100%|██████████████████████████████████████████████████████████████████████████████████████████████████████████████████████████████████████████████████████████████████████████████████████████████████████████████| 96/96 [00:12<00:00,  7.59it/s]\n",
      "100%|██████████████████████████████████████████████████████████████████████████████████████████████████████████████████████████████████████████████████████████████████████████████████████████████████████████████| 96/96 [00:13<00:00,  7.33it/s]\n",
      "100%|██████████████████████████████████████████████████████████████████████████████████████████████████████████████████████████████████████████████████████████████████████████████████████████████████████████████| 96/96 [00:13<00:00,  6.91it/s]\n",
      "100%|██████████████████████████████████████████████████████████████████████████████████████████████████████████████████████████████████████████████████████████████████████████████████████████████████████████████| 96/96 [00:14<00:00,  6.62it/s]\n",
      "100%|██████████████████████████████████████████████████████████████████████████████████████████████████████████████████████████████████████████████████████████████████████████████████████████████████████████████| 96/96 [00:14<00:00,  6.40it/s]\n",
      "100%|██████████████████████████████████████████████████████████████████████████████████████████████████████████████████████████████████████████████████████████████████████████████████████████████████████████████| 96/96 [00:15<00:00,  6.22it/s]\n",
      "  1%|██▏                                                                                                                                                                                                            | 1/96 [00:00<00:15,  6.06it/s]"
     ]
    },
    {
     "name": "stdout",
     "output_type": "stream",
     "text": [
      "-----------------------------------------\n",
      "WARNING!!! Your mean error rate across was too high!!! It was:  0.4011437908496732\n",
      "-----------------------------------------\n"
     ]
    },
    {
     "name": "stderr",
     "output_type": "stream",
     "text": [
      "  3%|██████▍                                                                                                                                                                                                        | 3/96 [00:00<00:15,  6.19it/s]"
     ]
    },
    {
     "name": "stdout",
     "output_type": "stream",
     "text": [
      "-----------------------------------------\n",
      "WARNING!!! Your mean error rate across was too high!!! It was:  0.40522875816993464\n",
      "-----------------------------------------\n"
     ]
    },
    {
     "name": "stderr",
     "output_type": "stream",
     "text": [
      "  6%|████████████▉                                                                                                                                                                                                  | 6/96 [00:00<00:15,  5.99it/s]"
     ]
    },
    {
     "name": "stdout",
     "output_type": "stream",
     "text": [
      "-----------------------------------------\n",
      "WARNING!!! Your mean error rate across was too high!!! It was:  0.4215686274509804\n",
      "-----------------------------------------\n",
      "-----------------------------------------\n",
      "WARNING!!! Your mean error rate across was too high!!! It was:  0.41307189542483663\n",
      "-----------------------------------------\n",
      "-----------------------------------------\n",
      "WARNING!!! Your mean error rate across was too high!!! It was:  0.41650326797385623\n",
      "-----------------------------------------\n"
     ]
    },
    {
     "name": "stderr",
     "output_type": "stream",
     "text": [
      "  8%|█████████████████▎                                                                                                                                                                                             | 8/96 [00:01<00:14,  6.15it/s]"
     ]
    },
    {
     "name": "stdout",
     "output_type": "stream",
     "text": [
      "-----------------------------------------\n",
      "WARNING!!! Your mean error rate across was too high!!! It was:  0.40294117647058825\n",
      "-----------------------------------------\n",
      "-----------------------------------------\n",
      "WARNING!!! Your mean error rate across was too high!!! It was:  0.41944444444444445\n",
      "-----------------------------------------\n"
     ]
    },
    {
     "name": "stderr",
     "output_type": "stream",
     "text": [
      " 11%|███████████████████████▌                                                                                                                                                                                      | 11/96 [00:01<00:15,  5.52it/s]"
     ]
    },
    {
     "name": "stdout",
     "output_type": "stream",
     "text": [
      "-----------------------------------------\n",
      "WARNING!!! Your mean error rate across was too high!!! It was:  0.4094771241830065\n",
      "-----------------------------------------\n",
      "-----------------------------------------\n",
      "WARNING!!! Your mean error rate across was too high!!! It was:  0.407843137254902\n",
      "-----------------------------------------\n"
     ]
    },
    {
     "name": "stderr",
     "output_type": "stream",
     "text": [
      " 14%|███████████████████████████▉                                                                                                                                                                                  | 13/96 [00:02<00:14,  5.84it/s]"
     ]
    },
    {
     "name": "stdout",
     "output_type": "stream",
     "text": [
      "-----------------------------------------\n",
      "WARNING!!! Your mean error rate across was too high!!! It was:  0.40049019607843134\n",
      "-----------------------------------------\n",
      "-----------------------------------------\n",
      "WARNING!!! Your mean error rate across was too high!!! It was:  0.4176470588235294\n",
      "-----------------------------------------\n"
     ]
    },
    {
     "name": "stderr",
     "output_type": "stream",
     "text": [
      " 16%|████████████████████████████████▏                                                                                                                                                                             | 15/96 [00:02<00:13,  5.94it/s]"
     ]
    },
    {
     "name": "stdout",
     "output_type": "stream",
     "text": [
      "-----------------------------------------\n",
      "WARNING!!! Your mean error rate across was too high!!! It was:  0.41944444444444445\n",
      "-----------------------------------------\n",
      "-----------------------------------------\n",
      "WARNING!!! Your mean error rate across was too high!!! It was:  0.40212418300653596\n",
      "-----------------------------------------\n"
     ]
    },
    {
     "name": "stderr",
     "output_type": "stream",
     "text": [
      " 19%|██████████████████████████████████████▋                                                                                                                                                                       | 18/96 [00:03<00:12,  6.01it/s]"
     ]
    },
    {
     "name": "stdout",
     "output_type": "stream",
     "text": [
      "-----------------------------------------\n",
      "WARNING!!! Your mean error rate across was too high!!! It was:  0.40555555555555556\n",
      "-----------------------------------------\n",
      "-----------------------------------------\n",
      "WARNING!!! Your mean error rate across was too high!!! It was:  0.4207516339869281\n",
      "-----------------------------------------\n"
     ]
    },
    {
     "name": "stderr",
     "output_type": "stream",
     "text": [
      " 21%|██████████████████████████████████████████▉                                                                                                                                                                   | 20/96 [00:03<00:12,  6.11it/s]"
     ]
    },
    {
     "name": "stdout",
     "output_type": "stream",
     "text": [
      "-----------------------------------------\n",
      "WARNING!!! Your mean error rate across was too high!!! It was:  0.409640522875817\n",
      "-----------------------------------------\n",
      "-----------------------------------------\n",
      "WARNING!!! Your mean error rate across was too high!!! It was:  0.4066993464052287\n",
      "-----------------------------------------\n"
     ]
    },
    {
     "name": "stderr",
     "output_type": "stream",
     "text": [
      " 23%|███████████████████████████████████████████████▏                                                                                                                                                              | 22/96 [00:03<00:12,  6.16it/s]"
     ]
    },
    {
     "name": "stdout",
     "output_type": "stream",
     "text": [
      "-----------------------------------------\n",
      "WARNING!!! Your mean error rate across was too high!!! It was:  0.4088235294117647\n",
      "-----------------------------------------\n",
      "-----------------------------------------\n",
      "WARNING!!! Your mean error rate across was too high!!! It was:  0.4011437908496732\n",
      "-----------------------------------------\n"
     ]
    },
    {
     "name": "stderr",
     "output_type": "stream",
     "text": [
      " 25%|███████████████████████████████████████████████████▌                                                                                                                                                          | 24/96 [00:03<00:11,  6.13it/s]"
     ]
    },
    {
     "name": "stdout",
     "output_type": "stream",
     "text": [
      "-----------------------------------------\n",
      "WARNING!!! Your mean error rate across was too high!!! It was:  0.41486928104575166\n",
      "-----------------------------------------\n"
     ]
    },
    {
     "name": "stderr",
     "output_type": "stream",
     "text": [
      " 27%|███████████████████████████████████████████████████████▊                                                                                                                                                      | 26/96 [00:04<00:11,  6.09it/s]"
     ]
    },
    {
     "name": "stdout",
     "output_type": "stream",
     "text": [
      "-----------------------------------------\n",
      "WARNING!!! Your mean error rate across was too high!!! It was:  0.41307189542483663\n",
      "-----------------------------------------\n",
      "-----------------------------------------\n",
      "WARNING!!! Your mean error rate across was too high!!! It was:  0.4102941176470588\n",
      "-----------------------------------------\n"
     ]
    },
    {
     "name": "stderr",
     "output_type": "stream",
     "text": [
      " 30%|██████████████████████████████████████████████████████████████▏                                                                                                                                               | 29/96 [00:04<00:10,  6.12it/s]"
     ]
    },
    {
     "name": "stdout",
     "output_type": "stream",
     "text": [
      "-----------------------------------------\n",
      "WARNING!!! Your mean error rate across was too high!!! It was:  0.41356209150326795\n",
      "-----------------------------------------\n",
      "-----------------------------------------\n",
      "WARNING!!! Your mean error rate across was too high!!! It was:  0.4101307189542483\n",
      "-----------------------------------------\n"
     ]
    },
    {
     "name": "stderr",
     "output_type": "stream",
     "text": [
      " 32%|██████████████████████████████████████████████████████████████████▌                                                                                                                                           | 31/96 [00:05<00:10,  6.08it/s]"
     ]
    },
    {
     "name": "stdout",
     "output_type": "stream",
     "text": [
      "-----------------------------------------\n",
      "WARNING!!! Your mean error rate across was too high!!! It was:  0.4155228758169935\n",
      "-----------------------------------------\n",
      "-----------------------------------------\n",
      "WARNING!!! Your mean error rate across was too high!!! It was:  0.40228758169934636\n",
      "-----------------------------------------\n"
     ]
    },
    {
     "name": "stderr",
     "output_type": "stream",
     "text": [
      " 35%|████████████████████████████████████████████████████████████████████████▉                                                                                                                                     | 34/96 [00:05<00:10,  5.78it/s]"
     ]
    },
    {
     "name": "stdout",
     "output_type": "stream",
     "text": [
      "-----------------------------------------\n",
      "WARNING!!! Your mean error rate across was too high!!! It was:  0.4086601307189542\n",
      "-----------------------------------------\n",
      "-----------------------------------------\n",
      "WARNING!!! Your mean error rate across was too high!!! It was:  0.41388888888888886\n",
      "-----------------------------------------\n",
      "-----------------------------------------\n",
      "WARNING!!! Your mean error rate across was too high!!! It was:  0.4042483660130719\n",
      "-----------------------------------------\n"
     ]
    },
    {
     "name": "stderr",
     "output_type": "stream",
     "text": [
      " 38%|█████████████████████████████████████████████████████████████████████████████▎                                                                                                                                | 36/96 [00:06<00:10,  5.86it/s]"
     ]
    },
    {
     "name": "stdout",
     "output_type": "stream",
     "text": [
      "-----------------------------------------\n",
      "WARNING!!! Your mean error rate across was too high!!! It was:  0.4116013071895425\n",
      "-----------------------------------------\n",
      "-----------------------------------------\n",
      "WARNING!!! Your mean error rate across was too high!!! It was:  0.4158496732026144\n",
      "-----------------------------------------\n"
     ]
    },
    {
     "name": "stderr",
     "output_type": "stream",
     "text": [
      " 40%|█████████████████████████████████████████████████████████████████████████████████▌                                                                                                                            | 38/96 [00:06<00:09,  5.95it/s]"
     ]
    },
    {
     "name": "stdout",
     "output_type": "stream",
     "text": [
      "-----------------------------------------\n",
      "WARNING!!! Your mean error rate across was too high!!! It was:  0.4008169934640523\n",
      "-----------------------------------------\n",
      "-----------------------------------------\n",
      "WARNING!!! Your mean error rate across was too high!!! It was:  0.4132352941176471\n",
      "-----------------------------------------\n"
     ]
    },
    {
     "name": "stderr",
     "output_type": "stream",
     "text": [
      " 42%|█████████████████████████████████████████████████████████████████████████████████████▊                                                                                                                        | 40/96 [00:06<00:09,  6.07it/s]"
     ]
    },
    {
     "name": "stdout",
     "output_type": "stream",
     "text": [
      "-----------------------------------------\n",
      "WARNING!!! Your mean error rate across was too high!!! It was:  0.40931372549019607\n",
      "-----------------------------------------\n",
      "-----------------------------------------\n",
      "WARNING!!! Your mean error rate across was too high!!! It was:  0.4200980392156862\n",
      "-----------------------------------------\n"
     ]
    },
    {
     "name": "stderr",
     "output_type": "stream",
     "text": [
      " 44%|██████████████████████████████████████████████████████████████████████████████████████████▏                                                                                                                   | 42/96 [00:07<00:08,  6.03it/s]"
     ]
    },
    {
     "name": "stdout",
     "output_type": "stream",
     "text": [
      "-----------------------------------------\n",
      "WARNING!!! Your mean error rate across was too high!!! It was:  0.4106209150326797\n",
      "-----------------------------------------\n",
      "-----------------------------------------\n",
      "WARNING!!! Your mean error rate across was too high!!! It was:  0.41911764705882354\n",
      "-----------------------------------------\n"
     ]
    },
    {
     "name": "stderr",
     "output_type": "stream",
     "text": [
      " 47%|████████████████████████████████████████████████████████████████████████████████████████████████▌                                                                                                             | 45/96 [00:07<00:08,  6.05it/s]"
     ]
    },
    {
     "name": "stdout",
     "output_type": "stream",
     "text": [
      "-----------------------------------------\n",
      "WARNING!!! Your mean error rate across was too high!!! It was:  0.4094771241830065\n",
      "-----------------------------------------\n"
     ]
    },
    {
     "name": "stderr",
     "output_type": "stream",
     "text": [
      " 49%|████████████████████████████████████████████████████████████████████████████████████████████████████▊                                                                                                         | 47/96 [00:07<00:07,  6.14it/s]"
     ]
    },
    {
     "name": "stdout",
     "output_type": "stream",
     "text": [
      "-----------------------------------------\n",
      "WARNING!!! Your mean error rate across was too high!!! It was:  0.409313725490196\n",
      "-----------------------------------------\n",
      "-----------------------------------------\n",
      "WARNING!!! Your mean error rate across was too high!!! It was:  0.4111111111111111\n",
      "-----------------------------------------\n"
     ]
    },
    {
     "name": "stderr",
     "output_type": "stream",
     "text": [
      " 51%|█████████████████████████████████████████████████████████████████████████████████████████████████████████▏                                                                                                    | 49/96 [00:08<00:07,  6.04it/s]"
     ]
    },
    {
     "name": "stdout",
     "output_type": "stream",
     "text": [
      "-----------------------------------------\n",
      "WARNING!!! Your mean error rate across was too high!!! It was:  0.4151960784313726\n",
      "-----------------------------------------\n",
      "-----------------------------------------\n",
      "WARNING!!! Your mean error rate across was too high!!! It was:  0.40228758169934636\n",
      "-----------------------------------------\n"
     ]
    },
    {
     "name": "stderr",
     "output_type": "stream",
     "text": [
      " 53%|█████████████████████████████████████████████████████████████████████████████████████████████████████████████▍                                                                                                | 51/96 [00:08<00:07,  6.02it/s]"
     ]
    },
    {
     "name": "stdout",
     "output_type": "stream",
     "text": [
      "-----------------------------------------\n",
      "WARNING!!! Your mean error rate across was too high!!! It was:  0.42205882352941176\n",
      "-----------------------------------------\n",
      "-----------------------------------------\n",
      "WARNING!!! Your mean error rate across was too high!!! It was:  0.4155228758169935\n",
      "-----------------------------------------\n"
     ]
    },
    {
     "name": "stderr",
     "output_type": "stream",
     "text": [
      " 55%|█████████████████████████████████████████████████████████████████████████████████████████████████████████████████▋                                                                                            | 53/96 [00:08<00:07,  5.91it/s]"
     ]
    },
    {
     "name": "stdout",
     "output_type": "stream",
     "text": [
      "-----------------------------------------\n",
      "WARNING!!! Your mean error rate across was too high!!! It was:  0.40751633986928104\n",
      "-----------------------------------------\n",
      "-----------------------------------------\n",
      "WARNING!!! Your mean error rate across was too high!!! It was:  0.4034313725490196\n",
      "-----------------------------------------\n"
     ]
    },
    {
     "name": "stderr",
     "output_type": "stream",
     "text": [
      " 57%|██████████████████████████████████████████████████████████████████████████████████████████████████████████████████████                                                                                        | 55/96 [00:09<00:06,  6.14it/s]"
     ]
    },
    {
     "name": "stdout",
     "output_type": "stream",
     "text": [
      "-----------------------------------------\n",
      "WARNING!!! Your mean error rate across was too high!!! It was:  0.4127450980392156\n",
      "-----------------------------------------\n",
      "-----------------------------------------\n",
      "WARNING!!! Your mean error rate across was too high!!! It was:  0.40980392156862744\n",
      "-----------------------------------------\n"
     ]
    },
    {
     "name": "stderr",
     "output_type": "stream",
     "text": [
      " 59%|██████████████████████████████████████████████████████████████████████████████████████████████████████████████████████████▎                                                                                   | 57/96 [00:09<00:06,  6.13it/s]"
     ]
    },
    {
     "name": "stdout",
     "output_type": "stream",
     "text": [
      "-----------------------------------------\n",
      "WARNING!!! Your mean error rate across was too high!!! It was:  0.4094771241830066\n",
      "-----------------------------------------\n",
      "-----------------------------------------\n",
      "WARNING!!! Your mean error rate across was too high!!! It was:  0.4102941176470588\n",
      "-----------------------------------------\n"
     ]
    },
    {
     "name": "stderr",
     "output_type": "stream",
     "text": [
      " 61%|██████████████████████████████████████████████████████████████████████████████████████████████████████████████████████████████▌                                                                               | 59/96 [00:09<00:06,  6.13it/s]"
     ]
    },
    {
     "name": "stdout",
     "output_type": "stream",
     "text": [
      "-----------------------------------------\n",
      "WARNING!!! Your mean error rate across was too high!!! It was:  0.41094771241830064\n",
      "-----------------------------------------\n",
      "-----------------------------------------\n",
      "WARNING!!! Your mean error rate across was too high!!! It was:  0.40490196078431373\n",
      "-----------------------------------------\n"
     ]
    },
    {
     "name": "stderr",
     "output_type": "stream",
     "text": [
      " 64%|██████████████████████████████████████████████████████████████████████████████████████████████████████████████████████████████████▉                                                                           | 61/96 [00:10<00:05,  6.12it/s]"
     ]
    },
    {
     "name": "stdout",
     "output_type": "stream",
     "text": [
      "-----------------------------------------\n",
      "WARNING!!! Your mean error rate across was too high!!! It was:  0.40375816993464053\n",
      "-----------------------------------------\n",
      "-----------------------------------------\n",
      "WARNING!!! Your mean error rate across was too high!!! It was:  0.4130718954248366\n",
      "-----------------------------------------\n"
     ]
    },
    {
     "name": "stderr",
     "output_type": "stream",
     "text": [
      " 66%|███████████████████████████████████████████████████████████████████████████████████████████████████████████████████████████████████████▏                                                                      | 63/96 [00:10<00:05,  6.04it/s]"
     ]
    },
    {
     "name": "stdout",
     "output_type": "stream",
     "text": [
      "-----------------------------------------\n",
      "WARNING!!! Your mean error rate across was too high!!! It was:  0.4225490196078431\n",
      "-----------------------------------------\n",
      "-----------------------------------------\n",
      "WARNING!!! Your mean error rate across was too high!!! It was:  0.417156862745098\n",
      "-----------------------------------------\n"
     ]
    },
    {
     "name": "stderr",
     "output_type": "stream",
     "text": [
      " 68%|███████████████████████████████████████████████████████████████████████████████████████████████████████████████████████████████████████████▍                                                                  | 65/96 [00:10<00:05,  6.06it/s]"
     ]
    },
    {
     "name": "stdout",
     "output_type": "stream",
     "text": [
      "-----------------------------------------\n",
      "WARNING!!! Your mean error rate across was too high!!! It was:  0.4019607843137255\n",
      "-----------------------------------------\n",
      "-----------------------------------------\n",
      "WARNING!!! Your mean error rate across was too high!!! It was:  0.40637254901960784\n",
      "-----------------------------------------\n"
     ]
    },
    {
     "name": "stderr",
     "output_type": "stream",
     "text": [
      " 70%|███████████████████████████████████████████████████████████████████████████████████████████████████████████████████████████████████████████████▊                                                              | 67/96 [00:11<00:04,  6.05it/s]"
     ]
    },
    {
     "name": "stdout",
     "output_type": "stream",
     "text": [
      "-----------------------------------------\n",
      "WARNING!!! Your mean error rate across was too high!!! It was:  0.40490196078431373\n",
      "-----------------------------------------\n",
      "-----------------------------------------\n",
      "WARNING!!! Your mean error rate across was too high!!! It was:  0.4140522875816993\n",
      "-----------------------------------------\n"
     ]
    },
    {
     "name": "stderr",
     "output_type": "stream",
     "text": [
      " 72%|████████████████████████████████████████████████████████████████████████████████████████████████████████████████████████████████████████████████████                                                          | 69/96 [00:11<00:04,  6.03it/s]"
     ]
    },
    {
     "name": "stdout",
     "output_type": "stream",
     "text": [
      "-----------------------------------------\n",
      "WARNING!!! Your mean error rate across was too high!!! It was:  0.4132352941176471\n",
      "-----------------------------------------\n",
      "-----------------------------------------\n",
      "WARNING!!! Your mean error rate across was too high!!! It was:  0.4138888888888888\n",
      "-----------------------------------------\n"
     ]
    },
    {
     "name": "stderr",
     "output_type": "stream",
     "text": [
      " 74%|████████████████████████████████████████████████████████████████████████████████████████████████████████████████████████████████████████████████████████▎                                                     | 71/96 [00:11<00:04,  6.06it/s]"
     ]
    },
    {
     "name": "stdout",
     "output_type": "stream",
     "text": [
      "-----------------------------------------\n",
      "WARNING!!! Your mean error rate across was too high!!! It was:  0.409640522875817\n",
      "-----------------------------------------\n",
      "-----------------------------------------\n",
      "WARNING!!! Your mean error rate across was too high!!! It was:  0.41013071895424835\n",
      "-----------------------------------------\n"
     ]
    },
    {
     "name": "stderr",
     "output_type": "stream",
     "text": [
      " 76%|████████████████████████████████████████████████████████████████████████████████████████████████████████████████████████████████████████████████████████████▋                                                 | 73/96 [00:12<00:03,  6.06it/s]"
     ]
    },
    {
     "name": "stdout",
     "output_type": "stream",
     "text": [
      "-----------------------------------------\n",
      "WARNING!!! Your mean error rate across was too high!!! It was:  0.40637254901960784\n",
      "-----------------------------------------\n",
      "-----------------------------------------\n",
      "WARNING!!! Your mean error rate across was too high!!! It was:  0.4194444444444445\n",
      "-----------------------------------------\n"
     ]
    },
    {
     "name": "stderr",
     "output_type": "stream",
     "text": [
      " 78%|████████████████████████████████████████████████████████████████████████████████████████████████████████████████████████████████████████████████████████████████▉                                             | 75/96 [00:12<00:03,  5.45it/s]"
     ]
    },
    {
     "name": "stdout",
     "output_type": "stream",
     "text": [
      "-----------------------------------------\n",
      "WARNING!!! Your mean error rate across was too high!!! It was:  0.41617647058823526\n",
      "-----------------------------------------\n",
      "-----------------------------------------\n",
      "WARNING!!! Your mean error rate across was too high!!! It was:  0.4065359477124183\n",
      "-----------------------------------------\n"
     ]
    },
    {
     "name": "stderr",
     "output_type": "stream",
     "text": [
      " 81%|███████████████████████████████████████████████████████████████████████████████████████████████████████████████████████████████████████████████████████████████████████▍                                      | 78/96 [00:13<00:03,  5.87it/s]"
     ]
    },
    {
     "name": "stdout",
     "output_type": "stream",
     "text": [
      "-----------------------------------------\n",
      "WARNING!!! Your mean error rate across was too high!!! It was:  0.4119281045751634\n",
      "-----------------------------------------\n",
      "-----------------------------------------\n",
      "WARNING!!! Your mean error rate across was too high!!! It was:  0.40343137254901956\n",
      "-----------------------------------------\n",
      "-----------------------------------------\n",
      "WARNING!!! Your mean error rate across was too high!!! It was:  0.40800653594771247\n",
      "-----------------------------------------\n"
     ]
    },
    {
     "name": "stderr",
     "output_type": "stream",
     "text": [
      " 83%|███████████████████████████████████████████████████████████████████████████████████████████████████████████████████████████████████████████████████████████████████████████▋                                  | 80/96 [00:13<00:02,  5.95it/s]"
     ]
    },
    {
     "name": "stdout",
     "output_type": "stream",
     "text": [
      "-----------------------------------------\n",
      "WARNING!!! Your mean error rate across was too high!!! It was:  0.4138888888888889\n",
      "-----------------------------------------\n",
      "-----------------------------------------\n",
      "WARNING!!! Your mean error rate across was too high!!! It was:  0.4147058823529411\n",
      "-----------------------------------------\n"
     ]
    },
    {
     "name": "stderr",
     "output_type": "stream",
     "text": [
      " 86%|██████████████████████████████████████████████████████████████████████████████████████████████████████████████████████████████████████████████████████████████████████████████████                            | 83/96 [00:13<00:02,  6.00it/s]"
     ]
    },
    {
     "name": "stdout",
     "output_type": "stream",
     "text": [
      "-----------------------------------------\n",
      "WARNING!!! Your mean error rate across was too high!!! It was:  0.4287581699346405\n",
      "-----------------------------------------\n",
      "-----------------------------------------\n",
      "WARNING!!! Your mean error rate across was too high!!! It was:  0.4088235294117647\n",
      "-----------------------------------------\n",
      "-----------------------------------------\n",
      "WARNING!!! Your mean error rate across was too high!!! It was:  0.41045751633986927\n",
      "-----------------------------------------\n"
     ]
    },
    {
     "name": "stderr",
     "output_type": "stream",
     "text": [
      " 89%|██████████████████████████████████████████████████████████████████████████████████████████████████████████████████████████████████████████████████████████████████████████████████████▍                       | 85/96 [00:14<00:01,  6.09it/s]"
     ]
    },
    {
     "name": "stdout",
     "output_type": "stream",
     "text": [
      "-----------------------------------------\n",
      "WARNING!!! Your mean error rate across was too high!!! It was:  0.4066993464052287\n",
      "-----------------------------------------\n",
      "-----------------------------------------\n",
      "WARNING!!! Your mean error rate across was too high!!! It was:  0.4160130718954248\n",
      "-----------------------------------------\n"
     ]
    },
    {
     "name": "stderr",
     "output_type": "stream",
     "text": [
      " 91%|██████████████████████████████████████████████████████████████████████████████████████████████████████████████████████████████████████████████████████████████████████████████████████████▋                   | 87/96 [00:14<00:01,  6.16it/s]"
     ]
    },
    {
     "name": "stdout",
     "output_type": "stream",
     "text": [
      "-----------------------------------------\n",
      "WARNING!!! Your mean error rate across was too high!!! It was:  0.4202614379084968\n",
      "-----------------------------------------\n",
      "-----------------------------------------\n",
      "WARNING!!! Your mean error rate across was too high!!! It was:  0.4223856209150327\n",
      "-----------------------------------------\n"
     ]
    },
    {
     "name": "stderr",
     "output_type": "stream",
     "text": [
      " 93%|██████████████████████████████████████████████████████████████████████████████████████████████████████████████████████████████████████████████████████████████████████████████████████████████▉               | 89/96 [00:14<00:01,  6.10it/s]"
     ]
    },
    {
     "name": "stdout",
     "output_type": "stream",
     "text": [
      "-----------------------------------------\n",
      "WARNING!!! Your mean error rate across was too high!!! It was:  0.40228758169934636\n",
      "-----------------------------------------\n"
     ]
    },
    {
     "name": "stderr",
     "output_type": "stream",
     "text": [
      " 95%|███████████████████████████████████████████████████████████████████████████████████████████████████████████████████████████████████████████████████████████████████████████████████████████████████▎          | 91/96 [00:15<00:00,  6.07it/s]"
     ]
    },
    {
     "name": "stdout",
     "output_type": "stream",
     "text": [
      "-----------------------------------------\n",
      "WARNING!!! Your mean error rate across was too high!!! It was:  0.41307189542483663\n",
      "-----------------------------------------\n",
      "-----------------------------------------\n",
      "WARNING!!! Your mean error rate across was too high!!! It was:  0.4068627450980392\n",
      "-----------------------------------------\n"
     ]
    },
    {
     "name": "stderr",
     "output_type": "stream",
     "text": [
      " 97%|███████████████████████████████████████████████████████████████████████████████████████████████████████████████████████████████████████████████████████████████████████████████████████████████████████▌      | 93/96 [00:15<00:00,  6.05it/s]"
     ]
    },
    {
     "name": "stdout",
     "output_type": "stream",
     "text": [
      "-----------------------------------------\n",
      "WARNING!!! Your mean error rate across was too high!!! It was:  0.4078431372549019\n",
      "-----------------------------------------\n",
      "-----------------------------------------\n",
      "WARNING!!! Your mean error rate across was too high!!! It was:  0.42483660130718953\n",
      "-----------------------------------------\n"
     ]
    },
    {
     "name": "stderr",
     "output_type": "stream",
     "text": [
      " 99%|███████████████████████████████████████████████████████████████████████████████████████████████████████████████████████████████████████████████████████████████████████████████████████████████████████████▊  | 95/96 [00:15<00:00,  5.99it/s]"
     ]
    },
    {
     "name": "stdout",
     "output_type": "stream",
     "text": [
      "-----------------------------------------\n",
      "WARNING!!! Your mean error rate across was too high!!! It was:  0.41029411764705875\n",
      "-----------------------------------------\n"
     ]
    },
    {
     "name": "stderr",
     "output_type": "stream",
     "text": [
      "100%|██████████████████████████████████████████████████████████████████████████████████████████████████████████████████████████████████████████████████████████████████████████████████████████████████████████████| 96/96 [00:16<00:00,  5.98it/s]\n",
      "  1%|██▏                                                                                                                                                                                                            | 1/96 [00:00<00:16,  5.94it/s]"
     ]
    },
    {
     "name": "stdout",
     "output_type": "stream",
     "text": [
      "-----------------------------------------\n",
      "WARNING!!! Your mean error rate across was too high!!! It was:  0.4583333333333333\n",
      "-----------------------------------------\n",
      "-----------------------------------------\n",
      "WARNING!!! Your mean error rate across was too high!!! It was:  0.471078431372549\n",
      "-----------------------------------------\n"
     ]
    },
    {
     "name": "stderr",
     "output_type": "stream",
     "text": [
      "  4%|████████▋                                                                                                                                                                                                      | 4/96 [00:00<00:15,  5.91it/s]"
     ]
    },
    {
     "name": "stdout",
     "output_type": "stream",
     "text": [
      "-----------------------------------------\n",
      "WARNING!!! Your mean error rate across was too high!!! It was:  0.4563725490196079\n",
      "-----------------------------------------\n",
      "-----------------------------------------\n",
      "WARNING!!! Your mean error rate across was too high!!! It was:  0.4671568627450981\n",
      "-----------------------------------------\n",
      "-----------------------------------------\n",
      "WARNING!!! Your mean error rate across was too high!!! It was:  0.46895424836601307\n",
      "-----------------------------------------\n"
     ]
    },
    {
     "name": "stderr",
     "output_type": "stream",
     "text": [
      "  7%|███████████████                                                                                                                                                                                                | 7/96 [00:01<00:14,  5.98it/s]"
     ]
    },
    {
     "name": "stdout",
     "output_type": "stream",
     "text": [
      "-----------------------------------------\n",
      "WARNING!!! Your mean error rate across was too high!!! It was:  0.4452614379084967\n",
      "-----------------------------------------\n",
      "-----------------------------------------\n",
      "WARNING!!! Your mean error rate across was too high!!! It was:  0.46372549019607845\n",
      "-----------------------------------------\n",
      "-----------------------------------------\n",
      "WARNING!!! Your mean error rate across was too high!!! It was:  0.4537581699346405\n",
      "-----------------------------------------\n"
     ]
    },
    {
     "name": "stderr",
     "output_type": "stream",
     "text": [
      "  9%|███████████████████▍                                                                                                                                                                                           | 9/96 [00:01<00:14,  5.96it/s]"
     ]
    },
    {
     "name": "stdout",
     "output_type": "stream",
     "text": [
      "-----------------------------------------\n",
      "WARNING!!! Your mean error rate across was too high!!! It was:  0.4714052287581699\n",
      "-----------------------------------------\n",
      "-----------------------------------------\n",
      "WARNING!!! Your mean error rate across was too high!!! It was:  0.461437908496732\n",
      "-----------------------------------------\n"
     ]
    },
    {
     "name": "stderr",
     "output_type": "stream",
     "text": [
      " 11%|███████████████████████▌                                                                                                                                                                                      | 11/96 [00:01<00:14,  5.95it/s]"
     ]
    },
    {
     "name": "stdout",
     "output_type": "stream",
     "text": [
      "-----------------------------------------\n",
      "WARNING!!! Your mean error rate across was too high!!! It was:  0.4642156862745098\n",
      "-----------------------------------------\n",
      "-----------------------------------------\n",
      "WARNING!!! Your mean error rate across was too high!!! It was:  0.46388888888888885\n",
      "-----------------------------------------\n"
     ]
    },
    {
     "name": "stderr",
     "output_type": "stream",
     "text": [
      " 15%|██████████████████████████████                                                                                                                                                                                | 14/96 [00:02<00:13,  5.94it/s]"
     ]
    },
    {
     "name": "stdout",
     "output_type": "stream",
     "text": [
      "-----------------------------------------\n",
      "WARNING!!! Your mean error rate across was too high!!! It was:  0.4653594771241829\n",
      "-----------------------------------------\n",
      "-----------------------------------------\n",
      "WARNING!!! Your mean error rate across was too high!!! It was:  0.4532679738562091\n",
      "-----------------------------------------\n",
      "-----------------------------------------\n",
      "WARNING!!! Your mean error rate across was too high!!! It was:  0.45751633986928103\n",
      "-----------------------------------------\n"
     ]
    },
    {
     "name": "stderr",
     "output_type": "stream",
     "text": [
      " 17%|██████████████████████████████████▎                                                                                                                                                                           | 16/96 [00:02<00:13,  5.94it/s]"
     ]
    },
    {
     "name": "stdout",
     "output_type": "stream",
     "text": [
      "-----------------------------------------\n",
      "WARNING!!! Your mean error rate across was too high!!! It was:  0.44967320261437904\n",
      "-----------------------------------------\n",
      "-----------------------------------------\n",
      "WARNING!!! Your mean error rate across was too high!!! It was:  0.467156862745098\n",
      "-----------------------------------------\n"
     ]
    },
    {
     "name": "stderr",
     "output_type": "stream",
     "text": [
      " 20%|████████████████████████████████████████▊                                                                                                                                                                     | 19/96 [00:03<00:12,  5.97it/s]"
     ]
    },
    {
     "name": "stdout",
     "output_type": "stream",
     "text": [
      "-----------------------------------------\n",
      "WARNING!!! Your mean error rate across was too high!!! It was:  0.44787581699346407\n",
      "-----------------------------------------\n",
      "-----------------------------------------\n",
      "WARNING!!! Your mean error rate across was too high!!! It was:  0.45555555555555555\n",
      "-----------------------------------------\n"
     ]
    },
    {
     "name": "stderr",
     "output_type": "stream",
     "text": [
      " 22%|█████████████████████████████████████████████                                                                                                                                                                 | 21/96 [00:03<00:13,  5.54it/s]"
     ]
    },
    {
     "name": "stdout",
     "output_type": "stream",
     "text": [
      "-----------------------------------------\n",
      "WARNING!!! Your mean error rate across was too high!!! It was:  0.4606209150326797\n",
      "-----------------------------------------\n",
      "-----------------------------------------\n",
      "WARNING!!! Your mean error rate across was too high!!! It was:  0.45784313725490206\n",
      "-----------------------------------------\n",
      "-----------------------------------------\n",
      "WARNING!!! Your mean error rate across was too high!!! It was:  0.45294117647058824\n",
      "-----------------------------------------\n"
     ]
    },
    {
     "name": "stderr",
     "output_type": "stream",
     "text": [
      " 24%|█████████████████████████████████████████████████▎                                                                                                                                                            | 23/96 [00:03<00:12,  5.67it/s]"
     ]
    },
    {
     "name": "stdout",
     "output_type": "stream",
     "text": [
      "-----------------------------------------\n",
      "WARNING!!! Your mean error rate across was too high!!! It was:  0.46290849673202616\n",
      "-----------------------------------------\n",
      "-----------------------------------------\n",
      "WARNING!!! Your mean error rate across was too high!!! It was:  0.4563725490196078\n",
      "-----------------------------------------\n"
     ]
    },
    {
     "name": "stderr",
     "output_type": "stream",
     "text": [
      " 26%|█████████████████████████████████████████████████████▋                                                                                                                                                        | 25/96 [00:04<00:12,  5.80it/s]"
     ]
    },
    {
     "name": "stdout",
     "output_type": "stream",
     "text": [
      "-----------------------------------------\n",
      "WARNING!!! Your mean error rate across was too high!!! It was:  0.4599673202614379\n",
      "-----------------------------------------\n",
      "-----------------------------------------\n",
      "WARNING!!! Your mean error rate across was too high!!! It was:  0.44281045751633985\n",
      "-----------------------------------------\n"
     ]
    },
    {
     "name": "stderr",
     "output_type": "stream",
     "text": [
      " 28%|█████████████████████████████████████████████████████████▉                                                                                                                                                    | 27/96 [00:04<00:11,  5.85it/s]"
     ]
    },
    {
     "name": "stdout",
     "output_type": "stream",
     "text": [
      "-----------------------------------------\n",
      "WARNING!!! Your mean error rate across was too high!!! It was:  0.46290849673202616\n",
      "-----------------------------------------\n",
      "-----------------------------------------\n",
      "WARNING!!! Your mean error rate across was too high!!! It was:  0.4584967320261438\n",
      "-----------------------------------------\n"
     ]
    },
    {
     "name": "stderr",
     "output_type": "stream",
     "text": [
      " 31%|████████████████████████████████████████████████████████████████▍                                                                                                                                             | 30/96 [00:05<00:11,  5.89it/s]"
     ]
    },
    {
     "name": "stdout",
     "output_type": "stream",
     "text": [
      "-----------------------------------------\n",
      "WARNING!!! Your mean error rate across was too high!!! It was:  0.4537581699346406\n",
      "-----------------------------------------\n",
      "-----------------------------------------\n",
      "WARNING!!! Your mean error rate across was too high!!! It was:  0.46470588235294114\n",
      "-----------------------------------------\n",
      "-----------------------------------------\n",
      "WARNING!!! Your mean error rate across was too high!!! It was:  0.4694444444444444\n",
      "-----------------------------------------\n"
     ]
    },
    {
     "name": "stderr",
     "output_type": "stream",
     "text": [
      " 33%|████████████████████████████████████████████████████████████████████▋                                                                                                                                         | 32/96 [00:05<00:10,  5.91it/s]"
     ]
    },
    {
     "name": "stdout",
     "output_type": "stream",
     "text": [
      "-----------------------------------------\n",
      "WARNING!!! Your mean error rate across was too high!!! It was:  0.46388888888888885\n",
      "-----------------------------------------\n",
      "-----------------------------------------\n",
      "WARNING!!! Your mean error rate across was too high!!! It was:  0.4625816993464052\n",
      "-----------------------------------------\n"
     ]
    },
    {
     "name": "stderr",
     "output_type": "stream",
     "text": [
      " 35%|████████████████████████████████████████████████████████████████████████▉                                                                                                                                     | 34/96 [00:05<00:10,  5.93it/s]"
     ]
    },
    {
     "name": "stdout",
     "output_type": "stream",
     "text": [
      "-----------------------------------------\n",
      "WARNING!!! Your mean error rate across was too high!!! It was:  0.4684640522875817\n",
      "-----------------------------------------\n",
      "-----------------------------------------\n",
      "WARNING!!! Your mean error rate across was too high!!! It was:  0.4599673202614379\n",
      "-----------------------------------------\n"
     ]
    },
    {
     "name": "stderr",
     "output_type": "stream",
     "text": [
      " 38%|█████████████████████████████████████████████████████████████████████████████▎                                                                                                                                | 36/96 [00:06<00:10,  5.95it/s]"
     ]
    },
    {
     "name": "stdout",
     "output_type": "stream",
     "text": [
      "-----------------------------------------\n",
      "WARNING!!! Your mean error rate across was too high!!! It was:  0.4642156862745098\n",
      "-----------------------------------------\n",
      "-----------------------------------------\n",
      "WARNING!!! Your mean error rate across was too high!!! It was:  0.4632352941176471\n",
      "-----------------------------------------\n"
     ]
    },
    {
     "name": "stderr",
     "output_type": "stream",
     "text": [
      " 40%|█████████████████████████████████████████████████████████████████████████████████▌                                                                                                                            | 38/96 [00:06<00:09,  5.94it/s]"
     ]
    },
    {
     "name": "stdout",
     "output_type": "stream",
     "text": [
      "-----------------------------------------\n",
      "WARNING!!! Your mean error rate across was too high!!! It was:  0.4563725490196079\n",
      "-----------------------------------------\n",
      "-----------------------------------------\n",
      "WARNING!!! Your mean error rate across was too high!!! It was:  0.45228758169934635\n",
      "-----------------------------------------\n"
     ]
    },
    {
     "name": "stderr",
     "output_type": "stream",
     "text": [
      " 42%|█████████████████████████████████████████████████████████████████████████████████████▊                                                                                                                        | 40/96 [00:06<00:09,  5.91it/s]"
     ]
    },
    {
     "name": "stdout",
     "output_type": "stream",
     "text": [
      "-----------------------------------------\n",
      "WARNING!!! Your mean error rate across was too high!!! It was:  0.4563725490196078\n",
      "-----------------------------------------\n",
      "-----------------------------------------\n",
      "WARNING!!! Your mean error rate across was too high!!! It was:  0.45588235294117646\n",
      "-----------------------------------------\n"
     ]
    },
    {
     "name": "stderr",
     "output_type": "stream",
     "text": [
      " 44%|██████████████████████████████████████████████████████████████████████████████████████████▏                                                                                                                   | 42/96 [00:07<00:09,  5.98it/s]"
     ]
    },
    {
     "name": "stdout",
     "output_type": "stream",
     "text": [
      "-----------------------------------------\n",
      "WARNING!!! Your mean error rate across was too high!!! It was:  0.46568627450980393\n",
      "-----------------------------------------\n"
     ]
    },
    {
     "name": "stderr",
     "output_type": "stream",
     "text": [
      " 45%|████████████████████████████████████████████████████████████████████████████████████████████▎                                                                                                                 | 43/96 [00:07<00:09,  5.40it/s]"
     ]
    },
    {
     "name": "stdout",
     "output_type": "stream",
     "text": [
      "-----------------------------------------\n",
      "WARNING!!! Your mean error rate across was too high!!! It was:  0.45212418300653584\n",
      "-----------------------------------------\n",
      "-----------------------------------------\n",
      "WARNING!!! Your mean error rate across was too high!!! It was:  0.45065359477124184\n",
      "-----------------------------------------\n"
     ]
    },
    {
     "name": "stderr",
     "output_type": "stream",
     "text": [
      " 47%|████████████████████████████████████████████████████████████████████████████████████████████████▌                                                                                                             | 45/96 [00:07<00:08,  5.69it/s]"
     ]
    },
    {
     "name": "stdout",
     "output_type": "stream",
     "text": [
      "-----------------------------------------\n",
      "WARNING!!! Your mean error rate across was too high!!! It was:  0.4663398692810457\n",
      "-----------------------------------------\n",
      "-----------------------------------------\n",
      "WARNING!!! Your mean error rate across was too high!!! It was:  0.4619281045751633\n",
      "-----------------------------------------\n"
     ]
    },
    {
     "name": "stderr",
     "output_type": "stream",
     "text": [
      " 49%|████████████████████████████████████████████████████████████████████████████████████████████████████▊                                                                                                         | 47/96 [00:08<00:08,  5.88it/s]"
     ]
    },
    {
     "name": "stdout",
     "output_type": "stream",
     "text": [
      "-----------------------------------------\n",
      "WARNING!!! Your mean error rate across was too high!!! It was:  0.45669934640522875\n",
      "-----------------------------------------\n",
      "-----------------------------------------\n",
      "WARNING!!! Your mean error rate across was too high!!! It was:  0.4583333333333333\n",
      "-----------------------------------------\n"
     ]
    },
    {
     "name": "stderr",
     "output_type": "stream",
     "text": [
      " 51%|█████████████████████████████████████████████████████████████████████████████████████████████████████████▏                                                                                                    | 49/96 [00:08<00:07,  5.93it/s]"
     ]
    },
    {
     "name": "stdout",
     "output_type": "stream",
     "text": [
      "-----------------------------------------\n",
      "WARNING!!! Your mean error rate across was too high!!! It was:  0.4534313725490196\n",
      "-----------------------------------------\n",
      "-----------------------------------------\n",
      "WARNING!!! Your mean error rate across was too high!!! It was:  0.44983660130718955\n",
      "-----------------------------------------\n"
     ]
    },
    {
     "name": "stderr",
     "output_type": "stream",
     "text": [
      " 53%|█████████████████████████████████████████████████████████████████████████████████████████████████████████████▍                                                                                                | 51/96 [00:08<00:07,  6.25it/s]"
     ]
    },
    {
     "name": "stdout",
     "output_type": "stream",
     "text": [
      "-----------------------------------------\n",
      "WARNING!!! Your mean error rate across was too high!!! It was:  0.4604575163398692\n",
      "-----------------------------------------\n",
      "-----------------------------------------\n",
      "WARNING!!! Your mean error rate across was too high!!! It was:  0.4604575163398692\n",
      "-----------------------------------------\n"
     ]
    },
    {
     "name": "stderr",
     "output_type": "stream",
     "text": [
      " 55%|█████████████████████████████████████████████████████████████████████████████████████████████████████████████████▋                                                                                            | 53/96 [00:09<00:07,  6.05it/s]"
     ]
    },
    {
     "name": "stdout",
     "output_type": "stream",
     "text": [
      "-----------------------------------------\n",
      "WARNING!!! Your mean error rate across was too high!!! It was:  0.44428104575163396\n",
      "-----------------------------------------\n",
      "-----------------------------------------\n",
      "WARNING!!! Your mean error rate across was too high!!! It was:  0.46879084967320256\n",
      "-----------------------------------------\n"
     ]
    },
    {
     "name": "stderr",
     "output_type": "stream",
     "text": [
      " 57%|██████████████████████████████████████████████████████████████████████████████████████████████████████████████████████                                                                                        | 55/96 [00:09<00:06,  6.01it/s]"
     ]
    },
    {
     "name": "stdout",
     "output_type": "stream",
     "text": [
      "-----------------------------------------\n",
      "WARNING!!! Your mean error rate across was too high!!! It was:  0.4493464052287582\n",
      "-----------------------------------------\n",
      "-----------------------------------------\n",
      "WARNING!!! Your mean error rate across was too high!!! It was:  0.45130718954248367\n",
      "-----------------------------------------\n"
     ]
    },
    {
     "name": "stderr",
     "output_type": "stream",
     "text": [
      " 59%|██████████████████████████████████████████████████████████████████████████████████████████████████████████████████████████▎                                                                                   | 57/96 [00:09<00:06,  5.98it/s]"
     ]
    },
    {
     "name": "stdout",
     "output_type": "stream",
     "text": [
      "-----------------------------------------\n",
      "WARNING!!! Your mean error rate across was too high!!! It was:  0.4563725490196079\n",
      "-----------------------------------------\n",
      "-----------------------------------------\n",
      "WARNING!!! Your mean error rate across was too high!!! It was:  0.46307189542483657\n",
      "-----------------------------------------\n"
     ]
    },
    {
     "name": "stderr",
     "output_type": "stream",
     "text": [
      " 62%|████████████████████████████████████████████████████████████████████████████████████████████████████████████████████████████████▊                                                                             | 60/96 [00:10<00:06,  5.97it/s]"
     ]
    },
    {
     "name": "stdout",
     "output_type": "stream",
     "text": [
      "-----------------------------------------\n",
      "WARNING!!! Your mean error rate across was too high!!! It was:  0.4552287581699347\n",
      "-----------------------------------------\n",
      "-----------------------------------------\n",
      "WARNING!!! Your mean error rate across was too high!!! It was:  0.45065359477124184\n",
      "-----------------------------------------\n",
      "-----------------------------------------\n",
      "WARNING!!! Your mean error rate across was too high!!! It was:  0.45196078431372555\n",
      "-----------------------------------------\n"
     ]
    },
    {
     "name": "stderr",
     "output_type": "stream",
     "text": [
      " 65%|█████████████████████████████████████████████████████████████████████████████████████████████████████████████████████████████████████                                                                         | 62/96 [00:10<00:05,  5.97it/s]"
     ]
    },
    {
     "name": "stdout",
     "output_type": "stream",
     "text": [
      "-----------------------------------------\n",
      "WARNING!!! Your mean error rate across was too high!!! It was:  0.46437908496732033\n",
      "-----------------------------------------\n",
      "-----------------------------------------\n",
      "WARNING!!! Your mean error rate across was too high!!! It was:  0.4573529411764706\n",
      "-----------------------------------------\n"
     ]
    },
    {
     "name": "stderr",
     "output_type": "stream",
     "text": [
      " 67%|█████████████████████████████████████████████████████████████████████████████████████████████████████████████████████████████████████████▎                                                                    | 64/96 [00:10<00:05,  5.42it/s]"
     ]
    },
    {
     "name": "stdout",
     "output_type": "stream",
     "text": [
      "-----------------------------------------\n",
      "WARNING!!! Your mean error rate across was too high!!! It was:  0.46388888888888885\n",
      "-----------------------------------------\n",
      "-----------------------------------------\n",
      "WARNING!!! Your mean error rate across was too high!!! It was:  0.467483660130719\n",
      "-----------------------------------------\n"
     ]
    },
    {
     "name": "stderr",
     "output_type": "stream",
     "text": [
      " 69%|█████████████████████████████████████████████████████████████████████████████████████████████████████████████████████████████████████████████▋                                                                | 66/96 [00:11<00:05,  5.84it/s]"
     ]
    },
    {
     "name": "stdout",
     "output_type": "stream",
     "text": [
      "-----------------------------------------\n",
      "WARNING!!! Your mean error rate across was too high!!! It was:  0.4596405228758169\n",
      "-----------------------------------------\n",
      "-----------------------------------------\n",
      "WARNING!!! Your mean error rate across was too high!!! It was:  0.4624183006535948\n",
      "-----------------------------------------\n"
     ]
    },
    {
     "name": "stderr",
     "output_type": "stream",
     "text": [
      " 71%|█████████████████████████████████████████████████████████████████████████████████████████████████████████████████████████████████████████████████▉                                                            | 68/96 [00:11<00:04,  5.92it/s]"
     ]
    },
    {
     "name": "stdout",
     "output_type": "stream",
     "text": [
      "-----------------------------------------\n",
      "WARNING!!! Your mean error rate across was too high!!! It was:  0.4562091503267975\n",
      "-----------------------------------------\n",
      "-----------------------------------------\n",
      "WARNING!!! Your mean error rate across was too high!!! It was:  0.4651960784313725\n",
      "-----------------------------------------\n"
     ]
    },
    {
     "name": "stderr",
     "output_type": "stream",
     "text": [
      " 73%|██████████████████████████████████████████████████████████████████████████████████████████████████████████████████████████████████████████████████████▏                                                       | 70/96 [00:11<00:04,  5.93it/s]"
     ]
    },
    {
     "name": "stdout",
     "output_type": "stream",
     "text": [
      "-----------------------------------------\n",
      "WARNING!!! Your mean error rate across was too high!!! It was:  0.45098039215686275\n",
      "-----------------------------------------\n",
      "-----------------------------------------\n",
      "WARNING!!! Your mean error rate across was too high!!! It was:  0.46274509803921565\n",
      "-----------------------------------------\n"
     ]
    },
    {
     "name": "stderr",
     "output_type": "stream",
     "text": [
      " 75%|██████████████████████████████████████████████████████████████████████████████████████████████████████████████████████████████████████████████████████████▌                                                   | 72/96 [00:12<00:04,  5.94it/s]"
     ]
    },
    {
     "name": "stdout",
     "output_type": "stream",
     "text": [
      "-----------------------------------------\n",
      "WARNING!!! Your mean error rate across was too high!!! It was:  0.4619281045751633\n",
      "-----------------------------------------\n",
      "-----------------------------------------\n",
      "WARNING!!! Your mean error rate across was too high!!! It was:  0.45490196078431366\n",
      "-----------------------------------------\n"
     ]
    },
    {
     "name": "stderr",
     "output_type": "stream",
     "text": [
      " 78%|████████████████████████████████████████████████████████████████████████████████████████████████████████████████████████████████████████████████████████████████▉                                             | 75/96 [00:12<00:03,  5.93it/s]"
     ]
    },
    {
     "name": "stdout",
     "output_type": "stream",
     "text": [
      "-----------------------------------------\n",
      "WARNING!!! Your mean error rate across was too high!!! It was:  0.4583333333333333\n",
      "-----------------------------------------\n",
      "-----------------------------------------\n",
      "WARNING!!! Your mean error rate across was too high!!! It was:  0.4542483660130719\n",
      "-----------------------------------------\n",
      "-----------------------------------------\n",
      "WARNING!!! Your mean error rate across was too high!!! It was:  0.4702614379084967\n",
      "-----------------------------------------\n"
     ]
    },
    {
     "name": "stderr",
     "output_type": "stream",
     "text": [
      " 80%|█████████████████████████████████████████████████████████████████████████████████████████████████████████████████████████████████████████████████████████████████████▏                                        | 77/96 [00:13<00:03,  5.93it/s]"
     ]
    },
    {
     "name": "stdout",
     "output_type": "stream",
     "text": [
      "-----------------------------------------\n",
      "WARNING!!! Your mean error rate across was too high!!! It was:  0.4573529411764706\n",
      "-----------------------------------------\n",
      "-----------------------------------------\n",
      "WARNING!!! Your mean error rate across was too high!!! It was:  0.45882352941176463\n",
      "-----------------------------------------\n"
     ]
    },
    {
     "name": "stderr",
     "output_type": "stream",
     "text": [
      " 82%|█████████████████████████████████████████████████████████████████████████████████████████████████████████████████████████████████████████████████████████████████████████▌                                    | 79/96 [00:13<00:02,  5.92it/s]"
     ]
    },
    {
     "name": "stdout",
     "output_type": "stream",
     "text": [
      "-----------------------------------------\n",
      "WARNING!!! Your mean error rate across was too high!!! It was:  0.4599673202614379\n",
      "-----------------------------------------\n",
      "-----------------------------------------\n",
      "WARNING!!! Your mean error rate across was too high!!! It was:  0.45473856209150326\n",
      "-----------------------------------------\n"
     ]
    },
    {
     "name": "stderr",
     "output_type": "stream",
     "text": [
      " 85%|███████████████████████████████████████████████████████████████████████████████████████████████████████████████████████████████████████████████████████████████████████████████▉                              | 82/96 [00:13<00:02,  5.94it/s]"
     ]
    },
    {
     "name": "stdout",
     "output_type": "stream",
     "text": [
      "-----------------------------------------\n",
      "WARNING!!! Your mean error rate across was too high!!! It was:  0.4596405228758169\n",
      "-----------------------------------------\n",
      "-----------------------------------------\n",
      "WARNING!!! Your mean error rate across was too high!!! It was:  0.4594771241830066\n",
      "-----------------------------------------\n",
      "-----------------------------------------\n",
      "WARNING!!! Your mean error rate across was too high!!! It was:  0.4540849673202614\n",
      "-----------------------------------------\n"
     ]
    },
    {
     "name": "stderr",
     "output_type": "stream",
     "text": [
      " 88%|████████████████████████████████████████████████████████████████████████████████████████████████████████████████████████████████████████████████████████████████████████████████████▎                         | 84/96 [00:14<00:02,  5.40it/s]"
     ]
    },
    {
     "name": "stdout",
     "output_type": "stream",
     "text": [
      "-----------------------------------------\n",
      "WARNING!!! Your mean error rate across was too high!!! It was:  0.45588235294117646\n",
      "-----------------------------------------\n",
      "-----------------------------------------\n",
      "WARNING!!! Your mean error rate across was too high!!! It was:  0.45898692810457514\n",
      "-----------------------------------------\n"
     ]
    },
    {
     "name": "stderr",
     "output_type": "stream",
     "text": [
      " 90%|████████████████████████████████████████████████████████████████████████████████████████████████████████████████████████████████████████████████████████████████████████████████████████▌                     | 86/96 [00:14<00:01,  5.65it/s]"
     ]
    },
    {
     "name": "stdout",
     "output_type": "stream",
     "text": [
      "-----------------------------------------\n",
      "WARNING!!! Your mean error rate across was too high!!! It was:  0.46405228758169936\n",
      "-----------------------------------------\n",
      "-----------------------------------------\n",
      "WARNING!!! Your mean error rate across was too high!!! It was:  0.4601307189542483\n",
      "-----------------------------------------\n"
     ]
    },
    {
     "name": "stderr",
     "output_type": "stream",
     "text": [
      " 92%|████████████████████████████████████████████████████████████████████████████████████████████████████████████████████████████████████████████████████████████████████████████████████████████▊                 | 88/96 [00:14<00:01,  5.81it/s]"
     ]
    },
    {
     "name": "stdout",
     "output_type": "stream",
     "text": [
      "-----------------------------------------\n",
      "WARNING!!! Your mean error rate across was too high!!! It was:  0.4562091503267975\n",
      "-----------------------------------------\n",
      "-----------------------------------------\n",
      "WARNING!!! Your mean error rate across was too high!!! It was:  0.4650326797385621\n",
      "-----------------------------------------\n"
     ]
    },
    {
     "name": "stderr",
     "output_type": "stream",
     "text": [
      " 94%|█████████████████████████████████████████████████████████████████████████████████████████████████████████████████████████████████████████████████████████████████████████████████████████████████▏            | 90/96 [00:15<00:01,  5.88it/s]"
     ]
    },
    {
     "name": "stdout",
     "output_type": "stream",
     "text": [
      "-----------------------------------------\n",
      "WARNING!!! Your mean error rate across was too high!!! It was:  0.44967320261437915\n",
      "-----------------------------------------\n",
      "-----------------------------------------\n",
      "WARNING!!! Your mean error rate across was too high!!! It was:  0.4529411764705883\n",
      "-----------------------------------------\n"
     ]
    },
    {
     "name": "stderr",
     "output_type": "stream",
     "text": [
      " 96%|█████████████████████████████████████████████████████████████████████████████████████████████████████████████████████████████████████████████████████████████████████████████████████████████████████▍        | 92/96 [00:15<00:00,  5.97it/s]"
     ]
    },
    {
     "name": "stdout",
     "output_type": "stream",
     "text": [
      "-----------------------------------------\n",
      "WARNING!!! Your mean error rate across was too high!!! It was:  0.4617647058823529\n",
      "-----------------------------------------\n",
      "-----------------------------------------\n",
      "WARNING!!! Your mean error rate across was too high!!! It was:  0.4473856209150326\n",
      "-----------------------------------------\n"
     ]
    },
    {
     "name": "stderr",
     "output_type": "stream",
     "text": [
      " 99%|███████████████████████████████████████████████████████████████████████████████████████████████████████████████████████████████████████████████████████████████████████████████████████████████████████████▊  | 95/96 [00:16<00:00,  5.99it/s]"
     ]
    },
    {
     "name": "stdout",
     "output_type": "stream",
     "text": [
      "-----------------------------------------\n",
      "WARNING!!! Your mean error rate across was too high!!! It was:  0.4553921568627451\n",
      "-----------------------------------------\n",
      "-----------------------------------------\n",
      "WARNING!!! Your mean error rate across was too high!!! It was:  0.45784313725490194\n",
      "-----------------------------------------\n",
      "-----------------------------------------\n",
      "WARNING!!! Your mean error rate across was too high!!! It was:  0.45653594771241834\n",
      "-----------------------------------------\n"
     ]
    },
    {
     "name": "stderr",
     "output_type": "stream",
     "text": [
      "100%|██████████████████████████████████████████████████████████████████████████████████████████████████████████████████████████████████████████████████████████████████████████████████████████████████████████████| 96/96 [00:16<00:00,  5.88it/s]\n"
     ]
    }
   ],
   "source": [
    "# We're going to make an experiment of 10 plates with different sequencing error rates\n",
    "read_depth = 10\n",
    "number_of_wells = 96\n",
    "epcr_mutation_rate = 0.02\n",
    "frequency_cutoff = 0.5\n",
    "library_number = 96 # Usually do a 96 well plate\n",
    "verbose = False\n",
    "sequencing_error = 0.1\n",
    "\n",
    "experiment_df = pd.DataFrame()\n",
    "for sequencing_error in range(0, 50, 5):\n",
    "    sequencing_error_rate = sequencing_error/100.0\n",
    "    run_df = make_experiment(f'SeqError_{sequencing_error}', read_depth, sequencing_error_rate, parent_sequence,\n",
    "                             library_number, number_of_wells, epcr_mutation_rate, frequency_cutoff)\n",
    "    run_df.reset_index(inplace=True)\n",
    "    experiment_df = pd.concat([experiment_df, run_df])\n",
    "\n",
    "# Also plot each one\n",
    "experiment_df.to_csv(f'{data_dir}Experiment1_SeqError_{label}.csv', index=False)"
   ]
  },
  {
   "cell_type": "markdown",
   "id": "ebf4be57-5c55-47d9-959f-a2f44e50426a",
   "metadata": {},
   "source": [
    "## Experiment 2: varying read depth and it's effect on significance"
   ]
  },
  {
   "cell_type": "code",
   "execution_count": 10,
   "id": "60ea640d-45e3-4524-b519-e74d1f6f2592",
   "metadata": {
    "scrolled": true
   },
   "outputs": [
    {
     "name": "stderr",
     "output_type": "stream",
     "text": [
      "100%|██████████████████████████████████████████████████████████████████████████████████████████████████████████████████████████████████████████████████████████████████████████████████████████████████████████████| 96/96 [00:11<00:00,  8.35it/s]\n",
      "100%|██████████████████████████████████████████████████████████████████████████████████████████████████████████████████████████████████████████████████████████████████████████████████████████████████████████████| 96/96 [00:11<00:00,  8.14it/s]\n",
      "100%|██████████████████████████████████████████████████████████████████████████████████████████████████████████████████████████████████████████████████████████████████████████████████████████████████████████████| 96/96 [00:11<00:00,  8.06it/s]\n",
      "100%|██████████████████████████████████████████████████████████████████████████████████████████████████████████████████████████████████████████████████████████████████████████████████████████████████████████████| 96/96 [00:11<00:00,  8.04it/s]\n",
      "100%|██████████████████████████████████████████████████████████████████████████████████████████████████████████████████████████████████████████████████████████████████████████████████████████████████████████████| 96/96 [00:12<00:00,  7.87it/s]\n",
      "100%|██████████████████████████████████████████████████████████████████████████████████████████████████████████████████████████████████████████████████████████████████████████████████████████████████████████████| 96/96 [00:12<00:00,  7.81it/s]\n",
      "100%|██████████████████████████████████████████████████████████████████████████████████████████████████████████████████████████████████████████████████████████████████████████████████████████████████████████████| 96/96 [00:12<00:00,  7.69it/s]\n",
      "100%|██████████████████████████████████████████████████████████████████████████████████████████████████████████████████████████████████████████████████████████████████████████████████████████████████████████████| 96/96 [00:12<00:00,  7.60it/s]\n",
      "100%|██████████████████████████████████████████████████████████████████████████████████████████████████████████████████████████████████████████████████████████████████████████████████████████████████████████████| 96/96 [00:13<00:00,  7.12it/s]\n",
      "100%|██████████████████████████████████████████████████████████████████████████████████████████████████████████████████████████████████████████████████████████████████████████████████████████████████████████████| 96/96 [00:12<00:00,  7.64it/s]\n",
      "100%|██████████████████████████████████████████████████████████████████████████████████████████████████████████████████████████████████████████████████████████████████████████████████████████████████████████████| 96/96 [00:12<00:00,  7.52it/s]\n",
      "100%|██████████████████████████████████████████████████████████████████████████████████████████████████████████████████████████████████████████████████████████████████████████████████████████████████████████████| 96/96 [00:12<00:00,  7.39it/s]\n",
      "100%|██████████████████████████████████████████████████████████████████████████████████████████████████████████████████████████████████████████████████████████████████████████████████████████████████████████████| 96/96 [00:13<00:00,  7.28it/s]\n",
      "100%|██████████████████████████████████████████████████████████████████████████████████████████████████████████████████████████████████████████████████████████████████████████████████████████████████████████████| 96/96 [00:13<00:00,  7.24it/s]\n",
      "100%|██████████████████████████████████████████████████████████████████████████████████████████████████████████████████████████████████████████████████████████████████████████████████████████████████████████████| 96/96 [00:13<00:00,  7.16it/s]\n",
      "100%|██████████████████████████████████████████████████████████████████████████████████████████████████████████████████████████████████████████████████████████████████████████████████████████████████████████████| 96/96 [00:13<00:00,  7.09it/s]\n",
      "100%|██████████████████████████████████████████████████████████████████████████████████████████████████████████████████████████████████████████████████████████████████████████████████████████████████████████████| 96/96 [00:13<00:00,  6.95it/s]\n",
      "100%|██████████████████████████████████████████████████████████████████████████████████████████████████████████████████████████████████████████████████████████████████████████████████████████████████████████████| 96/96 [00:13<00:00,  6.97it/s]\n",
      "100%|██████████████████████████████████████████████████████████████████████████████████████████████████████████████████████████████████████████████████████████████████████████████████████████████████████████████| 96/96 [00:13<00:00,  6.88it/s]\n",
      "100%|██████████████████████████████████████████████████████████████████████████████████████████████████████████████████████████████████████████████████████████████████████████████████████████████████████████████| 96/96 [00:14<00:00,  6.81it/s]\n",
      "100%|██████████████████████████████████████████████████████████████████████████████████████████████████████████████████████████████████████████████████████████████████████████████████████████████████████████████| 96/96 [00:14<00:00,  6.84it/s]\n",
      "100%|██████████████████████████████████████████████████████████████████████████████████████████████████████████████████████████████████████████████████████████████████████████████████████████████████████████████| 96/96 [00:14<00:00,  6.85it/s]\n",
      "100%|██████████████████████████████████████████████████████████████████████████████████████████████████████████████████████████████████████████████████████████████████████████████████████████████████████████████| 96/96 [00:14<00:00,  6.68it/s]\n",
      "100%|██████████████████████████████████████████████████████████████████████████████████████████████████████████████████████████████████████████████████████████████████████████████████████████████████████████████| 96/96 [00:14<00:00,  6.71it/s]\n",
      "100%|██████████████████████████████████████████████████████████████████████████████████████████████████████████████████████████████████████████████████████████████████████████████████████████████████████████████| 96/96 [00:14<00:00,  6.63it/s]\n",
      "100%|██████████████████████████████████████████████████████████████████████████████████████████████████████████████████████████████████████████████████████████████████████████████████████████████████████████████| 96/96 [00:14<00:00,  6.60it/s]\n",
      "100%|██████████████████████████████████████████████████████████████████████████████████████████████████████████████████████████████████████████████████████████████████████████████████████████████████████████████| 96/96 [00:14<00:00,  6.59it/s]\n",
      "100%|██████████████████████████████████████████████████████████████████████████████████████████████████████████████████████████████████████████████████████████████████████████████████████████████████████████████| 96/96 [00:14<00:00,  6.56it/s]\n",
      "100%|██████████████████████████████████████████████████████████████████████████████████████████████████████████████████████████████████████████████████████████████████████████████████████████████████████████████| 96/96 [00:14<00:00,  6.49it/s]\n"
     ]
    }
   ],
   "source": [
    "# We're going to make an experiment of 10 plates with different sequencing error rates\n",
    "read_depth = 0\n",
    "number_of_wells = 96\n",
    "epcr_mutation_rate = 0.02\n",
    "frequency_cutoff = 0.5\n",
    "library_number = 96 # Usually do a 96 well plate\n",
    "verbose = False\n",
    "sequencing_error = 0.1\n",
    "\n",
    "# Here we do it from 1-10 completely and then in intervals of 10 so that we can clearly see the impact\n",
    "experiment_df = pd.DataFrame()\n",
    "for read_depth in range(1, 30, 1):\n",
    "    run_df = make_experiment(f'ReadDepth_{read_depth}', read_depth, sequencing_error, parent_sequence, \n",
    "                     library_number, number_of_wells, epcr_mutation_rate, frequency_cutoff)\n",
    "    run_df.reset_index(inplace=True)\n",
    "    experiment_df = pd.concat([experiment_df, run_df])\n",
    "    \n",
    " # Also plot each one\n",
    "experiment_df.to_csv(f'{data_dir}Experiment2_ReadDepth_{label}.csv', index=False)"
   ]
  },
  {
   "cell_type": "markdown",
   "id": "f62040aa-85bd-4bf6-a4cc-d36f8b90a3e4",
   "metadata": {},
   "source": [
    "## Experiment 3: effect of sequence length on significance\n"
   ]
  },
  {
   "cell_type": "code",
   "execution_count": 11,
   "id": "af0a7dd6-a1ad-4fba-ad8d-fd5ca61b4098",
   "metadata": {
    "scrolled": true
   },
   "outputs": [
    {
     "name": "stderr",
     "output_type": "stream",
     "text": [
      "  0%|                                                                                                                                                                                                                       | 0/18 [00:00<?, ?it/s]/Users/arianemora/miniconda3/envs/minion/lib/python3.8/site-packages/numpy/core/fromnumeric.py:3464: RuntimeWarning: Mean of empty slice.\n",
      "  return _methods._mean(a, axis=axis, dtype=dtype,\n",
      "/Users/arianemora/miniconda3/envs/minion/lib/python3.8/site-packages/numpy/core/_methods.py:192: RuntimeWarning: invalid value encountered in scalar divide\n",
      "  ret = ret.dtype.type(ret / rcount)\n",
      "100%|█████████████████████████████████████████████████████████████████████████████████████████████████████████████████████████████████████████████████████████████████████████████████████████████████████████████| 18/18 [00:00<00:00, 191.21it/s]\n",
      "/Users/arianemora/miniconda3/envs/minion/lib/python3.8/site-packages/levseq/simulation.py:310: RuntimeWarning: invalid value encountered in divide\n",
      "  variant_df['accuracy'] = np.array(corrects) / (np.array(corrects) + np.array(incorrects))\n"
     ]
    },
    {
     "name": "stdout",
     "output_type": "stream",
     "text": [
      "\n",
      "\n",
      "\n",
      "\n",
      "\n",
      "\n",
      "\n",
      "\n",
      "\n",
      "\n",
      "\n",
      "\n",
      "\n",
      "\n",
      "\n",
      "\n",
      "\n",
      "\n",
      "\n",
      "\n",
      "\n",
      "\n",
      "\n",
      "\n",
      "\n",
      "\n",
      "\n",
      "\n",
      "\n",
      "\n",
      "\n",
      "\n",
      "\n",
      "\n",
      "\n",
      "\n",
      "\n",
      "\n",
      "\n",
      "\n",
      "\n",
      "\n",
      "\n",
      "\n",
      "\n",
      "\n",
      "\n",
      "\n",
      "\n",
      "\n",
      "\n",
      "\n",
      "\n",
      "\n",
      "\n",
      "\n",
      "\n",
      "\n",
      "\n",
      "\n",
      "\n",
      "\n",
      "\n",
      "\n",
      "\n",
      "\n",
      "\n",
      "\n",
      "\n",
      "\n",
      "\n",
      "\n",
      "\n",
      "\n",
      "\n",
      "\n",
      "\n",
      "\n"
     ]
    },
    {
     "name": "stderr",
     "output_type": "stream",
     "text": [
      " 30%|█████████████████████████████████████████████████████████████▊                                                                                                                                                | 27/90 [00:00<00:02, 28.17it/s]/Users/arianemora/miniconda3/envs/minion/lib/python3.8/site-packages/numpy/core/fromnumeric.py:3464: RuntimeWarning: Mean of empty slice.\n",
      "  return _methods._mean(a, axis=axis, dtype=dtype,\n",
      "/Users/arianemora/miniconda3/envs/minion/lib/python3.8/site-packages/numpy/core/_methods.py:192: RuntimeWarning: invalid value encountered in scalar divide\n",
      "  ret = ret.dtype.type(ret / rcount)\n",
      "100%|██████████████████████████████████████████████████████████████████████████████████████████████████████████████████████████████████████████████████████████████████████████████████████████████████████████████| 90/90 [00:03<00:00, 26.40it/s]\n",
      "/Users/arianemora/miniconda3/envs/minion/lib/python3.8/site-packages/levseq/simulation.py:310: RuntimeWarning: invalid value encountered in divide\n",
      "  variant_df['accuracy'] = np.array(corrects) / (np.array(corrects) + np.array(incorrects))\n"
     ]
    },
    {
     "name": "stdout",
     "output_type": "stream",
     "text": [
      "\n",
      "\n",
      "\n",
      "\n",
      "\n",
      "\n"
     ]
    },
    {
     "name": "stderr",
     "output_type": "stream",
     "text": [
      "100%|██████████████████████████████████████████████████████████████████████████████████████████████████████████████████████████████████████████████████████████████████████████████████████████████████████████████| 96/96 [00:06<00:00, 14.29it/s]\n",
      "100%|██████████████████████████████████████████████████████████████████████████████████████████████████████████████████████████████████████████████████████████████████████████████████████████████████████████████| 96/96 [00:09<00:00, 10.36it/s]\n",
      "100%|██████████████████████████████████████████████████████████████████████████████████████████████████████████████████████████████████████████████████████████████████████████████████████████████████████████████| 96/96 [00:12<00:00,  7.62it/s]\n",
      "100%|██████████████████████████████████████████████████████████████████████████████████████████████████████████████████████████████████████████████████████████████████████████████████████████████████████████████| 96/96 [00:12<00:00,  7.65it/s]\n",
      "100%|██████████████████████████████████████████████████████████████████████████████████████████████████████████████████████████████████████████████████████████████████████████████████████████████████████████████| 96/96 [00:12<00:00,  7.64it/s]\n",
      "100%|██████████████████████████████████████████████████████████████████████████████████████████████████████████████████████████████████████████████████████████████████████████████████████████████████████████████| 96/96 [00:12<00:00,  7.69it/s]\n",
      "100%|██████████████████████████████████████████████████████████████████████████████████████████████████████████████████████████████████████████████████████████████████████████████████████████████████████████████| 96/96 [00:12<00:00,  7.68it/s]\n",
      "100%|██████████████████████████████████████████████████████████████████████████████████████████████████████████████████████████████████████████████████████████████████████████████████████████████████████████████| 96/96 [00:12<00:00,  7.66it/s]\n",
      "100%|██████████████████████████████████████████████████████████████████████████████████████████████████████████████████████████████████████████████████████████████████████████████████████████████████████████████| 96/96 [00:12<00:00,  7.57it/s]\n",
      "100%|██████████████████████████████████████████████████████████████████████████████████████████████████████████████████████████████████████████████████████████████████████████████████████████████████████████████| 96/96 [00:12<00:00,  7.67it/s]\n",
      "100%|██████████████████████████████████████████████████████████████████████████████████████████████████████████████████████████████████████████████████████████████████████████████████████████████████████████████| 96/96 [00:12<00:00,  7.61it/s]\n"
     ]
    }
   ],
   "source": [
    "# We're going to make an experiment of 10 plates with different sequencing error rates\n",
    "read_depth = 10\n",
    "number_of_wells = 96\n",
    "epcr_mutation_rate = 0.02\n",
    "frequency_cutoff = 0.5\n",
    "library_number = 96 # Usually do a 96 well plate\n",
    "verbose = False\n",
    "sequencing_error = 0.1\n",
    "\n",
    "\n",
    "experiment_df = pd.DataFrame()\n",
    "for seq_len in range(5, 2000, 50):\n",
    "    if seq_len >= len(parent_sequence):\n",
    "        break\n",
    "    run_df = make_experiment(f'SeqLen_{seq_len}', read_depth, sequencing_error, parent_sequence[:seq_len*3],\n",
    "             library_number, number_of_wells, epcr_mutation_rate, frequency_cutoff)\n",
    "    run_df.reset_index(inplace=True)\n",
    "    experiment_df = pd.concat([experiment_df, run_df])\n",
    "\n",
    "# Also plot each one\n",
    "experiment_df.to_csv(f'{data_dir}Experiment3_{label}.csv', index=False)\n"
   ]
  },
  {
   "cell_type": "markdown",
   "id": "a976b2f5-480a-4cd1-9adc-1295a98f0fe3",
   "metadata": {},
   "source": [
    "## Experiment 4: effect of frequency cutoff"
   ]
  },
  {
   "cell_type": "code",
   "execution_count": 12,
   "id": "f98f649b-3a5a-4cbf-8f72-241c5a73553d",
   "metadata": {},
   "outputs": [
    {
     "name": "stderr",
     "output_type": "stream",
     "text": [
      "100%|██████████████████████████████████████████████████████████████████████████████████████████████████████████████████████████████████████████████████████████████████████████████████████████████████████████████| 96/96 [00:12<00:00,  7.65it/s]\n",
      "100%|██████████████████████████████████████████████████████████████████████████████████████████████████████████████████████████████████████████████████████████████████████████████████████████████████████████████| 96/96 [00:12<00:00,  7.60it/s]\n",
      "100%|██████████████████████████████████████████████████████████████████████████████████████████████████████████████████████████████████████████████████████████████████████████████████████████████████████████████| 96/96 [00:12<00:00,  7.40it/s]\n",
      "100%|██████████████████████████████████████████████████████████████████████████████████████████████████████████████████████████████████████████████████████████████████████████████████████████████████████████████| 96/96 [00:12<00:00,  7.48it/s]\n",
      "100%|██████████████████████████████████████████████████████████████████████████████████████████████████████████████████████████████████████████████████████████████████████████████████████████████████████████████| 96/96 [00:12<00:00,  7.53it/s]\n",
      "100%|██████████████████████████████████████████████████████████████████████████████████████████████████████████████████████████████████████████████████████████████████████████████████████████████████████████████| 96/96 [00:12<00:00,  7.60it/s]\n",
      "100%|██████████████████████████████████████████████████████████████████████████████████████████████████████████████████████████████████████████████████████████████████████████████████████████████████████████████| 96/96 [00:12<00:00,  7.58it/s]\n",
      "100%|██████████████████████████████████████████████████████████████████████████████████████████████████████████████████████████████████████████████████████████████████████████████████████████████████████████████| 96/96 [00:12<00:00,  7.55it/s]\n",
      "100%|██████████████████████████████████████████████████████████████████████████████████████████████████████████████████████████████████████████████████████████████████████████████████████████████████████████████| 96/96 [00:12<00:00,  7.57it/s]\n",
      "100%|██████████████████████████████████████████████████████████████████████████████████████████████████████████████████████████████████████████████████████████████████████████████████████████████████████████████| 96/96 [00:12<00:00,  7.65it/s]\n"
     ]
    }
   ],
   "source": [
    "# We're going to make an experiment of 10 plates with different sequencing error rates\n",
    "read_depth = 10\n",
    "number_of_wells = 96\n",
    "epcr_mutation_rate = 0.02\n",
    "frequency_cutoff = 0.5\n",
    "library_number = 96 # Usually do a 96 well plate\n",
    "verbose = False\n",
    "sequencing_error = 0.1\n",
    "\n",
    "experiment_df = pd.DataFrame()\n",
    "for frequency_cutoff in range(5, 100, 10):\n",
    "    run_df = make_experiment(f'FreqCutoff_{frequency_cutoff}', read_depth, sequencing_error, parent_sequence, library_number, number_of_wells, epcr_mutation_rate, frequency_cutoff/100.0)\n",
    "    run_df.reset_index(inplace=True)\n",
    "    experiment_df = pd.concat([experiment_df, run_df])\n",
    "\n",
    " # Also plot each one\n",
    "experiment_df.to_csv(f'{data_dir}Experiment4_{label}.csv', index=False)"
   ]
  },
  {
   "cell_type": "markdown",
   "id": "11a1ca94-dc28-4cae-8692-de5186740c70",
   "metadata": {},
   "source": [
    "## Experiment 5: ePCR mutation rate"
   ]
  },
  {
   "cell_type": "code",
   "execution_count": 13,
   "id": "42728d5e-515c-4fbc-9092-469544b08a4f",
   "metadata": {},
   "outputs": [
    {
     "name": "stderr",
     "output_type": "stream",
     "text": [
      "  0%|                                                                                                                                                                                                                       | 0/46 [00:00<?, ?it/s]/Users/arianemora/miniconda3/envs/minion/lib/python3.8/site-packages/numpy/core/fromnumeric.py:3464: RuntimeWarning: Mean of empty slice.\n",
      "  return _methods._mean(a, axis=axis, dtype=dtype,\n",
      "/Users/arianemora/miniconda3/envs/minion/lib/python3.8/site-packages/numpy/core/_methods.py:192: RuntimeWarning: invalid value encountered in scalar divide\n",
      "  ret = ret.dtype.type(ret / rcount)\n",
      "100%|██████████████████████████████████████████████████████████████████████████████████████████████████████████████████████████████████████████████████████████████████████████████████████████████████████████████| 46/46 [00:06<00:00,  7.54it/s]\n",
      "/Users/arianemora/miniconda3/envs/minion/lib/python3.8/site-packages/levseq/simulation.py:310: RuntimeWarning: invalid value encountered in divide\n",
      "  variant_df['accuracy'] = np.array(corrects) / (np.array(corrects) + np.array(incorrects))\n"
     ]
    },
    {
     "name": "stdout",
     "output_type": "stream",
     "text": [
      "\n",
      "\n",
      "\n",
      "\n",
      "\n",
      "\n",
      "\n",
      "\n",
      "\n",
      "\n",
      "\n",
      "\n",
      "\n",
      "\n",
      "\n",
      "\n",
      "\n",
      "\n",
      "\n",
      "\n",
      "\n",
      "\n",
      "\n",
      "\n",
      "\n",
      "\n",
      "\n",
      "\n",
      "\n",
      "\n",
      "\n",
      "\n",
      "\n",
      "\n",
      "\n",
      "\n",
      "\n",
      "\n",
      "\n",
      "\n",
      "\n",
      "\n",
      "\n",
      "\n",
      "\n",
      "\n",
      "\n",
      "\n",
      "\n",
      "\n"
     ]
    },
    {
     "name": "stderr",
     "output_type": "stream",
     "text": [
      "  7%|██████████████▊                                                                                                                                                                                                | 6/84 [00:00<00:10,  7.62it/s]/Users/arianemora/miniconda3/envs/minion/lib/python3.8/site-packages/numpy/core/fromnumeric.py:3464: RuntimeWarning: Mean of empty slice.\n",
      "  return _methods._mean(a, axis=axis, dtype=dtype,\n",
      "/Users/arianemora/miniconda3/envs/minion/lib/python3.8/site-packages/numpy/core/_methods.py:192: RuntimeWarning: invalid value encountered in scalar divide\n",
      "  ret = ret.dtype.type(ret / rcount)\n",
      "100%|██████████████████████████████████████████████████████████████████████████████████████████████████████████████████████████████████████████████████████████████████████████████████████████████████████████████| 84/84 [00:11<00:00,  7.47it/s]\n",
      "/Users/arianemora/miniconda3/envs/minion/lib/python3.8/site-packages/levseq/simulation.py:310: RuntimeWarning: invalid value encountered in divide\n",
      "  variant_df['accuracy'] = np.array(corrects) / (np.array(corrects) + np.array(incorrects))\n"
     ]
    },
    {
     "name": "stdout",
     "output_type": "stream",
     "text": [
      "\n",
      "\n",
      "\n",
      "\n",
      "\n",
      "\n",
      "\n",
      "\n",
      "\n",
      "\n",
      "\n",
      "\n"
     ]
    },
    {
     "name": "stderr",
     "output_type": "stream",
     "text": [
      "100%|██████████████████████████████████████████████████████████████████████████████████████████████████████████████████████████████████████████████████████████████████████████████████████████████████████████████| 94/94 [00:12<00:00,  7.53it/s]\n",
      "/Users/arianemora/miniconda3/envs/minion/lib/python3.8/site-packages/levseq/simulation.py:310: RuntimeWarning: invalid value encountered in divide\n",
      "  variant_df['accuracy'] = np.array(corrects) / (np.array(corrects) + np.array(incorrects))\n"
     ]
    },
    {
     "name": "stdout",
     "output_type": "stream",
     "text": [
      "\n",
      "\n"
     ]
    },
    {
     "name": "stderr",
     "output_type": "stream",
     "text": [
      "100%|██████████████████████████████████████████████████████████████████████████████████████████████████████████████████████████████████████████████████████████████████████████████████████████████████████████████| 96/96 [00:12<00:00,  7.53it/s]\n",
      "100%|██████████████████████████████████████████████████████████████████████████████████████████████████████████████████████████████████████████████████████████████████████████████████████████████████████████████| 96/96 [00:12<00:00,  7.68it/s]\n",
      "100%|██████████████████████████████████████████████████████████████████████████████████████████████████████████████████████████████████████████████████████████████████████████████████████████████████████████████| 96/96 [00:12<00:00,  7.61it/s]\n",
      "100%|██████████████████████████████████████████████████████████████████████████████████████████████████████████████████████████████████████████████████████████████████████████████████████████████████████████████| 96/96 [00:12<00:00,  7.66it/s]\n",
      "100%|██████████████████████████████████████████████████████████████████████████████████████████████████████████████████████████████████████████████████████████████████████████████████████████████████████████████| 96/96 [00:12<00:00,  7.69it/s]\n",
      "100%|██████████████████████████████████████████████████████████████████████████████████████████████████████████████████████████████████████████████████████████████████████████████████████████████████████████████| 96/96 [00:12<00:00,  7.72it/s]\n",
      "100%|██████████████████████████████████████████████████████████████████████████████████████████████████████████████████████████████████████████████████████████████████████████████████████████████████████████████| 96/96 [00:12<00:00,  7.66it/s]\n"
     ]
    }
   ],
   "source": [
    "# We're going to make an experiment of 10 plates with different sequencing error rates\n",
    "read_depth = 10\n",
    "number_of_wells = 96\n",
    "epcr_mutation_rate = 0.02\n",
    "frequency_cutoff = 0.5\n",
    "library_number = 96 # Usually do a 96 well plate\n",
    "verbose = False\n",
    "sequencing_error = 0.1\n",
    "\n",
    "\n",
    "experiment_df = pd.DataFrame()\n",
    "for epcr_mutation_rate in range(1, 20, 2):\n",
    "    run_df = make_experiment(f'ePCR_{epcr_mutation_rate}', read_depth, sequencing_error, parent_sequence, library_number, number_of_wells, \n",
    "                             epcr_mutation_rate/1000.0, frequency_cutoff)\n",
    "    run_df.reset_index(inplace=True)\n",
    "    experiment_df = pd.concat([experiment_df, run_df])\n",
    "\n",
    " # Also plot each one\n",
    "experiment_df.to_csv(f'{data_dir}Experiment5_{label}.csv', index=False)\n"
   ]
  },
  {
   "cell_type": "markdown",
   "id": "39763798-a41f-4a76-ba47-7e74e849ad57",
   "metadata": {},
   "source": [
    "## Experiment 6: mixed well rates\n"
   ]
  },
  {
   "cell_type": "code",
   "execution_count": 14,
   "id": "24e3d30c-a6ba-4922-9158-5a13f1f36e37",
   "metadata": {},
   "outputs": [
    {
     "name": "stderr",
     "output_type": "stream",
     "text": [
      "100%|██████████████████████████████████████████████████████████████████████████████████████████████████████████████████████████████████████████████████████████████████████████████████████████████████████████████| 96/96 [00:13<00:00,  6.93it/s]\n",
      "100%|██████████████████████████████████████████████████████████████████████████████████████████████████████████████████████████████████████████████████████████████████████████████████████████████████████████████| 96/96 [00:13<00:00,  6.88it/s]\n",
      "100%|██████████████████████████████████████████████████████████████████████████████████████████████████████████████████████████████████████████████████████████████████████████████████████████████████████████████| 96/96 [00:13<00:00,  6.95it/s]\n",
      "100%|██████████████████████████████████████████████████████████████████████████████████████████████████████████████████████████████████████████████████████████████████████████████████████████████████████████████| 96/96 [00:13<00:00,  6.91it/s]\n",
      "100%|██████████████████████████████████████████████████████████████████████████████████████████████████████████████████████████████████████████████████████████████████████████████████████████████████████████████| 96/96 [00:13<00:00,  7.00it/s]\n",
      "100%|██████████████████████████████████████████████████████████████████████████████████████████████████████████████████████████████████████████████████████████████████████████████████████████████████████████████| 96/96 [00:13<00:00,  6.87it/s]\n",
      "100%|██████████████████████████████████████████████████████████████████████████████████████████████████████████████████████████████████████████████████████████████████████████████████████████████████████████████| 96/96 [00:13<00:00,  6.94it/s]\n",
      "100%|██████████████████████████████████████████████████████████████████████████████████████████████████████████████████████████████████████████████████████████████████████████████████████████████████████████████| 96/96 [00:13<00:00,  6.92it/s]\n"
     ]
    }
   ],
   "source": [
    "# We're going to make an experiment of 10 plates with different sequencing error rates\n",
    "read_depth = 10\n",
    "number_of_wells = 96\n",
    "epcr_mutation_rate = 0.02\n",
    "frequency_cutoff = 0.5\n",
    "library_number = 96 # Usually do a 96 well plate\n",
    "verbose = False\n",
    "sequencing_error = 0.1\n",
    "number_wells_to_mix = 20\n",
    "experiment_df = pd.DataFrame()\n",
    "\n",
    "for mixture_rate in range(10, 90, 10):\n",
    "    run_df = make_experiment(f'mixedWells_{mixture_rate}', read_depth, sequencing_error, parent_sequence, library_number, number_of_wells, \n",
    "                             epcr_mutation_rate, frequency_cutoff, number_wells_to_mix, mixture_rate/100.0, \n",
    "                             qc_files_path='/Users/arianemora/Documents/code/MinION/simulation/ePCR_QC/')\n",
    "    run_df.reset_index(inplace=True)\n",
    "    experiment_df = pd.concat([experiment_df, run_df])\n",
    "\n",
    " # Also plot each one\n",
    "experiment_df.to_csv(f'{data_dir}Experiment6_{label}.csv', index=False)\n"
   ]
  },
  {
   "cell_type": "code",
   "execution_count": 15,
   "id": "6ca2bbcd-4f5e-4c3d-949c-9bf26891f722",
   "metadata": {},
   "outputs": [
    {
     "name": "stderr",
     "output_type": "stream",
     "text": [
      "100%|██████████████████████████████████████████████████████████████████████████████████████████████████████████████████████████████████████████████████████████████████████████████████████████████████████████████| 96/96 [00:13<00:00,  6.92it/s]\n",
      "100%|██████████████████████████████████████████████████████████████████████████████████████████████████████████████████████████████████████████████████████████████████████████████████████████████████████████████| 96/96 [00:13<00:00,  6.92it/s]\n",
      "100%|██████████████████████████████████████████████████████████████████████████████████████████████████████████████████████████████████████████████████████████████████████████████████████████████████████████████| 96/96 [00:13<00:00,  6.93it/s]\n",
      "100%|██████████████████████████████████████████████████████████████████████████████████████████████████████████████████████████████████████████████████████████████████████████████████████████████████████████████| 96/96 [00:13<00:00,  6.93it/s]\n",
      "100%|██████████████████████████████████████████████████████████████████████████████████████████████████████████████████████████████████████████████████████████████████████████████████████████████████████████████| 96/96 [00:13<00:00,  6.94it/s]\n",
      "100%|██████████████████████████████████████████████████████████████████████████████████████████████████████████████████████████████████████████████████████████████████████████████████████████████████████████████| 96/96 [00:13<00:00,  6.93it/s]\n",
      "100%|██████████████████████████████████████████████████████████████████████████████████████████████████████████████████████████████████████████████████████████████████████████████████████████████████████████████| 96/96 [00:14<00:00,  6.85it/s]\n",
      "100%|██████████████████████████████████████████████████████████████████████████████████████████████████████████████████████████████████████████████████████████████████████████████████████████████████████████████| 96/96 [00:13<00:00,  6.92it/s]\n"
     ]
    }
   ],
   "source": [
    "# We're going to make an experiment of 10 plates with different sequencing error rates\n",
    "read_depth = 10\n",
    "number_of_wells = 96\n",
    "epcr_mutation_rate = 0.02\n",
    "frequency_cutoff = 0.2\n",
    "library_number = 96 # Usually do a 96 well plate\n",
    "verbose = False\n",
    "sequencing_error = 0.1\n",
    "number_wells_to_mix = 20\n",
    "experiment_df = pd.DataFrame()\n",
    "\n",
    "for mixture_rate in range(10, 90, 10):\n",
    "    run_df = make_experiment(f'mixedWells_{mixture_rate}', read_depth, sequencing_error, parent_sequence, library_number, number_of_wells, \n",
    "                             epcr_mutation_rate, frequency_cutoff, number_wells_to_mix, mixture_rate/100.0, \n",
    "                             qc_files_path='/Users/arianemora/Documents/code/MinION/simulation/ePCR_QC/')\n",
    "    run_df.reset_index(inplace=True)\n",
    "    experiment_df = pd.concat([experiment_df, run_df])\n",
    "\n",
    " # Also plot each one\n",
    "experiment_df.to_csv(f'{data_dir}Experiment6_freq_0.2_{label}.csv', index=False)\n"
   ]
  },
  {
   "cell_type": "code",
   "execution_count": 16,
   "id": "b203d6a1-d5fb-441e-a252-511adcae4a65",
   "metadata": {},
   "outputs": [
    {
     "name": "stderr",
     "output_type": "stream",
     "text": [
      "100%|██████████████████████████████████████████████████████████████████████████████████████████████████████████████████████████████████████████████████████████████████████████████████████████████████████████████| 96/96 [00:15<00:00,  6.27it/s]\n",
      "100%|██████████████████████████████████████████████████████████████████████████████████████████████████████████████████████████████████████████████████████████████████████████████████████████████████████████████| 96/96 [00:15<00:00,  6.25it/s]\n",
      "100%|██████████████████████████████████████████████████████████████████████████████████████████████████████████████████████████████████████████████████████████████████████████████████████████████████████████████| 96/96 [00:15<00:00,  6.34it/s]\n",
      "100%|██████████████████████████████████████████████████████████████████████████████████████████████████████████████████████████████████████████████████████████████████████████████████████████████████████████████| 96/96 [00:15<00:00,  6.24it/s]\n",
      "100%|██████████████████████████████████████████████████████████████████████████████████████████████████████████████████████████████████████████████████████████████████████████████████████████████████████████████| 96/96 [00:15<00:00,  6.31it/s]\n",
      "100%|██████████████████████████████████████████████████████████████████████████████████████████████████████████████████████████████████████████████████████████████████████████████████████████████████████████████| 96/96 [00:15<00:00,  6.25it/s]\n",
      "100%|██████████████████████████████████████████████████████████████████████████████████████████████████████████████████████████████████████████████████████████████████████████████████████████████████████████████| 96/96 [00:15<00:00,  6.30it/s]\n",
      "100%|██████████████████████████████████████████████████████████████████████████████████████████████████████████████████████████████████████████████████████████████████████████████████████████████████████████████| 96/96 [00:15<00:00,  6.28it/s]\n"
     ]
    }
   ],
   "source": [
    "# We're going to make an experiment of 10 plates with different sequencing error rates\n",
    "read_depth = 20\n",
    "number_of_wells = 96\n",
    "epcr_mutation_rate = 0.02\n",
    "frequency_cutoff = 0.5\n",
    "library_number = 96 # Usually do a 96 well plate\n",
    "verbose = False\n",
    "sequencing_error = 0.1\n",
    "number_wells_to_mix = 20\n",
    "experiment_df = pd.DataFrame()\n",
    "\n",
    "for mixture_rate in range(10, 90, 10):\n",
    "    run_df = make_experiment(f'mixedWells_{mixture_rate}', read_depth, sequencing_error, parent_sequence, library_number, number_of_wells, \n",
    "                             epcr_mutation_rate, frequency_cutoff, number_wells_to_mix, mixture_rate/100.0, \n",
    "                             qc_files_path='/Users/arianemora/Documents/code/MinION/simulation/ePCR_QC/')\n",
    "    run_df.reset_index(inplace=True)\n",
    "    experiment_df = pd.concat([experiment_df, run_df])\n",
    "\n",
    " # Also plot each one\n",
    "experiment_df.to_csv(f'{data_dir}Experiment6_freq_20_{label}.csv', index=False)\n"
   ]
  },
  {
   "cell_type": "code",
   "execution_count": null,
   "id": "5515bc4d-66b3-40d9-aa10-55551f20115c",
   "metadata": {},
   "outputs": [],
   "source": []
  },
  {
   "cell_type": "code",
   "execution_count": 17,
   "id": "08da7da9-5bb5-47c0-ac64-30f2d1a863cf",
   "metadata": {},
   "outputs": [
    {
     "name": "stderr",
     "output_type": "stream",
     "text": [
      "100%|██████████████████████████████████████████████████████████████████████████████████████████████████████████████████████████████████████████████████████████████████████████████████████████████████████████████| 96/96 [00:15<00:00,  6.30it/s]\n",
      "100%|██████████████████████████████████████████████████████████████████████████████████████████████████████████████████████████████████████████████████████████████████████████████████████████████████████████████| 96/96 [00:15<00:00,  6.36it/s]\n",
      "100%|██████████████████████████████████████████████████████████████████████████████████████████████████████████████████████████████████████████████████████████████████████████████████████████████████████████████| 96/96 [00:15<00:00,  6.31it/s]\n",
      "100%|██████████████████████████████████████████████████████████████████████████████████████████████████████████████████████████████████████████████████████████████████████████████████████████████████████████████| 96/96 [00:15<00:00,  6.31it/s]\n",
      "100%|██████████████████████████████████████████████████████████████████████████████████████████████████████████████████████████████████████████████████████████████████████████████████████████████████████████████| 96/96 [00:15<00:00,  6.24it/s]\n",
      "100%|██████████████████████████████████████████████████████████████████████████████████████████████████████████████████████████████████████████████████████████████████████████████████████████████████████████████| 96/96 [00:29<00:00,  3.22it/s]\n",
      "100%|████████████████████████████████████████████████████████████████████████████████████████████████████████████████████████████████████████████████████████████████████████████████████████████████████████████| 96/96 [01:07<00:00,  1.41it/s]\n",
      "100%|████████████████████████████████████████████████████████████████████████████████████████████████████████████████████████████████████████████████████████████████████████████████████████████████████████████| 96/96 [05:52<00:00,  3.67s/it]\n"
     ]
    }
   ],
   "source": [
    "# We're going to make an experiment of 10 plates with different sequencing error rates\n",
    "read_depth = 20\n",
    "number_of_wells = 96\n",
    "epcr_mutation_rate = 0.02\n",
    "frequency_cutoff = 0.2\n",
    "library_number = 96 # Usually do a 96 well plate\n",
    "verbose = False\n",
    "sequencing_error = 0.1\n",
    "number_wells_to_mix = 20\n",
    "experiment_df = pd.DataFrame()\n",
    "\n",
    "for mixture_rate in range(10, 90, 10):\n",
    "    run_df = make_experiment(f'mixedWells_{mixture_rate}', read_depth, sequencing_error, parent_sequence, library_number, number_of_wells, \n",
    "                             epcr_mutation_rate, frequency_cutoff, number_wells_to_mix, mixture_rate/100.0, \n",
    "                             qc_files_path='/Users/arianemora/Documents/code/MinION/simulation/ePCR_QC/')\n",
    "    run_df.reset_index(inplace=True)\n",
    "    experiment_df = pd.concat([experiment_df, run_df])\n",
    " # Also plot each one\n",
    "experiment_df.to_csv(f'{data_dir}Experiment6_freq_20_0.2_{label}.csv', index=False)\n"
   ]
  },
  {
   "cell_type": "code",
   "execution_count": null,
   "id": "e5023a16-d406-4b5c-8746-06b27c87b2a8",
   "metadata": {},
   "outputs": [],
   "source": []
  }
 ],
 "metadata": {
  "kernelspec": {
   "display_name": "Python 3 (ipykernel)",
   "language": "python",
   "name": "python3"
  },
  "language_info": {
   "codemirror_mode": {
    "name": "ipython",
    "version": 3
   },
   "file_extension": ".py",
   "mimetype": "text/x-python",
   "name": "python",
   "nbconvert_exporter": "python",
   "pygments_lexer": "ipython3",
   "version": "3.8.19"
  }
 },
 "nbformat": 4,
 "nbformat_minor": 5
}
